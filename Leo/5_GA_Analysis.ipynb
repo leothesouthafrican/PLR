{
 "cells": [
  {
   "cell_type": "markdown",
   "metadata": {},
   "source": [
    "# Table of Contents\n",
    "1. [Introduction](#introduction)\n",
    "2. [Objective and Challenges](#objective-and-challenges)\n",
    "    - [Primary Objective](#primary-objective)\n",
    "    - [Challenges](#challenges)\n",
    "3. [Genetic Algorithm (GA) Overview](#genetic-algorithm-ga-overview)\n",
    "    - [Why Genetic Algorithm?](#why-genetic-algorithm)\n",
    "    - [Mathematical Overview of Genetic Algorithm Optimization](#mathematical-overview-of-genetic-algorithm-optimization)\n",
    "4. [Why Autoencoders?](#why-autoencoders)\n",
    "5. [HDBSCAN Clustering](#hdbscan-clustering)\n",
    "6. [Modularity and Flexibility](#modularity-flexibility)\n",
    "7. [Results](#results)\n",
    "8. [Fitness Function Dilemma](#fitness-function-dilemma)\n",
    "9. [Future Work](#future-work)\n",
    "10. [Conclusion](#conclusion)\n"
   ]
  },
  {
   "cell_type": "markdown",
   "metadata": {},
   "source": [
    "# **Introduction**"
   ]
  },
  {
   "cell_type": "markdown",
   "metadata": {},
   "source": [
    "Efficiently categorizing patients based on their symptoms plays an integral role in facilitating accurate diagnosis, tailored treatments, and a deeper comprehension of various medical conditions. This notebook delves into the unique approach of amalgamating autoencoders with shallow clustering algorithms, particularly HDBSCAN. Furthermore, a pivotal component of our methodology is the optimization of feature selection—ensuring that only the most salient and informative symptoms are considered when clustering. Through the power of Genetic Algorithms, this pipeline not only refines the clustering mechanism but also intelligently identifies and prioritizes these key features for the process."
   ]
  },
  {
   "cell_type": "markdown",
   "metadata": {},
   "source": [
    "# **Objective and Challenges**"
   ]
  },
  {
   "cell_type": "markdown",
   "metadata": {},
   "source": [
    "\n",
    "\n",
    "\n",
    "## Primary Objective\n",
    "\n",
    "The ultimate goal of this research is to utilize a dataset of approximately 6,000 patients' responses to around 166 symptoms-related questions, to cluster these patients into distinct, meaningful groups. Such an endeavor, if successful, will not only provide valuable insights into common symptom groupings but might also pave the way for more targeted treatments and understanding of the underlying health conditions.\n",
    "\n",
    "## Challenges\n",
    "\n",
    "1. **Feature Relevance and Reduction**: With as many as 166 symptoms or features, one of the primary challenges is identifying which features are the most relevant for clustering. Using all the features might introduce noise, while arbitrarily discarding some might lose vital information.\n",
    "\n",
    "2. **Choice of Clustering Method**: Given the high dimensionality and potential non-linearity of the dataset, a simple clustering method might not suffice. Hence, there's a need to explore advanced methods like autoencoders to transform the dataset and then apply shallow clustering methods like HDBSCAN on the transformed data.\n",
    "\n",
    "3. **Optimization of Clustering Process**: Genetic Algorithms (GA) offer a promising approach to optimizing such complex processes. However, implementing GA involves its own set of challenges:\n",
    "- Deciding on the fitness function. The silhouette score was initially chosen, but its suitability remains debated.\n",
    "- Ensuring the GA is modular to allow the swapping of techniques, datasets, and fitness functions.\n",
    "- Optimizing the balance between exploration and exploitation in the GA, to ensure diverse solutions without getting trapped in local optima.\n",
    "\n",
    "4. **Clinical Relevance vs. Mathematical Optimization**: Even if a clustering solution achieves a high silhouette score, it may not necessarily be clinically relevant. There's a challenge in ensuring that the identified clusters make clinical sense and are not just mathematically distinct groupings. This may require iterative feedback from clinical experts and potential adjustments to the fitness function.\n",
    "\n",
    "5. **Scalability and Computation**: Working with a sizeable dataset with a high feature count means the clustering process can be computationally intensive. Ensuring the GA and clustering process is efficient and can be potentially scaled to even larger datasets is a pertinent challenge.\n",
    "\n",
    "6. **Future-proofing the Solution**: As new data becomes available or as the understanding of certain symptoms evolves, the clustering solution might need updates. Building a system that's easily adaptable to incorporate different clustering algorithms or additional data is a forward-looking challenge."
   ]
  },
  {
   "cell_type": "markdown",
   "metadata": {},
   "source": [
    "# **Genetic Algorithm (GA) Overview**"
   ]
  },
  {
   "cell_type": "markdown",
   "metadata": {},
   "source": [
    "## Why Genetic Algorithm?\n",
    "\n",
    "Genetic Algorithms (GAs) are inspired by the process of natural evolution and have proven to be exceptionally efficient in solving optimization problems, particularly in domains where the solution space is vast and complex. They work by simulating a process akin to natural selection, wherein a population of solutions is evolved over multiple generations to steadily improve upon a desired outcome.\n",
    "\n",
    "Several advantages make GAs stand out over mainstream optimization approaches:\n",
    "\n",
    "- **Global Optimization**: Unlike traditional optimization techniques which might get trapped in local optima, GAs have an inherent ability to explore the entire solution space, making them more likely to find global optima.\n",
    "- **Parallelism**: GAs work on a population of solutions simultaneously. This means multiple potential solutions are evaluated and evolved at the same time, hastening the search process.\n",
    "- **Adaptability**: GAs do not make any assumptions about the underlying fitness landscape. This makes them versatile and applicable to a variety of problems, even those with little prior knowledge.\n",
    "- **Dynamic and Flexible**: The operations of crossover, mutation, and selection introduce both exploration and exploitation in the search process, ensuring that the algorithm doesn't just focus on a small section of the solution space.\n",
    "\n",
    "## Mathematical Overview of Genetic Algorithm Optimization\n",
    "\n",
    "### 1. **Initialization**\n",
    "We start by initializing a population of `n` solutions/chromosomes.\n",
    "$$\n",
    "\\text{Population} = \\{C_1, C_2, \\dots, C_n\\}\n",
    "$$\n",
    "### 2. **Fitness Evaluation**\n",
    "Each solution or chromosome `C_i` in the population is evaluated using a fitness function `f`.\n",
    "$$\n",
    "\\text{fitness}(C_i) = f(C_i)\n",
    "$$\n",
    "### 3. **Selection**\n",
    "\n",
    "Selection is the process of choosing pairs of chromosomes based on their fitness. Typically, a chromosome with higher fitness has a higher chance of being selected. One common representation is the proportional selection:\n",
    "\n",
    "$$\n",
    "P(C_i) = \\frac{\\text{fitness}(C_i)}{\\sum_{j=1}^{n} \\text{fitness}(C_j)}\n",
    "$$\n",
    "\n",
    "Where \\( P(C_i) \\) is the probability of selecting chromosome `C_i`.\n",
    "\n",
    "#### Techniques for Selection:\n",
    "\n",
    "1. **Roulette Wheel Selection**: This method uses a probability mechanism where a large segment of the wheel goes to the chromosome with higher fitness. In other words, a chromosome with higher fitness is more likely to be selected.\n",
    "\n",
    "2. **Tournament Selection**: A set number of chromosomes, say `k`, are randomly selected from the population, and the chromosome with the highest fitness from this group is selected. This process is repeated to select the second chromosome.\n",
    "\n",
    "3. **Rank Selection**: Chromosomes are ranked based on their fitness, and selection is made based on their rank rather than their actual fitness values.\n",
    "\n",
    "4. **Elitism Selection**: The fittest chromosome (elite) is always selected. For diversity, the second chromosome can be randomly chosen.\n",
    "\n",
    "### 4. **Crossover (Recombination)**\n",
    "\n",
    "Once pairs of chromosomes are selected, they can be combined to produce offspring. Crossover is a method to combine the genetic information of two parents to produce one or more offspring.\n",
    "\n",
    "#### Techniques for Crossover:\n",
    "\n",
    "1. **One-point Crossover**: Two parents are chosen, and a crossover point is selected randomly. Everything before this point is taken from the first parent and everything after from the second parent to create the offspring.\n",
    "\n",
    "If:\n",
    "$$\n",
    "C_a = [a_1, a_2, \\dots, a_k, \\dots, a_m]\n",
    "$$\n",
    "and\n",
    "$$\n",
    "C_b = [b_1, b_2, \\dots, b_k, \\dots, b_m]\n",
    "$$\n",
    "A single-point crossover at point `k` produces:\n",
    "$$\n",
    "\\text{Offspring}_1 = [a_1, a_2, \\dots, a_k, b_{k+1}, \\dots, b_m]\n",
    "$$\n",
    "$$\n",
    "\\text{Offspring}_2 = [b_1, b_2, \\dots, b_k, a_{k+1}, \\dots, a_m]\n",
    "$$\n",
    "\n",
    "2. **Two-point Crossover**: Two points are selected randomly in the chromosome string. The section of the chromosome between these two points is swapped between the two parent chromosomes, producing two offspring.\n",
    "\n",
    "3. **Uniform Crossover**: For each bit in the chromosome, a coin is flipped. If heads, the bit is taken from the first parent, otherwise from the second parent.\n",
    "\n",
    "\n",
    "### 5. **Mutation**\n",
    "Mutation introduces small random changes in the offspring to maintain diversity in the population and avoid premature convergence. For a given gene `g` in a chromosome:\n",
    "$$\n",
    "g = \n",
    "\\begin{cases} \n",
    "1 & \\text{if } g = 0 \\\\\n",
    "0 & \\text{if } g = 1 \n",
    "\\end{cases}\n",
    "$$\n",
    "The above represents a bit-flip mutation for binary encoded chromosomes. This is the mutation that we used for the features in our dataset. However, there are other types of mutations as well, such as swapping two genes, adding a new gene, or deleting a gene.\n",
    "### 6. **Evolutionary Loop**\n",
    "These processes are repeated over many generations until a termination condition is met, such as reaching a maximum number of generations, achieving a desired fitness level, or no improvement in the best solution over a certain number of generations.\n",
    "\n",
    "## **Fitness Function**\n",
    "\n",
    "The silhouette score serves as our current fitness function, gauging how similar an object is to its cluster compared to other clusters. However, the appropriateness of this metric for our application remains an active area of discussion.\n",
    "\n",
    "#### Mathematical Formula:\n",
    "\n",
    "$$ s(i) = \\frac{b(i) - a(i)}{\\max\\{a(i), b(i)\\}} $$\n",
    "\n",
    "Where:\n",
    "- \\( s(i) \\) is the silhouette score for a single sample.\n",
    "- \\( a(i) \\) is the mean distance from the \\(i^{th}\\) sample to the other samples in the same cluster.\n",
    "- \\( b(i) \\) is the smallest mean distance from the \\(i^{th}\\) sample to samples in a different cluster, minimized over clusters.\n",
    "\n",
    "The silhouette score ranges from -1 to 1, where a high value indicates that the object is well matched to its cluster and poorly matched to neighboring clusters. If most objects have a high value, then the clustering configuration is deemed appropriate. If many points have a low or negative value, then the clustering configuration may have too many or too few clusters.\n",
    "\n",
    "#### Why Silhouette Score?\n",
    "\n",
    "The silhouette score is commonly used because it provides a concise measure of how well each object lies within its cluster. It is a measure of cohesion (how close objects are to other objects in the same cluster) and separation (how distant objects are from objects in other clusters). As a result, it offers an intuitive and easy-to-interpret metric for the quality of clusters. Furthermore, it doesn't require the true labels of the data points, making it versatile and suitable for unsupervised learning tasks such as clustering.\n",
    "\n"
   ]
  },
  {
   "cell_type": "markdown",
   "metadata": {},
   "source": [
    "# **Autoencoder Overview**\n",
    "\n",
    "Autoencoders are a category of neural networks designed for unsupervised learning tasks. Their main goal is to learn a compact representation (encoding) of the input data, and subsequently reconstruct the original input from this compact representation. This is achieved through a two-part architecture: the encoder, which compresses the input data, and the decoder, which reconstructs the original data.\n",
    "\n",
    "## Structure of Our Autoencoder\n",
    "\n",
    "Let's break down the structure of the autoencoder we're using:\n",
    "\n",
    "- **Encoder**: The encoder consists of a series of linear layers that reduce the input's dimensionality step by step. For each layer, the size of the input is halved, until it reaches a compressed representation.\n",
    "\n",
    "- **Decoder**: The decoder mirrors the encoder's structure, but in reverse. Starting with the compressed representation, each layer in the decoder doubles the size of its input, aiming to reconstruct the original data.\n",
    "\n",
    "- **Activation Function**: The ReLU activation function is used in both the encoder and decoder phases, introducing non-linearity into the network and helping capture complex patterns in the data.\n",
    "\n",
    "## Importance of Dimensionality Reduction\n",
    "\n",
    "Dimensionality reduction is crucial for a variety of reasons:\n",
    "\n",
    "1. **Data Compression**: Reducing the dimensions of data means it takes up less memory and disk space. This can be invaluable when dealing with large datasets.\n",
    "2. **Speeding Up Algorithms**: High-dimensional data can slow down learning algorithms, and by reducing dimensions, algorithms can run faster without necessarily sacrificing much accuracy.\n",
    "3. **Visualization**: Humans can't visualize high-dimensional spaces. By reducing dimensions (often to 2 or 3), we can plot and understand the data's structure.\n",
    "4. **Noise Reduction**: Dimensionality reduction can help in removing noise from data, as only the most important features (variances) are typically preserved.\n",
    "\n",
    "\n",
    "Autoencoders, in particular, are beneficial because they learn the most salient features of the data in an unsupervised manner. This can be particularly useful when labeled data is scarce, or when we're trying to uncover latent structures and patterns in the data that aren't immediately obvious.\n",
    "\n",
    "**Observation:** We noticed that the Genetic Algorithm (GA) prioritized reducing the data to relatively high latent spaces when given the flexibility. However, for the purpose of visualization, we constrained the latent space to 2 or 3 dimensions to effectively visualize the clusters."
   ]
  },
  {
   "cell_type": "code",
   "execution_count": 1,
   "metadata": {},
   "outputs": [
    {
     "name": "stdout",
     "output_type": "stream",
     "text": [
      "Autoencoder(\n",
      "  (encoder_layers): ModuleList(\n",
      "    (0): Linear(in_features=144, out_features=72, bias=True)\n",
      "    (1): Linear(in_features=72, out_features=36, bias=True)\n",
      "    (2): Linear(in_features=36, out_features=18, bias=True)\n",
      "    (3): Linear(in_features=18, out_features=9, bias=True)\n",
      "    (4): Linear(in_features=9, out_features=4, bias=True)\n",
      "  )\n",
      "  (decoder_layers): ModuleList(\n",
      "    (0): Linear(in_features=4, out_features=9, bias=True)\n",
      "    (1): Linear(in_features=9, out_features=18, bias=True)\n",
      "    (2): Linear(in_features=18, out_features=36, bias=True)\n",
      "    (3): Linear(in_features=36, out_features=72, bias=True)\n",
      "    (4): Linear(in_features=72, out_features=144, bias=True)\n",
      "  )\n",
      "  (relu): ReLU()\n",
      ")\n"
     ]
    }
   ],
   "source": [
    "import torch\n",
    "import torch.nn as nn\n",
    "\n",
    "class Autoencoder(nn.Module):\n",
    "    def __init__(self, input_size, depth=3):\n",
    "        super(Autoencoder, self).__init__()\n",
    "        # Ensure the depth is at least 1, as a minimum of 1 encoder and 1 decoder layer is required\n",
    "        assert depth >= 1, \"Depth must be at least 1\"\n",
    "\n",
    "        # Initialize list for encoder layers\n",
    "        # Encoder layers\n",
    "        # The first encoder layer halves the input size\n",
    "        self.encoder_layers = nn.ModuleList([nn.Linear(input_size, input_size // 2)])\n",
    "        \n",
    "        # Calculate sizes for additional encoder layers based on the provided depth\n",
    "        current_input_size = input_size // 2\n",
    "        for i in range(depth - 1):\n",
    "            next_input_size = current_input_size // 2\n",
    "            self.encoder_layers.append(nn.Linear(current_input_size, next_input_size))\n",
    "            current_input_size = next_input_size\n",
    "\n",
    "        # Initialize list for decoder layers\n",
    "        # Decoder layers\n",
    "        # The first decoder layer size is determined based on the final encoder layer size\n",
    "        self.decoder_layers = nn.ModuleList([nn.Linear(input_size // (2**depth), input_size // (2**(depth-1)))])\n",
    "        \n",
    "        # Calculate sizes for additional decoder layers, essentially reversing the encoder's size changes\n",
    "        for i in range(depth - 1, 0, -1):\n",
    "            self.decoder_layers.append(nn.Linear(input_size // (2**i), input_size // (2**(i-1))))\n",
    "\n",
    "        # Activation function to introduce non-linearity\n",
    "        self.relu = nn.ReLU()\n",
    "\n",
    "    def encode(self, x):\n",
    "        \"\"\"Function to pass the input through the encoder layers.\"\"\"\n",
    "        for i, layer in enumerate(self.encoder_layers):\n",
    "            x = self.relu(layer(x))\n",
    "        return x\n",
    "\n",
    "    def decode(self, x):\n",
    "        \"\"\"Function to pass the encoded input through the decoder layers to reconstruct the original input.\"\"\"\n",
    "        for i, layer in enumerate(self.decoder_layers):\n",
    "            x = self.relu(layer(x))\n",
    "        return x\n",
    "\n",
    "    def forward(self, x):\n",
    "        \"\"\"Forward pass through the autoencoder (encoder -> decoder).\"\"\"\n",
    "        x = self.encode(x)\n",
    "        x = self.decode(x)\n",
    "        return x\n",
    "    \n",
    "input_size = 144\n",
    "depth = 5\n",
    "model = Autoencoder(input_size, depth)\n",
    "print(model)\n"
   ]
  },
  {
   "cell_type": "markdown",
   "metadata": {},
   "source": [
    "# **HDBSCAN Overview**"
   ]
  },
  {
   "cell_type": "markdown",
   "metadata": {},
   "source": [
    "[HDBSCAN (Hierarchical Density-Based Spatial Clustering of Applications with Noise)](https://hdbscan.readthedocs.io/en/latest/) is an advanced clustering algorithm that operates based on the density of data points in a given space. It's essentially a hierarchal version of the DBSCAN algorithm but can determine clusters of varying densities, making it more adaptable and versatile.\n",
    "\n",
    "The core steps that HDBSCAN follows are:\n",
    "\n",
    "1. **Transform the space according to the density/sparsity.** This involves identifying regions of high density (or \"islands\") amidst areas of sparsity or noise. The aim here is to robustly distinguish 'sea' from 'land' without relying on a clustering output. \n",
    "2. **Build the minimum spanning tree of the distance-weighted graph.**\n",
    "3. **Construct a cluster hierarchy of connected components.**\n",
    "4. **Condense the cluster hierarchy based on minimum cluster size.** This is where the `min_size_clusters` parameter becomes pivotal. By optimizing this value through Genetic Algorithms, we ensure that the algorithm doesn't overlook smaller, yet significant clusters in our data.\n",
    "5. **Extract the stable clusters from the condensed tree.**\n",
    "\n",
    "For a more in-depth breakdown of these steps and how they play into the algorithm's inner workings, you can refer to the [HDBSCAN official documentation](https://hdbscan.readthedocs.io/en/latest/how_hdbscan_works.html).\n",
    "\n",
    "### Mathematical Representation\n",
    "\n",
    "The mathematical underpinnings of HDBSCAN revolve around density estimation and distance metrics. A central notion is that of the **core distance**, which is the distance to the \\( k \\)th nearest neighbor of a point \\( x \\). This is represented as:\n",
    "\n",
    "$$ \\mathrm{core}_k(x) $$\n",
    "\n",
    "Another vital concept is the **mutual reachability distance**. For two points \\( a \\) and \\( b \\), the mutual reachability distance is defined as:\n",
    "\n",
    "$$ d_{\\mathrm{mreach-}k}(a,b) = \\max \\{\\mathrm{core}_k(a), \\mathrm{core}_k(b), d(a,b) \\} $$\n",
    "\n",
    "where \\( d(a,b) \\) is the original metric distance between \\( a \\) and \\( b \\). Under this distance metric, dense points remain closely packed, while sparser points are pushed further apart, helping in the separation of dense clusters from noise.\n",
    "\n",
    "### Why optimize `min_size_clusters` in GA?\n",
    "\n",
    "The `min_size_clusters` parameter plays a crucial role in the HDBSCAN algorithm. It essentially determines the minimum number of samples required for a cluster to be considered valid. By optimizing this parameter, we aim to strike a balance between sensitivity to smaller, significant clusters and robustness against noisy data or outliers. Genetic Algorithms, with their evolutionary optimization approach, serve as an effective method to find the optimal value for `min_size_clusters`, ensuring that the clustering results are both accurate and meaningful for the given dataset.\n",
    "\n",
    "For a visual understanding and a deep dive into why HDBSCAN is effective, watch this informative video by PyData: \n",
    "[![HDBSCAN Explanation](https://img.youtube.com/vi/dGsxd67IFiU/0.jpg)](https://www.youtube.com/watch?v=dGsxd67IFiU&ab_channel=PyData)\n"
   ]
  },
  {
   "cell_type": "markdown",
   "metadata": {},
   "source": [
    "# 6. **Modularity and Flexibility of the Code**"
   ]
  },
  {
   "cell_type": "markdown",
   "metadata": {},
   "source": [
    "\n",
    "\n",
    "## 6.1 Code Design Philosophy\n",
    "\n",
    "When it comes to the application of machine learning techniques, especially in the medical field, a one-size-fits-all solution rarely suffices. The primary driver behind the design of this Genetic Algorithm (GA) was the recognition that different datasets, fitness metrics, clustering techniques, and overarching goals might necessitate modifications in approach. Therefore, this GA implementation emphasizes modularity and flexibility, ensuring that it remains adaptable to a myriad of requirements.\n",
    "\n",
    "### 6.2 Modularity Aspects:\n",
    "\n",
    "- **Parameter Configurability**: Parameters such as `population_size`, `n_generations`, and `mutation_rate` are configurable, allowing users to tune the GA according to the specific needs of their application.\n",
    "\n",
    "- **Flexible Dataset Integration**: By providing dataset access as a dictionary, different datasets can be easily swapped in and out. This facilitates experimentation and comparison of results across datasets without substantial code changes.\n",
    "\n",
    "- **Multiple Fitness Metrics**: The `score_metric` parameter allows for the seamless transition between different metrics. This is essential because, as research progresses, the appropriateness of one metric over another might shift.\n",
    "\n",
    "- **Dynamic Parent Selection & Crossover Methods**: The GA supports multiple methods for parent selection (`roulette`, `tournament`, `rank`, `elite`) and crossover (`one_point`, `two_point`, `uniform`), providing researchers with the flexibility to experiment with combinations that best suit their specific problem domain.\n",
    "\n",
    "### 6.3 Flexibility for Future Enhancements:\n",
    "\n",
    "- **Extensibility for Clustering Techniques**: While the current version uses HDBSCAN for clustering, the structure of the code allows for the integration of other clustering techniques in the future with minimal code changes.\n",
    "\n",
    "- **Integration of Advanced Fitness Metrics**: As the debate on the optimal fitness metric continues, new metrics or custom combinations can be integrated with ease, providing a pathway for continuous improvement and refinement.\n",
    "\n",
    "- **Scalability Concerns**: With the built-in support for multi-threading (`n_jobs` parameter), the code is ready to scale and handle larger datasets or more complex fitness evaluations.\n"
   ]
  },
  {
   "cell_type": "code",
   "execution_count": 2,
   "metadata": {},
   "outputs": [],
   "source": [
    "class GeneticAlgorithm:\n",
    "    \"\"\"\n",
    "    Implementation of a Genetic Algorithm (GA) for machine learning techniques.\n",
    "    \n",
    "    This GA class aims to provide modularity and flexibility to cater to different datasets, \n",
    "    fitness metrics, clustering techniques, and overarching goals in machine learning, \n",
    "    especially in the medical field.\n",
    "    \n",
    "    Attributes:\n",
    "    -----------\n",
    "    dataset : dict\n",
    "        A dictionary providing access to various datasets.\n",
    "    population_size : int, optional (default=100)\n",
    "        Size of the GA population.\n",
    "    n_generations : int, optional (default=20)\n",
    "        Number of generations for the GA evolution.\n",
    "    max_depth : int, optional (default=5)\n",
    "        Maximum depth of the trees used.\n",
    "    selection_rate : float, optional (default=0.3)\n",
    "        Proportion of the population to select for the next generation.\n",
    "    mutation_rate : float, optional (default=0.05)\n",
    "        Probability of mutating an individual in the population.\n",
    "    increased_mutation_rate : float, optional (default=0.2)\n",
    "        An increased rate of mutation for certain scenarios.\n",
    "    num_elites : int or None, optional\n",
    "        Number of elite individuals to retain. If None, the number is dynamically determined.\n",
    "    depth_range : tuple of (int, int), optional (default=(1, 5))\n",
    "        Min and max depth values.\n",
    "    latent_dim_range : tuple of (int, int), optional (default=(2, 128))\n",
    "        Range for the latent dimensions.\n",
    "    n_epochs : int, optional (default=20)\n",
    "        Number of epochs for training.\n",
    "    score_metric : callable, optional (default=silhouette_score)\n",
    "        Fitness metric function to evaluate the solutions.\n",
    "    clustering_algo : str, optional (default=\"hdbscan\")\n",
    "        Clustering algorithm used. Currently supports \"hdbscan\".\n",
    "    parent_selection_method : str, optional (default=\"roulette\")\n",
    "        Method to select parents. Supported values include \"roulette\", \"tournament\", \"rank\", \"elite\".\n",
    "    crossover_method : str, optional (default=\"one_point\")\n",
    "        Crossover method used during reproduction. Supported values include \"one_point\", \"two_point\", \"uniform\".\n",
    "    min_cluster_size_range : tuple of (int, int), optional (default=(2, 50))\n",
    "        Range for the minimum size of clusters.\n",
    "    learning_rate : float, optional (default=0.001)\n",
    "        Learning rate for optimization.\n",
    "    batch_size : int, optional (default=64)\n",
    "        Batch size for training.\n",
    "    device : torch.device, optional\n",
    "        Device for PyTorch computations, e.g., \"cuda\" or \"cpu\".\n",
    "    n_jobs : int, optional (default=-1)\n",
    "        Number of CPU cores used when parallelizing. If -1, all cores are used.\n",
    "    \n",
    "    \"\"\"\n",
    "    def __init__(self, dataset, population_size=100, n_generations=20, max_depth=5, selection_rate=0.3, mutation_rate=0.05, \n",
    "                 increased_mutation_rate=0.2, num_elites=None, depth_range=(1,5), latent_dim_range=(2, 128),\n",
    "                 n_epochs=20, score_metric=\"silhouette_score\", clustering_algo=\"hdbscan\", parent_selection_method=\"roulette\",\n",
    "                 crossover_method=\"one_point\",min_cluster_size_range=(2, 50), learning_rate=0.001, batch_size=64,\n",
    "                device = torch.device(\"cuda:0\" if torch.cuda.is_available() else \"cpu\"), n_jobs = -1):\n",
    "        pass"
   ]
  },
  {
   "cell_type": "markdown",
   "metadata": {},
   "source": [
    "# **Results**"
   ]
  },
  {
   "cell_type": "code",
   "execution_count": 3,
   "metadata": {},
   "outputs": [],
   "source": [
    "from gen_algo_opt_folder.results.result_lists import two_point_tournament, one_point_tournament1, one_point_tournament2, uniform_roulette, two_point_roulette, one_point_roulette\n",
    "from gen_algo_opt_folder.data_loading import load_data"
   ]
  },
  {
   "cell_type": "code",
   "execution_count": 4,
   "metadata": {},
   "outputs": [
    {
     "name": "stdout",
     "output_type": "stream",
     "text": [
      "{'Flag_MCAS': 6, 'Demographics_Gender_Cleaned_Man': 5, 'Demographics_Gender_Cleaned_Woman': 4, 'Demographics_Ancestry_Cleaned_Asian, South Asian, South East Asian': 5, 'Demographics_Ancestry_Cleaned_Black': 4, 'Demographics_Ancestry_Cleaned_Hispanic, Latino, or Spanish Origin': 4, 'Demographics_Ancestry_Cleaned_Multiple ancestries, not including white': 4, 'Demographics_Ancestry_Cleaned_White': 1, 'Demographics_Age_Cleaned_18-29': 3, 'Demographics_Age_Cleaned_40-49': 2, 'Demographics_Age_Cleaned_50-59': 4, 'Demographics_Age_Cleaned_60-69': 2, 'Demographics_Age_Cleaned_80+': 5, 'Flag_POTS_Definite, measured bpm > 30': 4, 'Flag_POTS_Possible, had tachycardia/palpitations': 2, 'Symptom_Memory_forget_tasks': 1, 'Symptom_Memory_other': 5, 'Symptom_Cognitive_Functioning_thinking': 3, 'Symptom_Cognitive_Functioning_fastthoughts': 5, 'Symptom_Cognitive_Functioning_agnosia': 1, 'Symptom_Speech_speaking_unrecognizable_words': 4, 'Symptom_Speech_changes_to_secondary_languages': 3, 'Symptom_Headaches_brain_pressure': 3, 'Symptom_Headaches_temples': 4, 'Symptom_Headaches_after_mental_exertion': 6, 'Symptom_Headaches_other': 5, 'Symptom_Phantom_smell': 4, 'Symptom_Phantom_taste': 3, 'Symptom_Night_sweats': 3, 'Symptom_Awakened_cannot_breathe': 4, 'Symptom_Vivid_dreams': 3, 'Symptom_Restless_leg': 5, 'Symptom_Lucid_dreams': 6, 'Symptom_Sleep_apnea': 5, 'Symptom_Waking_up_in_night': 3, 'Symptom_Sensations_numbness_one_sided_weakness': 5, 'Symptom_Sensations_facial_pressure_left': 4, 'Symptom_Sensations_facial_pressure_right': 2, 'Symptom_Temp_lability': 3, 'Symptom_Low_temp': 3, 'Symptom_Bulging_veins': 3, 'Symptom_Fainting': 4, 'Symptom_Dizziness_vertigo': 3, 'Symptom_Vomiting': 4, 'Symptom_Acid_reflux': 3, 'Symptom_Dry_cough': 4, 'Symptom_Hearing_loss': 2, 'Symptom_Tinnitus': 1, 'Symptom_Dermatographia': 4, 'Symptom_Muscle_aches': 4, 'Symptom_Bone_ache_burning': 4, 'Symptom_Inability_to_yawn': 2, 'Symptom_Difficulty_swallowing': 4, 'Symptom_Ear_changes_to_ear_canal': 4, 'Symptom_Other_ear_hearing_symptoms': 4, 'Symptom_Eye_Vision_double_vision': 3, 'Symptom_Eye_Vision_seeing_things_peripheral_vision': 4, 'Symptom_Reproductive_sexual_dysfunction': 5, 'Symptom_Reproductive_other_urinary_issues': 4, 'Symptom_Reproductive_other_menstrual_issues': 3, 'Symptom_SkinAllergy_heighted_reaction_allergies': 3, 'Symptom_SkinAllergy_brittle_nail': 3, 'Symptom_Change_sensitivity_to_meds': 3, 'Symptom_New_allergies': 5, 'Grouped_Cognitive_Memory': 2, 'Grouped_Eye_Vision': 2, 'FAS': 2, 'Demographics_Gender_Cleaned_Non-binary/Genderqueer/Gender non-conforming': 3, 'HasPeriods_No, other reason': 2, 'HasPeriods_No, post-menopausal': 2, 'HasPeriods_Yes': 3, 'Demographics_Ancestry_Cleaned_Other': 5, 'Demographics_Age_Cleaned_30-39': 2, 'Flag_POTS_No, no tachycardia': 2, 'FAS_cat_Fatigue': 3, 'FAS_cat_Minimal/No Fatigue': 4, 'FAS_cat_Substantial Fatigue': 3, 'Symptom_Memory_no_new_memories': 3, 'Symptom_Speech_difficulty_communicating_writing': 2, 'Symptom_Headaches_behind_eyes': 4, 'Symptom_Headaches_base_of_skull': 3, 'Symptom_Headaches_migraines': 4, 'Symptom_Headaches_brain_warmth': 2, 'Symptom_Nightmares': 4, 'Symptom_Difficulty_falling_asleep': 4, 'Symptom_Waking_up_early': 3, 'Symptom_Hallucinations_auditory': 4, 'Symptom_Sensations_coldness': 4, 'Symptom_Sensations_weakness': 1, 'Symptom_Fever': 4, 'Symptom_Chills_flushing_sweats': 4, 'Symptom_Cough_with_mucus': 1, 'Symptom_Pain_burning_chest': 3, 'Symptom_Sore_throat': 2, 'Symptom_Reproductive_all_menstrual_issues': 3, 'Symptom_Bladder_control': 2, 'Symptom_Peeling_skin': 1, 'Symptom_Petechiae': 2, 'Symptom_Skin_rashes': 4, 'Symptom_Skin_Allergy_other': 3, 'Symptom_Joint_pain': 4, 'Symptom_Ear_sensitivity_to_noise': 3, 'Symptom_Ear_ear_pain': 2, 'Symptom_Ear_numbness': 3, 'Symptom_Eye_Vision_floaters': 2, 'Symptom_Eye_Vision_pink_eye': 4, 'Symptom_Eye_Vision_bloodshot_eyes': 4, 'Symptom_SkinAllergy_other_itchy': 3, 'Flag_MECFS': 4, 'Grouped_Gastrointestinal': 1, 'Demographics_Age_Cleaned_70-79': 3, 'Symptom_Headaches_diffuse': 3, 'Symptom_Loss_of_taste': 3, 'Symptom_Altered_taste': 1, 'Symptom_Heightened_smell': 3, 'Symptom_Sensations_facial_pressure_other': 3, 'Symptom_Merged_temperature_other_temp_issues': 2, 'Symptom_Bradycardia': 3, 'Symptom_Covid_toes': 2, 'Symptom_Eye_Vision_redness_outside_eye': 2, 'Symptom_SkinAllergy_itchy_skin': 2, 'Grouped_Neuro_Sensory': 3, 'Cognitive_PEM_Severity': 3, 'Symptom_Cognitive_Functioning_other': 1, 'Symptom_Sleep_other': 2, 'Symptom_Hallucinations_visual': 3, 'Symptom_Heat_intolerance': 3, 'Symptom_Slurring_words': 2, 'Symptom_Constipation': 3, 'Symptom_Sneezing': 2, 'Symptom_Rattling_breath': 3, 'Symptom_Extreme_thirst': 3, 'Symptom_PEM': 1, 'Symptom_Speech_difficulty_speaking_complete_sentences': 1, 'Symptom_Headaches_stiff_neck': 1, 'Symptom_Acute_confusion': 1, 'Symptom_Respiratory_other': 1, 'Symptom_Eye_vision_symptoms': 1, 'Symptom_Changes_in_voice': 1, 'Demographics_Ancestry_Cleaned_Multiple ancestries, including white': 1, 'Flag_POTS_Likely, had higher bpm standing': 1, 'Symptom_Reproductive_abnormally_heavy_periods_clotting': 1, 'Grouped_Respiratory_Cardiac': 1}\n"
     ]
    }
   ],
   "source": [
    "# Combining all lists into one list for iteration\n",
    "all_lists = [two_point_tournament, one_point_tournament1, one_point_tournament2, uniform_roulette, two_point_roulette, one_point_roulette]\n",
    "\n",
    "# Initialize the master dictionary\n",
    "master_dict = {}\n",
    "\n",
    "# Iterate through each list and update the master dictionary\n",
    "for lst in all_lists:\n",
    "    for item in lst:\n",
    "        # Check if the item is a number (like depth, latent dimension, etc.)\n",
    "        if not isinstance(item, (int, float)):\n",
    "            # If not, increase its count in the master dictionary\n",
    "            master_dict[item] = master_dict.get(item, 0) + 1\n",
    "\n",
    "# Display the master dictionary\n",
    "print(master_dict)\n"
   ]
  },
  {
   "cell_type": "code",
   "execution_count": 5,
   "metadata": {},
   "outputs": [
    {
     "data": {
      "application/vnd.plotly.v1+json": {
       "config": {
        "plotlyServerURL": "https://plot.ly"
       },
       "data": [
        {
         "alignmentgroup": "True",
         "hovertemplate": "Items=%{x}<br>Counts=%{y}<extra></extra>",
         "legendgroup": "",
         "marker": {
          "color": "#636efa",
          "pattern": {
           "shape": ""
          }
         },
         "name": "",
         "offsetgroup": "",
         "orientation": "v",
         "showlegend": false,
         "textposition": "auto",
         "type": "bar",
         "x": [
          "Flag_MCAS",
          "Symptom_Headaches_after_mental_exertion",
          "Symptom_Lucid_dreams",
          "Demographics_Gender_Cleaned_Man",
          "Demographics_Ancestry_Cleaned_Asian, South Asian, South East Asian",
          "Demographics_Age_Cleaned_80+",
          "Symptom_Memory_other",
          "Symptom_Cognitive_Functioning_fastthoughts",
          "Symptom_Headaches_other",
          "Symptom_Restless_leg",
          "Symptom_Sleep_apnea",
          "Symptom_Sensations_numbness_one_sided_weakness",
          "Symptom_Reproductive_sexual_dysfunction",
          "Symptom_New_allergies",
          "Demographics_Ancestry_Cleaned_Other",
          "Demographics_Gender_Cleaned_Woman",
          "Demographics_Ancestry_Cleaned_Black",
          "Demographics_Ancestry_Cleaned_Hispanic, Latino, or Spanish Origin",
          "Demographics_Ancestry_Cleaned_Multiple ancestries, not including white",
          "Demographics_Age_Cleaned_50-59",
          "Flag_POTS_Definite, measured bpm > 30",
          "Symptom_Speech_speaking_unrecognizable_words",
          "Symptom_Headaches_temples",
          "Symptom_Phantom_smell",
          "Symptom_Awakened_cannot_breathe",
          "Symptom_Sensations_facial_pressure_left",
          "Symptom_Fainting",
          "Symptom_Vomiting",
          "Symptom_Dry_cough",
          "Symptom_Dermatographia",
          "Symptom_Muscle_aches",
          "Symptom_Bone_ache_burning",
          "Symptom_Difficulty_swallowing",
          "Symptom_Ear_changes_to_ear_canal",
          "Symptom_Other_ear_hearing_symptoms",
          "Symptom_Eye_Vision_seeing_things_peripheral_vision",
          "Symptom_Reproductive_other_urinary_issues",
          "FAS_cat_Minimal/No Fatigue",
          "Symptom_Headaches_behind_eyes",
          "Symptom_Headaches_migraines",
          "Symptom_Nightmares",
          "Symptom_Difficulty_falling_asleep",
          "Symptom_Hallucinations_auditory",
          "Symptom_Sensations_coldness",
          "Symptom_Fever",
          "Symptom_Chills_flushing_sweats",
          "Symptom_Skin_rashes",
          "Symptom_Joint_pain",
          "Symptom_Eye_Vision_pink_eye",
          "Symptom_Eye_Vision_bloodshot_eyes",
          "Flag_MECFS",
          "Demographics_Age_Cleaned_18-29",
          "Symptom_Cognitive_Functioning_thinking",
          "Symptom_Speech_changes_to_secondary_languages",
          "Symptom_Headaches_brain_pressure",
          "Symptom_Phantom_taste",
          "Symptom_Night_sweats",
          "Symptom_Vivid_dreams",
          "Symptom_Waking_up_in_night",
          "Symptom_Temp_lability",
          "Symptom_Low_temp",
          "Symptom_Bulging_veins",
          "Symptom_Dizziness_vertigo",
          "Symptom_Acid_reflux",
          "Symptom_Eye_Vision_double_vision",
          "Symptom_Reproductive_other_menstrual_issues",
          "Symptom_SkinAllergy_heighted_reaction_allergies",
          "Symptom_SkinAllergy_brittle_nail",
          "Symptom_Change_sensitivity_to_meds",
          "Demographics_Gender_Cleaned_Non-binary/Genderqueer/Gender non-conforming",
          "HasPeriods_Yes",
          "FAS_cat_Fatigue",
          "FAS_cat_Substantial Fatigue",
          "Symptom_Memory_no_new_memories",
          "Symptom_Headaches_base_of_skull",
          "Symptom_Waking_up_early",
          "Symptom_Pain_burning_chest",
          "Symptom_Reproductive_all_menstrual_issues",
          "Symptom_Skin_Allergy_other",
          "Symptom_Ear_sensitivity_to_noise",
          "Symptom_Ear_numbness",
          "Symptom_SkinAllergy_other_itchy",
          "Demographics_Age_Cleaned_70-79",
          "Symptom_Headaches_diffuse",
          "Symptom_Loss_of_taste",
          "Symptom_Heightened_smell",
          "Symptom_Sensations_facial_pressure_other",
          "Symptom_Bradycardia",
          "Grouped_Neuro_Sensory",
          "Cognitive_PEM_Severity",
          "Symptom_Hallucinations_visual",
          "Symptom_Heat_intolerance",
          "Symptom_Constipation",
          "Symptom_Rattling_breath",
          "Symptom_Extreme_thirst",
          "Demographics_Age_Cleaned_40-49",
          "Demographics_Age_Cleaned_60-69",
          "Flag_POTS_Possible, had tachycardia/palpitations",
          "Symptom_Sensations_facial_pressure_right",
          "Symptom_Hearing_loss",
          "Symptom_Inability_to_yawn",
          "Grouped_Cognitive_Memory",
          "Grouped_Eye_Vision",
          "FAS",
          "HasPeriods_No, other reason",
          "HasPeriods_No, post-menopausal",
          "Demographics_Age_Cleaned_30-39",
          "Flag_POTS_No, no tachycardia",
          "Symptom_Speech_difficulty_communicating_writing",
          "Symptom_Headaches_brain_warmth",
          "Symptom_Sore_throat",
          "Symptom_Bladder_control",
          "Symptom_Petechiae",
          "Symptom_Ear_ear_pain",
          "Symptom_Eye_Vision_floaters",
          "Symptom_Merged_temperature_other_temp_issues",
          "Symptom_Covid_toes",
          "Symptom_Eye_Vision_redness_outside_eye",
          "Symptom_SkinAllergy_itchy_skin",
          "Symptom_Sleep_other",
          "Symptom_Slurring_words",
          "Symptom_Sneezing",
          "Demographics_Ancestry_Cleaned_White",
          "Symptom_Memory_forget_tasks",
          "Symptom_Cognitive_Functioning_agnosia",
          "Symptom_Tinnitus",
          "Symptom_Sensations_weakness",
          "Symptom_Cough_with_mucus",
          "Symptom_Peeling_skin",
          "Grouped_Gastrointestinal",
          "Symptom_Altered_taste",
          "Symptom_Cognitive_Functioning_other",
          "Symptom_PEM",
          "Symptom_Speech_difficulty_speaking_complete_sentences",
          "Symptom_Headaches_stiff_neck",
          "Symptom_Acute_confusion",
          "Symptom_Respiratory_other",
          "Symptom_Eye_vision_symptoms",
          "Symptom_Changes_in_voice",
          "Demographics_Ancestry_Cleaned_Multiple ancestries, including white",
          "Flag_POTS_Likely, had higher bpm standing",
          "Symptom_Reproductive_abnormally_heavy_periods_clotting",
          "Grouped_Respiratory_Cardiac"
         ],
         "xaxis": "x",
         "y": [
          6,
          6,
          6,
          5,
          5,
          5,
          5,
          5,
          5,
          5,
          5,
          5,
          5,
          5,
          5,
          4,
          4,
          4,
          4,
          4,
          4,
          4,
          4,
          4,
          4,
          4,
          4,
          4,
          4,
          4,
          4,
          4,
          4,
          4,
          4,
          4,
          4,
          4,
          4,
          4,
          4,
          4,
          4,
          4,
          4,
          4,
          4,
          4,
          4,
          4,
          4,
          3,
          3,
          3,
          3,
          3,
          3,
          3,
          3,
          3,
          3,
          3,
          3,
          3,
          3,
          3,
          3,
          3,
          3,
          3,
          3,
          3,
          3,
          3,
          3,
          3,
          3,
          3,
          3,
          3,
          3,
          3,
          3,
          3,
          3,
          3,
          3,
          3,
          3,
          3,
          3,
          3,
          3,
          3,
          3,
          2,
          2,
          2,
          2,
          2,
          2,
          2,
          2,
          2,
          2,
          2,
          2,
          2,
          2,
          2,
          2,
          2,
          2,
          2,
          2,
          2,
          2,
          2,
          2,
          2,
          2,
          2,
          1,
          1,
          1,
          1,
          1,
          1,
          1,
          1,
          1,
          1,
          1,
          1,
          1,
          1,
          1,
          1,
          1,
          1,
          1,
          1,
          1
         ],
         "yaxis": "y"
        }
       ],
       "layout": {
        "barmode": "relative",
        "legend": {
         "tracegroupgap": 0
        },
        "template": {
         "data": {
          "bar": [
           {
            "error_x": {
             "color": "#2a3f5f"
            },
            "error_y": {
             "color": "#2a3f5f"
            },
            "marker": {
             "line": {
              "color": "#E5ECF6",
              "width": 0.5
             },
             "pattern": {
              "fillmode": "overlay",
              "size": 10,
              "solidity": 0.2
             }
            },
            "type": "bar"
           }
          ],
          "barpolar": [
           {
            "marker": {
             "line": {
              "color": "#E5ECF6",
              "width": 0.5
             },
             "pattern": {
              "fillmode": "overlay",
              "size": 10,
              "solidity": 0.2
             }
            },
            "type": "barpolar"
           }
          ],
          "carpet": [
           {
            "aaxis": {
             "endlinecolor": "#2a3f5f",
             "gridcolor": "white",
             "linecolor": "white",
             "minorgridcolor": "white",
             "startlinecolor": "#2a3f5f"
            },
            "baxis": {
             "endlinecolor": "#2a3f5f",
             "gridcolor": "white",
             "linecolor": "white",
             "minorgridcolor": "white",
             "startlinecolor": "#2a3f5f"
            },
            "type": "carpet"
           }
          ],
          "choropleth": [
           {
            "colorbar": {
             "outlinewidth": 0,
             "ticks": ""
            },
            "type": "choropleth"
           }
          ],
          "contour": [
           {
            "colorbar": {
             "outlinewidth": 0,
             "ticks": ""
            },
            "colorscale": [
             [
              0,
              "#0d0887"
             ],
             [
              0.1111111111111111,
              "#46039f"
             ],
             [
              0.2222222222222222,
              "#7201a8"
             ],
             [
              0.3333333333333333,
              "#9c179e"
             ],
             [
              0.4444444444444444,
              "#bd3786"
             ],
             [
              0.5555555555555556,
              "#d8576b"
             ],
             [
              0.6666666666666666,
              "#ed7953"
             ],
             [
              0.7777777777777778,
              "#fb9f3a"
             ],
             [
              0.8888888888888888,
              "#fdca26"
             ],
             [
              1,
              "#f0f921"
             ]
            ],
            "type": "contour"
           }
          ],
          "contourcarpet": [
           {
            "colorbar": {
             "outlinewidth": 0,
             "ticks": ""
            },
            "type": "contourcarpet"
           }
          ],
          "heatmap": [
           {
            "colorbar": {
             "outlinewidth": 0,
             "ticks": ""
            },
            "colorscale": [
             [
              0,
              "#0d0887"
             ],
             [
              0.1111111111111111,
              "#46039f"
             ],
             [
              0.2222222222222222,
              "#7201a8"
             ],
             [
              0.3333333333333333,
              "#9c179e"
             ],
             [
              0.4444444444444444,
              "#bd3786"
             ],
             [
              0.5555555555555556,
              "#d8576b"
             ],
             [
              0.6666666666666666,
              "#ed7953"
             ],
             [
              0.7777777777777778,
              "#fb9f3a"
             ],
             [
              0.8888888888888888,
              "#fdca26"
             ],
             [
              1,
              "#f0f921"
             ]
            ],
            "type": "heatmap"
           }
          ],
          "heatmapgl": [
           {
            "colorbar": {
             "outlinewidth": 0,
             "ticks": ""
            },
            "colorscale": [
             [
              0,
              "#0d0887"
             ],
             [
              0.1111111111111111,
              "#46039f"
             ],
             [
              0.2222222222222222,
              "#7201a8"
             ],
             [
              0.3333333333333333,
              "#9c179e"
             ],
             [
              0.4444444444444444,
              "#bd3786"
             ],
             [
              0.5555555555555556,
              "#d8576b"
             ],
             [
              0.6666666666666666,
              "#ed7953"
             ],
             [
              0.7777777777777778,
              "#fb9f3a"
             ],
             [
              0.8888888888888888,
              "#fdca26"
             ],
             [
              1,
              "#f0f921"
             ]
            ],
            "type": "heatmapgl"
           }
          ],
          "histogram": [
           {
            "marker": {
             "pattern": {
              "fillmode": "overlay",
              "size": 10,
              "solidity": 0.2
             }
            },
            "type": "histogram"
           }
          ],
          "histogram2d": [
           {
            "colorbar": {
             "outlinewidth": 0,
             "ticks": ""
            },
            "colorscale": [
             [
              0,
              "#0d0887"
             ],
             [
              0.1111111111111111,
              "#46039f"
             ],
             [
              0.2222222222222222,
              "#7201a8"
             ],
             [
              0.3333333333333333,
              "#9c179e"
             ],
             [
              0.4444444444444444,
              "#bd3786"
             ],
             [
              0.5555555555555556,
              "#d8576b"
             ],
             [
              0.6666666666666666,
              "#ed7953"
             ],
             [
              0.7777777777777778,
              "#fb9f3a"
             ],
             [
              0.8888888888888888,
              "#fdca26"
             ],
             [
              1,
              "#f0f921"
             ]
            ],
            "type": "histogram2d"
           }
          ],
          "histogram2dcontour": [
           {
            "colorbar": {
             "outlinewidth": 0,
             "ticks": ""
            },
            "colorscale": [
             [
              0,
              "#0d0887"
             ],
             [
              0.1111111111111111,
              "#46039f"
             ],
             [
              0.2222222222222222,
              "#7201a8"
             ],
             [
              0.3333333333333333,
              "#9c179e"
             ],
             [
              0.4444444444444444,
              "#bd3786"
             ],
             [
              0.5555555555555556,
              "#d8576b"
             ],
             [
              0.6666666666666666,
              "#ed7953"
             ],
             [
              0.7777777777777778,
              "#fb9f3a"
             ],
             [
              0.8888888888888888,
              "#fdca26"
             ],
             [
              1,
              "#f0f921"
             ]
            ],
            "type": "histogram2dcontour"
           }
          ],
          "mesh3d": [
           {
            "colorbar": {
             "outlinewidth": 0,
             "ticks": ""
            },
            "type": "mesh3d"
           }
          ],
          "parcoords": [
           {
            "line": {
             "colorbar": {
              "outlinewidth": 0,
              "ticks": ""
             }
            },
            "type": "parcoords"
           }
          ],
          "pie": [
           {
            "automargin": true,
            "type": "pie"
           }
          ],
          "scatter": [
           {
            "fillpattern": {
             "fillmode": "overlay",
             "size": 10,
             "solidity": 0.2
            },
            "type": "scatter"
           }
          ],
          "scatter3d": [
           {
            "line": {
             "colorbar": {
              "outlinewidth": 0,
              "ticks": ""
             }
            },
            "marker": {
             "colorbar": {
              "outlinewidth": 0,
              "ticks": ""
             }
            },
            "type": "scatter3d"
           }
          ],
          "scattercarpet": [
           {
            "marker": {
             "colorbar": {
              "outlinewidth": 0,
              "ticks": ""
             }
            },
            "type": "scattercarpet"
           }
          ],
          "scattergeo": [
           {
            "marker": {
             "colorbar": {
              "outlinewidth": 0,
              "ticks": ""
             }
            },
            "type": "scattergeo"
           }
          ],
          "scattergl": [
           {
            "marker": {
             "colorbar": {
              "outlinewidth": 0,
              "ticks": ""
             }
            },
            "type": "scattergl"
           }
          ],
          "scattermapbox": [
           {
            "marker": {
             "colorbar": {
              "outlinewidth": 0,
              "ticks": ""
             }
            },
            "type": "scattermapbox"
           }
          ],
          "scatterpolar": [
           {
            "marker": {
             "colorbar": {
              "outlinewidth": 0,
              "ticks": ""
             }
            },
            "type": "scatterpolar"
           }
          ],
          "scatterpolargl": [
           {
            "marker": {
             "colorbar": {
              "outlinewidth": 0,
              "ticks": ""
             }
            },
            "type": "scatterpolargl"
           }
          ],
          "scatterternary": [
           {
            "marker": {
             "colorbar": {
              "outlinewidth": 0,
              "ticks": ""
             }
            },
            "type": "scatterternary"
           }
          ],
          "surface": [
           {
            "colorbar": {
             "outlinewidth": 0,
             "ticks": ""
            },
            "colorscale": [
             [
              0,
              "#0d0887"
             ],
             [
              0.1111111111111111,
              "#46039f"
             ],
             [
              0.2222222222222222,
              "#7201a8"
             ],
             [
              0.3333333333333333,
              "#9c179e"
             ],
             [
              0.4444444444444444,
              "#bd3786"
             ],
             [
              0.5555555555555556,
              "#d8576b"
             ],
             [
              0.6666666666666666,
              "#ed7953"
             ],
             [
              0.7777777777777778,
              "#fb9f3a"
             ],
             [
              0.8888888888888888,
              "#fdca26"
             ],
             [
              1,
              "#f0f921"
             ]
            ],
            "type": "surface"
           }
          ],
          "table": [
           {
            "cells": {
             "fill": {
              "color": "#EBF0F8"
             },
             "line": {
              "color": "white"
             }
            },
            "header": {
             "fill": {
              "color": "#C8D4E3"
             },
             "line": {
              "color": "white"
             }
            },
            "type": "table"
           }
          ]
         },
         "layout": {
          "annotationdefaults": {
           "arrowcolor": "#2a3f5f",
           "arrowhead": 0,
           "arrowwidth": 1
          },
          "autotypenumbers": "strict",
          "coloraxis": {
           "colorbar": {
            "outlinewidth": 0,
            "ticks": ""
           }
          },
          "colorscale": {
           "diverging": [
            [
             0,
             "#8e0152"
            ],
            [
             0.1,
             "#c51b7d"
            ],
            [
             0.2,
             "#de77ae"
            ],
            [
             0.3,
             "#f1b6da"
            ],
            [
             0.4,
             "#fde0ef"
            ],
            [
             0.5,
             "#f7f7f7"
            ],
            [
             0.6,
             "#e6f5d0"
            ],
            [
             0.7,
             "#b8e186"
            ],
            [
             0.8,
             "#7fbc41"
            ],
            [
             0.9,
             "#4d9221"
            ],
            [
             1,
             "#276419"
            ]
           ],
           "sequential": [
            [
             0,
             "#0d0887"
            ],
            [
             0.1111111111111111,
             "#46039f"
            ],
            [
             0.2222222222222222,
             "#7201a8"
            ],
            [
             0.3333333333333333,
             "#9c179e"
            ],
            [
             0.4444444444444444,
             "#bd3786"
            ],
            [
             0.5555555555555556,
             "#d8576b"
            ],
            [
             0.6666666666666666,
             "#ed7953"
            ],
            [
             0.7777777777777778,
             "#fb9f3a"
            ],
            [
             0.8888888888888888,
             "#fdca26"
            ],
            [
             1,
             "#f0f921"
            ]
           ],
           "sequentialminus": [
            [
             0,
             "#0d0887"
            ],
            [
             0.1111111111111111,
             "#46039f"
            ],
            [
             0.2222222222222222,
             "#7201a8"
            ],
            [
             0.3333333333333333,
             "#9c179e"
            ],
            [
             0.4444444444444444,
             "#bd3786"
            ],
            [
             0.5555555555555556,
             "#d8576b"
            ],
            [
             0.6666666666666666,
             "#ed7953"
            ],
            [
             0.7777777777777778,
             "#fb9f3a"
            ],
            [
             0.8888888888888888,
             "#fdca26"
            ],
            [
             1,
             "#f0f921"
            ]
           ]
          },
          "colorway": [
           "#636efa",
           "#EF553B",
           "#00cc96",
           "#ab63fa",
           "#FFA15A",
           "#19d3f3",
           "#FF6692",
           "#B6E880",
           "#FF97FF",
           "#FECB52"
          ],
          "font": {
           "color": "#2a3f5f"
          },
          "geo": {
           "bgcolor": "white",
           "lakecolor": "white",
           "landcolor": "#E5ECF6",
           "showlakes": true,
           "showland": true,
           "subunitcolor": "white"
          },
          "hoverlabel": {
           "align": "left"
          },
          "hovermode": "closest",
          "mapbox": {
           "style": "light"
          },
          "paper_bgcolor": "white",
          "plot_bgcolor": "#E5ECF6",
          "polar": {
           "angularaxis": {
            "gridcolor": "white",
            "linecolor": "white",
            "ticks": ""
           },
           "bgcolor": "#E5ECF6",
           "radialaxis": {
            "gridcolor": "white",
            "linecolor": "white",
            "ticks": ""
           }
          },
          "scene": {
           "xaxis": {
            "backgroundcolor": "#E5ECF6",
            "gridcolor": "white",
            "gridwidth": 2,
            "linecolor": "white",
            "showbackground": true,
            "ticks": "",
            "zerolinecolor": "white"
           },
           "yaxis": {
            "backgroundcolor": "#E5ECF6",
            "gridcolor": "white",
            "gridwidth": 2,
            "linecolor": "white",
            "showbackground": true,
            "ticks": "",
            "zerolinecolor": "white"
           },
           "zaxis": {
            "backgroundcolor": "#E5ECF6",
            "gridcolor": "white",
            "gridwidth": 2,
            "linecolor": "white",
            "showbackground": true,
            "ticks": "",
            "zerolinecolor": "white"
           }
          },
          "shapedefaults": {
           "line": {
            "color": "#2a3f5f"
           }
          },
          "ternary": {
           "aaxis": {
            "gridcolor": "white",
            "linecolor": "white",
            "ticks": ""
           },
           "baxis": {
            "gridcolor": "white",
            "linecolor": "white",
            "ticks": ""
           },
           "bgcolor": "#E5ECF6",
           "caxis": {
            "gridcolor": "white",
            "linecolor": "white",
            "ticks": ""
           }
          },
          "title": {
           "x": 0.05
          },
          "xaxis": {
           "automargin": true,
           "gridcolor": "white",
           "linecolor": "white",
           "ticks": "",
           "title": {
            "standoff": 15
           },
           "zerolinecolor": "white",
           "zerolinewidth": 2
          },
          "yaxis": {
           "automargin": true,
           "gridcolor": "white",
           "linecolor": "white",
           "ticks": "",
           "title": {
            "standoff": 15
           },
           "zerolinecolor": "white",
           "zerolinewidth": 2
          }
         }
        },
        "title": {
         "text": "Occurrences of Items Across Lists"
        },
        "xaxis": {
         "anchor": "y",
         "domain": [
          0,
          1
         ],
         "title": {
          "text": "Items"
         }
        },
        "yaxis": {
         "anchor": "x",
         "domain": [
          0,
          1
         ],
         "title": {
          "text": "Counts"
         }
        }
       }
      }
     },
     "metadata": {},
     "output_type": "display_data"
    }
   ],
   "source": [
    "import pandas as pd\n",
    "import plotly.express as px\n",
    "\n",
    "# Assuming you have these lists defined somewhere in your code\n",
    "# two_point_tournament, one_point_tournament1, one_point_tournament2, \n",
    "# uniform_roulette, two_point_roulette, one_point_roulette\n",
    "\n",
    "# Combining all lists into one list for iteration\n",
    "all_lists = [two_point_tournament, one_point_tournament1, one_point_tournament2, \n",
    "             uniform_roulette, two_point_roulette, one_point_roulette]\n",
    "\n",
    "# Initialize the master dictionary\n",
    "master_dict = {}\n",
    "\n",
    "# Iterate through each list and update the master dictionary\n",
    "for lst in all_lists:\n",
    "    for item in lst:\n",
    "        # Check if the item is a number (like depth, latent dimension, etc.)\n",
    "        if not isinstance(item, (int, float)):\n",
    "            # If not, increase its count in the master dictionary\n",
    "            master_dict[item] = master_dict.get(item, 0) + 1\n",
    "\n",
    "# Sort master_dict by occurrences (values) in descending order\n",
    "sorted_items = sorted(master_dict.items(), key=lambda x: x[1], reverse=True)\n",
    "items, counts = zip(*sorted_items)  # Unzip items and counts\n",
    "\n",
    "# Convert items and counts to a DataFrame for Plotly\n",
    "df = pd.DataFrame({'Items': items, 'Counts': counts})\n",
    "\n",
    "# Create an interactive bar chart\n",
    "fig = px.bar(df, x='Items', y='Counts', title='Occurrences of Items Across Lists')\n",
    "fig.show()"
   ]
  },
  {
   "cell_type": "code",
   "execution_count": 6,
   "metadata": {},
   "outputs": [],
   "source": [
    "data = load_data()"
   ]
  },
  {
   "cell_type": "code",
   "execution_count": 10,
   "metadata": {},
   "outputs": [
    {
     "data": {
      "text/plain": [
       "Index(['Symptom_PEM', 'FAS', 'Cognitive_PEM_Severity', 'Physical_PEM_Severity',\n",
       "       'Flag_MCAS', 'HasPeriods_No, other reason',\n",
       "       'HasPeriods_No, post-menopausal', 'HasPeriods_Yes',\n",
       "       'Demographics_Ancestry_Cleaned_Asian, South Asian, South East Asian',\n",
       "       'Demographics_Ancestry_Cleaned_Black',\n",
       "       ...\n",
       "       'Symptom_SkinAllergy_brittle_nail', 'Symptom_SkinAllergy_other_itchy',\n",
       "       'Symptom_Change_sensitivity_to_meds', 'Symptom_New_allergies',\n",
       "       'Flag_MECFS', 'Grouped_Neuro_Sensory', 'Grouped_Cognitive_Memory',\n",
       "       'Grouped_Gastrointestinal', 'Grouped_Respiratory_Cardiac',\n",
       "       'Grouped_Eye_Vision'],\n",
       "      dtype='object', length=141)"
      ]
     },
     "execution_count": 10,
     "metadata": {},
     "output_type": "execute_result"
    }
   ],
   "source": [
    "data[\"data_symp_groups_all\"].columns"
   ]
  },
  {
   "cell_type": "markdown",
   "metadata": {},
   "source": [
    "$$\n",
    "CRS(C) = \\frac{1}{|C|} \\sum_{i \\in C} \\max_{j} H(i, PC_j)\n",
    "$$\n"
   ]
  },
  {
   "cell_type": "markdown",
   "metadata": {},
   "source": []
  }
 ],
 "metadata": {
  "kernelspec": {
   "display_name": "env",
   "language": "python",
   "name": "python3"
  },
  "language_info": {
   "codemirror_mode": {
    "name": "ipython",
    "version": 3
   },
   "file_extension": ".py",
   "mimetype": "text/x-python",
   "name": "python",
   "nbconvert_exporter": "python",
   "pygments_lexer": "ipython3",
   "version": "3.11.4"
  },
  "orig_nbformat": 4
 },
 "nbformat": 4,
 "nbformat_minor": 2
}

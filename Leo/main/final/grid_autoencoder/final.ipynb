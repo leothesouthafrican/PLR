{
 "cells": [
  {
   "cell_type": "code",
   "execution_count": 10,
   "metadata": {},
   "outputs": [],
   "source": [
    "import pandas as pd\n",
    "import numpy as np\n",
    "import os\n",
    "import hdbscan\n",
    "\n",
    "# Load the original data\n",
    "dataset_path = '/Users/leo/Programming/PLR/Leo/data/cleaned_data_SYMPTOMS_9_13_23.csv'\n",
    "original_data = pd.read_csv(dataset_path)\n",
    "\n",
    "# Load the encoded data\n",
    "encoded_data_path = '/Users/leo/Programming/PLR/Leo/main/final/grid_autoencoder/final_embedding/encoded_data_5_5.npy'\n",
    "data_encoded = np.load(encoded_data_path)\n",
    "\n",
    "# Apply HDBSCAN with the best parameters\n",
    "clusterer = hdbscan.HDBSCAN(min_cluster_size=37, min_samples=6)\n",
    "cluster_labels = clusterer.fit_predict(data_encoded)\n",
    "\n",
    "# Add the cluster labels to the original data\n",
    "original_data['cluster'] = cluster_labels\n",
    "\n",
    "#save the data\n",
    "original_data.to_csv('/Users/leo/Programming/PLR/Leo/main/final/full_data_clustered.csv', index=False)"
   ]
  },
  {
   "cell_type": "code",
   "execution_count": 9,
   "metadata": {},
   "outputs": [
    {
     "name": "stdout",
     "output_type": "stream",
     "text": [
      "Data saved to /Users/leo/Programming/PLR/clusterings/leo/clustered_data.csv\n"
     ]
    }
   ],
   "source": [
    "# Create a new DataFrame with only 'Unnamed: 0' and 'cluster' columns\n",
    "data_to_save = original_data[['Unnamed: 0', 'cluster']]\n",
    "\n",
    "# Define the save directory and file name\n",
    "save_dir = '/Users/leo/Programming/PLR/clusterings/leo'\n",
    "os.makedirs(save_dir, exist_ok=True)  # Create the directory if it doesn't exist\n",
    "save_path = os.path.join(save_dir, 'clustered_data.csv')\n",
    "\n",
    "# Save the DataFrame to CSV\n",
    "data_to_save.to_csv(save_path, index=False)\n",
    "print(f\"Data saved to {save_path}\")"
   ]
  }
 ],
 "metadata": {
  "kernelspec": {
   "display_name": "env",
   "language": "python",
   "name": "python3"
  },
  "language_info": {
   "codemirror_mode": {
    "name": "ipython",
    "version": 3
   },
   "file_extension": ".py",
   "mimetype": "text/x-python",
   "name": "python",
   "nbconvert_exporter": "python",
   "pygments_lexer": "ipython3",
   "version": "3.11.4"
  }
 },
 "nbformat": 4,
 "nbformat_minor": 2
}

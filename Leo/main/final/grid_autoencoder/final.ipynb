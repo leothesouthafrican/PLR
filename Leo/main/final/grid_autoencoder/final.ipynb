{
 "cells": [
  {
   "cell_type": "code",
   "execution_count": 1,
   "metadata": {},
   "outputs": [],
   "source": [
    "import pandas as pd\n",
    "import numpy as np\n",
    "import os\n",
    "import hdbscan\n",
    "\n",
    "# Load the original data\n",
    "dataset_path = '/Users/leo/Programming/PLR/Leo/data/cleaned_data_SYMPTOMS_9_13_23.csv'\n",
    "original_data = pd.read_csv(dataset_path)\n",
    "\n",
    "# Load the encoded data\n",
    "encoded_data_path = '/Users/leo/Programming/PLR/Leo/main/final/grid_autoencoder/final_embedding/encoded_data_5_5.npy'\n",
    "data_encoded = np.load(encoded_data_path)\n",
    "\n",
    "# Apply HDBSCAN with the best parameters\n",
    "clusterer = hdbscan.HDBSCAN(min_cluster_size=37, min_samples=6)\n",
    "cluster_labels = clusterer.fit_predict(data_encoded)\n",
    "\n",
    "# Add the cluster labels to the original data\n",
    "original_data['cluster'] = cluster_labels"
   ]
  },
  {
   "cell_type": "code",
   "execution_count": 2,
   "metadata": {},
   "outputs": [
    {
     "name": "stdout",
     "output_type": "stream",
     "text": [
      "Data saved to /Users/leo/Programming/PLR/clusterings/leo/clustered_data.csv\n"
     ]
    }
   ],
   "source": [
    "# Create a new DataFrame with only 'Unnamed: 0' and 'cluster' columns\n",
    "data_to_save = original_data[['Unnamed: 0', 'cluster']]\n",
    "\n",
    "# Define the save directory and file name\n",
    "save_dir = '/Users/leo/Programming/PLR/clusterings/leo'\n",
    "os.makedirs(save_dir, exist_ok=True)  # Create the directory if it doesn't exist\n",
    "save_path = os.path.join(save_dir, 'clustered_data.csv')\n",
    "\n",
    "# Save the DataFrame to CSV\n",
    "data_to_save.to_csv(save_path, index=False)\n",
    "print(f\"Data saved to {save_path}\")"
   ]
  },
  {
   "cell_type": "code",
   "execution_count": 3,
   "metadata": {},
   "outputs": [
    {
     "name": "stdout",
     "output_type": "stream",
     "text": [
      "Unnamed: 0\n",
      "Symptom_Memory_short\n",
      "Symptom_Memory_long\n",
      "Symptom_Memory_no_new_memories\n",
      "Symptom_Memory_forget_tasks\n",
      "Symptom_Memory_other\n",
      "Symptom_Cognitive_Functioning_thinking\n",
      "Symptom_Cognitive_Functioning_executive\n",
      "Symptom_Cognitive_Functioning_problemsolving\n",
      "Symptom_Cognitive_Functioning_slowedthoughts\n",
      "Symptom_Cognitive_Functioning_fastthoughts\n",
      "Symptom_Cognitive_Functioning_agnosia\n",
      "Symptom_Cognitive_Functioning_attentionconcentration\n",
      "Symptom_Cognitive_Functioning_other\n",
      "Symptom_Speech_difficulty_finding_words\n",
      "Symptom_Speech_difficulty_communicating_verbally\n",
      "Symptom_Speech_difficulty_reading_processing_text\n",
      "Symptom_Speech_difficulty_understanding_others_speech\n",
      "Symptom_Speech_difficulty_speaking_complete_sentences\n",
      "Symptom_Speech_speaking_unrecognizable_words\n",
      "Symptom_Speech_difficulty_communicating_writing\n",
      "Symptom_Speech_changes_to_secondary_languages\n",
      "Symptom_Speech_other\n",
      "Symptom_Headaches_behind_eyes\n",
      "Symptom_Headaches_stiff_neck\n",
      "Symptom_Headaches_brain_pressure\n",
      "Symptom_Headaches_diffuse\n",
      "Symptom_Headaches_temples\n",
      "Symptom_Headaches_base_of_skull\n",
      "Symptom_Headaches_after_mental_exertion\n",
      "Symptom_Headaches_migraines\n",
      "Symptom_Headaches_other\n",
      "Symptom_Headaches_brain_warmth\n",
      "Symptom_Loss_of_smell\n",
      "Symptom_Loss_of_taste\n",
      "Symptom_Altered_taste\n",
      "Symptom_Phantom_smell\n",
      "Symptom_Altered_smell\n",
      "Symptom_Phantom_taste\n",
      "Symptom_Heightened_smell\n",
      "Symptom_Heightened_taste\n",
      "Symptom_Vibrating_sensations\n",
      "Symptom_Tremors\n",
      "Symptom_Insomnia\n",
      "Symptom_Night_sweats\n",
      "Symptom_Awakened_cannot_breathe\n",
      "Symptom_Vivid_dreams\n",
      "Symptom_Nightmares\n",
      "Symptom_Restless_leg\n",
      "Symptom_Lucid_dreams\n",
      "Symptom_Sleep_apnea\n",
      "Symptom_Sleep_other\n",
      "Symptom_Difficulty_falling_asleep\n",
      "Symptom_Waking_up_early\n",
      "Symptom_Waking_up_in_night\n",
      "Symptom_Hallucinations_visual\n",
      "Symptom_Hallucinations_auditory\n",
      "Symptom_Hallucinations_tactile\n",
      "Symptom_Hallucinations_other\n",
      "Symptom_Sensations_skin_burning_no_rash\n",
      "Symptom_Sensations_numbness_loss_sensation\n",
      "Symptom_Sensations_numbness_one_sided_weakness\n",
      "Symptom_Sensations_coldness\n",
      "Symptom_Sensations_tingling_prickling\n",
      "Symptom_Sensations_electrical_zaps\n",
      "Symptom_Sensations_weakness\n",
      "Symptom_Sensations_facial_pressure_left\n",
      "Symptom_Sensations_facial_pressure_right\n",
      "Symptom_Sensations_facial_pressure_other\n",
      "Symptom_Sensations_facial_paralysis\n",
      "Symptom_Temp_lability\n",
      "Symptom_Heat_intolerance\n",
      "Symptom_Merged_temperature_other_temp_issues\n",
      "Symptom_Elevated_temp\n",
      "Symptom_Fever\n",
      "Symptom_Low_temp\n",
      "Symptom_Chills_flushing_sweats\n",
      "Symptom_Tachycardia\n",
      "Symptom_Bradycardia\n",
      "Symptom_Heart_palpitations\n",
      "Symptom_Bulging_veins\n",
      "Symptom_Fainting\n",
      "Symptom_Dizziness_vertigo\n",
      "Symptom_Neuralgia\n",
      "Symptom_Gasping_air_normal_oxygen\n",
      "Symptom_New_anaphylaxis\n",
      "Symptom_Acute_confusion\n",
      "Symptom_Slurring_words\n",
      "Symptom_Constipation\n",
      "Symptom_Diarrhea\n",
      "Symptom_Vomiting\n",
      "Symptom_Nausea\n",
      "Symptom_Loss_of_appetite\n",
      "Symptom_Acid_reflux\n",
      "Symptom_Dry_cough\n",
      "Symptom_Cough_with_mucus\n",
      "Symptom_Coughing_up_blood\n",
      "Symptom_Shortness_of_breath\n",
      "Symptom_Tightness_of_chest\n",
      "Symptom_Sneezing\n",
      "Symptom_Runny_nose\n",
      "Symptom_Pain_burning_chest\n",
      "Symptom_Rattling_breath\n",
      "Symptom_Sore_throat\n",
      "Symptom_Respiratory_other\n",
      "Symptom_Hearing_loss\n",
      "Symptom_Tinnitus\n",
      "Symptom_Eye_vision_symptoms\n",
      "Symptom_Reproductive_all_menstrual_issues\n",
      "Symptom_Bladder_control\n",
      "Symptom_Peeling_skin\n",
      "Symptom_Petechiae\n",
      "Symptom_Covid_toes\n",
      "Symptom_Dermatographia\n",
      "Symptom_Skin_rashes\n",
      "Symptom_Skin_Allergy_other\n",
      "Symptom_Muscle_spasms\n",
      "Symptom_Muscle_aches\n",
      "Symptom_Joint_pain\n",
      "Symptom_Bone_ache_burning\n",
      "Symptom_Inability_to_yawn\n",
      "Symptom_Difficulty_swallowing\n",
      "Symptom_Changes_in_voice\n",
      "Symptom_Extreme_thirst\n",
      "Symptom_Ear_sensitivity_to_noise\n",
      "Symptom_Ear_ear_pain\n",
      "Symptom_Ear_changes_to_ear_canal\n",
      "Symptom_Ear_numbness\n",
      "Symptom_Other_ear_hearing_symptoms\n",
      "Symptom_Eye_Vision_blurred_vision\n",
      "Symptom_Eye_Vision_sensitivity_to_light\n",
      "Symptom_Eye_Vision_dry_eyes\n",
      "Symptom_Eye_Vision_eye_pressure_pain\n",
      "Symptom_Eye_Vision_floaters\n",
      "Symptom_Eye_Vision_double_vision\n",
      "Symptom_Eye_Vision_tunnel_vision\n",
      "Symptom_Eye_Vision_loss_of_vision\n",
      "Symptom_Eye_Vision_pink_eye\n",
      "Symptom_Eye_Vision_bloodshot_eyes\n",
      "Symptom_Eye_Vision_redness_outside_eye\n",
      "Symptom_Eye_Vision_seeing_things_peripheral_vision\n",
      "Symptom_Eye_Vision_other_eye_issues\n",
      "Symptom_Reproductive_early_menopause\n",
      "Symptom_Reproductive_abnormally_heavy_periods_clotting\n",
      "Symptom_Reproductive_testicle_penis_pain_changes\n",
      "Symptom_Reproductive_sexual_dysfunction\n",
      "Symptom_Reproductive_postmenopausal_bleeding\n",
      "Symptom_Reproductive_other_urinary_issues\n",
      "Symptom_Reproductive_other_menstrual_issues\n",
      "Symptom_Reproductive_abnormally_irregular_periods\n",
      "Symptom_Gastrointestinal_feeling_full_quickly_eating\n",
      "Symptom_Gastrointestinal_abdominal_pain\n",
      "Symptom_Gastrointestinal_hyperactive_bowel\n",
      "Symptom_SkinAllergy_itchy_skin\n",
      "Symptom_SkinAllergy_itchy_eyes\n",
      "Symptom_SkinAllergy_heighted_reaction_allergies\n",
      "Symptom_SkinAllergy_brittle_nail\n",
      "Symptom_SkinAllergy_other_itchy\n",
      "Symptom_SkinAllergy_shingles\n",
      "Symptom_PEM\n",
      "Symptom_Fatigue\n",
      "Symptom_Change_sensitivity_to_meds\n",
      "Symptom_New_allergies\n",
      "Demographics_Ancestry_Cleaned\n",
      "Demographics_Gender_Cleaned\n",
      "Demographics_Trans_Cleaned\n",
      "Demographics_Age_Cleaned\n",
      "Flag_MECFS\n",
      "Flag_POTS\n",
      "Flag_MCAS\n",
      "FAS\n",
      "FAS_cat\n",
      "Physical_PEM_Severity\n",
      "Cognitive_PEM_Severity\n",
      "HasPeriods\n",
      "cluster\n"
     ]
    }
   ],
   "source": [
    "for column in original_data.columns:\n",
    "    print(column)"
   ]
  },
  {
   "cell_type": "code",
   "execution_count": 4,
   "metadata": {},
   "outputs": [
    {
     "data": {
      "text/plain": [
       "Flag_POTS\n",
       "No, no tachycardia                        2459\n",
       "Possible, had tachycardia/palpitations    1773\n",
       "Likely, had higher bpm standing            901\n",
       "Definite, measured bpm > 30                898\n",
       "Name: count, dtype: int64"
      ]
     },
     "execution_count": 4,
     "metadata": {},
     "output_type": "execute_result"
    }
   ],
   "source": [
    "original_data[\"Flag_POTS\"].value_counts()"
   ]
  },
  {
   "cell_type": "code",
   "execution_count": 5,
   "metadata": {},
   "outputs": [
    {
     "name": "stdout",
     "output_type": "stream",
     "text": [
      "cluster\n",
      "-1      72\n",
      "0      522\n",
      "1      247\n",
      "2      336\n",
      "3      385\n",
      "4     1303\n",
      "5     1500\n",
      "6      931\n",
      "7      735\n",
      "dtype: int64\n",
      "Average size per cluster: 670.1111111111111\n"
     ]
    }
   ],
   "source": [
    "# Ensure 'cluster' is a categorical variable\n",
    "original_data['cluster'] = original_data['cluster'].astype('category')\n",
    "\n",
    "# Group by 'cluster'\n",
    "grouped = original_data.groupby('cluster')\n",
    "\n",
    "# Calculate the size of each group\n",
    "cluster_sizes = grouped.size()\n",
    "\n",
    "# Print the size of each cluster\n",
    "print(cluster_sizes)\n",
    "\n",
    "# Calculate the average size of the clusters\n",
    "average_cluster_size = cluster_sizes.mean()\n",
    "print(f\"Average size per cluster: {average_cluster_size}\")"
   ]
  },
  {
   "cell_type": "code",
   "execution_count": 6,
   "metadata": {},
   "outputs": [
    {
     "name": "stdout",
     "output_type": "stream",
     "text": [
      "cluster\n",
      "-1    56.0\n",
      "0     20.0\n",
      "1     31.0\n",
      "2     34.0\n",
      "3     35.0\n",
      "4     54.0\n",
      "5     58.0\n",
      "6     35.0\n",
      "7     47.0\n",
      "Name: symptom_count, dtype: float64\n"
     ]
    },
    {
     "name": "stderr",
     "output_type": "stream",
     "text": [
      "/var/folders/dt/bgs1hq3d2k3dvhpt3llvs4rw0000gn/T/ipykernel_45561/513807577.py:8: SettingWithCopyWarning: \n",
      "A value is trying to be set on a copy of a slice from a DataFrame.\n",
      "Try using .loc[row_indexer,col_indexer] = value instead\n",
      "\n",
      "See the caveats in the documentation: https://pandas.pydata.org/pandas-docs/stable/user_guide/indexing.html#returning-a-view-versus-a-copy\n",
      "  symptom_data['symptom_count'] = symptom_data[symptom_columns].sum(axis=1)\n"
     ]
    }
   ],
   "source": [
    "# Identify columns that are symptoms\n",
    "symptom_columns = [col for col in original_data.columns if col.startswith('Symptom_')]\n",
    "\n",
    "# Create a subset of data with only symptom columns and the cluster column\n",
    "symptom_data = original_data[symptom_columns + ['cluster']]\n",
    "\n",
    "# Compute the total count of symptoms for each row\n",
    "symptom_data['symptom_count'] = symptom_data[symptom_columns].sum(axis=1)\n",
    "\n",
    "# Group by cluster and calculate the average number of symptoms\n",
    "average_symptoms_per_cluster = round(symptom_data.groupby('cluster')['symptom_count'].mean(),0)\n",
    "# Display the result\n",
    "print(average_symptoms_per_cluster)"
   ]
  },
  {
   "cell_type": "code",
   "execution_count": 7,
   "metadata": {},
   "outputs": [
    {
     "data": {
      "text/plain": [
       "Demographics_Gender_Cleaned\n",
       "Woman                                           4703\n",
       "Man                                             1205\n",
       "Non-binary/Genderqueer/Gender non-conforming     100\n",
       "Name: count, dtype: int64"
      ]
     },
     "execution_count": 7,
     "metadata": {},
     "output_type": "execute_result"
    }
   ],
   "source": [
    "original_data[\"Demographics_Gender_Cleaned\"].value_counts()"
   ]
  },
  {
   "cell_type": "code",
   "execution_count": 8,
   "metadata": {},
   "outputs": [
    {
     "name": "stdout",
     "output_type": "stream",
     "text": [
      "cluster\n",
      "-1    0.778\n",
      "0     0.670\n",
      "1     0.713\n",
      "2     0.768\n",
      "3     0.797\n",
      "4     0.819\n",
      "5     0.844\n",
      "6     0.727\n",
      "7     0.743\n",
      "Name: Demographics_Gender_Cleaned, dtype: float64\n"
     ]
    }
   ],
   "source": [
    "original_data['Demographics_Gender_Cleaned'] = original_data['Demographics_Gender_Cleaned'].apply(lambda x: 1 if x == 'Woman' else 0)\n",
    "\n",
    "# Group by cluster and calculate the average value for 'Woman'\n",
    "average_woman_per_cluster = round(original_data.groupby('cluster')['Demographics_Gender_Cleaned'].mean(),3)\n",
    "\n",
    "# Display the result\n",
    "print(average_woman_per_cluster)"
   ]
  },
  {
   "cell_type": "code",
   "execution_count": 12,
   "metadata": {},
   "outputs": [
    {
     "data": {
      "text/plain": [
       "Demographics_Age_Cleaned\n",
       "40-49    1725\n",
       "50-59    1460\n",
       "30-39    1352\n",
       "60-69     736\n",
       "18-29     526\n",
       "70-79     213\n",
       "80+        19\n",
       "Name: count, dtype: int64"
      ]
     },
     "execution_count": 12,
     "metadata": {},
     "output_type": "execute_result"
    }
   ],
   "source": [
    "original_data[\"Demographics_Age_Cleaned\"].value_counts()"
   ]
  },
  {
   "cell_type": "code",
   "execution_count": 15,
   "metadata": {},
   "outputs": [],
   "source": [
    "original_data['Age_numeric'] =original_data['Demographics_Age_Cleaned'].replace({'30-39': 34.5,'40-49': 44.5, '50-59':54.5, '60-69':64.5,\n",
    "                                                    '70-79': 74.5, '80+': 80.0,'18-29' : 23.5})"
   ]
  },
  {
   "cell_type": "code",
   "execution_count": 19,
   "metadata": {},
   "outputs": [
    {
     "name": "stdout",
     "output_type": "stream",
     "text": [
      "cluster\n",
      "-1    48.82\n",
      "0     48.31\n",
      "1     49.52\n",
      "2     47.13\n",
      "3     47.57\n",
      "4     45.55\n",
      "5     45.73\n",
      "6     45.91\n",
      "7     46.80\n",
      "Name: Age_numeric, dtype: float64\n"
     ]
    }
   ],
   "source": [
    "# Group by cluster and calculate the average age\n",
    "average_age_per_cluster = round(original_data.groupby('cluster')['Age_numeric'].mean(), 2)\n",
    "\n",
    "# Display the result\n",
    "print(average_age_per_cluster)"
   ]
  },
  {
   "cell_type": "code",
   "execution_count": 27,
   "metadata": {},
   "outputs": [
    {
     "data": {
      "text/plain": [
       "Cognitive_PEM_Severity\n",
       "8.0     772\n",
       "7.0     724\n",
       "0.0     610\n",
       "5.0     603\n",
       "6.0     565\n",
       "10.0    520\n",
       "9.0     479\n",
       "4.0     346\n",
       "3.0     298\n",
       "2.0     216\n",
       "1.0     196\n",
       "Name: count, dtype: int64"
      ]
     },
     "execution_count": 27,
     "metadata": {},
     "output_type": "execute_result"
    }
   ],
   "source": [
    "original_data[\"Cognitive_PEM_Severity\"].value_counts()"
   ]
  },
  {
   "cell_type": "code",
   "execution_count": 25,
   "metadata": {},
   "outputs": [],
   "source": [
    "# Normalize the Physical_PEM_Severity column\n",
    "pem_min = original_data['Physical_PEM_Severity'].min()\n",
    "pem_max = original_data['Physical_PEM_Severity'].max()\n",
    "original_data['Normalized_Physical_PEM_Severity'] = (original_data['Physical_PEM_Severity'] - pem_min) / (pem_max - pem_min)\n",
    "\n",
    "# Group by cluster and calculate the normalized average\n",
    "normalized_avg_per_cluster = round(original_data.groupby('cluster')['Normalized_Physical_PEM_Severity'].mean(),3)"
   ]
  },
  {
   "cell_type": "code",
   "execution_count": 26,
   "metadata": {},
   "outputs": [
    {
     "data": {
      "text/plain": [
       "cluster\n",
       "-1    0.813\n",
       "0     0.686\n",
       "1     0.704\n",
       "2     0.714\n",
       "3     0.714\n",
       "4     0.804\n",
       "5     0.810\n",
       "6     0.738\n",
       "7     0.768\n",
       "Name: Normalized_Physical_PEM_Severity, dtype: float64"
      ]
     },
     "execution_count": 26,
     "metadata": {},
     "output_type": "execute_result"
    }
   ],
   "source": [
    "normalized_avg_per_cluster"
   ]
  },
  {
   "cell_type": "code",
   "execution_count": 29,
   "metadata": {},
   "outputs": [
    {
     "name": "stdout",
     "output_type": "stream",
     "text": [
      "cluster\n",
      "-1    0.617\n",
      "0     0.265\n",
      "1     0.327\n",
      "2     0.343\n",
      "3     0.330\n",
      "4     0.646\n",
      "5     0.654\n",
      "6     0.578\n",
      "7     0.620\n",
      "Name: Normalized_Cognitive_PEM_Severity, dtype: float64\n"
     ]
    }
   ],
   "source": [
    "# Normalize the Cognitive_PEM_Severity column\n",
    "cog_pem_min = original_data['Cognitive_PEM_Severity'].min()\n",
    "cog_pem_max = original_data['Cognitive_PEM_Severity'].max()\n",
    "original_data['Normalized_Cognitive_PEM_Severity'] = (original_data['Cognitive_PEM_Severity'] - cog_pem_min) / (cog_pem_max - cog_pem_min)\n",
    "\n",
    "# Group by cluster and calculate the normalized average\n",
    "normalized_cog_avg_per_cluster = round(original_data.groupby('cluster')['Normalized_Cognitive_PEM_Severity'].mean(), 3)\n",
    "\n",
    "# Display the result\n",
    "print(normalized_cog_avg_per_cluster)"
   ]
  },
  {
   "cell_type": "code",
   "execution_count": null,
   "metadata": {},
   "outputs": [],
   "source": []
  }
 ],
 "metadata": {
  "kernelspec": {
   "display_name": "env",
   "language": "python",
   "name": "python3"
  },
  "language_info": {
   "codemirror_mode": {
    "name": "ipython",
    "version": 3
   },
   "file_extension": ".py",
   "mimetype": "text/x-python",
   "name": "python",
   "nbconvert_exporter": "python",
   "pygments_lexer": "ipython3",
   "version": "3.11.4"
  }
 },
 "nbformat": 4,
 "nbformat_minor": 2
}

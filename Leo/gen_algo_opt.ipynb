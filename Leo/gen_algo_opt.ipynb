{
 "cells": [
  {
   "cell_type": "code",
   "execution_count": 1,
   "metadata": {},
   "outputs": [
    {
     "name": "stderr",
     "output_type": "stream",
     "text": [
      "/Users/leo/Programming/PLR/Leo/env/lib/python3.11/site-packages/umap/distances.py:1063: NumbaDeprecationWarning: The 'nopython' keyword argument was not supplied to the 'numba.jit' decorator. The implicit default value for this argument is currently False, but it will be changed to True in Numba 0.59.0. See https://numba.readthedocs.io/en/stable/reference/deprecation.html#deprecation-of-object-mode-fall-back-behaviour-when-using-jit for details.\n",
      "  @numba.jit()\n",
      "/Users/leo/Programming/PLR/Leo/env/lib/python3.11/site-packages/umap/distances.py:1071: NumbaDeprecationWarning: The 'nopython' keyword argument was not supplied to the 'numba.jit' decorator. The implicit default value for this argument is currently False, but it will be changed to True in Numba 0.59.0. See https://numba.readthedocs.io/en/stable/reference/deprecation.html#deprecation-of-object-mode-fall-back-behaviour-when-using-jit for details.\n",
      "  @numba.jit()\n",
      "/Users/leo/Programming/PLR/Leo/env/lib/python3.11/site-packages/umap/distances.py:1086: NumbaDeprecationWarning: The 'nopython' keyword argument was not supplied to the 'numba.jit' decorator. The implicit default value for this argument is currently False, but it will be changed to True in Numba 0.59.0. See https://numba.readthedocs.io/en/stable/reference/deprecation.html#deprecation-of-object-mode-fall-back-behaviour-when-using-jit for details.\n",
      "  @numba.jit()\n",
      "/Users/leo/Programming/PLR/Leo/env/lib/python3.11/site-packages/umap/umap_.py:660: NumbaDeprecationWarning: The 'nopython' keyword argument was not supplied to the 'numba.jit' decorator. The implicit default value for this argument is currently False, but it will be changed to True in Numba 0.59.0. See https://numba.readthedocs.io/en/stable/reference/deprecation.html#deprecation-of-object-mode-fall-back-behaviour-when-using-jit for details.\n",
      "  @numba.jit()\n",
      "UsageError: Line magic function `%%capture` not found.\n"
     ]
    }
   ],
   "source": [
    "import pandas as pd\n",
    "from cluster_comparison import perform_umap, perform_hdbscan, calculate_silhouette\n",
    "import random\n",
    "import matplotlib.pyplot as plt\n",
    "import numpy as np\n",
    "from tqdm import tqdm\n",
    "from joblib import Parallel, delayed"
   ]
  },
  {
   "cell_type": "code",
   "execution_count": 2,
   "metadata": {},
   "outputs": [],
   "source": [
    "# Sample data and demographics DataFrames, replace these with your actual DataFrames\n",
    "raw_data = pd.read_csv('/Users/leo/Programming/PLR/Leo/data/cleaned_data_SYMPTOMS_9_13_23_DNA.csv')\n",
    "data_symp_groups = pd.read_csv('data/skew_corr_groupadd.csv', usecols=['Grouped_Neuro_Sensory', 'Grouped_Cognitive_Memory', 'Grouped_Gastrointestinal', 'Grouped_Respiratory_Cardiac', 'Grouped_Eye_Vision'])\n",
    "data_symp_groups_all = pd.read_csv('data/skew_corr_groupadd.csv')\n",
    "demographics = pd.read_csv('/Users/leo/Programming/PLR/Leo/data/non_binary_data_processed.csv')\n",
    "\n",
    "# combine demographics and data_symp_group_all \n",
    "demo_all = pd.concat([demographics, data_symp_groups_all], axis=1)\n",
    "\n",
    "# combine demographics and data_symp_group\n",
    "demo_groups = pd.concat([demographics, data_symp_groups], axis=1)"
   ]
  },
  {
   "cell_type": "code",
   "execution_count": 3,
   "metadata": {},
   "outputs": [
    {
     "name": "stderr",
     "output_type": "stream",
     "text": [
      "Generations:   0%|          | 0/20 [00:00<?, ?it/s]/Users/leo/Programming/PLR/Leo/env/lib/python3.11/site-packages/umap/distances.py:1063: NumbaDeprecationWarning: The 'nopython' keyword argument was not supplied to the 'numba.jit' decorator. The implicit default value for this argument is currently False, but it will be changed to True in Numba 0.59.0. See https://numba.readthedocs.io/en/stable/reference/deprecation.html#deprecation-of-object-mode-fall-back-behaviour-when-using-jit for details.\n",
      "  @numba.jit()\n",
      "/Users/leo/Programming/PLR/Leo/env/lib/python3.11/site-packages/umap/distances.py:1063: NumbaDeprecationWarning: The 'nopython' keyword argument was not supplied to the 'numba.jit' decorator. The implicit default value for this argument is currently False, but it will be changed to True in Numba 0.59.0. See https://numba.readthedocs.io/en/stable/reference/deprecation.html#deprecation-of-object-mode-fall-back-behaviour-when-using-jit for details.\n",
      "  @numba.jit()\n",
      "/Users/leo/Programming/PLR/Leo/env/lib/python3.11/site-packages/umap/distances.py:1071: NumbaDeprecationWarning: The 'nopython' keyword argument was not supplied to the 'numba.jit' decorator. The implicit default value for this argument is currently False, but it will be changed to True in Numba 0.59.0. See https://numba.readthedocs.io/en/stable/reference/deprecation.html#deprecation-of-object-mode-fall-back-behaviour-when-using-jit for details.\n",
      "  @numba.jit()\n",
      "/Users/leo/Programming/PLR/Leo/env/lib/python3.11/site-packages/umap/distances.py:1063: NumbaDeprecationWarning: The 'nopython' keyword argument was not supplied to the 'numba.jit' decorator. The implicit default value for this argument is currently False, but it will be changed to True in Numba 0.59.0. See https://numba.readthedocs.io/en/stable/reference/deprecation.html#deprecation-of-object-mode-fall-back-behaviour-when-using-jit for details.\n",
      "  @numba.jit()\n",
      "/Users/leo/Programming/PLR/Leo/env/lib/python3.11/site-packages/umap/distances.py:1086: NumbaDeprecationWarning: The 'nopython' keyword argument was not supplied to the 'numba.jit' decorator. The implicit default value for this argument is currently False, but it will be changed to True in Numba 0.59.0. See https://numba.readthedocs.io/en/stable/reference/deprecation.html#deprecation-of-object-mode-fall-back-behaviour-when-using-jit for details.\n",
      "  @numba.jit()\n",
      "/Users/leo/Programming/PLR/Leo/env/lib/python3.11/site-packages/umap/distances.py:1071: NumbaDeprecationWarning: The 'nopython' keyword argument was not supplied to the 'numba.jit' decorator. The implicit default value for this argument is currently False, but it will be changed to True in Numba 0.59.0. See https://numba.readthedocs.io/en/stable/reference/deprecation.html#deprecation-of-object-mode-fall-back-behaviour-when-using-jit for details.\n",
      "  @numba.jit()\n",
      "/Users/leo/Programming/PLR/Leo/env/lib/python3.11/site-packages/umap/distances.py:1086: NumbaDeprecationWarning: The 'nopython' keyword argument was not supplied to the 'numba.jit' decorator. The implicit default value for this argument is currently False, but it will be changed to True in Numba 0.59.0. See https://numba.readthedocs.io/en/stable/reference/deprecation.html#deprecation-of-object-mode-fall-back-behaviour-when-using-jit for details.\n",
      "  @numba.jit()\n",
      "/Users/leo/Programming/PLR/Leo/env/lib/python3.11/site-packages/umap/distances.py:1063: NumbaDeprecationWarning: The 'nopython' keyword argument was not supplied to the 'numba.jit' decorator. The implicit default value for this argument is currently False, but it will be changed to True in Numba 0.59.0. See https://numba.readthedocs.io/en/stable/reference/deprecation.html#deprecation-of-object-mode-fall-back-behaviour-when-using-jit for details.\n",
      "  @numba.jit()\n",
      "/Users/leo/Programming/PLR/Leo/env/lib/python3.11/site-packages/umap/distances.py:1071: NumbaDeprecationWarning: The 'nopython' keyword argument was not supplied to the 'numba.jit' decorator. The implicit default value for this argument is currently False, but it will be changed to True in Numba 0.59.0. See https://numba.readthedocs.io/en/stable/reference/deprecation.html#deprecation-of-object-mode-fall-back-behaviour-when-using-jit for details.\n",
      "  @numba.jit()\n",
      "/Users/leo/Programming/PLR/Leo/env/lib/python3.11/site-packages/umap/distances.py:1086: NumbaDeprecationWarning: The 'nopython' keyword argument was not supplied to the 'numba.jit' decorator. The implicit default value for this argument is currently False, but it will be changed to True in Numba 0.59.0. See https://numba.readthedocs.io/en/stable/reference/deprecation.html#deprecation-of-object-mode-fall-back-behaviour-when-using-jit for details.\n",
      "  @numba.jit()\n",
      "/Users/leo/Programming/PLR/Leo/env/lib/python3.11/site-packages/umap/distances.py:1063: NumbaDeprecationWarning: The 'nopython' keyword argument was not supplied to the 'numba.jit' decorator. The implicit default value for this argument is currently False, but it will be changed to True in Numba 0.59.0. See https://numba.readthedocs.io/en/stable/reference/deprecation.html#deprecation-of-object-mode-fall-back-behaviour-when-using-jit for details.\n",
      "  @numba.jit()\n",
      "/Users/leo/Programming/PLR/Leo/env/lib/python3.11/site-packages/umap/distances.py:1071: NumbaDeprecationWarning: The 'nopython' keyword argument was not supplied to the 'numba.jit' decorator. The implicit default value for this argument is currently False, but it will be changed to True in Numba 0.59.0. See https://numba.readthedocs.io/en/stable/reference/deprecation.html#deprecation-of-object-mode-fall-back-behaviour-when-using-jit for details.\n",
      "  @numba.jit()\n",
      "/Users/leo/Programming/PLR/Leo/env/lib/python3.11/site-packages/umap/distances.py:1086: NumbaDeprecationWarning: The 'nopython' keyword argument was not supplied to the 'numba.jit' decorator. The implicit default value for this argument is currently False, but it will be changed to True in Numba 0.59.0. See https://numba.readthedocs.io/en/stable/reference/deprecation.html#deprecation-of-object-mode-fall-back-behaviour-when-using-jit for details.\n",
      "  @numba.jit()\n",
      "/Users/leo/Programming/PLR/Leo/env/lib/python3.11/site-packages/umap/distances.py:1071: NumbaDeprecationWarning: The 'nopython' keyword argument was not supplied to the 'numba.jit' decorator. The implicit default value for this argument is currently False, but it will be changed to True in Numba 0.59.0. See https://numba.readthedocs.io/en/stable/reference/deprecation.html#deprecation-of-object-mode-fall-back-behaviour-when-using-jit for details.\n",
      "  @numba.jit()\n",
      "/Users/leo/Programming/PLR/Leo/env/lib/python3.11/site-packages/umap/distances.py:1086: NumbaDeprecationWarning: The 'nopython' keyword argument was not supplied to the 'numba.jit' decorator. The implicit default value for this argument is currently False, but it will be changed to True in Numba 0.59.0. See https://numba.readthedocs.io/en/stable/reference/deprecation.html#deprecation-of-object-mode-fall-back-behaviour-when-using-jit for details.\n",
      "  @numba.jit()\n",
      "/Users/leo/Programming/PLR/Leo/env/lib/python3.11/site-packages/umap/distances.py:1063: NumbaDeprecationWarning: The 'nopython' keyword argument was not supplied to the 'numba.jit' decorator. The implicit default value for this argument is currently False, but it will be changed to True in Numba 0.59.0. See https://numba.readthedocs.io/en/stable/reference/deprecation.html#deprecation-of-object-mode-fall-back-behaviour-when-using-jit for details.\n",
      "  @numba.jit()\n",
      "/Users/leo/Programming/PLR/Leo/env/lib/python3.11/site-packages/umap/distances.py:1071: NumbaDeprecationWarning: The 'nopython' keyword argument was not supplied to the 'numba.jit' decorator. The implicit default value for this argument is currently False, but it will be changed to True in Numba 0.59.0. See https://numba.readthedocs.io/en/stable/reference/deprecation.html#deprecation-of-object-mode-fall-back-behaviour-when-using-jit for details.\n",
      "  @numba.jit()\n",
      "/Users/leo/Programming/PLR/Leo/env/lib/python3.11/site-packages/umap/distances.py:1086: NumbaDeprecationWarning: The 'nopython' keyword argument was not supplied to the 'numba.jit' decorator. The implicit default value for this argument is currently False, but it will be changed to True in Numba 0.59.0. See https://numba.readthedocs.io/en/stable/reference/deprecation.html#deprecation-of-object-mode-fall-back-behaviour-when-using-jit for details.\n",
      "  @numba.jit()\n",
      "/Users/leo/Programming/PLR/Leo/env/lib/python3.11/site-packages/umap/distances.py:1063: NumbaDeprecationWarning: The 'nopython' keyword argument was not supplied to the 'numba.jit' decorator. The implicit default value for this argument is currently False, but it will be changed to True in Numba 0.59.0. See https://numba.readthedocs.io/en/stable/reference/deprecation.html#deprecation-of-object-mode-fall-back-behaviour-when-using-jit for details.\n",
      "  @numba.jit()\n",
      "/Users/leo/Programming/PLR/Leo/env/lib/python3.11/site-packages/umap/distances.py:1071: NumbaDeprecationWarning: The 'nopython' keyword argument was not supplied to the 'numba.jit' decorator. The implicit default value for this argument is currently False, but it will be changed to True in Numba 0.59.0. See https://numba.readthedocs.io/en/stable/reference/deprecation.html#deprecation-of-object-mode-fall-back-behaviour-when-using-jit for details.\n",
      "  @numba.jit()\n",
      "/Users/leo/Programming/PLR/Leo/env/lib/python3.11/site-packages/umap/distances.py:1086: NumbaDeprecationWarning: The 'nopython' keyword argument was not supplied to the 'numba.jit' decorator. The implicit default value for this argument is currently False, but it will be changed to True in Numba 0.59.0. See https://numba.readthedocs.io/en/stable/reference/deprecation.html#deprecation-of-object-mode-fall-back-behaviour-when-using-jit for details.\n",
      "  @numba.jit()\n",
      "/Users/leo/Programming/PLR/Leo/env/lib/python3.11/site-packages/umap/distances.py:1063: NumbaDeprecationWarning: The 'nopython' keyword argument was not supplied to the 'numba.jit' decorator. The implicit default value for this argument is currently False, but it will be changed to True in Numba 0.59.0. See https://numba.readthedocs.io/en/stable/reference/deprecation.html#deprecation-of-object-mode-fall-back-behaviour-when-using-jit for details.\n",
      "  @numba.jit()\n",
      "/Users/leo/Programming/PLR/Leo/env/lib/python3.11/site-packages/umap/distances.py:1071: NumbaDeprecationWarning: The 'nopython' keyword argument was not supplied to the 'numba.jit' decorator. The implicit default value for this argument is currently False, but it will be changed to True in Numba 0.59.0. See https://numba.readthedocs.io/en/stable/reference/deprecation.html#deprecation-of-object-mode-fall-back-behaviour-when-using-jit for details.\n",
      "  @numba.jit()\n",
      "/Users/leo/Programming/PLR/Leo/env/lib/python3.11/site-packages/umap/distances.py:1086: NumbaDeprecationWarning: The 'nopython' keyword argument was not supplied to the 'numba.jit' decorator. The implicit default value for this argument is currently False, but it will be changed to True in Numba 0.59.0. See https://numba.readthedocs.io/en/stable/reference/deprecation.html#deprecation-of-object-mode-fall-back-behaviour-when-using-jit for details.\n",
      "  @numba.jit()\n",
      "/Users/leo/Programming/PLR/Leo/env/lib/python3.11/site-packages/umap/umap_.py:660: NumbaDeprecationWarning: The 'nopython' keyword argument was not supplied to the 'numba.jit' decorator. The implicit default value for this argument is currently False, but it will be changed to True in Numba 0.59.0. See https://numba.readthedocs.io/en/stable/reference/deprecation.html#deprecation-of-object-mode-fall-back-behaviour-when-using-jit for details.\n",
      "  @numba.jit()\n",
      "/Users/leo/Programming/PLR/Leo/env/lib/python3.11/site-packages/umap/umap_.py:660: NumbaDeprecationWarning: The 'nopython' keyword argument was not supplied to the 'numba.jit' decorator. The implicit default value for this argument is currently False, but it will be changed to True in Numba 0.59.0. See https://numba.readthedocs.io/en/stable/reference/deprecation.html#deprecation-of-object-mode-fall-back-behaviour-when-using-jit for details.\n",
      "  @numba.jit()\n",
      "/Users/leo/Programming/PLR/Leo/env/lib/python3.11/site-packages/umap/umap_.py:660: NumbaDeprecationWarning: The 'nopython' keyword argument was not supplied to the 'numba.jit' decorator. The implicit default value for this argument is currently False, but it will be changed to True in Numba 0.59.0. See https://numba.readthedocs.io/en/stable/reference/deprecation.html#deprecation-of-object-mode-fall-back-behaviour-when-using-jit for details.\n",
      "  @numba.jit()\n",
      "/Users/leo/Programming/PLR/Leo/env/lib/python3.11/site-packages/umap/umap_.py:660: NumbaDeprecationWarning: The 'nopython' keyword argument was not supplied to the 'numba.jit' decorator. The implicit default value for this argument is currently False, but it will be changed to True in Numba 0.59.0. See https://numba.readthedocs.io/en/stable/reference/deprecation.html#deprecation-of-object-mode-fall-back-behaviour-when-using-jit for details.\n",
      "  @numba.jit()\n",
      "/Users/leo/Programming/PLR/Leo/env/lib/python3.11/site-packages/umap/umap_.py:660: NumbaDeprecationWarning: The 'nopython' keyword argument was not supplied to the 'numba.jit' decorator. The implicit default value for this argument is currently False, but it will be changed to True in Numba 0.59.0. See https://numba.readthedocs.io/en/stable/reference/deprecation.html#deprecation-of-object-mode-fall-back-behaviour-when-using-jit for details.\n",
      "  @numba.jit()\n",
      "/Users/leo/Programming/PLR/Leo/env/lib/python3.11/site-packages/umap/umap_.py:660: NumbaDeprecationWarning: The 'nopython' keyword argument was not supplied to the 'numba.jit' decorator. The implicit default value for this argument is currently False, but it will be changed to True in Numba 0.59.0. See https://numba.readthedocs.io/en/stable/reference/deprecation.html#deprecation-of-object-mode-fall-back-behaviour-when-using-jit for details.\n",
      "  @numba.jit()\n",
      "/Users/leo/Programming/PLR/Leo/env/lib/python3.11/site-packages/umap/umap_.py:660: NumbaDeprecationWarning: The 'nopython' keyword argument was not supplied to the 'numba.jit' decorator. The implicit default value for this argument is currently False, but it will be changed to True in Numba 0.59.0. See https://numba.readthedocs.io/en/stable/reference/deprecation.html#deprecation-of-object-mode-fall-back-behaviour-when-using-jit for details.\n",
      "  @numba.jit()\n",
      "/Users/leo/Programming/PLR/Leo/env/lib/python3.11/site-packages/umap/umap_.py:660: NumbaDeprecationWarning: The 'nopython' keyword argument was not supplied to the 'numba.jit' decorator. The implicit default value for this argument is currently False, but it will be changed to True in Numba 0.59.0. See https://numba.readthedocs.io/en/stable/reference/deprecation.html#deprecation-of-object-mode-fall-back-behaviour-when-using-jit for details.\n",
      "  @numba.jit()\n",
      "Generations:   5%|▌         | 1/20 [03:11<1:00:42, 191.70s/it]"
     ]
    },
    {
     "name": "stdout",
     "output_type": "stream",
     "text": [
      "\n",
      "Top 5 individuals in generation 1:\n",
      "  Genome: (32, 0.4091434592765901, 33, 14), Fitness: 0.6534421443939209\n",
      "    n_neighbors=32, min_dist=0.4091434592765901, min_cluster_size=33, n_components=14\n",
      "  Genome: (44, 0.5343993466370958, 37, 20), Fitness: 0.649019181728363\n",
      "    n_neighbors=44, min_dist=0.5343993466370958, min_cluster_size=37, n_components=20\n",
      "  Genome: (32, 0.29253304855880025, 22, 15), Fitness: 0.6455193758010864\n",
      "    n_neighbors=32, min_dist=0.29253304855880025, min_cluster_size=22, n_components=15\n",
      "  Genome: (33, 0.28201552919359624, 23, 15), Fitness: 0.6392368674278259\n",
      "    n_neighbors=33, min_dist=0.28201552919359624, min_cluster_size=23, n_components=15\n",
      "  Genome: (35, 0.4425221106753738, 24, 13), Fitness: 0.6369181275367737\n",
      "    n_neighbors=35, min_dist=0.4425221106753738, min_cluster_size=24, n_components=13\n",
      "Number of mutations: 6\n"
     ]
    },
    {
     "name": "stderr",
     "output_type": "stream",
     "text": [
      "Generations:  10%|█         | 2/20 [05:30<48:08, 160.45s/it]  "
     ]
    },
    {
     "name": "stdout",
     "output_type": "stream",
     "text": [
      "\n",
      "Top 5 individuals in generation 2:\n",
      "  Genome: (32, 0.4091434592765901, 33, 14), Fitness: 0.6534421443939209\n",
      "    n_neighbors=32, min_dist=0.4091434592765901, min_cluster_size=33, n_components=14\n",
      "  Genome: (34, 0.3508028783895576, 39, 20), Fitness: 0.652501106262207\n",
      "    n_neighbors=34, min_dist=0.3508028783895576, min_cluster_size=39, n_components=20\n",
      "  Genome: (18, 0.6562310777685322, 41, 22), Fitness: 0.6450711488723755\n",
      "    n_neighbors=18, min_dist=0.6562310777685322, min_cluster_size=41, n_components=22\n",
      "  Genome: (40, 0.39448505625786595, 30, 15), Fitness: 0.6437053084373474\n",
      "    n_neighbors=40, min_dist=0.39448505625786595, min_cluster_size=30, n_components=15\n",
      "  Genome: (26, 0.3508028783895576, 41, 22), Fitness: 0.6436739563941956\n",
      "    n_neighbors=26, min_dist=0.3508028783895576, min_cluster_size=41, n_components=22\n",
      "Number of mutations: 12\n"
     ]
    },
    {
     "name": "stderr",
     "output_type": "stream",
     "text": [
      "Generations:  15%|█▌        | 3/20 [07:47<42:28, 149.91s/it]"
     ]
    },
    {
     "name": "stdout",
     "output_type": "stream",
     "text": [
      "\n",
      "Top 5 individuals in generation 3:\n",
      "  Genome: (18, 0.20609596000132982, 30, 15), Fitness: 0.6803690195083618\n",
      "    n_neighbors=18, min_dist=0.20609596000132982, min_cluster_size=30, n_components=15\n",
      "  Genome: (18, 0.20609596000132982, 38, 22), Fitness: 0.6710509061813354\n",
      "    n_neighbors=18, min_dist=0.20609596000132982, min_cluster_size=38, n_components=22\n",
      "  Genome: (32, 0.4091434592765901, 33, 14), Fitness: 0.6534421443939209\n",
      "    n_neighbors=32, min_dist=0.4091434592765901, min_cluster_size=33, n_components=14\n",
      "  Genome: (34, 0.3508028783895576, 39, 20), Fitness: 0.652501106262207\n",
      "    n_neighbors=34, min_dist=0.3508028783895576, min_cluster_size=39, n_components=20\n",
      "  Genome: (18, 0.6562310777685322, 41, 22), Fitness: 0.6450711488723755\n",
      "    n_neighbors=18, min_dist=0.6562310777685322, min_cluster_size=41, n_components=22\n",
      "Number of mutations: 4\n"
     ]
    },
    {
     "name": "stderr",
     "output_type": "stream",
     "text": [
      "Generations:  20%|██        | 4/20 [09:44<36:28, 136.76s/it]"
     ]
    },
    {
     "name": "stdout",
     "output_type": "stream",
     "text": [
      "\n",
      "Top 5 individuals in generation 4:\n",
      "  Genome: (18, 0.20609596000132982, 30, 15), Fitness: 0.6803690195083618\n",
      "    n_neighbors=18, min_dist=0.20609596000132982, min_cluster_size=30, n_components=15\n",
      "  Genome: (18, 0.6562310777685322, 41, 6), Fitness: 0.6619357466697693\n",
      "    n_neighbors=18, min_dist=0.6562310777685322, min_cluster_size=41, n_components=6\n",
      "  Genome: (11, 0.20609596000132982, 41, 22), Fitness: 0.6483051776885986\n",
      "    n_neighbors=11, min_dist=0.20609596000132982, min_cluster_size=41, n_components=22\n",
      "  Genome: (18, 0.6562310777685322, 41, 22), Fitness: 0.6450711488723755\n",
      "    n_neighbors=18, min_dist=0.6562310777685322, min_cluster_size=41, n_components=22\n",
      "  Genome: (18, 0.6562310777685322, 41, 22), Fitness: 0.6450711488723755\n",
      "    n_neighbors=18, min_dist=0.6562310777685322, min_cluster_size=41, n_components=22\n",
      "Number of mutations: 13\n"
     ]
    },
    {
     "name": "stderr",
     "output_type": "stream",
     "text": [
      "Generations:  25%|██▌       | 5/20 [11:45<32:47, 131.18s/it]"
     ]
    },
    {
     "name": "stdout",
     "output_type": "stream",
     "text": [
      "\n",
      "Top 5 individuals in generation 5:\n",
      "  Genome: (18, 0.20609596000132982, 30, 15), Fitness: 0.6803690195083618\n",
      "    n_neighbors=18, min_dist=0.20609596000132982, min_cluster_size=30, n_components=15\n",
      "  Genome: (18, 0.20609596000132982, 30, 15), Fitness: 0.6803690195083618\n",
      "    n_neighbors=18, min_dist=0.20609596000132982, min_cluster_size=30, n_components=15\n",
      "  Genome: (18, 0.20609596000132982, 41, 20), Fitness: 0.6736928224563599\n",
      "    n_neighbors=18, min_dist=0.20609596000132982, min_cluster_size=41, n_components=20\n",
      "  Genome: (18, 0.6562310777685322, 41, 22), Fitness: 0.6450711488723755\n",
      "    n_neighbors=18, min_dist=0.6562310777685322, min_cluster_size=41, n_components=22\n",
      "  Genome: (36, 0.7258194656364441, 38, 6), Fitness: 0.6444602012634277\n",
      "    n_neighbors=36, min_dist=0.7258194656364441, min_cluster_size=38, n_components=6\n",
      "Number of mutations: 10\n"
     ]
    },
    {
     "name": "stderr",
     "output_type": "stream",
     "text": [
      "/Users/leo/Programming/PLR/Leo/env/lib/python3.11/site-packages/umap/distances.py:1063: NumbaDeprecationWarning: The 'nopython' keyword argument was not supplied to the 'numba.jit' decorator. The implicit default value for this argument is currently False, but it will be changed to True in Numba 0.59.0. See https://numba.readthedocs.io/en/stable/reference/deprecation.html#deprecation-of-object-mode-fall-back-behaviour-when-using-jit for details.\n",
      "  @numba.jit()\n",
      "/Users/leo/Programming/PLR/Leo/env/lib/python3.11/site-packages/umap/distances.py:1071: NumbaDeprecationWarning: The 'nopython' keyword argument was not supplied to the 'numba.jit' decorator. The implicit default value for this argument is currently False, but it will be changed to True in Numba 0.59.0. See https://numba.readthedocs.io/en/stable/reference/deprecation.html#deprecation-of-object-mode-fall-back-behaviour-when-using-jit for details.\n",
      "  @numba.jit()\n",
      "/Users/leo/Programming/PLR/Leo/env/lib/python3.11/site-packages/umap/distances.py:1086: NumbaDeprecationWarning: The 'nopython' keyword argument was not supplied to the 'numba.jit' decorator. The implicit default value for this argument is currently False, but it will be changed to True in Numba 0.59.0. See https://numba.readthedocs.io/en/stable/reference/deprecation.html#deprecation-of-object-mode-fall-back-behaviour-when-using-jit for details.\n",
      "  @numba.jit()\n",
      "/Users/leo/Programming/PLR/Leo/env/lib/python3.11/site-packages/umap/umap_.py:660: NumbaDeprecationWarning: The 'nopython' keyword argument was not supplied to the 'numba.jit' decorator. The implicit default value for this argument is currently False, but it will be changed to True in Numba 0.59.0. See https://numba.readthedocs.io/en/stable/reference/deprecation.html#deprecation-of-object-mode-fall-back-behaviour-when-using-jit for details.\n",
      "  @numba.jit()\n",
      "Generations:  30%|███       | 6/20 [14:08<31:33, 135.29s/it]"
     ]
    },
    {
     "name": "stdout",
     "output_type": "stream",
     "text": [
      "\n",
      "Top 5 individuals in generation 6:\n",
      "  Genome: (18, 0.20609596000132982, 30, 15), Fitness: 0.6803690195083618\n",
      "    n_neighbors=18, min_dist=0.20609596000132982, min_cluster_size=30, n_components=15\n",
      "  Genome: (18, 0.20609596000132982, 41, 20), Fitness: 0.6736928224563599\n",
      "    n_neighbors=18, min_dist=0.20609596000132982, min_cluster_size=41, n_components=20\n",
      "  Genome: (40, 0.20609596000132982, 38, 6), Fitness: 0.6690969467163086\n",
      "    n_neighbors=40, min_dist=0.20609596000132982, min_cluster_size=38, n_components=6\n",
      "  Genome: (11, 0.20609596000132982, 38, 15), Fitness: 0.6649202108383179\n",
      "    n_neighbors=11, min_dist=0.20609596000132982, min_cluster_size=38, n_components=15\n",
      "  Genome: (18, 0.20609596000132982, 38, 17), Fitness: 0.6606960892677307\n",
      "    n_neighbors=18, min_dist=0.20609596000132982, min_cluster_size=38, n_components=17\n",
      "Number of mutations: 12\n"
     ]
    },
    {
     "name": "stderr",
     "output_type": "stream",
     "text": [
      "Generations:  35%|███▌      | 7/20 [16:22<29:12, 134.80s/it]"
     ]
    },
    {
     "name": "stdout",
     "output_type": "stream",
     "text": [
      "\n",
      "Top 5 individuals in generation 7:\n",
      "  Genome: (18, 0.20609596000132982, 30, 15), Fitness: 0.6803690195083618\n",
      "    n_neighbors=18, min_dist=0.20609596000132982, min_cluster_size=30, n_components=15\n",
      "  Genome: (40, 14, 38, 6), Fitness: 0.6403877139091492\n",
      "    n_neighbors=40, min_dist=14, min_cluster_size=38, n_components=6\n",
      "  Genome: (40, 14, 38, 6), Fitness: 0.6403877139091492\n",
      "    n_neighbors=40, min_dist=14, min_cluster_size=38, n_components=6\n",
      "  Genome: (18, 4, 45, 6), Fitness: 0.6223582625389099\n",
      "    n_neighbors=18, min_dist=4, min_cluster_size=45, n_components=6\n",
      "  Genome: (18, 4, 41, 15), Fitness: 0.5968093276023865\n",
      "    n_neighbors=18, min_dist=4, min_cluster_size=41, n_components=15\n",
      "Number of mutations: 13\n"
     ]
    },
    {
     "name": "stderr",
     "output_type": "stream",
     "text": [
      "Generations:  40%|████      | 8/20 [18:35<26:50, 134.20s/it]"
     ]
    },
    {
     "name": "stdout",
     "output_type": "stream",
     "text": [
      "\n",
      "Top 5 individuals in generation 8:\n",
      "  Genome: (18, 0.20609596000132982, 30, 15), Fitness: 0.6803690195083618\n",
      "    n_neighbors=18, min_dist=0.20609596000132982, min_cluster_size=30, n_components=15\n",
      "  Genome: (18, 4, 23, 6), Fitness: 0.6803431510925293\n",
      "    n_neighbors=18, min_dist=4, min_cluster_size=23, n_components=6\n",
      "  Genome: (40, 14, 45, 6), Fitness: 0.6483440399169922\n",
      "    n_neighbors=40, min_dist=14, min_cluster_size=45, n_components=6\n",
      "  Genome: (40, 14, 38, 6), Fitness: 0.6403877139091492\n",
      "    n_neighbors=40, min_dist=14, min_cluster_size=38, n_components=6\n",
      "  Genome: (40, 14, 38, 6), Fitness: 0.6403877139091492\n",
      "    n_neighbors=40, min_dist=14, min_cluster_size=38, n_components=6\n",
      "Number of mutations: 8\n"
     ]
    },
    {
     "name": "stderr",
     "output_type": "stream",
     "text": [
      "Generations:  45%|████▌     | 9/20 [21:06<25:35, 139.59s/it]"
     ]
    },
    {
     "name": "stdout",
     "output_type": "stream",
     "text": [
      "\n",
      "Top 5 individuals in generation 9:\n",
      "  Genome: (18, 0.20609596000132982, 30, 15), Fitness: 0.6803690195083618\n",
      "    n_neighbors=18, min_dist=0.20609596000132982, min_cluster_size=30, n_components=15\n",
      "  Genome: (40, 14, 38, 6), Fitness: 0.6403877139091492\n",
      "    n_neighbors=40, min_dist=14, min_cluster_size=38, n_components=6\n",
      "  Genome: (40, 14, 38, 6), Fitness: 0.6403877139091492\n",
      "    n_neighbors=40, min_dist=14, min_cluster_size=38, n_components=6\n",
      "  Genome: (40, 14, 38, 6), Fitness: 0.6403877139091492\n",
      "    n_neighbors=40, min_dist=14, min_cluster_size=38, n_components=6\n",
      "  Genome: (40, 14, 38, 6), Fitness: 0.6403877139091492\n",
      "    n_neighbors=40, min_dist=14, min_cluster_size=38, n_components=6\n",
      "Number of mutations: 8\n"
     ]
    },
    {
     "name": "stderr",
     "output_type": "stream",
     "text": [
      "Generations:  50%|█████     | 10/20 [24:04<25:12, 151.27s/it]"
     ]
    },
    {
     "name": "stdout",
     "output_type": "stream",
     "text": [
      "\n",
      "Top 5 individuals in generation 10:\n",
      "  Genome: (18, 0.20609596000132982, 30, 15), Fitness: 0.6803690195083618\n",
      "    n_neighbors=18, min_dist=0.20609596000132982, min_cluster_size=30, n_components=15\n",
      "  Genome: (40, 14, 38, 6), Fitness: 0.6403877139091492\n",
      "    n_neighbors=40, min_dist=14, min_cluster_size=38, n_components=6\n",
      "  Genome: (40, 14, 38, 6), Fitness: 0.6403877139091492\n",
      "    n_neighbors=40, min_dist=14, min_cluster_size=38, n_components=6\n",
      "  Genome: (40, 41, 38, 6), Fitness: 0.6403877139091492\n",
      "    n_neighbors=40, min_dist=41, min_cluster_size=38, n_components=6\n",
      "  Genome: (40, 14, 38, 6), Fitness: 0.6403877139091492\n",
      "    n_neighbors=40, min_dist=14, min_cluster_size=38, n_components=6\n",
      "Number of mutations: 16\n"
     ]
    },
    {
     "name": "stderr",
     "output_type": "stream",
     "text": [
      "Generations:  55%|█████▌    | 11/20 [26:48<23:15, 155.10s/it]"
     ]
    },
    {
     "name": "stdout",
     "output_type": "stream",
     "text": [
      "\n",
      "Top 5 individuals in generation 11:\n",
      "  Genome: (18, 0.20609596000132982, 30, 15), Fitness: 0.6803690195083618\n",
      "    n_neighbors=18, min_dist=0.20609596000132982, min_cluster_size=30, n_components=15\n",
      "  Genome: (40, 0.24890629295663746, 38, 15), Fitness: 0.6527329087257385\n",
      "    n_neighbors=40, min_dist=0.24890629295663746, min_cluster_size=38, n_components=15\n",
      "  Genome: (40, 14, 38, 6), Fitness: 0.6403877139091492\n",
      "    n_neighbors=40, min_dist=14, min_cluster_size=38, n_components=6\n",
      "  Genome: (40, 14, 38, 6), Fitness: 0.6403877139091492\n",
      "    n_neighbors=40, min_dist=14, min_cluster_size=38, n_components=6\n",
      "  Genome: (40, 14, 38, 6), Fitness: 0.6403877139091492\n",
      "    n_neighbors=40, min_dist=14, min_cluster_size=38, n_components=6\n",
      "Number of mutations: 15\n"
     ]
    },
    {
     "name": "stderr",
     "output_type": "stream",
     "text": [
      "Generations:  60%|██████    | 12/20 [29:30<20:58, 157.35s/it]"
     ]
    },
    {
     "name": "stdout",
     "output_type": "stream",
     "text": [
      "\n",
      "Top 5 individuals in generation 12:\n",
      "  Genome: (18, 0.20609596000132982, 30, 15), Fitness: 0.6803690195083618\n",
      "    n_neighbors=18, min_dist=0.20609596000132982, min_cluster_size=30, n_components=15\n",
      "  Genome: (0.3048274311766477, 14, 0.8112292703452796, 15), Fitness: 0.6501136422157288\n",
      "    n_neighbors=0.3048274311766477, min_dist=14, min_cluster_size=0.8112292703452796, n_components=15\n",
      "  Genome: (40, 14, 28, 6), Fitness: 0.6344756484031677\n",
      "    n_neighbors=40, min_dist=14, min_cluster_size=28, n_components=6\n",
      "  Genome: (40, 14, 30, 12), Fitness: 0.6215342283248901\n",
      "    n_neighbors=40, min_dist=14, min_cluster_size=30, n_components=12\n",
      "  Genome: (40, 14, 30, 12), Fitness: 0.6215342283248901\n",
      "    n_neighbors=40, min_dist=14, min_cluster_size=30, n_components=12\n",
      "Number of mutations: 14\n"
     ]
    },
    {
     "name": "stderr",
     "output_type": "stream",
     "text": [
      "/Users/leo/Programming/PLR/Leo/env/lib/python3.11/site-packages/umap/spectral.py:260: UserWarning: WARNING: spectral initialisation failed! The eigenvector solver\n",
      "failed. This is likely due to too small an eigengap. Consider\n",
      "adding some noise or jitter to your data.\n",
      "\n",
      "Falling back to random initialisation!\n",
      "  warn(\n",
      "Generations:  65%|██████▌   | 13/20 [31:50<17:43, 151.93s/it]"
     ]
    },
    {
     "name": "stdout",
     "output_type": "stream",
     "text": [
      "\n",
      "Top 5 individuals in generation 13:\n",
      "  Genome: (18, 0.20609596000132982, 30, 15), Fitness: 0.6803690195083618\n",
      "    n_neighbors=18, min_dist=0.20609596000132982, min_cluster_size=30, n_components=15\n",
      "  Genome: (18, 0.20609596000132982, 30, 15), Fitness: 0.6803690195083618\n",
      "    n_neighbors=18, min_dist=0.20609596000132982, min_cluster_size=30, n_components=15\n",
      "  Genome: (18, 0.20609596000132982, 30, 15), Fitness: 0.6803690195083618\n",
      "    n_neighbors=18, min_dist=0.20609596000132982, min_cluster_size=30, n_components=15\n",
      "  Genome: (0.3048274311766477, 0.20609596000132982, 30, 15), Fitness: 0.651601254940033\n",
      "    n_neighbors=0.3048274311766477, min_dist=0.20609596000132982, min_cluster_size=30, n_components=15\n",
      "  Genome: (0.3048274311766477, 14, 0.8112292703452796, 15), Fitness: 0.6449204683303833\n",
      "    n_neighbors=0.3048274311766477, min_dist=14, min_cluster_size=0.8112292703452796, n_components=15\n",
      "Number of mutations: 12\n"
     ]
    },
    {
     "name": "stderr",
     "output_type": "stream",
     "text": [
      "/Users/leo/Programming/PLR/Leo/env/lib/python3.11/site-packages/umap/spectral.py:260: UserWarning: WARNING: spectral initialisation failed! The eigenvector solver\n",
      "failed. This is likely due to too small an eigengap. Consider\n",
      "adding some noise or jitter to your data.\n",
      "\n",
      "Falling back to random initialisation!\n",
      "  warn(\n",
      "/Users/leo/Programming/PLR/Leo/env/lib/python3.11/site-packages/umap/distances.py:1063: NumbaDeprecationWarning: The 'nopython' keyword argument was not supplied to the 'numba.jit' decorator. The implicit default value for this argument is currently False, but it will be changed to True in Numba 0.59.0. See https://numba.readthedocs.io/en/stable/reference/deprecation.html#deprecation-of-object-mode-fall-back-behaviour-when-using-jit for details.\n",
      "  @numba.jit()\n",
      "/Users/leo/Programming/PLR/Leo/env/lib/python3.11/site-packages/umap/distances.py:1071: NumbaDeprecationWarning: The 'nopython' keyword argument was not supplied to the 'numba.jit' decorator. The implicit default value for this argument is currently False, but it will be changed to True in Numba 0.59.0. See https://numba.readthedocs.io/en/stable/reference/deprecation.html#deprecation-of-object-mode-fall-back-behaviour-when-using-jit for details.\n",
      "  @numba.jit()\n",
      "/Users/leo/Programming/PLR/Leo/env/lib/python3.11/site-packages/umap/distances.py:1086: NumbaDeprecationWarning: The 'nopython' keyword argument was not supplied to the 'numba.jit' decorator. The implicit default value for this argument is currently False, but it will be changed to True in Numba 0.59.0. See https://numba.readthedocs.io/en/stable/reference/deprecation.html#deprecation-of-object-mode-fall-back-behaviour-when-using-jit for details.\n",
      "  @numba.jit()\n",
      "/Users/leo/Programming/PLR/Leo/env/lib/python3.11/site-packages/umap/umap_.py:660: NumbaDeprecationWarning: The 'nopython' keyword argument was not supplied to the 'numba.jit' decorator. The implicit default value for this argument is currently False, but it will be changed to True in Numba 0.59.0. See https://numba.readthedocs.io/en/stable/reference/deprecation.html#deprecation-of-object-mode-fall-back-behaviour-when-using-jit for details.\n",
      "  @numba.jit()\n",
      "/Users/leo/Programming/PLR/Leo/env/lib/python3.11/site-packages/umap/spectral.py:260: UserWarning: WARNING: spectral initialisation failed! The eigenvector solver\n",
      "failed. This is likely due to too small an eigengap. Consider\n",
      "adding some noise or jitter to your data.\n",
      "\n",
      "Falling back to random initialisation!\n",
      "  warn(\n",
      "/Users/leo/Programming/PLR/Leo/env/lib/python3.11/site-packages/umap/spectral.py:260: UserWarning: WARNING: spectral initialisation failed! The eigenvector solver\n",
      "failed. This is likely due to too small an eigengap. Consider\n",
      "adding some noise or jitter to your data.\n",
      "\n",
      "Falling back to random initialisation!\n",
      "  warn(\n",
      "Generations:  70%|███████   | 14/20 [33:51<14:16, 142.73s/it]"
     ]
    },
    {
     "name": "stdout",
     "output_type": "stream",
     "text": [
      "\n",
      "Top 5 individuals in generation 14:\n",
      "  Genome: (18, 0.20609596000132982, 30, 15), Fitness: 0.6803690195083618\n",
      "    n_neighbors=18, min_dist=0.20609596000132982, min_cluster_size=30, n_components=15\n",
      "  Genome: (0.3048274311766477, 14, 0.8112292703452796, 15), Fitness: 0.6394630670547485\n",
      "    n_neighbors=0.3048274311766477, min_dist=14, min_cluster_size=0.8112292703452796, n_components=15\n",
      "  Genome: (40, 14, 30, 12), Fitness: 0.6215342283248901\n",
      "    n_neighbors=40, min_dist=14, min_cluster_size=30, n_components=12\n",
      "  Genome: (40, 42, 30, 12), Fitness: 0.6215342283248901\n",
      "    n_neighbors=40, min_dist=42, min_cluster_size=30, n_components=12\n",
      "  Genome: (40, 14, 30, 6), Fitness: 0.6126372814178467\n",
      "    n_neighbors=40, min_dist=14, min_cluster_size=30, n_components=6\n",
      "Number of mutations: 13\n"
     ]
    },
    {
     "name": "stderr",
     "output_type": "stream",
     "text": [
      "/Users/leo/Programming/PLR/Leo/env/lib/python3.11/site-packages/umap/distances.py:1063: NumbaDeprecationWarning: The 'nopython' keyword argument was not supplied to the 'numba.jit' decorator. The implicit default value for this argument is currently False, but it will be changed to True in Numba 0.59.0. See https://numba.readthedocs.io/en/stable/reference/deprecation.html#deprecation-of-object-mode-fall-back-behaviour-when-using-jit for details.\n",
      "  @numba.jit()\n",
      "/Users/leo/Programming/PLR/Leo/env/lib/python3.11/site-packages/umap/distances.py:1071: NumbaDeprecationWarning: The 'nopython' keyword argument was not supplied to the 'numba.jit' decorator. The implicit default value for this argument is currently False, but it will be changed to True in Numba 0.59.0. See https://numba.readthedocs.io/en/stable/reference/deprecation.html#deprecation-of-object-mode-fall-back-behaviour-when-using-jit for details.\n",
      "  @numba.jit()\n",
      "/Users/leo/Programming/PLR/Leo/env/lib/python3.11/site-packages/umap/distances.py:1086: NumbaDeprecationWarning: The 'nopython' keyword argument was not supplied to the 'numba.jit' decorator. The implicit default value for this argument is currently False, but it will be changed to True in Numba 0.59.0. See https://numba.readthedocs.io/en/stable/reference/deprecation.html#deprecation-of-object-mode-fall-back-behaviour-when-using-jit for details.\n",
      "  @numba.jit()\n",
      "/Users/leo/Programming/PLR/Leo/env/lib/python3.11/site-packages/umap/umap_.py:660: NumbaDeprecationWarning: The 'nopython' keyword argument was not supplied to the 'numba.jit' decorator. The implicit default value for this argument is currently False, but it will be changed to True in Numba 0.59.0. See https://numba.readthedocs.io/en/stable/reference/deprecation.html#deprecation-of-object-mode-fall-back-behaviour-when-using-jit for details.\n",
      "  @numba.jit()\n",
      "/Users/leo/Programming/PLR/Leo/env/lib/python3.11/site-packages/umap/distances.py:1063: NumbaDeprecationWarning: The 'nopython' keyword argument was not supplied to the 'numba.jit' decorator. The implicit default value for this argument is currently False, but it will be changed to True in Numba 0.59.0. See https://numba.readthedocs.io/en/stable/reference/deprecation.html#deprecation-of-object-mode-fall-back-behaviour-when-using-jit for details.\n",
      "  @numba.jit()\n",
      "/Users/leo/Programming/PLR/Leo/env/lib/python3.11/site-packages/umap/distances.py:1071: NumbaDeprecationWarning: The 'nopython' keyword argument was not supplied to the 'numba.jit' decorator. The implicit default value for this argument is currently False, but it will be changed to True in Numba 0.59.0. See https://numba.readthedocs.io/en/stable/reference/deprecation.html#deprecation-of-object-mode-fall-back-behaviour-when-using-jit for details.\n",
      "  @numba.jit()\n",
      "/Users/leo/Programming/PLR/Leo/env/lib/python3.11/site-packages/umap/distances.py:1086: NumbaDeprecationWarning: The 'nopython' keyword argument was not supplied to the 'numba.jit' decorator. The implicit default value for this argument is currently False, but it will be changed to True in Numba 0.59.0. See https://numba.readthedocs.io/en/stable/reference/deprecation.html#deprecation-of-object-mode-fall-back-behaviour-when-using-jit for details.\n",
      "  @numba.jit()\n",
      "/Users/leo/Programming/PLR/Leo/env/lib/python3.11/site-packages/umap/spectral.py:260: UserWarning: WARNING: spectral initialisation failed! The eigenvector solver\n",
      "failed. This is likely due to too small an eigengap. Consider\n",
      "adding some noise or jitter to your data.\n",
      "\n",
      "Falling back to random initialisation!\n",
      "  warn(\n",
      "/Users/leo/Programming/PLR/Leo/env/lib/python3.11/site-packages/umap/umap_.py:660: NumbaDeprecationWarning: The 'nopython' keyword argument was not supplied to the 'numba.jit' decorator. The implicit default value for this argument is currently False, but it will be changed to True in Numba 0.59.0. See https://numba.readthedocs.io/en/stable/reference/deprecation.html#deprecation-of-object-mode-fall-back-behaviour-when-using-jit for details.\n",
      "  @numba.jit()\n",
      "Generations:  75%|███████▌  | 15/20 [35:56<11:27, 137.46s/it]"
     ]
    },
    {
     "name": "stdout",
     "output_type": "stream",
     "text": [
      "\n",
      "Top 5 individuals in generation 15:\n",
      "  Genome: (0.3048274311766477, 0.20609596000132982, 30, 15), Fitness: 0.681515097618103\n",
      "    n_neighbors=0.3048274311766477, min_dist=0.20609596000132982, min_cluster_size=30, n_components=15\n",
      "  Genome: (18, 0.20609596000132982, 30, 15), Fitness: 0.6803690195083618\n",
      "    n_neighbors=18, min_dist=0.20609596000132982, min_cluster_size=30, n_components=15\n",
      "  Genome: (18, 0.20609596000132982, 30, 15), Fitness: 0.6803690195083618\n",
      "    n_neighbors=18, min_dist=0.20609596000132982, min_cluster_size=30, n_components=15\n",
      "  Genome: (18, 0.20609596000132982, 30, 15), Fitness: 0.6803690195083618\n",
      "    n_neighbors=18, min_dist=0.20609596000132982, min_cluster_size=30, n_components=15\n",
      "  Genome: (40, 14, 48, 6), Fitness: 0.6638833284378052\n",
      "    n_neighbors=40, min_dist=14, min_cluster_size=48, n_components=6\n",
      "Number of mutations: 1\n"
     ]
    },
    {
     "name": "stderr",
     "output_type": "stream",
     "text": [
      "/Users/leo/Programming/PLR/Leo/env/lib/python3.11/site-packages/umap/distances.py:1063: NumbaDeprecationWarning: The 'nopython' keyword argument was not supplied to the 'numba.jit' decorator. The implicit default value for this argument is currently False, but it will be changed to True in Numba 0.59.0. See https://numba.readthedocs.io/en/stable/reference/deprecation.html#deprecation-of-object-mode-fall-back-behaviour-when-using-jit for details.\n",
      "  @numba.jit()\n",
      "/Users/leo/Programming/PLR/Leo/env/lib/python3.11/site-packages/umap/distances.py:1071: NumbaDeprecationWarning: The 'nopython' keyword argument was not supplied to the 'numba.jit' decorator. The implicit default value for this argument is currently False, but it will be changed to True in Numba 0.59.0. See https://numba.readthedocs.io/en/stable/reference/deprecation.html#deprecation-of-object-mode-fall-back-behaviour-when-using-jit for details.\n",
      "  @numba.jit()\n",
      "/Users/leo/Programming/PLR/Leo/env/lib/python3.11/site-packages/umap/distances.py:1086: NumbaDeprecationWarning: The 'nopython' keyword argument was not supplied to the 'numba.jit' decorator. The implicit default value for this argument is currently False, but it will be changed to True in Numba 0.59.0. See https://numba.readthedocs.io/en/stable/reference/deprecation.html#deprecation-of-object-mode-fall-back-behaviour-when-using-jit for details.\n",
      "  @numba.jit()\n",
      "/Users/leo/Programming/PLR/Leo/env/lib/python3.11/site-packages/umap/umap_.py:660: NumbaDeprecationWarning: The 'nopython' keyword argument was not supplied to the 'numba.jit' decorator. The implicit default value for this argument is currently False, but it will be changed to True in Numba 0.59.0. See https://numba.readthedocs.io/en/stable/reference/deprecation.html#deprecation-of-object-mode-fall-back-behaviour-when-using-jit for details.\n",
      "  @numba.jit()\n",
      "Generations:  80%|████████  | 16/20 [38:06<08:59, 134.98s/it]"
     ]
    },
    {
     "name": "stdout",
     "output_type": "stream",
     "text": [
      "\n",
      "Top 5 individuals in generation 16:\n",
      "  Genome: (0.3048274311766477, 0.20609596000132982, 30, 15), Fitness: 0.7153910994529724\n",
      "    n_neighbors=0.3048274311766477, min_dist=0.20609596000132982, min_cluster_size=30, n_components=15\n",
      "  Genome: (18, 0.20609596000132982, 30, 15), Fitness: 0.6803690195083618\n",
      "    n_neighbors=18, min_dist=0.20609596000132982, min_cluster_size=30, n_components=15\n",
      "  Genome: (40, 0.20609596000132982, 30, 6), Fitness: 0.6588167548179626\n",
      "    n_neighbors=40, min_dist=0.20609596000132982, min_cluster_size=30, n_components=6\n",
      "  Genome: (40, 14, 30, 6), Fitness: 0.6126372814178467\n",
      "    n_neighbors=40, min_dist=14, min_cluster_size=30, n_components=6\n",
      "  Genome: (40, 10, 30, 6), Fitness: 0.6126372814178467\n",
      "    n_neighbors=40, min_dist=10, min_cluster_size=30, n_components=6\n",
      "Number of mutations: 4\n"
     ]
    },
    {
     "name": "stderr",
     "output_type": "stream",
     "text": [
      "Generations:  85%|████████▌ | 17/20 [39:51<06:18, 126.22s/it]"
     ]
    },
    {
     "name": "stdout",
     "output_type": "stream",
     "text": [
      "\n",
      "Top 5 individuals in generation 17:\n",
      "  Genome: (0.3048274311766477, 0.20609596000132982, 30, 15), Fitness: 0.7175283432006836\n",
      "    n_neighbors=0.3048274311766477, min_dist=0.20609596000132982, min_cluster_size=30, n_components=15\n",
      "  Genome: (18, 0.20609596000132982, 30, 15), Fitness: 0.6803690195083618\n",
      "    n_neighbors=18, min_dist=0.20609596000132982, min_cluster_size=30, n_components=15\n",
      "  Genome: (40, 0.20609596000132982, 30, 6), Fitness: 0.6588167548179626\n",
      "    n_neighbors=40, min_dist=0.20609596000132982, min_cluster_size=30, n_components=6\n",
      "  Genome: (40, 0.20609596000132982, 30, 6), Fitness: 0.6588167548179626\n",
      "    n_neighbors=40, min_dist=0.20609596000132982, min_cluster_size=30, n_components=6\n",
      "  Genome: (40, 0.20609596000132982, 30, 6), Fitness: 0.6588167548179626\n",
      "    n_neighbors=40, min_dist=0.20609596000132982, min_cluster_size=30, n_components=6\n",
      "Number of mutations: 6\n"
     ]
    },
    {
     "name": "stderr",
     "output_type": "stream",
     "text": [
      "/Users/leo/Programming/PLR/Leo/env/lib/python3.11/site-packages/umap/distances.py:1063: NumbaDeprecationWarning: The 'nopython' keyword argument was not supplied to the 'numba.jit' decorator. The implicit default value for this argument is currently False, but it will be changed to True in Numba 0.59.0. See https://numba.readthedocs.io/en/stable/reference/deprecation.html#deprecation-of-object-mode-fall-back-behaviour-when-using-jit for details.\n",
      "  @numba.jit()\n",
      "/Users/leo/Programming/PLR/Leo/env/lib/python3.11/site-packages/umap/distances.py:1071: NumbaDeprecationWarning: The 'nopython' keyword argument was not supplied to the 'numba.jit' decorator. The implicit default value for this argument is currently False, but it will be changed to True in Numba 0.59.0. See https://numba.readthedocs.io/en/stable/reference/deprecation.html#deprecation-of-object-mode-fall-back-behaviour-when-using-jit for details.\n",
      "  @numba.jit()\n",
      "/Users/leo/Programming/PLR/Leo/env/lib/python3.11/site-packages/umap/distances.py:1086: NumbaDeprecationWarning: The 'nopython' keyword argument was not supplied to the 'numba.jit' decorator. The implicit default value for this argument is currently False, but it will be changed to True in Numba 0.59.0. See https://numba.readthedocs.io/en/stable/reference/deprecation.html#deprecation-of-object-mode-fall-back-behaviour-when-using-jit for details.\n",
      "  @numba.jit()\n",
      "/Users/leo/Programming/PLR/Leo/env/lib/python3.11/site-packages/umap/umap_.py:660: NumbaDeprecationWarning: The 'nopython' keyword argument was not supplied to the 'numba.jit' decorator. The implicit default value for this argument is currently False, but it will be changed to True in Numba 0.59.0. See https://numba.readthedocs.io/en/stable/reference/deprecation.html#deprecation-of-object-mode-fall-back-behaviour-when-using-jit for details.\n",
      "  @numba.jit()\n",
      "Generations:  90%|█████████ | 18/20 [41:41<04:02, 121.21s/it]"
     ]
    },
    {
     "name": "stdout",
     "output_type": "stream",
     "text": [
      "\n",
      "Top 5 individuals in generation 18:\n",
      "  Genome: (0.3048274311766477, 0.20609596000132982, 30, 15), Fitness: 0.6952118277549744\n",
      "    n_neighbors=0.3048274311766477, min_dist=0.20609596000132982, min_cluster_size=30, n_components=15\n",
      "  Genome: (40, 0.20609596000132982, 30, 6), Fitness: 0.6588167548179626\n",
      "    n_neighbors=40, min_dist=0.20609596000132982, min_cluster_size=30, n_components=6\n",
      "  Genome: (40, 0.20609596000132982, 30, 6), Fitness: 0.6588167548179626\n",
      "    n_neighbors=40, min_dist=0.20609596000132982, min_cluster_size=30, n_components=6\n",
      "  Genome: (40, 10, 30, 6), Fitness: 0.6126372814178467\n",
      "    n_neighbors=40, min_dist=10, min_cluster_size=30, n_components=6\n",
      "  Genome: (40, 14, 30, 6), Fitness: 0.6126372814178467\n",
      "    n_neighbors=40, min_dist=14, min_cluster_size=30, n_components=6\n",
      "Number of mutations: 6\n"
     ]
    },
    {
     "name": "stderr",
     "output_type": "stream",
     "text": [
      "/Users/leo/Programming/PLR/Leo/env/lib/python3.11/site-packages/umap/distances.py:1063: NumbaDeprecationWarning: The 'nopython' keyword argument was not supplied to the 'numba.jit' decorator. The implicit default value for this argument is currently False, but it will be changed to True in Numba 0.59.0. See https://numba.readthedocs.io/en/stable/reference/deprecation.html#deprecation-of-object-mode-fall-back-behaviour-when-using-jit for details.\n",
      "  @numba.jit()\n",
      "/Users/leo/Programming/PLR/Leo/env/lib/python3.11/site-packages/umap/distances.py:1071: NumbaDeprecationWarning: The 'nopython' keyword argument was not supplied to the 'numba.jit' decorator. The implicit default value for this argument is currently False, but it will be changed to True in Numba 0.59.0. See https://numba.readthedocs.io/en/stable/reference/deprecation.html#deprecation-of-object-mode-fall-back-behaviour-when-using-jit for details.\n",
      "  @numba.jit()\n",
      "/Users/leo/Programming/PLR/Leo/env/lib/python3.11/site-packages/umap/distances.py:1086: NumbaDeprecationWarning: The 'nopython' keyword argument was not supplied to the 'numba.jit' decorator. The implicit default value for this argument is currently False, but it will be changed to True in Numba 0.59.0. See https://numba.readthedocs.io/en/stable/reference/deprecation.html#deprecation-of-object-mode-fall-back-behaviour-when-using-jit for details.\n",
      "  @numba.jit()\n",
      "/Users/leo/Programming/PLR/Leo/env/lib/python3.11/site-packages/umap/umap_.py:660: NumbaDeprecationWarning: The 'nopython' keyword argument was not supplied to the 'numba.jit' decorator. The implicit default value for this argument is currently False, but it will be changed to True in Numba 0.59.0. See https://numba.readthedocs.io/en/stable/reference/deprecation.html#deprecation-of-object-mode-fall-back-behaviour-when-using-jit for details.\n",
      "  @numba.jit()\n",
      "/Users/leo/Programming/PLR/Leo/env/lib/python3.11/site-packages/umap/distances.py:1063: NumbaDeprecationWarning: The 'nopython' keyword argument was not supplied to the 'numba.jit' decorator. The implicit default value for this argument is currently False, but it will be changed to True in Numba 0.59.0. See https://numba.readthedocs.io/en/stable/reference/deprecation.html#deprecation-of-object-mode-fall-back-behaviour-when-using-jit for details.\n",
      "  @numba.jit()\n",
      "/Users/leo/Programming/PLR/Leo/env/lib/python3.11/site-packages/umap/distances.py:1071: NumbaDeprecationWarning: The 'nopython' keyword argument was not supplied to the 'numba.jit' decorator. The implicit default value for this argument is currently False, but it will be changed to True in Numba 0.59.0. See https://numba.readthedocs.io/en/stable/reference/deprecation.html#deprecation-of-object-mode-fall-back-behaviour-when-using-jit for details.\n",
      "  @numba.jit()\n",
      "/Users/leo/Programming/PLR/Leo/env/lib/python3.11/site-packages/umap/distances.py:1086: NumbaDeprecationWarning: The 'nopython' keyword argument was not supplied to the 'numba.jit' decorator. The implicit default value for this argument is currently False, but it will be changed to True in Numba 0.59.0. See https://numba.readthedocs.io/en/stable/reference/deprecation.html#deprecation-of-object-mode-fall-back-behaviour-when-using-jit for details.\n",
      "  @numba.jit()\n",
      "/Users/leo/Programming/PLR/Leo/env/lib/python3.11/site-packages/umap/umap_.py:660: NumbaDeprecationWarning: The 'nopython' keyword argument was not supplied to the 'numba.jit' decorator. The implicit default value for this argument is currently False, but it will be changed to True in Numba 0.59.0. See https://numba.readthedocs.io/en/stable/reference/deprecation.html#deprecation-of-object-mode-fall-back-behaviour-when-using-jit for details.\n",
      "  @numba.jit()\n",
      "Generations:  95%|█████████▌| 19/20 [43:28<01:57, 117.05s/it]"
     ]
    },
    {
     "name": "stdout",
     "output_type": "stream",
     "text": [
      "\n",
      "Top 5 individuals in generation 19:\n",
      "  Genome: (0.3048274311766477, 0.20609596000132982, 30, 15), Fitness: 0.6846258640289307\n",
      "    n_neighbors=0.3048274311766477, min_dist=0.20609596000132982, min_cluster_size=30, n_components=15\n",
      "  Genome: (40, 0.20609596000132982, 30, 6), Fitness: 0.6588167548179626\n",
      "    n_neighbors=40, min_dist=0.20609596000132982, min_cluster_size=30, n_components=6\n",
      "  Genome: (40, 0.20609596000132982, 30, 6), Fitness: 0.6588167548179626\n",
      "    n_neighbors=40, min_dist=0.20609596000132982, min_cluster_size=30, n_components=6\n",
      "  Genome: (18, 0.20609596000132982, 30, 10), Fitness: 0.6552243828773499\n",
      "    n_neighbors=18, min_dist=0.20609596000132982, min_cluster_size=30, n_components=10\n",
      "  Genome: (40, 14, 30, 6), Fitness: 0.6126372814178467\n",
      "    n_neighbors=40, min_dist=14, min_cluster_size=30, n_components=6\n",
      "Number of mutations: 11\n"
     ]
    },
    {
     "name": "stderr",
     "output_type": "stream",
     "text": [
      "Generations: 100%|██████████| 20/20 [45:02<00:00, 135.11s/it]"
     ]
    },
    {
     "name": "stdout",
     "output_type": "stream",
     "text": [
      "\n",
      "Top 5 individuals in generation 20:\n",
      "  Genome: (17, 0.20609596000132982, 30, 6), Fitness: 0.676801860332489\n",
      "    n_neighbors=17, min_dist=0.20609596000132982, min_cluster_size=30, n_components=6\n",
      "  Genome: (40, 0.20609596000132982, 30, 10), Fitness: 0.668157160282135\n",
      "    n_neighbors=40, min_dist=0.20609596000132982, min_cluster_size=30, n_components=10\n",
      "  Genome: (40, 0.20609596000132982, 30, 10), Fitness: 0.668157160282135\n",
      "    n_neighbors=40, min_dist=0.20609596000132982, min_cluster_size=30, n_components=10\n",
      "  Genome: (40, 0.20609596000132982, 30, 10), Fitness: 0.668157160282135\n",
      "    n_neighbors=40, min_dist=0.20609596000132982, min_cluster_size=30, n_components=10\n",
      "  Genome: (0.3048274311766477, 0.20609596000132982, 30, 15), Fitness: 0.6607688069343567\n",
      "    n_neighbors=0.3048274311766477, min_dist=0.20609596000132982, min_cluster_size=30, n_components=15\n",
      "Number of mutations: 9\n"
     ]
    },
    {
     "name": "stderr",
     "output_type": "stream",
     "text": [
      "\n"
     ]
    },
    {
     "name": "stdout",
     "output_type": "stream",
     "text": [
      "\n",
      "Best parameters found:\n",
      "  n_neighbors=17, min_dist=0.20609596000132982, min_cluster_size=30, n_components=6\n",
      "Best silhouette score: 0.676801860332489\n"
     ]
    },
    {
     "data": {
      "image/png": "[encoded data removed]",
      "text/plain": [
       "<Figure size 1000x600 with 1 Axes>"
      ]
     },
     "metadata": {},
     "output_type": "display_data"
    }
   ],
   "source": [
    "# Initialize variables for adaptive mutation\n",
    "last_best_fitness = -1\n",
    "increased_mutation_rate = 0.2\n",
    "\n",
    "# Fitness function\n",
    "def fitness(params):\n",
    "    n_neighbors, min_dist, min_cluster_size, n_components = params\n",
    "    \n",
    "    # Validate n_neighbors\n",
    "    n_neighbors = max(2, int(n_neighbors))  # Ensure n_neighbors is an integer and greater than 1\n",
    "    \n",
    "    min_cluster_size = max(2, int(min_cluster_size))\n",
    "    n_components = max(2, int(n_components))\n",
    "    min_dist = min(min_dist, 1.0)\n",
    "    \n",
    "    dataset_name, dataset = random.choice(list(datasets.items()))\n",
    "    dataset = dataset.dropna()\n",
    "    umap_result = perform_umap(dataset, n_neighbors=n_neighbors, min_dist=min_dist, n_components=n_components)\n",
    "    labels = perform_hdbscan(umap_result, min_cluster_size=min_cluster_size)\n",
    "    score = calculate_silhouette(umap_result, labels)\n",
    "    return score\n",
    "\n",
    "# Datasets to consider\n",
    "datasets = {'data_symp_groups_all': data_symp_groups_all}  # Replace with your actual dataset\n",
    "\n",
    "# Genetic Algorithm Parameters\n",
    "population_size = 50\n",
    "n_generations = 20\n",
    "selection_rate = 0.3\n",
    "mutation_rate = 0.05\n",
    "\n",
    "# Initialize population\n",
    "population = []\n",
    "for _ in range(population_size // 4):\n",
    "    population.append(0.3048274311766477, 0.20609596000132982, 30, 15)\n",
    "    population.append((random.randint(21, 35), random.uniform(0.26, 0.5), random.randint(21, 35), random.randint(11, 18)))\n",
    "    population.append((random.randint(36, 45), random.uniform(0.51, 0.75), random.randint(36, 45), random.randint(19, 22)))\n",
    "    population.append((random.randint(46, 50), random.uniform(0.76, 1.0), random.randint(46, 50), random.randint(23, 25)))\n",
    "\n",
    "# To store best fitness and variance for each generation\n",
    "best_fitnesses = []\n",
    "variances = []\n",
    "\n",
    "# Main GA loop\n",
    "for generation in tqdm(range(n_generations), desc=\"Generations\"):\n",
    "    # Evaluate fitness of each individual in parallel using joblib\n",
    "    scores = Parallel(n_jobs=-1)(delayed(fitness)(ind) for ind in population)\n",
    "    \n",
    "    # Store best fitness and variance\n",
    "    best_fitness = max(scores)\n",
    "    best_fitnesses.append(best_fitness)\n",
    "    variances.append(np.var(scores))\n",
    "    \n",
    "    # Adaptive mutation rate\n",
    "    if best_fitness <= last_best_fitness:\n",
    "        mutation_rate = increased_mutation_rate\n",
    "    else:\n",
    "        mutation_rate = 0.1\n",
    "    last_best_fitness = best_fitness\n",
    "    \n",
    "    # Elitism: Keep the best individual\n",
    "    best_idx = scores.index(best_fitness)\n",
    "    best_individual = population[best_idx]\n",
    "    \n",
    "    # Print the top 5 individuals\n",
    "    top5_idx = sorted(range(len(scores)), key=lambda i: scores[i], reverse=True)[:5]\n",
    "    print(f\"\\nTop 5 individuals in generation {generation+1}:\")\n",
    "    for i in top5_idx:\n",
    "        print(f\"  Genome: {population[i]}, Fitness: {scores[i]}\")\n",
    "        print(f\"    n_neighbors={population[i][0]}, min_dist={population[i][1]}, min_cluster_size={population[i][2]}, n_components={population[i][3]}\")\n",
    "    \n",
    "    # Roulette wheel selection\n",
    "    fitness_sum = sum(scores)\n",
    "    selected_population = []\n",
    "    for _ in range(int(selection_rate * population_size)):\n",
    "        pick = random.uniform(0, fitness_sum)\n",
    "        current = 0\n",
    "        for i in range(len(scores)):\n",
    "            current += scores[i]\n",
    "            if current > pick:\n",
    "                selected_population.append(population[i])\n",
    "                break\n",
    "    \n",
    "    # Crossover (mate) the selected individuals\n",
    "    children = []\n",
    "    while len(children) < population_size - len(selected_population) - 1:\n",
    "        parent1, parent2 = random.sample(selected_population, 2)\n",
    "        crossover_point = random.randint(1, len(parent1) - 1)\n",
    "        child = parent1[:crossover_point] + parent2[crossover_point:]\n",
    "        children.append(child)\n",
    "    \n",
    "    # Mutation\n",
    "    mutations = 0\n",
    "    for i in range(len(children)):\n",
    "        if random.random() < mutation_rate:\n",
    "            mutations += 1\n",
    "            mutate_pos = random.randint(0, len(children[i]) - 1)\n",
    "            new_value = random.choice([\n",
    "                random.randint(5, 50),\n",
    "                random.uniform(0.0, 1.0),\n",
    "                random.randint(5, 50),\n",
    "                random.randint(2, 25)\n",
    "            ])\n",
    "            children[i] = children[i][:mutate_pos] + (new_value,) + children[i][mutate_pos+1:]\n",
    "    \n",
    "    print(f\"Number of mutations: {mutations}\")\n",
    "    \n",
    "    # Create new population\n",
    "    population = selected_population + children\n",
    "\n",
    "    # Add the best individual back into the population\n",
    "    population.append(best_individual)\n",
    "\n",
    "# Evaluate the final population and find the best individual\n",
    "final_scores = Parallel(n_jobs=-1)(delayed(fitness)(ind) for ind in population)\n",
    "best_idx = max(range(len(final_scores)), key=lambda i: final_scores[i])\n",
    "best_individual = population[best_idx]\n",
    "\n",
    "# Print best parameters and silhouette score\n",
    "print(\"\\nBest parameters found:\")\n",
    "print(f\"  n_neighbors={best_individual[0]}, min_dist={best_individual[1]}, min_cluster_size={best_individual[2]}, n_components={best_individual[3]}\")\n",
    "print(f\"Best silhouette score: {final_scores[best_idx]}\")\n",
    "\n",
    "# Plotting the graph\n",
    "plt.figure(figsize=(10, 6))\n",
    "plt.plot(range(1, n_generations + 1), best_fitnesses, label='Best Fitness')\n",
    "plt.fill_between(range(1, n_generations + 1), \n",
    "                np.array(best_fitnesses) - np.array(variances), \n",
    "                np.array(best_fitnesses) + np.array(variances), \n",
    "                color='gray', alpha=0.5, label='Variance')\n",
    "plt.xlabel('Generation')\n",
    "plt.ylabel('Fitness')\n",
    "plt.title('Evolution of Best Fitness Over Generations')\n",
    "plt.legend()\n",
    "plt.show()\n"
   ]
  },
  {
   "cell_type": "code",
   "execution_count": null,
   "metadata": {},
   "outputs": [],
   "source": []
  }
 ],
 "metadata": {
  "kernelspec": {
   "display_name": "env",
   "language": "python",
   "name": "python3"
  },
  "language_info": {
   "codemirror_mode": {
    "name": "ipython",
    "version": 3
   },
   "file_extension": ".py",
   "mimetype": "text/x-python",
   "name": "python",
   "nbconvert_exporter": "python",
   "pygments_lexer": "ipython3",
   "version": "3.11.4"
  },
  "orig_nbformat": 4
 },
 "nbformat": 4,
 "nbformat_minor": 2
}

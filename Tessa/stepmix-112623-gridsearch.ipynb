{
 "cells": [
  {
   "cell_type": "code",
   "execution_count": 1,
   "metadata": {},
   "outputs": [],
   "source": [
    "from stepmix.stepmix import StepMix\n",
    "import pandas as pd\n",
    "import numpy as np\n",
    "\n",
    "from sklearn.model_selection import GridSearchCV, ParameterGrid\n",
    "\n",
    "import matplotlib.pyplot as plt\n",
    "import seaborn as sns\n",
    "\n",
    "import pickle as pkl"
   ]
  },
  {
   "cell_type": "code",
   "execution_count": 2,
   "metadata": {},
   "outputs": [],
   "source": [
    "def investigate_comp(comp, resdf):\n",
    "    def avg_cols(df, cols):\n",
    "        return df[cols].mean(axis=1)\n",
    "    comp_list = list(range(0,resdf.shape[1]))\n",
    "    comp_list.remove(comp)\n",
    "    other_pts = avg_cols(resdf,comp_list)\n",
    "    return resdf[comp] - other_pts\n",
    "    "
   ]
  },
  {
   "cell_type": "code",
   "execution_count": 3,
   "metadata": {},
   "outputs": [
    {
     "data": {
      "text/plain": [
       "(6031, 162)"
      ]
     },
     "execution_count": 3,
     "metadata": {},
     "output_type": "execute_result"
    }
   ],
   "source": [
    "df = pd.read_csv(\"../data/cleaned_data_SYMPTOMS_9_13_23.csv\", index_col=0)\n",
    "sympdf = df.loc[:, df.columns.str.startswith('Symptom_')]\n",
    "sympdf.shape"
   ]
  },
  {
   "cell_type": "code",
   "execution_count": 4,
   "metadata": {},
   "outputs": [
    {
     "data": {
      "text/plain": [
       "<Axes: >"
      ]
     },
     "execution_count": 4,
     "metadata": {},
     "output_type": "execute_result"
    },
    {
     "data": {
      "image/png": "[encoded data removed]",
      "text/plain": [
       "<Figure size 640x480 with 1 Axes>"
      ]
     },
     "metadata": {},
     "output_type": "display_data"
    }
   ],
   "source": [
    "sympdf.mean().hist(bins=20)"
   ]
  },
  {
   "cell_type": "code",
   "execution_count": 5,
   "metadata": {},
   "outputs": [
    {
     "data": {
      "text/plain": [
       "Symptom_Fatigue                                         0.979440\n",
       "Symptom_Memory_short                                    0.924225\n",
       "Symptom_PEM                                             0.883601\n",
       "Symptom_Cognitive_Functioning_attentionconcentration    0.752943\n",
       "Symptom_Shortness_of_breath                             0.736860\n",
       "Symptom_Insomnia                                        0.693252\n",
       "Symptom_Tightness_of_chest                              0.680153\n",
       "Symptom_Muscle_aches                                    0.677168\n",
       "Symptom_Dizziness_vertigo                               0.672525\n",
       "Symptom_Cognitive_Functioning_thinking                  0.666225\n",
       "dtype: float64"
      ]
     },
     "execution_count": 5,
     "metadata": {},
     "output_type": "execute_result"
    }
   ],
   "source": [
    "sympdf.mean().sort_values(ascending=False).head(10)\n",
    "# we're filtering out fatigue, short term memory only (ok)"
   ]
  },
  {
   "cell_type": "code",
   "execution_count": 6,
   "metadata": {},
   "outputs": [
    {
     "data": {
      "text/plain": [
       "Symptom_Eye_Vision_loss_of_vision                         0.011109\n",
       "Symptom_Reproductive_early_menopause                      0.013928\n",
       "Symptom_Reproductive_postmenopausal_bleeding              0.016084\n",
       "Symptom_Hallucinations_other                              0.023379\n",
       "Symptom_SkinAllergy_shingles                              0.025701\n",
       "Symptom_Heightened_taste                                  0.030841\n",
       "Symptom_Sensations_facial_paralysis                       0.032001\n",
       "Symptom_Hallucinations_tactile                            0.033659\n",
       "Symptom_Reproductive_testicle_penis_pain_changes          0.036478\n",
       "Symptom_Eye_Vision_tunnel_vision                          0.038302\n",
       "Symptom_New_anaphylaxis                                   0.042945\n",
       "Symptom_Speech_other                                      0.043111\n",
       "Symptom_Coughing_up_blood                                 0.047919\n",
       "Symptom_Ear_numbness                                      0.049411\n",
       "Symptom_Inability_to_yawn                                 0.054054\n",
       "Symptom_Speech_changes_to_secondary_languages             0.055712\n",
       "Symptom_SkinAllergy_other_itchy                           0.057370\n",
       "Symptom_Sensations_facial_pressure_other                  0.060189\n",
       "Symptom_Sensations_facial_pressure_right                  0.067982\n",
       "Symptom_Hallucinations_auditory                           0.071132\n",
       "Symptom_Sensations_facial_pressure_left                   0.079257\n",
       "Symptom_Eye_Vision_double_vision                          0.079589\n",
       "Symptom_Dermatographia                                    0.080418\n",
       "Symptom_Heightened_smell                                  0.082242\n",
       "Symptom_Eye_Vision_redness_outside_eye                    0.083237\n",
       "Symptom_Respiratory_other                                 0.086055\n",
       "Symptom_Cognitive_Functioning_other                       0.087050\n",
       "Symptom_Memory_no_new_memories                            0.087548\n",
       "Symptom_Reproductive_other_menstrual_issues               0.090035\n",
       "Symptom_Speech_speaking_unrecognizable_words              0.094677\n",
       "Symptom_Skin_Allergy_other                                0.094677\n",
       "Symptom_Reproductive_abnormally_heavy_periods_clotting    0.095341\n",
       "Symptom_Hearing_loss                                      0.096999\n",
       "Symptom_Phantom_taste                                     0.098989\n",
       "Symptom_Hallucinations_visual                             0.103300\n",
       "Symptom_Cognitive_Functioning_agnosia                     0.108274\n",
       "Symptom_SkinAllergy_brittle_nail                          0.109435\n",
       "Symptom_New_allergies                                     0.111093\n",
       "Symptom_Reproductive_sexual_dysfunction                   0.112917\n",
       "Symptom_Memory_other                                      0.120046\n",
       "dtype: float64"
      ]
     },
     "execution_count": 6,
     "metadata": {},
     "output_type": "execute_result"
    }
   ],
   "source": [
    "# while these are rare, combos of rare sypmtoms might group together\n",
    "# and some are particularly significant. I think I could either filter at the 5% mark on either side\n",
    "# or I could  \n",
    "sympdf.mean().sort_values(ascending=True).head(40)\n"
   ]
  },
  {
   "cell_type": "code",
   "execution_count": 7,
   "metadata": {},
   "outputs": [],
   "source": [
    "# trying with 10% \n",
    "sympdf = sympdf.loc[:, (sympdf.sum() / sympdf.shape[0] > 0.1) & (sympdf.sum()  / sympdf.shape[0]< 0.9)]"
   ]
  },
  {
   "cell_type": "code",
   "execution_count": 8,
   "metadata": {},
   "outputs": [
    {
     "data": {
      "text/plain": [
       "(6031, 126)"
      ]
     },
     "execution_count": 8,
     "metadata": {},
     "output_type": "execute_result"
    }
   ],
   "source": [
    "sympdf.shape"
   ]
  },
  {
   "cell_type": "code",
   "execution_count": 9,
   "metadata": {},
   "outputs": [],
   "source": [
    "# patient is a mixture of classes but it's meant to represent probs rather than actual multiple class labels\n",
    "# so this model is less complex, but it might still be more appropriate, it'll depend\n",
    "\n",
    "model = StepMix(n_components=9, measurement=\"binary\", verbose=0, random_state=123)\n"
   ]
  },
  {
   "cell_type": "code",
   "execution_count": 10,
   "metadata": {},
   "outputs": [
    {
     "name": "stdout",
     "output_type": "stream",
     "text": [
      "Fitting StepMix...\n"
     ]
    },
    {
     "name": "stderr",
     "output_type": "stream",
     "text": [
      "Initializations (n_init) : 100%|██████████| 1/1 [00:03<00:00,  3.56s/it, max_LL=-3.78e+5, max_avg_LL=-62.7]\n"
     ]
    },
    {
     "data": {
      "text/html": [
       "<style>#sk-container-id-1 {color: black;}#sk-container-id-1 pre{padding: 0;}#sk-container-id-1 div.sk-toggleable {background-color: white;}#sk-container-id-1 label.sk-toggleable__label {cursor: pointer;display: block;width: 100%;margin-bottom: 0;padding: 0.3em;box-sizing: border-box;text-align: center;}#sk-container-id-1 label.sk-toggleable__label-arrow:before {content: \"▸\";float: left;margin-right: 0.25em;color: #696969;}#sk-container-id-1 label.sk-toggleable__label-arrow:hover:before {color: black;}#sk-container-id-1 div.sk-estimator:hover label.sk-toggleable__label-arrow:before {color: black;}#sk-container-id-1 div.sk-toggleable__content {max-height: 0;max-width: 0;overflow: hidden;text-align: left;background-color: #f0f8ff;}#sk-container-id-1 div.sk-toggleable__content pre {margin: 0.2em;color: black;border-radius: 0.25em;background-color: #f0f8ff;}#sk-container-id-1 input.sk-toggleable__control:checked~div.sk-toggleable__content {max-height: 200px;max-width: 100%;overflow: auto;}#sk-container-id-1 input.sk-toggleable__control:checked~label.sk-toggleable__label-arrow:before {content: \"▾\";}#sk-container-id-1 div.sk-estimator input.sk-toggleable__control:checked~label.sk-toggleable__label {background-color: #d4ebff;}#sk-container-id-1 div.sk-label input.sk-toggleable__control:checked~label.sk-toggleable__label {background-color: #d4ebff;}#sk-container-id-1 input.sk-hidden--visually {border: 0;clip: rect(1px 1px 1px 1px);clip: rect(1px, 1px, 1px, 1px);height: 1px;margin: -1px;overflow: hidden;padding: 0;position: absolute;width: 1px;}#sk-container-id-1 div.sk-estimator {font-family: monospace;background-color: #f0f8ff;border: 1px dotted black;border-radius: 0.25em;box-sizing: border-box;margin-bottom: 0.5em;}#sk-container-id-1 div.sk-estimator:hover {background-color: #d4ebff;}#sk-container-id-1 div.sk-parallel-item::after {content: \"\";width: 100%;border-bottom: 1px solid gray;flex-grow: 1;}#sk-container-id-1 div.sk-label:hover label.sk-toggleable__label {background-color: #d4ebff;}#sk-container-id-1 div.sk-serial::before {content: \"\";position: absolute;border-left: 1px solid gray;box-sizing: border-box;top: 0;bottom: 0;left: 50%;z-index: 0;}#sk-container-id-1 div.sk-serial {display: flex;flex-direction: column;align-items: center;background-color: white;padding-right: 0.2em;padding-left: 0.2em;position: relative;}#sk-container-id-1 div.sk-item {position: relative;z-index: 1;}#sk-container-id-1 div.sk-parallel {display: flex;align-items: stretch;justify-content: center;background-color: white;position: relative;}#sk-container-id-1 div.sk-item::before, #sk-container-id-1 div.sk-parallel-item::before {content: \"\";position: absolute;border-left: 1px solid gray;box-sizing: border-box;top: 0;bottom: 0;left: 50%;z-index: -1;}#sk-container-id-1 div.sk-parallel-item {display: flex;flex-direction: column;z-index: 1;position: relative;background-color: white;}#sk-container-id-1 div.sk-parallel-item:first-child::after {align-self: flex-end;width: 50%;}#sk-container-id-1 div.sk-parallel-item:last-child::after {align-self: flex-start;width: 50%;}#sk-container-id-1 div.sk-parallel-item:only-child::after {width: 0;}#sk-container-id-1 div.sk-dashed-wrapped {border: 1px dashed gray;margin: 0 0.4em 0.5em 0.4em;box-sizing: border-box;padding-bottom: 0.4em;background-color: white;}#sk-container-id-1 div.sk-label label {font-family: monospace;font-weight: bold;display: inline-block;line-height: 1.2em;}#sk-container-id-1 div.sk-label-container {text-align: center;}#sk-container-id-1 div.sk-container {/* jupyter's `normalize.less` sets `[hidden] { display: none; }` but bootstrap.min.css set `[hidden] { display: none !important; }` so we also need the `!important` here to be able to override the default hidden behavior on the sphinx rendered scikit-learn.org. See: https://github.com/scikit-learn/scikit-learn/issues/21755 */display: inline-block !important;position: relative;}#sk-container-id-1 div.sk-text-repr-fallback {display: none;}</style><div id=\"sk-container-id-1\" class=\"sk-top-container\"><div class=\"sk-text-repr-fallback\"><pre>StepMix(measurement=&#x27;binary&#x27;, n_components=9, random_state=123)</pre><b>In a Jupyter environment, please rerun this cell to show the HTML representation or trust the notebook. <br />On GitHub, the HTML representation is unable to render, please try loading this page with nbviewer.org.</b></div><div class=\"sk-container\" hidden><div class=\"sk-item\"><div class=\"sk-estimator sk-toggleable\"><input class=\"sk-toggleable__control sk-hidden--visually\" id=\"sk-estimator-id-1\" type=\"checkbox\" checked><label for=\"sk-estimator-id-1\" class=\"sk-toggleable__label sk-toggleable__label-arrow\">StepMix</label><div class=\"sk-toggleable__content\"><pre>StepMix(measurement=&#x27;binary&#x27;, n_components=9, random_state=123)</pre></div></div></div></div></div>"
      ],
      "text/plain": [
       "StepMix(measurement='binary', n_components=9, random_state=123)"
      ]
     },
     "execution_count": 10,
     "metadata": {},
     "output_type": "execute_result"
    }
   ],
   "source": [
    "model.fit(sympdf)\n"
   ]
  },
  {
   "cell_type": "code",
   "execution_count": 11,
   "metadata": {},
   "outputs": [
    {
     "name": "stdout",
     "output_type": "stream",
     "text": [
      "Fitting StepMix...\n"
     ]
    },
    {
     "name": "stderr",
     "output_type": "stream",
     "text": [
      "Initializations (n_init) : 100%|██████████| 1/1 [00:00<00:00,  2.77it/s, max_LL=-2.64e+5, max_avg_LL=-65.7]\n"
     ]
    },
    {
     "name": "stdout",
     "output_type": "stream",
     "text": [
      "Fitting StepMix...\n"
     ]
    },
    {
     "name": "stderr",
     "output_type": "stream",
     "text": [
      "Initializations (n_init) : 100%|██████████| 1/1 [00:00<00:00,  6.41it/s, max_LL=-2.64e+5, max_avg_LL=-65.8]\n"
     ]
    },
    {
     "name": "stdout",
     "output_type": "stream",
     "text": [
      "Fitting StepMix...\n"
     ]
    },
    {
     "name": "stderr",
     "output_type": "stream",
     "text": [
      "Initializations (n_init) : 100%|██████████| 1/1 [00:00<00:00,  5.83it/s, max_LL=-2.66e+5, max_avg_LL=-66.2]\n"
     ]
    },
    {
     "name": "stdout",
     "output_type": "stream",
     "text": [
      "Fitting StepMix...\n"
     ]
    },
    {
     "name": "stderr",
     "output_type": "stream",
     "text": [
      "Initializations (n_init) : 100%|██████████| 1/1 [00:00<00:00,  1.70it/s, max_LL=-2.59e+5, max_avg_LL=-64.3]\n"
     ]
    },
    {
     "name": "stdout",
     "output_type": "stream",
     "text": [
      "Fitting StepMix...\n"
     ]
    },
    {
     "name": "stderr",
     "output_type": "stream",
     "text": [
      "Initializations (n_init) : 100%|██████████| 1/1 [00:00<00:00,  4.92it/s, max_LL=-2.59e+5, max_avg_LL=-64.4]\n"
     ]
    },
    {
     "name": "stdout",
     "output_type": "stream",
     "text": [
      "Fitting StepMix...\n"
     ]
    },
    {
     "name": "stderr",
     "output_type": "stream",
     "text": [
      "Initializations (n_init) : 100%|██████████| 1/1 [00:00<00:00,  4.23it/s, max_LL=-2.61e+5, max_avg_LL=-64.9]\n"
     ]
    },
    {
     "name": "stdout",
     "output_type": "stream",
     "text": [
      "Fitting StepMix...\n"
     ]
    },
    {
     "name": "stderr",
     "output_type": "stream",
     "text": [
      "Initializations (n_init) : 100%|██████████| 1/1 [00:00<00:00,  4.61it/s, max_LL=-2.56e+5, max_avg_LL=-63.7]\n"
     ]
    },
    {
     "name": "stdout",
     "output_type": "stream",
     "text": [
      "Fitting StepMix...\n"
     ]
    },
    {
     "name": "stderr",
     "output_type": "stream",
     "text": [
      "Initializations (n_init) : 100%|██████████| 1/1 [00:00<00:00,  4.33it/s, max_LL=-2.56e+5, max_avg_LL=-63.8]\n"
     ]
    },
    {
     "name": "stdout",
     "output_type": "stream",
     "text": [
      "Fitting StepMix...\n"
     ]
    },
    {
     "name": "stderr",
     "output_type": "stream",
     "text": [
      "Initializations (n_init) : 100%|██████████| 1/1 [00:00<00:00,  3.52it/s, max_LL=-2.59e+5, max_avg_LL=-64.3]\n"
     ]
    },
    {
     "name": "stdout",
     "output_type": "stream",
     "text": [
      "Fitting StepMix...\n"
     ]
    },
    {
     "name": "stderr",
     "output_type": "stream",
     "text": [
      "Initializations (n_init) : 100%|██████████| 1/1 [00:00<00:00,  1.86it/s, max_LL=-2.54e+5, max_avg_LL=-63.2]\n"
     ]
    },
    {
     "name": "stdout",
     "output_type": "stream",
     "text": [
      "Fitting StepMix...\n"
     ]
    },
    {
     "name": "stderr",
     "output_type": "stream",
     "text": [
      "Initializations (n_init) : 100%|██████████| 1/1 [00:00<00:00,  3.32it/s, max_LL=-2.55e+5, max_avg_LL=-63.3]\n"
     ]
    },
    {
     "name": "stdout",
     "output_type": "stream",
     "text": [
      "Fitting StepMix...\n"
     ]
    },
    {
     "name": "stderr",
     "output_type": "stream",
     "text": [
      "Initializations (n_init) : 100%|██████████| 1/1 [00:00<00:00,  1.58it/s, max_LL=-2.57e+5, max_avg_LL=-63.9]\n"
     ]
    },
    {
     "name": "stdout",
     "output_type": "stream",
     "text": [
      "Fitting StepMix...\n"
     ]
    },
    {
     "name": "stderr",
     "output_type": "stream",
     "text": [
      "Initializations (n_init) : 100%|██████████| 1/1 [00:01<00:00,  1.47s/it, max_LL=-2.53e+5, max_avg_LL=-63]\n"
     ]
    },
    {
     "name": "stdout",
     "output_type": "stream",
     "text": [
      "Fitting StepMix...\n"
     ]
    },
    {
     "name": "stderr",
     "output_type": "stream",
     "text": [
      "Initializations (n_init) : 100%|██████████| 1/1 [00:00<00:00,  1.47it/s, max_LL=-2.53e+5, max_avg_LL=-63]\n"
     ]
    },
    {
     "name": "stdout",
     "output_type": "stream",
     "text": [
      "Fitting StepMix...\n"
     ]
    },
    {
     "name": "stderr",
     "output_type": "stream",
     "text": [
      "Initializations (n_init) : 100%|██████████| 1/1 [00:00<00:00,  1.92it/s, max_LL=-2.56e+5, max_avg_LL=-63.6]\n"
     ]
    },
    {
     "name": "stdout",
     "output_type": "stream",
     "text": [
      "Fitting StepMix...\n"
     ]
    },
    {
     "name": "stderr",
     "output_type": "stream",
     "text": [
      "Initializations (n_init) : 100%|██████████| 1/1 [00:01<00:00,  1.63s/it, max_LL=-2.52e+5, max_avg_LL=-62.7]\n"
     ]
    },
    {
     "name": "stdout",
     "output_type": "stream",
     "text": [
      "Fitting StepMix...\n"
     ]
    },
    {
     "name": "stderr",
     "output_type": "stream",
     "text": [
      "Initializations (n_init) : 100%|██████████| 1/1 [00:02<00:00,  2.32s/it, max_LL=-2.53e+5, max_avg_LL=-62.8]\n"
     ]
    },
    {
     "name": "stdout",
     "output_type": "stream",
     "text": [
      "Fitting StepMix...\n"
     ]
    },
    {
     "name": "stderr",
     "output_type": "stream",
     "text": [
      "Initializations (n_init) : 100%|██████████| 1/1 [00:01<00:00,  1.05s/it, max_LL=-2.55e+5, max_avg_LL=-63.4]\n"
     ]
    },
    {
     "name": "stdout",
     "output_type": "stream",
     "text": [
      "Fitting StepMix...\n"
     ]
    },
    {
     "name": "stderr",
     "output_type": "stream",
     "text": [
      "Initializations (n_init) : 100%|██████████| 1/1 [00:01<00:00,  1.83s/it, max_LL=-2.51e+5, max_avg_LL=-62.5]\n"
     ]
    },
    {
     "name": "stdout",
     "output_type": "stream",
     "text": [
      "Fitting StepMix...\n"
     ]
    },
    {
     "name": "stderr",
     "output_type": "stream",
     "text": [
      "Initializations (n_init) : 100%|██████████| 1/1 [00:01<00:00,  1.76s/it, max_LL=-2.52e+5, max_avg_LL=-62.6]\n"
     ]
    },
    {
     "name": "stdout",
     "output_type": "stream",
     "text": [
      "Fitting StepMix...\n"
     ]
    },
    {
     "name": "stderr",
     "output_type": "stream",
     "text": [
      "Initializations (n_init) : 100%|██████████| 1/1 [00:01<00:00,  1.39s/it, max_LL=-2.54e+5, max_avg_LL=-63.3]\n"
     ]
    },
    {
     "name": "stdout",
     "output_type": "stream",
     "text": [
      "Fitting StepMix...\n"
     ]
    },
    {
     "name": "stderr",
     "output_type": "stream",
     "text": [
      "Initializations (n_init) : 100%|██████████| 1/1 [00:03<00:00,  3.71s/it, max_LL=-2.5e+5, max_avg_LL=-62.3]\n"
     ]
    },
    {
     "name": "stdout",
     "output_type": "stream",
     "text": [
      "Fitting StepMix...\n"
     ]
    },
    {
     "name": "stderr",
     "output_type": "stream",
     "text": [
      "Initializations (n_init) : 100%|██████████| 1/1 [00:04<00:00,  4.96s/it, max_LL=-2.51e+5, max_avg_LL=-62.5]\n"
     ]
    },
    {
     "name": "stdout",
     "output_type": "stream",
     "text": [
      "Fitting StepMix...\n"
     ]
    },
    {
     "name": "stderr",
     "output_type": "stream",
     "text": [
      "Initializations (n_init) : 100%|██████████| 1/1 [00:13<00:00, 13.80s/it, max_LL=-2.54e+5, max_avg_LL=-63.1]\n"
     ]
    },
    {
     "name": "stdout",
     "output_type": "stream",
     "text": [
      "Fitting StepMix...\n"
     ]
    },
    {
     "name": "stderr",
     "output_type": "stream",
     "text": [
      "Initializations (n_init) : 100%|██████████| 1/1 [00:03<00:00,  3.47s/it, max_LL=-2.5e+5, max_avg_LL=-62.2]\n"
     ]
    },
    {
     "name": "stdout",
     "output_type": "stream",
     "text": [
      "Fitting StepMix...\n"
     ]
    },
    {
     "name": "stderr",
     "output_type": "stream",
     "text": [
      "Initializations (n_init) : 100%|██████████| 1/1 [00:03<00:00,  3.66s/it, max_LL=-2.51e+5, max_avg_LL=-62.3]\n"
     ]
    },
    {
     "name": "stdout",
     "output_type": "stream",
     "text": [
      "Fitting StepMix...\n"
     ]
    },
    {
     "name": "stderr",
     "output_type": "stream",
     "text": [
      "Initializations (n_init) : 100%|██████████| 1/1 [00:03<00:00,  3.11s/it, max_LL=-2.53e+5, max_avg_LL=-63]\n"
     ]
    },
    {
     "name": "stdout",
     "output_type": "stream",
     "text": [
      "Fitting StepMix...\n"
     ]
    },
    {
     "name": "stderr",
     "output_type": "stream",
     "text": [
      "Initializations (n_init) : 100%|██████████| 1/1 [00:02<00:00,  2.75s/it, max_LL=-2.49e+5, max_avg_LL=-62]\n"
     ]
    },
    {
     "name": "stdout",
     "output_type": "stream",
     "text": [
      "Fitting StepMix...\n"
     ]
    },
    {
     "name": "stderr",
     "output_type": "stream",
     "text": [
      "Initializations (n_init) : 100%|██████████| 1/1 [00:02<00:00,  2.99s/it, max_LL=-2.5e+5, max_avg_LL=-62.2]\n"
     ]
    },
    {
     "name": "stdout",
     "output_type": "stream",
     "text": [
      "Fitting StepMix...\n"
     ]
    },
    {
     "name": "stderr",
     "output_type": "stream",
     "text": [
      "Initializations (n_init) : 100%|██████████| 1/1 [00:02<00:00,  2.30s/it, max_LL=-2.53e+5, max_avg_LL=-62.9]\n"
     ]
    },
    {
     "name": "stdout",
     "output_type": "stream",
     "text": [
      "Fitting StepMix...\n"
     ]
    },
    {
     "name": "stderr",
     "output_type": "stream",
     "text": [
      "Initializations (n_init) : 100%|██████████| 1/1 [00:07<00:00,  7.33s/it, max_LL=-2.49e+5, max_avg_LL=-61.9]\n"
     ]
    },
    {
     "name": "stdout",
     "output_type": "stream",
     "text": [
      "Fitting StepMix...\n"
     ]
    },
    {
     "name": "stderr",
     "output_type": "stream",
     "text": [
      "Initializations (n_init) : 100%|██████████| 1/1 [00:02<00:00,  2.97s/it, max_LL=-2.49e+5, max_avg_LL=-62]\n"
     ]
    },
    {
     "name": "stdout",
     "output_type": "stream",
     "text": [
      "Fitting StepMix...\n"
     ]
    },
    {
     "name": "stderr",
     "output_type": "stream",
     "text": [
      "Initializations (n_init) : 100%|██████████| 1/1 [00:03<00:00,  3.24s/it, max_LL=-2.52e+5, max_avg_LL=-62.8]\n"
     ]
    },
    {
     "name": "stdout",
     "output_type": "stream",
     "text": [
      "Fitting StepMix...\n"
     ]
    },
    {
     "name": "stderr",
     "output_type": "stream",
     "text": [
      "Initializations (n_init) : 100%|██████████| 1/1 [00:03<00:00,  3.92s/it, max_LL=-2.48e+5, max_avg_LL=-61.8]\n"
     ]
    },
    {
     "name": "stdout",
     "output_type": "stream",
     "text": [
      "Fitting StepMix...\n"
     ]
    },
    {
     "name": "stderr",
     "output_type": "stream",
     "text": [
      "Initializations (n_init) : 100%|██████████| 1/1 [00:07<00:00,  7.24s/it, max_LL=-2.49e+5, max_avg_LL=-62]\n"
     ]
    },
    {
     "name": "stdout",
     "output_type": "stream",
     "text": [
      "Fitting StepMix...\n"
     ]
    },
    {
     "name": "stderr",
     "output_type": "stream",
     "text": [
      "Initializations (n_init) : 100%|██████████| 1/1 [00:02<00:00,  2.24s/it, max_LL=-2.52e+5, max_avg_LL=-62.6]\n"
     ]
    },
    {
     "name": "stdout",
     "output_type": "stream",
     "text": [
      "Fitting StepMix...\n"
     ]
    },
    {
     "name": "stderr",
     "output_type": "stream",
     "text": [
      "Initializations (n_init) : 100%|██████████| 1/1 [00:01<00:00,  1.26s/it, max_LL=-2.48e+5, max_avg_LL=-61.7]\n"
     ]
    },
    {
     "name": "stdout",
     "output_type": "stream",
     "text": [
      "Fitting StepMix...\n"
     ]
    },
    {
     "name": "stderr",
     "output_type": "stream",
     "text": [
      "Initializations (n_init) : 100%|██████████| 1/1 [00:02<00:00,  2.87s/it, max_LL=-2.49e+5, max_avg_LL=-61.8]\n"
     ]
    },
    {
     "name": "stdout",
     "output_type": "stream",
     "text": [
      "Fitting StepMix...\n"
     ]
    },
    {
     "name": "stderr",
     "output_type": "stream",
     "text": [
      "Initializations (n_init) : 100%|██████████| 1/1 [00:05<00:00,  5.47s/it, max_LL=-2.51e+5, max_avg_LL=-62.5]\n"
     ]
    },
    {
     "name": "stdout",
     "output_type": "stream",
     "text": [
      "Fitting StepMix...\n"
     ]
    },
    {
     "name": "stderr",
     "output_type": "stream",
     "text": [
      "Initializations (n_init) : 100%|██████████| 1/1 [00:03<00:00,  3.46s/it, max_LL=-2.48e+5, max_avg_LL=-61.6]\n"
     ]
    },
    {
     "name": "stdout",
     "output_type": "stream",
     "text": [
      "Fitting StepMix...\n"
     ]
    },
    {
     "name": "stderr",
     "output_type": "stream",
     "text": [
      "Initializations (n_init) : 100%|██████████| 1/1 [00:02<00:00,  2.58s/it, max_LL=-2.48e+5, max_avg_LL=-61.8]\n"
     ]
    },
    {
     "name": "stdout",
     "output_type": "stream",
     "text": [
      "Fitting StepMix...\n"
     ]
    },
    {
     "name": "stderr",
     "output_type": "stream",
     "text": [
      "Initializations (n_init) : 100%|██████████| 1/1 [00:04<00:00,  4.41s/it, max_LL=-2.51e+5, max_avg_LL=-62.4]\n"
     ]
    },
    {
     "name": "stdout",
     "output_type": "stream",
     "text": [
      "Fitting StepMix...\n"
     ]
    },
    {
     "name": "stderr",
     "output_type": "stream",
     "text": [
      "Initializations (n_init) : 100%|██████████| 1/1 [00:03<00:00,  4.00s/it, max_LL=-2.47e+5, max_avg_LL=-61.5]\n"
     ]
    },
    {
     "name": "stdout",
     "output_type": "stream",
     "text": [
      "Fitting StepMix...\n"
     ]
    },
    {
     "name": "stderr",
     "output_type": "stream",
     "text": [
      "Initializations (n_init) : 100%|██████████| 1/1 [00:07<00:00,  7.59s/it, max_LL=-2.48e+5, max_avg_LL=-61.7]\n",
      "/Users/tessa/miniforge3/envs/stepmix/lib/python3.12/site-packages/stepmix/stepmix.py:968: ConvergenceWarning: Initializations did not converge. Try different init parameters, or increase max_iter, abs_tol, rel_tol or check for degenerate data.\n",
      "  warnings.warn(\n"
     ]
    },
    {
     "name": "stdout",
     "output_type": "stream",
     "text": [
      "Fitting StepMix...\n"
     ]
    },
    {
     "name": "stderr",
     "output_type": "stream",
     "text": [
      "Initializations (n_init) : 100%|██████████| 1/1 [00:09<00:00,  9.76s/it, max_LL=-2.51e+5, max_avg_LL=-62.4]\n"
     ]
    },
    {
     "name": "stdout",
     "output_type": "stream",
     "text": [
      "Fitting StepMix...\n"
     ]
    },
    {
     "name": "stderr",
     "output_type": "stream",
     "text": [
      "Initializations (n_init) : 100%|██████████| 1/1 [00:05<00:00,  5.10s/it, max_LL=-2.47e+5, max_avg_LL=-61.4]\n"
     ]
    },
    {
     "name": "stdout",
     "output_type": "stream",
     "text": [
      "Fitting StepMix...\n"
     ]
    },
    {
     "name": "stderr",
     "output_type": "stream",
     "text": [
      "Initializations (n_init) : 100%|██████████| 1/1 [00:04<00:00,  4.96s/it, max_LL=-2.48e+5, max_avg_LL=-61.6]\n"
     ]
    },
    {
     "name": "stdout",
     "output_type": "stream",
     "text": [
      "Fitting StepMix...\n"
     ]
    },
    {
     "name": "stderr",
     "output_type": "stream",
     "text": [
      "Initializations (n_init) : 100%|██████████| 1/1 [00:04<00:00,  4.21s/it, max_LL=-2.5e+5, max_avg_LL=-62.3]\n"
     ]
    },
    {
     "name": "stdout",
     "output_type": "stream",
     "text": [
      "Fitting StepMix...\n"
     ]
    },
    {
     "name": "stderr",
     "output_type": "stream",
     "text": [
      "Initializations (n_init) : 100%|██████████| 1/1 [00:03<00:00,  3.23s/it, max_LL=-2.47e+5, max_avg_LL=-61.3]\n"
     ]
    },
    {
     "name": "stdout",
     "output_type": "stream",
     "text": [
      "Fitting StepMix...\n"
     ]
    },
    {
     "name": "stderr",
     "output_type": "stream",
     "text": [
      "Initializations (n_init) : 100%|██████████| 1/1 [00:08<00:00,  8.13s/it, max_LL=-2.47e+5, max_avg_LL=-61.5]\n"
     ]
    },
    {
     "name": "stdout",
     "output_type": "stream",
     "text": [
      "Fitting StepMix...\n"
     ]
    },
    {
     "name": "stderr",
     "output_type": "stream",
     "text": [
      "Initializations (n_init) : 100%|██████████| 1/1 [00:09<00:00,  9.94s/it, max_LL=-2.5e+5, max_avg_LL=-62.2]\n",
      "/Users/tessa/miniforge3/envs/stepmix/lib/python3.12/site-packages/stepmix/stepmix.py:968: ConvergenceWarning: Initializations did not converge. Try different init parameters, or increase max_iter, abs_tol, rel_tol or check for degenerate data.\n",
      "  warnings.warn(\n"
     ]
    },
    {
     "name": "stdout",
     "output_type": "stream",
     "text": [
      "Fitting StepMix...\n"
     ]
    },
    {
     "name": "stderr",
     "output_type": "stream",
     "text": [
      "Initializations (n_init) : 100%|██████████| 1/1 [00:04<00:00,  4.58s/it, max_LL=-2.47e+5, max_avg_LL=-61.3]\n"
     ]
    },
    {
     "name": "stdout",
     "output_type": "stream",
     "text": [
      "Fitting StepMix...\n"
     ]
    },
    {
     "name": "stderr",
     "output_type": "stream",
     "text": [
      "Initializations (n_init) : 100%|██████████| 1/1 [00:09<00:00,  9.24s/it, max_LL=-2.47e+5, max_avg_LL=-61.4]\n"
     ]
    },
    {
     "name": "stdout",
     "output_type": "stream",
     "text": [
      "Fitting StepMix...\n"
     ]
    },
    {
     "name": "stderr",
     "output_type": "stream",
     "text": [
      "Initializations (n_init) : 100%|██████████| 1/1 [00:03<00:00,  3.63s/it, max_LL=-2.5e+5, max_avg_LL=-62.1]\n"
     ]
    },
    {
     "name": "stdout",
     "output_type": "stream",
     "text": [
      "Fitting StepMix...\n"
     ]
    },
    {
     "name": "stderr",
     "output_type": "stream",
     "text": [
      "Initializations (n_init) : 100%|██████████| 1/1 [00:15<00:00, 15.30s/it, max_LL=-2.46e+5, max_avg_LL=-61.2]\n",
      "/Users/tessa/miniforge3/envs/stepmix/lib/python3.12/site-packages/stepmix/stepmix.py:968: ConvergenceWarning: Initializations did not converge. Try different init parameters, or increase max_iter, abs_tol, rel_tol or check for degenerate data.\n",
      "  warnings.warn(\n"
     ]
    },
    {
     "name": "stdout",
     "output_type": "stream",
     "text": [
      "Fitting StepMix...\n"
     ]
    },
    {
     "name": "stderr",
     "output_type": "stream",
     "text": [
      "Initializations (n_init) : 100%|██████████| 1/1 [00:04<00:00,  4.65s/it, max_LL=-2.47e+5, max_avg_LL=-61.4]\n"
     ]
    },
    {
     "name": "stdout",
     "output_type": "stream",
     "text": [
      "Fitting StepMix...\n"
     ]
    },
    {
     "name": "stderr",
     "output_type": "stream",
     "text": [
      "Initializations (n_init) : 100%|██████████| 1/1 [00:05<00:00,  5.88s/it, max_LL=-2.5e+5, max_avg_LL=-62.1]\n"
     ]
    },
    {
     "name": "stdout",
     "output_type": "stream",
     "text": [
      "Fitting StepMix...\n"
     ]
    },
    {
     "name": "stderr",
     "output_type": "stream",
     "text": [
      "Initializations (n_init) : 100%|██████████| 1/1 [00:15<00:00, 15.21s/it, max_LL=-2.46e+5, max_avg_LL=-61.1]\n",
      "/Users/tessa/miniforge3/envs/stepmix/lib/python3.12/site-packages/stepmix/stepmix.py:968: ConvergenceWarning: Initializations did not converge. Try different init parameters, or increase max_iter, abs_tol, rel_tol or check for degenerate data.\n",
      "  warnings.warn(\n"
     ]
    },
    {
     "name": "stdout",
     "output_type": "stream",
     "text": [
      "Fitting StepMix...\n"
     ]
    },
    {
     "name": "stderr",
     "output_type": "stream",
     "text": [
      "Initializations (n_init) : 100%|██████████| 1/1 [00:11<00:00, 11.51s/it, max_LL=-2.46e+5, max_avg_LL=-61.3]\n",
      "/Users/tessa/miniforge3/envs/stepmix/lib/python3.12/site-packages/stepmix/stepmix.py:968: ConvergenceWarning: Initializations did not converge. Try different init parameters, or increase max_iter, abs_tol, rel_tol or check for degenerate data.\n",
      "  warnings.warn(\n"
     ]
    },
    {
     "name": "stdout",
     "output_type": "stream",
     "text": [
      "Fitting StepMix...\n"
     ]
    },
    {
     "name": "stderr",
     "output_type": "stream",
     "text": [
      "Initializations (n_init) : 100%|██████████| 1/1 [00:09<00:00,  9.26s/it, max_LL=-2.49e+5, max_avg_LL=-62]\n"
     ]
    },
    {
     "name": "stdout",
     "output_type": "stream",
     "text": [
      "Fitting StepMix...\n"
     ]
    },
    {
     "name": "stderr",
     "output_type": "stream",
     "text": [
      "Initializations (n_init) : 100%|██████████| 1/1 [00:09<00:00,  9.72s/it, max_LL=-2.45e+5, max_avg_LL=-61]\n"
     ]
    },
    {
     "name": "stdout",
     "output_type": "stream",
     "text": [
      "Fitting StepMix...\n"
     ]
    },
    {
     "name": "stderr",
     "output_type": "stream",
     "text": [
      "Initializations (n_init) : 100%|██████████| 1/1 [00:05<00:00,  5.11s/it, max_LL=-2.46e+5, max_avg_LL=-61.2]\n"
     ]
    },
    {
     "name": "stdout",
     "output_type": "stream",
     "text": [
      "Fitting StepMix...\n"
     ]
    },
    {
     "name": "stderr",
     "output_type": "stream",
     "text": [
      "Initializations (n_init) : 100%|██████████| 1/1 [00:07<00:00,  7.13s/it, max_LL=-2.49e+5, max_avg_LL=-61.9]\n"
     ]
    },
    {
     "name": "stdout",
     "output_type": "stream",
     "text": [
      "Fitting StepMix...\n"
     ]
    },
    {
     "name": "stderr",
     "output_type": "stream",
     "text": [
      "Initializations (n_init) : 100%|██████████| 1/1 [00:04<00:00,  4.96s/it, max_LL=-2.45e+5, max_avg_LL=-61]\n"
     ]
    },
    {
     "name": "stdout",
     "output_type": "stream",
     "text": [
      "Fitting StepMix...\n"
     ]
    },
    {
     "name": "stderr",
     "output_type": "stream",
     "text": [
      "Initializations (n_init) : 100%|██████████| 1/1 [00:10<00:00, 10.37s/it, max_LL=-2.46e+5, max_avg_LL=-61.1]\n"
     ]
    },
    {
     "name": "stdout",
     "output_type": "stream",
     "text": [
      "Fitting StepMix...\n"
     ]
    },
    {
     "name": "stderr",
     "output_type": "stream",
     "text": [
      "Initializations (n_init) : 100%|██████████| 1/1 [00:07<00:00,  7.04s/it, max_LL=-2.49e+5, max_avg_LL=-61.9]\n"
     ]
    },
    {
     "name": "stdout",
     "output_type": "stream",
     "text": [
      "Fitting StepMix...\n"
     ]
    },
    {
     "name": "stderr",
     "output_type": "stream",
     "text": [
      "Initializations (n_init) : 100%|██████████| 1/1 [00:09<00:00,  9.43s/it, max_LL=-2.45e+5, max_avg_LL=-60.9]\n",
      "/Users/tessa/miniforge3/envs/stepmix/lib/python3.12/site-packages/stepmix/stepmix.py:968: ConvergenceWarning: Initializations did not converge. Try different init parameters, or increase max_iter, abs_tol, rel_tol or check for degenerate data.\n",
      "  warnings.warn(\n"
     ]
    },
    {
     "name": "stdout",
     "output_type": "stream",
     "text": [
      "Fitting StepMix...\n"
     ]
    },
    {
     "name": "stderr",
     "output_type": "stream",
     "text": [
      "Initializations (n_init) : 100%|██████████| 1/1 [00:11<00:00, 11.21s/it, max_LL=-2.46e+5, max_avg_LL=-61.1]\n"
     ]
    },
    {
     "name": "stdout",
     "output_type": "stream",
     "text": [
      "Fitting StepMix...\n"
     ]
    },
    {
     "name": "stderr",
     "output_type": "stream",
     "text": [
      "Initializations (n_init) : 100%|██████████| 1/1 [00:03<00:00,  3.84s/it, max_LL=-2.49e+5, max_avg_LL=-61.8]\n"
     ]
    },
    {
     "name": "stdout",
     "output_type": "stream",
     "text": [
      "Fitting StepMix...\n"
     ]
    },
    {
     "name": "stderr",
     "output_type": "stream",
     "text": [
      "Initializations (n_init) : 100%|██████████| 1/1 [00:08<00:00,  8.99s/it, max_LL=-2.45e+5, max_avg_LL=-60.9]\n",
      "/Users/tessa/miniforge3/envs/stepmix/lib/python3.12/site-packages/stepmix/stepmix.py:968: ConvergenceWarning: Initializations did not converge. Try different init parameters, or increase max_iter, abs_tol, rel_tol or check for degenerate data.\n",
      "  warnings.warn(\n"
     ]
    },
    {
     "name": "stdout",
     "output_type": "stream",
     "text": [
      "Fitting StepMix...\n"
     ]
    },
    {
     "name": "stderr",
     "output_type": "stream",
     "text": [
      "Initializations (n_init) : 100%|██████████| 1/1 [00:07<00:00,  7.22s/it, max_LL=-2.45e+5, max_avg_LL=-61]\n"
     ]
    },
    {
     "name": "stdout",
     "output_type": "stream",
     "text": [
      "Fitting StepMix...\n"
     ]
    },
    {
     "name": "stderr",
     "output_type": "stream",
     "text": [
      "Initializations (n_init) : 100%|██████████| 1/1 [00:08<00:00,  8.13s/it, max_LL=-2.48e+5, max_avg_LL=-61.7]\n",
      "/Users/tessa/miniforge3/envs/stepmix/lib/python3.12/site-packages/stepmix/stepmix.py:968: ConvergenceWarning: Initializations did not converge. Try different init parameters, or increase max_iter, abs_tol, rel_tol or check for degenerate data.\n",
      "  warnings.warn(\n"
     ]
    },
    {
     "name": "stdout",
     "output_type": "stream",
     "text": [
      "Fitting StepMix...\n"
     ]
    },
    {
     "name": "stderr",
     "output_type": "stream",
     "text": [
      "Initializations (n_init) : 100%|██████████| 1/1 [00:09<00:00,  9.46s/it, max_LL=-3.71e+5, max_avg_LL=-61.4]\n"
     ]
    },
    {
     "data": {
      "text/html": [
       "<style>#sk-container-id-2 {color: black;}#sk-container-id-2 pre{padding: 0;}#sk-container-id-2 div.sk-toggleable {background-color: white;}#sk-container-id-2 label.sk-toggleable__label {cursor: pointer;display: block;width: 100%;margin-bottom: 0;padding: 0.3em;box-sizing: border-box;text-align: center;}#sk-container-id-2 label.sk-toggleable__label-arrow:before {content: \"▸\";float: left;margin-right: 0.25em;color: #696969;}#sk-container-id-2 label.sk-toggleable__label-arrow:hover:before {color: black;}#sk-container-id-2 div.sk-estimator:hover label.sk-toggleable__label-arrow:before {color: black;}#sk-container-id-2 div.sk-toggleable__content {max-height: 0;max-width: 0;overflow: hidden;text-align: left;background-color: #f0f8ff;}#sk-container-id-2 div.sk-toggleable__content pre {margin: 0.2em;color: black;border-radius: 0.25em;background-color: #f0f8ff;}#sk-container-id-2 input.sk-toggleable__control:checked~div.sk-toggleable__content {max-height: 200px;max-width: 100%;overflow: auto;}#sk-container-id-2 input.sk-toggleable__control:checked~label.sk-toggleable__label-arrow:before {content: \"▾\";}#sk-container-id-2 div.sk-estimator input.sk-toggleable__control:checked~label.sk-toggleable__label {background-color: #d4ebff;}#sk-container-id-2 div.sk-label input.sk-toggleable__control:checked~label.sk-toggleable__label {background-color: #d4ebff;}#sk-container-id-2 input.sk-hidden--visually {border: 0;clip: rect(1px 1px 1px 1px);clip: rect(1px, 1px, 1px, 1px);height: 1px;margin: -1px;overflow: hidden;padding: 0;position: absolute;width: 1px;}#sk-container-id-2 div.sk-estimator {font-family: monospace;background-color: #f0f8ff;border: 1px dotted black;border-radius: 0.25em;box-sizing: border-box;margin-bottom: 0.5em;}#sk-container-id-2 div.sk-estimator:hover {background-color: #d4ebff;}#sk-container-id-2 div.sk-parallel-item::after {content: \"\";width: 100%;border-bottom: 1px solid gray;flex-grow: 1;}#sk-container-id-2 div.sk-label:hover label.sk-toggleable__label {background-color: #d4ebff;}#sk-container-id-2 div.sk-serial::before {content: \"\";position: absolute;border-left: 1px solid gray;box-sizing: border-box;top: 0;bottom: 0;left: 50%;z-index: 0;}#sk-container-id-2 div.sk-serial {display: flex;flex-direction: column;align-items: center;background-color: white;padding-right: 0.2em;padding-left: 0.2em;position: relative;}#sk-container-id-2 div.sk-item {position: relative;z-index: 1;}#sk-container-id-2 div.sk-parallel {display: flex;align-items: stretch;justify-content: center;background-color: white;position: relative;}#sk-container-id-2 div.sk-item::before, #sk-container-id-2 div.sk-parallel-item::before {content: \"\";position: absolute;border-left: 1px solid gray;box-sizing: border-box;top: 0;bottom: 0;left: 50%;z-index: -1;}#sk-container-id-2 div.sk-parallel-item {display: flex;flex-direction: column;z-index: 1;position: relative;background-color: white;}#sk-container-id-2 div.sk-parallel-item:first-child::after {align-self: flex-end;width: 50%;}#sk-container-id-2 div.sk-parallel-item:last-child::after {align-self: flex-start;width: 50%;}#sk-container-id-2 div.sk-parallel-item:only-child::after {width: 0;}#sk-container-id-2 div.sk-dashed-wrapped {border: 1px dashed gray;margin: 0 0.4em 0.5em 0.4em;box-sizing: border-box;padding-bottom: 0.4em;background-color: white;}#sk-container-id-2 div.sk-label label {font-family: monospace;font-weight: bold;display: inline-block;line-height: 1.2em;}#sk-container-id-2 div.sk-label-container {text-align: center;}#sk-container-id-2 div.sk-container {/* jupyter's `normalize.less` sets `[hidden] { display: none; }` but bootstrap.min.css set `[hidden] { display: none !important; }` so we also need the `!important` here to be able to override the default hidden behavior on the sphinx rendered scikit-learn.org. See: https://github.com/scikit-learn/scikit-learn/issues/21755 */display: inline-block !important;position: relative;}#sk-container-id-2 div.sk-text-repr-fallback {display: none;}</style><div id=\"sk-container-id-2\" class=\"sk-top-container\"><div class=\"sk-text-repr-fallback\"><pre>GridSearchCV(cv=3,\n",
       "             estimator=StepMix(measurement=&#x27;binary&#x27;, n_components=9,\n",
       "                               random_state=123),\n",
       "             param_grid={&#x27;n_components&#x27;: [2, 3, 4, 5, 6, 7, 8, 9, 10, 11, 12,\n",
       "                                          13, 14, 15, 16, 17, 18, 19, 20, 21,\n",
       "                                          22, 23, 24, 25]})</pre><b>In a Jupyter environment, please rerun this cell to show the HTML representation or trust the notebook. <br />On GitHub, the HTML representation is unable to render, please try loading this page with nbviewer.org.</b></div><div class=\"sk-container\" hidden><div class=\"sk-item sk-dashed-wrapped\"><div class=\"sk-label-container\"><div class=\"sk-label sk-toggleable\"><input class=\"sk-toggleable__control sk-hidden--visually\" id=\"sk-estimator-id-2\" type=\"checkbox\" ><label for=\"sk-estimator-id-2\" class=\"sk-toggleable__label sk-toggleable__label-arrow\">GridSearchCV</label><div class=\"sk-toggleable__content\"><pre>GridSearchCV(cv=3,\n",
       "             estimator=StepMix(measurement=&#x27;binary&#x27;, n_components=9,\n",
       "                               random_state=123),\n",
       "             param_grid={&#x27;n_components&#x27;: [2, 3, 4, 5, 6, 7, 8, 9, 10, 11, 12,\n",
       "                                          13, 14, 15, 16, 17, 18, 19, 20, 21,\n",
       "                                          22, 23, 24, 25]})</pre></div></div></div><div class=\"sk-parallel\"><div class=\"sk-parallel-item\"><div class=\"sk-item\"><div class=\"sk-label-container\"><div class=\"sk-label sk-toggleable\"><input class=\"sk-toggleable__control sk-hidden--visually\" id=\"sk-estimator-id-3\" type=\"checkbox\" ><label for=\"sk-estimator-id-3\" class=\"sk-toggleable__label sk-toggleable__label-arrow\">estimator: StepMix</label><div class=\"sk-toggleable__content\"><pre>StepMix(measurement=&#x27;binary&#x27;, n_components=9, random_state=123)</pre></div></div></div><div class=\"sk-serial\"><div class=\"sk-item\"><div class=\"sk-estimator sk-toggleable\"><input class=\"sk-toggleable__control sk-hidden--visually\" id=\"sk-estimator-id-4\" type=\"checkbox\" ><label for=\"sk-estimator-id-4\" class=\"sk-toggleable__label sk-toggleable__label-arrow\">StepMix</label><div class=\"sk-toggleable__content\"><pre>StepMix(measurement=&#x27;binary&#x27;, n_components=9, random_state=123)</pre></div></div></div></div></div></div></div></div></div></div>"
      ],
      "text/plain": [
       "GridSearchCV(cv=3,\n",
       "             estimator=StepMix(measurement='binary', n_components=9,\n",
       "                               random_state=123),\n",
       "             param_grid={'n_components': [2, 3, 4, 5, 6, 7, 8, 9, 10, 11, 12,\n",
       "                                          13, 14, 15, 16, 17, 18, 19, 20, 21,\n",
       "                                          22, 23, 24, 25]})"
      ]
     },
     "execution_count": 11,
     "metadata": {},
     "output_type": "execute_result"
    }
   ],
   "source": [
    "grid = {\n",
    "    'n_components': [ 2,3, 4,5, 6, 7, 8, 9, 10,11,12,13,14,15,16,17,18,19,20,21,22,23,24,25],\n",
    "}\n",
    "\n",
    "# no gaussians or whatever, so n_steps can just be 1 \n",
    "\n",
    "gs = GridSearchCV(estimator=model, cv=3, param_grid=grid, verbose=0)\n",
    "gs.fit(sympdf)\n",
    "\n"
   ]
  },
  {
   "cell_type": "code",
   "execution_count": 12,
   "metadata": {},
   "outputs": [],
   "source": [
    "results = pd.DataFrame(gs.cv_results_)\n",
    "results[\"Val. Log Likelihood\"] = results['mean_test_score']"
   ]
  },
  {
   "cell_type": "code",
   "execution_count": 13,
   "metadata": {},
   "outputs": [],
   "source": [
    "results_old = results.copy()"
   ]
  },
  {
   "cell_type": "code",
   "execution_count": 14,
   "metadata": {},
   "outputs": [
    {
     "name": "stderr",
     "output_type": "stream",
     "text": [
      "/var/folders/_j/9fb8r7hn7zx13rt7glsw4j3h0000gn/T/ipykernel_97052/1270231869.py:2: UserWarning: Ignoring `palette` because no `hue` variable has been assigned.\n",
      "  sns.lineplot(data=results, x='param_n_components', y='Val. Log Likelihood',\n"
     ]
    },
    {
     "data": {
      "text/plain": [
       "<Axes: xlabel='param_n_components', ylabel='Val. Log Likelihood'>"
      ]
     },
     "execution_count": 14,
     "metadata": {},
     "output_type": "execute_result"
    },
    {
     "data": {
      "image/png": "[encoded data removed]",
      "text/plain": [
       "<Figure size 640x480 with 1 Axes>"
      ]
     },
     "metadata": {},
     "output_type": "display_data"
    }
   ],
   "source": [
    "sns.set_style(\"darkgrid\")\n",
    "sns.lineplot(data=results, x='param_n_components', y='Val. Log Likelihood',\n",
    "              palette='Dark2')"
   ]
  },
  {
   "cell_type": "code",
   "execution_count": 15,
   "metadata": {},
   "outputs": [],
   "source": [
    "%%capture\n",
    "results = dict(param_n_components=[], aic=[], bic=[])\n",
    "\n",
    "# Same model and grid as above\n",
    "for g in ParameterGrid(grid):\n",
    "    model.set_params(**g)\n",
    "    model.fit(sympdf)\n",
    "    results['param_n_components'].append(g['n_components'])\n",
    "    results['aic'].append(model.aic(sympdf))\n",
    "    results['bic'].append(model.bic(sympdf))\n",
    "\n",
    "# Save results to a dataframe\n",
    "results = pd.DataFrame(results)"
   ]
  },
  {
   "cell_type": "code",
   "execution_count": 16,
   "metadata": {},
   "outputs": [
    {
     "name": "stderr",
     "output_type": "stream",
     "text": [
      "/var/folders/_j/9fb8r7hn7zx13rt7glsw4j3h0000gn/T/ipykernel_97052/63445388.py:1: UserWarning: Ignoring `palette` because no `hue` variable has been assigned.\n",
      "  sns.lineplot(data=results, x='param_n_components', y='aic',\n"
     ]
    },
    {
     "data": {
      "text/plain": [
       "<Axes: xlabel='param_n_components', ylabel='aic'>"
      ]
     },
     "execution_count": 16,
     "metadata": {},
     "output_type": "execute_result"
    },
    {
     "data": {
      "image/png": "[encoded data removed]",
      "text/plain": [
       "<Figure size 640x480 with 1 Axes>"
      ]
     },
     "metadata": {},
     "output_type": "display_data"
    }
   ],
   "source": [
    "sns.lineplot(data=results, x='param_n_components', y='aic',\n",
    "             palette='Dark2')"
   ]
  },
  {
   "cell_type": "code",
   "execution_count": 17,
   "metadata": {},
   "outputs": [
    {
     "name": "stderr",
     "output_type": "stream",
     "text": [
      "/var/folders/_j/9fb8r7hn7zx13rt7glsw4j3h0000gn/T/ipykernel_97052/2943425988.py:1: UserWarning: Ignoring `palette` because no `hue` variable has been assigned.\n",
      "  sns.lineplot(data=results, x='param_n_components', y='bic',\n"
     ]
    },
    {
     "data": {
      "text/plain": [
       "<Axes: xlabel='param_n_components', ylabel='bic'>"
      ]
     },
     "execution_count": 17,
     "metadata": {},
     "output_type": "execute_result"
    },
    {
     "data": {
      "image/png": "[encoded data removed]",
      "text/plain": [
       "<Figure size 640x480 with 1 Axes>"
      ]
     },
     "metadata": {},
     "output_type": "display_data"
    }
   ],
   "source": [
    "sns.lineplot(data=results, x='param_n_components', y='bic',\n",
    "            palette='Dark2')"
   ]
  },
  {
   "cell_type": "code",
   "execution_count": 18,
   "metadata": {},
   "outputs": [
    {
     "data": {
      "text/plain": [
       "0     797776.760967\n",
       "1     782732.606457\n",
       "2     776196.750592\n",
       "3     772184.516089\n",
       "4     769625.088409\n",
       "5     768453.606406\n",
       "6     767862.538527\n",
       "7     766716.128293\n",
       "8     766229.910533\n",
       "9     765741.824621\n",
       "10    765324.038328\n",
       "11    765163.834581\n",
       "12    765552.336647\n",
       "13    765510.746088\n",
       "14    765419.239509\n",
       "15    765569.374988\n",
       "16    765661.093184\n",
       "17    766437.353558\n",
       "18    766585.153269\n",
       "19    766732.466686\n",
       "20    767142.913264\n",
       "21    767654.734807\n",
       "22    767825.218142\n",
       "23    768724.431716\n",
       "Name: bic, dtype: float64"
      ]
     },
     "execution_count": 18,
     "metadata": {},
     "output_type": "execute_result"
    }
   ],
   "source": [
    "results['bic']"
   ]
  },
  {
   "cell_type": "code",
   "execution_count": 19,
   "metadata": {},
   "outputs": [
    {
     "data": {
      "text/plain": [
       "param_n_components        13.000000\n",
       "aic                   754101.132194\n",
       "bic                   765163.834581\n",
       "Name: 11, dtype: float64"
      ]
     },
     "execution_count": 19,
     "metadata": {},
     "output_type": "execute_result"
    }
   ],
   "source": [
    "# print the row of results with the lowest bic\n",
    "results.iloc[results['bic'].idxmin()]\n"
   ]
  },
  {
   "cell_type": "markdown",
   "metadata": {},
   "source": [
    "We observe that the Bayes information criteria is optimal at 13 clusters\n",
    "\n",
    "Based on https://www.ncbi.nlm.nih.gov/pmc/articles/PMC7746621/?fbclid=IwAR3Gy0vBZIDrylHZpe9I0zlDiNaV1WaUrPMcAZO9seZJzkOoM6ZNeLEUd98 for a model of this size it is reasonable to use BIC, so I'm going to go ahead with 13 classes. If they end up looking highly redundant or one is especially small we can plan to scale back. "
   ]
  },
  {
   "cell_type": "code",
   "execution_count": 20,
   "metadata": {},
   "outputs": [
    {
     "name": "stdout",
     "output_type": "stream",
     "text": [
      "Fitting StepMix...\n"
     ]
    },
    {
     "name": "stderr",
     "output_type": "stream",
     "text": [
      "Initializations (n_init) : 100%|██████████| 1/1 [00:04<00:00,  4.51s/it, max_LL=-3.75e+5, max_avg_LL=-62.2]"
     ]
    },
    {
     "name": "stdout",
     "output_type": "stream",
     "text": [
      "================================================================================\n",
      "MODEL REPORT\n",
      "================================================================================\n",
      "    ============================================================================\n",
      "    Measurement model parameters\n",
      "    ============================================================================\n",
      "          model_name                                                   binary                                                                                                \n",
      "          class_no                                                         0       1       2       3       4       5       6       7       8       9       10      11      12\n",
      "          param variable                                                                                                                                                     \n",
      "          pis   Symptom_Acid_reflux                                    0.3720  0.7956  0.3809  0.3008  0.0619  0.4356  0.5891  0.3843  0.1101  0.1569  0.3971  0.1706  0.6278\n",
      "                Symptom_Acute_confusion                                0.1253  0.7292  0.2702  0.0073  0.0027  0.0728  0.5823  0.2652  0.0281  0.0686  0.2723  0.1966  0.3251\n",
      "                Symptom_Altered_smell                                  0.2357  0.6508  0.2390  0.1315  0.1895  0.1019  0.4121  0.2559  0.1619  0.1366  0.2419  0.1817  0.3382\n",
      "                Symptom_Altered_taste                                  0.2871  0.6906  0.3294  0.1641  0.2036  0.1639  0.5038  0.3349  0.1715  0.1751  0.2887  0.2165  0.4178\n",
      "                Symptom_Awakened_cannot_breathe                        0.3807  0.8055  0.2359  0.1680  0.0427  0.3738  0.6269  0.4295  0.2344  0.0740  0.4748  0.1953  0.5902\n",
      "                Symptom_Bladder_control                                0.0773  0.6317  0.2243  0.0624  0.0125  0.1898  0.3896  0.1841  0.0598  0.0361  0.1505  0.0901  0.3183\n",
      "                Symptom_Bone_ache_burning                              0.2065  0.7900  0.2708  0.1072  0.0418  0.2619  0.5827  0.3115  0.0741  0.0994  0.3129  0.1008  0.5429\n",
      "                Symptom_Bradycardia                                    0.1018  0.5067  0.1742  0.0999  0.0248  0.2190  0.3732  0.1986  0.0631  0.0928  0.1739  0.0888  0.2799\n",
      "                Symptom_Bulging_veins                                  0.0608  0.6678  0.2015  0.0836  0.0069  0.3213  0.4014  0.1706  0.0238  0.0497  0.1277  0.0327  0.4143\n",
      "                Symptom_Change_sensitivity_to_meds                     0.1654  0.5926  0.2243  0.1434  0.0696  0.2628  0.3639  0.2676  0.0828  0.0768  0.2107  0.1448  0.4041\n",
      "                Symptom_Changes_in_voice                               0.2391  0.7108  0.3245  0.1434  0.0673  0.2708  0.4623  0.2836  0.1178  0.1227  0.1881  0.1853  0.4882\n",
      "                Symptom_Chills_flushing_sweats                         0.6839  0.9744  0.6911  0.4082  0.1037  0.5879  0.8669  0.6826  0.2230  0.2938  0.5806  0.3530  0.8791\n",
      "                Symptom_Cognitive_Functioning_agnosia                  0.0359  0.4607  0.1805  0.0116  0.0060  0.0399  0.3763  0.1631  0.0291  0.0345  0.0804  0.1406  0.1038\n",
      "                Symptom_Cognitive_Functioning_attentionconcentration   0.8053  1.0000  0.9110  0.1617  0.1831  0.5737  0.9733  0.9555  0.7577  0.8279  0.9512  0.9259  0.8423\n",
      "                Symptom_Cognitive_Functioning_executive                0.5386  0.9530  0.8087  0.0201  0.0567  0.2750  0.9538  0.8787  0.4628  0.6046  0.8134  0.8510  0.6278\n",
      "                Symptom_Cognitive_Functioning_fastthoughts             0.1465  0.4474  0.1732  0.0188  0.0177  0.0739  0.3456  0.2839  0.1139  0.1310  0.2852  0.1718  0.2243\n",
      "                Symptom_Cognitive_Functioning_problemsolving           0.4942  0.9275  0.7682  0.0143  0.0465  0.2615  0.9575  0.8467  0.4356  0.5559  0.7596  0.7902  0.5795\n",
      "                Symptom_Cognitive_Functioning_slowedthoughts           0.3559  0.8213  0.5700  0.0429  0.1201  0.2650  0.7465  0.6565  0.3068  0.4107  0.5005  0.5635  0.4576\n",
      "                Symptom_Cognitive_Functioning_thinking                 0.6709  0.9935  0.8840  0.0248  0.0953  0.4070  0.9800  0.9231  0.5636  0.7278  0.8930  0.9165  0.7362\n",
      "                Symptom_Constipation                                   0.2141  0.6808  0.2707  0.1594  0.0504  0.3149  0.4708  0.3416  0.1075  0.1118  0.2878  0.1570  0.5096\n",
      "                Symptom_Cough_with_mucus                               0.3558  0.6135  0.3031  0.2266  0.1248  0.2305  0.4496  0.3513  0.1655  0.2200  0.2768  0.2291  0.4245\n",
      "                Symptom_Covid_toes                                     0.0771  0.5553  0.1843  0.0719  0.0332  0.1465  0.2418  0.1609  0.0422  0.0582  0.1284  0.0466  0.2671\n",
      "                Symptom_Diarrhea                                       0.7152  0.9260  0.6379  0.5361  0.1896  0.6113  0.7950  0.5888  0.2191  0.3339  0.6001  0.4011  0.8654\n",
      "                Symptom_Difficulty_falling_asleep                      0.4335  0.8146  0.0000  0.2251  0.0275  0.4288  0.6460  0.7089  0.5476  0.0000  0.5514  0.4337  0.5403\n",
      "                Symptom_Difficulty_swallowing                          0.2806  0.9229  0.3384  0.1848  0.0578  0.3713  0.6342  0.3388  0.0984  0.1323  0.3189  0.1694  0.6059\n",
      "                Symptom_Dizziness_vertigo                              0.7051  0.9780  0.8497  0.4739  0.1542  0.6989  0.9674  0.8394  0.3530  0.4949  0.8773  0.6408  0.9241\n",
      "                Symptom_Dry_cough                                      0.7548  0.8693  0.7299  0.5777  0.4019  0.5318  0.7803  0.7029  0.4867  0.5441  0.6202  0.5944  0.7923\n",
      "                Symptom_Ear_changes_to_ear_canal                       0.1431  0.7430  0.2538  0.1710  0.0318  0.2387  0.4849  0.2095  0.0688  0.0867  0.3110  0.0863  0.4365\n",
      "                Symptom_Ear_ear_pain                                   0.1738  0.8380  0.3019  0.1653  0.0184  0.2760  0.5369  0.2682  0.0577  0.1063  0.3054  0.1065  0.5571\n",
      "                Symptom_Ear_sensitivity_to_noise                       0.2110  0.9048  0.4732  0.1393  0.0412  0.3005  0.8025  0.5063  0.1352  0.1574  0.5013  0.3054  0.5502\n",
      "                Symptom_Elevated_temp                                  0.7942  0.9147  0.6523  0.4356  0.1478  0.5182  0.7693  0.6940  0.3053  0.3093  0.5588  0.3874  0.8309\n",
      "                Symptom_Extreme_thirst                                 0.3140  0.7964  0.3801  0.1723  0.0275  0.3951  0.6633  0.4266  0.1444  0.1325  0.4025  0.1755  0.5808\n",
      "                Symptom_Eye_Vision_bloodshot_eyes                      0.0754  0.5183  0.1599  0.0734  0.0126  0.1800  0.2895  0.1713  0.0483  0.0439  0.1973  0.0553  0.3311\n",
      "                Symptom_Eye_Vision_blurred_vision                      0.1955  0.8932  0.5627  0.1215  0.0261  0.4267  0.8027  0.5443  0.1514  0.1378  0.4935  0.2621  0.6839\n",
      "                Symptom_Eye_Vision_dry_eyes                            0.2116  0.8214  0.3992  0.1628  0.0413  0.3507  0.5975  0.3299  0.1445  0.1118  0.3309  0.1449  0.5552\n",
      "                Symptom_Eye_Vision_eye_pressure_pain                   0.1417  0.8187  0.3245  0.1104  0.0295  0.2458  0.6469  0.3006  0.0879  0.0940  0.4052  0.1346  0.5523\n",
      "                Symptom_Eye_Vision_floaters                            0.1142  0.6390  0.2301  0.0788  0.0198  0.1979  0.5097  0.2608  0.0635  0.0792  0.2602  0.1176  0.4550\n",
      "                Symptom_Eye_Vision_other_eye_issues                    0.1536  0.5958  0.3586  0.1943  0.0638  0.3340  0.4598  0.2821  0.1331  0.1316  0.2558  0.2031  0.4004\n",
      "                Symptom_Eye_Vision_pink_eye                            0.0850  0.3494  0.1637  0.0754  0.0374  0.1608  0.2433  0.1329  0.0423  0.0625  0.1049  0.0718  0.3255\n",
      "                Symptom_Eye_Vision_seeing_things_peripheral_vision     0.0782  0.5830  0.1390  0.0249  0.0027  0.0854  0.3749  0.1989  0.0250  0.0387  0.1708  0.0643  0.2984\n",
      "                Symptom_Eye_Vision_sensitivity_to_light                0.1571  0.9806  0.4738  0.0837  0.0172  0.2304  0.7521  0.4555  0.0904  0.1192  0.4881  0.2260  0.5986\n",
      "                Symptom_Eye_vision_symptoms                            0.1559  0.8659  0.4978  0.1269  0.0120  0.4239  0.7986  0.4793  0.1283  0.1388  0.4602  0.2331  0.6723\n",
      "                Symptom_Fainting                                       0.0963  0.5326  0.1480  0.0564  0.0169  0.1157  0.2547  0.1701  0.0485  0.0638  0.1486  0.0751  0.2298\n",
      "                Symptom_Fever                                          0.5392  0.6358  0.4127  0.2106  0.0671  0.1841  0.4659  0.3941  0.1128  0.1570  0.2471  0.1802  0.4240\n",
      "                Symptom_Gasping_air_normal_oxygen                      0.6452  0.8727  0.6894  0.4906  0.1935  0.5660  0.7958  0.6632  0.3161  0.4156  0.6878  0.4641  0.7675\n",
      "                Symptom_Gastrointestinal_abdominal_pain                0.4683  0.9615  0.5186  0.3175  0.0557  0.4680  0.7716  0.4838  0.1294  0.1412  0.4918  0.1974  0.8098\n",
      "                Symptom_Gastrointestinal_feeling_full_quickly_eating   0.3626  0.7753  0.3654  0.2583  0.0823  0.3310  0.5206  0.3980  0.1285  0.1325  0.3038  0.1758  0.5394\n",
      "                Symptom_Gastrointestinal_hyperactive_bowel             0.2731  0.6963  0.2696  0.1742  0.0422  0.2584  0.4422  0.2714  0.0822  0.0731  0.2536  0.0983  0.5209\n",
      "                Symptom_Hallucinations_visual                          0.0667  0.4766  0.1077  0.0325  0.0086  0.0600  0.2792  0.1527  0.0163  0.0437  0.0987  0.0852  0.1756\n",
      "                Symptom_Headaches_after_mental_exertion                0.1830  0.7679  0.3434  0.0404  0.0201  0.1012  0.6155  0.4275  0.0974  0.1544  0.5313  0.2352  0.3804\n",
      "                Symptom_Headaches_base_of_skull                        0.2244  0.7192  0.2868  0.1401  0.0336  0.2676  0.5490  0.3403  0.0935  0.1770  0.4851  0.1997  0.5283\n",
      "                Symptom_Headaches_behind_eyes                          0.3682  0.8410  0.4411  0.2584  0.0852  0.2915  0.6712  0.4918  0.2205  0.3255  0.6837  0.2968  0.6223\n",
      "                Symptom_Headaches_brain_pressure                       0.2096  0.8355  0.4625  0.0977  0.0422  0.2749  0.7231  0.4178  0.1350  0.2225  0.6158  0.2558  0.5673\n",
      "                Symptom_Headaches_brain_warmth                         0.0579  0.4757  0.1258  0.0357  0.0144  0.1223  0.3310  0.1282  0.0436  0.0519  0.2397  0.0598  0.1917\n",
      "                Symptom_Headaches_diffuse                              0.3200  0.7251  0.4143  0.2172  0.0754  0.2391  0.5869  0.4135  0.2185  0.2753  0.5557  0.3045  0.4260\n",
      "                Symptom_Headaches_migraines                            0.2133  0.7442  0.2902  0.1293  0.0342  0.1381  0.4113  0.3062  0.0840  0.1534  0.4398  0.1979  0.4079\n",
      "                Symptom_Headaches_other                                0.1006  0.3070  0.1884  0.1086  0.0548  0.1522  0.2366  0.1533  0.0648  0.0845  0.1493  0.1162  0.1559\n",
      "                Symptom_Headaches_stiff_neck                           0.3530  0.8526  0.4777  0.1840  0.0540  0.3419  0.7806  0.5276  0.1901  0.2554  0.6516  0.2596  0.6652\n",
      "                Symptom_Headaches_temples                              0.3529  0.7404  0.3806  0.2318  0.0830  0.2458  0.5197  0.4360  0.2438  0.2755  0.6005  0.2503  0.4753\n",
      "                Symptom_Heart_palpitations                             0.6839  0.9263  0.7515  0.5888  0.2050  0.7486  0.8947  0.8151  0.4196  0.5037  0.7500  0.5030  0.8885\n",
      "                Symptom_Heat_intolerance                               0.2607  0.8023  0.2939  0.1182  0.0328  0.2517  0.5996  0.4092  0.0977  0.0680  0.3389  0.1995  0.5078\n",
      "                Symptom_Insomnia                                       0.8223  0.9739  0.1119  0.5464  0.0894  0.8332  0.9180  1.0000  1.0000  0.0355  0.8977  0.7838  0.9203\n",
      "                Symptom_Joint_pain                                     0.5487  0.9462  0.6403  0.3619  0.1473  0.5751  0.8986  0.6655  0.2815  0.3531  0.7168  0.4369  0.8601\n",
      "                Symptom_Loss_of_appetite                               0.6661  0.9553  0.5528  0.4402  0.1518  0.5391  0.7237  0.5908  0.2310  0.2834  0.5206  0.3339  0.7638\n",
      "                Symptom_Loss_of_smell                                  0.4846  0.6364  0.4096  0.2809  0.3631  0.2244  0.4879  0.4560  0.3571  0.3265  0.3633  0.3880  0.4589\n",
      "                Symptom_Loss_of_taste                                  0.4603  0.6487  0.3669  0.2505  0.3112  0.1987  0.4829  0.3995  0.3185  0.2931  0.3513  0.3331  0.4184\n",
      "                Symptom_Low_temp                                       0.1744  0.6535  0.2076  0.1207  0.0113  0.2488  0.4280  0.2550  0.0431  0.0632  0.1360  0.0760  0.4304\n",
      "                Symptom_Lucid_dreams                                   0.1381  0.4521  0.1289  0.0693  0.0079  0.1087  0.3174  0.2250  0.1215  0.0351  0.2647  0.1133  0.2788\n",
      "                Symptom_Memory_forget_tasks                            0.0589  0.5489  0.2667  0.0009  0.0050  0.0486  0.4144  0.2324  0.0377  0.0705  0.1033  0.1770  0.1145\n",
      "                Symptom_Memory_long                                    0.2783  0.8490  0.5896  0.0219  0.0495  0.1930  0.8324  0.6839  0.2918  0.3249  0.4870  0.6286  0.4270\n",
      "                Symptom_Memory_other                                   0.0768  0.2356  0.2101  0.0428  0.0459  0.1206  0.1530  0.1817  0.0668  0.1232  0.0729  0.1538  0.1473\n",
      "                Symptom_Merged_temperature_other_temp_issues           0.3664  0.7908  0.4701  0.3404  0.0971  0.5179  0.6049  0.4694  0.1663  0.2235  0.4491  0.3270  0.5426\n",
      "                Symptom_Muscle_aches                                   0.7341  0.9762  0.7837  0.5174  0.2405  0.6925  0.9535  0.8051  0.4103  0.5591  0.8139  0.5794  0.9298\n",
      "                Symptom_Muscle_spasms                                  0.1901  0.9332  0.3605  0.1776  0.0338  0.4632  0.7539  0.4197  0.0940  0.1098  0.4467  0.1999  0.6790\n",
      "                Symptom_Nausea                                         0.5445  0.9466  0.5562  0.3517  0.0857  0.4854  0.8013  0.5779  0.0943  0.2427  0.5578  0.3099  0.8305\n",
      "                Symptom_Neuralgia                                      0.1501  0.8607  0.3798  0.1774  0.0273  0.4633  0.7525  0.3581  0.0731  0.1132  0.4161  0.1413  0.6958\n",
      "                Symptom_New_allergies                                  0.0619  0.4295  0.1203  0.0627  0.0128  0.1797  0.2193  0.1501  0.0319  0.0391  0.0601  0.0502  0.2561\n",
      "                Symptom_Night_sweats                                   0.4936  0.9176  0.3327  0.1952  0.0378  0.4144  0.6800  0.5589  0.3350  0.0777  0.5364  0.2527  0.7013\n",
      "                Symptom_Nightmares                                     0.2670  0.7199  0.1718  0.1092  0.0056  0.1908  0.4971  0.3666  0.1532  0.0379  0.3203  0.1907  0.4041\n",
      "                Symptom_Other_ear_hearing_symptoms                     0.1280  0.5920  0.2429  0.1555  0.0478  0.2848  0.4005  0.2271  0.0789  0.1171  0.2429  0.1387  0.3576\n",
      "                Symptom_PEM                                            0.9194  0.9935  0.9409  0.7849  0.5206  0.8806  0.9938  0.9739  0.7858  0.8547  0.9599  0.9258  0.9595\n",
      "                Symptom_Pain_burning_chest                             0.5028  0.8850  0.5707  0.4345  0.1595  0.5304  0.7541  0.5174  0.2247  0.3131  0.5156  0.2927  0.7709\n",
      "                Symptom_Peeling_skin                                   0.0790  0.5451  0.1664  0.0548  0.0197  0.1655  0.2644  0.1531  0.0314  0.0512  0.0918  0.0452  0.2944\n",
      "                Symptom_Petechiae                                      0.0979  0.7190  0.2108  0.0993  0.0137  0.2078  0.3467  0.1702  0.0367  0.0632  0.1242  0.0533  0.4253\n",
      "                Symptom_Phantom_smell                                  0.2445  0.7619  0.2928  0.1336  0.1297  0.1179  0.5339  0.3126  0.1324  0.1155  0.2692  0.1645  0.4227\n",
      "                Symptom_Rattling_breath                                0.1921  0.5675  0.2408  0.0937  0.0463  0.1130  0.3329  0.2089  0.0720  0.0703  0.1884  0.1114  0.3415\n",
      "                Symptom_Reproductive_abnormally_irregular_periods      0.1342  0.3295  0.1351  0.0742  0.0270  0.1266  0.2417  0.1645  0.0463  0.0463  0.1353  0.0649  0.1835\n",
      "                Symptom_Reproductive_all_menstrual_issues              0.1823  0.4885  0.2262  0.1173  0.0525  0.1922  0.3703  0.2440  0.0591  0.0682  0.1801  0.1035  0.3258\n",
      "                Symptom_Reproductive_other_urinary_issues              0.1119  0.4712  0.2067  0.0700  0.0122  0.2123  0.3535  0.1680  0.0545  0.0562  0.1553  0.0909  0.2959\n",
      "                Symptom_Reproductive_sexual_dysfunction                0.0825  0.4684  0.1350  0.0392  0.0211  0.0883  0.2063  0.1636  0.0560  0.0448  0.1303  0.1180  0.1634\n",
      "                Symptom_Restless_leg                                   0.1371  0.4888  0.1300  0.0797  0.0100  0.1819  0.4255  0.2720  0.1411  0.0174  0.3083  0.1521  0.3619\n",
      "                Symptom_Runny_nose                                     0.3815  0.6584  0.3648  0.2390  0.1759  0.2476  0.5629  0.3683  0.1654  0.2438  0.3457  0.2326  0.5210\n",
      "                Symptom_Sensations_coldness                            0.2687  0.9102  0.3775  0.1943  0.0852  0.4689  0.6928  0.4495  0.1167  0.1669  0.3490  0.2155  0.7257\n",
      "                Symptom_Sensations_electrical_zaps                     0.0798  0.8339  0.2763  0.1214  0.0319  0.4298  0.6002  0.3281  0.0708  0.0702  0.3229  0.1022  0.4871\n",
      "                Symptom_Sensations_numbness_loss_sensation             0.2142  0.9359  0.3812  0.2052  0.0674  0.5359  0.7254  0.4520  0.1547  0.1811  0.4822  0.1819  0.6826\n",
      "                Symptom_Sensations_numbness_one_sided_weakness         0.0445  0.4656  0.1332  0.0627  0.0106  0.1940  0.3228  0.1541  0.0396  0.0358  0.1623  0.0489  0.2791\n",
      "                Symptom_Sensations_skin_burning_no_rash                0.2994  0.9919  0.5320  0.2964  0.1165  0.6910  0.8680  0.5693  0.1750  0.2207  0.6065  0.2374  0.8315\n",
      "                Symptom_Sensations_tingling_prickling                  0.3085  0.9666  0.5201  0.3923  0.1215  0.7186  0.8290  0.5953  0.2114  0.2887  0.6427  0.2944  0.7862\n",
      "                Symptom_Sensations_weakness                            0.3624  0.9232  0.5254  0.2734  0.1191  0.5364  0.7895  0.5944  0.2566  0.3187  0.5807  0.3792  0.7091\n",
      "                Symptom_Shortness_of_breath                            0.8583  0.9716  0.8170  0.6498  0.3763  0.6804  0.9098  0.8299  0.5527  0.6548  0.7980  0.6942  0.8823\n",
      "                Symptom_SkinAllergy_brittle_nail                       0.0566  0.5868  0.1248  0.0391  0.0175  0.1080  0.2575  0.1111  0.0382  0.0356  0.0943  0.0655  0.2614\n",
      "                Symptom_SkinAllergy_heighted_reaction_allergies        0.0820  0.4735  0.1340  0.0824  0.0135  0.1362  0.2498  0.1367  0.0489  0.0636  0.1042  0.0821  0.2685\n",
      "                Symptom_SkinAllergy_itchy_eyes                         0.1629  0.8620  0.3164  0.1109  0.0361  0.2796  0.5985  0.2558  0.0827  0.0818  0.2920  0.0944  0.5535\n",
      "                Symptom_SkinAllergy_itchy_skin                         0.2385  0.9538  0.4301  0.1785  0.0672  0.3775  0.6447  0.4060  0.1247  0.1110  0.3011  0.1469  0.6783\n",
      "                Symptom_Skin_rashes                                    0.2201  0.8331  0.3894  0.1759  0.0589  0.3381  0.5005  0.2870  0.0907  0.1290  0.1972  0.1335  0.5181\n",
      "                Symptom_Sleep_apnea                                    0.1131  0.4252  0.0527  0.0437  0.0363  0.1542  0.2472  0.1772  0.1204  0.0131  0.1436  0.1003  0.2056\n",
      "                Symptom_Sleep_other                                    0.6121  0.8548  0.5902  0.3206  0.1539  0.5503  0.8129  0.6980  0.4212  0.2943  0.6074  0.4696  0.6426\n",
      "                Symptom_Slurring_words                                 0.0384  0.7197  0.3010  0.0168  0.0000  0.0874  0.5350  0.2835  0.0096  0.0494  0.0745  0.2046  0.2488\n",
      "                Symptom_Sneezing                                       0.3159  0.7466  0.3514  0.1916  0.0828  0.1928  0.5342  0.2849  0.1110  0.1583  0.2802  0.1691  0.5037\n",
      "                Symptom_Sore_throat                                    0.6432  0.8742  0.6391  0.5050  0.1991  0.5935  0.8187  0.6184  0.3183  0.3836  0.5272  0.4342  0.8123\n",
      "                Symptom_Speech_difficulty_communicating_verbally       0.0495  0.7824  0.6395  0.0060  0.0164  0.1065  0.8805  0.7130  0.0294  0.1387  0.0051  0.6555  0.1541\n",
      "                Symptom_Speech_difficulty_communicating_writing        0.0088  0.6956  0.3540  0.0000  0.0075  0.0364  0.5720  0.3836  0.0000  0.0275  0.0000  0.3179  0.0833\n",
      "                Symptom_Speech_difficulty_finding_words                0.1927  0.9426  0.9226  0.0519  0.0693  0.3481  0.9982  0.9831  0.1327  0.3117  0.0468  0.9618  0.4861\n",
      "                Symptom_Speech_difficulty_reading_processing_text      0.0240  0.8204  0.5564  0.0043  0.0056  0.0655  0.8146  0.6166  0.0119  0.0676  0.0000  0.5249  0.1527\n",
      "                Symptom_Speech_difficulty_speaking_complete_sentences  0.0326  0.7218  0.4840  0.0015  0.0030  0.0582  0.7380  0.5381  0.0080  0.0650  0.0019  0.4999  0.1393\n",
      "                Symptom_Speech_difficulty_understanding_others_speech  0.0213  0.8111  0.5777  0.0000  0.0000  0.0489  0.8223  0.6436  0.0119  0.0575  0.0000  0.5159  0.1455\n",
      "                Symptom_Tachycardia                                    0.5974  0.9462  0.6261  0.5050  0.1598  0.7199  0.8724  0.7194  0.3800  0.3960  0.6624  0.4795  0.8485\n",
      "                Symptom_Temp_lability                                  0.5873  0.8184  0.4807  0.2730  0.1048  0.2825  0.5584  0.4977  0.1865  0.2096  0.3207  0.2332  0.5996\n",
      "                Symptom_Tightness_of_chest                             0.7754  0.9400  0.7554  0.6246  0.3234  0.7007  0.8910  0.7645  0.4550  0.5741  0.7837  0.5201  0.8915\n",
      "                Symptom_Tinnitus                                       0.2311  0.8641  0.4108  0.2438  0.0486  0.4010  0.6929  0.4033  0.1453  0.1704  0.4301  0.2246  0.6133\n",
      "                Symptom_Tremors                                        0.2709  0.9873  0.3549  0.2861  0.0766  0.6065  0.7389  0.5178  0.1641  0.1842  0.5543  0.2476  0.7182\n",
      "                Symptom_Vibrating_sensations                           0.2547  0.9357  0.4669  0.2986  0.0760  0.6206  0.7369  0.5390  0.1673  0.2270  0.5613  0.1957  0.6916\n",
      "                Symptom_Vivid_dreams                                   0.3578  0.7641  0.3048  0.1497  0.0227  0.2492  0.5722  0.4621  0.2873  0.0746  0.4598  0.2758  0.4775\n",
      "                Symptom_Vomiting                                       0.2020  0.4745  0.2166  0.1025  0.0128  0.1224  0.2757  0.1695  0.0296  0.0427  0.1419  0.0857  0.3134\n",
      "                Symptom_Waking_up_early                                0.2334  0.5741  0.0000  0.1482  0.0108  0.2874  0.3975  0.4317  0.3162  0.0000  0.3478  0.2495  0.3195\n",
      "                Symptom_Waking_up_in_night                             0.5608  0.8379  0.0000  0.3093  0.0161  0.5548  0.6976  0.8026  0.6879  0.0000  0.6707  0.4938  0.6644\n",
      "    ============================================================================\n",
      "    Class weights\n",
      "    ============================================================================\n",
      "        Class 1 : 0.11\n",
      "        Class 2 : 0.03\n",
      "        Class 3 : 0.06\n",
      "        Class 4 : 0.09\n",
      "        Class 5 : 0.06\n",
      "        Class 6 : 0.08\n",
      "        Class 7 : 0.08\n",
      "        Class 8 : 0.11\n",
      "        Class 9 : 0.08\n",
      "        Class 10 : 0.09\n",
      "        Class 11 : 0.06\n",
      "        Class 12 : 0.09\n",
      "        Class 13 : 0.07\n",
      "    ============================================================================\n",
      "    Fit for 13 latent classes\n",
      "    ============================================================================\n",
      "    Estimation method             : 1-step\n",
      "    Number of observations        : 6031\n",
      "    Number of latent classes      : 13\n",
      "    Number of estimated parameters: 1650\n",
      "    Log-likelihood (LL)           : -375400.5661\n",
      "    -2LL                          : 750801.1322\n",
      "    Average LL                    : -62.2452\n",
      "    AIC                           : 754101.13\n",
      "    BIC                           : 765163.83\n",
      "    CAIC                          : 766813.83\n",
      "    Sample-Size Adjusted BIC      : 774283.30\n",
      "    Entropy                       : 1494.8925\n",
      "    Scaled Relative Entropy       : 0.9034\n"
     ]
    },
    {
     "name": "stderr",
     "output_type": "stream",
     "text": [
      "\n"
     ]
    },
    {
     "data": {
      "text/html": [
       "<style>#sk-container-id-3 {color: black;}#sk-container-id-3 pre{padding: 0;}#sk-container-id-3 div.sk-toggleable {background-color: white;}#sk-container-id-3 label.sk-toggleable__label {cursor: pointer;display: block;width: 100%;margin-bottom: 0;padding: 0.3em;box-sizing: border-box;text-align: center;}#sk-container-id-3 label.sk-toggleable__label-arrow:before {content: \"▸\";float: left;margin-right: 0.25em;color: #696969;}#sk-container-id-3 label.sk-toggleable__label-arrow:hover:before {color: black;}#sk-container-id-3 div.sk-estimator:hover label.sk-toggleable__label-arrow:before {color: black;}#sk-container-id-3 div.sk-toggleable__content {max-height: 0;max-width: 0;overflow: hidden;text-align: left;background-color: #f0f8ff;}#sk-container-id-3 div.sk-toggleable__content pre {margin: 0.2em;color: black;border-radius: 0.25em;background-color: #f0f8ff;}#sk-container-id-3 input.sk-toggleable__control:checked~div.sk-toggleable__content {max-height: 200px;max-width: 100%;overflow: auto;}#sk-container-id-3 input.sk-toggleable__control:checked~label.sk-toggleable__label-arrow:before {content: \"▾\";}#sk-container-id-3 div.sk-estimator input.sk-toggleable__control:checked~label.sk-toggleable__label {background-color: #d4ebff;}#sk-container-id-3 div.sk-label input.sk-toggleable__control:checked~label.sk-toggleable__label {background-color: #d4ebff;}#sk-container-id-3 input.sk-hidden--visually {border: 0;clip: rect(1px 1px 1px 1px);clip: rect(1px, 1px, 1px, 1px);height: 1px;margin: -1px;overflow: hidden;padding: 0;position: absolute;width: 1px;}#sk-container-id-3 div.sk-estimator {font-family: monospace;background-color: #f0f8ff;border: 1px dotted black;border-radius: 0.25em;box-sizing: border-box;margin-bottom: 0.5em;}#sk-container-id-3 div.sk-estimator:hover {background-color: #d4ebff;}#sk-container-id-3 div.sk-parallel-item::after {content: \"\";width: 100%;border-bottom: 1px solid gray;flex-grow: 1;}#sk-container-id-3 div.sk-label:hover label.sk-toggleable__label {background-color: #d4ebff;}#sk-container-id-3 div.sk-serial::before {content: \"\";position: absolute;border-left: 1px solid gray;box-sizing: border-box;top: 0;bottom: 0;left: 50%;z-index: 0;}#sk-container-id-3 div.sk-serial {display: flex;flex-direction: column;align-items: center;background-color: white;padding-right: 0.2em;padding-left: 0.2em;position: relative;}#sk-container-id-3 div.sk-item {position: relative;z-index: 1;}#sk-container-id-3 div.sk-parallel {display: flex;align-items: stretch;justify-content: center;background-color: white;position: relative;}#sk-container-id-3 div.sk-item::before, #sk-container-id-3 div.sk-parallel-item::before {content: \"\";position: absolute;border-left: 1px solid gray;box-sizing: border-box;top: 0;bottom: 0;left: 50%;z-index: -1;}#sk-container-id-3 div.sk-parallel-item {display: flex;flex-direction: column;z-index: 1;position: relative;background-color: white;}#sk-container-id-3 div.sk-parallel-item:first-child::after {align-self: flex-end;width: 50%;}#sk-container-id-3 div.sk-parallel-item:last-child::after {align-self: flex-start;width: 50%;}#sk-container-id-3 div.sk-parallel-item:only-child::after {width: 0;}#sk-container-id-3 div.sk-dashed-wrapped {border: 1px dashed gray;margin: 0 0.4em 0.5em 0.4em;box-sizing: border-box;padding-bottom: 0.4em;background-color: white;}#sk-container-id-3 div.sk-label label {font-family: monospace;font-weight: bold;display: inline-block;line-height: 1.2em;}#sk-container-id-3 div.sk-label-container {text-align: center;}#sk-container-id-3 div.sk-container {/* jupyter's `normalize.less` sets `[hidden] { display: none; }` but bootstrap.min.css set `[hidden] { display: none !important; }` so we also need the `!important` here to be able to override the default hidden behavior on the sphinx rendered scikit-learn.org. See: https://github.com/scikit-learn/scikit-learn/issues/21755 */display: inline-block !important;position: relative;}#sk-container-id-3 div.sk-text-repr-fallback {display: none;}</style><div id=\"sk-container-id-3\" class=\"sk-top-container\"><div class=\"sk-text-repr-fallback\"><pre>StepMix(measurement=&#x27;binary&#x27;, n_components=13, random_state=123, verbose=1)</pre><b>In a Jupyter environment, please rerun this cell to show the HTML representation or trust the notebook. <br />On GitHub, the HTML representation is unable to render, please try loading this page with nbviewer.org.</b></div><div class=\"sk-container\" hidden><div class=\"sk-item\"><div class=\"sk-estimator sk-toggleable\"><input class=\"sk-toggleable__control sk-hidden--visually\" id=\"sk-estimator-id-5\" type=\"checkbox\" checked><label for=\"sk-estimator-id-5\" class=\"sk-toggleable__label sk-toggleable__label-arrow\">StepMix</label><div class=\"sk-toggleable__content\"><pre>StepMix(measurement=&#x27;binary&#x27;, n_components=13, random_state=123, verbose=1)</pre></div></div></div></div></div>"
      ],
      "text/plain": [
       "StepMix(measurement='binary', n_components=13, random_state=123, verbose=1)"
      ]
     },
     "execution_count": 20,
     "metadata": {},
     "output_type": "execute_result"
    }
   ],
   "source": [
    "model = StepMix(n_components=13, measurement=\"binary\", verbose=1, random_state=123)\n",
    "model.fit(sympdf)"
   ]
  },
  {
   "cell_type": "code",
   "execution_count": 21,
   "metadata": {},
   "outputs": [],
   "source": [
    "# save model using pkl\n",
    "with open('output/stepmix_13_112623.pkl', 'wb') as f:\n",
    "    pkl.dump(model, f)"
   ]
  },
  {
   "cell_type": "code",
   "execution_count": 22,
   "metadata": {},
   "outputs": [
    {
     "name": "stderr",
     "output_type": "stream",
     "text": [
      "/Users/tessa/miniforge3/envs/stepmix/lib/python3.12/site-packages/stepmix/stepmix.py:1173: FutureWarning: The provided callable <function mean at 0x1044a3380> is currently using DataFrameGroupBy.mean. In a future version of pandas, the provided callable will be used directly. To keep current behavior pass the string \"mean\" instead.\n",
      "  return pd.pivot_table(\n"
     ]
    }
   ],
   "source": [
    "mm = model.get_mm_df()\n",
    "mm = mm.reset_index()\n",
    "mm  = mm.drop(\"model_name\",axis=1)\n",
    "mm  = mm.drop(\"param\",axis=1)\n",
    "mm.index=mm['variable']\n",
    "mm = mm.drop(\"variable\", axis=1)\n",
    "\n",
    "mm.to_csv(\"output/stepmix_13_112623_mmdf.csv\")"
   ]
  },
  {
   "cell_type": "code",
   "execution_count": 23,
   "metadata": {},
   "outputs": [
    {
     "name": "stdout",
     "output_type": "stream",
     "text": [
      "Index(['Symptom_PEM', 'Symptom_Shortness_of_breath', 'Symptom_Insomnia',\n",
      "       'Symptom_Cognitive_Functioning_attentionconcentration',\n",
      "       'Symptom_Elevated_temp', 'Symptom_Tightness_of_chest',\n",
      "       'Symptom_Dry_cough', 'Symptom_Muscle_aches', 'Symptom_Diarrhea',\n",
      "       'Symptom_Dizziness_vertigo'],\n",
      "      dtype='object', name='variable')\n",
      "Index(['Symptom_PEM', 'Symptom_Speech_difficulty_finding_words',\n",
      "       'Symptom_Cognitive_Functioning_attentionconcentration',\n",
      "       'Symptom_Cognitive_Functioning_thinking', 'Symptom_Dizziness_vertigo',\n",
      "       'Symptom_Shortness_of_breath',\n",
      "       'Symptom_Cognitive_Functioning_executive', 'Symptom_Muscle_aches',\n",
      "       'Symptom_Cognitive_Functioning_problemsolving',\n",
      "       'Symptom_Tightness_of_chest'],\n",
      "      dtype='object', name='variable')\n",
      "Index(['Symptom_PEM', 'Symptom_Shortness_of_breath',\n",
      "       'Symptom_Tightness_of_chest', 'Symptom_Heart_palpitations',\n",
      "       'Symptom_Dry_cough', 'Symptom_Insomnia', 'Symptom_Diarrhea',\n",
      "       'Symptom_Muscle_aches', 'Symptom_Sore_throat', 'Symptom_Tachycardia'],\n",
      "      dtype='object', name='variable')\n",
      "Index(['Symptom_PEM', 'Symptom_Dry_cough', 'Symptom_Shortness_of_breath',\n",
      "       'Symptom_Loss_of_smell', 'Symptom_Tightness_of_chest',\n",
      "       'Symptom_Loss_of_taste', 'Symptom_Muscle_aches',\n",
      "       'Symptom_Heart_palpitations', 'Symptom_Altered_taste',\n",
      "       'Symptom_Sore_throat'],\n",
      "      dtype='object', name='variable')\n",
      "Index(['Symptom_PEM', 'Symptom_Insomnia', 'Symptom_Heart_palpitations',\n",
      "       'Symptom_Tachycardia', 'Symptom_Sensations_tingling_prickling',\n",
      "       'Symptom_Tightness_of_chest', 'Symptom_Dizziness_vertigo',\n",
      "       'Symptom_Muscle_aches', 'Symptom_Sensations_skin_burning_no_rash',\n",
      "       'Symptom_Shortness_of_breath'],\n",
      "      dtype='object', name='variable')\n",
      "Index(['Symptom_Speech_difficulty_finding_words', 'Symptom_PEM',\n",
      "       'Symptom_Cognitive_Functioning_thinking',\n",
      "       'Symptom_Cognitive_Functioning_attentionconcentration',\n",
      "       'Symptom_Dizziness_vertigo',\n",
      "       'Symptom_Cognitive_Functioning_problemsolving',\n",
      "       'Symptom_Cognitive_Functioning_executive', 'Symptom_Muscle_aches',\n",
      "       'Symptom_Insomnia', 'Symptom_Shortness_of_breath'],\n",
      "      dtype='object', name='variable')\n",
      "Index(['Symptom_Insomnia', 'Symptom_Speech_difficulty_finding_words',\n",
      "       'Symptom_PEM', 'Symptom_Cognitive_Functioning_attentionconcentration',\n",
      "       'Symptom_Cognitive_Functioning_thinking',\n",
      "       'Symptom_Cognitive_Functioning_executive',\n",
      "       'Symptom_Cognitive_Functioning_problemsolving',\n",
      "       'Symptom_Dizziness_vertigo', 'Symptom_Shortness_of_breath',\n",
      "       'Symptom_Heart_palpitations'],\n",
      "      dtype='object', name='variable')\n"
     ]
    }
   ],
   "source": [
    "# These are just the most prevalent symptoms per cluster\n",
    "# in general, this is dominated by symptoms with high cross-dataset prevalence\n",
    "print(mm.sort_values(0,ascending=False).head(10).index)\n",
    "print(mm.sort_values(2,ascending=False).head(10).index)\n",
    "print(mm.sort_values(3,ascending=False).head(10).index)\n",
    "print(mm.sort_values(4,ascending=False).head(10).index)\n",
    "print(mm.sort_values(5,ascending=False).head(10).index)\n",
    "print(mm.sort_values(6,ascending=False).head(10).index)\n",
    "print(mm.sort_values(7,ascending=False).head(10).index)"
   ]
  },
  {
   "cell_type": "code",
   "execution_count": 24,
   "metadata": {},
   "outputs": [],
   "source": [
    "df['cluster'] = model.predict(sympdf)"
   ]
  },
  {
   "cell_type": "code",
   "execution_count": 25,
   "metadata": {},
   "outputs": [
    {
     "data": {
      "text/plain": [
       "<Axes: xlabel='cluster'>"
      ]
     },
     "execution_count": 25,
     "metadata": {},
     "output_type": "execute_result"
    },
    {
     "data": {
      "image/png": "[encoded data removed]",
      "text/plain": [
       "<Figure size 640x480 with 1 Axes>"
      ]
     },
     "metadata": {},
     "output_type": "display_data"
    }
   ],
   "source": [
    "df['cluster'].value_counts().plot(kind='bar')\n",
    "# all clusters have more than 150 patients"
   ]
  },
  {
   "cell_type": "code",
   "execution_count": 26,
   "metadata": {},
   "outputs": [],
   "source": [
    "comp_list = list(range(0,13))"
   ]
  },
  {
   "cell_type": "code",
   "execution_count": null,
   "metadata": {},
   "outputs": [],
   "source": []
  },
  {
   "cell_type": "code",
   "execution_count": 27,
   "metadata": {},
   "outputs": [
    {
     "name": "stdout",
     "output_type": "stream",
     "text": [
      "variable\n",
      "Symptom_Elevated_temp             0.250514\n",
      "Symptom_Fever                     0.248269\n",
      "Symptom_Temp_lability             0.206914\n",
      "Symptom_Loss_of_appetite          0.158931\n",
      "Symptom_Diarrhea                  0.156464\n",
      "Symptom_Insomnia                  0.146446\n",
      "Symptom_Chills_flushing_sweats    0.130168\n",
      "Symptom_Shortness_of_breath       0.123507\n",
      "Symptom_Dry_cough                 0.118885\n",
      "Symptom_Loss_of_taste             0.095952\n",
      "dtype: float64\n",
      "variable\n",
      "Symptom_Eye_Vision_sensitivity_to_light              0.672912\n",
      "Symptom_SkinAllergy_itchy_skin                       0.645113\n",
      "Symptom_Difficulty_swallowing                        0.628623\n",
      "Symptom_SkinAllergy_itchy_eyes                       0.623251\n",
      "Symptom_Muscle_spasms                                0.605897\n",
      "Symptom_Ear_ear_pain                                 0.598576\n",
      "Symptom_Tremors                                      0.593955\n",
      "Symptom_Sensations_electrical_zaps                   0.590507\n",
      "Symptom_Speech_difficulty_reading_processing_text    0.583363\n",
      "Symptom_Sensations_numbness_loss_sensation           0.580562\n",
      "dtype: float64\n",
      "variable\n",
      "Symptom_Speech_difficulty_finding_words                  0.462146\n",
      "Symptom_Speech_difficulty_communicating_verbally         0.344769\n",
      "Symptom_Speech_difficulty_understanding_others_speech    0.321149\n",
      "Symptom_Speech_difficulty_reading_processing_text        0.297425\n",
      "Symptom_Speech_difficulty_speaking_complete_sentences    0.250035\n",
      "Symptom_Cognitive_Functioning_thinking                   0.223050\n",
      "Symptom_Cognitive_Functioning_executive                  0.222399\n",
      "Symptom_Cognitive_Functioning_problemsolving             0.212479\n",
      "Symptom_Speech_difficulty_communicating_writing          0.176268\n",
      "Symptom_Dizziness_vertigo                                0.174142\n",
      "dtype: float64\n",
      "variable\n",
      "Symptom_Diarrhea                                    -0.037548\n",
      "Symptom_Headaches_other                             -0.038391\n",
      "Symptom_Reproductive_abnormally_irregular_periods   -0.062009\n",
      "Symptom_Sore_throat                                 -0.066767\n",
      "Symptom_SkinAllergy_heighted_reaction_allergies     -0.067037\n",
      "Symptom_Pain_burning_chest                          -0.068581\n",
      "Symptom_Vomiting                                    -0.071428\n",
      "Symptom_New_allergies                               -0.071549\n",
      "Symptom_Acid_reflux                                 -0.072649\n",
      "Symptom_Eye_Vision_pink_eye                         -0.072881\n",
      "dtype: float64\n",
      "variable\n",
      "Symptom_Loss_of_smell                               -0.043034\n",
      "Symptom_Loss_of_taste                               -0.065583\n",
      "Symptom_Altered_smell                               -0.067789\n",
      "Symptom_Memory_other                                -0.086201\n",
      "Symptom_Headaches_other                             -0.096692\n",
      "Symptom_Altered_taste                               -0.108332\n",
      "Symptom_Reproductive_abnormally_irregular_periods   -0.113143\n",
      "Symptom_Sleep_apnea                                 -0.113441\n",
      "Symptom_Eye_Vision_pink_eye                         -0.114038\n",
      "Symptom_Reproductive_sexual_dysfunction             -0.120232\n",
      "dtype: float64\n",
      "variable\n",
      "Symptom_Sensations_tingling_prickling         0.222214\n",
      "Symptom_Sensations_skin_burning_no_rash       0.212245\n",
      "Symptom_Vibrating_sensations                  0.191370\n",
      "Symptom_Tremors                               0.181450\n",
      "Symptom_Insomnia                              0.158272\n",
      "Symptom_Sensations_electrical_zaps            0.152749\n",
      "Symptom_Sensations_numbness_loss_sensation    0.147225\n",
      "Symptom_Bulging_veins                         0.134502\n",
      "Symptom_Tachycardia                           0.120539\n",
      "Symptom_Neuralgia                             0.117878\n",
      "dtype: float64\n",
      "variable\n",
      "Symptom_Speech_difficulty_communicating_verbally         0.605884\n",
      "Symptom_Speech_difficulty_understanding_others_speech    0.586158\n",
      "Symptom_Speech_difficulty_reading_processing_text        0.577168\n",
      "Symptom_Speech_difficulty_finding_words                  0.544050\n",
      "Symptom_Speech_difficulty_speaking_complete_sentences    0.525187\n",
      "Symptom_Ear_sensitivity_to_noise                         0.450324\n",
      "Symptom_Eye_vision_symptoms                              0.449039\n",
      "Symptom_Neuralgia                                        0.431152\n",
      "Symptom_Memory_long                                      0.430404\n",
      "Symptom_Eye_Vision_blurred_vision                        0.427854\n",
      "dtype: float64\n",
      "variable\n",
      "Symptom_Speech_difficulty_finding_words                  0.527759\n",
      "Symptom_Speech_difficulty_communicating_verbally         0.424366\n",
      "Symptom_Speech_difficulty_understanding_others_speech    0.392560\n",
      "Symptom_Speech_difficulty_reading_processing_text        0.362580\n",
      "Symptom_Waking_up_in_night                               0.344795\n",
      "Symptom_Insomnia                                         0.338954\n",
      "Symptom_Difficulty_falling_asleep                        0.321553\n",
      "Symptom_Speech_difficulty_speaking_complete_sentences    0.308621\n",
      "Symptom_Cognitive_Functioning_executive                  0.298207\n",
      "Symptom_Cognitive_Functioning_problemsolving             0.297467\n",
      "dtype: float64\n",
      "variable\n",
      "Symptom_Insomnia                                        0.338954\n",
      "Symptom_Waking_up_in_night                              0.220608\n",
      "Symptom_Difficulty_falling_asleep                       0.146811\n",
      "Symptom_Waking_up_early                                 0.066233\n",
      "Symptom_Cognitive_Functioning_attentionconcentration   -0.001567\n",
      "Symptom_Sleep_apnea                                    -0.022329\n",
      "Symptom_Loss_of_smell                                  -0.049558\n",
      "Symptom_Lucid_dreams                                   -0.056761\n",
      "Symptom_Loss_of_taste                                  -0.057673\n",
      "Symptom_Vivid_dreams                                   -0.060178\n",
      "dtype: float64\n",
      "variable\n",
      "Symptom_Cognitive_Functioning_attentionconcentration    0.074503\n",
      "Symptom_Cognitive_Functioning_thinking                  0.053819\n",
      "Symptom_Cognitive_Functioning_executive                 0.001264\n",
      "Symptom_Memory_other                                   -0.002367\n",
      "Symptom_Cognitive_Functioning_problemsolving           -0.017552\n",
      "Symptom_PEM                                            -0.031841\n",
      "Symptom_Cognitive_Functioning_slowedthoughts           -0.039853\n",
      "Symptom_Cognitive_Functioning_fastthoughts             -0.060829\n",
      "Symptom_Headaches_other                                -0.064446\n",
      "Symptom_Loss_of_smell                                  -0.082703\n",
      "dtype: float64\n",
      "variable\n",
      "Symptom_Headaches_behind_eyes                           0.274205\n",
      "Symptom_Headaches_brain_pressure                        0.262170\n",
      "Symptom_Headaches_after_mental_exertion                 0.250732\n",
      "Symptom_Headaches_temples                               0.247584\n",
      "Symptom_Headaches_stiff_neck                            0.239801\n",
      "Symptom_Cognitive_Functioning_thinking                  0.232818\n",
      "Symptom_Insomnia                                        0.228153\n",
      "Symptom_Cognitive_Functioning_executive                 0.227504\n",
      "Symptom_Cognitive_Functioning_attentionconcentration    0.208043\n",
      "Symptom_Headaches_diffuse                               0.204340\n",
      "dtype: float64\n",
      "variable\n",
      "Symptom_Speech_difficulty_finding_words                  0.504637\n",
      "Symptom_Speech_difficulty_communicating_verbally         0.362080\n",
      "Symptom_Cognitive_Functioning_executive                  0.268229\n",
      "Symptom_Speech_difficulty_speaking_complete_sentences    0.267274\n",
      "Symptom_Speech_difficulty_reading_processing_text        0.263240\n",
      "Symptom_Cognitive_Functioning_thinking                   0.258279\n",
      "Symptom_Speech_difficulty_understanding_others_speech    0.254282\n",
      "Symptom_Cognitive_Functioning_problemsolving             0.236332\n",
      "Symptom_Memory_long                                      0.209544\n",
      "Symptom_Cognitive_Functioning_attentionconcentration     0.180728\n",
      "dtype: float64\n",
      "variable\n",
      "Symptom_Gastrointestinal_abdominal_pain    0.392762\n",
      "Symptom_Neuralgia                          0.369702\n",
      "Symptom_Sensations_coldness                0.367763\n",
      "Symptom_Nausea                             0.367669\n",
      "Symptom_Sensations_skin_burning_no_rash    0.364483\n",
      "Symptom_SkinAllergy_itchy_skin             0.346586\n",
      "Symptom_Chills_flushing_sweats             0.341622\n",
      "Symptom_Muscle_spasms                      0.330460\n",
      "Symptom_Diarrhea                           0.319240\n",
      "Symptom_Joint_pain                         0.312392\n",
      "dtype: float64\n"
     ]
    }
   ],
   "source": [
    "edges = [] \n",
    "symp_unusual = pd.DataFrame()\n",
    "for component in comp_list:\n",
    "    edges +=investigate_comp(component, mm).sort_values(ascending=False).head(10).index.tolist()\n",
    "    symp_unusual[component] = investigate_comp(component, mm)\n",
    "    print(investigate_comp(component, mm).sort_values(ascending=False).head(10))"
   ]
  },
  {
   "cell_type": "code",
   "execution_count": 28,
   "metadata": {},
   "outputs": [
    {
     "name": "stdout",
     "output_type": "stream",
     "text": [
      "cluster\n",
      "0     663\n",
      "1     154\n",
      "2     357\n",
      "3     521\n",
      "4     377\n",
      "5     488\n",
      "6     472\n",
      "7     701\n",
      "8     492\n",
      "9     555\n",
      "10    354\n",
      "11    514\n",
      "12    383\n",
      "Name: count, dtype: int64\n"
     ]
    }
   ],
   "source": [
    "print(df.cluster.value_counts().sort_index())"
   ]
  },
  {
   "cell_type": "code",
   "execution_count": 29,
   "metadata": {},
   "outputs": [
    {
     "data": {
      "text/plain": [
       "0"
      ]
     },
     "execution_count": 29,
     "metadata": {},
     "output_type": "execute_result"
    }
   ],
   "source": [
    "(sympdf[edges].mean()>.90).sum()"
   ]
  },
  {
   "cell_type": "code",
   "execution_count": 30,
   "metadata": {},
   "outputs": [
    {
     "data": {
      "text/plain": [
       "0"
      ]
     },
     "execution_count": 30,
     "metadata": {},
     "output_type": "execute_result"
    }
   ],
   "source": [
    "(sympdf[edges].mean()<.1).sum()\n",
    "# some of the pretty rare symptoms are cluster-decisive\n",
    "# I'm going to keep them in unless something pathological emerges downstream"
   ]
  },
  {
   "cell_type": "code",
   "execution_count": 31,
   "metadata": {},
   "outputs": [],
   "source": [
    "symp_unusual.to_csv(\"output/stepmix_13_112623_symp_unusual.csv\")"
   ]
  },
  {
   "cell_type": "code",
   "execution_count": 32,
   "metadata": {},
   "outputs": [],
   "source": [
    "# plan for next time \n",
    "# plot the clusters in 2d space\n",
    "# go through that sklearn paper for some plot ideas\n",
    "# look at the various non-used parameters and how they assort\n",
    "# look at demographics, other columns of df\n",
    "# assess distinguisability of clusters--maybe some can combine?\n",
    "\n",
    "# could laplace approximation be used to get a better estimate of the number of clusters?\n",
    "# if have reason to think p(data | model ) is close to p(model), then maybe justify fewer clusters"
   ]
  },
  {
   "cell_type": "code",
   "execution_count": 33,
   "metadata": {},
   "outputs": [
    {
     "data": {
      "text/plain": [
       "variable\n",
       "Symptom_Acid_reflux                0.372031\n",
       "Symptom_Acute_confusion            0.125328\n",
       "Symptom_Altered_smell              0.235660\n",
       "Symptom_Altered_taste              0.287062\n",
       "Symptom_Awakened_cannot_breathe    0.380702\n",
       "                                     ...   \n",
       "Symptom_Vibrating_sensations       0.254690\n",
       "Symptom_Vivid_dreams               0.357820\n",
       "Symptom_Vomiting                   0.202000\n",
       "Symptom_Waking_up_early            0.233385\n",
       "Symptom_Waking_up_in_night         0.560791\n",
       "Name: 0, Length: 126, dtype: float64"
      ]
     },
     "execution_count": 33,
     "metadata": {},
     "output_type": "execute_result"
    }
   ],
   "source": [
    "mm[0]"
   ]
  },
  {
   "cell_type": "code",
   "execution_count": 34,
   "metadata": {},
   "outputs": [
    {
     "data": {
      "text/plain": [
       "Symptom_Acid_reflux                0.375566\n",
       "Symptom_Acute_confusion            0.122172\n",
       "Symptom_Altered_smell              0.233786\n",
       "Symptom_Altered_taste              0.282051\n",
       "Symptom_Awakened_cannot_breathe    0.375566\n",
       "                                     ...   \n",
       "Symptom_Vibrating_sensations       0.251885\n",
       "Symptom_Vivid_dreams               0.357466\n",
       "Symptom_Vomiting                   0.199095\n",
       "Symptom_Waking_up_early            0.229261\n",
       "Symptom_Waking_up_in_night         0.565611\n",
       "Length: 126, dtype: float64"
      ]
     },
     "execution_count": 34,
     "metadata": {},
     "output_type": "execute_result"
    }
   ],
   "source": [
    "# check if patients asigned to cluster 0 have average scores equivalent to column 0 of mm\n",
    "# this is a bit of a sanity check\n",
    "\n",
    "mm[0].sort_index()\n",
    "\n",
    "df[df.cluster==0][sympdf.columns].mean().sort_index()"
   ]
  },
  {
   "cell_type": "code",
   "execution_count": 57,
   "metadata": {},
   "outputs": [
    {
     "data": {
      "text/plain": [
       "array([ 8, 11,  8, ...,  7,  8, 11])"
      ]
     },
     "execution_count": 57,
     "metadata": {},
     "output_type": "execute_result"
    }
   ],
   "source": [
    "model.predict(sympdf)"
   ]
  },
  {
   "cell_type": "code",
   "execution_count": 36,
   "metadata": {},
   "outputs": [],
   "source": [
    "df['cluster'].to_csv(\"output/cluster_13_112623.csv\")"
   ]
  },
  {
   "cell_type": "code",
   "execution_count": 37,
   "metadata": {},
   "outputs": [],
   "source": [
    "def load_run(n_components, date):\n",
    "    clusters = pd.read_csv(\"output/cluster_\"+str(n_components)+\"_\"+date+\".csv\", index_col=0)\n",
    "    mm = pd.read_csv(\"output/stepmix_\"+str(n_components)+\"_\"+date+\"_mmdf.csv\", index_col=0)\n",
    "    symp_unusual = pd.read_csv(\"output/stepmix_\"+str(n_components)+\"_\"+date+\"_symp_unusual.csv\", index_col=0)\n",
    "\n",
    "    file_path = \"output/stepmix_\"+str(n_components)+\"_\"+date+\".pkl\"\n",
    "\n",
    "    with open(file_path, 'rb') as file:\n",
    "        model = pkl.load(file)\n",
    "    return({\"clusters\": clusters, \"mm\": mm, \"symp_unusual\": symp_unusual, \"model\": model})"
   ]
  },
  {
   "cell_type": "code",
   "execution_count": 38,
   "metadata": {},
   "outputs": [],
   "source": [
    "def filter_poor_fits(model, sympdf, clusterdf,  threshold = 0.5):\n",
    "    # filter out poor fits\n",
    "    # get the probability of each patient belonging to each cluster\n",
    "    preddf = pd.DataFrame(model.predict_proba(sympdf),index=sympdf.index)\n",
    "    print(preddf[preddf > 0.5].notna().sum(axis=1).value_counts())\n",
    "    poor_fits = preddf[preddf[preddf > 0.5].notna().sum(axis=1) == 0].index.values\n",
    "    clusterdf.loc[clusterdf.index.isin(poor_fits),'cluster']= np.nan\n",
    "    return(clusterdf)"
   ]
  },
  {
   "cell_type": "code",
   "execution_count": 39,
   "metadata": {},
   "outputs": [],
   "source": [
    "def get_preddf(model, sympdf):\n",
    "    # filter out poor fits\n",
    "    # get the probability of each patient belonging to each cluster\n",
    "    preddf = pd.DataFrame(model.predict_proba(sympdf),index=sympdf.index)\n",
    "    return(preddf)"
   ]
  },
  {
   "cell_type": "code",
   "execution_count": 40,
   "metadata": {},
   "outputs": [
    {
     "name": "stdout",
     "output_type": "stream",
     "text": [
      "1    5915\n",
      "0     116\n",
      "Name: count, dtype: int64\n",
      "Index(['cluster'], dtype='object')\n"
     ]
    }
   ],
   "source": [
    "n_components = 13\n",
    "date = \"112623\"\n",
    "res= load_run(n_components, date)\n",
    "clust= filter_poor_fits(res[\"model\"], sympdf, res[\"clusters\"])\n",
    "clust.to_csv(\"output/cluster_\"+str(n_components)+\"_ambiguousNaN_111023.csv\")\n",
    "preddf = pd.DataFrame(res[\"model\"].predict_proba(sympdf),index=sympdf.index)\n",
    "preddf.to_csv(\"output/stepmix_\"+str(n_components)+\"_\"+date+\"_preddf.csv\")\n",
    "print(clust.columns)"
   ]
  },
  {
   "cell_type": "code",
   "execution_count": 43,
   "metadata": {},
   "outputs": [],
   "source": [
    "olddate = \"111023\"\n",
    "\n",
    "predold = pd.read_csv(\"output/stepmix_\"+str(n_components)+\"_\"+olddate+\"_preddf.csv\", index_col=0)"
   ]
  },
  {
   "cell_type": "code",
   "execution_count": 46,
   "metadata": {},
   "outputs": [],
   "source": [
    "clustold = pd.read_csv(\"output/cluster_\"+str(n_components)+\"_\"+olddate+\".csv\", index_col=0)"
   ]
  },
  {
   "cell_type": "code",
   "execution_count": 58,
   "metadata": {},
   "outputs": [
    {
     "ename": "ValueError",
     "evalue": "Input contains NaN.",
     "output_type": "error",
     "traceback": [
      "\u001b[0;31m---------------------------------------------------------------------------\u001b[0m",
      "\u001b[0;31mValueError\u001b[0m                                Traceback (most recent call last)",
      "\u001b[1;32m/Users/tessa/Documents/GitHub/PLR/Tessa/stepmix-112623-gridsearch.ipynb Cell 45\u001b[0m line \u001b[0;36m2\n\u001b[1;32m      <a href='vscode-notebook-cell:/Users/tessa/Documents/GitHub/PLR/Tessa/stepmix-112623-gridsearch.ipynb#Y112sZmlsZQ%3D%3D?line=0'>1</a>\u001b[0m \u001b[39mfrom\u001b[39;00m \u001b[39msklearn\u001b[39;00m\u001b[39m.\u001b[39;00m\u001b[39mmetrics\u001b[39;00m \u001b[39mimport\u001b[39;00m adjusted_rand_score\n\u001b[0;32m----> <a href='vscode-notebook-cell:/Users/tessa/Documents/GitHub/PLR/Tessa/stepmix-112623-gridsearch.ipynb#Y112sZmlsZQ%3D%3D?line=1'>2</a>\u001b[0m adjusted_rand_score(clust[\u001b[39m'\u001b[39;49m\u001b[39mcluster\u001b[39;49m\u001b[39m'\u001b[39;49m], clustold[\u001b[39m'\u001b[39;49m\u001b[39mcluster\u001b[39;49m\u001b[39m'\u001b[39;49m])\n",
      "File \u001b[0;32m~/miniforge3/envs/stepmix/lib/python3.12/site-packages/sklearn/utils/_param_validation.py:214\u001b[0m, in \u001b[0;36mvalidate_params.<locals>.decorator.<locals>.wrapper\u001b[0;34m(*args, **kwargs)\u001b[0m\n\u001b[1;32m    208\u001b[0m \u001b[39mtry\u001b[39;00m:\n\u001b[1;32m    209\u001b[0m     \u001b[39mwith\u001b[39;00m config_context(\n\u001b[1;32m    210\u001b[0m         skip_parameter_validation\u001b[39m=\u001b[39m(\n\u001b[1;32m    211\u001b[0m             prefer_skip_nested_validation \u001b[39mor\u001b[39;00m global_skip_validation\n\u001b[1;32m    212\u001b[0m         )\n\u001b[1;32m    213\u001b[0m     ):\n\u001b[0;32m--> 214\u001b[0m         \u001b[39mreturn\u001b[39;00m func(\u001b[39m*\u001b[39;49margs, \u001b[39m*\u001b[39;49m\u001b[39m*\u001b[39;49mkwargs)\n\u001b[1;32m    215\u001b[0m \u001b[39mexcept\u001b[39;00m InvalidParameterError \u001b[39mas\u001b[39;00m e:\n\u001b[1;32m    216\u001b[0m     \u001b[39m# When the function is just a wrapper around an estimator, we allow\u001b[39;00m\n\u001b[1;32m    217\u001b[0m     \u001b[39m# the function to delegate validation to the estimator, but we replace\u001b[39;00m\n\u001b[1;32m    218\u001b[0m     \u001b[39m# the name of the estimator by the name of the function in the error\u001b[39;00m\n\u001b[1;32m    219\u001b[0m     \u001b[39m# message to avoid confusion.\u001b[39;00m\n\u001b[1;32m    220\u001b[0m     msg \u001b[39m=\u001b[39m re\u001b[39m.\u001b[39msub(\n\u001b[1;32m    221\u001b[0m         \u001b[39mr\u001b[39m\u001b[39m\"\u001b[39m\u001b[39mparameter of \u001b[39m\u001b[39m\\\u001b[39m\u001b[39mw+ must be\u001b[39m\u001b[39m\"\u001b[39m,\n\u001b[1;32m    222\u001b[0m         \u001b[39mf\u001b[39m\u001b[39m\"\u001b[39m\u001b[39mparameter of \u001b[39m\u001b[39m{\u001b[39;00mfunc\u001b[39m.\u001b[39m\u001b[39m__qualname__\u001b[39m\u001b[39m}\u001b[39;00m\u001b[39m must be\u001b[39m\u001b[39m\"\u001b[39m,\n\u001b[1;32m    223\u001b[0m         \u001b[39mstr\u001b[39m(e),\n\u001b[1;32m    224\u001b[0m     )\n",
      "File \u001b[0;32m~/miniforge3/envs/stepmix/lib/python3.12/site-packages/sklearn/metrics/cluster/_supervised.py:434\u001b[0m, in \u001b[0;36madjusted_rand_score\u001b[0;34m(labels_true, labels_pred)\u001b[0m\n\u001b[1;32m    336\u001b[0m \u001b[39m@validate_params\u001b[39m(\n\u001b[1;32m    337\u001b[0m     {\n\u001b[1;32m    338\u001b[0m         \u001b[39m\"\u001b[39m\u001b[39mlabels_true\u001b[39m\u001b[39m\"\u001b[39m: [\u001b[39m\"\u001b[39m\u001b[39marray-like\u001b[39m\u001b[39m\"\u001b[39m],\n\u001b[0;32m   (...)\u001b[0m\n\u001b[1;32m    342\u001b[0m )\n\u001b[1;32m    343\u001b[0m \u001b[39mdef\u001b[39;00m \u001b[39madjusted_rand_score\u001b[39m(labels_true, labels_pred):\n\u001b[1;32m    344\u001b[0m \u001b[39m    \u001b[39m\u001b[39m\"\"\"Rand index adjusted for chance.\u001b[39;00m\n\u001b[1;32m    345\u001b[0m \n\u001b[1;32m    346\u001b[0m \u001b[39m    The Rand Index computes a similarity measure between two clusterings\u001b[39;00m\n\u001b[0;32m   (...)\u001b[0m\n\u001b[1;32m    432\u001b[0m \u001b[39m      -0.5\u001b[39;00m\n\u001b[1;32m    433\u001b[0m \u001b[39m    \"\"\"\u001b[39;00m\n\u001b[0;32m--> 434\u001b[0m     (tn, fp), (fn, tp) \u001b[39m=\u001b[39m pair_confusion_matrix(labels_true, labels_pred)\n\u001b[1;32m    435\u001b[0m     \u001b[39m# convert to Python integer types, to avoid overflow or underflow\u001b[39;00m\n\u001b[1;32m    436\u001b[0m     tn, fp, fn, tp \u001b[39m=\u001b[39m \u001b[39mint\u001b[39m(tn), \u001b[39mint\u001b[39m(fp), \u001b[39mint\u001b[39m(fn), \u001b[39mint\u001b[39m(tp)\n",
      "File \u001b[0;32m~/miniforge3/envs/stepmix/lib/python3.12/site-packages/sklearn/utils/_param_validation.py:187\u001b[0m, in \u001b[0;36mvalidate_params.<locals>.decorator.<locals>.wrapper\u001b[0;34m(*args, **kwargs)\u001b[0m\n\u001b[1;32m    185\u001b[0m global_skip_validation \u001b[39m=\u001b[39m get_config()[\u001b[39m\"\u001b[39m\u001b[39mskip_parameter_validation\u001b[39m\u001b[39m\"\u001b[39m]\n\u001b[1;32m    186\u001b[0m \u001b[39mif\u001b[39;00m global_skip_validation:\n\u001b[0;32m--> 187\u001b[0m     \u001b[39mreturn\u001b[39;00m func(\u001b[39m*\u001b[39;49margs, \u001b[39m*\u001b[39;49m\u001b[39m*\u001b[39;49mkwargs)\n\u001b[1;32m    189\u001b[0m func_sig \u001b[39m=\u001b[39m signature(func)\n\u001b[1;32m    191\u001b[0m \u001b[39m# Map *args/**kwargs to the function signature\u001b[39;00m\n",
      "File \u001b[0;32m~/miniforge3/envs/stepmix/lib/python3.12/site-packages/sklearn/metrics/cluster/_supervised.py:240\u001b[0m, in \u001b[0;36mpair_confusion_matrix\u001b[0;34m(labels_true, labels_pred)\u001b[0m\n\u001b[1;32m    173\u001b[0m \u001b[39m@validate_params\u001b[39m(\n\u001b[1;32m    174\u001b[0m     {\n\u001b[1;32m    175\u001b[0m         \u001b[39m\"\u001b[39m\u001b[39mlabels_true\u001b[39m\u001b[39m\"\u001b[39m: [\u001b[39m\"\u001b[39m\u001b[39marray-like\u001b[39m\u001b[39m\"\u001b[39m],\n\u001b[0;32m   (...)\u001b[0m\n\u001b[1;32m    179\u001b[0m )\n\u001b[1;32m    180\u001b[0m \u001b[39mdef\u001b[39;00m \u001b[39mpair_confusion_matrix\u001b[39m(labels_true, labels_pred):\n\u001b[1;32m    181\u001b[0m \u001b[39m    \u001b[39m\u001b[39m\"\"\"Pair confusion matrix arising from two clusterings [1]_.\u001b[39;00m\n\u001b[1;32m    182\u001b[0m \n\u001b[1;32m    183\u001b[0m \u001b[39m    The pair confusion matrix :math:`C` computes a 2 by 2 similarity matrix\u001b[39;00m\n\u001b[0;32m   (...)\u001b[0m\n\u001b[1;32m    238\u001b[0m \u001b[39m    Note that the matrix is not symmetric.\u001b[39;00m\n\u001b[1;32m    239\u001b[0m \u001b[39m    \"\"\"\u001b[39;00m\n\u001b[0;32m--> 240\u001b[0m     labels_true, labels_pred \u001b[39m=\u001b[39m check_clusterings(labels_true, labels_pred)\n\u001b[1;32m    241\u001b[0m     n_samples \u001b[39m=\u001b[39m np\u001b[39m.\u001b[39mint64(labels_true\u001b[39m.\u001b[39mshape[\u001b[39m0\u001b[39m])\n\u001b[1;32m    243\u001b[0m     \u001b[39m# Computation using the contingency data\u001b[39;00m\n",
      "File \u001b[0;32m~/miniforge3/envs/stepmix/lib/python3.12/site-packages/sklearn/metrics/cluster/_supervised.py:43\u001b[0m, in \u001b[0;36mcheck_clusterings\u001b[0;34m(labels_true, labels_pred)\u001b[0m\n\u001b[1;32m     32\u001b[0m \u001b[39mdef\u001b[39;00m \u001b[39mcheck_clusterings\u001b[39m(labels_true, labels_pred):\n\u001b[1;32m     33\u001b[0m \u001b[39m    \u001b[39m\u001b[39m\"\"\"Check that the labels arrays are 1D and of same dimension.\u001b[39;00m\n\u001b[1;32m     34\u001b[0m \n\u001b[1;32m     35\u001b[0m \u001b[39m    Parameters\u001b[39;00m\n\u001b[0;32m   (...)\u001b[0m\n\u001b[1;32m     41\u001b[0m \u001b[39m        The predicted labels.\u001b[39;00m\n\u001b[1;32m     42\u001b[0m \u001b[39m    \"\"\"\u001b[39;00m\n\u001b[0;32m---> 43\u001b[0m     labels_true \u001b[39m=\u001b[39m check_array(\n\u001b[1;32m     44\u001b[0m         labels_true,\n\u001b[1;32m     45\u001b[0m         ensure_2d\u001b[39m=\u001b[39;49m\u001b[39mFalse\u001b[39;49;00m,\n\u001b[1;32m     46\u001b[0m         ensure_min_samples\u001b[39m=\u001b[39;49m\u001b[39m0\u001b[39;49m,\n\u001b[1;32m     47\u001b[0m         dtype\u001b[39m=\u001b[39;49m\u001b[39mNone\u001b[39;49;00m,\n\u001b[1;32m     48\u001b[0m     )\n\u001b[1;32m     50\u001b[0m     labels_pred \u001b[39m=\u001b[39m check_array(\n\u001b[1;32m     51\u001b[0m         labels_pred,\n\u001b[1;32m     52\u001b[0m         ensure_2d\u001b[39m=\u001b[39m\u001b[39mFalse\u001b[39;00m,\n\u001b[1;32m     53\u001b[0m         ensure_min_samples\u001b[39m=\u001b[39m\u001b[39m0\u001b[39m,\n\u001b[1;32m     54\u001b[0m         dtype\u001b[39m=\u001b[39m\u001b[39mNone\u001b[39;00m,\n\u001b[1;32m     55\u001b[0m     )\n\u001b[1;32m     57\u001b[0m     type_label \u001b[39m=\u001b[39m type_of_target(labels_true)\n",
      "File \u001b[0;32m~/miniforge3/envs/stepmix/lib/python3.12/site-packages/sklearn/utils/validation.py:957\u001b[0m, in \u001b[0;36mcheck_array\u001b[0;34m(array, accept_sparse, accept_large_sparse, dtype, order, copy, force_all_finite, ensure_2d, allow_nd, ensure_min_samples, ensure_min_features, estimator, input_name)\u001b[0m\n\u001b[1;32m    951\u001b[0m         \u001b[39mraise\u001b[39;00m \u001b[39mValueError\u001b[39;00m(\n\u001b[1;32m    952\u001b[0m             \u001b[39m\"\u001b[39m\u001b[39mFound array with dim \u001b[39m\u001b[39m%d\u001b[39;00m\u001b[39m. \u001b[39m\u001b[39m%s\u001b[39;00m\u001b[39m expected <= 2.\u001b[39m\u001b[39m\"\u001b[39m\n\u001b[1;32m    953\u001b[0m             \u001b[39m%\u001b[39m (array\u001b[39m.\u001b[39mndim, estimator_name)\n\u001b[1;32m    954\u001b[0m         )\n\u001b[1;32m    956\u001b[0m     \u001b[39mif\u001b[39;00m force_all_finite:\n\u001b[0;32m--> 957\u001b[0m         _assert_all_finite(\n\u001b[1;32m    958\u001b[0m             array,\n\u001b[1;32m    959\u001b[0m             input_name\u001b[39m=\u001b[39;49minput_name,\n\u001b[1;32m    960\u001b[0m             estimator_name\u001b[39m=\u001b[39;49mestimator_name,\n\u001b[1;32m    961\u001b[0m             allow_nan\u001b[39m=\u001b[39;49mforce_all_finite \u001b[39m==\u001b[39;49m \u001b[39m\"\u001b[39;49m\u001b[39mallow-nan\u001b[39;49m\u001b[39m\"\u001b[39;49m,\n\u001b[1;32m    962\u001b[0m         )\n\u001b[1;32m    964\u001b[0m \u001b[39mif\u001b[39;00m ensure_min_samples \u001b[39m>\u001b[39m \u001b[39m0\u001b[39m:\n\u001b[1;32m    965\u001b[0m     n_samples \u001b[39m=\u001b[39m _num_samples(array)\n",
      "File \u001b[0;32m~/miniforge3/envs/stepmix/lib/python3.12/site-packages/sklearn/utils/validation.py:122\u001b[0m, in \u001b[0;36m_assert_all_finite\u001b[0;34m(X, allow_nan, msg_dtype, estimator_name, input_name)\u001b[0m\n\u001b[1;32m    119\u001b[0m \u001b[39mif\u001b[39;00m first_pass_isfinite:\n\u001b[1;32m    120\u001b[0m     \u001b[39mreturn\u001b[39;00m\n\u001b[0;32m--> 122\u001b[0m _assert_all_finite_element_wise(\n\u001b[1;32m    123\u001b[0m     X,\n\u001b[1;32m    124\u001b[0m     xp\u001b[39m=\u001b[39;49mxp,\n\u001b[1;32m    125\u001b[0m     allow_nan\u001b[39m=\u001b[39;49mallow_nan,\n\u001b[1;32m    126\u001b[0m     msg_dtype\u001b[39m=\u001b[39;49mmsg_dtype,\n\u001b[1;32m    127\u001b[0m     estimator_name\u001b[39m=\u001b[39;49mestimator_name,\n\u001b[1;32m    128\u001b[0m     input_name\u001b[39m=\u001b[39;49minput_name,\n\u001b[1;32m    129\u001b[0m )\n",
      "File \u001b[0;32m~/miniforge3/envs/stepmix/lib/python3.12/site-packages/sklearn/utils/validation.py:171\u001b[0m, in \u001b[0;36m_assert_all_finite_element_wise\u001b[0;34m(X, xp, allow_nan, msg_dtype, estimator_name, input_name)\u001b[0m\n\u001b[1;32m    154\u001b[0m \u001b[39mif\u001b[39;00m estimator_name \u001b[39mand\u001b[39;00m input_name \u001b[39m==\u001b[39m \u001b[39m\"\u001b[39m\u001b[39mX\u001b[39m\u001b[39m\"\u001b[39m \u001b[39mand\u001b[39;00m has_nan_error:\n\u001b[1;32m    155\u001b[0m     \u001b[39m# Improve the error message on how to handle missing values in\u001b[39;00m\n\u001b[1;32m    156\u001b[0m     \u001b[39m# scikit-learn.\u001b[39;00m\n\u001b[1;32m    157\u001b[0m     msg_err \u001b[39m+\u001b[39m\u001b[39m=\u001b[39m (\n\u001b[1;32m    158\u001b[0m         \u001b[39mf\u001b[39m\u001b[39m\"\u001b[39m\u001b[39m\\n\u001b[39;00m\u001b[39m{\u001b[39;00mestimator_name\u001b[39m}\u001b[39;00m\u001b[39m does not accept missing values\u001b[39m\u001b[39m\"\u001b[39m\n\u001b[1;32m    159\u001b[0m         \u001b[39m\"\u001b[39m\u001b[39m encoded as NaN natively. For supervised learning, you might want\u001b[39m\u001b[39m\"\u001b[39m\n\u001b[0;32m   (...)\u001b[0m\n\u001b[1;32m    169\u001b[0m         \u001b[39m\"\u001b[39m\u001b[39m#estimators-that-handle-nan-values\u001b[39m\u001b[39m\"\u001b[39m\n\u001b[1;32m    170\u001b[0m     )\n\u001b[0;32m--> 171\u001b[0m \u001b[39mraise\u001b[39;00m \u001b[39mValueError\u001b[39;00m(msg_err)\n",
      "\u001b[0;31mValueError\u001b[0m: Input contains NaN."
     ]
    }
   ],
   "source": [
    "from sklearn.metrics import adjusted_rand_score\n",
    "adjusted_rand_score(clust['cluster'], clustold['cluster'])"
   ]
  },
  {
   "cell_type": "code",
   "execution_count": 60,
   "metadata": {},
   "outputs": [],
   "source": [
    "clust1 = pd.read_csv(\"output/cluster_13_111023.csv\", index_col=0)\n",
    "clust2 = pd.read_csv(\"output/cluster_13_112623.csv\", index_col=0)"
   ]
  },
  {
   "cell_type": "code",
   "execution_count": 61,
   "metadata": {},
   "outputs": [
    {
     "data": {
      "text/plain": [
       "0.6037766858989958"
      ]
     },
     "execution_count": 61,
     "metadata": {},
     "output_type": "execute_result"
    }
   ],
   "source": [
    "adjusted_rand_score(clust1['cluster'], clust2['cluster'])"
   ]
  },
  {
   "cell_type": "code",
   "execution_count": null,
   "metadata": {},
   "outputs": [],
   "source": []
  }
 ],
 "metadata": {
  "kernelspec": {
   "display_name": "Python 3",
   "language": "python",
   "name": "python3"
  },
  "language_info": {
   "codemirror_mode": {
    "name": "ipython",
    "version": 3
   },
   "file_extension": ".py",
   "mimetype": "text/x-python",
   "name": "python",
   "nbconvert_exporter": "python",
   "pygments_lexer": "ipython3",
   "version": "3.12.0"
  }
 },
 "nbformat": 4,
 "nbformat_minor": 2
}

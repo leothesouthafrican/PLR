{
 "cells": [
  {
   "cell_type": "code",
   "execution_count": 163,
   "metadata": {},
   "outputs": [],
   "source": [
    "from stepmix.stepmix import StepMix\n",
    "import pandas as pd\n",
    "import numpy as np\n",
    "\n",
    "from sklearn.model_selection import GridSearchCV, ParameterGrid\n",
    "\n",
    "import matplotlib.pyplot as plt\n",
    "import seaborn as sns\n",
    "\n",
    "import pickle as pkl"
   ]
  },
  {
   "cell_type": "code",
   "execution_count": 55,
   "metadata": {},
   "outputs": [],
   "source": [
    "def investigate_comp(comp, resdf):\n",
    "    def avg_cols(df, cols):\n",
    "        return df[cols].mean(axis=1)\n",
    "    comp_list = list(range(0,resdf.shape[1]))\n",
    "    comp_list.remove(comp)\n",
    "    other_pts = avg_cols(resdf,comp_list)\n",
    "    return resdf[comp] - other_pts\n",
    "    "
   ]
  },
  {
   "cell_type": "code",
   "execution_count": 227,
   "metadata": {},
   "outputs": [
    {
     "data": {
      "text/plain": [
       "(6031, 162)"
      ]
     },
     "execution_count": 227,
     "metadata": {},
     "output_type": "execute_result"
    }
   ],
   "source": [
    "df = pd.read_csv(\"../data/cleaned_data_SYMPTOMS_9_13_23.csv\", index_col=0)\n",
    "sympdf = df.loc[:, df.columns.str.startswith('Symptom_')]\n",
    "sympdf.shape"
   ]
  },
  {
   "cell_type": "code",
   "execution_count": 35,
   "metadata": {},
   "outputs": [
    {
     "data": {
      "text/plain": [
       "<Axes: >"
      ]
     },
     "execution_count": 35,
     "metadata": {},
     "output_type": "execute_result"
    },
    {
     "data": {
      "image/png": "[encoded data removed]",
      "text/plain": [
       "<Figure size 640x480 with 1 Axes>"
      ]
     },
     "metadata": {},
     "output_type": "display_data"
    }
   ],
   "source": [
    "sympdf.mean().hist(bins=20)"
   ]
  },
  {
   "cell_type": "code",
   "execution_count": 36,
   "metadata": {},
   "outputs": [
    {
     "data": {
      "text/plain": [
       "Symptom_Fatigue                                         0.979440\n",
       "Symptom_Memory_short                                    0.924225\n",
       "Symptom_PEM                                             0.883601\n",
       "Symptom_Cognitive_Functioning_attentionconcentration    0.752943\n",
       "Symptom_Shortness_of_breath                             0.736860\n",
       "Symptom_Insomnia                                        0.693252\n",
       "Symptom_Tightness_of_chest                              0.680153\n",
       "Symptom_Muscle_aches                                    0.677168\n",
       "Symptom_Dizziness_vertigo                               0.672525\n",
       "Symptom_Cognitive_Functioning_thinking                  0.666225\n",
       "dtype: float64"
      ]
     },
     "execution_count": 36,
     "metadata": {},
     "output_type": "execute_result"
    }
   ],
   "source": [
    "sympdf.mean().sort_values(ascending=False).head(10)\n",
    "# we're filtering out fatigue, short term memory only (ok)"
   ]
  },
  {
   "cell_type": "code",
   "execution_count": 37,
   "metadata": {},
   "outputs": [
    {
     "data": {
      "text/plain": [
       "Symptom_Eye_Vision_loss_of_vision                         0.011109\n",
       "Symptom_Reproductive_early_menopause                      0.013928\n",
       "Symptom_Reproductive_postmenopausal_bleeding              0.016084\n",
       "Symptom_Hallucinations_other                              0.023379\n",
       "Symptom_SkinAllergy_shingles                              0.025701\n",
       "Symptom_Heightened_taste                                  0.030841\n",
       "Symptom_Sensations_facial_paralysis                       0.032001\n",
       "Symptom_Hallucinations_tactile                            0.033659\n",
       "Symptom_Reproductive_testicle_penis_pain_changes          0.036478\n",
       "Symptom_Eye_Vision_tunnel_vision                          0.038302\n",
       "Symptom_New_anaphylaxis                                   0.042945\n",
       "Symptom_Speech_other                                      0.043111\n",
       "Symptom_Coughing_up_blood                                 0.047919\n",
       "Symptom_Ear_numbness                                      0.049411\n",
       "Symptom_Inability_to_yawn                                 0.054054\n",
       "Symptom_Speech_changes_to_secondary_languages             0.055712\n",
       "Symptom_SkinAllergy_other_itchy                           0.057370\n",
       "Symptom_Sensations_facial_pressure_other                  0.060189\n",
       "Symptom_Sensations_facial_pressure_right                  0.067982\n",
       "Symptom_Hallucinations_auditory                           0.071132\n",
       "Symptom_Sensations_facial_pressure_left                   0.079257\n",
       "Symptom_Eye_Vision_double_vision                          0.079589\n",
       "Symptom_Dermatographia                                    0.080418\n",
       "Symptom_Heightened_smell                                  0.082242\n",
       "Symptom_Eye_Vision_redness_outside_eye                    0.083237\n",
       "Symptom_Respiratory_other                                 0.086055\n",
       "Symptom_Cognitive_Functioning_other                       0.087050\n",
       "Symptom_Memory_no_new_memories                            0.087548\n",
       "Symptom_Reproductive_other_menstrual_issues               0.090035\n",
       "Symptom_Speech_speaking_unrecognizable_words              0.094677\n",
       "Symptom_Skin_Allergy_other                                0.094677\n",
       "Symptom_Reproductive_abnormally_heavy_periods_clotting    0.095341\n",
       "Symptom_Hearing_loss                                      0.096999\n",
       "Symptom_Phantom_taste                                     0.098989\n",
       "Symptom_Hallucinations_visual                             0.103300\n",
       "Symptom_Cognitive_Functioning_agnosia                     0.108274\n",
       "Symptom_SkinAllergy_brittle_nail                          0.109435\n",
       "Symptom_New_allergies                                     0.111093\n",
       "Symptom_Reproductive_sexual_dysfunction                   0.112917\n",
       "Symptom_Memory_other                                      0.120046\n",
       "dtype: float64"
      ]
     },
     "execution_count": 37,
     "metadata": {},
     "output_type": "execute_result"
    }
   ],
   "source": [
    "# while these are rare, combos of rare sypmtoms might group together\n",
    "# and some are particularly significant. I think I could either filter at the 5% mark on either side\n",
    "# or I could  \n",
    "sympdf.mean().sort_values(ascending=True).head(40)\n"
   ]
  },
  {
   "cell_type": "code",
   "execution_count": 38,
   "metadata": {},
   "outputs": [],
   "source": [
    "# the formal rec might be 10% but I think I'm going to go with 5% for now\n",
    "sympdf = sympdf.loc[:, (sympdf.sum() / sympdf.shape[0] > 0.05) & (sympdf.sum()  / sympdf.shape[0]< 0.95)]"
   ]
  },
  {
   "cell_type": "code",
   "execution_count": 39,
   "metadata": {},
   "outputs": [
    {
     "data": {
      "text/plain": [
       "(6031, 147)"
      ]
     },
     "execution_count": 39,
     "metadata": {},
     "output_type": "execute_result"
    }
   ],
   "source": [
    "sympdf.shape"
   ]
  },
  {
   "cell_type": "code",
   "execution_count": 40,
   "metadata": {},
   "outputs": [],
   "source": [
    "# patient is a mixture of classes but it's meant to represent probs rather than actual multiple class labels\n",
    "# so this model is less complex, but it might still be more appropriate, it'll depend\n",
    "\n",
    "model = StepMix(n_components=9, measurement=\"binary\", verbose=0, random_state=123)\n"
   ]
  },
  {
   "cell_type": "code",
   "execution_count": 41,
   "metadata": {},
   "outputs": [
    {
     "name": "stdout",
     "output_type": "stream",
     "text": [
      "Fitting StepMix...\n"
     ]
    },
    {
     "name": "stderr",
     "output_type": "stream",
     "text": [
      "Initializations (n_init) : 100%|██████████| 1/1 [00:03<00:00,  3.72s/it, max_LL=-4.1e+5, max_avg_LL=-68]\n"
     ]
    },
    {
     "data": {
      "text/html": [
       "<style>#sk-container-id-2 {color: black;}#sk-container-id-2 pre{padding: 0;}#sk-container-id-2 div.sk-toggleable {background-color: white;}#sk-container-id-2 label.sk-toggleable__label {cursor: pointer;display: block;width: 100%;margin-bottom: 0;padding: 0.3em;box-sizing: border-box;text-align: center;}#sk-container-id-2 label.sk-toggleable__label-arrow:before {content: \"▸\";float: left;margin-right: 0.25em;color: #696969;}#sk-container-id-2 label.sk-toggleable__label-arrow:hover:before {color: black;}#sk-container-id-2 div.sk-estimator:hover label.sk-toggleable__label-arrow:before {color: black;}#sk-container-id-2 div.sk-toggleable__content {max-height: 0;max-width: 0;overflow: hidden;text-align: left;background-color: #f0f8ff;}#sk-container-id-2 div.sk-toggleable__content pre {margin: 0.2em;color: black;border-radius: 0.25em;background-color: #f0f8ff;}#sk-container-id-2 input.sk-toggleable__control:checked~div.sk-toggleable__content {max-height: 200px;max-width: 100%;overflow: auto;}#sk-container-id-2 input.sk-toggleable__control:checked~label.sk-toggleable__label-arrow:before {content: \"▾\";}#sk-container-id-2 div.sk-estimator input.sk-toggleable__control:checked~label.sk-toggleable__label {background-color: #d4ebff;}#sk-container-id-2 div.sk-label input.sk-toggleable__control:checked~label.sk-toggleable__label {background-color: #d4ebff;}#sk-container-id-2 input.sk-hidden--visually {border: 0;clip: rect(1px 1px 1px 1px);clip: rect(1px, 1px, 1px, 1px);height: 1px;margin: -1px;overflow: hidden;padding: 0;position: absolute;width: 1px;}#sk-container-id-2 div.sk-estimator {font-family: monospace;background-color: #f0f8ff;border: 1px dotted black;border-radius: 0.25em;box-sizing: border-box;margin-bottom: 0.5em;}#sk-container-id-2 div.sk-estimator:hover {background-color: #d4ebff;}#sk-container-id-2 div.sk-parallel-item::after {content: \"\";width: 100%;border-bottom: 1px solid gray;flex-grow: 1;}#sk-container-id-2 div.sk-label:hover label.sk-toggleable__label {background-color: #d4ebff;}#sk-container-id-2 div.sk-serial::before {content: \"\";position: absolute;border-left: 1px solid gray;box-sizing: border-box;top: 0;bottom: 0;left: 50%;z-index: 0;}#sk-container-id-2 div.sk-serial {display: flex;flex-direction: column;align-items: center;background-color: white;padding-right: 0.2em;padding-left: 0.2em;position: relative;}#sk-container-id-2 div.sk-item {position: relative;z-index: 1;}#sk-container-id-2 div.sk-parallel {display: flex;align-items: stretch;justify-content: center;background-color: white;position: relative;}#sk-container-id-2 div.sk-item::before, #sk-container-id-2 div.sk-parallel-item::before {content: \"\";position: absolute;border-left: 1px solid gray;box-sizing: border-box;top: 0;bottom: 0;left: 50%;z-index: -1;}#sk-container-id-2 div.sk-parallel-item {display: flex;flex-direction: column;z-index: 1;position: relative;background-color: white;}#sk-container-id-2 div.sk-parallel-item:first-child::after {align-self: flex-end;width: 50%;}#sk-container-id-2 div.sk-parallel-item:last-child::after {align-self: flex-start;width: 50%;}#sk-container-id-2 div.sk-parallel-item:only-child::after {width: 0;}#sk-container-id-2 div.sk-dashed-wrapped {border: 1px dashed gray;margin: 0 0.4em 0.5em 0.4em;box-sizing: border-box;padding-bottom: 0.4em;background-color: white;}#sk-container-id-2 div.sk-label label {font-family: monospace;font-weight: bold;display: inline-block;line-height: 1.2em;}#sk-container-id-2 div.sk-label-container {text-align: center;}#sk-container-id-2 div.sk-container {/* jupyter's `normalize.less` sets `[hidden] { display: none; }` but bootstrap.min.css set `[hidden] { display: none !important; }` so we also need the `!important` here to be able to override the default hidden behavior on the sphinx rendered scikit-learn.org. See: https://github.com/scikit-learn/scikit-learn/issues/21755 */display: inline-block !important;position: relative;}#sk-container-id-2 div.sk-text-repr-fallback {display: none;}</style><div id=\"sk-container-id-2\" class=\"sk-top-container\"><div class=\"sk-text-repr-fallback\"><pre>StepMix(measurement=&#x27;binary&#x27;, n_components=9, random_state=123)</pre><b>In a Jupyter environment, please rerun this cell to show the HTML representation or trust the notebook. <br />On GitHub, the HTML representation is unable to render, please try loading this page with nbviewer.org.</b></div><div class=\"sk-container\" hidden><div class=\"sk-item\"><div class=\"sk-estimator sk-toggleable\"><input class=\"sk-toggleable__control sk-hidden--visually\" id=\"sk-estimator-id-2\" type=\"checkbox\" checked><label for=\"sk-estimator-id-2\" class=\"sk-toggleable__label sk-toggleable__label-arrow\">StepMix</label><div class=\"sk-toggleable__content\"><pre>StepMix(measurement=&#x27;binary&#x27;, n_components=9, random_state=123)</pre></div></div></div></div></div>"
      ],
      "text/plain": [
       "StepMix(measurement='binary', n_components=9, random_state=123)"
      ]
     },
     "execution_count": 41,
     "metadata": {},
     "output_type": "execute_result"
    }
   ],
   "source": [
    "model.fit(sympdf)\n"
   ]
  },
  {
   "cell_type": "code",
   "execution_count": 105,
   "metadata": {},
   "outputs": [
    {
     "name": "stdout",
     "output_type": "stream",
     "text": [
      "Fitting StepMix...\n"
     ]
    },
    {
     "name": "stderr",
     "output_type": "stream",
     "text": [
      "Initializations (n_init) : 100%|██████████| 1/1 [00:00<00:00,  2.37it/s, max_LL=-2.87e+5, max_avg_LL=-71.3]\n"
     ]
    },
    {
     "name": "stdout",
     "output_type": "stream",
     "text": [
      "Fitting StepMix...\n"
     ]
    },
    {
     "name": "stderr",
     "output_type": "stream",
     "text": [
      "Initializations (n_init) : 100%|██████████| 1/1 [00:00<00:00,  8.03it/s, max_LL=-2.86e+5, max_avg_LL=-71.2]\n"
     ]
    },
    {
     "name": "stdout",
     "output_type": "stream",
     "text": [
      "Fitting StepMix...\n"
     ]
    },
    {
     "name": "stderr",
     "output_type": "stream",
     "text": [
      "Initializations (n_init) : 100%|██████████| 1/1 [00:00<00:00,  5.26it/s, max_LL=-2.88e+5, max_avg_LL=-71.7]\n"
     ]
    },
    {
     "name": "stdout",
     "output_type": "stream",
     "text": [
      "Fitting StepMix...\n"
     ]
    },
    {
     "name": "stderr",
     "output_type": "stream",
     "text": [
      "Initializations (n_init) : 100%|██████████| 1/1 [00:00<00:00,  2.40it/s, max_LL=-2.8e+5, max_avg_LL=-69.8]\n"
     ]
    },
    {
     "name": "stdout",
     "output_type": "stream",
     "text": [
      "Fitting StepMix...\n"
     ]
    },
    {
     "name": "stderr",
     "output_type": "stream",
     "text": [
      "Initializations (n_init) : 100%|██████████| 1/1 [00:00<00:00,  2.03it/s, max_LL=-2.8e+5, max_avg_LL=-69.7]\n"
     ]
    },
    {
     "name": "stdout",
     "output_type": "stream",
     "text": [
      "Fitting StepMix...\n"
     ]
    },
    {
     "name": "stderr",
     "output_type": "stream",
     "text": [
      "Initializations (n_init) : 100%|██████████| 1/1 [00:00<00:00,  2.07it/s, max_LL=-2.83e+5, max_avg_LL=-70.3]\n"
     ]
    },
    {
     "name": "stdout",
     "output_type": "stream",
     "text": [
      "Fitting StepMix...\n"
     ]
    },
    {
     "name": "stderr",
     "output_type": "stream",
     "text": [
      "Initializations (n_init) : 100%|██████████| 1/1 [00:00<00:00,  1.91it/s, max_LL=-2.78e+5, max_avg_LL=-69.1]\n"
     ]
    },
    {
     "name": "stdout",
     "output_type": "stream",
     "text": [
      "Fitting StepMix...\n"
     ]
    },
    {
     "name": "stderr",
     "output_type": "stream",
     "text": [
      "Initializations (n_init) : 100%|██████████| 1/1 [00:00<00:00,  2.48it/s, max_LL=-2.78e+5, max_avg_LL=-69]\n"
     ]
    },
    {
     "name": "stdout",
     "output_type": "stream",
     "text": [
      "Fitting StepMix...\n"
     ]
    },
    {
     "name": "stderr",
     "output_type": "stream",
     "text": [
      "Initializations (n_init) : 100%|██████████| 1/1 [00:00<00:00,  2.60it/s, max_LL=-2.8e+5, max_avg_LL=-69.7]\n"
     ]
    },
    {
     "name": "stdout",
     "output_type": "stream",
     "text": [
      "Fitting StepMix...\n"
     ]
    },
    {
     "name": "stderr",
     "output_type": "stream",
     "text": [
      "Initializations (n_init) : 100%|██████████| 1/1 [00:01<00:00,  1.16s/it, max_LL=-2.75e+5, max_avg_LL=-68.5]\n"
     ]
    },
    {
     "name": "stdout",
     "output_type": "stream",
     "text": [
      "Fitting StepMix...\n"
     ]
    },
    {
     "name": "stderr",
     "output_type": "stream",
     "text": [
      "Initializations (n_init) : 100%|██████████| 1/1 [00:00<00:00,  1.84it/s, max_LL=-2.76e+5, max_avg_LL=-68.6]\n"
     ]
    },
    {
     "name": "stdout",
     "output_type": "stream",
     "text": [
      "Fitting StepMix...\n"
     ]
    },
    {
     "name": "stderr",
     "output_type": "stream",
     "text": [
      "Initializations (n_init) : 100%|██████████| 1/1 [00:02<00:00,  2.02s/it, max_LL=-2.78e+5, max_avg_LL=-69.2]\n"
     ]
    },
    {
     "name": "stdout",
     "output_type": "stream",
     "text": [
      "Fitting StepMix...\n"
     ]
    },
    {
     "name": "stderr",
     "output_type": "stream",
     "text": [
      "Initializations (n_init) : 100%|██████████| 1/1 [00:01<00:00,  1.07s/it, max_LL=-2.75e+5, max_avg_LL=-68.3]\n"
     ]
    },
    {
     "name": "stdout",
     "output_type": "stream",
     "text": [
      "Fitting StepMix...\n"
     ]
    },
    {
     "name": "stderr",
     "output_type": "stream",
     "text": [
      "Initializations (n_init) : 100%|██████████| 1/1 [00:00<00:00,  1.17it/s, max_LL=-2.74e+5, max_avg_LL=-68.3]\n"
     ]
    },
    {
     "name": "stdout",
     "output_type": "stream",
     "text": [
      "Fitting StepMix...\n"
     ]
    },
    {
     "name": "stderr",
     "output_type": "stream",
     "text": [
      "Initializations (n_init) : 100%|██████████| 1/1 [00:00<00:00,  2.25it/s, max_LL=-2.77e+5, max_avg_LL=-68.9]\n"
     ]
    },
    {
     "name": "stdout",
     "output_type": "stream",
     "text": [
      "Fitting StepMix...\n"
     ]
    },
    {
     "name": "stderr",
     "output_type": "stream",
     "text": [
      "Initializations (n_init) : 100%|██████████| 1/1 [00:04<00:00,  4.01s/it, max_LL=-2.73e+5, max_avg_LL=-68]\n"
     ]
    },
    {
     "name": "stdout",
     "output_type": "stream",
     "text": [
      "Fitting StepMix...\n"
     ]
    },
    {
     "name": "stderr",
     "output_type": "stream",
     "text": [
      "Initializations (n_init) : 100%|██████████| 1/1 [00:03<00:00,  3.34s/it, max_LL=-2.74e+5, max_avg_LL=-68]\n"
     ]
    },
    {
     "name": "stdout",
     "output_type": "stream",
     "text": [
      "Fitting StepMix...\n"
     ]
    },
    {
     "name": "stderr",
     "output_type": "stream",
     "text": [
      "Initializations (n_init) : 100%|██████████| 1/1 [00:00<00:00,  1.41it/s, max_LL=-2.76e+5, max_avg_LL=-68.7]\n"
     ]
    },
    {
     "name": "stdout",
     "output_type": "stream",
     "text": [
      "Fitting StepMix...\n"
     ]
    },
    {
     "name": "stderr",
     "output_type": "stream",
     "text": [
      "Initializations (n_init) : 100%|██████████| 1/1 [00:00<00:00,  1.30it/s, max_LL=-2.72e+5, max_avg_LL=-67.8]\n"
     ]
    },
    {
     "name": "stdout",
     "output_type": "stream",
     "text": [
      "Fitting StepMix...\n"
     ]
    },
    {
     "name": "stderr",
     "output_type": "stream",
     "text": [
      "Initializations (n_init) : 100%|██████████| 1/1 [00:01<00:00,  1.08s/it, max_LL=-2.73e+5, max_avg_LL=-67.8]\n"
     ]
    },
    {
     "name": "stdout",
     "output_type": "stream",
     "text": [
      "Fitting StepMix...\n"
     ]
    },
    {
     "name": "stderr",
     "output_type": "stream",
     "text": [
      "Initializations (n_init) : 100%|██████████| 1/1 [00:00<00:00,  1.12it/s, max_LL=-2.76e+5, max_avg_LL=-68.6]\n"
     ]
    },
    {
     "name": "stdout",
     "output_type": "stream",
     "text": [
      "Fitting StepMix...\n"
     ]
    },
    {
     "name": "stderr",
     "output_type": "stream",
     "text": [
      "Initializations (n_init) : 100%|██████████| 1/1 [00:01<00:00,  1.52s/it, max_LL=-2.72e+5, max_avg_LL=-67.6]\n"
     ]
    },
    {
     "name": "stdout",
     "output_type": "stream",
     "text": [
      "Fitting StepMix...\n"
     ]
    },
    {
     "name": "stderr",
     "output_type": "stream",
     "text": [
      "Initializations (n_init) : 100%|██████████| 1/1 [00:05<00:00,  5.42s/it, max_LL=-2.72e+5, max_avg_LL=-67.7]\n"
     ]
    },
    {
     "name": "stdout",
     "output_type": "stream",
     "text": [
      "Fitting StepMix...\n"
     ]
    },
    {
     "name": "stderr",
     "output_type": "stream",
     "text": [
      "Initializations (n_init) : 100%|██████████| 1/1 [00:01<00:00,  1.53s/it, max_LL=-2.75e+5, max_avg_LL=-68.4]\n"
     ]
    },
    {
     "name": "stdout",
     "output_type": "stream",
     "text": [
      "Fitting StepMix...\n"
     ]
    },
    {
     "name": "stderr",
     "output_type": "stream",
     "text": [
      "Initializations (n_init) : 100%|██████████| 1/1 [00:03<00:00,  3.40s/it, max_LL=-2.71e+5, max_avg_LL=-67.5]\n"
     ]
    },
    {
     "name": "stdout",
     "output_type": "stream",
     "text": [
      "Fitting StepMix...\n"
     ]
    },
    {
     "name": "stderr",
     "output_type": "stream",
     "text": [
      "Initializations (n_init) : 100%|██████████| 1/1 [00:08<00:00,  8.42s/it, max_LL=-2.71e+5, max_avg_LL=-67.5]\n"
     ]
    },
    {
     "name": "stdout",
     "output_type": "stream",
     "text": [
      "Fitting StepMix...\n"
     ]
    },
    {
     "name": "stderr",
     "output_type": "stream",
     "text": [
      "Initializations (n_init) : 100%|██████████| 1/1 [00:04<00:00,  4.42s/it, max_LL=-2.74e+5, max_avg_LL=-68.3]\n"
     ]
    },
    {
     "name": "stdout",
     "output_type": "stream",
     "text": [
      "Fitting StepMix...\n"
     ]
    },
    {
     "name": "stderr",
     "output_type": "stream",
     "text": [
      "Initializations (n_init) : 100%|██████████| 1/1 [00:02<00:00,  2.24s/it, max_LL=-2.71e+5, max_avg_LL=-67.3]\n"
     ]
    },
    {
     "name": "stdout",
     "output_type": "stream",
     "text": [
      "Fitting StepMix...\n"
     ]
    },
    {
     "name": "stderr",
     "output_type": "stream",
     "text": [
      "Initializations (n_init) : 100%|██████████| 1/1 [00:06<00:00,  6.81s/it, max_LL=-2.71e+5, max_avg_LL=-67.4]\n"
     ]
    },
    {
     "name": "stdout",
     "output_type": "stream",
     "text": [
      "Fitting StepMix...\n"
     ]
    },
    {
     "name": "stderr",
     "output_type": "stream",
     "text": [
      "Initializations (n_init) : 100%|██████████| 1/1 [00:04<00:00,  4.53s/it, max_LL=-2.74e+5, max_avg_LL=-68.1]\n"
     ]
    },
    {
     "name": "stdout",
     "output_type": "stream",
     "text": [
      "Fitting StepMix...\n"
     ]
    },
    {
     "name": "stderr",
     "output_type": "stream",
     "text": [
      "Initializations (n_init) : 100%|██████████| 1/1 [00:04<00:00,  4.81s/it, max_LL=-2.7e+5, max_avg_LL=-67.2]\n"
     ]
    },
    {
     "name": "stdout",
     "output_type": "stream",
     "text": [
      "Fitting StepMix...\n"
     ]
    },
    {
     "name": "stderr",
     "output_type": "stream",
     "text": [
      "Initializations (n_init) : 100%|██████████| 1/1 [00:05<00:00,  5.88s/it, max_LL=-2.7e+5, max_avg_LL=-67.2]\n"
     ]
    },
    {
     "name": "stdout",
     "output_type": "stream",
     "text": [
      "Fitting StepMix...\n"
     ]
    },
    {
     "name": "stderr",
     "output_type": "stream",
     "text": [
      "Initializations (n_init) : 100%|██████████| 1/1 [00:04<00:00,  4.34s/it, max_LL=-2.73e+5, max_avg_LL=-68]\n"
     ]
    },
    {
     "name": "stdout",
     "output_type": "stream",
     "text": [
      "Fitting StepMix...\n"
     ]
    },
    {
     "name": "stderr",
     "output_type": "stream",
     "text": [
      "Initializations (n_init) : 100%|██████████| 1/1 [00:03<00:00,  3.62s/it, max_LL=-2.7e+5, max_avg_LL=-67.1]\n"
     ]
    },
    {
     "name": "stdout",
     "output_type": "stream",
     "text": [
      "Fitting StepMix...\n"
     ]
    },
    {
     "name": "stderr",
     "output_type": "stream",
     "text": [
      "Initializations (n_init) : 100%|██████████| 1/1 [00:09<00:00,  9.76s/it, max_LL=-2.7e+5, max_avg_LL=-67.1]\n",
      "/Users/tessa/miniforge3/envs/stepmix/lib/python3.12/site-packages/stepmix/stepmix.py:968: ConvergenceWarning: Initializations did not converge. Try different init parameters, or increase max_iter, abs_tol, rel_tol or check for degenerate data.\n",
      "  warnings.warn(\n"
     ]
    },
    {
     "name": "stdout",
     "output_type": "stream",
     "text": [
      "Fitting StepMix...\n"
     ]
    },
    {
     "name": "stderr",
     "output_type": "stream",
     "text": [
      "Initializations (n_init) : 100%|██████████| 1/1 [00:07<00:00,  7.02s/it, max_LL=-2.73e+5, max_avg_LL=-67.9]\n"
     ]
    },
    {
     "name": "stdout",
     "output_type": "stream",
     "text": [
      "Fitting StepMix...\n"
     ]
    },
    {
     "name": "stderr",
     "output_type": "stream",
     "text": [
      "Initializations (n_init) : 100%|██████████| 1/1 [00:02<00:00,  2.59s/it, max_LL=-2.69e+5, max_avg_LL=-67]\n"
     ]
    },
    {
     "name": "stdout",
     "output_type": "stream",
     "text": [
      "Fitting StepMix...\n"
     ]
    },
    {
     "name": "stderr",
     "output_type": "stream",
     "text": [
      "Initializations (n_init) : 100%|██████████| 1/1 [00:07<00:00,  7.39s/it, max_LL=-2.69e+5, max_avg_LL=-67]\n"
     ]
    },
    {
     "name": "stdout",
     "output_type": "stream",
     "text": [
      "Fitting StepMix...\n"
     ]
    },
    {
     "name": "stderr",
     "output_type": "stream",
     "text": [
      "Initializations (n_init) : 100%|██████████| 1/1 [00:06<00:00,  6.74s/it, max_LL=-2.73e+5, max_avg_LL=-67.8]\n"
     ]
    },
    {
     "name": "stdout",
     "output_type": "stream",
     "text": [
      "Fitting StepMix...\n"
     ]
    },
    {
     "name": "stderr",
     "output_type": "stream",
     "text": [
      "Initializations (n_init) : 100%|██████████| 1/1 [00:02<00:00,  2.32s/it, max_LL=-2.69e+5, max_avg_LL=-66.8]\n"
     ]
    },
    {
     "name": "stdout",
     "output_type": "stream",
     "text": [
      "Fitting StepMix...\n"
     ]
    },
    {
     "name": "stderr",
     "output_type": "stream",
     "text": [
      "Initializations (n_init) : 100%|██████████| 1/1 [00:14<00:00, 14.04s/it, max_LL=-2.69e+5, max_avg_LL=-66.9]\n"
     ]
    },
    {
     "name": "stdout",
     "output_type": "stream",
     "text": [
      "Fitting StepMix...\n"
     ]
    },
    {
     "name": "stderr",
     "output_type": "stream",
     "text": [
      "Initializations (n_init) : 100%|██████████| 1/1 [00:09<00:00,  9.26s/it, max_LL=-2.72e+5, max_avg_LL=-67.6]\n"
     ]
    },
    {
     "name": "stdout",
     "output_type": "stream",
     "text": [
      "Fitting StepMix...\n"
     ]
    },
    {
     "name": "stderr",
     "output_type": "stream",
     "text": [
      "Initializations (n_init) : 100%|██████████| 1/1 [00:03<00:00,  3.14s/it, max_LL=-2.68e+5, max_avg_LL=-66.8]\n"
     ]
    },
    {
     "name": "stdout",
     "output_type": "stream",
     "text": [
      "Fitting StepMix...\n"
     ]
    },
    {
     "name": "stderr",
     "output_type": "stream",
     "text": [
      "Initializations (n_init) : 100%|██████████| 1/1 [00:05<00:00,  5.06s/it, max_LL=-2.68e+5, max_avg_LL=-66.8]\n"
     ]
    },
    {
     "name": "stdout",
     "output_type": "stream",
     "text": [
      "Fitting StepMix...\n"
     ]
    },
    {
     "name": "stderr",
     "output_type": "stream",
     "text": [
      "Initializations (n_init) : 100%|██████████| 1/1 [00:04<00:00,  4.29s/it, max_LL=-2.72e+5, max_avg_LL=-67.6]\n"
     ]
    },
    {
     "name": "stdout",
     "output_type": "stream",
     "text": [
      "Fitting StepMix...\n"
     ]
    },
    {
     "name": "stderr",
     "output_type": "stream",
     "text": [
      "Initializations (n_init) : 100%|██████████| 1/1 [00:10<00:00, 10.95s/it, max_LL=-2.68e+5, max_avg_LL=-66.6]\n"
     ]
    },
    {
     "name": "stdout",
     "output_type": "stream",
     "text": [
      "Fitting StepMix...\n"
     ]
    },
    {
     "name": "stderr",
     "output_type": "stream",
     "text": [
      "Initializations (n_init) : 100%|██████████| 1/1 [00:02<00:00,  2.51s/it, max_LL=-2.68e+5, max_avg_LL=-66.7]\n"
     ]
    },
    {
     "name": "stdout",
     "output_type": "stream",
     "text": [
      "Fitting StepMix...\n"
     ]
    },
    {
     "name": "stderr",
     "output_type": "stream",
     "text": [
      "Initializations (n_init) : 100%|██████████| 1/1 [00:08<00:00,  8.25s/it, max_LL=-2.71e+5, max_avg_LL=-67.5]\n"
     ]
    },
    {
     "name": "stdout",
     "output_type": "stream",
     "text": [
      "Fitting StepMix...\n"
     ]
    },
    {
     "name": "stderr",
     "output_type": "stream",
     "text": [
      "Initializations (n_init) : 100%|██████████| 1/1 [00:15<00:00, 15.30s/it, max_LL=-2.68e+5, max_avg_LL=-66.6]\n",
      "/Users/tessa/miniforge3/envs/stepmix/lib/python3.12/site-packages/stepmix/stepmix.py:968: ConvergenceWarning: Initializations did not converge. Try different init parameters, or increase max_iter, abs_tol, rel_tol or check for degenerate data.\n",
      "  warnings.warn(\n"
     ]
    },
    {
     "name": "stdout",
     "output_type": "stream",
     "text": [
      "Fitting StepMix...\n"
     ]
    },
    {
     "name": "stderr",
     "output_type": "stream",
     "text": [
      "Initializations (n_init) : 100%|██████████| 1/1 [00:13<00:00, 13.16s/it, max_LL=-2.68e+5, max_avg_LL=-66.6]\n"
     ]
    },
    {
     "name": "stdout",
     "output_type": "stream",
     "text": [
      "Fitting StepMix...\n"
     ]
    },
    {
     "name": "stderr",
     "output_type": "stream",
     "text": [
      "Initializations (n_init) : 100%|██████████| 1/1 [00:04<00:00,  4.26s/it, max_LL=-2.71e+5, max_avg_LL=-67.4]\n"
     ]
    },
    {
     "name": "stdout",
     "output_type": "stream",
     "text": [
      "Fitting StepMix...\n"
     ]
    },
    {
     "name": "stderr",
     "output_type": "stream",
     "text": [
      "Initializations (n_init) : 100%|██████████| 1/1 [00:08<00:00,  8.26s/it, max_LL=-2.67e+5, max_avg_LL=-66.5]\n"
     ]
    },
    {
     "name": "stdout",
     "output_type": "stream",
     "text": [
      "Fitting StepMix...\n"
     ]
    },
    {
     "name": "stderr",
     "output_type": "stream",
     "text": [
      "Initializations (n_init) : 100%|██████████| 1/1 [00:10<00:00, 10.60s/it, max_LL=-2.67e+5, max_avg_LL=-66.5]\n",
      "/Users/tessa/miniforge3/envs/stepmix/lib/python3.12/site-packages/stepmix/stepmix.py:968: ConvergenceWarning: Initializations did not converge. Try different init parameters, or increase max_iter, abs_tol, rel_tol or check for degenerate data.\n",
      "  warnings.warn(\n"
     ]
    },
    {
     "name": "stdout",
     "output_type": "stream",
     "text": [
      "Fitting StepMix...\n"
     ]
    },
    {
     "name": "stderr",
     "output_type": "stream",
     "text": [
      "Initializations (n_init) : 100%|██████████| 1/1 [00:11<00:00, 11.91s/it, max_LL=-2.71e+5, max_avg_LL=-67.4]\n",
      "/Users/tessa/miniforge3/envs/stepmix/lib/python3.12/site-packages/stepmix/stepmix.py:968: ConvergenceWarning: Initializations did not converge. Try different init parameters, or increase max_iter, abs_tol, rel_tol or check for degenerate data.\n",
      "  warnings.warn(\n"
     ]
    },
    {
     "name": "stdout",
     "output_type": "stream",
     "text": [
      "Fitting StepMix...\n"
     ]
    },
    {
     "name": "stderr",
     "output_type": "stream",
     "text": [
      "Initializations (n_init) : 100%|██████████| 1/1 [00:11<00:00, 11.81s/it, max_LL=-2.67e+5, max_avg_LL=-66.4]\n"
     ]
    },
    {
     "name": "stdout",
     "output_type": "stream",
     "text": [
      "Fitting StepMix...\n"
     ]
    },
    {
     "name": "stderr",
     "output_type": "stream",
     "text": [
      "Initializations (n_init) : 100%|██████████| 1/1 [00:10<00:00, 10.04s/it, max_LL=-2.67e+5, max_avg_LL=-66.4]\n",
      "/Users/tessa/miniforge3/envs/stepmix/lib/python3.12/site-packages/stepmix/stepmix.py:968: ConvergenceWarning: Initializations did not converge. Try different init parameters, or increase max_iter, abs_tol, rel_tol or check for degenerate data.\n",
      "  warnings.warn(\n"
     ]
    },
    {
     "name": "stdout",
     "output_type": "stream",
     "text": [
      "Fitting StepMix...\n"
     ]
    },
    {
     "name": "stderr",
     "output_type": "stream",
     "text": [
      "Initializations (n_init) : 100%|██████████| 1/1 [00:10<00:00, 10.63s/it, max_LL=-2.7e+5, max_avg_LL=-67.2]\n",
      "/Users/tessa/miniforge3/envs/stepmix/lib/python3.12/site-packages/stepmix/stepmix.py:968: ConvergenceWarning: Initializations did not converge. Try different init parameters, or increase max_iter, abs_tol, rel_tol or check for degenerate data.\n",
      "  warnings.warn(\n"
     ]
    },
    {
     "name": "stdout",
     "output_type": "stream",
     "text": [
      "Fitting StepMix...\n"
     ]
    },
    {
     "name": "stderr",
     "output_type": "stream",
     "text": [
      "Initializations (n_init) : 100%|██████████| 1/1 [00:11<00:00, 11.15s/it, max_LL=-2.67e+5, max_avg_LL=-66.3]\n",
      "/Users/tessa/miniforge3/envs/stepmix/lib/python3.12/site-packages/stepmix/stepmix.py:968: ConvergenceWarning: Initializations did not converge. Try different init parameters, or increase max_iter, abs_tol, rel_tol or check for degenerate data.\n",
      "  warnings.warn(\n"
     ]
    },
    {
     "name": "stdout",
     "output_type": "stream",
     "text": [
      "Fitting StepMix...\n"
     ]
    },
    {
     "name": "stderr",
     "output_type": "stream",
     "text": [
      "Initializations (n_init) : 100%|██████████| 1/1 [00:07<00:00,  7.83s/it, max_LL=-2.67e+5, max_avg_LL=-66.3]\n"
     ]
    },
    {
     "name": "stdout",
     "output_type": "stream",
     "text": [
      "Fitting StepMix...\n"
     ]
    },
    {
     "name": "stderr",
     "output_type": "stream",
     "text": [
      "Initializations (n_init) : 100%|██████████| 1/1 [00:06<00:00,  6.30s/it, max_LL=-2.7e+5, max_avg_LL=-67.2]\n"
     ]
    },
    {
     "name": "stdout",
     "output_type": "stream",
     "text": [
      "Fitting StepMix...\n"
     ]
    },
    {
     "name": "stderr",
     "output_type": "stream",
     "text": [
      "Initializations (n_init) : 100%|██████████| 1/1 [00:07<00:00,  7.70s/it, max_LL=-2.66e+5, max_avg_LL=-66.3]\n"
     ]
    },
    {
     "name": "stdout",
     "output_type": "stream",
     "text": [
      "Fitting StepMix...\n"
     ]
    },
    {
     "name": "stderr",
     "output_type": "stream",
     "text": [
      "Initializations (n_init) : 100%|██████████| 1/1 [00:08<00:00,  8.69s/it, max_LL=-2.66e+5, max_avg_LL=-66.2]\n"
     ]
    },
    {
     "name": "stdout",
     "output_type": "stream",
     "text": [
      "Fitting StepMix...\n"
     ]
    },
    {
     "name": "stderr",
     "output_type": "stream",
     "text": [
      "Initializations (n_init) : 100%|██████████| 1/1 [00:06<00:00,  6.73s/it, max_LL=-2.7e+5, max_avg_LL=-67.1]\n"
     ]
    },
    {
     "name": "stdout",
     "output_type": "stream",
     "text": [
      "Fitting StepMix...\n"
     ]
    },
    {
     "name": "stderr",
     "output_type": "stream",
     "text": [
      "Initializations (n_init) : 100%|██████████| 1/1 [00:08<00:00,  8.78s/it, max_LL=-2.66e+5, max_avg_LL=-66.1]\n"
     ]
    },
    {
     "name": "stdout",
     "output_type": "stream",
     "text": [
      "Fitting StepMix...\n"
     ]
    },
    {
     "name": "stderr",
     "output_type": "stream",
     "text": [
      "Initializations (n_init) : 100%|██████████| 1/1 [00:05<00:00,  5.54s/it, max_LL=-2.66e+5, max_avg_LL=-66.2]\n"
     ]
    },
    {
     "name": "stdout",
     "output_type": "stream",
     "text": [
      "Fitting StepMix...\n"
     ]
    },
    {
     "name": "stderr",
     "output_type": "stream",
     "text": [
      "Initializations (n_init) : 100%|██████████| 1/1 [00:07<00:00,  7.90s/it, max_LL=-2.7e+5, max_avg_LL=-67.1]\n"
     ]
    },
    {
     "name": "stdout",
     "output_type": "stream",
     "text": [
      "Fitting StepMix...\n"
     ]
    },
    {
     "name": "stderr",
     "output_type": "stream",
     "text": [
      "Initializations (n_init) : 100%|██████████| 1/1 [00:07<00:00,  7.46s/it, max_LL=-2.66e+5, max_avg_LL=-66.1]\n"
     ]
    },
    {
     "name": "stdout",
     "output_type": "stream",
     "text": [
      "Fitting StepMix...\n"
     ]
    },
    {
     "name": "stderr",
     "output_type": "stream",
     "text": [
      "Initializations (n_init) : 100%|██████████| 1/1 [00:09<00:00,  9.56s/it, max_LL=-2.66e+5, max_avg_LL=-66.1]\n",
      "/Users/tessa/miniforge3/envs/stepmix/lib/python3.12/site-packages/stepmix/stepmix.py:968: ConvergenceWarning: Initializations did not converge. Try different init parameters, or increase max_iter, abs_tol, rel_tol or check for degenerate data.\n",
      "  warnings.warn(\n"
     ]
    },
    {
     "name": "stdout",
     "output_type": "stream",
     "text": [
      "Fitting StepMix...\n"
     ]
    },
    {
     "name": "stderr",
     "output_type": "stream",
     "text": [
      "Initializations (n_init) : 100%|██████████| 1/1 [00:13<00:00, 13.01s/it, max_LL=-2.69e+5, max_avg_LL=-67]\n",
      "/Users/tessa/miniforge3/envs/stepmix/lib/python3.12/site-packages/stepmix/stepmix.py:968: ConvergenceWarning: Initializations did not converge. Try different init parameters, or increase max_iter, abs_tol, rel_tol or check for degenerate data.\n",
      "  warnings.warn(\n"
     ]
    },
    {
     "name": "stdout",
     "output_type": "stream",
     "text": [
      "Fitting StepMix...\n"
     ]
    },
    {
     "name": "stderr",
     "output_type": "stream",
     "text": [
      "Initializations (n_init) : 100%|██████████| 1/1 [00:11<00:00, 11.80s/it, max_LL=-2.66e+5, max_avg_LL=-66.1]\n"
     ]
    },
    {
     "name": "stdout",
     "output_type": "stream",
     "text": [
      "Fitting StepMix...\n"
     ]
    },
    {
     "name": "stderr",
     "output_type": "stream",
     "text": [
      "Initializations (n_init) : 100%|██████████| 1/1 [00:12<00:00, 12.18s/it, max_LL=-2.66e+5, max_avg_LL=-66.1]\n"
     ]
    },
    {
     "name": "stdout",
     "output_type": "stream",
     "text": [
      "Fitting StepMix...\n"
     ]
    },
    {
     "name": "stderr",
     "output_type": "stream",
     "text": [
      "Initializations (n_init) : 100%|██████████| 1/1 [00:06<00:00,  6.44s/it, max_LL=-2.69e+5, max_avg_LL=-66.9]\n"
     ]
    },
    {
     "name": "stdout",
     "output_type": "stream",
     "text": [
      "Fitting StepMix...\n"
     ]
    },
    {
     "name": "stderr",
     "output_type": "stream",
     "text": [
      "Initializations (n_init) : 100%|██████████| 1/1 [00:18<00:00, 18.96s/it, max_LL=-4.02e+5, max_avg_LL=-66.6]\n",
      "/Users/tessa/miniforge3/envs/stepmix/lib/python3.12/site-packages/stepmix/stepmix.py:968: ConvergenceWarning: Initializations did not converge. Try different init parameters, or increase max_iter, abs_tol, rel_tol or check for degenerate data.\n",
      "  warnings.warn(\n"
     ]
    },
    {
     "data": {
      "text/html": [
       "<style>#sk-container-id-6 {color: black;}#sk-container-id-6 pre{padding: 0;}#sk-container-id-6 div.sk-toggleable {background-color: white;}#sk-container-id-6 label.sk-toggleable__label {cursor: pointer;display: block;width: 100%;margin-bottom: 0;padding: 0.3em;box-sizing: border-box;text-align: center;}#sk-container-id-6 label.sk-toggleable__label-arrow:before {content: \"▸\";float: left;margin-right: 0.25em;color: #696969;}#sk-container-id-6 label.sk-toggleable__label-arrow:hover:before {color: black;}#sk-container-id-6 div.sk-estimator:hover label.sk-toggleable__label-arrow:before {color: black;}#sk-container-id-6 div.sk-toggleable__content {max-height: 0;max-width: 0;overflow: hidden;text-align: left;background-color: #f0f8ff;}#sk-container-id-6 div.sk-toggleable__content pre {margin: 0.2em;color: black;border-radius: 0.25em;background-color: #f0f8ff;}#sk-container-id-6 input.sk-toggleable__control:checked~div.sk-toggleable__content {max-height: 200px;max-width: 100%;overflow: auto;}#sk-container-id-6 input.sk-toggleable__control:checked~label.sk-toggleable__label-arrow:before {content: \"▾\";}#sk-container-id-6 div.sk-estimator input.sk-toggleable__control:checked~label.sk-toggleable__label {background-color: #d4ebff;}#sk-container-id-6 div.sk-label input.sk-toggleable__control:checked~label.sk-toggleable__label {background-color: #d4ebff;}#sk-container-id-6 input.sk-hidden--visually {border: 0;clip: rect(1px 1px 1px 1px);clip: rect(1px, 1px, 1px, 1px);height: 1px;margin: -1px;overflow: hidden;padding: 0;position: absolute;width: 1px;}#sk-container-id-6 div.sk-estimator {font-family: monospace;background-color: #f0f8ff;border: 1px dotted black;border-radius: 0.25em;box-sizing: border-box;margin-bottom: 0.5em;}#sk-container-id-6 div.sk-estimator:hover {background-color: #d4ebff;}#sk-container-id-6 div.sk-parallel-item::after {content: \"\";width: 100%;border-bottom: 1px solid gray;flex-grow: 1;}#sk-container-id-6 div.sk-label:hover label.sk-toggleable__label {background-color: #d4ebff;}#sk-container-id-6 div.sk-serial::before {content: \"\";position: absolute;border-left: 1px solid gray;box-sizing: border-box;top: 0;bottom: 0;left: 50%;z-index: 0;}#sk-container-id-6 div.sk-serial {display: flex;flex-direction: column;align-items: center;background-color: white;padding-right: 0.2em;padding-left: 0.2em;position: relative;}#sk-container-id-6 div.sk-item {position: relative;z-index: 1;}#sk-container-id-6 div.sk-parallel {display: flex;align-items: stretch;justify-content: center;background-color: white;position: relative;}#sk-container-id-6 div.sk-item::before, #sk-container-id-6 div.sk-parallel-item::before {content: \"\";position: absolute;border-left: 1px solid gray;box-sizing: border-box;top: 0;bottom: 0;left: 50%;z-index: -1;}#sk-container-id-6 div.sk-parallel-item {display: flex;flex-direction: column;z-index: 1;position: relative;background-color: white;}#sk-container-id-6 div.sk-parallel-item:first-child::after {align-self: flex-end;width: 50%;}#sk-container-id-6 div.sk-parallel-item:last-child::after {align-self: flex-start;width: 50%;}#sk-container-id-6 div.sk-parallel-item:only-child::after {width: 0;}#sk-container-id-6 div.sk-dashed-wrapped {border: 1px dashed gray;margin: 0 0.4em 0.5em 0.4em;box-sizing: border-box;padding-bottom: 0.4em;background-color: white;}#sk-container-id-6 div.sk-label label {font-family: monospace;font-weight: bold;display: inline-block;line-height: 1.2em;}#sk-container-id-6 div.sk-label-container {text-align: center;}#sk-container-id-6 div.sk-container {/* jupyter's `normalize.less` sets `[hidden] { display: none; }` but bootstrap.min.css set `[hidden] { display: none !important; }` so we also need the `!important` here to be able to override the default hidden behavior on the sphinx rendered scikit-learn.org. See: https://github.com/scikit-learn/scikit-learn/issues/21755 */display: inline-block !important;position: relative;}#sk-container-id-6 div.sk-text-repr-fallback {display: none;}</style><div id=\"sk-container-id-6\" class=\"sk-top-container\"><div class=\"sk-text-repr-fallback\"><pre>GridSearchCV(cv=3,\n",
       "             estimator=StepMix(measurement=&#x27;binary&#x27;, n_components=30,\n",
       "                               random_state=123),\n",
       "             param_grid={&#x27;n_components&#x27;: [2, 3, 4, 5, 6, 7, 8, 9, 10, 11, 12,\n",
       "                                          13, 14, 15, 16, 17, 18, 19, 20, 21,\n",
       "                                          22, 23, 24, 25]})</pre><b>In a Jupyter environment, please rerun this cell to show the HTML representation or trust the notebook. <br />On GitHub, the HTML representation is unable to render, please try loading this page with nbviewer.org.</b></div><div class=\"sk-container\" hidden><div class=\"sk-item sk-dashed-wrapped\"><div class=\"sk-label-container\"><div class=\"sk-label sk-toggleable\"><input class=\"sk-toggleable__control sk-hidden--visually\" id=\"sk-estimator-id-10\" type=\"checkbox\" ><label for=\"sk-estimator-id-10\" class=\"sk-toggleable__label sk-toggleable__label-arrow\">GridSearchCV</label><div class=\"sk-toggleable__content\"><pre>GridSearchCV(cv=3,\n",
       "             estimator=StepMix(measurement=&#x27;binary&#x27;, n_components=30,\n",
       "                               random_state=123),\n",
       "             param_grid={&#x27;n_components&#x27;: [2, 3, 4, 5, 6, 7, 8, 9, 10, 11, 12,\n",
       "                                          13, 14, 15, 16, 17, 18, 19, 20, 21,\n",
       "                                          22, 23, 24, 25]})</pre></div></div></div><div class=\"sk-parallel\"><div class=\"sk-parallel-item\"><div class=\"sk-item\"><div class=\"sk-label-container\"><div class=\"sk-label sk-toggleable\"><input class=\"sk-toggleable__control sk-hidden--visually\" id=\"sk-estimator-id-11\" type=\"checkbox\" ><label for=\"sk-estimator-id-11\" class=\"sk-toggleable__label sk-toggleable__label-arrow\">estimator: StepMix</label><div class=\"sk-toggleable__content\"><pre>StepMix(measurement=&#x27;binary&#x27;, n_components=30, random_state=123)</pre></div></div></div><div class=\"sk-serial\"><div class=\"sk-item\"><div class=\"sk-estimator sk-toggleable\"><input class=\"sk-toggleable__control sk-hidden--visually\" id=\"sk-estimator-id-12\" type=\"checkbox\" ><label for=\"sk-estimator-id-12\" class=\"sk-toggleable__label sk-toggleable__label-arrow\">StepMix</label><div class=\"sk-toggleable__content\"><pre>StepMix(measurement=&#x27;binary&#x27;, n_components=30, random_state=123)</pre></div></div></div></div></div></div></div></div></div></div>"
      ],
      "text/plain": [
       "GridSearchCV(cv=3,\n",
       "             estimator=StepMix(measurement='binary', n_components=30,\n",
       "                               random_state=123),\n",
       "             param_grid={'n_components': [2, 3, 4, 5, 6, 7, 8, 9, 10, 11, 12,\n",
       "                                          13, 14, 15, 16, 17, 18, 19, 20, 21,\n",
       "                                          22, 23, 24, 25]})"
      ]
     },
     "execution_count": 105,
     "metadata": {},
     "output_type": "execute_result"
    }
   ],
   "source": [
    "grid = {\n",
    "    'n_components': [ 2,3, 4,5, 6, 7, 8, 9, 10,11,12,13,14,15,16,17,18,19,20,21,22,23,24,25],\n",
    "}\n",
    "\n",
    "# no gaussians or whatever, so n_steps can just be 1 \n",
    "\n",
    "gs = GridSearchCV(estimator=model, cv=3, param_grid=grid, verbose=0)\n",
    "gs.fit(sympdf)\n",
    "\n"
   ]
  },
  {
   "cell_type": "code",
   "execution_count": 106,
   "metadata": {},
   "outputs": [],
   "source": [
    "results = pd.DataFrame(gs.cv_results_)\n",
    "results[\"Val. Log Likelihood\"] = results['mean_test_score']"
   ]
  },
  {
   "cell_type": "code",
   "execution_count": 107,
   "metadata": {},
   "outputs": [],
   "source": [
    "results_old = results.copy()"
   ]
  },
  {
   "cell_type": "code",
   "execution_count": 108,
   "metadata": {},
   "outputs": [
    {
     "name": "stderr",
     "output_type": "stream",
     "text": [
      "/var/folders/_j/9fb8r7hn7zx13rt7glsw4j3h0000gn/T/ipykernel_30497/1270231869.py:2: UserWarning: Ignoring `palette` because no `hue` variable has been assigned.\n",
      "  sns.lineplot(data=results, x='param_n_components', y='Val. Log Likelihood',\n"
     ]
    },
    {
     "data": {
      "text/plain": [
       "<Axes: xlabel='param_n_components', ylabel='Val. Log Likelihood'>"
      ]
     },
     "execution_count": 108,
     "metadata": {},
     "output_type": "execute_result"
    },
    {
     "data": {
      "image/png": "[encoded data removed]",
      "text/plain": [
       "<Figure size 640x480 with 1 Axes>"
      ]
     },
     "metadata": {},
     "output_type": "display_data"
    }
   ],
   "source": [
    "sns.set_style(\"darkgrid\")\n",
    "sns.lineplot(data=results, x='param_n_components', y='Val. Log Likelihood',\n",
    "              palette='Dark2')"
   ]
  },
  {
   "cell_type": "code",
   "execution_count": 109,
   "metadata": {},
   "outputs": [],
   "source": [
    "%%capture\n",
    "results = dict(param_n_components=[], aic=[], bic=[])\n",
    "\n",
    "# Same model and grid as above\n",
    "for g in ParameterGrid(grid):\n",
    "    model.set_params(**g)\n",
    "    model.fit(sympdf)\n",
    "    results['param_n_components'].append(g['n_components'])\n",
    "    results['aic'].append(model.aic(sympdf))\n",
    "    results['bic'].append(model.bic(sympdf))\n",
    "\n",
    "# Save results to a dataframe\n",
    "results = pd.DataFrame(results)"
   ]
  },
  {
   "cell_type": "code",
   "execution_count": 110,
   "metadata": {},
   "outputs": [
    {
     "name": "stderr",
     "output_type": "stream",
     "text": [
      "/var/folders/_j/9fb8r7hn7zx13rt7glsw4j3h0000gn/T/ipykernel_30497/63445388.py:1: UserWarning: Ignoring `palette` because no `hue` variable has been assigned.\n",
      "  sns.lineplot(data=results, x='param_n_components', y='aic',\n"
     ]
    },
    {
     "data": {
      "text/plain": [
       "<Axes: xlabel='param_n_components', ylabel='aic'>"
      ]
     },
     "execution_count": 110,
     "metadata": {},
     "output_type": "execute_result"
    },
    {
     "data": {
      "image/png": "[encoded data removed]",
      "text/plain": [
       "<Figure size 640x480 with 1 Axes>"
      ]
     },
     "metadata": {},
     "output_type": "display_data"
    }
   ],
   "source": [
    "sns.lineplot(data=results, x='param_n_components', y='aic',\n",
    "             palette='Dark2')"
   ]
  },
  {
   "cell_type": "code",
   "execution_count": 111,
   "metadata": {},
   "outputs": [
    {
     "name": "stderr",
     "output_type": "stream",
     "text": [
      "/var/folders/_j/9fb8r7hn7zx13rt7glsw4j3h0000gn/T/ipykernel_30497/2943425988.py:1: UserWarning: Ignoring `palette` because no `hue` variable has been assigned.\n",
      "  sns.lineplot(data=results, x='param_n_components', y='bic',\n"
     ]
    },
    {
     "data": {
      "text/plain": [
       "<Axes: xlabel='param_n_components', ylabel='bic'>"
      ]
     },
     "execution_count": 111,
     "metadata": {},
     "output_type": "execute_result"
    },
    {
     "data": {
      "image/png": "[encoded data removed]",
      "text/plain": [
       "<Figure size 640x480 with 1 Axes>"
      ]
     },
     "metadata": {},
     "output_type": "display_data"
    }
   ],
   "source": [
    "sns.lineplot(data=results, x='param_n_components', y='bic',\n",
    "            palette='Dark2')"
   ]
  },
  {
   "cell_type": "code",
   "execution_count": 158,
   "metadata": {},
   "outputs": [
    {
     "data": {
      "text/plain": [
       "0     864408.297437\n",
       "1     848399.414397\n",
       "2     841521.750646\n",
       "3     837221.847609\n",
       "4     834632.787238\n",
       "5     833438.968043\n",
       "6     832848.419047\n",
       "7     831826.406880\n",
       "8     831603.519579\n",
       "9     830963.400616\n",
       "10    831149.027566\n",
       "11    830805.056825\n",
       "12    831045.895899\n",
       "13    830864.782671\n",
       "14    831774.776408\n",
       "15    831965.064220\n",
       "16    831943.266957\n",
       "17    832341.371080\n",
       "18    832593.310989\n",
       "19    833391.097285\n",
       "20    833488.083282\n",
       "21    834555.261449\n",
       "22    834633.571691\n",
       "23    835286.450507\n",
       "Name: bic, dtype: float64"
      ]
     },
     "execution_count": 158,
     "metadata": {},
     "output_type": "execute_result"
    }
   ],
   "source": [
    "results['bic']"
   ]
  },
  {
   "cell_type": "code",
   "execution_count": 152,
   "metadata": {},
   "outputs": [
    {
     "data": {
      "text/plain": [
       "param_n_components        13.000000\n",
       "aic                   817911.980043\n",
       "bic                   830805.056825\n",
       "Name: 11, dtype: float64"
      ]
     },
     "execution_count": 152,
     "metadata": {},
     "output_type": "execute_result"
    }
   ],
   "source": [
    "# print the row of results with the lowest bic\n",
    "results.iloc[results['bic'].idxmin()]\n"
   ]
  },
  {
   "cell_type": "markdown",
   "metadata": {},
   "source": [
    "We observe that the Bayes information criteria is optimal at 13 clusters\n",
    "\n",
    "Based on https://www.ncbi.nlm.nih.gov/pmc/articles/PMC7746621/?fbclid=IwAR3Gy0vBZIDrylHZpe9I0zlDiNaV1WaUrPMcAZO9seZJzkOoM6ZNeLEUd98 for a model of this size it is reasonable to use BIC, so I'm going to go ahead with 13 classes. If they end up looking highly redundant or one is especially small we can plan to scale back. "
   ]
  },
  {
   "cell_type": "code",
   "execution_count": 132,
   "metadata": {},
   "outputs": [
    {
     "name": "stdout",
     "output_type": "stream",
     "text": [
      "Fitting StepMix...\n"
     ]
    },
    {
     "name": "stderr",
     "output_type": "stream",
     "text": [
      "Initializations (n_init) : 100%|██████████| 1/1 [00:04<00:00,  4.43s/it, max_LL=-4.07e+5, max_avg_LL=-67.5]"
     ]
    },
    {
     "name": "stdout",
     "output_type": "stream",
     "text": [
      "================================================================================\n",
      "MODEL REPORT\n",
      "================================================================================\n",
      "    ============================================================================\n",
      "    Measurement model parameters\n",
      "    ============================================================================\n",
      "          model_name                                                    binary                                                                                                \n",
      "          class_no                                                          0       1       2       3       4       5       6       7       8       9       10      11      12\n",
      "          param variable                                                                                                                                                      \n",
      "          pis   Symptom_Acid_reflux                                     0.3693  0.7781  0.2619  0.3117  0.0706  0.3789  0.4997  0.6073  0.1093  0.1463  0.4345  0.2003  0.5584\n",
      "                Symptom_Acute_confusion                                 0.1589  0.7294  0.3328  0.0065  0.0026  0.1375  0.2719  0.5439  0.0261  0.0623  0.1015  0.1926  0.3039\n",
      "                Symptom_Altered_smell                                   0.2341  0.6307  0.2399  0.1289  0.1864  0.2185  0.2911  0.3948  0.1598  0.1311  0.0858  0.2004  0.3365\n",
      "                Symptom_Altered_taste                                   0.2949  0.6866  0.3246  0.1665  0.2046  0.2558  0.3739  0.4835  0.1689  0.1719  0.1442  0.2353  0.4101\n",
      "                Symptom_Awakened_cannot_breathe                         0.4111  0.8141  0.3265  0.2263  0.0409  0.1671  0.4711  0.6268  0.2087  0.0687  0.4269  0.2258  0.5476\n",
      "                Symptom_Bladder_control                                 0.0779  0.6232  0.1974  0.0734  0.0130  0.1923  0.2079  0.3751  0.0551  0.0361  0.1799  0.0801  0.2872\n",
      "                Symptom_Bone_ache_burning                               0.1913  0.7662  0.3387  0.1234  0.0440  0.2488  0.3076  0.5720  0.0704  0.0943  0.2953  0.1208  0.4940\n",
      "                Symptom_Bradycardia                                     0.1077  0.5027  0.1843  0.1128  0.0230  0.1688  0.2179  0.3639  0.0595  0.0870  0.2379  0.0918  0.2089\n",
      "                Symptom_Bulging_veins                                   0.0652  0.6381  0.2073  0.0995  0.0079  0.2304  0.1555  0.4261  0.0225  0.0444  0.2909  0.0356  0.2947\n",
      "                Symptom_Change_sensitivity_to_meds                      0.1593  0.5665  0.2600  0.1537  0.0690  0.2016  0.2838  0.3850  0.0781  0.0748  0.2980  0.1456  0.3015\n",
      "                Symptom_Changes_in_voice                                0.2041  0.6745  0.2512  0.1598  0.0717  0.3321  0.2959  0.4933  0.1176  0.1117  0.2637  0.2049  0.3909\n",
      "                Symptom_Chills_flushing_sweats                          0.6224  0.9617  0.5888  0.4343  0.1170  0.6536  0.7999  0.8709  0.2274  0.2839  0.5730  0.4239  0.7893\n",
      "                Symptom_Cognitive_Functioning_agnosia                   0.0374  0.4825  0.2524  0.0117  0.0054  0.0752  0.1378  0.3134  0.0293  0.0345  0.0552  0.1341  0.0863\n",
      "                Symptom_Cognitive_Functioning_attentionconcentration    0.8573  0.9945  0.9685  0.1959  0.1650  0.7800  0.9509  0.9386  0.7376  0.8199  0.6593  0.9176  0.8943\n",
      "                Symptom_Cognitive_Functioning_executive                 0.6348  0.9611  0.9569  0.0347  0.0446  0.5596  0.8310  0.8737  0.4381  0.5932  0.3556  0.8486  0.7126\n",
      "                Symptom_Cognitive_Functioning_fastthoughts              0.1871  0.4376  0.3024  0.0253  0.0150  0.1035  0.2556  0.3212  0.1060  0.1269  0.0967  0.1705  0.2792\n",
      "                Symptom_Cognitive_Functioning_other                     0.0415  0.1960  0.1019  0.0545  0.0265  0.1386  0.1559  0.1279  0.0635  0.0531  0.0837  0.1119  0.0602\n",
      "                Symptom_Cognitive_Functioning_problemsolving            0.5836  0.9351  0.9043  0.0193  0.0355  0.5377  0.8095  0.8732  0.4140  0.5503  0.3185  0.7833  0.6882\n",
      "                Symptom_Cognitive_Functioning_slowedthoughts            0.3640  0.8186  0.7021  0.0567  0.1109  0.3995  0.6339  0.6827  0.3013  0.3977  0.3249  0.5723  0.4897\n",
      "                Symptom_Cognitive_Functioning_thinking                  0.7432  0.9959  0.9681  0.0466  0.0821  0.7027  0.8988  0.9256  0.5389  0.7109  0.5039  0.9054  0.8016\n",
      "                Symptom_Constipation                                    0.2256  0.6594  0.2640  0.1627  0.0564  0.2669  0.4130  0.4788  0.1085  0.1026  0.3119  0.1644  0.4442\n",
      "                Symptom_Cough_with_mucus                                0.3315  0.6003  0.2359  0.2403  0.1312  0.2739  0.4616  0.4428  0.1646  0.2192  0.2229  0.2511  0.3810\n",
      "                Symptom_Covid_toes                                      0.0795  0.5262  0.2068  0.0813  0.0331  0.2070  0.1267  0.2623  0.0468  0.0519  0.1272  0.0481  0.2009\n",
      "                Symptom_Dermatographia                                  0.0266  0.4485  0.1192  0.0293  0.0101  0.0862  0.0623  0.2117  0.0104  0.0155  0.0949  0.0240  0.1893\n",
      "                Symptom_Diarrhea                                        0.6539  0.9279  0.4240  0.5541  0.2036  0.6574  0.7734  0.8007  0.2238  0.3240  0.6001  0.4483  0.8010\n",
      "                Symptom_Difficulty_falling_asleep                       0.4862  0.8212  0.4580  0.2514  0.0278  0.0000  0.6499  0.6329  0.5373  0.0000  0.5607  0.4316  0.5370\n",
      "                Symptom_Difficulty_swallowing                           0.2698  0.8947  0.2802  0.2177  0.0587  0.3480  0.4029  0.6379  0.0885  0.1193  0.3818  0.1743  0.5166\n",
      "                Symptom_Dizziness_vertigo                               0.7321  0.9728  0.8423  0.4823  0.1595  0.8002  0.8613  0.9663  0.3454  0.4822  0.7314  0.6579  0.9184\n",
      "                Symptom_Dry_cough                                       0.6994  0.8367  0.5636  0.5830  0.4174  0.7283  0.8093  0.8085  0.4841  0.5206  0.5455  0.6395  0.7371\n",
      "                Symptom_Ear_changes_to_ear_canal                        0.1519  0.7369  0.2027  0.1686  0.0383  0.2067  0.2681  0.4691  0.0672  0.0866  0.2604  0.0878  0.4450\n",
      "                Symptom_Ear_ear_pain                                    0.1702  0.8192  0.2684  0.1745  0.0202  0.2775  0.3220  0.5483  0.0489  0.1029  0.2905  0.1071  0.5002\n",
      "                Symptom_Ear_sensitivity_to_noise                        0.2676  0.9043  0.5619  0.1521  0.0406  0.3650  0.4792  0.7482  0.1293  0.1542  0.3251  0.2936  0.5775\n",
      "                Symptom_Elevated_temp                                   0.7029  0.8976  0.5395  0.4663  0.1584  0.6131  0.8270  0.7792  0.3141  0.2968  0.5444  0.4513  0.7646\n",
      "                Symptom_Extreme_thirst                                  0.3296  0.8022  0.4071  0.1996  0.0250  0.4033  0.4384  0.6609  0.1366  0.1150  0.3958  0.1862  0.5087\n",
      "                Symptom_Eye_Vision_bloodshot_eyes                       0.1011  0.5146  0.2328  0.0737  0.0157  0.1607  0.1221  0.3052  0.0471  0.0387  0.1699  0.0513  0.3079\n",
      "                Symptom_Eye_Vision_blurred_vision                       0.2278  0.9013  0.6771  0.1316  0.0260  0.4781  0.4784  0.7859  0.1504  0.1285  0.4414  0.2495  0.6545\n",
      "                Symptom_Eye_Vision_double_vision                        0.0160  0.4984  0.1903  0.0123  0.0052  0.0973  0.0866  0.1774  0.0220  0.0123  0.0787  0.0376  0.1238\n",
      "                Symptom_Eye_Vision_dry_eyes                             0.2154  0.7975  0.3975  0.1649  0.0455  0.4040  0.3142  0.5843  0.1482  0.1028  0.3501  0.1373  0.5214\n",
      "                Symptom_Eye_Vision_eye_pressure_pain                    0.1763  0.7965  0.3570  0.1031  0.0288  0.2988  0.2951  0.6273  0.0837  0.0938  0.2820  0.1338  0.5364\n",
      "                Symptom_Eye_Vision_floaters                             0.1458  0.6391  0.3385  0.0853  0.0194  0.2164  0.2060  0.4954  0.0594  0.0682  0.1999  0.1076  0.4286\n",
      "                Symptom_Eye_Vision_other_eye_issues                     0.1674  0.5873  0.3411  0.1867  0.0700  0.3627  0.2676  0.4544  0.1392  0.1179  0.3047  0.2001  0.3548\n",
      "                Symptom_Eye_Vision_pink_eye                             0.0842  0.3365  0.1642  0.0799  0.0384  0.1890  0.1174  0.2614  0.0429  0.0558  0.1429  0.0744  0.2576\n",
      "                Symptom_Eye_Vision_redness_outside_eye                  0.0477  0.4465  0.0933  0.0282  0.0133  0.1251  0.0613  0.1748  0.0186  0.0219  0.0947  0.0339  0.2065\n",
      "                Symptom_Eye_Vision_seeing_things_peripheral_vision      0.0816  0.5852  0.2253  0.0247  0.0029  0.1148  0.1733  0.3624  0.0207  0.0361  0.1014  0.0666  0.2842\n",
      "                Symptom_Eye_Vision_sensitivity_to_light                 0.2276  0.9745  0.5832  0.0761  0.0175  0.3796  0.4194  0.7101  0.0835  0.1190  0.2338  0.2111  0.6078\n",
      "                Symptom_Eye_vision_symptoms                             0.1929  0.8719  0.6313  0.1334  0.0128  0.4395  0.4024  0.7898  0.1326  0.1255  0.4332  0.2227  0.6061\n",
      "                Symptom_Fainting                                        0.1011  0.5288  0.1943  0.0609  0.0157  0.1283  0.1676  0.2378  0.0473  0.0614  0.1270  0.0817  0.1923\n",
      "                Symptom_Fever                                           0.4413  0.5985  0.2968  0.2244  0.0766  0.3394  0.5371  0.4538  0.1201  0.1588  0.2095  0.2270  0.3639\n",
      "                Symptom_Gasping_air_normal_oxygen                       0.6260  0.8570  0.5793  0.5150  0.2069  0.7007  0.7368  0.8123  0.3049  0.4000  0.5524  0.5114  0.7487\n",
      "                Symptom_Gastrointestinal_abdominal_pain                 0.4566  0.9554  0.3961  0.3386  0.0630  0.4953  0.5877  0.7867  0.1294  0.1336  0.4756  0.2364  0.7070\n",
      "                Symptom_Gastrointestinal_feeling_full_quickly_eating    0.3244  0.7541  0.3421  0.2773  0.0821  0.3821  0.4343  0.5256  0.1208  0.1254  0.3431  0.2083  0.4591\n",
      "                Symptom_Gastrointestinal_hyperactive_bowel              0.2546  0.6866  0.2177  0.1746  0.0474  0.2706  0.3256  0.4591  0.0806  0.0680  0.2579  0.1338  0.4480\n",
      "                Symptom_Hallucinations_auditory                         0.0387  0.4497  0.1271  0.0094  0.0103  0.0560  0.0653  0.1968  0.0193  0.0220  0.0391  0.0374  0.1175\n",
      "                Symptom_Hallucinations_visual                           0.0742  0.4812  0.1956  0.0322  0.0092  0.0771  0.1114  0.2582  0.0141  0.0395  0.0690  0.0832  0.1558\n",
      "                Symptom_Headaches_after_mental_exertion                 0.2787  0.7558  0.4971  0.0452  0.0193  0.1958  0.4072  0.5554  0.0825  0.1521  0.1522  0.2278  0.4695\n",
      "                Symptom_Headaches_base_of_skull                         0.2837  0.7110  0.3546  0.1439  0.0345  0.2616  0.3531  0.5444  0.0823  0.1739  0.3079  0.1925  0.5278\n",
      "                Symptom_Headaches_behind_eyes                           0.4583  0.8283  0.5402  0.2523  0.0869  0.4128  0.4717  0.6602  0.2043  0.3250  0.3409  0.2851  0.6653\n",
      "                Symptom_Headaches_brain_pressure                        0.2844  0.8409  0.5402  0.1035  0.0390  0.3545  0.4024  0.6858  0.1212  0.2186  0.3296  0.2497  0.6090\n",
      "                Symptom_Headaches_brain_warmth                          0.1004  0.4762  0.1505  0.0417  0.0135  0.0981  0.1200  0.2977  0.0360  0.0488  0.1449  0.0558  0.2311\n",
      "                Symptom_Headaches_diffuse                               0.3727  0.7423  0.4504  0.2286  0.0771  0.3597  0.4493  0.5287  0.2123  0.2648  0.2525  0.3189  0.4672\n",
      "                Symptom_Headaches_migraines                             0.2633  0.6988  0.3486  0.1229  0.0339  0.1951  0.3117  0.4175  0.0854  0.1507  0.1985  0.1962  0.4273\n",
      "                Symptom_Headaches_other                                 0.0987  0.3180  0.1730  0.1063  0.0496  0.1624  0.1435  0.2098  0.0684  0.0856  0.1378  0.1269  0.1969\n",
      "                Symptom_Headaches_stiff_neck                            0.4395  0.8476  0.5431  0.1926  0.0557  0.4211  0.5658  0.7536  0.1731  0.2452  0.3710  0.2564  0.6769\n",
      "                Symptom_Headaches_temples                               0.4321  0.7308  0.4642  0.2322  0.0852  0.2717  0.4569  0.5092  0.2267  0.2799  0.3032  0.2417  0.5358\n",
      "                Symptom_Hearing_loss                                    0.0438  0.4291  0.1138  0.0501  0.0226  0.0862  0.1132  0.2372  0.0366  0.0437  0.0966  0.0493  0.1801\n",
      "                Symptom_Heart_palpitations                              0.6778  0.9223  0.7808  0.6056  0.2194  0.7767  0.8396  0.8972  0.4061  0.4774  0.7599  0.5402  0.8303\n",
      "                Symptom_Heat_intolerance                                0.2579  0.7735  0.3969  0.1267  0.0358  0.2541  0.4222  0.5860  0.0925  0.0645  0.2656  0.2280  0.4548\n",
      "                Symptom_Heightened_smell                                0.0565  0.3572  0.0987  0.0518  0.0091  0.0665  0.1052  0.2150  0.0231  0.0219  0.0514  0.0485  0.1538\n",
      "                Symptom_Inability_to_yawn                               0.0232  0.2003  0.0418  0.0338  0.0179  0.0516  0.0452  0.1289  0.0286  0.0167  0.1044  0.0203  0.0965\n",
      "                Symptom_Insomnia                                        0.8884  0.9668  0.7788  0.6005  0.0912  0.0736  0.8875  0.9311  1.0000  0.0372  0.9950  0.7548  0.9229\n",
      "                Symptom_Joint_pain                                      0.5476  0.9474  0.6878  0.3934  0.1540  0.5897  0.6777  0.8843  0.2702  0.3409  0.6187  0.4534  0.8550\n",
      "                Symptom_Loss_of_appetite                                0.6005  0.9447  0.4635  0.4720  0.1596  0.5618  0.7286  0.7195  0.2316  0.2760  0.5255  0.3902  0.6853\n",
      "                Symptom_Loss_of_smell                                   0.4415  0.6458  0.4427  0.2776  0.3578  0.3627  0.4991  0.4831  0.3645  0.3285  0.2350  0.4036  0.4200\n",
      "                Symptom_Loss_of_taste                                   0.4233  0.6595  0.3713  0.2537  0.3075  0.3417  0.4713  0.4648  0.3256  0.2891  0.1929  0.3464  0.3975\n",
      "                Symptom_Low_temp                                        0.1489  0.6694  0.1659  0.1309  0.0147  0.2305  0.3352  0.4162  0.0415  0.0579  0.2276  0.0901  0.3428\n",
      "                Symptom_Lucid_dreams                                    0.1846  0.4722  0.2499  0.0741  0.0084  0.0585  0.2046  0.2907  0.1111  0.0356  0.1250  0.1207  0.3070\n",
      "                Symptom_Memory_forget_tasks                             0.0734  0.5724  0.3404  0.0000  0.0038  0.1054  0.2117  0.3292  0.0352  0.0700  0.0596  0.1697  0.1200\n",
      "                Symptom_Memory_long                                     0.3192  0.8490  0.7873  0.0058  0.0453  0.3630  0.6205  0.7434  0.2970  0.3240  0.2453  0.6132  0.4783\n",
      "                Symptom_Memory_no_new_memories                          0.0403  0.3862  0.2843  0.0000  0.0065  0.0387  0.0859  0.2017  0.0422  0.0333  0.0158  0.1265  0.0860\n",
      "                Symptom_Memory_other                                    0.0472  0.2232  0.1591  0.0277  0.0425  0.1989  0.2094  0.1634  0.0797  0.1210  0.1236  0.1558  0.1131\n",
      "                Symptom_Memory_short                                    0.9183  0.9848  0.9542  0.9769  0.9428  0.8666  0.9368  0.9600  0.8697  0.8888  0.9002  0.9217  0.9239\n",
      "                Symptom_Merged_temperature_other_temp_issues            0.3631  0.7746  0.3963  0.3338  0.1058  0.4777  0.5631  0.5848  0.1731  0.2208  0.4745  0.3486  0.5388\n",
      "                Symptom_Muscle_aches                                    0.7243  0.9732  0.8054  0.5611  0.2465  0.7206  0.8042  0.9522  0.3930  0.5443  0.7364  0.6250  0.9028\n",
      "                Symptom_Muscle_spasms                                   0.2072  0.9205  0.4990  0.1982  0.0361  0.3596  0.3443  0.7560  0.0946  0.1001  0.4876  0.1936  0.6292\n",
      "                Symptom_Nausea                                          0.5253  0.9406  0.4492  0.3618  0.0899  0.5279  0.6913  0.8124  0.0909  0.2319  0.5269  0.3554  0.7449\n",
      "                Symptom_Neuralgia                                       0.1583  0.8537  0.4607  0.1948  0.0292  0.3847  0.2971  0.7357  0.0650  0.1065  0.5048  0.1437  0.6320\n",
      "                Symptom_New_allergies                                   0.0594  0.3972  0.1242  0.0652  0.0121  0.1342  0.1598  0.2411  0.0339  0.0328  0.1583  0.0571  0.1871\n",
      "                Symptom_Night_sweats                                    0.5195  0.9007  0.4710  0.2230  0.0396  0.2096  0.5815  0.6917  0.3363  0.0785  0.4875  0.2798  0.6690\n",
      "                Symptom_Nightmares                                      0.2966  0.6998  0.3331  0.1237  0.0059  0.0691  0.3474  0.4822  0.1426  0.0384  0.2406  0.2103  0.3977\n",
      "                Symptom_Other_ear_hearing_symptoms                      0.1456  0.5921  0.2696  0.1443  0.0521  0.2340  0.2406  0.3907  0.0832  0.1129  0.2883  0.1244  0.3107\n",
      "                Symptom_PEM                                             0.9319  0.9894  0.9720  0.7933  0.5297  0.9215  0.9652  0.9910  0.7824  0.8453  0.8941  0.9285  0.9615\n",
      "                Symptom_Pain_burning_chest                              0.4877  0.8883  0.3797  0.4549  0.1797  0.5858  0.6292  0.7669  0.2153  0.2937  0.5297  0.3412  0.6811\n",
      "                Symptom_Peeling_skin                                    0.0794  0.5440  0.1648  0.0626  0.0203  0.1613  0.1487  0.2691  0.0312  0.0383  0.1699  0.0451  0.2223\n",
      "                Symptom_Petechiae                                       0.0923  0.6858  0.1681  0.1047  0.0142  0.2186  0.1601  0.3948  0.0341  0.0566  0.2008  0.0639  0.3199\n",
      "                Symptom_Phantom_smell                                   0.2261  0.7526  0.2678  0.1420  0.1300  0.2351  0.3513  0.5251  0.1333  0.1111  0.1203  0.1945  0.4050\n",
      "                Symptom_Phantom_taste                                   0.0777  0.5159  0.0938  0.0481  0.0485  0.0612  0.1009  0.2436  0.0539  0.0335  0.0342  0.0562  0.2038\n",
      "                Symptom_Rattling_breath                                 0.1748  0.5360  0.1458  0.1125  0.0488  0.2175  0.2898  0.3509  0.0711  0.0619  0.1052  0.1253  0.2912\n",
      "                Symptom_Reproductive_abnormally_heavy_periods_clotting  0.0912  0.2750  0.0655  0.0454  0.0164  0.0913  0.2146  0.1987  0.0284  0.0379  0.0851  0.0479  0.1700\n",
      "                Symptom_Reproductive_abnormally_irregular_periods       0.1127  0.3307  0.0855  0.0898  0.0257  0.1216  0.2386  0.2305  0.0392  0.0464  0.1304  0.0680  0.1949\n",
      "                Symptom_Reproductive_all_menstrual_issues               0.1573  0.4873  0.1080  0.1372  0.0515  0.2229  0.3632  0.3760  0.0522  0.0649  0.1934  0.1050  0.2864\n",
      "                Symptom_Reproductive_other_menstrual_issues             0.0794  0.2150  0.0664  0.0772  0.0450  0.1169  0.1510  0.1433  0.0310  0.0518  0.0971  0.0787  0.1023\n",
      "                Symptom_Reproductive_other_urinary_issues               0.0978  0.4685  0.1928  0.0825  0.0134  0.1876  0.1927  0.3455  0.0512  0.0531  0.1871  0.0950  0.2766\n",
      "                Symptom_Reproductive_sexual_dysfunction                 0.0895  0.4389  0.2047  0.0467  0.0218  0.1007  0.1206  0.1994  0.0513  0.0487  0.0725  0.1171  0.1903\n",
      "                Symptom_Respiratory_other                               0.0688  0.1467  0.0760  0.0926  0.0846  0.1644  0.0851  0.1088  0.0462  0.0627  0.1036  0.0627  0.0837\n",
      "                Symptom_Restless_leg                                    0.1790  0.4955  0.2680  0.0929  0.0102  0.0455  0.2586  0.4319  0.1372  0.0161  0.2361  0.1431  0.3400\n",
      "                Symptom_Runny_nose                                      0.3715  0.6701  0.2429  0.2468  0.1800  0.3465  0.5214  0.5515  0.1643  0.2418  0.2328  0.2510  0.4579\n",
      "                Symptom_Sensations_coldness                             0.2661  0.9086  0.4322  0.2143  0.0823  0.4557  0.4231  0.7014  0.1129  0.1522  0.4581  0.2209  0.6158\n",
      "                Symptom_Sensations_electrical_zaps                      0.0831  0.7993  0.3940  0.1465  0.0383  0.2877  0.2439  0.5911  0.0707  0.0619  0.4235  0.0917  0.5154\n",
      "                Symptom_Sensations_facial_pressure_left                 0.0160  0.4175  0.1153  0.0305  0.0000  0.0870  0.0320  0.1937  0.0115  0.0287  0.1432  0.0396  0.1681\n",
      "                Symptom_Sensations_facial_pressure_other                0.0373  0.2355  0.0984  0.0187  0.0026  0.0858  0.0415  0.1282  0.0160  0.0239  0.0811  0.0298  0.1277\n",
      "                Symptom_Sensations_facial_pressure_right                0.0171  0.3301  0.0878  0.0283  0.0052  0.0596  0.0206  0.1918  0.0143  0.0248  0.1068  0.0263  0.1684\n",
      "                Symptom_Sensations_numbness_loss_sensation              0.2373  0.9361  0.5398  0.2308  0.0642  0.4057  0.3373  0.7360  0.1562  0.1676  0.5619  0.1877  0.6297\n",
      "                Symptom_Sensations_numbness_one_sided_weakness          0.0434  0.4550  0.2294  0.0643  0.0106  0.1602  0.0636  0.3153  0.0409  0.0295  0.2233  0.0516  0.2577\n",
      "                Symptom_Sensations_skin_burning_no_rash                 0.3140  0.9837  0.6881  0.3271  0.1183  0.5557  0.4701  0.8715  0.1714  0.2012  0.7062  0.2489  0.7857\n",
      "                Symptom_Sensations_tingling_prickling                   0.3502  0.9421  0.6743  0.4201  0.1268  0.5531  0.5152  0.8259  0.2064  0.2655  0.7391  0.2786  0.7771\n",
      "                Symptom_Sensations_weakness                             0.3939  0.9198  0.6354  0.2886  0.1222  0.4917  0.5442  0.7823  0.2507  0.3033  0.5698  0.4000  0.6536\n",
      "                Symptom_Shortness_of_breath                             0.8301  0.9566  0.6876  0.6712  0.3936  0.8263  0.9416  0.9236  0.5432  0.6325  0.6770  0.7422  0.8394\n",
      "                Symptom_SkinAllergy_brittle_nail                        0.0435  0.5645  0.1466  0.0399  0.0181  0.1198  0.0935  0.2657  0.0375  0.0305  0.1294  0.0563  0.2151\n",
      "                Symptom_SkinAllergy_heighted_reaction_allergies         0.0850  0.4526  0.1387  0.0882  0.0131  0.1465  0.1509  0.2533  0.0497  0.0605  0.1207  0.0804  0.2067\n",
      "                Symptom_SkinAllergy_itchy_eyes                          0.1724  0.8360  0.3296  0.1151  0.0362  0.3367  0.2457  0.6087  0.0832  0.0808  0.2606  0.0855  0.4774\n",
      "                Symptom_SkinAllergy_itchy_skin                          0.2171  0.9098  0.4312  0.2110  0.0658  0.4303  0.3864  0.6635  0.1191  0.0965  0.3695  0.1713  0.5699\n",
      "                Symptom_SkinAllergy_other_itchy                         0.0386  0.2161  0.0614  0.0414  0.0132  0.0763  0.0500  0.1033  0.0177  0.0321  0.0823  0.0428  0.0823\n",
      "                Symptom_Skin_Allergy_other                              0.0762  0.1614  0.1273  0.0830  0.0237  0.1615  0.1318  0.1582  0.0317  0.0473  0.1120  0.0614  0.1305\n",
      "                Symptom_Skin_rashes                                     0.2012  0.8068  0.3002  0.2071  0.0553  0.3613  0.3093  0.5226  0.0835  0.1135  0.3099  0.1571  0.4024\n",
      "                Symptom_Sleep_apnea                                     0.1279  0.4164  0.1534  0.0581  0.0363  0.0315  0.1516  0.2545  0.1157  0.0121  0.1746  0.0999  0.1751\n",
      "                Symptom_Sleep_other                                     0.6292  0.8380  0.6248  0.3439  0.1523  0.4380  0.7704  0.7786  0.4198  0.2999  0.5829  0.5055  0.6185\n",
      "                Symptom_Slurring_words                                  0.0336  0.7208  0.4152  0.0180  0.0000  0.1476  0.2116  0.5046  0.0135  0.0424  0.1082  0.2053  0.1360\n",
      "                Symptom_Sneezing                                        0.3092  0.7355  0.1855  0.1980  0.0877  0.3170  0.4369  0.5326  0.1073  0.1478  0.1768  0.1865  0.4334\n",
      "                Symptom_Sore_throat                                     0.6227  0.8622  0.4662  0.5326  0.2108  0.6407  0.7786  0.8312  0.3061  0.3728  0.5644  0.4542  0.7008\n",
      "                Symptom_Speech_changes_to_secondary_languages           0.0009  0.2034  0.1568  0.0032  0.0052  0.0474  0.1103  0.1212  0.0106  0.0185  0.0258  0.1186  0.0000\n",
      "                Symptom_Speech_difficulty_communicating_verbally        0.0033  0.8032  0.7785  0.0110  0.0144  0.2699  0.6579  0.7792  0.0375  0.1322  0.1434  0.6558  0.0041\n",
      "                Symptom_Speech_difficulty_communicating_writing         0.0000  0.7127  0.5011  0.0000  0.0070  0.1258  0.3220  0.4864  0.0023  0.0301  0.0494  0.3009  0.0000\n",
      "                Symptom_Speech_difficulty_finding_words                 0.0531  0.9400  0.9916  0.0546  0.0626  0.5699  0.9843  0.9923  0.1544  0.3039  0.4244  0.9639  0.1206\n",
      "                Symptom_Speech_difficulty_reading_processing_text       0.0011  0.8344  0.6824  0.0045  0.0053  0.2050  0.5953  0.7086  0.0182  0.0650  0.0985  0.5119  0.0164\n",
      "                Symptom_Speech_difficulty_speaking_complete_sentences   0.0040  0.7435  0.6399  0.0019  0.0026  0.1719  0.4722  0.6569  0.0156  0.0603  0.0921  0.4959  0.0000\n",
      "                Symptom_Speech_difficulty_understanding_others_speech   0.0000  0.8266  0.7349  0.0000  0.0000  0.2111  0.5777  0.7223  0.0166  0.0555  0.0711  0.5105  0.0325\n",
      "                Symptom_Speech_speaking_unrecognizable_words            0.0030  0.4697  0.3023  0.0000  0.0026  0.0866  0.1665  0.2963  0.0095  0.0192  0.0251  0.1142  0.0000\n",
      "                Symptom_Tachycardia                                     0.5901  0.9294  0.6298  0.5364  0.1758  0.6555  0.7650  0.8784  0.3686  0.3798  0.7249  0.5126  0.7668\n",
      "                Symptom_Temp_lability                                   0.5013  0.7827  0.3711  0.3043  0.1110  0.4298  0.5979  0.5605  0.1909  0.2007  0.3047  0.2912  0.5309\n",
      "                Symptom_Tightness_of_chest                              0.7668  0.9451  0.6160  0.6583  0.3414  0.8119  0.8785  0.8953  0.4317  0.5471  0.6919  0.5711  0.8471\n",
      "                Symptom_Tinnitus                                        0.2615  0.8416  0.3930  0.2478  0.0539  0.4028  0.4262  0.7104  0.1383  0.1532  0.4323  0.2262  0.5186\n",
      "                Symptom_Tremors                                         0.2826  0.9550  0.5912  0.3230  0.0807  0.3501  0.4308  0.7454  0.1625  0.1795  0.6381  0.2595  0.6771\n",
      "                Symptom_Vibrating_sensations                            0.2938  0.9395  0.6118  0.3213  0.0838  0.4646  0.4494  0.7237  0.1591  0.2133  0.6481  0.2030  0.6805\n",
      "                Symptom_Vivid_dreams                                    0.4133  0.7425  0.4806  0.1751  0.0234  0.1227  0.4334  0.5471  0.2684  0.0766  0.3009  0.3052  0.5016\n",
      "                Symptom_Vomiting                                        0.1746  0.4627  0.1032  0.1097  0.0154  0.1927  0.2644  0.2719  0.0262  0.0445  0.1250  0.1024  0.2695\n",
      "                Symptom_Waking_up_early                                 0.2800  0.5740  0.2845  0.1617  0.0110  0.0000  0.3616  0.4001  0.3129  0.0000  0.3690  0.2449  0.3269\n",
      "                Symptom_Waking_up_in_night                              0.6225  0.8395  0.5474  0.3403  0.0175  0.0000  0.6842  0.7093  0.6802  0.0000  0.7089  0.4927  0.6905\n",
      "    ============================================================================\n",
      "    Class weights\n",
      "    ============================================================================\n",
      "        Class 1 : 0.11\n",
      "        Class 2 : 0.03\n",
      "        Class 3 : 0.07\n",
      "        Class 4 : 0.09\n",
      "        Class 5 : 0.06\n",
      "        Class 6 : 0.06\n",
      "        Class 7 : 0.08\n",
      "        Class 8 : 0.09\n",
      "        Class 9 : 0.08\n",
      "        Class 10 : 0.09\n",
      "        Class 11 : 0.08\n",
      "        Class 12 : 0.10\n",
      "        Class 13 : 0.06\n",
      "    ============================================================================\n",
      "    Fit for 13 latent classes\n",
      "    ============================================================================\n",
      "    Estimation method             : 1-step\n",
      "    Number of observations        : 6031\n",
      "    Number of latent classes      : 13\n",
      "    Number of estimated parameters: 1923\n",
      "    Log-likelihood (LL)           : -407032.9900\n",
      "    -2LL                          : 814065.9800\n",
      "    Average LL                    : -67.4901\n",
      "    AIC                           : 817911.98\n",
      "    BIC                           : 830805.06\n",
      "    CAIC                          : 832728.06\n",
      "    Sample-Size Adjusted BIC      : 841433.37\n",
      "    Entropy                       : 1381.6220\n",
      "    Scaled Relative Entropy       : 0.9107\n"
     ]
    },
    {
     "name": "stderr",
     "output_type": "stream",
     "text": [
      "\n"
     ]
    },
    {
     "data": {
      "text/html": [
       "<style>#sk-container-id-8 {color: black;}#sk-container-id-8 pre{padding: 0;}#sk-container-id-8 div.sk-toggleable {background-color: white;}#sk-container-id-8 label.sk-toggleable__label {cursor: pointer;display: block;width: 100%;margin-bottom: 0;padding: 0.3em;box-sizing: border-box;text-align: center;}#sk-container-id-8 label.sk-toggleable__label-arrow:before {content: \"▸\";float: left;margin-right: 0.25em;color: #696969;}#sk-container-id-8 label.sk-toggleable__label-arrow:hover:before {color: black;}#sk-container-id-8 div.sk-estimator:hover label.sk-toggleable__label-arrow:before {color: black;}#sk-container-id-8 div.sk-toggleable__content {max-height: 0;max-width: 0;overflow: hidden;text-align: left;background-color: #f0f8ff;}#sk-container-id-8 div.sk-toggleable__content pre {margin: 0.2em;color: black;border-radius: 0.25em;background-color: #f0f8ff;}#sk-container-id-8 input.sk-toggleable__control:checked~div.sk-toggleable__content {max-height: 200px;max-width: 100%;overflow: auto;}#sk-container-id-8 input.sk-toggleable__control:checked~label.sk-toggleable__label-arrow:before {content: \"▾\";}#sk-container-id-8 div.sk-estimator input.sk-toggleable__control:checked~label.sk-toggleable__label {background-color: #d4ebff;}#sk-container-id-8 div.sk-label input.sk-toggleable__control:checked~label.sk-toggleable__label {background-color: #d4ebff;}#sk-container-id-8 input.sk-hidden--visually {border: 0;clip: rect(1px 1px 1px 1px);clip: rect(1px, 1px, 1px, 1px);height: 1px;margin: -1px;overflow: hidden;padding: 0;position: absolute;width: 1px;}#sk-container-id-8 div.sk-estimator {font-family: monospace;background-color: #f0f8ff;border: 1px dotted black;border-radius: 0.25em;box-sizing: border-box;margin-bottom: 0.5em;}#sk-container-id-8 div.sk-estimator:hover {background-color: #d4ebff;}#sk-container-id-8 div.sk-parallel-item::after {content: \"\";width: 100%;border-bottom: 1px solid gray;flex-grow: 1;}#sk-container-id-8 div.sk-label:hover label.sk-toggleable__label {background-color: #d4ebff;}#sk-container-id-8 div.sk-serial::before {content: \"\";position: absolute;border-left: 1px solid gray;box-sizing: border-box;top: 0;bottom: 0;left: 50%;z-index: 0;}#sk-container-id-8 div.sk-serial {display: flex;flex-direction: column;align-items: center;background-color: white;padding-right: 0.2em;padding-left: 0.2em;position: relative;}#sk-container-id-8 div.sk-item {position: relative;z-index: 1;}#sk-container-id-8 div.sk-parallel {display: flex;align-items: stretch;justify-content: center;background-color: white;position: relative;}#sk-container-id-8 div.sk-item::before, #sk-container-id-8 div.sk-parallel-item::before {content: \"\";position: absolute;border-left: 1px solid gray;box-sizing: border-box;top: 0;bottom: 0;left: 50%;z-index: -1;}#sk-container-id-8 div.sk-parallel-item {display: flex;flex-direction: column;z-index: 1;position: relative;background-color: white;}#sk-container-id-8 div.sk-parallel-item:first-child::after {align-self: flex-end;width: 50%;}#sk-container-id-8 div.sk-parallel-item:last-child::after {align-self: flex-start;width: 50%;}#sk-container-id-8 div.sk-parallel-item:only-child::after {width: 0;}#sk-container-id-8 div.sk-dashed-wrapped {border: 1px dashed gray;margin: 0 0.4em 0.5em 0.4em;box-sizing: border-box;padding-bottom: 0.4em;background-color: white;}#sk-container-id-8 div.sk-label label {font-family: monospace;font-weight: bold;display: inline-block;line-height: 1.2em;}#sk-container-id-8 div.sk-label-container {text-align: center;}#sk-container-id-8 div.sk-container {/* jupyter's `normalize.less` sets `[hidden] { display: none; }` but bootstrap.min.css set `[hidden] { display: none !important; }` so we also need the `!important` here to be able to override the default hidden behavior on the sphinx rendered scikit-learn.org. See: https://github.com/scikit-learn/scikit-learn/issues/21755 */display: inline-block !important;position: relative;}#sk-container-id-8 div.sk-text-repr-fallback {display: none;}</style><div id=\"sk-container-id-8\" class=\"sk-top-container\"><div class=\"sk-text-repr-fallback\"><pre>StepMix(measurement=&#x27;binary&#x27;, n_components=13, random_state=123, verbose=1)</pre><b>In a Jupyter environment, please rerun this cell to show the HTML representation or trust the notebook. <br />On GitHub, the HTML representation is unable to render, please try loading this page with nbviewer.org.</b></div><div class=\"sk-container\" hidden><div class=\"sk-item\"><div class=\"sk-estimator sk-toggleable\"><input class=\"sk-toggleable__control sk-hidden--visually\" id=\"sk-estimator-id-14\" type=\"checkbox\" checked><label for=\"sk-estimator-id-14\" class=\"sk-toggleable__label sk-toggleable__label-arrow\">StepMix</label><div class=\"sk-toggleable__content\"><pre>StepMix(measurement=&#x27;binary&#x27;, n_components=13, random_state=123, verbose=1)</pre></div></div></div></div></div>"
      ],
      "text/plain": [
       "StepMix(measurement='binary', n_components=13, random_state=123, verbose=1)"
      ]
     },
     "execution_count": 132,
     "metadata": {},
     "output_type": "execute_result"
    }
   ],
   "source": [
    "model = StepMix(n_components=13, measurement=\"binary\", verbose=1, random_state=123)\n",
    "model.fit(sympdf)"
   ]
  },
  {
   "cell_type": "code",
   "execution_count": 164,
   "metadata": {},
   "outputs": [],
   "source": [
    "# save model using pkl\n",
    "with open('output/stepmix_13_111023.pkl', 'wb') as f:\n",
    "    pkl.dump(model, f)"
   ]
  },
  {
   "cell_type": "code",
   "execution_count": 165,
   "metadata": {},
   "outputs": [
    {
     "name": "stderr",
     "output_type": "stream",
     "text": [
      "/Users/tessa/miniforge3/envs/stepmix/lib/python3.12/site-packages/stepmix/stepmix.py:1173: FutureWarning: The provided callable <function mean at 0x10a0daf20> is currently using DataFrameGroupBy.mean. In a future version of pandas, the provided callable will be used directly. To keep current behavior pass the string \"mean\" instead.\n",
      "  return pd.pivot_table(\n"
     ]
    }
   ],
   "source": [
    "mm = model.get_mm_df()\n",
    "mm = mm.reset_index()\n",
    "mm  = mm.drop(\"model_name\",axis=1)\n",
    "mm  = mm.drop(\"param\",axis=1)\n",
    "mm.index=mm['variable']\n",
    "mm = mm.drop(\"variable\", axis=1)\n",
    "\n",
    "mm.to_csv(\"output/stepmix_13_111023_mmdf.csv\")"
   ]
  },
  {
   "cell_type": "code",
   "execution_count": 123,
   "metadata": {},
   "outputs": [
    {
     "name": "stdout",
     "output_type": "stream",
     "text": [
      "Index(['Symptom_PEM', 'Symptom_Memory_short', 'Symptom_Insomnia',\n",
      "       'Symptom_Cognitive_Functioning_attentionconcentration',\n",
      "       'Symptom_Shortness_of_breath', 'Symptom_Tightness_of_chest',\n",
      "       'Symptom_Cognitive_Functioning_thinking', 'Symptom_Dizziness_vertigo',\n",
      "       'Symptom_Muscle_aches', 'Symptom_Elevated_temp'],\n",
      "      dtype='object', name='variable')\n",
      "Index(['Symptom_Speech_difficulty_finding_words', 'Symptom_PEM',\n",
      "       'Symptom_Cognitive_Functioning_attentionconcentration',\n",
      "       'Symptom_Cognitive_Functioning_thinking',\n",
      "       'Symptom_Cognitive_Functioning_executive', 'Symptom_Memory_short',\n",
      "       'Symptom_Cognitive_Functioning_problemsolving',\n",
      "       'Symptom_Dizziness_vertigo', 'Symptom_Muscle_aches',\n",
      "       'Symptom_Memory_long'],\n",
      "      dtype='object', name='variable')\n",
      "Index(['Symptom_Memory_short', 'Symptom_PEM', 'Symptom_Shortness_of_breath',\n",
      "       'Symptom_Tightness_of_chest', 'Symptom_Heart_palpitations',\n",
      "       'Symptom_Insomnia', 'Symptom_Dry_cough', 'Symptom_Muscle_aches',\n",
      "       'Symptom_Diarrhea', 'Symptom_Tachycardia'],\n",
      "      dtype='object', name='variable')\n",
      "Index(['Symptom_Memory_short', 'Symptom_PEM', 'Symptom_Dry_cough',\n",
      "       'Symptom_Shortness_of_breath', 'Symptom_Loss_of_smell',\n",
      "       'Symptom_Tightness_of_chest', 'Symptom_Loss_of_taste',\n",
      "       'Symptom_Muscle_aches', 'Symptom_Heart_palpitations',\n",
      "       'Symptom_Sore_throat'],\n",
      "      dtype='object', name='variable')\n",
      "Index(['Symptom_PEM', 'Symptom_Memory_short', 'Symptom_Shortness_of_breath',\n",
      "       'Symptom_Tightness_of_chest', 'Symptom_Dizziness_vertigo',\n",
      "       'Symptom_Cognitive_Functioning_attentionconcentration',\n",
      "       'Symptom_Heart_palpitations', 'Symptom_Dry_cough',\n",
      "       'Symptom_Muscle_aches', 'Symptom_Cognitive_Functioning_thinking'],\n",
      "      dtype='object', name='variable')\n",
      "Index(['Symptom_Speech_difficulty_finding_words', 'Symptom_PEM',\n",
      "       'Symptom_Cognitive_Functioning_attentionconcentration',\n",
      "       'Symptom_Shortness_of_breath', 'Symptom_Memory_short',\n",
      "       'Symptom_Cognitive_Functioning_thinking', 'Symptom_Insomnia',\n",
      "       'Symptom_Tightness_of_chest', 'Symptom_Dizziness_vertigo',\n",
      "       'Symptom_Heart_palpitations'],\n",
      "      dtype='object', name='variable')\n",
      "Index(['Symptom_Speech_difficulty_finding_words', 'Symptom_PEM',\n",
      "       'Symptom_Dizziness_vertigo', 'Symptom_Memory_short',\n",
      "       'Symptom_Muscle_aches',\n",
      "       'Symptom_Cognitive_Functioning_attentionconcentration',\n",
      "       'Symptom_Insomnia', 'Symptom_Cognitive_Functioning_thinking',\n",
      "       'Symptom_Shortness_of_breath', 'Symptom_Heart_palpitations'],\n",
      "      dtype='object', name='variable')\n"
     ]
    }
   ],
   "source": [
    "# These are just the most prevalent symptoms per cluster\n",
    "# in general, this is dominated by symptoms with high cross-dataset prevalence\n",
    "print(mm.sort_values(0,ascending=False).head(10).index)\n",
    "print(mm.sort_values(2,ascending=False).head(10).index)\n",
    "print(mm.sort_values(3,ascending=False).head(10).index)\n",
    "print(mm.sort_values(4,ascending=False).head(10).index)\n",
    "print(mm.sort_values(5,ascending=False).head(10).index)\n",
    "print(mm.sort_values(6,ascending=False).head(10).index)\n",
    "print(mm.sort_values(7,ascending=False).head(10).index)"
   ]
  },
  {
   "cell_type": "code",
   "execution_count": 169,
   "metadata": {},
   "outputs": [],
   "source": [
    "df['cluster'] = model.predict(sympdf)"
   ]
  },
  {
   "cell_type": "code",
   "execution_count": 170,
   "metadata": {},
   "outputs": [
    {
     "data": {
      "text/plain": [
       "<Axes: xlabel='cluster'>"
      ]
     },
     "execution_count": 170,
     "metadata": {},
     "output_type": "execute_result"
    },
    {
     "data": {
      "image/png": "[encoded data removed]",
      "text/plain": [
       "<Figure size 640x480 with 1 Axes>"
      ]
     },
     "metadata": {},
     "output_type": "display_data"
    }
   ],
   "source": [
    "df['cluster'].value_counts().plot(kind='bar')\n",
    "# all clusters have more than 150 patients"
   ]
  },
  {
   "cell_type": "code",
   "execution_count": 171,
   "metadata": {},
   "outputs": [],
   "source": [
    "comp_list = list(range(0,13))"
   ]
  },
  {
   "cell_type": "code",
   "execution_count": 172,
   "metadata": {},
   "outputs": [
    {
     "data": {
      "text/plain": [
       "variable\n",
       "Symptom_Acid_reflux                0.449128\n",
       "Symptom_Acute_confusion            0.551001\n",
       "Symptom_Altered_smell              0.413470\n",
       "Symptom_Altered_taste              0.417033\n",
       "Symptom_Awakened_cannot_breathe    0.501827\n",
       "                                     ...   \n",
       "Symptom_Vibrating_sensations       0.535182\n",
       "Symptom_Vivid_dreams               0.438467\n",
       "Symptom_Vomiting                   0.321097\n",
       "Symptom_Waking_up_early            0.344633\n",
       "Symptom_Waking_up_in_night         0.381768\n",
       "Length: 147, dtype: float64"
      ]
     },
     "execution_count": 172,
     "metadata": {},
     "output_type": "execute_result"
    }
   ],
   "source": []
  },
  {
   "cell_type": "code",
   "execution_count": 179,
   "metadata": {},
   "outputs": [
    {
     "name": "stdout",
     "output_type": "stream",
     "text": [
      "variable\n",
      "Symptom_Insomnia                                        0.218484\n",
      "Symptom_Elevated_temp                                   0.148532\n",
      "Symptom_Waking_up_in_night                              0.146606\n",
      "Symptom_Fever                                           0.140825\n",
      "Symptom_Temp_lability                                   0.111653\n",
      "Symptom_Night_sweats                                    0.105507\n",
      "Symptom_Cognitive_Functioning_attentionconcentration    0.105479\n",
      "Symptom_Sleep_other                                     0.098183\n",
      "Symptom_Shortness_of_breath                             0.093935\n",
      "Symptom_Diarrhea                                        0.092397\n",
      "dtype: float64\n",
      "variable\n",
      "Symptom_Eye_Vision_sensitivity_to_light                  0.668781\n",
      "Symptom_Difficulty_swallowing                            0.603389\n",
      "Symptom_SkinAllergy_itchy_eyes                           0.599980\n",
      "Symptom_SkinAllergy_itchy_skin                           0.598828\n",
      "Symptom_Muscle_spasms                                    0.594992\n",
      "Symptom_Speech_difficulty_reading_processing_text        0.591740\n",
      "Symptom_Ear_ear_pain                                     0.583267\n",
      "Symptom_Speech_difficulty_understanding_others_speech    0.582207\n",
      "Symptom_Sensations_numbness_loss_sensation               0.581538\n",
      "Symptom_Slurring_words                                   0.567792\n",
      "dtype: float64\n",
      "variable\n",
      "Symptom_Speech_difficulty_finding_words                  0.522897\n",
      "Symptom_Speech_difficulty_communicating_verbally         0.485841\n",
      "Symptom_Speech_difficulty_understanding_others_speech    0.482867\n",
      "Symptom_Speech_difficulty_reading_processing_text        0.427047\n",
      "Symptom_Speech_difficulty_speaking_complete_sentences    0.413522\n",
      "Symptom_Cognitive_Functioning_executive                  0.382978\n",
      "Symptom_Memory_long                                      0.378661\n",
      "Symptom_Cognitive_Functioning_problemsolving             0.358637\n",
      "Symptom_Speech_difficulty_communicating_writing          0.331401\n",
      "Symptom_Cognitive_Functioning_thinking                   0.313414\n",
      "dtype: float64\n",
      "variable\n",
      "Symptom_Memory_short                           0.054551\n",
      "Symptom_Respiratory_other                      0.001441\n",
      "Symptom_Diarrhea                              -0.015752\n",
      "Symptom_Skin_Allergy_other                    -0.018925\n",
      "Symptom_Reproductive_other_menstrual_issues   -0.020972\n",
      "Symptom_SkinAllergy_other_itchy               -0.026640\n",
      "Symptom_Inability_to_yawn                     -0.030810\n",
      "Symptom_Sore_throat                           -0.034948\n",
      "Symptom_Tightness_of_chest                    -0.037064\n",
      "Symptom_Headaches_other                       -0.041235\n",
      "dtype: float64\n",
      "variable\n",
      "Symptom_Memory_short                             0.017625\n",
      "Symptom_Respiratory_other                       -0.007132\n",
      "Symptom_Inability_to_yawn                       -0.048060\n",
      "Symptom_Loss_of_smell                           -0.050909\n",
      "Symptom_Reproductive_other_menstrual_issues     -0.055874\n",
      "Symptom_SkinAllergy_other_itchy                 -0.057109\n",
      "Symptom_Speech_changes_to_secondary_languages   -0.062872\n",
      "Symptom_Altered_smell                           -0.067942\n",
      "Symptom_Loss_of_taste                           -0.070570\n",
      "Symptom_Cognitive_Functioning_other             -0.072537\n",
      "dtype: float64\n",
      "variable\n",
      "Symptom_Gasping_air_normal_oxygen      0.129853\n",
      "Symptom_Tightness_of_chest             0.129349\n",
      "Symptom_Dizziness_vertigo              0.120850\n",
      "Symptom_Heart_palpitations             0.113612\n",
      "Symptom_Pain_burning_chest             0.098504\n",
      "Symptom_Eye_Vision_other_eye_issues    0.096717\n",
      "Symptom_Diarrhea                       0.096118\n",
      "Symptom_Chills_flushing_sweats         0.095897\n",
      "Symptom_Dry_cough                      0.091274\n",
      "Symptom_Shortness_of_breath            0.089741\n",
      "dtype: float64\n",
      "variable\n",
      "Symptom_Speech_difficulty_finding_words                  0.515016\n",
      "Symptom_Speech_difficulty_communicating_verbally         0.355191\n",
      "Symptom_Speech_difficulty_reading_processing_text        0.332663\n",
      "Symptom_Speech_difficulty_understanding_others_speech    0.312639\n",
      "Symptom_Elevated_temp                                    0.282926\n",
      "Symptom_Cognitive_Functioning_problemsolving             0.255937\n",
      "Symptom_Difficulty_falling_asleep                        0.254548\n",
      "Symptom_Chills_flushing_sweats                           0.254360\n",
      "Symptom_Sleep_other                                      0.251103\n",
      "Symptom_Cognitive_Functioning_executive                  0.246577\n",
      "dtype: float64\n",
      "variable\n",
      "Symptom_Speech_difficulty_finding_words                  0.523666\n",
      "Symptom_Speech_difficulty_communicating_verbally         0.486542\n",
      "Symptom_Speech_difficulty_understanding_others_speech    0.469230\n",
      "Symptom_Speech_difficulty_reading_processing_text        0.455417\n",
      "Symptom_Eye_vision_symptoms                              0.439420\n",
      "Symptom_Speech_difficulty_speaking_complete_sentences    0.431901\n",
      "Symptom_Muscle_spasms                                    0.416825\n",
      "Symptom_Neuralgia                                        0.416544\n",
      "Symptom_Sensations_skin_burning_no_rash                  0.407331\n",
      "Symptom_Eye_Vision_blurred_vision                        0.407167\n",
      "dtype: float64\n",
      "variable\n",
      "Symptom_Insomnia                                        0.339349\n",
      "Symptom_Waking_up_in_night                              0.209112\n",
      "Symptom_Difficulty_falling_asleep                       0.132537\n",
      "Symptom_Waking_up_early                                 0.061748\n",
      "Symptom_Cognitive_Functioning_attentionconcentration   -0.024170\n",
      "Symptom_Sleep_apnea                                    -0.025241\n",
      "Symptom_Cognitive_Functioning_other                    -0.032505\n",
      "Symptom_Inability_to_yawn                              -0.036490\n",
      "Symptom_Loss_of_smell                                  -0.043600\n",
      "Symptom_Respiratory_other                              -0.048732\n",
      "dtype: float64\n",
      "variable\n",
      "Symptom_Cognitive_Functioning_attentionconcentration    0.064942\n",
      "Symptom_Cognitive_Functioning_thinking                  0.034814\n",
      "Symptom_Memory_other                                   -0.007603\n",
      "Symptom_Cognitive_Functioning_executive                -0.011106\n",
      "Symptom_Cognitive_Functioning_problemsolving           -0.024913\n",
      "Symptom_Respiratory_other                              -0.030912\n",
      "Symptom_SkinAllergy_other_itchy                        -0.036724\n",
      "Symptom_Memory_short                                   -0.040864\n",
      "Symptom_PEM                                            -0.043081\n",
      "Symptom_Cognitive_Functioning_other                    -0.043729\n",
      "dtype: float64\n",
      "variable\n",
      "Symptom_Insomnia                              0.333969\n",
      "Symptom_Sensations_tingling_prickling         0.244451\n",
      "Symptom_Waking_up_in_night                    0.240208\n",
      "Symptom_Sensations_skin_burning_no_rash       0.228253\n",
      "Symptom_Vibrating_sensations                  0.219403\n",
      "Symptom_Tremors                               0.218276\n",
      "Symptom_Sensations_numbness_loss_sensation    0.176206\n",
      "Symptom_Neuralgia                             0.166357\n",
      "Symptom_Difficulty_falling_asleep             0.157971\n",
      "Symptom_Sensations_electrical_zaps            0.146503\n",
      "dtype: float64\n",
      "variable\n",
      "Symptom_Speech_difficulty_finding_words                  0.492983\n",
      "Symptom_Speech_difficulty_communicating_verbally         0.352938\n",
      "Symptom_Cognitive_Functioning_executive                  0.265641\n",
      "Symptom_Speech_difficulty_speaking_complete_sentences    0.257532\n",
      "Symptom_Cognitive_Functioning_thinking                   0.245584\n",
      "Symptom_Speech_difficulty_reading_processing_text        0.242369\n",
      "Symptom_Speech_difficulty_understanding_others_speech    0.239857\n",
      "Symptom_Cognitive_Functioning_problemsolving             0.227576\n",
      "Symptom_Memory_long                                      0.190059\n",
      "Symptom_Cognitive_Functioning_attentionconcentration     0.170746\n",
      "dtype: float64\n",
      "variable\n",
      "Symptom_Sensations_skin_burning_no_rash    0.314344\n",
      "Symptom_Joint_pain                         0.307885\n",
      "Symptom_Neuralgia                          0.304157\n",
      "Symptom_Gastrointestinal_abdominal_pain    0.285756\n",
      "Symptom_Sensations_tingling_prickling      0.285665\n",
      "Symptom_Muscle_spasms                      0.279505\n",
      "Symptom_Nausea                             0.277919\n",
      "Symptom_Headaches_stiff_neck               0.271560\n",
      "Symptom_Eye_Vision_sensitivity_to_light    0.271555\n",
      "Symptom_Night_sweats                       0.267413\n",
      "dtype: float64\n"
     ]
    }
   ],
   "source": [
    "edges = [] \n",
    "symp_unusual = pd.DataFrame()\n",
    "for component in comp_list:\n",
    "    edges +=investigate_comp(component, mm).sort_values(ascending=False).head(10).index.tolist()\n",
    "    symp_unusual[component] = investigate_comp(component, mm)\n",
    "    print(investigate_comp(component, mm).sort_values(ascending=False).head(10))"
   ]
  },
  {
   "cell_type": "code",
   "execution_count": 129,
   "metadata": {},
   "outputs": [
    {
     "name": "stdout",
     "output_type": "stream",
     "text": [
      "cluster\n",
      "0     656\n",
      "1     178\n",
      "2     399\n",
      "3     549\n",
      "4     389\n",
      "5     352\n",
      "6     449\n",
      "7     544\n",
      "8     490\n",
      "9     534\n",
      "10    509\n",
      "11    608\n",
      "12    374\n",
      "Name: count, dtype: int64\n"
     ]
    }
   ],
   "source": [
    "print(df.cluster.value_counts().sort_index())"
   ]
  },
  {
   "cell_type": "code",
   "execution_count": 130,
   "metadata": {},
   "outputs": [
    {
     "data": {
      "text/plain": [
       "3"
      ]
     },
     "execution_count": 130,
     "metadata": {},
     "output_type": "execute_result"
    }
   ],
   "source": [
    "(sympdf[edges].mean()>.90).sum()"
   ]
  },
  {
   "cell_type": "code",
   "execution_count": 131,
   "metadata": {},
   "outputs": [
    {
     "data": {
      "text/plain": [
       "17"
      ]
     },
     "execution_count": 131,
     "metadata": {},
     "output_type": "execute_result"
    }
   ],
   "source": [
    "(sympdf[edges].mean()<.1).sum()\n",
    "# some of the pretty rare symptoms are cluster-decisive\n",
    "# I'm going to keep them in unless something pathological emerges downstream"
   ]
  },
  {
   "cell_type": "code",
   "execution_count": 181,
   "metadata": {},
   "outputs": [],
   "source": [
    "symp_unusual.to_csv(\"output/stepmix_13_111023_symp_unusual.csv\")"
   ]
  },
  {
   "cell_type": "code",
   "execution_count": 177,
   "metadata": {},
   "outputs": [],
   "source": [
    "# plan for next time \n",
    "# plot the clusters in 2d space\n",
    "# go through that sklearn paper for some plot ideas\n",
    "# look at the various non-used parameters and how they assort\n",
    "# look at demographics, other columns of df\n",
    "# assess distinguisability of clusters--maybe some can combine?\n",
    "\n",
    "# could laplace approximation be used to get a better estimate of the number of clusters?\n",
    "# if have reason to think p(data | model ) is close to p(model), then maybe justify fewer clusters"
   ]
  },
  {
   "cell_type": "code",
   "execution_count": 183,
   "metadata": {},
   "outputs": [
    {
     "data": {
      "text/plain": [
       "variable\n",
       "Symptom_Acid_reflux                0.369313\n",
       "Symptom_Acute_confusion            0.158894\n",
       "Symptom_Altered_smell              0.234075\n",
       "Symptom_Altered_taste              0.294896\n",
       "Symptom_Awakened_cannot_breathe    0.411089\n",
       "                                     ...   \n",
       "Symptom_Vibrating_sensations       0.293808\n",
       "Symptom_Vivid_dreams               0.413275\n",
       "Symptom_Vomiting                   0.174588\n",
       "Symptom_Waking_up_early            0.280046\n",
       "Symptom_Waking_up_in_night         0.622473\n",
       "Name: 0, Length: 147, dtype: float64"
      ]
     },
     "execution_count": 183,
     "metadata": {},
     "output_type": "execute_result"
    }
   ],
   "source": [
    "mm[0]"
   ]
  },
  {
   "cell_type": "code",
   "execution_count": 199,
   "metadata": {},
   "outputs": [
    {
     "data": {
      "text/plain": [
       "Symptom_Acid_reflux                0.375000\n",
       "Symptom_Acute_confusion            0.160061\n",
       "Symptom_Altered_smell              0.234756\n",
       "Symptom_Altered_taste              0.300305\n",
       "Symptom_Awakened_cannot_breathe    0.422256\n",
       "                                     ...   \n",
       "Symptom_Vibrating_sensations       0.291159\n",
       "Symptom_Vivid_dreams               0.417683\n",
       "Symptom_Vomiting                   0.169207\n",
       "Symptom_Waking_up_early            0.283537\n",
       "Symptom_Waking_up_in_night         0.623476\n",
       "Length: 147, dtype: float64"
      ]
     },
     "execution_count": 199,
     "metadata": {},
     "output_type": "execute_result"
    }
   ],
   "source": [
    "# check if patients asigned to cluster 0 have average scores equivalent to column 0 of mm\n",
    "# this is a bit of a sanity check\n",
    "\n",
    "mm[0].sort_index()\n",
    "\n",
    "df[df.cluster==0][sympdf.columns].mean().sort_index()"
   ]
  },
  {
   "cell_type": "code",
   "execution_count": 202,
   "metadata": {},
   "outputs": [
    {
     "data": {
      "text/plain": [
       "array([ 8, 11, 10, ...,  6,  8, 11])"
      ]
     },
     "execution_count": 202,
     "metadata": {},
     "output_type": "execute_result"
    }
   ],
   "source": [
    "model.predict(sympdf)"
   ]
  },
  {
   "cell_type": "code",
   "execution_count": 208,
   "metadata": {},
   "outputs": [],
   "source": [
    "df['cluster'].to_csv(\"output/cluster_13_111023.csv\")"
   ]
  },
  {
   "cell_type": "code",
   "execution_count": 207,
   "metadata": {},
   "outputs": [
    {
     "data": {
      "text/html": [
       "<div>\n",
       "<style scoped>\n",
       "    .dataframe tbody tr th:only-of-type {\n",
       "        vertical-align: middle;\n",
       "    }\n",
       "\n",
       "    .dataframe tbody tr th {\n",
       "        vertical-align: top;\n",
       "    }\n",
       "\n",
       "    .dataframe thead th {\n",
       "        text-align: right;\n",
       "    }\n",
       "</style>\n",
       "<table border=\"1\" class=\"dataframe\">\n",
       "  <thead>\n",
       "    <tr style=\"text-align: right;\">\n",
       "      <th></th>\n",
       "      <th>Symptom_Memory_short</th>\n",
       "      <th>Symptom_Memory_long</th>\n",
       "      <th>Symptom_Memory_no_new_memories</th>\n",
       "      <th>Symptom_Memory_forget_tasks</th>\n",
       "      <th>Symptom_Memory_other</th>\n",
       "      <th>Symptom_Cognitive_Functioning_thinking</th>\n",
       "      <th>Symptom_Cognitive_Functioning_executive</th>\n",
       "      <th>Symptom_Cognitive_Functioning_problemsolving</th>\n",
       "      <th>Symptom_Cognitive_Functioning_slowedthoughts</th>\n",
       "      <th>Symptom_Cognitive_Functioning_fastthoughts</th>\n",
       "      <th>...</th>\n",
       "      <th>Demographics_Age_Cleaned</th>\n",
       "      <th>Flag_MECFS</th>\n",
       "      <th>Flag_POTS</th>\n",
       "      <th>Flag_MCAS</th>\n",
       "      <th>FAS</th>\n",
       "      <th>FAS_cat</th>\n",
       "      <th>Physical_PEM_Severity</th>\n",
       "      <th>Cognitive_PEM_Severity</th>\n",
       "      <th>HasPeriods</th>\n",
       "      <th>cluster</th>\n",
       "    </tr>\n",
       "  </thead>\n",
       "  <tbody>\n",
       "    <tr>\n",
       "      <th>3</th>\n",
       "      <td>1.0</td>\n",
       "      <td>0.0</td>\n",
       "      <td>0.0</td>\n",
       "      <td>0.0</td>\n",
       "      <td>0.0</td>\n",
       "      <td>1.0</td>\n",
       "      <td>0.0</td>\n",
       "      <td>1.0</td>\n",
       "      <td>1.0</td>\n",
       "      <td>0.0</td>\n",
       "      <td>...</td>\n",
       "      <td>30-39</td>\n",
       "      <td>1.0</td>\n",
       "      <td>No, no tachycardia</td>\n",
       "      <td>1.0</td>\n",
       "      <td>20.0</td>\n",
       "      <td>Minimal/No Fatigue</td>\n",
       "      <td>5.0</td>\n",
       "      <td>5.0</td>\n",
       "      <td>NaN</td>\n",
       "      <td>8</td>\n",
       "    </tr>\n",
       "    <tr>\n",
       "      <th>5</th>\n",
       "      <td>1.0</td>\n",
       "      <td>1.0</td>\n",
       "      <td>1.0</td>\n",
       "      <td>1.0</td>\n",
       "      <td>0.0</td>\n",
       "      <td>1.0</td>\n",
       "      <td>1.0</td>\n",
       "      <td>1.0</td>\n",
       "      <td>1.0</td>\n",
       "      <td>0.0</td>\n",
       "      <td>...</td>\n",
       "      <td>40-49</td>\n",
       "      <td>1.0</td>\n",
       "      <td>No, no tachycardia</td>\n",
       "      <td>0.0</td>\n",
       "      <td>30.0</td>\n",
       "      <td>Fatigue</td>\n",
       "      <td>9.0</td>\n",
       "      <td>7.0</td>\n",
       "      <td>No, other reason</td>\n",
       "      <td>11</td>\n",
       "    </tr>\n",
       "    <tr>\n",
       "      <th>6</th>\n",
       "      <td>1.0</td>\n",
       "      <td>0.0</td>\n",
       "      <td>0.0</td>\n",
       "      <td>0.0</td>\n",
       "      <td>0.0</td>\n",
       "      <td>1.0</td>\n",
       "      <td>0.0</td>\n",
       "      <td>1.0</td>\n",
       "      <td>1.0</td>\n",
       "      <td>0.0</td>\n",
       "      <td>...</td>\n",
       "      <td>40-49</td>\n",
       "      <td>1.0</td>\n",
       "      <td>Possible, had tachycardia/palpitations</td>\n",
       "      <td>0.0</td>\n",
       "      <td>20.0</td>\n",
       "      <td>Minimal/No Fatigue</td>\n",
       "      <td>8.0</td>\n",
       "      <td>0.0</td>\n",
       "      <td>No, other reason</td>\n",
       "      <td>10</td>\n",
       "    </tr>\n",
       "    <tr>\n",
       "      <th>8</th>\n",
       "      <td>1.0</td>\n",
       "      <td>0.0</td>\n",
       "      <td>0.0</td>\n",
       "      <td>1.0</td>\n",
       "      <td>0.0</td>\n",
       "      <td>0.0</td>\n",
       "      <td>1.0</td>\n",
       "      <td>1.0</td>\n",
       "      <td>1.0</td>\n",
       "      <td>0.0</td>\n",
       "      <td>...</td>\n",
       "      <td>40-49</td>\n",
       "      <td>1.0</td>\n",
       "      <td>Definite, measured bpm &gt; 30</td>\n",
       "      <td>0.0</td>\n",
       "      <td>19.0</td>\n",
       "      <td>Minimal/No Fatigue</td>\n",
       "      <td>7.0</td>\n",
       "      <td>4.0</td>\n",
       "      <td>Yes</td>\n",
       "      <td>0</td>\n",
       "    </tr>\n",
       "    <tr>\n",
       "      <th>9</th>\n",
       "      <td>1.0</td>\n",
       "      <td>0.0</td>\n",
       "      <td>0.0</td>\n",
       "      <td>0.0</td>\n",
       "      <td>0.0</td>\n",
       "      <td>0.0</td>\n",
       "      <td>0.0</td>\n",
       "      <td>0.0</td>\n",
       "      <td>1.0</td>\n",
       "      <td>0.0</td>\n",
       "      <td>...</td>\n",
       "      <td>40-49</td>\n",
       "      <td>1.0</td>\n",
       "      <td>Possible, had tachycardia/palpitations</td>\n",
       "      <td>0.0</td>\n",
       "      <td>20.0</td>\n",
       "      <td>Minimal/No Fatigue</td>\n",
       "      <td>10.0</td>\n",
       "      <td>0.0</td>\n",
       "      <td>Yes</td>\n",
       "      <td>10</td>\n",
       "    </tr>\n",
       "    <tr>\n",
       "      <th>...</th>\n",
       "      <td>...</td>\n",
       "      <td>...</td>\n",
       "      <td>...</td>\n",
       "      <td>...</td>\n",
       "      <td>...</td>\n",
       "      <td>...</td>\n",
       "      <td>...</td>\n",
       "      <td>...</td>\n",
       "      <td>...</td>\n",
       "      <td>...</td>\n",
       "      <td>...</td>\n",
       "      <td>...</td>\n",
       "      <td>...</td>\n",
       "      <td>...</td>\n",
       "      <td>...</td>\n",
       "      <td>...</td>\n",
       "      <td>...</td>\n",
       "      <td>...</td>\n",
       "      <td>...</td>\n",
       "      <td>...</td>\n",
       "      <td>...</td>\n",
       "    </tr>\n",
       "    <tr>\n",
       "      <th>14158</th>\n",
       "      <td>1.0</td>\n",
       "      <td>1.0</td>\n",
       "      <td>0.0</td>\n",
       "      <td>0.0</td>\n",
       "      <td>0.0</td>\n",
       "      <td>1.0</td>\n",
       "      <td>1.0</td>\n",
       "      <td>1.0</td>\n",
       "      <td>1.0</td>\n",
       "      <td>0.0</td>\n",
       "      <td>...</td>\n",
       "      <td>50-59</td>\n",
       "      <td>1.0</td>\n",
       "      <td>Possible, had tachycardia/palpitations</td>\n",
       "      <td>2.0</td>\n",
       "      <td>32.0</td>\n",
       "      <td>Fatigue</td>\n",
       "      <td>8.0</td>\n",
       "      <td>6.0</td>\n",
       "      <td>No, post-menopausal</td>\n",
       "      <td>2</td>\n",
       "    </tr>\n",
       "    <tr>\n",
       "      <th>14161</th>\n",
       "      <td>1.0</td>\n",
       "      <td>1.0</td>\n",
       "      <td>0.0</td>\n",
       "      <td>1.0</td>\n",
       "      <td>0.0</td>\n",
       "      <td>1.0</td>\n",
       "      <td>1.0</td>\n",
       "      <td>1.0</td>\n",
       "      <td>1.0</td>\n",
       "      <td>0.0</td>\n",
       "      <td>...</td>\n",
       "      <td>30-39</td>\n",
       "      <td>1.0</td>\n",
       "      <td>Likely, had higher bpm standing</td>\n",
       "      <td>1.0</td>\n",
       "      <td>26.0</td>\n",
       "      <td>Fatigue</td>\n",
       "      <td>10.0</td>\n",
       "      <td>9.0</td>\n",
       "      <td>No, other reason</td>\n",
       "      <td>11</td>\n",
       "    </tr>\n",
       "    <tr>\n",
       "      <th>14163</th>\n",
       "      <td>1.0</td>\n",
       "      <td>1.0</td>\n",
       "      <td>1.0</td>\n",
       "      <td>0.0</td>\n",
       "      <td>0.0</td>\n",
       "      <td>1.0</td>\n",
       "      <td>1.0</td>\n",
       "      <td>1.0</td>\n",
       "      <td>0.0</td>\n",
       "      <td>0.0</td>\n",
       "      <td>...</td>\n",
       "      <td>30-39</td>\n",
       "      <td>0.0</td>\n",
       "      <td>Definite, measured bpm &gt; 30</td>\n",
       "      <td>1.0</td>\n",
       "      <td>33.0</td>\n",
       "      <td>Fatigue</td>\n",
       "      <td>8.0</td>\n",
       "      <td>7.0</td>\n",
       "      <td>Yes</td>\n",
       "      <td>6</td>\n",
       "    </tr>\n",
       "    <tr>\n",
       "      <th>14166</th>\n",
       "      <td>1.0</td>\n",
       "      <td>0.0</td>\n",
       "      <td>0.0</td>\n",
       "      <td>0.0</td>\n",
       "      <td>0.0</td>\n",
       "      <td>0.0</td>\n",
       "      <td>1.0</td>\n",
       "      <td>0.0</td>\n",
       "      <td>0.0</td>\n",
       "      <td>0.0</td>\n",
       "      <td>...</td>\n",
       "      <td>60-69</td>\n",
       "      <td>0.0</td>\n",
       "      <td>No, no tachycardia</td>\n",
       "      <td>0.0</td>\n",
       "      <td>18.0</td>\n",
       "      <td>Minimal/No Fatigue</td>\n",
       "      <td>NaN</td>\n",
       "      <td>NaN</td>\n",
       "      <td>NaN</td>\n",
       "      <td>8</td>\n",
       "    </tr>\n",
       "    <tr>\n",
       "      <th>14168</th>\n",
       "      <td>1.0</td>\n",
       "      <td>1.0</td>\n",
       "      <td>0.0</td>\n",
       "      <td>1.0</td>\n",
       "      <td>0.0</td>\n",
       "      <td>1.0</td>\n",
       "      <td>1.0</td>\n",
       "      <td>1.0</td>\n",
       "      <td>1.0</td>\n",
       "      <td>1.0</td>\n",
       "      <td>...</td>\n",
       "      <td>30-39</td>\n",
       "      <td>1.0</td>\n",
       "      <td>No, no tachycardia</td>\n",
       "      <td>0.0</td>\n",
       "      <td>30.0</td>\n",
       "      <td>Fatigue</td>\n",
       "      <td>9.0</td>\n",
       "      <td>7.0</td>\n",
       "      <td>No, other reason</td>\n",
       "      <td>11</td>\n",
       "    </tr>\n",
       "  </tbody>\n",
       "</table>\n",
       "<p>6031 rows × 175 columns</p>\n",
       "</div>"
      ],
      "text/plain": [
       "       Symptom_Memory_short  Symptom_Memory_long  \\\n",
       "3                       1.0                  0.0   \n",
       "5                       1.0                  1.0   \n",
       "6                       1.0                  0.0   \n",
       "8                       1.0                  0.0   \n",
       "9                       1.0                  0.0   \n",
       "...                     ...                  ...   \n",
       "14158                   1.0                  1.0   \n",
       "14161                   1.0                  1.0   \n",
       "14163                   1.0                  1.0   \n",
       "14166                   1.0                  0.0   \n",
       "14168                   1.0                  1.0   \n",
       "\n",
       "       Symptom_Memory_no_new_memories  Symptom_Memory_forget_tasks  \\\n",
       "3                                 0.0                          0.0   \n",
       "5                                 1.0                          1.0   \n",
       "6                                 0.0                          0.0   \n",
       "8                                 0.0                          1.0   \n",
       "9                                 0.0                          0.0   \n",
       "...                               ...                          ...   \n",
       "14158                             0.0                          0.0   \n",
       "14161                             0.0                          1.0   \n",
       "14163                             1.0                          0.0   \n",
       "14166                             0.0                          0.0   \n",
       "14168                             0.0                          1.0   \n",
       "\n",
       "       Symptom_Memory_other  Symptom_Cognitive_Functioning_thinking  \\\n",
       "3                       0.0                                     1.0   \n",
       "5                       0.0                                     1.0   \n",
       "6                       0.0                                     1.0   \n",
       "8                       0.0                                     0.0   \n",
       "9                       0.0                                     0.0   \n",
       "...                     ...                                     ...   \n",
       "14158                   0.0                                     1.0   \n",
       "14161                   0.0                                     1.0   \n",
       "14163                   0.0                                     1.0   \n",
       "14166                   0.0                                     0.0   \n",
       "14168                   0.0                                     1.0   \n",
       "\n",
       "       Symptom_Cognitive_Functioning_executive  \\\n",
       "3                                          0.0   \n",
       "5                                          1.0   \n",
       "6                                          0.0   \n",
       "8                                          1.0   \n",
       "9                                          0.0   \n",
       "...                                        ...   \n",
       "14158                                      1.0   \n",
       "14161                                      1.0   \n",
       "14163                                      1.0   \n",
       "14166                                      1.0   \n",
       "14168                                      1.0   \n",
       "\n",
       "       Symptom_Cognitive_Functioning_problemsolving  \\\n",
       "3                                               1.0   \n",
       "5                                               1.0   \n",
       "6                                               1.0   \n",
       "8                                               1.0   \n",
       "9                                               0.0   \n",
       "...                                             ...   \n",
       "14158                                           1.0   \n",
       "14161                                           1.0   \n",
       "14163                                           1.0   \n",
       "14166                                           0.0   \n",
       "14168                                           1.0   \n",
       "\n",
       "       Symptom_Cognitive_Functioning_slowedthoughts  \\\n",
       "3                                               1.0   \n",
       "5                                               1.0   \n",
       "6                                               1.0   \n",
       "8                                               1.0   \n",
       "9                                               1.0   \n",
       "...                                             ...   \n",
       "14158                                           1.0   \n",
       "14161                                           1.0   \n",
       "14163                                           0.0   \n",
       "14166                                           0.0   \n",
       "14168                                           1.0   \n",
       "\n",
       "       Symptom_Cognitive_Functioning_fastthoughts  ...  \\\n",
       "3                                             0.0  ...   \n",
       "5                                             0.0  ...   \n",
       "6                                             0.0  ...   \n",
       "8                                             0.0  ...   \n",
       "9                                             0.0  ...   \n",
       "...                                           ...  ...   \n",
       "14158                                         0.0  ...   \n",
       "14161                                         0.0  ...   \n",
       "14163                                         0.0  ...   \n",
       "14166                                         0.0  ...   \n",
       "14168                                         1.0  ...   \n",
       "\n",
       "       Demographics_Age_Cleaned  Flag_MECFS  \\\n",
       "3                         30-39         1.0   \n",
       "5                         40-49         1.0   \n",
       "6                         40-49         1.0   \n",
       "8                         40-49         1.0   \n",
       "9                         40-49         1.0   \n",
       "...                         ...         ...   \n",
       "14158                     50-59         1.0   \n",
       "14161                     30-39         1.0   \n",
       "14163                     30-39         0.0   \n",
       "14166                     60-69         0.0   \n",
       "14168                     30-39         1.0   \n",
       "\n",
       "                                    Flag_POTS  Flag_MCAS   FAS  \\\n",
       "3                          No, no tachycardia        1.0  20.0   \n",
       "5                          No, no tachycardia        0.0  30.0   \n",
       "6      Possible, had tachycardia/palpitations        0.0  20.0   \n",
       "8                 Definite, measured bpm > 30        0.0  19.0   \n",
       "9      Possible, had tachycardia/palpitations        0.0  20.0   \n",
       "...                                       ...        ...   ...   \n",
       "14158  Possible, had tachycardia/palpitations        2.0  32.0   \n",
       "14161         Likely, had higher bpm standing        1.0  26.0   \n",
       "14163             Definite, measured bpm > 30        1.0  33.0   \n",
       "14166                      No, no tachycardia        0.0  18.0   \n",
       "14168                      No, no tachycardia        0.0  30.0   \n",
       "\n",
       "                  FAS_cat  Physical_PEM_Severity  Cognitive_PEM_Severity  \\\n",
       "3      Minimal/No Fatigue                    5.0                     5.0   \n",
       "5                 Fatigue                    9.0                     7.0   \n",
       "6      Minimal/No Fatigue                    8.0                     0.0   \n",
       "8      Minimal/No Fatigue                    7.0                     4.0   \n",
       "9      Minimal/No Fatigue                   10.0                     0.0   \n",
       "...                   ...                    ...                     ...   \n",
       "14158             Fatigue                    8.0                     6.0   \n",
       "14161             Fatigue                   10.0                     9.0   \n",
       "14163             Fatigue                    8.0                     7.0   \n",
       "14166  Minimal/No Fatigue                    NaN                     NaN   \n",
       "14168             Fatigue                    9.0                     7.0   \n",
       "\n",
       "                HasPeriods  cluster  \n",
       "3                      NaN        8  \n",
       "5         No, other reason       11  \n",
       "6         No, other reason       10  \n",
       "8                      Yes        0  \n",
       "9                      Yes       10  \n",
       "...                    ...      ...  \n",
       "14158  No, post-menopausal        2  \n",
       "14161     No, other reason       11  \n",
       "14163                  Yes        6  \n",
       "14166                  NaN        8  \n",
       "14168     No, other reason       11  \n",
       "\n",
       "[6031 rows x 175 columns]"
      ]
     },
     "execution_count": 207,
     "metadata": {},
     "output_type": "execute_result"
    }
   ],
   "source": []
  },
  {
   "cell_type": "code",
   "execution_count": 209,
   "metadata": {},
   "outputs": [
    {
     "name": "stdout",
     "output_type": "stream",
     "text": [
      "Fitting StepMix...\n"
     ]
    },
    {
     "name": "stderr",
     "output_type": "stream",
     "text": [
      "Initializations (n_init) : 100%|██████████| 1/1 [00:05<00:00,  5.34s/it, max_LL=-4.08e+5, max_avg_LL=-67.7]"
     ]
    },
    {
     "name": "stdout",
     "output_type": "stream",
     "text": [
      "================================================================================\n",
      "MODEL REPORT\n",
      "================================================================================\n",
      "    ============================================================================\n",
      "    Measurement model parameters\n",
      "    ============================================================================\n",
      "          model_name                                                    binary                                                                                \n",
      "          class_no                                                          0       1       2       3       4       5       6       7       8       9       10\n",
      "          param variable                                                                                                                                      \n",
      "          pis   Symptom_Acid_reflux                                     0.3722  0.7065  0.2993  0.1075  0.4223  0.3268  0.2751  0.4683  0.1549  0.5711  0.0681\n",
      "                Symptom_Acute_confusion                                 0.1594  0.6703  0.0073  0.0355  0.0894  0.2649  0.1831  0.4116  0.0847  0.2947  0.0026\n",
      "                Symptom_Altered_smell                                   0.2375  0.5496  0.1277  0.1713  0.1008  0.2425  0.2020  0.2954  0.1484  0.3320  0.1828\n",
      "                Symptom_Altered_taste                                   0.2946  0.6438  0.1618  0.1794  0.1528  0.3084  0.2621  0.3751  0.1870  0.3936  0.2004\n",
      "                Symptom_Awakened_cannot_breathe                         0.3932  0.7281  0.2147  0.2013  0.3897  0.2258  0.2747  0.5278  0.0869  0.5370  0.0400\n",
      "                Symptom_Bladder_control                                 0.0838  0.5201  0.0686  0.0533  0.1837  0.1928  0.1119  0.2601  0.0458  0.2914  0.0144\n",
      "                Symptom_Bone_ache_burning                               0.2052  0.6880  0.1180  0.0670  0.2772  0.2209  0.1677  0.4518  0.0965  0.4899  0.0446\n",
      "                Symptom_Bradycardia                                     0.1116  0.4649  0.1057  0.0582  0.2384  0.1475  0.1121  0.2701  0.0927  0.2276  0.0233\n",
      "                Symptom_Bulging_veins                                   0.0673  0.5306  0.0892  0.0208  0.3057  0.1554  0.0627  0.2914  0.0463  0.3291  0.0067\n",
      "                Symptom_Change_sensitivity_to_meds                      0.1649  0.4903  0.1503  0.0739  0.2822  0.2057  0.1900  0.3089  0.0789  0.3289  0.0682\n",
      "                Symptom_Changes_in_voice                                0.2053  0.5763  0.1546  0.1280  0.2657  0.2922  0.2162  0.3833  0.1286  0.3978  0.0698\n",
      "                Symptom_Chills_flushing_sweats                          0.6326  0.9219  0.4271  0.2319  0.5809  0.6324  0.5064  0.7937  0.2716  0.8093  0.1188\n",
      "                Symptom_Cognitive_Functioning_agnosia                   0.0387  0.4144  0.0111  0.0333  0.0462  0.1588  0.1159  0.2681  0.0533  0.0915  0.0064\n",
      "                Symptom_Cognitive_Functioning_attentionconcentration    0.8532  0.9841  0.2129  0.7796  0.6418  0.9068  0.9332  0.9589  0.8373  0.8649  0.2030\n",
      "                Symptom_Cognitive_Functioning_executive                 0.6305  0.9414  0.0392  0.4849  0.3430  0.7966  0.8709  0.8889  0.6429  0.6730  0.0682\n",
      "                Symptom_Cognitive_Functioning_fastthoughts              0.1907  0.4148  0.0269  0.1122  0.0840  0.1576  0.2121  0.2924  0.1367  0.2569  0.0176\n",
      "                Symptom_Cognitive_Functioning_other                     0.0419  0.1670  0.0540  0.0626  0.1001  0.1343  0.1239  0.1237  0.0598  0.0769  0.0282\n",
      "                Symptom_Cognitive_Functioning_problemsolving            0.5803  0.9291  0.0284  0.4575  0.3318  0.7464  0.7940  0.8874  0.5959  0.6333  0.0549\n",
      "                Symptom_Cognitive_Functioning_slowedthoughts            0.3729  0.7641  0.0612  0.3283  0.3126  0.5796  0.5974  0.6807  0.4215  0.4779  0.1264\n",
      "                Symptom_Cognitive_Functioning_thinking                  0.7502  0.9694  0.0558  0.5915  0.4847  0.8765  0.9126  0.9441  0.7539  0.7718  0.1098\n",
      "                Symptom_Constipation                                    0.2278  0.5838  0.1600  0.1081  0.3054  0.2297  0.2382  0.4001  0.1109  0.4504  0.0553\n",
      "                Symptom_Cough_with_mucus                                0.3342  0.5285  0.2403  0.1550  0.2211  0.2912  0.2828  0.4070  0.2219  0.3781  0.1286\n",
      "                Symptom_Covid_toes                                      0.0819  0.3866  0.0771  0.0431  0.1412  0.1448  0.0868  0.2126  0.0574  0.2194  0.0316\n",
      "                Symptom_Dermatographia                                  0.0275  0.3430  0.0295  0.0080  0.0983  0.0895  0.0287  0.1304  0.0156  0.1942  0.0097\n",
      "                Symptom_Diarrhea                                        0.6648  0.8768  0.5393  0.2204  0.5963  0.5801  0.5089  0.6908  0.3326  0.8146  0.2007\n",
      "                Symptom_Difficulty_falling_asleep                       0.4562  0.7579  0.2509  0.5430  0.4441  0.0000  0.6375  0.6205  0.0000  0.5410  0.0291\n",
      "                Symptom_Difficulty_swallowing                           0.2761  0.7853  0.2052  0.0930  0.3686  0.2963  0.2207  0.4784  0.1298  0.5202  0.0599\n",
      "                Symptom_Dizziness_vertigo                               0.7449  0.9689  0.4764  0.3525  0.7310  0.8228  0.7227  0.9149  0.4941  0.9197  0.1637\n",
      "                Symptom_Dry_cough                                       0.7105  0.8151  0.5844  0.4801  0.5410  0.7276  0.6536  0.7460  0.5428  0.7522  0.4143\n",
      "                Symptom_Ear_changes_to_ear_canal                        0.1580  0.6382  0.1658  0.0644  0.2597  0.2177  0.1284  0.3038  0.0761  0.4395  0.0343\n",
      "                Symptom_Ear_ear_pain                                    0.1797  0.7323  0.1708  0.0492  0.2754  0.2551  0.1620  0.3687  0.0967  0.5277  0.0194\n",
      "                Symptom_Ear_sensitivity_to_noise                        0.2760  0.8681  0.1432  0.1407  0.3268  0.4319  0.3451  0.6417  0.1612  0.5472  0.0383\n",
      "                Symptom_Elevated_temp                                   0.7107  0.8500  0.4635  0.3194  0.5188  0.5890  0.5386  0.7527  0.2890  0.7790  0.1624\n",
      "                Symptom_Extreme_thirst                                  0.3392  0.7589  0.1922  0.1308  0.3962  0.3361  0.2521  0.5444  0.1242  0.5202  0.0282\n",
      "                Symptom_Eye_Vision_bloodshot_eyes                       0.1013  0.4265  0.0701  0.0458  0.1803  0.1366  0.0894  0.2216  0.0369  0.3009  0.0143\n",
      "                Symptom_Eye_Vision_blurred_vision                       0.2335  0.8882  0.1259  0.1479  0.4396  0.4857  0.3503  0.6591  0.1490  0.6736  0.0274\n",
      "                Symptom_Eye_Vision_double_vision                        0.0154  0.3559  0.0105  0.0219  0.0839  0.0937  0.0642  0.1523  0.0180  0.1301  0.0050\n",
      "                Symptom_Eye_Vision_dry_eyes                             0.2288  0.7165  0.1617  0.1439  0.3481  0.3564  0.1998  0.4374  0.1108  0.5287  0.0446\n",
      "                Symptom_Eye_Vision_eye_pressure_pain                    0.1882  0.7528  0.1081  0.0786  0.2639  0.2771  0.2082  0.4224  0.0910  0.5477  0.0308\n",
      "                Symptom_Eye_Vision_floaters                             0.1478  0.6197  0.0826  0.0616  0.2002  0.1987  0.1435  0.3519  0.0815  0.4246  0.0215\n",
      "                Symptom_Eye_Vision_other_eye_issues                     0.1665  0.5350  0.1833  0.1397  0.3294  0.3300  0.2338  0.3475  0.1360  0.3675  0.0684\n",
      "                Symptom_Eye_Vision_pink_eye                             0.0858  0.3211  0.0789  0.0382  0.1492  0.1360  0.1034  0.1696  0.0617  0.2741  0.0397\n",
      "                Symptom_Eye_Vision_redness_outside_eye                  0.0518  0.3228  0.0305  0.0195  0.1055  0.1019  0.0341  0.1020  0.0245  0.2017  0.0118\n",
      "                Symptom_Eye_Vision_seeing_things_peripheral_vision      0.0847  0.4942  0.0268  0.0187  0.0984  0.1204  0.1018  0.2707  0.0437  0.2770  0.0027\n",
      "                Symptom_Eye_Vision_sensitivity_to_light                 0.2318  0.9081  0.0788  0.0817  0.2514  0.4203  0.2859  0.5725  0.1270  0.6021  0.0178\n",
      "                Symptom_Eye_vision_symptoms                             0.1998  0.8592  0.1277  0.1297  0.4344  0.4296  0.3023  0.6351  0.1429  0.6341  0.0138\n",
      "                Symptom_Fainting                                        0.1059  0.3874  0.0600  0.0484  0.1255  0.1211  0.1133  0.2025  0.0595  0.2095  0.0156\n",
      "                Symptom_Fever                                           0.4526  0.5429  0.2216  0.1235  0.1966  0.3543  0.2813  0.4452  0.1555  0.3871  0.0820\n",
      "                Symptom_Gasping_air_normal_oxygen                       0.6396  0.8314  0.5105  0.3017  0.5819  0.6524  0.5386  0.7549  0.4168  0.7384  0.2039\n",
      "                Symptom_Gastrointestinal_abdominal_pain                 0.4730  0.9139  0.3219  0.1271  0.4610  0.4517  0.3128  0.6011  0.1381  0.7336  0.0616\n",
      "                Symptom_Gastrointestinal_feeling_full_quickly_eating    0.3368  0.6496  0.2654  0.1137  0.3259  0.3321  0.2828  0.4520  0.1306  0.4789  0.0866\n",
      "                Symptom_Gastrointestinal_hyperactive_bowel              0.2687  0.5783  0.1725  0.0809  0.2356  0.2346  0.1602  0.3554  0.0721  0.4707  0.0488\n",
      "                Symptom_Hallucinations_auditory                         0.0392  0.3343  0.0099  0.0192  0.0349  0.0664  0.0415  0.1402  0.0276  0.1244  0.0098\n",
      "                Symptom_Hallucinations_visual                           0.0726  0.3843  0.0346  0.0188  0.0610  0.1073  0.0873  0.2043  0.0506  0.1543  0.0086\n",
      "                Symptom_Headaches_after_mental_exertion                 0.2856  0.6898  0.0459  0.0838  0.1491  0.3076  0.3063  0.4998  0.1514  0.4216  0.0218\n",
      "                Symptom_Headaches_base_of_skull                         0.2935  0.6501  0.1397  0.0869  0.2990  0.2642  0.2516  0.4211  0.1669  0.5218  0.0340\n",
      "                Symptom_Headaches_behind_eyes                           0.4687  0.7838  0.2583  0.2096  0.3307  0.4353  0.3639  0.5449  0.3062  0.6483  0.0882\n",
      "                Symptom_Headaches_brain_pressure                        0.3007  0.7947  0.1078  0.1318  0.3109  0.4145  0.3170  0.5414  0.2116  0.5991  0.0401\n",
      "                Symptom_Headaches_brain_warmth                          0.0994  0.4316  0.0408  0.0379  0.1393  0.1004  0.0705  0.1946  0.0477  0.2176  0.0141\n",
      "                Symptom_Headaches_diffuse                               0.3870  0.6709  0.2232  0.2191  0.2527  0.3899  0.3668  0.4666  0.2681  0.4594  0.0796\n",
      "                Symptom_Headaches_migraines                             0.2682  0.5912  0.1236  0.0912  0.1734  0.2619  0.2415  0.3359  0.1483  0.4316  0.0361\n",
      "                Symptom_Headaches_other                                 0.0949  0.2862  0.1076  0.0673  0.1539  0.1929  0.1470  0.1456  0.0882  0.1840  0.0492\n",
      "                Symptom_Headaches_stiff_neck                            0.4549  0.8426  0.1941  0.1744  0.3653  0.4331  0.3596  0.6294  0.2355  0.6646  0.0568\n",
      "                Symptom_Headaches_temples                               0.4328  0.6410  0.2309  0.2273  0.2844  0.3516  0.3164  0.4734  0.2611  0.5159  0.0858\n",
      "                Symptom_Hearing_loss                                    0.0458  0.3554  0.0516  0.0364  0.0967  0.0738  0.0678  0.1620  0.0449  0.1742  0.0204\n",
      "                Symptom_Heart_palpitations                              0.6869  0.9242  0.5947  0.3938  0.7689  0.7196  0.6422  0.8621  0.4820  0.8424  0.2275\n",
      "                Symptom_Heat_intolerance                                0.2616  0.7228  0.1174  0.1033  0.2718  0.2504  0.2846  0.4960  0.0752  0.4550  0.0362\n",
      "                Symptom_Heightened_smell                                0.0629  0.3172  0.0484  0.0217  0.0489  0.0690  0.0695  0.1337  0.0238  0.1495  0.0094\n",
      "                Symptom_Inability_to_yawn                               0.0205  0.1734  0.0325  0.0279  0.0984  0.0426  0.0307  0.0686  0.0173  0.1070  0.0160\n",
      "                Symptom_Insomnia                                        0.8330  0.9694  0.5898  1.0000  0.8453  0.0872  1.0000  0.9136  0.0622  0.9003  0.0933\n",
      "                Symptom_Joint_pain                                      0.5700  0.9358  0.3806  0.2741  0.5876  0.5847  0.5223  0.7958  0.3451  0.8486  0.1493\n",
      "                Symptom_Loss_of_appetite                                0.6112  0.8588  0.4563  0.2230  0.5303  0.5328  0.4545  0.6581  0.2783  0.6961  0.1587\n",
      "                Symptom_Loss_of_smell                                   0.4529  0.5751  0.2850  0.3710  0.2153  0.4204  0.4073  0.4720  0.3441  0.4453  0.3513\n",
      "                Symptom_Loss_of_taste                                   0.4342  0.5831  0.2583  0.3309  0.1912  0.3736  0.3450  0.4358  0.3005  0.4167  0.3044\n",
      "                Symptom_Low_temp                                        0.1520  0.5392  0.1253  0.0391  0.2380  0.1662  0.1229  0.3585  0.0609  0.3606  0.0143\n",
      "                Symptom_Lucid_dreams                                    0.1777  0.3806  0.0752  0.1031  0.1106  0.1177  0.1491  0.2668  0.0421  0.2974  0.0083\n",
      "                Symptom_Memory_forget_tasks                             0.0746  0.4840  0.0000  0.0432  0.0553  0.2390  0.1887  0.2928  0.0760  0.1140  0.0073\n",
      "                Symptom_Memory_long                                     0.3257  0.8300  0.0170  0.3174  0.2176  0.5814  0.6277  0.7373  0.3820  0.4676  0.0476\n",
      "                Symptom_Memory_no_new_memories                          0.0390  0.3086  0.0000  0.0497  0.0166  0.1112  0.1362  0.1982  0.0455  0.0739  0.0079\n",
      "                Symptom_Memory_other                                    0.0507  0.2020  0.0350  0.0856  0.1299  0.1965  0.1733  0.1602  0.1376  0.1348  0.0404\n",
      "                Symptom_Memory_short                                    0.9202  0.9769  0.9636  0.8697  0.8946  0.9339  0.9197  0.9535  0.8820  0.9184  0.9432\n",
      "                Symptom_Merged_temperature_other_temp_issues            0.3661  0.6821  0.3356  0.1789  0.5071  0.4488  0.3863  0.5298  0.2174  0.5491  0.1026\n",
      "                Symptom_Muscle_aches                                    0.7429  0.9734  0.5450  0.4020  0.7087  0.7569  0.6850  0.8728  0.5411  0.9091  0.2488\n",
      "                Symptom_Muscle_spasms                                   0.2275  0.8377  0.1854  0.0937  0.4619  0.2963  0.2383  0.5981  0.1171  0.6503  0.0369\n",
      "                Symptom_Nausea                                          0.5451  0.8969  0.3477  0.0967  0.4949  0.5087  0.4309  0.6780  0.2316  0.7672  0.0917\n",
      "                Symptom_Neuralgia                                       0.1830  0.8378  0.1800  0.0612  0.4787  0.3046  0.2068  0.5318  0.1134  0.6407  0.0283\n",
      "                Symptom_New_allergies                                   0.0606  0.3286  0.0659  0.0275  0.1688  0.1019  0.0888  0.1771  0.0365  0.1989  0.0123\n",
      "                Symptom_Night_sweats                                    0.4998  0.8080  0.2152  0.3333  0.4197  0.2888  0.3929  0.6204  0.0806  0.6655  0.0386\n",
      "                Symptom_Nightmares                                      0.2826  0.6137  0.1179  0.1495  0.1943  0.1787  0.2473  0.4190  0.0536  0.3830  0.0060\n",
      "                Symptom_Other_ear_hearing_symptoms                      0.1424  0.5157  0.1495  0.0862  0.3005  0.2201  0.1501  0.2966  0.1106  0.3296  0.0503\n",
      "                Symptom_PEM                                             0.9269  0.9948  0.7906  0.7938  0.9009  0.9447  0.9388  0.9858  0.8584  0.9540  0.5436\n",
      "                Symptom_Pain_burning_chest                              0.4965  0.8362  0.4402  0.2011  0.5294  0.5576  0.3731  0.6239  0.3091  0.6965  0.1731\n",
      "                Symptom_Peeling_skin                                    0.0828  0.4263  0.0589  0.0303  0.1651  0.1241  0.0775  0.1996  0.0415  0.2360  0.0202\n",
      "                Symptom_Petechiae                                       0.1022  0.5638  0.1015  0.0305  0.1983  0.1646  0.0862  0.2419  0.0563  0.3483  0.0154\n",
      "                Symptom_Phantom_smell                                   0.2368  0.6787  0.1400  0.1401  0.1105  0.2605  0.2166  0.3804  0.1316  0.4148  0.1269\n",
      "                Symptom_Phantom_taste                                   0.0811  0.4254  0.0475  0.0547  0.0305  0.0882  0.0572  0.1282  0.0357  0.1980  0.0485\n",
      "                Symptom_Rattling_breath                                 0.1785  0.4643  0.1079  0.0756  0.1144  0.2203  0.1448  0.2779  0.0636  0.2866  0.0472\n",
      "                Symptom_Reproductive_abnormally_heavy_periods_clotting  0.1050  0.2357  0.0434  0.0278  0.0842  0.0953  0.0655  0.1790  0.0380  0.1662  0.0169\n",
      "                Symptom_Reproductive_abnormally_irregular_periods       0.1224  0.3037  0.0886  0.0350  0.1276  0.1131  0.1023  0.1893  0.0489  0.1864  0.0264\n",
      "                Symptom_Reproductive_all_menstrual_issues               0.1722  0.4453  0.1310  0.0527  0.1947  0.2004  0.1352  0.3111  0.0639  0.2938  0.0520\n",
      "                Symptom_Reproductive_other_menstrual_issues             0.0858  0.1947  0.0751  0.0309  0.1065  0.1052  0.0784  0.1228  0.0522  0.1126  0.0426\n",
      "                Symptom_Reproductive_other_urinary_issues               0.1063  0.4422  0.0799  0.0511  0.1976  0.1897  0.1178  0.2346  0.0558  0.2713  0.0152\n",
      "                Symptom_Reproductive_sexual_dysfunction                 0.0893  0.3297  0.0420  0.0560  0.0814  0.1191  0.1230  0.1820  0.0584  0.1777  0.0214\n",
      "                Symptom_Respiratory_other                               0.0717  0.1397  0.0905  0.0449  0.1160  0.1271  0.0628  0.0778  0.0664  0.1043  0.0833\n",
      "                Symptom_Restless_leg                                    0.1771  0.4702  0.0883  0.1416  0.1949  0.0950  0.1833  0.3616  0.0172  0.3406  0.0099\n",
      "                Symptom_Runny_nose                                      0.3761  0.6462  0.2447  0.1617  0.2324  0.3454  0.3086  0.4401  0.2329  0.4726  0.1781\n",
      "                Symptom_Sensations_coldness                             0.2793  0.8206  0.2099  0.1159  0.4706  0.3423  0.2793  0.5623  0.1485  0.6344  0.0864\n",
      "                Symptom_Sensations_electrical_zaps                      0.0936  0.7452  0.1315  0.0707  0.4272  0.2336  0.1582  0.4356  0.0633  0.4877  0.0359\n",
      "                Symptom_Sensations_facial_pressure_left                 0.0198  0.3218  0.0282  0.0091  0.1412  0.0730  0.0418  0.1121  0.0336  0.1671  0.0000\n",
      "                Symptom_Sensations_facial_pressure_other                0.0427  0.2016  0.0239  0.0141  0.0913  0.0543  0.0465  0.0729  0.0224  0.1281  0.0038\n",
      "                Symptom_Sensations_facial_pressure_right                0.0179  0.3055  0.0282  0.0131  0.1047  0.0532  0.0245  0.0890  0.0260  0.1613  0.0051\n",
      "                Symptom_Sensations_numbness_loss_sensation              0.2564  0.8477  0.2139  0.1579  0.5515  0.3184  0.2521  0.5697  0.1792  0.6490  0.0692\n",
      "                Symptom_Sensations_numbness_one_sided_weakness          0.0526  0.4079  0.0608  0.0397  0.2101  0.1132  0.0882  0.2071  0.0308  0.2614  0.0105\n",
      "                Symptom_Sensations_skin_burning_no_rash                 0.3391  0.9422  0.3049  0.1720  0.6935  0.4612  0.3381  0.7252  0.2117  0.7909  0.1199\n",
      "                Symptom_Sensations_tingling_prickling                   0.3693  0.9040  0.3946  0.2052  0.7272  0.4635  0.3881  0.6975  0.2771  0.7730  0.1278\n",
      "                Symptom_Sensations_weakness                             0.4123  0.8494  0.2807  0.2649  0.5410  0.4930  0.4576  0.6928  0.3017  0.6714  0.1278\n",
      "                Symptom_Shortness_of_breath                             0.8369  0.9387  0.6719  0.5391  0.7011  0.8220  0.7517  0.8805  0.6492  0.8422  0.3929\n",
      "                Symptom_SkinAllergy_brittle_nail                        0.0509  0.4279  0.0377  0.0393  0.1131  0.1006  0.0759  0.1752  0.0341  0.2217  0.0186\n",
      "                Symptom_SkinAllergy_heighted_reaction_allergies         0.0910  0.3639  0.0894  0.0430  0.1249  0.1095  0.1150  0.1758  0.0625  0.2192  0.0135\n",
      "                Symptom_SkinAllergy_itchy_eyes                          0.1818  0.7606  0.1129  0.0825  0.2788  0.2642  0.1401  0.3985  0.0803  0.4938  0.0372\n",
      "                Symptom_SkinAllergy_itchy_skin                          0.2359  0.8140  0.1968  0.1155  0.3732  0.3676  0.2161  0.5294  0.1073  0.5910  0.0671\n",
      "                Symptom_SkinAllergy_other_itchy                         0.0431  0.1676  0.0395  0.0173  0.0851  0.0511  0.0438  0.0727  0.0349  0.0869  0.0131\n",
      "                Symptom_Skin_Allergy_other                              0.0833  0.1646  0.0765  0.0373  0.1306  0.1237  0.0742  0.1416  0.0512  0.1407  0.0247\n",
      "                Symptom_Skin_rashes                                     0.2056  0.6833  0.1909  0.0811  0.3279  0.3295  0.1815  0.3873  0.1214  0.4319  0.0566\n",
      "                Symptom_Sleep_apnea                                     0.1178  0.3284  0.0577  0.1115  0.1460  0.0493  0.1374  0.2118  0.0155  0.1807  0.0352\n",
      "                Symptom_Sleep_other                                     0.6028  0.8287  0.3384  0.4128  0.5690  0.5623  0.5855  0.7453  0.3185  0.6198  0.1506\n",
      "                Symptom_Slurring_words                                  0.0349  0.6342  0.0179  0.0190  0.0883  0.2620  0.2102  0.4062  0.0655  0.1765  0.0000\n",
      "                Symptom_Sneezing                                        0.3183  0.6879  0.1954  0.1118  0.1778  0.3140  0.2156  0.3800  0.1489  0.4472  0.0845\n",
      "                Symptom_Sore_throat                                     0.6329  0.8738  0.5186  0.3028  0.5545  0.6121  0.5093  0.7234  0.3790  0.7180  0.2092\n",
      "                Symptom_Speech_changes_to_secondary_languages           0.0007  0.1682  0.0024  0.0139  0.0239  0.1260  0.1174  0.1316  0.0321  0.0038  0.0050\n",
      "                Symptom_Speech_difficulty_communicating_verbally        0.0023  0.8333  0.0108  0.0703  0.1180  0.6464  0.6362  0.7682  0.2193  0.0624  0.0153\n",
      "                Symptom_Speech_difficulty_communicating_writing         0.0000  0.6290  0.0000  0.0165  0.0380  0.3396  0.3206  0.4421  0.0690  0.0347  0.0066\n",
      "                Symptom_Speech_difficulty_finding_words                 0.0577  0.9695  0.0574  0.2147  0.3681  0.9167  0.9757  0.9898  0.4176  0.2989  0.0610\n",
      "                Symptom_Speech_difficulty_reading_processing_text       0.0008  0.8022  0.0055  0.0451  0.0802  0.5284  0.5162  0.6924  0.1381  0.0688  0.0050\n",
      "                Symptom_Speech_difficulty_speaking_complete_sentences   0.0027  0.7349  0.0020  0.0364  0.0635  0.4790  0.4712  0.6298  0.1296  0.0467  0.0025\n",
      "                Symptom_Speech_difficulty_understanding_others_speech   0.0000  0.8090  0.0000  0.0467  0.0498  0.5428  0.5368  0.6985  0.1261  0.0767  0.0000\n",
      "                Symptom_Speech_speaking_unrecognizable_words            0.0027  0.3837  0.0012  0.0147  0.0132  0.1655  0.1519  0.2763  0.0318  0.0288  0.0025\n",
      "                Symptom_Tachycardia                                     0.5988  0.9058  0.5194  0.3618  0.7197  0.6147  0.5746  0.8217  0.3784  0.7731  0.1821\n",
      "                Symptom_Temp_lability                                   0.5106  0.6873  0.2989  0.1890  0.2811  0.4298  0.3546  0.5449  0.1941  0.5358  0.1159\n",
      "                Symptom_Tightness_of_chest                              0.7739  0.9293  0.6472  0.4260  0.7162  0.7317  0.6176  0.8380  0.5609  0.8411  0.3397\n",
      "                Symptom_Tinnitus                                        0.2705  0.8119  0.2411  0.1410  0.4226  0.3985  0.2652  0.5264  0.1598  0.5467  0.0509\n",
      "                Symptom_Tremors                                         0.2960  0.8647  0.3011  0.1632  0.6087  0.2939  0.3291  0.6438  0.1866  0.6905  0.0817\n",
      "                Symptom_Vibrating_sensations                            0.3064  0.8498  0.3051  0.1531  0.6366  0.3930  0.2977  0.6273  0.2224  0.6833  0.0841\n",
      "                Symptom_Vivid_dreams                                    0.3927  0.6686  0.1684  0.2658  0.2675  0.2797  0.3552  0.5101  0.0858  0.4796  0.0224\n",
      "                Symptom_Vomiting                                        0.1857  0.3794  0.1023  0.0301  0.1185  0.1999  0.1161  0.2180  0.0407  0.2820  0.0172\n",
      "                Symptom_Waking_up_early                                 0.2645  0.4982  0.1616  0.3179  0.2966  0.0000  0.3781  0.3669  0.0000  0.3180  0.0112\n",
      "                Symptom_Waking_up_in_night                              0.5854  0.7913  0.3423  0.6867  0.5648  0.0000  0.7469  0.6753  0.0000  0.6677  0.0183\n",
      "    ============================================================================\n",
      "    Class weights\n",
      "    ============================================================================\n",
      "        Class 1 : 0.12\n",
      "        Class 2 : 0.06\n",
      "        Class 3 : 0.10\n",
      "        Class 4 : 0.08\n",
      "        Class 5 : 0.09\n",
      "        Class 6 : 0.07\n",
      "        Class 7 : 0.11\n",
      "        Class 8 : 0.12\n",
      "        Class 9 : 0.10\n",
      "        Class 10 : 0.08\n",
      "        Class 11 : 0.07\n",
      "    ============================================================================\n",
      "    Fit for 11 latent classes\n",
      "    ============================================================================\n",
      "    Estimation method             : 1-step\n",
      "    Number of observations        : 6031\n",
      "    Number of latent classes      : 11\n",
      "    Number of estimated parameters: 1627\n",
      "    Log-likelihood (LL)           : -408400.4528\n",
      "    -2LL                          : 816800.9056\n",
      "    Average LL                    : -67.7169\n",
      "    AIC                           : 820054.91\n",
      "    BIC                           : 830963.40\n",
      "    CAIC                          : 832590.40\n",
      "    Sample-Size Adjusted BIC      : 839955.74\n",
      "    Entropy                       : 1271.7157\n",
      "    Scaled Relative Entropy       : 0.9121\n"
     ]
    },
    {
     "name": "stderr",
     "output_type": "stream",
     "text": [
      "\n",
      "/Users/tessa/miniforge3/envs/stepmix/lib/python3.12/site-packages/stepmix/stepmix.py:1173: FutureWarning: The provided callable <function mean at 0x10a0daf20> is currently using DataFrameGroupBy.mean. In a future version of pandas, the provided callable will be used directly. To keep current behavior pass the string \"mean\" instead.\n",
      "  return pd.pivot_table(\n"
     ]
    }
   ],
   "source": [
    "model = StepMix(n_components=11, measurement=\"binary\", verbose=1, random_state=123)\n",
    "model.fit(sympdf)\n",
    "\n",
    "# save model using pkl\n",
    "with open('output/stepmix_11_111023.pkl', 'wb') as f:\n",
    "    pkl.dump(model, f)\n",
    "\n",
    "df['cluster_11'] = model.predict(sympdf)\n",
    "df['cluster_11'].to_csv(\"output/cluster_11_111023.csv\")\n",
    "\n",
    "mm = model.get_mm_df()\n",
    "mm = mm.reset_index()\n",
    "mm  = mm.drop(\"model_name\",axis=1)\n",
    "mm  = mm.drop(\"param\",axis=1)\n",
    "mm.index=mm['variable']\n",
    "mm = mm.drop(\"variable\", axis=1)\n",
    "\n",
    "mm.to_csv(\"output/stepmix_11_111023_mmdf.csv\")"
   ]
  },
  {
   "cell_type": "code",
   "execution_count": 211,
   "metadata": {},
   "outputs": [
    {
     "name": "stdout",
     "output_type": "stream",
     "text": [
      "variable\n",
      "Symptom_Insomnia                                        0.186870\n",
      "Symptom_Elevated_temp                                   0.184463\n",
      "Symptom_Fever                                           0.173621\n",
      "Symptom_Temp_lability                                   0.147458\n",
      "Symptom_Waking_up_in_night                              0.136063\n",
      "Symptom_Diarrhea                                        0.128760\n",
      "Symptom_Loss_of_appetite                                0.126470\n",
      "Symptom_Cognitive_Functioning_attentionconcentration    0.120983\n",
      "Symptom_Shortness_of_breath                             0.117909\n",
      "Symptom_Night_sweats                                    0.113454\n",
      "dtype: float64\n",
      "variable\n",
      "Symptom_Eye_Vision_sensitivity_to_light                  0.641131\n",
      "Symptom_Speech_difficulty_understanding_others_speech    0.601219\n",
      "Symptom_Speech_difficulty_reading_processing_text        0.594107\n",
      "Symptom_Speech_difficulty_communicating_verbally         0.578390\n",
      "Symptom_Neuralgia                                        0.564920\n",
      "Symptom_Ear_sensitivity_to_noise                         0.562880\n",
      "Symptom_Eye_Vision_blurred_vision                        0.559055\n",
      "Symptom_Eye_vision_symptoms                              0.554300\n",
      "Symptom_SkinAllergy_itchy_eyes                           0.553638\n",
      "Symptom_Speech_difficulty_speaking_complete_sentences    0.548534\n",
      "dtype: float64\n",
      "variable\n",
      "Symptom_Memory_short                           0.042402\n",
      "Symptom_Respiratory_other                      0.001136\n",
      "Symptom_Diarrhea                              -0.009285\n",
      "Symptom_Reproductive_other_menstrual_issues   -0.018093\n",
      "Symptom_Skin_Allergy_other                    -0.020717\n",
      "Symptom_SkinAllergy_other_itchy               -0.022089\n",
      "Symptom_Inability_to_yawn                     -0.027733\n",
      "Symptom_Tightness_of_chest                    -0.030190\n",
      "Symptom_Sore_throat                           -0.032917\n",
      "Symptom_Headaches_other                       -0.033317\n",
      "dtype: float64\n",
      "variable\n",
      "Symptom_Insomnia                                        0.370609\n",
      "Symptom_Waking_up_in_night                              0.247511\n",
      "Symptom_Difficulty_falling_asleep                       0.169294\n",
      "Symptom_Waking_up_early                                 0.088393\n",
      "Symptom_Cognitive_Functioning_attentionconcentration    0.039959\n",
      "Symptom_Sleep_apnea                                    -0.016512\n",
      "Symptom_Loss_of_smell                                  -0.025902\n",
      "Symptom_Cognitive_Functioning_other                    -0.028340\n",
      "Symptom_Inability_to_yawn                              -0.032845\n",
      "Symptom_Loss_of_taste                                  -0.033378\n",
      "dtype: float64\n",
      "variable\n",
      "Symptom_Sensations_tingling_prickling         0.267241\n",
      "Symptom_Sensations_skin_burning_no_rash       0.252977\n",
      "Symptom_Vibrating_sensations                  0.244351\n",
      "Symptom_Tremors                               0.223608\n",
      "Symptom_Insomnia                              0.200387\n",
      "Symptom_Sensations_numbness_loss_sensation    0.200116\n",
      "Symptom_Sensations_electrical_zaps            0.181677\n",
      "Symptom_Neuralgia                             0.169955\n",
      "Symptom_Tachycardia                           0.146696\n",
      "Symptom_Bulging_veins                         0.145773\n",
      "dtype: float64\n",
      "variable\n",
      "Symptom_Speech_difficulty_finding_words                  0.475634\n",
      "Symptom_Speech_difficulty_communicating_verbally         0.372753\n",
      "Symptom_Speech_difficulty_understanding_others_speech    0.308410\n",
      "Symptom_Speech_difficulty_reading_processing_text        0.292955\n",
      "Symptom_Speech_difficulty_speaking_complete_sentences    0.267052\n",
      "Symptom_Cognitive_Functioning_thinking                   0.242131\n",
      "Symptom_Cognitive_Functioning_executive                  0.238339\n",
      "Symptom_Cognitive_Functioning_problemsolving             0.217164\n",
      "Symptom_Memory_long                                      0.184403\n",
      "Symptom_Speech_difficulty_communicating_writing          0.183965\n",
      "dtype: float64\n",
      "variable\n",
      "Symptom_Speech_difficulty_finding_words                  0.540524\n",
      "Symptom_Insomnia                                         0.370609\n",
      "Symptom_Speech_difficulty_communicating_verbally         0.361555\n",
      "Symptom_Cognitive_Functioning_executive                  0.320006\n",
      "Symptom_Waking_up_in_night                               0.313706\n",
      "Symptom_Speech_difficulty_understanding_others_speech    0.301847\n",
      "Symptom_Cognitive_Functioning_thinking                   0.281796\n",
      "Symptom_Speech_difficulty_reading_processing_text        0.279560\n",
      "Symptom_Difficulty_falling_asleep                        0.273280\n",
      "Symptom_Cognitive_Functioning_problemsolving             0.269434\n",
      "dtype: float64\n",
      "variable\n",
      "Symptom_Speech_difficulty_finding_words                  0.556105\n",
      "Symptom_Speech_difficulty_communicating_verbally         0.506775\n",
      "Symptom_Speech_difficulty_understanding_others_speech    0.479742\n",
      "Symptom_Speech_difficulty_reading_processing_text        0.473384\n",
      "Symptom_Speech_difficulty_speaking_complete_sentences    0.432923\n",
      "Symptom_Cognitive_Functioning_problemsolving             0.372223\n",
      "Symptom_Memory_long                                      0.355926\n",
      "Symptom_Cognitive_Functioning_executive                  0.339858\n",
      "Symptom_Cognitive_Functioning_thinking                   0.316494\n",
      "Symptom_Ear_sensitivity_to_noise                         0.313865\n",
      "dtype: float64\n",
      "variable\n",
      "Symptom_Cognitive_Functioning_thinking                  0.107313\n",
      "Symptom_Cognitive_Functioning_attentionconcentration    0.103437\n",
      "Symptom_Cognitive_Functioning_executive                 0.069188\n",
      "Symptom_Cognitive_Functioning_problemsolving            0.051621\n",
      "Symptom_Memory_other                                    0.016751\n",
      "Symptom_Cognitive_Functioning_slowedthoughts           -0.008651\n",
      "Symptom_PEM                                            -0.018956\n",
      "Symptom_Respiratory_other                              -0.025465\n",
      "Symptom_SkinAllergy_other_itchy                        -0.027128\n",
      "Symptom_Speech_changes_to_secondary_languages          -0.027230\n",
      "dtype: float64\n",
      "variable\n",
      "Symptom_Sensations_skin_burning_no_rash       0.360134\n",
      "Symptom_Neuralgia                             0.348147\n",
      "Symptom_Gastrointestinal_abdominal_pain       0.347409\n",
      "Symptom_Muscle_spasms                         0.341011\n",
      "Symptom_Nausea                                0.334941\n",
      "Symptom_Joint_pain                            0.334041\n",
      "Symptom_Eye_Vision_blurred_vision             0.322923\n",
      "Symptom_Sensations_tingling_prickling         0.317537\n",
      "Symptom_Tremors                               0.313587\n",
      "Symptom_Sensations_numbness_loss_sensation    0.307423\n",
      "dtype: float64\n",
      "variable\n",
      "Symptom_Memory_short                             0.019893\n",
      "Symptom_Respiratory_other                       -0.006815\n",
      "Symptom_Inability_to_yawn                       -0.045851\n",
      "Symptom_Loss_of_smell                           -0.047563\n",
      "Symptom_SkinAllergy_other_itchy                 -0.051077\n",
      "Symptom_Reproductive_other_menstrual_issues     -0.053858\n",
      "Symptom_Speech_changes_to_secondary_languages   -0.056994\n",
      "Symptom_Altered_smell                           -0.057900\n",
      "Symptom_Loss_of_taste                           -0.062480\n",
      "Symptom_Sensations_facial_pressure_other        -0.065998\n",
      "dtype: float64\n"
     ]
    }
   ],
   "source": [
    "edges = [] \n",
    "symp_unusual = pd.DataFrame()\n",
    "comp_list = list(range(0,11))\n",
    "for component in comp_list:\n",
    "    edges +=investigate_comp(component, mm).sort_values(ascending=False).head(10).index.tolist()\n",
    "    symp_unusual[component] = investigate_comp(component, mm)\n",
    "    print(investigate_comp(component, mm).sort_values(ascending=False).head(10))"
   ]
  },
  {
   "cell_type": "code",
   "execution_count": 212,
   "metadata": {},
   "outputs": [],
   "source": [
    "symp_unusual.to_csv(\"output/stepmix_11_111023_symp_unusual.csv\")"
   ]
  },
  {
   "cell_type": "code",
   "execution_count": 213,
   "metadata": {},
   "outputs": [
    {
     "name": "stdout",
     "output_type": "stream",
     "text": [
      "Fitting StepMix...\n"
     ]
    },
    {
     "name": "stderr",
     "output_type": "stream",
     "text": [
      "Initializations (n_init) : 100%|██████████| 1/1 [00:04<00:00,  4.05s/it, max_LL=-4.1e+5, max_avg_LL=-68]"
     ]
    },
    {
     "name": "stdout",
     "output_type": "stream",
     "text": [
      "================================================================================\n",
      "MODEL REPORT\n",
      "================================================================================\n",
      "    ============================================================================\n",
      "    Measurement model parameters\n",
      "    ============================================================================\n",
      "          model_name                                                    binary                                                                \n",
      "          class_no                                                           0       1       2       3       4       5       6       7       8\n",
      "          param variable                                                                                                                      \n",
      "          pis   Symptom_Acid_reflux                                     0.1787  0.6871  0.4223  0.2089  0.5716  0.1932  0.3895  0.0583  0.4143\n",
      "                Symptom_Acute_confusion                                 0.0203  0.6626  0.0789  0.0431  0.3098  0.1851  0.1713  0.0028  0.3237\n",
      "                Symptom_Altered_smell                                   0.1501  0.5173  0.1052  0.1385  0.3200  0.1895  0.2603  0.1826  0.2660\n",
      "                Symptom_Altered_taste                                   0.1624  0.6012  0.1666  0.1770  0.3879  0.2334  0.3141  0.1977  0.3498\n",
      "                Symptom_Awakened_cannot_breathe                         0.2501  0.7061  0.3828  0.0698  0.5526  0.1986  0.3964  0.0424  0.4184\n",
      "                Symptom_Bladder_control                                 0.0530  0.4900  0.1713  0.0478  0.3026  0.0879  0.1002  0.0146  0.2203\n",
      "                Symptom_Bone_ache_burning                               0.0811  0.6685  0.2408  0.1057  0.4997  0.1190  0.2443  0.0428  0.3534\n",
      "                Symptom_Bradycardia                                     0.0775  0.4402  0.2243  0.0838  0.2401  0.0920  0.1188  0.0196  0.2228\n",
      "                Symptom_Bulging_veins                                   0.0416  0.5021  0.2918  0.0543  0.3512  0.0412  0.0653  0.0066  0.2262\n",
      "                Symptom_Change_sensitivity_to_meds                      0.1116  0.4709  0.2578  0.0974  0.3450  0.1411  0.1709  0.0671  0.2710\n",
      "                Symptom_Changes_in_voice                                0.1231  0.5609  0.2740  0.1372  0.4105  0.2062  0.2105  0.0601  0.3206\n",
      "                Symptom_Chills_flushing_sweats                          0.2855  0.9124  0.5704  0.3646  0.8044  0.4092  0.6863  0.0818  0.7198\n",
      "                Symptom_Cognitive_Functioning_agnosia                   0.0224  0.4082  0.0378  0.0210  0.1050  0.1318  0.0472  0.0097  0.2056\n",
      "                Symptom_Cognitive_Functioning_attentionconcentration    0.5896  0.9862  0.5751  0.5884  0.8680  0.9134  0.8499  0.2249  0.9525\n",
      "                Symptom_Cognitive_Functioning_executive                 0.3353  0.9488  0.2918  0.3743  0.6710  0.8277  0.6507  0.0999  0.8787\n",
      "                Symptom_Cognitive_Functioning_fastthoughts              0.0792  0.4019  0.0696  0.0833  0.2492  0.1771  0.2044  0.0260  0.2627\n",
      "                Symptom_Cognitive_Functioning_other                     0.0571  0.1555  0.0912  0.0539  0.0807  0.1058  0.0560  0.0308  0.1310\n",
      "                Symptom_Cognitive_Functioning_problemsolving            0.3078  0.9388  0.2821  0.3548  0.6368  0.7569  0.5913  0.0807  0.8568\n",
      "                Symptom_Cognitive_Functioning_slowedthoughts            0.2214  0.7701  0.2692  0.2720  0.4828  0.5560  0.4007  0.1418  0.6580\n",
      "                Symptom_Cognitive_Functioning_thinking                  0.4002  0.9770  0.4131  0.4730  0.7812  0.8996  0.7560  0.1428  0.9271\n",
      "                Symptom_Constipation                                    0.1286  0.5553  0.3052  0.1151  0.4547  0.1589  0.2493  0.0519  0.3497\n",
      "                Symptom_Cough_with_mucus                                0.1905  0.5155  0.2280  0.2423  0.3718  0.2379  0.3507  0.1066  0.3667\n",
      "                Symptom_Covid_toes                                      0.0523  0.3591  0.1367  0.0686  0.2346  0.0581  0.0895  0.0264  0.1852\n",
      "                Symptom_Dermatographia                                  0.0115  0.3121  0.0898  0.0262  0.1991  0.0275  0.0328  0.0074  0.0979\n",
      "                Symptom_Diarrhea                                        0.3411  0.8433  0.6118  0.4251  0.8135  0.4205  0.6869  0.1694  0.6430\n",
      "                Symptom_Difficulty_falling_asleep                       0.4968  0.7362  0.3991  0.0000  0.5420  0.3625  0.4821  0.0257  0.5200\n",
      "                Symptom_Difficulty_swallowing                           0.1148  0.7485  0.3575  0.1567  0.5485  0.1829  0.2911  0.0522  0.3929\n",
      "                Symptom_Dizziness_vertigo                               0.3994  0.9707  0.7081  0.4931  0.9246  0.6356  0.7779  0.1441  0.8747\n",
      "                Symptom_Dry_cough                                       0.5227  0.8214  0.5613  0.5827  0.7466  0.6121  0.7336  0.3713  0.7163\n",
      "                Symptom_Ear_changes_to_ear_canal                        0.0881  0.5971  0.2540  0.1181  0.4361  0.0986  0.1759  0.0285  0.2539\n",
      "                Symptom_Ear_ear_pain                                    0.0765  0.6853  0.2790  0.1308  0.5266  0.1258  0.2029  0.0196  0.3008\n",
      "                Symptom_Ear_sensitivity_to_noise                        0.1283  0.8525  0.2950  0.1527  0.5614  0.2945  0.2963  0.0463  0.5567\n",
      "                Symptom_Elevated_temp                                   0.3774  0.8325  0.5149  0.3981  0.7654  0.4227  0.7432  0.1171  0.6998\n",
      "                Symptom_Extreme_thirst                                  0.1590  0.7300  0.3788  0.1441  0.5404  0.1859  0.3500  0.0228  0.4637\n",
      "                Symptom_Eye_Vision_bloodshot_eyes                       0.0474  0.3868  0.1628  0.0612  0.3015  0.0621  0.1072  0.0068  0.1941\n",
      "                Symptom_Eye_Vision_blurred_vision                       0.1386  0.8659  0.3860  0.1226  0.6933  0.2761  0.2682  0.0283  0.5964\n",
      "                Symptom_Eye_Vision_double_vision                        0.0143  0.3230  0.0734  0.0176  0.1350  0.0446  0.0149  0.0054  0.1356\n",
      "                Symptom_Eye_Vision_dry_eyes                             0.1521  0.6891  0.3370  0.1212  0.5393  0.1570  0.2397  0.0442  0.3881\n",
      "                Symptom_Eye_Vision_eye_pressure_pain                    0.0899  0.7240  0.2437  0.0988  0.5549  0.1381  0.2095  0.0309  0.3597\n",
      "                Symptom_Eye_Vision_floaters                             0.0842  0.5916  0.1721  0.0695  0.4307  0.1140  0.1554  0.0175  0.2882\n",
      "                Symptom_Eye_Vision_other_eye_issues                     0.1456  0.5173  0.3143  0.1584  0.3882  0.2008  0.1791  0.0580  0.3257\n",
      "                Symptom_Eye_Vision_pink_eye                             0.0510  0.2987  0.1439  0.0683  0.2864  0.0823  0.0863  0.0381  0.1509\n",
      "                Symptom_Eye_Vision_redness_outside_eye                  0.0198  0.2945  0.0918  0.0336  0.2036  0.0371  0.0505  0.0103  0.0866\n",
      "                Symptom_Eye_Vision_seeing_things_peripheral_vision      0.0311  0.4703  0.0767  0.0327  0.2749  0.0644  0.0986  0.0028  0.2189\n",
      "                Symptom_Eye_Vision_sensitivity_to_light                 0.0834  0.8654  0.2213  0.1087  0.6140  0.2207  0.2553  0.0171  0.5118\n",
      "                Symptom_Eye_vision_symptoms                             0.1247  0.8429  0.3815  0.1268  0.6679  0.2490  0.2231  0.0109  0.5453\n",
      "                Symptom_Fainting                                        0.0529  0.3702  0.1212  0.0611  0.2140  0.0800  0.1066  0.0151  0.1725\n",
      "                Symptom_Fever                                           0.1633  0.5255  0.1980  0.2051  0.3749  0.2073  0.4988  0.0483  0.4171\n",
      "                Symptom_Gasping_air_normal_oxygen                       0.3777  0.8337  0.6019  0.4541  0.7448  0.4798  0.6639  0.1844  0.6946\n",
      "                Symptom_Gastrointestinal_abdominal_pain                 0.2068  0.8807  0.4641  0.2001  0.7266  0.2324  0.4975  0.0536  0.5264\n",
      "                Symptom_Gastrointestinal_feeling_full_quickly_eating    0.1724  0.6141  0.3371  0.1780  0.4993  0.1938  0.3623  0.0746  0.4088\n",
      "                Symptom_Gastrointestinal_hyperactive_bowel              0.1193  0.5401  0.2395  0.1093  0.4722  0.1289  0.2722  0.0406  0.2964\n",
      "                Symptom_Hallucinations_auditory                         0.0170  0.3120  0.0338  0.0179  0.1269  0.0409  0.0419  0.0107  0.0997\n",
      "                Symptom_Hallucinations_visual                           0.0247  0.3721  0.0512  0.0420  0.1622  0.0787  0.0745  0.0082  0.1602\n",
      "                Symptom_Headaches_after_mental_exertion                 0.0811  0.6808  0.1330  0.1134  0.4054  0.2270  0.3008  0.0206  0.4505\n",
      "                Symptom_Headaches_base_of_skull                         0.1097  0.6245  0.2890  0.1532  0.5203  0.1897  0.2976  0.0412  0.3690\n",
      "                Symptom_Headaches_behind_eyes                           0.2370  0.7518  0.3239  0.2876  0.6368  0.3133  0.4864  0.0862  0.5046\n",
      "                Symptom_Headaches_brain_pressure                        0.1169  0.7750  0.3036  0.1743  0.6102  0.2621  0.3187  0.0416  0.4766\n",
      "                Symptom_Headaches_brain_warmth                          0.0389  0.4021  0.1266  0.0430  0.2222  0.0606  0.0993  0.0143  0.1511\n",
      "                Symptom_Headaches_diffuse                               0.2292  0.6469  0.2588  0.2372  0.4491  0.3165  0.4170  0.0767  0.4362\n",
      "                Symptom_Headaches_migraines                             0.0988  0.5520  0.1692  0.1361  0.4149  0.2067  0.2925  0.0349  0.3081\n",
      "                Symptom_Headaches_other                                 0.0783  0.2634  0.1593  0.0927  0.1717  0.1213  0.1059  0.0453  0.1686\n",
      "                Symptom_Headaches_stiff_neck                            0.1883  0.8154  0.3622  0.2222  0.6636  0.2644  0.4730  0.0552  0.5688\n",
      "                Symptom_Headaches_temples                               0.2439  0.5941  0.2807  0.2525  0.5025  0.2509  0.4486  0.0802  0.4535\n",
      "                Symptom_Hearing_loss                                    0.0430  0.3355  0.0811  0.0443  0.1730  0.0602  0.0523  0.0187  0.1244\n",
      "                Symptom_Heart_palpitations                              0.4827  0.9053  0.7431  0.5518  0.8629  0.5275  0.7033  0.1931  0.8286\n",
      "                Symptom_Heat_intolerance                                0.1091  0.6818  0.2293  0.0969  0.4612  0.2104  0.2913  0.0314  0.4173\n",
      "                Symptom_Heightened_smell                                0.0262  0.3032  0.0529  0.0317  0.1437  0.0472  0.0724  0.0117  0.1054\n",
      "                Symptom_Inability_to_yawn                               0.0262  0.1575  0.0900  0.0201  0.1217  0.0222  0.0240  0.0180  0.0517\n",
      "                Symptom_Insomnia                                        1.0000  0.9683  0.7917  0.0000  0.8932  0.6683  0.8396  0.0967  0.7836\n",
      "                Symptom_Joint_pain                                      0.3128  0.9362  0.5535  0.3571  0.8518  0.4427  0.6146  0.1427  0.7055\n",
      "                Symptom_Loss_of_appetite                                0.3155  0.8180  0.5585  0.3421  0.7010  0.3683  0.6408  0.1364  0.5987\n",
      "                Symptom_Loss_of_smell                                   0.3292  0.5465  0.2099  0.3397  0.4402  0.3903  0.4831  0.3454  0.4561\n",
      "                Symptom_Loss_of_taste                                   0.2938  0.5521  0.1970  0.3011  0.4113  0.3298  0.4614  0.2991  0.4074\n",
      "                Symptom_Low_temp                                        0.0640  0.5221  0.2326  0.0855  0.3635  0.0881  0.1674  0.0085  0.2769\n",
      "                Symptom_Lucid_dreams                                    0.1056  0.3674  0.0974  0.0449  0.2850  0.1081  0.1829  0.0089  0.2242\n",
      "                Symptom_Memory_forget_tasks                             0.0219  0.4776  0.0479  0.0380  0.1112  0.1694  0.0819  0.0071  0.2768\n",
      "                Symptom_Memory_long                                     0.1877  0.8352  0.1758  0.2100  0.4752  0.6057  0.3588  0.0565  0.6957\n",
      "                Symptom_Memory_no_new_memories                          0.0241  0.3034  0.0151  0.0183  0.0724  0.1218  0.0405  0.0109  0.1754\n",
      "                Symptom_Memory_other                                    0.0601  0.1905  0.1247  0.0756  0.1360  0.1723  0.0608  0.0485  0.1827\n",
      "                Symptom_Memory_short                                    0.9096  0.9753  0.9008  0.9098  0.9249  0.9050  0.9186  0.9421  0.9491\n",
      "                Symptom_Merged_temperature_other_temp_issues            0.2153  0.6727  0.4982  0.2836  0.5369  0.3232  0.3860  0.0877  0.4967\n",
      "                Symptom_Muscle_aches                                    0.4521  0.9680  0.6933  0.5524  0.9084  0.6090  0.7779  0.2306  0.8261\n",
      "                Symptom_Muscle_spasms                                   0.1200  0.8325  0.4203  0.1254  0.6692  0.2026  0.2408  0.0346  0.4660\n",
      "                Symptom_Nausea                                          0.1944  0.8689  0.4796  0.2935  0.7684  0.3272  0.5782  0.0858  0.6064\n",
      "                Symptom_Neuralgia                                       0.0976  0.8189  0.4362  0.1278  0.6615  0.1520  0.2064  0.0249  0.4306\n",
      "                Symptom_New_allergies                                   0.0459  0.3081  0.1566  0.0417  0.2108  0.0579  0.0609  0.0129  0.1505\n",
      "                Symptom_Night_sweats                                    0.3201  0.7883  0.3896  0.0834  0.6629  0.2623  0.5318  0.0399  0.5265\n",
      "                Symptom_Nightmares                                      0.1476  0.5856  0.1772  0.0573  0.3898  0.1843  0.2859  0.0062  0.3490\n",
      "                Symptom_Other_ear_hearing_symptoms                      0.1033  0.4872  0.2697  0.1268  0.3380  0.1417  0.1444  0.0416  0.2635\n",
      "                Symptom_PEM                                             0.7966  0.9958  0.8870  0.8206  0.9575  0.9194  0.9375  0.5316  0.9703\n",
      "                Symptom_Pain_burning_chest                              0.2943  0.8250  0.5540  0.3699  0.7050  0.3270  0.5066  0.1436  0.5602\n",
      "                Symptom_Peeling_skin                                    0.0285  0.3865  0.1511  0.0587  0.2481  0.0583  0.0833  0.0124  0.1730\n",
      "                Symptom_Petechiae                                       0.0500  0.5101  0.1952  0.0749  0.3636  0.0668  0.1080  0.0161  0.1948\n",
      "                Symptom_Phantom_smell                                   0.1355  0.6407  0.1183  0.1155  0.4115  0.1767  0.2731  0.1229  0.3355\n",
      "                Symptom_Phantom_taste                                   0.0471  0.3806  0.0338  0.0432  0.1877  0.0499  0.0919  0.0510  0.1036\n",
      "                Symptom_Rattling_breath                                 0.0848  0.4414  0.1128  0.0860  0.2923  0.1210  0.2055  0.0417  0.2335\n",
      "                Symptom_Reproductive_abnormally_heavy_periods_clotting  0.0311  0.2307  0.0825  0.0396  0.1641  0.0451  0.1110  0.0138  0.1531\n",
      "                Symptom_Reproductive_abnormally_irregular_periods       0.0601  0.2841  0.1290  0.0520  0.1936  0.0682  0.1270  0.0240  0.1694\n",
      "                Symptom_Reproductive_all_menstrual_issues               0.0667  0.4240  0.2006  0.0909  0.3061  0.1037  0.1874  0.0438  0.2651\n",
      "                Symptom_Reproductive_other_menstrual_issues             0.0335  0.1870  0.1060  0.0706  0.1162  0.0752  0.0890  0.0385  0.1099\n",
      "                Symptom_Reproductive_other_urinary_issues               0.0587  0.4065  0.1879  0.0678  0.2761  0.0936  0.1197  0.0144  0.2060\n",
      "                Symptom_Reproductive_sexual_dysfunction                 0.0437  0.3049  0.0788  0.0466  0.1785  0.1119  0.0950  0.0248  0.1587\n",
      "                Symptom_Respiratory_other                               0.0547  0.1291  0.1218  0.0757  0.1010  0.0681  0.0791  0.0820  0.0867\n",
      "                Symptom_Restless_leg                                    0.1363  0.4738  0.1601  0.0249  0.3440  0.1321  0.1933  0.0103  0.2643\n",
      "                Symptom_Runny_nose                                      0.1942  0.6197  0.2369  0.2674  0.4730  0.2396  0.4043  0.1591  0.4006\n",
      "                Symptom_Sensations_coldness                             0.1327  0.7864  0.4398  0.1941  0.6598  0.2277  0.2826  0.0699  0.4695\n",
      "                Symptom_Sensations_electrical_zaps                      0.0862  0.7094  0.3813  0.0865  0.5014  0.1112  0.1056  0.0312  0.3584\n",
      "                Symptom_Sensations_facial_pressure_left                 0.0175  0.2875  0.1262  0.0216  0.1761  0.0386  0.0202  0.0000  0.0919\n",
      "                Symptom_Sensations_facial_pressure_other                0.0121  0.1724  0.0836  0.0263  0.1304  0.0357  0.0445  0.0025  0.0690\n",
      "                Symptom_Sensations_facial_pressure_right                0.0151  0.2645  0.0966  0.0224  0.1688  0.0282  0.0164  0.0051  0.0686\n",
      "                Symptom_Sensations_numbness_loss_sensation              0.1777  0.8188  0.4975  0.1710  0.6664  0.2069  0.2747  0.0692  0.4740\n",
      "                Symptom_Sensations_numbness_one_sided_weakness          0.0407  0.3844  0.1871  0.0448  0.2762  0.0511  0.0594  0.0103  0.1723\n",
      "                Symptom_Sensations_skin_burning_no_rash                 0.2170  0.9225  0.6423  0.2357  0.8061  0.2786  0.3575  0.1094  0.6223\n",
      "                Symptom_Sensations_tingling_prickling                   0.2488  0.8887  0.6903  0.3259  0.7789  0.3044  0.3886  0.1137  0.6306\n",
      "                Symptom_Sensations_weakness                             0.2642  0.8404  0.5028  0.3013  0.6916  0.4004  0.4241  0.1155  0.6143\n",
      "                Symptom_Shortness_of_breath                             0.5993  0.9338  0.7138  0.6662  0.8458  0.7102  0.8543  0.3652  0.8392\n",
      "                Symptom_SkinAllergy_brittle_nail                        0.0328  0.3946  0.1024  0.0424  0.2336  0.0615  0.0616  0.0149  0.1288\n",
      "                Symptom_SkinAllergy_heighted_reaction_allergies         0.0611  0.3448  0.1333  0.0636  0.2196  0.0788  0.1019  0.0138  0.1473\n",
      "                Symptom_SkinAllergy_itchy_eyes                          0.0885  0.7255  0.2525  0.1044  0.5031  0.1038  0.1997  0.0341  0.3232\n",
      "                Symptom_SkinAllergy_itchy_skin                          0.1600  0.7769  0.3509  0.1188  0.6033  0.1853  0.2557  0.0633  0.4425\n",
      "                Symptom_SkinAllergy_other_itchy                         0.0218  0.1462  0.0782  0.0404  0.0921  0.0430  0.0453  0.0091  0.0614\n",
      "                Symptom_Skin_Allergy_other                              0.0386  0.1639  0.1330  0.0604  0.1255  0.0677  0.0948  0.0234  0.1370\n",
      "                Symptom_Skin_rashes                                     0.1139  0.6392  0.3374  0.1377  0.4469  0.1581  0.2139  0.0588  0.3408\n",
      "                Symptom_Sleep_apnea                                     0.1048  0.3080  0.1335  0.0089  0.1903  0.0957  0.1189  0.0396  0.1632\n",
      "                Symptom_Sleep_other                                     0.4157  0.8244  0.5419  0.2766  0.6147  0.4832  0.6310  0.1643  0.7023\n",
      "                Symptom_Slurring_words                                  0.0118  0.6231  0.0790  0.0303  0.1997  0.2057  0.0467  0.0000  0.3286\n",
      "                Symptom_Sneezing                                        0.1458  0.6422  0.1857  0.1807  0.4394  0.1842  0.3384  0.0711  0.3354\n",
      "                Symptom_Sore_throat                                     0.3829  0.8628  0.5831  0.4505  0.7232  0.4421  0.6510  0.1814  0.6550\n",
      "                Symptom_Speech_changes_to_secondary_languages           0.0044  0.1630  0.0193  0.0087  0.0135  0.1213  0.0000  0.0054  0.1320\n",
      "                Symptom_Speech_difficulty_communicating_verbally        0.0168  0.8488  0.0998  0.0583  0.1174  0.6280  0.0327  0.0219  0.7383\n",
      "                Symptom_Speech_difficulty_communicating_writing         0.0000  0.6177  0.0316  0.0040  0.0574  0.2852  0.0097  0.0136  0.4256\n",
      "                Symptom_Speech_difficulty_finding_words                 0.0918  0.9781  0.3227  0.1652  0.3809  0.9392  0.1502  0.0836  0.9861\n",
      "                Symptom_Speech_difficulty_reading_processing_text       0.0067  0.8150  0.0600  0.0181  0.1102  0.4881  0.0191  0.0093  0.6627\n",
      "                Symptom_Speech_difficulty_speaking_complete_sentences   0.0028  0.7391  0.0540  0.0163  0.0959  0.4643  0.0147  0.0077  0.5839\n",
      "                Symptom_Speech_difficulty_understanding_others_speech   0.0059  0.8136  0.0465  0.0181  0.1087  0.4781  0.0170  0.0053  0.6856\n",
      "                Symptom_Speech_speaking_unrecognizable_words            0.0039  0.3719  0.0145  0.0072  0.0485  0.1237  0.0048  0.0076  0.2474\n",
      "                Symptom_Tachycardia                                     0.4210  0.9064  0.7100  0.4490  0.8002  0.4903  0.6113  0.1503  0.7276\n",
      "                Symptom_Temp_lability                                   0.2415  0.6633  0.2929  0.2544  0.5302  0.2801  0.5396  0.0888  0.4927\n",
      "                Symptom_Tightness_of_chest                              0.5316  0.9179  0.7350  0.6066  0.8421  0.5476  0.7860  0.3056  0.7867\n",
      "                Symptom_Tinnitus                                        0.1869  0.7867  0.3904  0.1743  0.5715  0.2342  0.2876  0.0481  0.4490\n",
      "                Symptom_Tremors                                         0.2152  0.8365  0.5680  0.2003  0.7156  0.2536  0.3087  0.0768  0.5274\n",
      "                Symptom_Vibrating_sensations                            0.2035  0.8306  0.5934  0.2479  0.7045  0.2211  0.3186  0.0757  0.5523\n",
      "                Symptom_Vivid_dreams                                    0.2513  0.6431  0.2436  0.0859  0.4649  0.2668  0.4190  0.0221  0.4512\n",
      "                Symptom_Vomiting                                        0.0481  0.3603  0.1226  0.0767  0.2737  0.0939  0.1996  0.0096  0.1976\n",
      "                Symptom_Waking_up_early                                 0.3081  0.4739  0.2608  0.0000  0.3289  0.2094  0.2647  0.0107  0.3155\n",
      "                Symptom_Waking_up_in_night                              0.6389  0.7799  0.5126  0.0000  0.6673  0.4267  0.6057  0.0209  0.5793\n",
      "    ============================================================================\n",
      "    Class weights\n",
      "    ============================================================================\n",
      "        Class 1 : 0.13\n",
      "        Class 2 : 0.08\n",
      "        Class 3 : 0.11\n",
      "        Class 4 : 0.12\n",
      "        Class 5 : 0.09\n",
      "        Class 6 : 0.13\n",
      "        Class 7 : 0.12\n",
      "        Class 8 : 0.06\n",
      "        Class 9 : 0.17\n",
      "    ============================================================================\n",
      "    Fit for 9 latent classes\n",
      "    ============================================================================\n",
      "    Estimation method             : 1-step\n",
      "    Number of observations        : 6031\n",
      "    Number of latent classes      : 9\n",
      "    Number of estimated parameters: 1331\n",
      "    Log-likelihood (LL)           : -410120.2468\n",
      "    -2LL                          : 820240.4936\n",
      "    Average LL                    : -68.0020\n",
      "    AIC                           : 822902.49\n",
      "    BIC                           : 831826.41\n",
      "    CAIC                          : 833157.41\n",
      "    Sample-Size Adjusted BIC      : 839182.77\n",
      "    Entropy                       : 1166.5488\n",
      "    Scaled Relative Entropy       : 0.9120\n"
     ]
    },
    {
     "name": "stderr",
     "output_type": "stream",
     "text": [
      "\n",
      "/Users/tessa/miniforge3/envs/stepmix/lib/python3.12/site-packages/stepmix/stepmix.py:1173: FutureWarning: The provided callable <function mean at 0x10a0daf20> is currently using DataFrameGroupBy.mean. In a future version of pandas, the provided callable will be used directly. To keep current behavior pass the string \"mean\" instead.\n",
      "  return pd.pivot_table(\n"
     ]
    }
   ],
   "source": [
    "model = StepMix(n_components=9, measurement=\"binary\", verbose=1, random_state=123)\n",
    "model.fit(sympdf)\n",
    "\n",
    "# save model using pkl\n",
    "with open('output/stepmix_9_111023.pkl', 'wb') as f:\n",
    "    pkl.dump(model, f)\n",
    "\n",
    "df['cluster_9'] = model.predict(sympdf)\n",
    "df['cluster_9'].to_csv(\"output/cluster_9_111023.csv\")\n",
    "\n",
    "mm = model.get_mm_df()\n",
    "mm = mm.reset_index()\n",
    "mm  = mm.drop(\"model_name\",axis=1)\n",
    "mm  = mm.drop(\"param\",axis=1)\n",
    "mm.index=mm['variable']\n",
    "mm = mm.drop(\"variable\", axis=1)\n",
    "\n",
    "mm.to_csv(\"output/stepmix_9_111023_mmdf.csv\")"
   ]
  },
  {
   "cell_type": "code",
   "execution_count": 214,
   "metadata": {},
   "outputs": [
    {
     "name": "stdout",
     "output_type": "stream",
     "text": [
      "variable\n",
      "Symptom_Insomnia                       0.369825\n",
      "Symptom_Waking_up_in_night             0.189877\n",
      "Symptom_Difficulty_falling_asleep      0.113352\n",
      "Symptom_Waking_up_early                0.075175\n",
      "Symptom_Memory_short                  -0.018539\n",
      "Symptom_Sleep_apnea                   -0.027429\n",
      "Symptom_Cognitive_Functioning_other   -0.030966\n",
      "Symptom_Inability_to_yawn             -0.036932\n",
      "Symptom_Respiratory_other             -0.038293\n",
      "Symptom_SkinAllergy_other_itchy       -0.042657\n",
      "dtype: float64\n",
      "variable\n",
      "Symptom_Speech_difficulty_reading_processing_text        0.643237\n",
      "Symptom_Speech_difficulty_understanding_others_speech    0.642975\n",
      "Symptom_Speech_difficulty_communicating_verbally         0.634672\n",
      "Symptom_Eye_Vision_sensitivity_to_light                  0.611330\n",
      "Symptom_Speech_difficulty_finding_words                  0.588105\n",
      "Symptom_Speech_difficulty_speaking_complete_sentences    0.584164\n",
      "Symptom_Ear_sensitivity_to_noise                         0.561123\n",
      "Symptom_Eye_Vision_blurred_vision                        0.552239\n",
      "Symptom_Neuralgia                                        0.551800\n",
      "Symptom_Eye_vision_symptoms                              0.551733\n",
      "dtype: float64\n",
      "variable\n",
      "Symptom_Sensations_tingling_prickling           0.230412\n",
      "Symptom_Vibrating_sensations                    0.199057\n",
      "Symptom_Sensations_skin_burning_no_rash         0.198651\n",
      "Symptom_Tremors                                 0.176267\n",
      "Symptom_Tachycardia                             0.140429\n",
      "Symptom_Sensations_numbness_loss_sensation      0.140119\n",
      "Symptom_Insomnia                                0.135500\n",
      "Symptom_Sensations_electrical_zaps              0.132591\n",
      "Symptom_Bulging_veins                           0.130681\n",
      "Symptom_Merged_temperature_other_temp_issues    0.122906\n",
      "dtype: float64\n",
      "variable\n",
      "Symptom_Respiratory_other                     -0.014618\n",
      "Symptom_Memory_short                          -0.018368\n",
      "Symptom_SkinAllergy_other_itchy               -0.021790\n",
      "Symptom_Reproductive_other_menstrual_issues   -0.023776\n",
      "Symptom_Cognitive_Functioning_other           -0.034641\n",
      "Symptom_Skin_Allergy_other                    -0.037583\n",
      "Symptom_Sensations_facial_pressure_other      -0.042506\n",
      "Symptom_Inability_to_yawn                     -0.043798\n",
      "Symptom_Memory_other                          -0.046365\n",
      "Symptom_Headaches_other                       -0.046485\n",
      "dtype: float64\n",
      "variable\n",
      "Symptom_Sensations_skin_burning_no_rash    0.382894\n",
      "Symptom_Neuralgia                          0.374683\n",
      "Symptom_Muscle_spasms                      0.363896\n",
      "Symptom_Eye_Vision_blurred_vision          0.358083\n",
      "Symptom_Eye_vision_symptoms                0.354933\n",
      "Symptom_Gastrointestinal_abdominal_pain    0.343889\n",
      "Symptom_Joint_pain                         0.343651\n",
      "Symptom_Tremors                            0.342284\n",
      "Symptom_Nausea                             0.339143\n",
      "Symptom_Sensations_coldness                0.334502\n",
      "dtype: float64\n",
      "variable\n",
      "Symptom_Speech_difficulty_finding_words                  0.544388\n",
      "Symptom_Speech_difficulty_communicating_verbally         0.386204\n",
      "Symptom_Cognitive_Functioning_executive                  0.296389\n",
      "Symptom_Cognitive_Functioning_thinking                   0.290835\n",
      "Symptom_Speech_difficulty_reading_processing_text        0.275479\n",
      "Symptom_Speech_difficulty_speaking_complete_sentences    0.274945\n",
      "Symptom_Speech_difficulty_understanding_others_speech    0.265536\n",
      "Symptom_Cognitive_Functioning_problemsolving             0.250803\n",
      "Symptom_Memory_long                                      0.231361\n",
      "Symptom_Cognitive_Functioning_attentionconcentration     0.209091\n",
      "dtype: float64\n",
      "variable\n",
      "Symptom_Fever                     0.231388\n",
      "Symptom_Elevated_temp             0.227245\n",
      "Symptom_Insomnia                  0.189383\n",
      "Symptom_Temp_lability             0.184121\n",
      "Symptom_Chills_flushing_sweats    0.167754\n",
      "Symptom_Loss_of_appetite          0.160969\n",
      "Symptom_Diarrhea                  0.153426\n",
      "Symptom_Waking_up_in_night        0.152503\n",
      "Symptom_Night_sweats              0.147653\n",
      "Symptom_Shortness_of_breath       0.145084\n",
      "dtype: float64\n",
      "variable\n",
      "Symptom_Memory_short                             0.017956\n",
      "Symptom_Respiratory_other                       -0.007556\n",
      "Symptom_Inability_to_yawn                       -0.046172\n",
      "Symptom_Speech_changes_to_secondary_languages   -0.052376\n",
      "Symptom_Loss_of_smell                           -0.053992\n",
      "Symptom_SkinAllergy_other_itchy                 -0.056934\n",
      "Symptom_Reproductive_other_menstrual_issues     -0.059960\n",
      "Symptom_Cognitive_Functioning_other             -0.060601\n",
      "Symptom_Altered_smell                           -0.060791\n",
      "Symptom_Phantom_taste                           -0.066275\n",
      "dtype: float64\n",
      "variable\n",
      "Symptom_Speech_difficulty_finding_words                  0.597130\n",
      "Symptom_Speech_difficulty_communicating_verbally         0.510374\n",
      "Symptom_Speech_difficulty_understanding_others_speech    0.498986\n",
      "Symptom_Speech_difficulty_reading_processing_text        0.471848\n",
      "Symptom_Speech_difficulty_speaking_complete_sentences    0.409571\n",
      "Symptom_Cognitive_Functioning_problemsolving             0.363180\n",
      "Symptom_Cognitive_Functioning_executive                  0.353767\n",
      "Symptom_Memory_long                                      0.332626\n",
      "Symptom_Cognitive_Functioning_thinking                   0.321715\n",
      "Symptom_Speech_difficulty_communicating_writing          0.298207\n",
      "dtype: float64\n"
     ]
    }
   ],
   "source": [
    "edges = [] \n",
    "symp_unusual = pd.DataFrame()\n",
    "comp_list = list(range(0,9))\n",
    "for component in comp_list:\n",
    "    edges +=investigate_comp(component, mm).sort_values(ascending=False).head(10).index.tolist()\n",
    "    symp_unusual[component] = investigate_comp(component, mm)\n",
    "    print(investigate_comp(component, mm).sort_values(ascending=False).head(10))"
   ]
  },
  {
   "cell_type": "code",
   "execution_count": 215,
   "metadata": {},
   "outputs": [],
   "source": [
    "symp_unusual.to_csv(\"output/stepmix_9_111023_symp_unusual.csv\")"
   ]
  },
  {
   "cell_type": "code",
   "execution_count": 217,
   "metadata": {},
   "outputs": [
    {
     "data": {
      "text/html": [
       "<div>\n",
       "<style scoped>\n",
       "    .dataframe tbody tr th:only-of-type {\n",
       "        vertical-align: middle;\n",
       "    }\n",
       "\n",
       "    .dataframe tbody tr th {\n",
       "        vertical-align: top;\n",
       "    }\n",
       "\n",
       "    .dataframe thead th {\n",
       "        text-align: right;\n",
       "    }\n",
       "</style>\n",
       "<table border=\"1\" class=\"dataframe\">\n",
       "  <thead>\n",
       "    <tr style=\"text-align: right;\">\n",
       "      <th></th>\n",
       "      <th>Symptom_Memory_short</th>\n",
       "      <th>Symptom_Memory_long</th>\n",
       "      <th>Symptom_Memory_no_new_memories</th>\n",
       "      <th>Symptom_Memory_forget_tasks</th>\n",
       "      <th>Symptom_Memory_other</th>\n",
       "      <th>Symptom_Cognitive_Functioning_thinking</th>\n",
       "      <th>Symptom_Cognitive_Functioning_executive</th>\n",
       "      <th>Symptom_Cognitive_Functioning_problemsolving</th>\n",
       "      <th>Symptom_Cognitive_Functioning_slowedthoughts</th>\n",
       "      <th>Symptom_Cognitive_Functioning_fastthoughts</th>\n",
       "      <th>...</th>\n",
       "      <th>Symptom_Gastrointestinal_abdominal_pain</th>\n",
       "      <th>Symptom_Gastrointestinal_hyperactive_bowel</th>\n",
       "      <th>Symptom_SkinAllergy_itchy_skin</th>\n",
       "      <th>Symptom_SkinAllergy_itchy_eyes</th>\n",
       "      <th>Symptom_SkinAllergy_heighted_reaction_allergies</th>\n",
       "      <th>Symptom_SkinAllergy_brittle_nail</th>\n",
       "      <th>Symptom_SkinAllergy_other_itchy</th>\n",
       "      <th>Symptom_PEM</th>\n",
       "      <th>Symptom_Change_sensitivity_to_meds</th>\n",
       "      <th>Symptom_New_allergies</th>\n",
       "    </tr>\n",
       "  </thead>\n",
       "  <tbody>\n",
       "    <tr>\n",
       "      <th>3</th>\n",
       "      <td>1.0</td>\n",
       "      <td>0.0</td>\n",
       "      <td>0.0</td>\n",
       "      <td>0.0</td>\n",
       "      <td>0.0</td>\n",
       "      <td>1.0</td>\n",
       "      <td>0.0</td>\n",
       "      <td>1.0</td>\n",
       "      <td>1.0</td>\n",
       "      <td>0.0</td>\n",
       "      <td>...</td>\n",
       "      <td>0</td>\n",
       "      <td>0</td>\n",
       "      <td>0</td>\n",
       "      <td>0</td>\n",
       "      <td>0</td>\n",
       "      <td>0</td>\n",
       "      <td>0</td>\n",
       "      <td>1</td>\n",
       "      <td>0</td>\n",
       "      <td>1</td>\n",
       "    </tr>\n",
       "    <tr>\n",
       "      <th>5</th>\n",
       "      <td>1.0</td>\n",
       "      <td>1.0</td>\n",
       "      <td>1.0</td>\n",
       "      <td>1.0</td>\n",
       "      <td>0.0</td>\n",
       "      <td>1.0</td>\n",
       "      <td>1.0</td>\n",
       "      <td>1.0</td>\n",
       "      <td>1.0</td>\n",
       "      <td>0.0</td>\n",
       "      <td>...</td>\n",
       "      <td>0</td>\n",
       "      <td>0</td>\n",
       "      <td>0</td>\n",
       "      <td>0</td>\n",
       "      <td>0</td>\n",
       "      <td>1</td>\n",
       "      <td>0</td>\n",
       "      <td>1</td>\n",
       "      <td>0</td>\n",
       "      <td>0</td>\n",
       "    </tr>\n",
       "    <tr>\n",
       "      <th>6</th>\n",
       "      <td>1.0</td>\n",
       "      <td>0.0</td>\n",
       "      <td>0.0</td>\n",
       "      <td>0.0</td>\n",
       "      <td>0.0</td>\n",
       "      <td>1.0</td>\n",
       "      <td>0.0</td>\n",
       "      <td>1.0</td>\n",
       "      <td>1.0</td>\n",
       "      <td>0.0</td>\n",
       "      <td>...</td>\n",
       "      <td>0</td>\n",
       "      <td>0</td>\n",
       "      <td>0</td>\n",
       "      <td>0</td>\n",
       "      <td>0</td>\n",
       "      <td>0</td>\n",
       "      <td>0</td>\n",
       "      <td>1</td>\n",
       "      <td>0</td>\n",
       "      <td>0</td>\n",
       "    </tr>\n",
       "    <tr>\n",
       "      <th>8</th>\n",
       "      <td>1.0</td>\n",
       "      <td>0.0</td>\n",
       "      <td>0.0</td>\n",
       "      <td>1.0</td>\n",
       "      <td>0.0</td>\n",
       "      <td>0.0</td>\n",
       "      <td>1.0</td>\n",
       "      <td>1.0</td>\n",
       "      <td>1.0</td>\n",
       "      <td>0.0</td>\n",
       "      <td>...</td>\n",
       "      <td>1</td>\n",
       "      <td>0</td>\n",
       "      <td>0</td>\n",
       "      <td>0</td>\n",
       "      <td>0</td>\n",
       "      <td>0</td>\n",
       "      <td>0</td>\n",
       "      <td>1</td>\n",
       "      <td>0</td>\n",
       "      <td>0</td>\n",
       "    </tr>\n",
       "    <tr>\n",
       "      <th>9</th>\n",
       "      <td>1.0</td>\n",
       "      <td>0.0</td>\n",
       "      <td>0.0</td>\n",
       "      <td>0.0</td>\n",
       "      <td>0.0</td>\n",
       "      <td>0.0</td>\n",
       "      <td>0.0</td>\n",
       "      <td>0.0</td>\n",
       "      <td>1.0</td>\n",
       "      <td>0.0</td>\n",
       "      <td>...</td>\n",
       "      <td>0</td>\n",
       "      <td>0</td>\n",
       "      <td>1</td>\n",
       "      <td>1</td>\n",
       "      <td>0</td>\n",
       "      <td>0</td>\n",
       "      <td>0</td>\n",
       "      <td>1</td>\n",
       "      <td>0</td>\n",
       "      <td>0</td>\n",
       "    </tr>\n",
       "    <tr>\n",
       "      <th>...</th>\n",
       "      <td>...</td>\n",
       "      <td>...</td>\n",
       "      <td>...</td>\n",
       "      <td>...</td>\n",
       "      <td>...</td>\n",
       "      <td>...</td>\n",
       "      <td>...</td>\n",
       "      <td>...</td>\n",
       "      <td>...</td>\n",
       "      <td>...</td>\n",
       "      <td>...</td>\n",
       "      <td>...</td>\n",
       "      <td>...</td>\n",
       "      <td>...</td>\n",
       "      <td>...</td>\n",
       "      <td>...</td>\n",
       "      <td>...</td>\n",
       "      <td>...</td>\n",
       "      <td>...</td>\n",
       "      <td>...</td>\n",
       "      <td>...</td>\n",
       "    </tr>\n",
       "    <tr>\n",
       "      <th>14158</th>\n",
       "      <td>1.0</td>\n",
       "      <td>1.0</td>\n",
       "      <td>0.0</td>\n",
       "      <td>0.0</td>\n",
       "      <td>0.0</td>\n",
       "      <td>1.0</td>\n",
       "      <td>1.0</td>\n",
       "      <td>1.0</td>\n",
       "      <td>1.0</td>\n",
       "      <td>0.0</td>\n",
       "      <td>...</td>\n",
       "      <td>0</td>\n",
       "      <td>0</td>\n",
       "      <td>1</td>\n",
       "      <td>1</td>\n",
       "      <td>0</td>\n",
       "      <td>1</td>\n",
       "      <td>0</td>\n",
       "      <td>1</td>\n",
       "      <td>1</td>\n",
       "      <td>0</td>\n",
       "    </tr>\n",
       "    <tr>\n",
       "      <th>14161</th>\n",
       "      <td>1.0</td>\n",
       "      <td>1.0</td>\n",
       "      <td>0.0</td>\n",
       "      <td>1.0</td>\n",
       "      <td>0.0</td>\n",
       "      <td>1.0</td>\n",
       "      <td>1.0</td>\n",
       "      <td>1.0</td>\n",
       "      <td>1.0</td>\n",
       "      <td>0.0</td>\n",
       "      <td>...</td>\n",
       "      <td>0</td>\n",
       "      <td>0</td>\n",
       "      <td>1</td>\n",
       "      <td>0</td>\n",
       "      <td>0</td>\n",
       "      <td>0</td>\n",
       "      <td>0</td>\n",
       "      <td>1</td>\n",
       "      <td>0</td>\n",
       "      <td>0</td>\n",
       "    </tr>\n",
       "    <tr>\n",
       "      <th>14163</th>\n",
       "      <td>1.0</td>\n",
       "      <td>1.0</td>\n",
       "      <td>1.0</td>\n",
       "      <td>0.0</td>\n",
       "      <td>0.0</td>\n",
       "      <td>1.0</td>\n",
       "      <td>1.0</td>\n",
       "      <td>1.0</td>\n",
       "      <td>0.0</td>\n",
       "      <td>0.0</td>\n",
       "      <td>...</td>\n",
       "      <td>1</td>\n",
       "      <td>0</td>\n",
       "      <td>0</td>\n",
       "      <td>0</td>\n",
       "      <td>0</td>\n",
       "      <td>0</td>\n",
       "      <td>0</td>\n",
       "      <td>1</td>\n",
       "      <td>1</td>\n",
       "      <td>0</td>\n",
       "    </tr>\n",
       "    <tr>\n",
       "      <th>14166</th>\n",
       "      <td>1.0</td>\n",
       "      <td>0.0</td>\n",
       "      <td>0.0</td>\n",
       "      <td>0.0</td>\n",
       "      <td>0.0</td>\n",
       "      <td>0.0</td>\n",
       "      <td>1.0</td>\n",
       "      <td>0.0</td>\n",
       "      <td>0.0</td>\n",
       "      <td>0.0</td>\n",
       "      <td>...</td>\n",
       "      <td>0</td>\n",
       "      <td>0</td>\n",
       "      <td>0</td>\n",
       "      <td>0</td>\n",
       "      <td>0</td>\n",
       "      <td>0</td>\n",
       "      <td>0</td>\n",
       "      <td>0</td>\n",
       "      <td>0</td>\n",
       "      <td>0</td>\n",
       "    </tr>\n",
       "    <tr>\n",
       "      <th>14168</th>\n",
       "      <td>1.0</td>\n",
       "      <td>1.0</td>\n",
       "      <td>0.0</td>\n",
       "      <td>1.0</td>\n",
       "      <td>0.0</td>\n",
       "      <td>1.0</td>\n",
       "      <td>1.0</td>\n",
       "      <td>1.0</td>\n",
       "      <td>1.0</td>\n",
       "      <td>1.0</td>\n",
       "      <td>...</td>\n",
       "      <td>0</td>\n",
       "      <td>0</td>\n",
       "      <td>0</td>\n",
       "      <td>0</td>\n",
       "      <td>0</td>\n",
       "      <td>0</td>\n",
       "      <td>0</td>\n",
       "      <td>1</td>\n",
       "      <td>0</td>\n",
       "      <td>0</td>\n",
       "    </tr>\n",
       "  </tbody>\n",
       "</table>\n",
       "<p>6031 rows × 147 columns</p>\n",
       "</div>"
      ],
      "text/plain": [
       "       Symptom_Memory_short  Symptom_Memory_long  \\\n",
       "3                       1.0                  0.0   \n",
       "5                       1.0                  1.0   \n",
       "6                       1.0                  0.0   \n",
       "8                       1.0                  0.0   \n",
       "9                       1.0                  0.0   \n",
       "...                     ...                  ...   \n",
       "14158                   1.0                  1.0   \n",
       "14161                   1.0                  1.0   \n",
       "14163                   1.0                  1.0   \n",
       "14166                   1.0                  0.0   \n",
       "14168                   1.0                  1.0   \n",
       "\n",
       "       Symptom_Memory_no_new_memories  Symptom_Memory_forget_tasks  \\\n",
       "3                                 0.0                          0.0   \n",
       "5                                 1.0                          1.0   \n",
       "6                                 0.0                          0.0   \n",
       "8                                 0.0                          1.0   \n",
       "9                                 0.0                          0.0   \n",
       "...                               ...                          ...   \n",
       "14158                             0.0                          0.0   \n",
       "14161                             0.0                          1.0   \n",
       "14163                             1.0                          0.0   \n",
       "14166                             0.0                          0.0   \n",
       "14168                             0.0                          1.0   \n",
       "\n",
       "       Symptom_Memory_other  Symptom_Cognitive_Functioning_thinking  \\\n",
       "3                       0.0                                     1.0   \n",
       "5                       0.0                                     1.0   \n",
       "6                       0.0                                     1.0   \n",
       "8                       0.0                                     0.0   \n",
       "9                       0.0                                     0.0   \n",
       "...                     ...                                     ...   \n",
       "14158                   0.0                                     1.0   \n",
       "14161                   0.0                                     1.0   \n",
       "14163                   0.0                                     1.0   \n",
       "14166                   0.0                                     0.0   \n",
       "14168                   0.0                                     1.0   \n",
       "\n",
       "       Symptom_Cognitive_Functioning_executive  \\\n",
       "3                                          0.0   \n",
       "5                                          1.0   \n",
       "6                                          0.0   \n",
       "8                                          1.0   \n",
       "9                                          0.0   \n",
       "...                                        ...   \n",
       "14158                                      1.0   \n",
       "14161                                      1.0   \n",
       "14163                                      1.0   \n",
       "14166                                      1.0   \n",
       "14168                                      1.0   \n",
       "\n",
       "       Symptom_Cognitive_Functioning_problemsolving  \\\n",
       "3                                               1.0   \n",
       "5                                               1.0   \n",
       "6                                               1.0   \n",
       "8                                               1.0   \n",
       "9                                               0.0   \n",
       "...                                             ...   \n",
       "14158                                           1.0   \n",
       "14161                                           1.0   \n",
       "14163                                           1.0   \n",
       "14166                                           0.0   \n",
       "14168                                           1.0   \n",
       "\n",
       "       Symptom_Cognitive_Functioning_slowedthoughts  \\\n",
       "3                                               1.0   \n",
       "5                                               1.0   \n",
       "6                                               1.0   \n",
       "8                                               1.0   \n",
       "9                                               1.0   \n",
       "...                                             ...   \n",
       "14158                                           1.0   \n",
       "14161                                           1.0   \n",
       "14163                                           0.0   \n",
       "14166                                           0.0   \n",
       "14168                                           1.0   \n",
       "\n",
       "       Symptom_Cognitive_Functioning_fastthoughts  ...  \\\n",
       "3                                             0.0  ...   \n",
       "5                                             0.0  ...   \n",
       "6                                             0.0  ...   \n",
       "8                                             0.0  ...   \n",
       "9                                             0.0  ...   \n",
       "...                                           ...  ...   \n",
       "14158                                         0.0  ...   \n",
       "14161                                         0.0  ...   \n",
       "14163                                         0.0  ...   \n",
       "14166                                         0.0  ...   \n",
       "14168                                         1.0  ...   \n",
       "\n",
       "       Symptom_Gastrointestinal_abdominal_pain  \\\n",
       "3                                            0   \n",
       "5                                            0   \n",
       "6                                            0   \n",
       "8                                            1   \n",
       "9                                            0   \n",
       "...                                        ...   \n",
       "14158                                        0   \n",
       "14161                                        0   \n",
       "14163                                        1   \n",
       "14166                                        0   \n",
       "14168                                        0   \n",
       "\n",
       "       Symptom_Gastrointestinal_hyperactive_bowel  \\\n",
       "3                                               0   \n",
       "5                                               0   \n",
       "6                                               0   \n",
       "8                                               0   \n",
       "9                                               0   \n",
       "...                                           ...   \n",
       "14158                                           0   \n",
       "14161                                           0   \n",
       "14163                                           0   \n",
       "14166                                           0   \n",
       "14168                                           0   \n",
       "\n",
       "       Symptom_SkinAllergy_itchy_skin  Symptom_SkinAllergy_itchy_eyes  \\\n",
       "3                                   0                               0   \n",
       "5                                   0                               0   \n",
       "6                                   0                               0   \n",
       "8                                   0                               0   \n",
       "9                                   1                               1   \n",
       "...                               ...                             ...   \n",
       "14158                               1                               1   \n",
       "14161                               1                               0   \n",
       "14163                               0                               0   \n",
       "14166                               0                               0   \n",
       "14168                               0                               0   \n",
       "\n",
       "       Symptom_SkinAllergy_heighted_reaction_allergies  \\\n",
       "3                                                    0   \n",
       "5                                                    0   \n",
       "6                                                    0   \n",
       "8                                                    0   \n",
       "9                                                    0   \n",
       "...                                                ...   \n",
       "14158                                                0   \n",
       "14161                                                0   \n",
       "14163                                                0   \n",
       "14166                                                0   \n",
       "14168                                                0   \n",
       "\n",
       "       Symptom_SkinAllergy_brittle_nail  Symptom_SkinAllergy_other_itchy  \\\n",
       "3                                     0                                0   \n",
       "5                                     1                                0   \n",
       "6                                     0                                0   \n",
       "8                                     0                                0   \n",
       "9                                     0                                0   \n",
       "...                                 ...                              ...   \n",
       "14158                                 1                                0   \n",
       "14161                                 0                                0   \n",
       "14163                                 0                                0   \n",
       "14166                                 0                                0   \n",
       "14168                                 0                                0   \n",
       "\n",
       "       Symptom_PEM  Symptom_Change_sensitivity_to_meds  Symptom_New_allergies  \n",
       "3                1                                   0                      1  \n",
       "5                1                                   0                      0  \n",
       "6                1                                   0                      0  \n",
       "8                1                                   0                      0  \n",
       "9                1                                   0                      0  \n",
       "...            ...                                 ...                    ...  \n",
       "14158            1                                   1                      0  \n",
       "14161            1                                   0                      0  \n",
       "14163            1                                   1                      0  \n",
       "14166            0                                   0                      0  \n",
       "14168            1                                   0                      0  \n",
       "\n",
       "[6031 rows x 147 columns]"
      ]
     },
     "execution_count": 217,
     "metadata": {},
     "output_type": "execute_result"
    }
   ],
   "source": [
    "sympdf"
   ]
  },
  {
   "cell_type": "code",
   "execution_count": 220,
   "metadata": {},
   "outputs": [
    {
     "name": "stdout",
     "output_type": "stream",
     "text": [
      "Fitting StepMix...\n"
     ]
    },
    {
     "name": "stderr",
     "output_type": "stream",
     "text": [
      "Initializations (n_init) : 100%|██████████| 1/1 [00:02<00:00,  2.27s/it, max_LL=-4.08e+5, max_avg_LL=-67.6]"
     ]
    },
    {
     "name": "stdout",
     "output_type": "stream",
     "text": [
      "================================================================================\n",
      "MODEL REPORT\n",
      "================================================================================\n",
      "    ============================================================================\n",
      "    Measurement model parameters\n",
      "    ============================================================================\n",
      "          model_name                                                    binary                                                                                        \n",
      "          class_no                                                          0       1       2       3       4       5       6       7       8       9       10      11\n",
      "          param variable                                                                                                                                              \n",
      "          pis   Symptom_Acid_reflux                                     0.4034  0.6681  0.3287  0.3862  0.2557  0.4674  0.1419  0.0623  0.3630  0.4402  0.7082  0.1162\n",
      "                Symptom_Acute_confusion                                 0.2996  0.3148  0.2356  0.1182  0.0103  0.4411  0.1473  0.0036  0.1149  0.1006  0.6918  0.0450\n",
      "                Symptom_Altered_smell                                   0.2706  0.3709  0.2576  0.2320  0.1273  0.2871  0.1480  0.1878  0.2082  0.0906  0.5771  0.1427\n",
      "                Symptom_Altered_taste                                   0.3255  0.4484  0.3205  0.2843  0.1557  0.3822  0.1759  0.2016  0.2459  0.1540  0.6575  0.1759\n",
      "                Symptom_Awakened_cannot_breathe                         0.4842  0.6117  0.3240  0.4127  0.1743  0.5304  0.1216  0.0408  0.1577  0.4037  0.7309  0.1689\n",
      "                Symptom_Bladder_control                                 0.1513  0.3393  0.1469  0.0837  0.0602  0.2846  0.0709  0.0143  0.1526  0.1931  0.5414  0.0448\n",
      "                Symptom_Bone_ache_burning                               0.3420  0.5473  0.2011  0.1938  0.1051  0.4818  0.0827  0.0443  0.2273  0.2949  0.6944  0.0800\n",
      "                Symptom_Bradycardia                                     0.1747  0.2714  0.1311  0.1114  0.0978  0.2878  0.0746  0.0246  0.1545  0.2354  0.4723  0.0799\n",
      "                Symptom_Bulging_veins                                   0.1234  0.4496  0.0852  0.0718  0.0732  0.3253  0.0230  0.0057  0.2103  0.3029  0.5337  0.0329\n",
      "                Symptom_Change_sensitivity_to_meds                      0.2044  0.4331  0.2265  0.1639  0.1237  0.3087  0.0995  0.0672  0.1788  0.2919  0.4848  0.0883\n",
      "                Symptom_Changes_in_voice                                0.2054  0.5086  0.2348  0.2338  0.1313  0.4076  0.1504  0.0651  0.3180  0.2669  0.5745  0.1058\n",
      "                Symptom_Chills_flushing_sweats                          0.6231  0.8685  0.5942  0.6548  0.3798  0.8115  0.2596  0.1046  0.6253  0.6004  0.9281  0.2449\n",
      "                Symptom_Cognitive_Functioning_agnosia                   0.0911  0.0930  0.1348  0.0333  0.0100  0.2805  0.1257  0.0083  0.0634  0.0568  0.4451  0.0305\n",
      "                Symptom_Cognitive_Functioning_attentionconcentration    0.9608  0.8553  0.9555  0.7837  0.2203  0.9612  0.8491  0.2164  0.7630  0.6128  0.9881  0.8956\n",
      "                Symptom_Cognitive_Functioning_executive                 0.8235  0.6172  0.9002  0.5165  0.0437  0.9106  0.7242  0.0708  0.5432  0.3102  0.9608  0.6518\n",
      "                Symptom_Cognitive_Functioning_fastthoughts              0.3039  0.2444  0.2484  0.1499  0.0246  0.2900  0.1417  0.0198  0.1028  0.0805  0.4150  0.1416\n",
      "                Symptom_Cognitive_Functioning_other                     0.0614  0.0870  0.1209  0.0535  0.0525  0.1264  0.1033  0.0305  0.1214  0.0997  0.1793  0.0357\n",
      "                Symptom_Cognitive_Functioning_problemsolving            0.7977  0.5710  0.8609  0.4574  0.0258  0.9139  0.6530  0.0507  0.5148  0.2713  0.9436  0.6254\n",
      "                Symptom_Cognitive_Functioning_slowedthoughts            0.5257  0.4430  0.6466  0.3168  0.0674  0.6952  0.4997  0.1316  0.3802  0.2978  0.7992  0.4058\n",
      "                Symptom_Cognitive_Functioning_thinking                  0.9000  0.7221  0.9395  0.6439  0.0543  0.9521  0.8322  0.1170  0.6949  0.4512  0.9907  0.7481\n",
      "                Symptom_Constipation                                    0.3211  0.5229  0.2780  0.2206  0.1492  0.3975  0.1139  0.0531  0.2428  0.3084  0.5979  0.1031\n",
      "                Symptom_Cough_with_mucus                                0.3031  0.4204  0.3100  0.3387  0.2282  0.3991  0.2019  0.1245  0.3028  0.2473  0.5324  0.1730\n",
      "                Symptom_Covid_toes                                      0.1210  0.2711  0.1124  0.0848  0.0714  0.2133  0.0432  0.0336  0.1823  0.1323  0.4016  0.0407\n",
      "                Symptom_Dermatographia                                  0.0571  0.2592  0.0461  0.0306  0.0216  0.1366  0.0122  0.0095  0.0901  0.1134  0.3587  0.0112\n",
      "                Symptom_Diarrhea                                        0.6164  0.8818  0.5344  0.6847  0.4836  0.7046  0.3247  0.1849  0.6413  0.6243  0.8790  0.2694\n",
      "                Symptom_Difficulty_falling_asleep                       0.5440  0.5659  0.5469  0.4912  0.2661  0.5657  0.2505  0.0400  0.0000  0.5560  0.7751  0.2686\n",
      "                Symptom_Difficulty_swallowing                           0.3275  0.6447  0.2549  0.2837  0.1545  0.4988  0.1365  0.0554  0.3259  0.3863  0.7928  0.1122\n",
      "                Symptom_Dizziness_vertigo                               0.8956  0.9249  0.7887  0.7018  0.4428  0.9208  0.5414  0.1605  0.7772  0.7280  0.9694  0.4074\n",
      "                Symptom_Dry_cough                                       0.6487  0.7938  0.6834  0.7367  0.5531  0.7542  0.5416  0.3986  0.7238  0.5549  0.8139  0.4915\n",
      "                Symptom_Ear_changes_to_ear_canal                        0.3238  0.4852  0.1568  0.1417  0.1490  0.3285  0.0825  0.0288  0.2094  0.2748  0.6505  0.0631\n",
      "                Symptom_Ear_ear_pain                                    0.3170  0.6049  0.1942  0.1642  0.1416  0.3853  0.0913  0.0176  0.2657  0.3050  0.7393  0.0827\n",
      "                Symptom_Ear_sensitivity_to_noise                        0.4886  0.5970  0.4049  0.2188  0.1323  0.6781  0.2383  0.0445  0.3350  0.3186  0.8745  0.1465\n",
      "                Symptom_Elevated_temp                                   0.6137  0.8348  0.6030  0.7593  0.4080  0.7539  0.2672  0.1556  0.6117  0.5409  0.8617  0.3055\n",
      "                Symptom_Extreme_thirst                                  0.4111  0.5884  0.3171  0.3331  0.1570  0.5496  0.1049  0.0261  0.3828  0.4054  0.7637  0.1335\n",
      "                Symptom_Eye_Vision_bloodshot_eyes                       0.1949  0.3747  0.1157  0.0789  0.0657  0.2287  0.0381  0.0120  0.1535  0.1835  0.4284  0.0396\n",
      "                Symptom_Eye_Vision_blurred_vision                       0.5269  0.6884  0.4018  0.1782  0.1278  0.7039  0.2212  0.0269  0.4266  0.4651  0.8891  0.1412\n",
      "                Symptom_Eye_Vision_double_vision                        0.0769  0.1522  0.0718  0.0153  0.0096  0.1753  0.0340  0.0053  0.0787  0.0861  0.3650  0.0154\n",
      "                Symptom_Eye_Vision_dry_eyes                             0.3471  0.5906  0.2425  0.2082  0.1513  0.4725  0.1165  0.0471  0.3841  0.3741  0.7240  0.1094\n",
      "                Symptom_Eye_Vision_eye_pressure_pain                    0.4319  0.5954  0.2402  0.1315  0.1087  0.4484  0.0916  0.0289  0.2722  0.2778  0.7518  0.0948\n",
      "                Symptom_Eye_Vision_floaters                             0.2752  0.4887  0.1715  0.1118  0.0797  0.3723  0.1029  0.0200  0.2083  0.2214  0.6171  0.0627\n",
      "                Symptom_Eye_Vision_other_eye_issues                     0.2592  0.4049  0.2699  0.1545  0.1836  0.3611  0.1541  0.0618  0.3324  0.3383  0.5436  0.1235\n",
      "                Symptom_Eye_Vision_pink_eye                             0.1048  0.3546  0.1041  0.0772  0.0740  0.1881  0.0544  0.0380  0.1836  0.1535  0.3163  0.0463\n",
      "                Symptom_Eye_Vision_redness_outside_eye                  0.1080  0.2547  0.0441  0.0316  0.0304  0.1164  0.0354  0.0103  0.1168  0.1035  0.3292  0.0170\n",
      "                Symptom_Eye_Vision_seeing_things_peripheral_vision      0.1865  0.3245  0.1234  0.0663  0.0225  0.2905  0.0546  0.0027  0.1022  0.1040  0.4920  0.0333\n",
      "                Symptom_Eye_Vision_sensitivity_to_light                 0.5005  0.6461  0.3662  0.1547  0.0762  0.6089  0.1547  0.0181  0.3336  0.2416  0.9199  0.1111\n",
      "                Symptom_Eye_vision_symptoms                             0.4851  0.6840  0.3549  0.1462  0.1260  0.6828  0.1953  0.0112  0.3866  0.4446  0.8542  0.1314\n",
      "                Symptom_Fainting                                        0.1561  0.2149  0.1421  0.1042  0.0478  0.2100  0.0502  0.0137  0.1099  0.1225  0.4118  0.0655\n",
      "                Symptom_Fever                                           0.2883  0.4128  0.3368  0.4900  0.1861  0.4610  0.1370  0.0752  0.3378  0.2099  0.5530  0.1330\n",
      "                Symptom_Gasping_air_normal_oxygen                       0.7014  0.7710  0.6047  0.6255  0.4598  0.7623  0.3986  0.1915  0.6914  0.5378  0.8363  0.3598\n",
      "                Symptom_Gastrointestinal_abdominal_pain                 0.5160  0.8478  0.3957  0.4565  0.2693  0.6029  0.1409  0.0575  0.4643  0.4938  0.9280  0.1338\n",
      "                Symptom_Gastrointestinal_feeling_full_quickly_eating    0.3240  0.5679  0.3153  0.3508  0.2285  0.4550  0.1418  0.0836  0.3497  0.3405  0.6569  0.1208\n",
      "                Symptom_Gastrointestinal_hyperactive_bowel              0.2770  0.5588  0.2032  0.2605  0.1528  0.3601  0.0820  0.0448  0.2501  0.2700  0.5791  0.0679\n",
      "                Symptom_Hallucinations_auditory                         0.0789  0.1480  0.0479  0.0313  0.0137  0.1521  0.0477  0.0120  0.0439  0.0394  0.3599  0.0131\n",
      "                Symptom_Hallucinations_visual                           0.1057  0.1783  0.0927  0.0711  0.0292  0.2245  0.0762  0.0086  0.0706  0.0660  0.4064  0.0273\n",
      "                Symptom_Headaches_after_mental_exertion                 0.5486  0.4188  0.3951  0.1866  0.0400  0.5063  0.1265  0.0214  0.1631  0.1195  0.7068  0.1692\n",
      "                Symptom_Headaches_base_of_skull                         0.4991  0.5532  0.2929  0.2151  0.1325  0.4382  0.1461  0.0332  0.2421  0.2908  0.6557  0.1527\n",
      "                Symptom_Headaches_behind_eyes                           0.6958  0.6604  0.4323  0.3600  0.2461  0.5557  0.2576  0.0838  0.4034  0.3083  0.7858  0.2967\n",
      "                Symptom_Headaches_brain_pressure                        0.6260  0.5947  0.3850  0.1971  0.1039  0.5727  0.1865  0.0390  0.3200  0.3003  0.8118  0.2108\n",
      "                Symptom_Headaches_brain_warmth                          0.2407  0.2031  0.1008  0.0625  0.0380  0.2079  0.0269  0.0127  0.0959  0.1371  0.4490  0.0567\n",
      "                Symptom_Headaches_diffuse                               0.5473  0.4285  0.4243  0.2954  0.2153  0.4738  0.2304  0.0798  0.3529  0.2356  0.6837  0.2885\n",
      "                Symptom_Headaches_migraines                             0.4409  0.4251  0.2943  0.2104  0.1155  0.3499  0.1233  0.0318  0.1973  0.1743  0.6060  0.1359\n",
      "                Symptom_Headaches_other                                 0.1653  0.1548  0.1797  0.1075  0.0997  0.1528  0.0753  0.0471  0.1491  0.1479  0.3036  0.0793\n",
      "                Symptom_Headaches_stiff_neck                            0.6698  0.7121  0.4515  0.3497  0.1796  0.6398  0.1805  0.0548  0.4123  0.3458  0.8430  0.2463\n",
      "                Symptom_Headaches_temples                               0.6133  0.4900  0.3847  0.3529  0.2315  0.4816  0.2068  0.0892  0.2613  0.2775  0.6536  0.2854\n",
      "                Symptom_Hearing_loss                                    0.1060  0.2066  0.0712  0.0390  0.0559  0.1792  0.0628  0.0161  0.0819  0.0954  0.3595  0.0300\n",
      "                Symptom_Heart_palpitations                              0.7544  0.8988  0.7219  0.6666  0.5577  0.8640  0.4199  0.2125  0.7591  0.7412  0.9241  0.4691\n",
      "                Symptom_Heat_intolerance                                0.3654  0.5239  0.3325  0.2478  0.1086  0.5071  0.1155  0.0367  0.2268  0.2559  0.7319  0.0861\n",
      "                Symptom_Heightened_smell                                0.0766  0.1962  0.0945  0.0562  0.0381  0.1339  0.0182  0.0103  0.0636  0.0586  0.3288  0.0226\n",
      "                Symptom_Inability_to_yawn                               0.0438  0.1536  0.0317  0.0293  0.0271  0.0727  0.0164  0.0150  0.0436  0.1035  0.1763  0.0250\n",
      "                Symptom_Insomnia                                        0.9184  0.9194  0.8333  0.8935  0.5842  0.8496  0.5255  0.1155  0.0631  0.9920  0.9733  0.5559\n",
      "                Symptom_Joint_pain                                      0.7511  0.8800  0.5566  0.5300  0.3514  0.8163  0.3871  0.1469  0.5719  0.6151  0.9342  0.3019\n",
      "                Symptom_Loss_of_appetite                                0.5438  0.7498  0.5223  0.6403  0.3936  0.6557  0.2808  0.1504  0.5461  0.5596  0.8750  0.2413\n",
      "                Symptom_Loss_of_smell                                   0.4036  0.4422  0.4394  0.4618  0.2825  0.4723  0.3690  0.3659  0.3570  0.2354  0.5942  0.3340\n",
      "                Symptom_Loss_of_taste                                   0.3933  0.4151  0.3780  0.4470  0.2463  0.4365  0.3116  0.3162  0.3221  0.2004  0.6025  0.3065\n",
      "                Symptom_Low_temp                                        0.1671  0.4323  0.1578  0.1626  0.1074  0.3660  0.0528  0.0107  0.2049  0.2618  0.5496  0.0474\n",
      "                Symptom_Lucid_dreams                                    0.2764  0.3018  0.1736  0.1589  0.0735  0.2681  0.0799  0.0069  0.0411  0.1261  0.4025  0.0846\n",
      "                Symptom_Memory_forget_tasks                             0.1197  0.1125  0.2279  0.0533  0.0042  0.3202  0.1464  0.0037  0.0970  0.0527  0.5121  0.0592\n",
      "                Symptom_Memory_long                                     0.5058  0.4332  0.6667  0.2593  0.0354  0.7526  0.5504  0.0536  0.3367  0.2391  0.8611  0.3375\n",
      "                Symptom_Memory_no_new_memories                          0.1029  0.0452  0.1694  0.0295  0.0000  0.2140  0.0706  0.0072  0.0325  0.0136  0.3284  0.0469\n",
      "                Symptom_Memory_other                                    0.0836  0.1464  0.1896  0.0569  0.0474  0.1506  0.1653  0.0480  0.1909  0.1309  0.2048  0.0692\n",
      "                Symptom_Memory_short                                    0.9311  0.9377  0.9389  0.9102  0.9361  0.9532  0.8912  0.9365  0.8673  0.8994  0.9846  0.9062\n",
      "                Symptom_Merged_temperature_other_temp_issues            0.4745  0.5552  0.4519  0.3603  0.3114  0.5303  0.2488  0.0938  0.4438  0.5079  0.6847  0.1828\n",
      "                Symptom_Muscle_aches                                    0.8275  0.9365  0.7349  0.7154  0.5102  0.8860  0.5324  0.2491  0.7010  0.7385  0.9727  0.4811\n",
      "                Symptom_Muscle_spasms                                   0.4861  0.6815  0.2737  0.1838  0.1636  0.6382  0.1473  0.0332  0.3356  0.4858  0.8495  0.1005\n",
      "                Symptom_Nausea                                          0.5842  0.8540  0.4993  0.5149  0.2987  0.6823  0.2267  0.0889  0.5110  0.5356  0.8976  0.1615\n",
      "                Symptom_Neuralgia                                       0.4503  0.7067  0.2352  0.1424  0.1644  0.5773  0.1114  0.0259  0.3555  0.4994  0.8399  0.0808\n",
      "                Symptom_New_allergies                                   0.0668  0.2792  0.1138  0.0572  0.0561  0.1713  0.0352  0.0121  0.1241  0.1787  0.3431  0.0314\n",
      "                Symptom_Night_sweats                                    0.5598  0.7086  0.4425  0.5168  0.2106  0.6102  0.1529  0.0344  0.1847  0.5047  0.8188  0.2222\n",
      "                Symptom_Nightmares                                      0.3337  0.4331  0.2904  0.2900  0.1104  0.4141  0.1174  0.0075  0.0548  0.2425  0.6257  0.0971\n",
      "                Symptom_Other_ear_hearing_symptoms                      0.2331  0.3818  0.1811  0.1276  0.1358  0.3062  0.1406  0.0474  0.2328  0.3103  0.5184  0.0826\n",
      "                Symptom_PEM                                             0.9673  0.9586  0.9613  0.9201  0.7682  0.9841  0.8671  0.5372  0.9052  0.8871  0.9940  0.8467\n",
      "                Symptom_Pain_burning_chest                              0.5323  0.7972  0.4490  0.5011  0.3893  0.6384  0.2486  0.1645  0.5584  0.5213  0.8420  0.2694\n",
      "                Symptom_Peeling_skin                                    0.1013  0.3105  0.1025  0.0728  0.0458  0.2008  0.0226  0.0211  0.1608  0.1874  0.4457  0.0369\n",
      "                Symptom_Petechiae                                       0.1376  0.4569  0.1091  0.0938  0.0856  0.2554  0.0360  0.0146  0.2173  0.2114  0.5764  0.0436\n",
      "                Symptom_Phantom_smell                                   0.3170  0.4396  0.2705  0.2392  0.1222  0.3850  0.1395  0.1309  0.2059  0.1309  0.7050  0.1208\n",
      "                Symptom_Phantom_taste                                   0.1267  0.2231  0.0831  0.0766  0.0385  0.1342  0.0334  0.0526  0.0500  0.0376  0.4549  0.0537\n",
      "                Symptom_Rattling_breath                                 0.2084  0.3310  0.1601  0.1895  0.0834  0.2956  0.0891  0.0456  0.2055  0.1176  0.4640  0.0678\n",
      "                Symptom_Reproductive_abnormally_heavy_periods_clotting  0.0912  0.2176  0.0911  0.0971  0.0333  0.1791  0.0357  0.0165  0.0958  0.0958  0.2352  0.0350\n",
      "                Symptom_Reproductive_abnormally_irregular_periods       0.1467  0.1846  0.1283  0.1301  0.0609  0.1860  0.0397  0.0252  0.1240  0.1414  0.3203  0.0482\n",
      "                Symptom_Reproductive_all_menstrual_issues               0.1865  0.3387  0.1689  0.1819  0.0956  0.3097  0.0750  0.0480  0.2087  0.2115  0.4567  0.0675\n",
      "                Symptom_Reproductive_other_menstrual_issues             0.0787  0.1284  0.0899  0.0890  0.0620  0.1239  0.0718  0.0417  0.1097  0.1029  0.1918  0.0412\n",
      "                Symptom_Reproductive_other_urinary_issues               0.1610  0.3130  0.1501  0.1083  0.0669  0.2473  0.0635  0.0140  0.1644  0.2014  0.4595  0.0605\n",
      "                Symptom_Reproductive_sexual_dysfunction                 0.1430  0.1787  0.1357  0.0957  0.0358  0.1844  0.0900  0.0209  0.0943  0.0805  0.3415  0.0510\n",
      "                Symptom_Respiratory_other                               0.0606  0.1173  0.0774  0.0809  0.0786  0.0746  0.0760  0.0843  0.1542  0.1154  0.1399  0.0367\n",
      "                Symptom_Restless_leg                                    0.3349  0.3616  0.2041  0.1559  0.0776  0.3581  0.0820  0.0108  0.0391  0.2203  0.4862  0.0910\n",
      "                Symptom_Runny_nose                                      0.3601  0.5313  0.3384  0.3658  0.2282  0.4387  0.2062  0.1732  0.3580  0.2584  0.6475  0.1989\n",
      "                Symptom_Sensations_coldness                             0.3812  0.7380  0.3140  0.2719  0.1887  0.5750  0.1645  0.0816  0.4247  0.4785  0.8269  0.1273\n",
      "                Symptom_Sensations_electrical_zaps                      0.3762  0.4911  0.1922  0.0849  0.1169  0.4810  0.0741  0.0330  0.2571  0.4196  0.7597  0.0649\n",
      "                Symptom_Sensations_facial_pressure_left                 0.1373  0.1699  0.0553  0.0087  0.0276  0.1230  0.0303  0.0000  0.0695  0.1432  0.3350  0.0185\n",
      "                Symptom_Sensations_facial_pressure_other                0.1274  0.1284  0.0518  0.0323  0.0167  0.0805  0.0263  0.0028  0.0773  0.0744  0.1992  0.0191\n",
      "                Symptom_Sensations_facial_pressure_right                0.1178  0.1679  0.0237  0.0138  0.0289  0.1061  0.0344  0.0047  0.0562  0.1029  0.3136  0.0143\n",
      "                Symptom_Sensations_numbness_loss_sensation              0.5382  0.6855  0.3008  0.2108  0.2095  0.6011  0.1739  0.0697  0.3628  0.5502  0.8651  0.1564\n",
      "                Symptom_Sensations_numbness_one_sided_weakness          0.1764  0.2897  0.0965  0.0419  0.0574  0.2248  0.0395  0.0098  0.1417  0.2133  0.4145  0.0335\n",
      "                Symptom_Sensations_skin_burning_no_rash                 0.6469  0.8359  0.4015  0.2911  0.2790  0.7640  0.1891  0.1136  0.5356  0.6984  0.9442  0.1914\n",
      "                Symptom_Sensations_tingling_prickling                   0.6752  0.8006  0.4223  0.3117  0.3609  0.7435  0.2538  0.1186  0.5328  0.7273  0.9114  0.2584\n",
      "                Symptom_Sensations_weakness                             0.6018  0.7238  0.5247  0.3457  0.2644  0.7033  0.2999  0.1254  0.4717  0.5647  0.8502  0.2987\n",
      "                Symptom_Shortness_of_breath                             0.8012  0.8891  0.7900  0.8486  0.6387  0.8807  0.6313  0.3816  0.8217  0.6746  0.9376  0.5982\n",
      "                Symptom_SkinAllergy_brittle_nail                        0.1017  0.2968  0.0831  0.0537  0.0362  0.1830  0.0451  0.0206  0.1171  0.1268  0.4204  0.0259\n",
      "                Symptom_SkinAllergy_heighted_reaction_allergies         0.1074  0.2966  0.1198  0.0836  0.0803  0.1808  0.0534  0.0136  0.1362  0.1391  0.3630  0.0518\n",
      "                Symptom_SkinAllergy_itchy_eyes                          0.2911  0.6155  0.1765  0.1494  0.1124  0.4216  0.0935  0.0338  0.3035  0.2833  0.7584  0.0721\n",
      "                Symptom_SkinAllergy_itchy_skin                          0.3233  0.7152  0.2761  0.2212  0.1627  0.5482  0.1142  0.0684  0.4103  0.4003  0.8240  0.1061\n",
      "                Symptom_SkinAllergy_other_itchy                         0.0425  0.1070  0.0567  0.0420  0.0372  0.0706  0.0357  0.0159  0.0671  0.0895  0.1808  0.0112\n",
      "                Symptom_Skin_Allergy_other                              0.1106  0.1203  0.0902  0.0733  0.0672  0.1476  0.0688  0.0244  0.1565  0.1318  0.1702  0.0323\n",
      "                Symptom_Skin_rashes                                     0.1942  0.5663  0.2406  0.2116  0.1525  0.3988  0.0913  0.0597  0.3588  0.3413  0.7012  0.1030\n",
      "                Symptom_Sleep_apnea                                     0.1509  0.2028  0.1255  0.1244  0.0578  0.2161  0.0537  0.0358  0.0308  0.1688  0.3473  0.0738\n",
      "                Symptom_Sleep_other                                     0.6171  0.6453  0.6544  0.6182  0.3324  0.7439  0.3769  0.1493  0.4072  0.5906  0.8302  0.3862\n",
      "                Symptom_Slurring_words                                  0.0869  0.2366  0.2309  0.0380  0.0123  0.4504  0.1573  0.0033  0.1497  0.0987  0.6592  0.0066\n",
      "                Symptom_Sneezing                                        0.2933  0.5409  0.2571  0.3022  0.1734  0.3874  0.1439  0.0825  0.3262  0.2085  0.6880  0.1168\n",
      "                Symptom_Sore_throat                                     0.5417  0.8212  0.5747  0.6476  0.4525  0.7156  0.3662  0.1998  0.6572  0.5866  0.8725  0.3336\n",
      "                Symptom_Speech_changes_to_secondary_languages           0.0000  0.0172  0.1382  0.0076  0.0048  0.1292  0.0939  0.0073  0.0432  0.0241  0.1788  0.0031\n",
      "                Symptom_Speech_difficulty_communicating_verbally        0.0000  0.1460  0.7048  0.0345  0.0151  0.7821  0.5925  0.0244  0.2435  0.1489  0.8646  0.0008\n",
      "                Symptom_Speech_difficulty_communicating_writing         0.0000  0.0928  0.3830  0.0063  0.0014  0.4588  0.2214  0.0077  0.1047  0.0483  0.6631  0.0000\n",
      "                Symptom_Speech_difficulty_finding_words                 0.0667  0.4608  0.9812  0.1433  0.0758  0.9918  0.9534  0.0804  0.5216  0.4303  0.9795  0.0632\n",
      "                Symptom_Speech_difficulty_reading_processing_text       0.0000  0.1474  0.6107  0.0111  0.0035  0.7108  0.4170  0.0079  0.1688  0.1069  0.8357  0.0014\n",
      "                Symptom_Speech_difficulty_speaking_complete_sentences   0.0000  0.1077  0.5221  0.0214  0.0000  0.6468  0.4255  0.0031  0.1470  0.0935  0.7665  0.0000\n",
      "                Symptom_Speech_difficulty_understanding_others_speech   0.0166  0.1311  0.6315  0.0106  0.0022  0.7146  0.3978  0.0000  0.1798  0.0787  0.8532  0.0000\n",
      "                Symptom_Speech_speaking_unrecognizable_words            0.0000  0.0596  0.1705  0.0073  0.0020  0.2806  0.1127  0.0060  0.0756  0.0260  0.4167  0.0000\n",
      "                Symptom_Tachycardia                                     0.6821  0.8515  0.6208  0.6102  0.4813  0.8262  0.3768  0.1695  0.6222  0.7005  0.9034  0.3969\n",
      "                Symptom_Temp_lability                                   0.3634  0.5965  0.4090  0.5544  0.2445  0.5560  0.1598  0.1114  0.4330  0.3070  0.6967  0.2073\n",
      "                Symptom_Tightness_of_chest                              0.7856  0.9011  0.6812  0.7705  0.5903  0.8397  0.4507  0.3330  0.8043  0.6780  0.9300  0.5303\n",
      "                Symptom_Tinnitus                                        0.4269  0.6445  0.3235  0.2152  0.2257  0.5414  0.1947  0.0461  0.3779  0.4275  0.8122  0.1580\n",
      "                Symptom_Tremors                                         0.5867  0.7081  0.3619  0.2726  0.2748  0.6640  0.1903  0.0774  0.3210  0.6278  0.8812  0.1873\n",
      "                Symptom_Vibrating_sensations                            0.5898  0.7038  0.3698  0.2643  0.2767  0.6499  0.1735  0.0761  0.4294  0.6368  0.8608  0.2106\n",
      "                Symptom_Vivid_dreams                                    0.4759  0.5039  0.4010  0.3848  0.1600  0.5069  0.1845  0.0237  0.1066  0.3138  0.6833  0.1974\n",
      "                Symptom_Vomiting                                        0.1696  0.3035  0.1618  0.1827  0.0923  0.2207  0.0452  0.0152  0.1766  0.1283  0.3967  0.0347\n",
      "                Symptom_Waking_up_early                                 0.3565  0.3358  0.3191  0.2761  0.1698  0.3307  0.1523  0.0150  0.0000  0.3792  0.5171  0.1458\n",
      "                Symptom_Waking_up_in_night                              0.6818  0.6753  0.6306  0.6381  0.3544  0.6206  0.3001  0.0374  0.0000  0.7070  0.8064  0.3264\n",
      "    ============================================================================\n",
      "    Class weights\n",
      "    ============================================================================\n",
      "        Class 1 : 0.05\n",
      "        Class 2 : 0.05\n",
      "        Class 3 : 0.12\n",
      "        Class 4 : 0.10\n",
      "        Class 5 : 0.11\n",
      "        Class 6 : 0.11\n",
      "        Class 7 : 0.07\n",
      "        Class 8 : 0.07\n",
      "        Class 9 : 0.06\n",
      "        Class 10 : 0.08\n",
      "        Class 11 : 0.06\n",
      "        Class 12 : 0.11\n",
      "    ============================================================================\n",
      "    Fit for 12 latent classes\n",
      "    ============================================================================\n",
      "    Estimation method             : 1-step\n",
      "    Number of observations        : 6031\n",
      "    Number of latent classes      : 12\n",
      "    Number of estimated parameters: 1775\n",
      "    Log-likelihood (LL)           : -407849.1208\n",
      "    -2LL                          : 815698.2417\n",
      "    Average LL                    : -67.6255\n",
      "    AIC                           : 819248.24\n",
      "    BIC                           : 831149.03\n",
      "    CAIC                          : 832924.03\n",
      "    Sample-Size Adjusted BIC      : 840959.36\n",
      "    Entropy                       : 1439.8634\n",
      "    Scaled Relative Entropy       : 0.9039\n",
      "variable\n",
      "Symptom_Headaches_behind_eyes                   0.296736\n",
      "Symptom_Headaches_after_mental_exertion         0.289248\n",
      "Symptom_Headaches_brain_pressure                0.287660\n",
      "Symptom_Headaches_temples                       0.275585\n",
      "Symptom_Headaches_stiff_neck                    0.268404\n",
      "Symptom_Cognitive_Functioning_problemsolving    0.262410\n",
      "Symptom_Cognitive_Functioning_executive         0.255436\n",
      "Symptom_Insomnia                                0.254338\n",
      "Symptom_Cognitive_Functioning_thinking          0.250373\n",
      "Symptom_Dizziness_vertigo                       0.226223\n",
      "dtype: float64\n",
      "variable\n",
      "Symptom_Gastrointestinal_abdominal_pain    0.442447\n",
      "Symptom_SkinAllergy_itchy_skin             0.401095\n",
      "Symptom_Nausea                             0.399390\n",
      "Symptom_Neuralgia                          0.390090\n",
      "Symptom_Sensations_coldness                0.389379\n",
      "Symptom_Sensations_skin_burning_no_rash    0.376355\n",
      "Symptom_SkinAllergy_itchy_eyes             0.370453\n",
      "Symptom_Ear_ear_pain                       0.359047\n",
      "Symptom_Muscle_spasms                      0.345410\n",
      "Symptom_Difficulty_swallowing              0.342147\n",
      "dtype: float64\n",
      "variable\n",
      "Symptom_Speech_difficulty_finding_words                  0.547844\n",
      "Symptom_Speech_difficulty_communicating_verbally         0.445489\n",
      "Symptom_Speech_difficulty_understanding_others_speech    0.414774\n",
      "Symptom_Speech_difficulty_reading_processing_text        0.391538\n",
      "Symptom_Cognitive_Functioning_executive                  0.339038\n",
      "Symptom_Cognitive_Functioning_problemsolving             0.331396\n",
      "Symptom_Speech_difficulty_speaking_complete_sentences    0.321049\n",
      "Symptom_Cognitive_Functioning_thinking                   0.293443\n",
      "Symptom_Memory_long                                      0.269892\n",
      "Symptom_Speech_difficulty_communicating_writing          0.237102\n",
      "dtype: float64\n",
      "variable\n",
      "Symptom_Insomnia                  0.227068\n",
      "Symptom_Elevated_temp             0.217875\n",
      "Symptom_Fever                     0.205417\n",
      "Symptom_Temp_lability             0.183066\n",
      "Symptom_Waking_up_in_night        0.170864\n",
      "Symptom_Loss_of_appetite          0.138636\n",
      "Symptom_Diarrhea                  0.126134\n",
      "Symptom_Shortness_of_breath       0.117233\n",
      "Symptom_Night_sweats              0.112278\n",
      "Symptom_Chills_flushing_sweats    0.105719\n",
      "dtype: float64\n",
      "variable\n",
      "Symptom_Memory_short                             0.012833\n",
      "Symptom_Respiratory_other                       -0.013850\n",
      "Symptom_SkinAllergy_other_itchy                 -0.028146\n",
      "Symptom_Reproductive_other_menstrual_issues     -0.035161\n",
      "Symptom_Skin_Allergy_other                      -0.035177\n",
      "Symptom_Inability_to_yawn                       -0.037495\n",
      "Symptom_Cognitive_Functioning_other             -0.040150\n",
      "Symptom_Headaches_other                         -0.042362\n",
      "Symptom_Speech_changes_to_secondary_languages   -0.053609\n",
      "Symptom_Hearing_loss                            -0.057486\n",
      "dtype: float64\n",
      "variable\n",
      "Symptom_Speech_difficulty_finding_words                  0.559453\n",
      "Symptom_Speech_difficulty_communicating_verbally         0.529802\n",
      "Symptom_Speech_difficulty_understanding_others_speech    0.505325\n",
      "Symptom_Speech_difficulty_reading_processing_text        0.500735\n",
      "Symptom_Speech_difficulty_speaking_complete_sentences    0.457108\n",
      "Symptom_Cognitive_Functioning_problemsolving             0.389193\n",
      "Symptom_Memory_long                                      0.363652\n",
      "Symptom_Cognitive_Functioning_executive                  0.350446\n",
      "Symptom_Eye_vision_symptoms                              0.335579\n",
      "Symptom_Ear_sensitivity_to_noise                         0.332767\n",
      "dtype: float64\n",
      "variable\n",
      "Symptom_Speech_difficulty_finding_words                  0.517489\n",
      "Symptom_Speech_difficulty_communicating_verbally         0.323013\n",
      "Symptom_Speech_difficulty_speaking_complete_sentences    0.215692\n",
      "Symptom_Speech_difficulty_reading_processing_text        0.180253\n",
      "Symptom_Cognitive_Functioning_thinking                   0.176349\n",
      "Symptom_Speech_difficulty_understanding_others_speech    0.159750\n",
      "Symptom_Cognitive_Functioning_executive                  0.147038\n",
      "Symptom_Memory_long                                      0.143025\n",
      "Symptom_Cognitive_Functioning_problemsolving             0.104613\n",
      "Symptom_Cognitive_Functioning_attentionconcentration     0.102444\n",
      "dtype: float64\n",
      "variable\n",
      "Symptom_Memory_short                             0.013223\n",
      "Symptom_Respiratory_other                       -0.007623\n",
      "Symptom_Loss_of_smell                           -0.033322\n",
      "Symptom_Inability_to_yawn                       -0.050688\n",
      "Symptom_Speech_changes_to_secondary_languages   -0.050931\n",
      "Symptom_SkinAllergy_other_itchy                 -0.051393\n",
      "Symptom_Loss_of_taste                           -0.052878\n",
      "Symptom_Reproductive_other_menstrual_issues     -0.057298\n",
      "Symptom_Altered_smell                           -0.058721\n",
      "Symptom_Cognitive_Functioning_other             -0.064174\n",
      "dtype: float64\n",
      "variable\n",
      "Symptom_Tightness_of_chest           0.123397\n",
      "Symptom_Gasping_air_normal_oxygen    0.123380\n",
      "Symptom_Heart_palpitations           0.101765\n",
      "Symptom_Sore_throat                  0.101580\n",
      "Symptom_Dizziness_vertigo            0.097092\n",
      "Symptom_Dry_cough                    0.090157\n",
      "Symptom_Shortness_of_breath          0.087913\n",
      "Symptom_Skin_rashes                  0.080615\n",
      "Symptom_Diarrhea                     0.078732\n",
      "Symptom_Eye_Vision_dry_eyes          0.076477\n",
      "dtype: float64\n",
      "variable\n",
      "Symptom_Insomnia                              0.334537\n",
      "Symptom_Waking_up_in_night                    0.245963\n",
      "Symptom_Sensations_tingling_prickling         0.237408\n",
      "Symptom_Sensations_skin_burning_no_rash       0.226384\n",
      "Symptom_Vibrating_sensations                  0.218197\n",
      "Symptom_Tremors                               0.216415\n",
      "Symptom_Sensations_numbness_loss_sensation    0.170798\n",
      "Symptom_Neuralgia                             0.163944\n",
      "Symptom_Difficulty_falling_asleep             0.163804\n",
      "Symptom_Sensations_electrical_zaps            0.153154\n",
      "dtype: float64\n",
      "variable\n",
      "Symptom_Speech_difficulty_understanding_others_speech    0.656604\n",
      "Symptom_Speech_difficulty_reading_processing_text        0.637067\n",
      "Symptom_Eye_Vision_sensitivity_to_light                  0.627891\n",
      "Symptom_Speech_difficulty_communicating_verbally         0.619841\n",
      "Symptom_Speech_difficulty_speaking_complete_sentences    0.587682\n",
      "Symptom_Ear_sensitivity_to_noise                         0.546992\n",
      "Symptom_Speech_difficulty_finding_words                  0.546039\n",
      "Symptom_Speech_difficulty_communicating_writing          0.542701\n",
      "Symptom_Neuralgia                                        0.535417\n",
      "Symptom_Eye_Vision_blurred_vision                        0.533803\n",
      "dtype: float64\n",
      "variable\n",
      "Symptom_Cognitive_Functioning_attentionconcentration    0.153190\n",
      "Symptom_Cognitive_Functioning_thinking                  0.084591\n",
      "Symptom_Cognitive_Functioning_problemsolving            0.074507\n",
      "Symptom_Cognitive_Functioning_executive                 0.068106\n",
      "Symptom_Memory_short                                   -0.019810\n",
      "Symptom_Cognitive_Functioning_slowedthoughts           -0.030888\n",
      "Symptom_PEM                                            -0.039633\n",
      "Symptom_Inability_to_yawn                              -0.039791\n",
      "Symptom_Cognitive_Functioning_fastthoughts             -0.042084\n",
      "Symptom_Memory_no_new_memories                         -0.045178\n",
      "dtype: float64\n"
     ]
    },
    {
     "name": "stderr",
     "output_type": "stream",
     "text": [
      "\n",
      "/Users/tessa/miniforge3/envs/stepmix/lib/python3.12/site-packages/stepmix/stepmix.py:1173: FutureWarning: The provided callable <function mean at 0x10a0daf20> is currently using DataFrameGroupBy.mean. In a future version of pandas, the provided callable will be used directly. To keep current behavior pass the string \"mean\" instead.\n",
      "  return pd.pivot_table(\n"
     ]
    }
   ],
   "source": [
    "model = StepMix(n_components=12, measurement=\"binary\", verbose=1, random_state=123)\n",
    "model.fit(sympdf)\n",
    "\n",
    "# save model using pkl\n",
    "with open('output/stepmix_12_111023.pkl', 'wb') as f:\n",
    "    pkl.dump(model, f)\n",
    "\n",
    "df['cluster_12'] = model.predict(sympdf)\n",
    "df['cluster_12'].to_csv(\"output/cluster_12_111023.csv\")\n",
    "\n",
    "mm = model.get_mm_df()\n",
    "mm = mm.reset_index()\n",
    "mm  = mm.drop(\"model_name\",axis=1)\n",
    "mm  = mm.drop(\"param\",axis=1)\n",
    "mm.index=mm['variable']\n",
    "mm = mm.drop(\"variable\", axis=1)\n",
    "\n",
    "mm.to_csv(\"output/stepmix_12_111023_mmdf.csv\")\n",
    "\n",
    "edges = [] \n",
    "symp_unusual = pd.DataFrame()\n",
    "comp_list = list(range(0,12))\n",
    "for component in comp_list:\n",
    "    edges +=investigate_comp(component, mm).sort_values(ascending=False).head(10).index.tolist()\n",
    "    symp_unusual[component] = investigate_comp(component, mm)\n",
    "    print(investigate_comp(component, mm).sort_values(ascending=False).head(10))\n",
    "\n",
    "symp_unusual.to_csv(\"output/stepmix_12_111023_symp_unusual.csv\")"
   ]
  },
  {
   "cell_type": "code",
   "execution_count": 221,
   "metadata": {},
   "outputs": [],
   "source": [
    "preddf = pd.DataFrame(model.predict_proba(sympdf), index=sympdf.index)"
   ]
  },
  {
   "cell_type": "code",
   "execution_count": 222,
   "metadata": {},
   "outputs": [
    {
     "data": {
      "text/plain": [
       "1    5937\n",
       "0      94\n",
       "Name: count, dtype: int64"
      ]
     },
     "execution_count": 222,
     "metadata": {},
     "output_type": "execute_result"
    }
   ],
   "source": [
    "preddf[preddf > 0.5].notna().sum(axis=1).value_counts()"
   ]
  },
  {
   "cell_type": "code",
   "execution_count": 223,
   "metadata": {},
   "outputs": [],
   "source": [
    "poor_fits = preddf[preddf[preddf > 0.5].notna().sum(axis=1) == 0].index.values"
   ]
  },
  {
   "cell_type": "code",
   "execution_count": 224,
   "metadata": {},
   "outputs": [],
   "source": [
    "df = df[~df.index.isin(poor_fits)]"
   ]
  },
  {
   "cell_type": "code",
   "execution_count": 226,
   "metadata": {},
   "outputs": [
    {
     "data": {
      "text/plain": [
       "<Axes: xlabel='cluster_12'>"
      ]
     },
     "execution_count": 226,
     "metadata": {},
     "output_type": "execute_result"
    },
    {
     "data": {
      "image/png": "[encoded data removed]",
      "text/plain": [
       "<Figure size 640x480 with 1 Axes>"
      ]
     },
     "metadata": {},
     "output_type": "display_data"
    }
   ],
   "source": [
    "df[\"cluster_12\"].value_counts().plot(kind=\"bar\")\n"
   ]
  },
  {
   "cell_type": "code",
   "execution_count": null,
   "metadata": {},
   "outputs": [],
   "source": [
    "# I'm going to go out on a limb and guess that the poor silhuette scores are just a reflection of poor assortment of patients"
   ]
  }
 ],
 "metadata": {
  "kernelspec": {
   "display_name": "Python 3",
   "language": "python",
   "name": "python3"
  },
  "language_info": {
   "codemirror_mode": {
    "name": "ipython",
    "version": 3
   },
   "file_extension": ".py",
   "mimetype": "text/x-python",
   "name": "python",
   "nbconvert_exporter": "python",
   "pygments_lexer": "ipython3",
   "version": "3.12.0"
  }
 },
 "nbformat": 4,
 "nbformat_minor": 2
}

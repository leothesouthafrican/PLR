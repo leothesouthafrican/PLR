{
 "cells": [
  {
   "cell_type": "code",
   "execution_count": 47,
   "metadata": {},
   "outputs": [],
   "source": [
    "from stepmix.stepmix import StepMix\n",
    "import pandas as pd\n",
    "import numpy as np\n",
    "\n",
    "from sklearn.datasets import load_iris\n",
    "from sklearn.metrics import rand_score\n",
    "from sklearn.model_selection import GridSearchCV, ParameterGrid\n",
    "\n",
    "import matplotlib.pyplot as plt\n",
    "import seaborn as sns"
   ]
  },
  {
   "cell_type": "code",
   "execution_count": 55,
   "metadata": {},
   "outputs": [],
   "source": [
    "def investigate_comp(comp, resdf):\n",
    "    def avg_cols(df, cols):\n",
    "        return df[cols].mean(axis=1)\n",
    "    comp_list = list(range(0,resdf.shape[1]))\n",
    "    comp_list.remove(comp)\n",
    "    other_pts = avg_cols(resdf,comp_list)\n",
    "    return resdf[comp] - other_pts\n",
    "    "
   ]
  },
  {
   "cell_type": "code",
   "execution_count": 34,
   "metadata": {},
   "outputs": [
    {
     "data": {
      "text/plain": [
       "(6031, 162)"
      ]
     },
     "execution_count": 34,
     "metadata": {},
     "output_type": "execute_result"
    }
   ],
   "source": [
    "df = pd.read_csv(\"../data/cleaned_data_SYMPTOMS_9_13_23.csv\", index_col=0)\n",
    "sympdf = df.loc[:, df.columns.str.startswith('Symptom_')]\n",
    "sympdf.shape"
   ]
  },
  {
   "cell_type": "code",
   "execution_count": 35,
   "metadata": {},
   "outputs": [
    {
     "data": {
      "text/plain": [
       "<Axes: >"
      ]
     },
     "execution_count": 35,
     "metadata": {},
     "output_type": "execute_result"
    },
    {
     "data": {
      "image/png": "[encoded data removed]",
      "text/plain": [
       "<Figure size 640x480 with 1 Axes>"
      ]
     },
     "metadata": {},
     "output_type": "display_data"
    }
   ],
   "source": [
    "sympdf.mean().hist(bins=20)"
   ]
  },
  {
   "cell_type": "code",
   "execution_count": 36,
   "metadata": {},
   "outputs": [
    {
     "data": {
      "text/plain": [
       "Symptom_Fatigue                                         0.979440\n",
       "Symptom_Memory_short                                    0.924225\n",
       "Symptom_PEM                                             0.883601\n",
       "Symptom_Cognitive_Functioning_attentionconcentration    0.752943\n",
       "Symptom_Shortness_of_breath                             0.736860\n",
       "Symptom_Insomnia                                        0.693252\n",
       "Symptom_Tightness_of_chest                              0.680153\n",
       "Symptom_Muscle_aches                                    0.677168\n",
       "Symptom_Dizziness_vertigo                               0.672525\n",
       "Symptom_Cognitive_Functioning_thinking                  0.666225\n",
       "dtype: float64"
      ]
     },
     "execution_count": 36,
     "metadata": {},
     "output_type": "execute_result"
    }
   ],
   "source": [
    "sympdf.mean().sort_values(ascending=False).head(10)\n",
    "# we're filtering out fatigue, short term memory only (ok)"
   ]
  },
  {
   "cell_type": "code",
   "execution_count": 37,
   "metadata": {},
   "outputs": [
    {
     "data": {
      "text/plain": [
       "Symptom_Eye_Vision_loss_of_vision                         0.011109\n",
       "Symptom_Reproductive_early_menopause                      0.013928\n",
       "Symptom_Reproductive_postmenopausal_bleeding              0.016084\n",
       "Symptom_Hallucinations_other                              0.023379\n",
       "Symptom_SkinAllergy_shingles                              0.025701\n",
       "Symptom_Heightened_taste                                  0.030841\n",
       "Symptom_Sensations_facial_paralysis                       0.032001\n",
       "Symptom_Hallucinations_tactile                            0.033659\n",
       "Symptom_Reproductive_testicle_penis_pain_changes          0.036478\n",
       "Symptom_Eye_Vision_tunnel_vision                          0.038302\n",
       "Symptom_New_anaphylaxis                                   0.042945\n",
       "Symptom_Speech_other                                      0.043111\n",
       "Symptom_Coughing_up_blood                                 0.047919\n",
       "Symptom_Ear_numbness                                      0.049411\n",
       "Symptom_Inability_to_yawn                                 0.054054\n",
       "Symptom_Speech_changes_to_secondary_languages             0.055712\n",
       "Symptom_SkinAllergy_other_itchy                           0.057370\n",
       "Symptom_Sensations_facial_pressure_other                  0.060189\n",
       "Symptom_Sensations_facial_pressure_right                  0.067982\n",
       "Symptom_Hallucinations_auditory                           0.071132\n",
       "Symptom_Sensations_facial_pressure_left                   0.079257\n",
       "Symptom_Eye_Vision_double_vision                          0.079589\n",
       "Symptom_Dermatographia                                    0.080418\n",
       "Symptom_Heightened_smell                                  0.082242\n",
       "Symptom_Eye_Vision_redness_outside_eye                    0.083237\n",
       "Symptom_Respiratory_other                                 0.086055\n",
       "Symptom_Cognitive_Functioning_other                       0.087050\n",
       "Symptom_Memory_no_new_memories                            0.087548\n",
       "Symptom_Reproductive_other_menstrual_issues               0.090035\n",
       "Symptom_Speech_speaking_unrecognizable_words              0.094677\n",
       "Symptom_Skin_Allergy_other                                0.094677\n",
       "Symptom_Reproductive_abnormally_heavy_periods_clotting    0.095341\n",
       "Symptom_Hearing_loss                                      0.096999\n",
       "Symptom_Phantom_taste                                     0.098989\n",
       "Symptom_Hallucinations_visual                             0.103300\n",
       "Symptom_Cognitive_Functioning_agnosia                     0.108274\n",
       "Symptom_SkinAllergy_brittle_nail                          0.109435\n",
       "Symptom_New_allergies                                     0.111093\n",
       "Symptom_Reproductive_sexual_dysfunction                   0.112917\n",
       "Symptom_Memory_other                                      0.120046\n",
       "dtype: float64"
      ]
     },
     "execution_count": 37,
     "metadata": {},
     "output_type": "execute_result"
    }
   ],
   "source": [
    "# while these are rare, combos of rare sypmtoms might group together\n",
    "# and some are particularly significant. I think I could either filter at the 5% mark on either side\n",
    "# or I could  \n",
    "sympdf.mean().sort_values(ascending=True).head(40)\n"
   ]
  },
  {
   "cell_type": "code",
   "execution_count": 38,
   "metadata": {},
   "outputs": [],
   "source": [
    "# the formal rec might be 10% but I think I'm going to go with 5% for now\n",
    "sympdf = sympdf.loc[:, (sympdf.sum() / sympdf.shape[0] > 0.05) & (sympdf.sum()  / sympdf.shape[0]< 0.95)]"
   ]
  },
  {
   "cell_type": "code",
   "execution_count": 39,
   "metadata": {},
   "outputs": [
    {
     "data": {
      "text/plain": [
       "(6031, 147)"
      ]
     },
     "execution_count": 39,
     "metadata": {},
     "output_type": "execute_result"
    }
   ],
   "source": [
    "sympdf.shape"
   ]
  },
  {
   "cell_type": "code",
   "execution_count": 40,
   "metadata": {},
   "outputs": [],
   "source": [
    "# patient is a mixture of classes but it's meant to represent probs rather than actual multiple class labels\n",
    "# so this model is less complex, but it might still be more appropriate, it'll depend\n",
    "\n",
    "model = StepMix(n_components=9, measurement=\"binary\", verbose=0, random_state=123)\n"
   ]
  },
  {
   "cell_type": "code",
   "execution_count": 41,
   "metadata": {},
   "outputs": [
    {
     "name": "stdout",
     "output_type": "stream",
     "text": [
      "Fitting StepMix...\n"
     ]
    },
    {
     "name": "stderr",
     "output_type": "stream",
     "text": [
      "Initializations (n_init) : 100%|██████████| 1/1 [00:03<00:00,  3.72s/it, max_LL=-4.1e+5, max_avg_LL=-68]\n"
     ]
    },
    {
     "data": {
      "text/html": [
       "<style>#sk-container-id-2 {color: black;}#sk-container-id-2 pre{padding: 0;}#sk-container-id-2 div.sk-toggleable {background-color: white;}#sk-container-id-2 label.sk-toggleable__label {cursor: pointer;display: block;width: 100%;margin-bottom: 0;padding: 0.3em;box-sizing: border-box;text-align: center;}#sk-container-id-2 label.sk-toggleable__label-arrow:before {content: \"▸\";float: left;margin-right: 0.25em;color: #696969;}#sk-container-id-2 label.sk-toggleable__label-arrow:hover:before {color: black;}#sk-container-id-2 div.sk-estimator:hover label.sk-toggleable__label-arrow:before {color: black;}#sk-container-id-2 div.sk-toggleable__content {max-height: 0;max-width: 0;overflow: hidden;text-align: left;background-color: #f0f8ff;}#sk-container-id-2 div.sk-toggleable__content pre {margin: 0.2em;color: black;border-radius: 0.25em;background-color: #f0f8ff;}#sk-container-id-2 input.sk-toggleable__control:checked~div.sk-toggleable__content {max-height: 200px;max-width: 100%;overflow: auto;}#sk-container-id-2 input.sk-toggleable__control:checked~label.sk-toggleable__label-arrow:before {content: \"▾\";}#sk-container-id-2 div.sk-estimator input.sk-toggleable__control:checked~label.sk-toggleable__label {background-color: #d4ebff;}#sk-container-id-2 div.sk-label input.sk-toggleable__control:checked~label.sk-toggleable__label {background-color: #d4ebff;}#sk-container-id-2 input.sk-hidden--visually {border: 0;clip: rect(1px 1px 1px 1px);clip: rect(1px, 1px, 1px, 1px);height: 1px;margin: -1px;overflow: hidden;padding: 0;position: absolute;width: 1px;}#sk-container-id-2 div.sk-estimator {font-family: monospace;background-color: #f0f8ff;border: 1px dotted black;border-radius: 0.25em;box-sizing: border-box;margin-bottom: 0.5em;}#sk-container-id-2 div.sk-estimator:hover {background-color: #d4ebff;}#sk-container-id-2 div.sk-parallel-item::after {content: \"\";width: 100%;border-bottom: 1px solid gray;flex-grow: 1;}#sk-container-id-2 div.sk-label:hover label.sk-toggleable__label {background-color: #d4ebff;}#sk-container-id-2 div.sk-serial::before {content: \"\";position: absolute;border-left: 1px solid gray;box-sizing: border-box;top: 0;bottom: 0;left: 50%;z-index: 0;}#sk-container-id-2 div.sk-serial {display: flex;flex-direction: column;align-items: center;background-color: white;padding-right: 0.2em;padding-left: 0.2em;position: relative;}#sk-container-id-2 div.sk-item {position: relative;z-index: 1;}#sk-container-id-2 div.sk-parallel {display: flex;align-items: stretch;justify-content: center;background-color: white;position: relative;}#sk-container-id-2 div.sk-item::before, #sk-container-id-2 div.sk-parallel-item::before {content: \"\";position: absolute;border-left: 1px solid gray;box-sizing: border-box;top: 0;bottom: 0;left: 50%;z-index: -1;}#sk-container-id-2 div.sk-parallel-item {display: flex;flex-direction: column;z-index: 1;position: relative;background-color: white;}#sk-container-id-2 div.sk-parallel-item:first-child::after {align-self: flex-end;width: 50%;}#sk-container-id-2 div.sk-parallel-item:last-child::after {align-self: flex-start;width: 50%;}#sk-container-id-2 div.sk-parallel-item:only-child::after {width: 0;}#sk-container-id-2 div.sk-dashed-wrapped {border: 1px dashed gray;margin: 0 0.4em 0.5em 0.4em;box-sizing: border-box;padding-bottom: 0.4em;background-color: white;}#sk-container-id-2 div.sk-label label {font-family: monospace;font-weight: bold;display: inline-block;line-height: 1.2em;}#sk-container-id-2 div.sk-label-container {text-align: center;}#sk-container-id-2 div.sk-container {/* jupyter's `normalize.less` sets `[hidden] { display: none; }` but bootstrap.min.css set `[hidden] { display: none !important; }` so we also need the `!important` here to be able to override the default hidden behavior on the sphinx rendered scikit-learn.org. See: https://github.com/scikit-learn/scikit-learn/issues/21755 */display: inline-block !important;position: relative;}#sk-container-id-2 div.sk-text-repr-fallback {display: none;}</style><div id=\"sk-container-id-2\" class=\"sk-top-container\"><div class=\"sk-text-repr-fallback\"><pre>StepMix(measurement=&#x27;binary&#x27;, n_components=9, random_state=123)</pre><b>In a Jupyter environment, please rerun this cell to show the HTML representation or trust the notebook. <br />On GitHub, the HTML representation is unable to render, please try loading this page with nbviewer.org.</b></div><div class=\"sk-container\" hidden><div class=\"sk-item\"><div class=\"sk-estimator sk-toggleable\"><input class=\"sk-toggleable__control sk-hidden--visually\" id=\"sk-estimator-id-2\" type=\"checkbox\" checked><label for=\"sk-estimator-id-2\" class=\"sk-toggleable__label sk-toggleable__label-arrow\">StepMix</label><div class=\"sk-toggleable__content\"><pre>StepMix(measurement=&#x27;binary&#x27;, n_components=9, random_state=123)</pre></div></div></div></div></div>"
      ],
      "text/plain": [
       "StepMix(measurement='binary', n_components=9, random_state=123)"
      ]
     },
     "execution_count": 41,
     "metadata": {},
     "output_type": "execute_result"
    }
   ],
   "source": [
    "model.fit(sympdf)\n"
   ]
  },
  {
   "cell_type": "code",
   "execution_count": 105,
   "metadata": {},
   "outputs": [
    {
     "name": "stdout",
     "output_type": "stream",
     "text": [
      "Fitting StepMix...\n"
     ]
    },
    {
     "name": "stderr",
     "output_type": "stream",
     "text": [
      "Initializations (n_init) : 100%|██████████| 1/1 [00:00<00:00,  2.37it/s, max_LL=-2.87e+5, max_avg_LL=-71.3]\n"
     ]
    },
    {
     "name": "stdout",
     "output_type": "stream",
     "text": [
      "Fitting StepMix...\n"
     ]
    },
    {
     "name": "stderr",
     "output_type": "stream",
     "text": [
      "Initializations (n_init) : 100%|██████████| 1/1 [00:00<00:00,  8.03it/s, max_LL=-2.86e+5, max_avg_LL=-71.2]\n"
     ]
    },
    {
     "name": "stdout",
     "output_type": "stream",
     "text": [
      "Fitting StepMix...\n"
     ]
    },
    {
     "name": "stderr",
     "output_type": "stream",
     "text": [
      "Initializations (n_init) : 100%|██████████| 1/1 [00:00<00:00,  5.26it/s, max_LL=-2.88e+5, max_avg_LL=-71.7]\n"
     ]
    },
    {
     "name": "stdout",
     "output_type": "stream",
     "text": [
      "Fitting StepMix...\n"
     ]
    },
    {
     "name": "stderr",
     "output_type": "stream",
     "text": [
      "Initializations (n_init) : 100%|██████████| 1/1 [00:00<00:00,  2.40it/s, max_LL=-2.8e+5, max_avg_LL=-69.8]\n"
     ]
    },
    {
     "name": "stdout",
     "output_type": "stream",
     "text": [
      "Fitting StepMix...\n"
     ]
    },
    {
     "name": "stderr",
     "output_type": "stream",
     "text": [
      "Initializations (n_init) : 100%|██████████| 1/1 [00:00<00:00,  2.03it/s, max_LL=-2.8e+5, max_avg_LL=-69.7]\n"
     ]
    },
    {
     "name": "stdout",
     "output_type": "stream",
     "text": [
      "Fitting StepMix...\n"
     ]
    },
    {
     "name": "stderr",
     "output_type": "stream",
     "text": [
      "Initializations (n_init) : 100%|██████████| 1/1 [00:00<00:00,  2.07it/s, max_LL=-2.83e+5, max_avg_LL=-70.3]\n"
     ]
    },
    {
     "name": "stdout",
     "output_type": "stream",
     "text": [
      "Fitting StepMix...\n"
     ]
    },
    {
     "name": "stderr",
     "output_type": "stream",
     "text": [
      "Initializations (n_init) : 100%|██████████| 1/1 [00:00<00:00,  1.91it/s, max_LL=-2.78e+5, max_avg_LL=-69.1]\n"
     ]
    },
    {
     "name": "stdout",
     "output_type": "stream",
     "text": [
      "Fitting StepMix...\n"
     ]
    },
    {
     "name": "stderr",
     "output_type": "stream",
     "text": [
      "Initializations (n_init) : 100%|██████████| 1/1 [00:00<00:00,  2.48it/s, max_LL=-2.78e+5, max_avg_LL=-69]\n"
     ]
    },
    {
     "name": "stdout",
     "output_type": "stream",
     "text": [
      "Fitting StepMix...\n"
     ]
    },
    {
     "name": "stderr",
     "output_type": "stream",
     "text": [
      "Initializations (n_init) : 100%|██████████| 1/1 [00:00<00:00,  2.60it/s, max_LL=-2.8e+5, max_avg_LL=-69.7]\n"
     ]
    },
    {
     "name": "stdout",
     "output_type": "stream",
     "text": [
      "Fitting StepMix...\n"
     ]
    },
    {
     "name": "stderr",
     "output_type": "stream",
     "text": [
      "Initializations (n_init) : 100%|██████████| 1/1 [00:01<00:00,  1.16s/it, max_LL=-2.75e+5, max_avg_LL=-68.5]\n"
     ]
    },
    {
     "name": "stdout",
     "output_type": "stream",
     "text": [
      "Fitting StepMix...\n"
     ]
    },
    {
     "name": "stderr",
     "output_type": "stream",
     "text": [
      "Initializations (n_init) : 100%|██████████| 1/1 [00:00<00:00,  1.84it/s, max_LL=-2.76e+5, max_avg_LL=-68.6]\n"
     ]
    },
    {
     "name": "stdout",
     "output_type": "stream",
     "text": [
      "Fitting StepMix...\n"
     ]
    },
    {
     "name": "stderr",
     "output_type": "stream",
     "text": [
      "Initializations (n_init) : 100%|██████████| 1/1 [00:02<00:00,  2.02s/it, max_LL=-2.78e+5, max_avg_LL=-69.2]\n"
     ]
    },
    {
     "name": "stdout",
     "output_type": "stream",
     "text": [
      "Fitting StepMix...\n"
     ]
    },
    {
     "name": "stderr",
     "output_type": "stream",
     "text": [
      "Initializations (n_init) : 100%|██████████| 1/1 [00:01<00:00,  1.07s/it, max_LL=-2.75e+5, max_avg_LL=-68.3]\n"
     ]
    },
    {
     "name": "stdout",
     "output_type": "stream",
     "text": [
      "Fitting StepMix...\n"
     ]
    },
    {
     "name": "stderr",
     "output_type": "stream",
     "text": [
      "Initializations (n_init) : 100%|██████████| 1/1 [00:00<00:00,  1.17it/s, max_LL=-2.74e+5, max_avg_LL=-68.3]\n"
     ]
    },
    {
     "name": "stdout",
     "output_type": "stream",
     "text": [
      "Fitting StepMix...\n"
     ]
    },
    {
     "name": "stderr",
     "output_type": "stream",
     "text": [
      "Initializations (n_init) : 100%|██████████| 1/1 [00:00<00:00,  2.25it/s, max_LL=-2.77e+5, max_avg_LL=-68.9]\n"
     ]
    },
    {
     "name": "stdout",
     "output_type": "stream",
     "text": [
      "Fitting StepMix...\n"
     ]
    },
    {
     "name": "stderr",
     "output_type": "stream",
     "text": [
      "Initializations (n_init) : 100%|██████████| 1/1 [00:04<00:00,  4.01s/it, max_LL=-2.73e+5, max_avg_LL=-68]\n"
     ]
    },
    {
     "name": "stdout",
     "output_type": "stream",
     "text": [
      "Fitting StepMix...\n"
     ]
    },
    {
     "name": "stderr",
     "output_type": "stream",
     "text": [
      "Initializations (n_init) : 100%|██████████| 1/1 [00:03<00:00,  3.34s/it, max_LL=-2.74e+5, max_avg_LL=-68]\n"
     ]
    },
    {
     "name": "stdout",
     "output_type": "stream",
     "text": [
      "Fitting StepMix...\n"
     ]
    },
    {
     "name": "stderr",
     "output_type": "stream",
     "text": [
      "Initializations (n_init) : 100%|██████████| 1/1 [00:00<00:00,  1.41it/s, max_LL=-2.76e+5, max_avg_LL=-68.7]\n"
     ]
    },
    {
     "name": "stdout",
     "output_type": "stream",
     "text": [
      "Fitting StepMix...\n"
     ]
    },
    {
     "name": "stderr",
     "output_type": "stream",
     "text": [
      "Initializations (n_init) : 100%|██████████| 1/1 [00:00<00:00,  1.30it/s, max_LL=-2.72e+5, max_avg_LL=-67.8]\n"
     ]
    },
    {
     "name": "stdout",
     "output_type": "stream",
     "text": [
      "Fitting StepMix...\n"
     ]
    },
    {
     "name": "stderr",
     "output_type": "stream",
     "text": [
      "Initializations (n_init) : 100%|██████████| 1/1 [00:01<00:00,  1.08s/it, max_LL=-2.73e+5, max_avg_LL=-67.8]\n"
     ]
    },
    {
     "name": "stdout",
     "output_type": "stream",
     "text": [
      "Fitting StepMix...\n"
     ]
    },
    {
     "name": "stderr",
     "output_type": "stream",
     "text": [
      "Initializations (n_init) : 100%|██████████| 1/1 [00:00<00:00,  1.12it/s, max_LL=-2.76e+5, max_avg_LL=-68.6]\n"
     ]
    },
    {
     "name": "stdout",
     "output_type": "stream",
     "text": [
      "Fitting StepMix...\n"
     ]
    },
    {
     "name": "stderr",
     "output_type": "stream",
     "text": [
      "Initializations (n_init) : 100%|██████████| 1/1 [00:01<00:00,  1.52s/it, max_LL=-2.72e+5, max_avg_LL=-67.6]\n"
     ]
    },
    {
     "name": "stdout",
     "output_type": "stream",
     "text": [
      "Fitting StepMix...\n"
     ]
    },
    {
     "name": "stderr",
     "output_type": "stream",
     "text": [
      "Initializations (n_init) : 100%|██████████| 1/1 [00:05<00:00,  5.42s/it, max_LL=-2.72e+5, max_avg_LL=-67.7]\n"
     ]
    },
    {
     "name": "stdout",
     "output_type": "stream",
     "text": [
      "Fitting StepMix...\n"
     ]
    },
    {
     "name": "stderr",
     "output_type": "stream",
     "text": [
      "Initializations (n_init) : 100%|██████████| 1/1 [00:01<00:00,  1.53s/it, max_LL=-2.75e+5, max_avg_LL=-68.4]\n"
     ]
    },
    {
     "name": "stdout",
     "output_type": "stream",
     "text": [
      "Fitting StepMix...\n"
     ]
    },
    {
     "name": "stderr",
     "output_type": "stream",
     "text": [
      "Initializations (n_init) : 100%|██████████| 1/1 [00:03<00:00,  3.40s/it, max_LL=-2.71e+5, max_avg_LL=-67.5]\n"
     ]
    },
    {
     "name": "stdout",
     "output_type": "stream",
     "text": [
      "Fitting StepMix...\n"
     ]
    },
    {
     "name": "stderr",
     "output_type": "stream",
     "text": [
      "Initializations (n_init) : 100%|██████████| 1/1 [00:08<00:00,  8.42s/it, max_LL=-2.71e+5, max_avg_LL=-67.5]\n"
     ]
    },
    {
     "name": "stdout",
     "output_type": "stream",
     "text": [
      "Fitting StepMix...\n"
     ]
    },
    {
     "name": "stderr",
     "output_type": "stream",
     "text": [
      "Initializations (n_init) : 100%|██████████| 1/1 [00:04<00:00,  4.42s/it, max_LL=-2.74e+5, max_avg_LL=-68.3]\n"
     ]
    },
    {
     "name": "stdout",
     "output_type": "stream",
     "text": [
      "Fitting StepMix...\n"
     ]
    },
    {
     "name": "stderr",
     "output_type": "stream",
     "text": [
      "Initializations (n_init) : 100%|██████████| 1/1 [00:02<00:00,  2.24s/it, max_LL=-2.71e+5, max_avg_LL=-67.3]\n"
     ]
    },
    {
     "name": "stdout",
     "output_type": "stream",
     "text": [
      "Fitting StepMix...\n"
     ]
    },
    {
     "name": "stderr",
     "output_type": "stream",
     "text": [
      "Initializations (n_init) : 100%|██████████| 1/1 [00:06<00:00,  6.81s/it, max_LL=-2.71e+5, max_avg_LL=-67.4]\n"
     ]
    },
    {
     "name": "stdout",
     "output_type": "stream",
     "text": [
      "Fitting StepMix...\n"
     ]
    },
    {
     "name": "stderr",
     "output_type": "stream",
     "text": [
      "Initializations (n_init) : 100%|██████████| 1/1 [00:04<00:00,  4.53s/it, max_LL=-2.74e+5, max_avg_LL=-68.1]\n"
     ]
    },
    {
     "name": "stdout",
     "output_type": "stream",
     "text": [
      "Fitting StepMix...\n"
     ]
    },
    {
     "name": "stderr",
     "output_type": "stream",
     "text": [
      "Initializations (n_init) : 100%|██████████| 1/1 [00:04<00:00,  4.81s/it, max_LL=-2.7e+5, max_avg_LL=-67.2]\n"
     ]
    },
    {
     "name": "stdout",
     "output_type": "stream",
     "text": [
      "Fitting StepMix...\n"
     ]
    },
    {
     "name": "stderr",
     "output_type": "stream",
     "text": [
      "Initializations (n_init) : 100%|██████████| 1/1 [00:05<00:00,  5.88s/it, max_LL=-2.7e+5, max_avg_LL=-67.2]\n"
     ]
    },
    {
     "name": "stdout",
     "output_type": "stream",
     "text": [
      "Fitting StepMix...\n"
     ]
    },
    {
     "name": "stderr",
     "output_type": "stream",
     "text": [
      "Initializations (n_init) : 100%|██████████| 1/1 [00:04<00:00,  4.34s/it, max_LL=-2.73e+5, max_avg_LL=-68]\n"
     ]
    },
    {
     "name": "stdout",
     "output_type": "stream",
     "text": [
      "Fitting StepMix...\n"
     ]
    },
    {
     "name": "stderr",
     "output_type": "stream",
     "text": [
      "Initializations (n_init) : 100%|██████████| 1/1 [00:03<00:00,  3.62s/it, max_LL=-2.7e+5, max_avg_LL=-67.1]\n"
     ]
    },
    {
     "name": "stdout",
     "output_type": "stream",
     "text": [
      "Fitting StepMix...\n"
     ]
    },
    {
     "name": "stderr",
     "output_type": "stream",
     "text": [
      "Initializations (n_init) : 100%|██████████| 1/1 [00:09<00:00,  9.76s/it, max_LL=-2.7e+5, max_avg_LL=-67.1]\n",
      "/Users/tessa/miniforge3/envs/stepmix/lib/python3.12/site-packages/stepmix/stepmix.py:968: ConvergenceWarning: Initializations did not converge. Try different init parameters, or increase max_iter, abs_tol, rel_tol or check for degenerate data.\n",
      "  warnings.warn(\n"
     ]
    },
    {
     "name": "stdout",
     "output_type": "stream",
     "text": [
      "Fitting StepMix...\n"
     ]
    },
    {
     "name": "stderr",
     "output_type": "stream",
     "text": [
      "Initializations (n_init) : 100%|██████████| 1/1 [00:07<00:00,  7.02s/it, max_LL=-2.73e+5, max_avg_LL=-67.9]\n"
     ]
    },
    {
     "name": "stdout",
     "output_type": "stream",
     "text": [
      "Fitting StepMix...\n"
     ]
    },
    {
     "name": "stderr",
     "output_type": "stream",
     "text": [
      "Initializations (n_init) : 100%|██████████| 1/1 [00:02<00:00,  2.59s/it, max_LL=-2.69e+5, max_avg_LL=-67]\n"
     ]
    },
    {
     "name": "stdout",
     "output_type": "stream",
     "text": [
      "Fitting StepMix...\n"
     ]
    },
    {
     "name": "stderr",
     "output_type": "stream",
     "text": [
      "Initializations (n_init) : 100%|██████████| 1/1 [00:07<00:00,  7.39s/it, max_LL=-2.69e+5, max_avg_LL=-67]\n"
     ]
    },
    {
     "name": "stdout",
     "output_type": "stream",
     "text": [
      "Fitting StepMix...\n"
     ]
    },
    {
     "name": "stderr",
     "output_type": "stream",
     "text": [
      "Initializations (n_init) : 100%|██████████| 1/1 [00:06<00:00,  6.74s/it, max_LL=-2.73e+5, max_avg_LL=-67.8]\n"
     ]
    },
    {
     "name": "stdout",
     "output_type": "stream",
     "text": [
      "Fitting StepMix...\n"
     ]
    },
    {
     "name": "stderr",
     "output_type": "stream",
     "text": [
      "Initializations (n_init) : 100%|██████████| 1/1 [00:02<00:00,  2.32s/it, max_LL=-2.69e+5, max_avg_LL=-66.8]\n"
     ]
    },
    {
     "name": "stdout",
     "output_type": "stream",
     "text": [
      "Fitting StepMix...\n"
     ]
    },
    {
     "name": "stderr",
     "output_type": "stream",
     "text": [
      "Initializations (n_init) : 100%|██████████| 1/1 [00:14<00:00, 14.04s/it, max_LL=-2.69e+5, max_avg_LL=-66.9]\n"
     ]
    },
    {
     "name": "stdout",
     "output_type": "stream",
     "text": [
      "Fitting StepMix...\n"
     ]
    },
    {
     "name": "stderr",
     "output_type": "stream",
     "text": [
      "Initializations (n_init) : 100%|██████████| 1/1 [00:09<00:00,  9.26s/it, max_LL=-2.72e+5, max_avg_LL=-67.6]\n"
     ]
    },
    {
     "name": "stdout",
     "output_type": "stream",
     "text": [
      "Fitting StepMix...\n"
     ]
    },
    {
     "name": "stderr",
     "output_type": "stream",
     "text": [
      "Initializations (n_init) : 100%|██████████| 1/1 [00:03<00:00,  3.14s/it, max_LL=-2.68e+5, max_avg_LL=-66.8]\n"
     ]
    },
    {
     "name": "stdout",
     "output_type": "stream",
     "text": [
      "Fitting StepMix...\n"
     ]
    },
    {
     "name": "stderr",
     "output_type": "stream",
     "text": [
      "Initializations (n_init) : 100%|██████████| 1/1 [00:05<00:00,  5.06s/it, max_LL=-2.68e+5, max_avg_LL=-66.8]\n"
     ]
    },
    {
     "name": "stdout",
     "output_type": "stream",
     "text": [
      "Fitting StepMix...\n"
     ]
    },
    {
     "name": "stderr",
     "output_type": "stream",
     "text": [
      "Initializations (n_init) : 100%|██████████| 1/1 [00:04<00:00,  4.29s/it, max_LL=-2.72e+5, max_avg_LL=-67.6]\n"
     ]
    },
    {
     "name": "stdout",
     "output_type": "stream",
     "text": [
      "Fitting StepMix...\n"
     ]
    },
    {
     "name": "stderr",
     "output_type": "stream",
     "text": [
      "Initializations (n_init) : 100%|██████████| 1/1 [00:10<00:00, 10.95s/it, max_LL=-2.68e+5, max_avg_LL=-66.6]\n"
     ]
    },
    {
     "name": "stdout",
     "output_type": "stream",
     "text": [
      "Fitting StepMix...\n"
     ]
    },
    {
     "name": "stderr",
     "output_type": "stream",
     "text": [
      "Initializations (n_init) : 100%|██████████| 1/1 [00:02<00:00,  2.51s/it, max_LL=-2.68e+5, max_avg_LL=-66.7]\n"
     ]
    },
    {
     "name": "stdout",
     "output_type": "stream",
     "text": [
      "Fitting StepMix...\n"
     ]
    },
    {
     "name": "stderr",
     "output_type": "stream",
     "text": [
      "Initializations (n_init) : 100%|██████████| 1/1 [00:08<00:00,  8.25s/it, max_LL=-2.71e+5, max_avg_LL=-67.5]\n"
     ]
    },
    {
     "name": "stdout",
     "output_type": "stream",
     "text": [
      "Fitting StepMix...\n"
     ]
    },
    {
     "name": "stderr",
     "output_type": "stream",
     "text": [
      "Initializations (n_init) : 100%|██████████| 1/1 [00:15<00:00, 15.30s/it, max_LL=-2.68e+5, max_avg_LL=-66.6]\n",
      "/Users/tessa/miniforge3/envs/stepmix/lib/python3.12/site-packages/stepmix/stepmix.py:968: ConvergenceWarning: Initializations did not converge. Try different init parameters, or increase max_iter, abs_tol, rel_tol or check for degenerate data.\n",
      "  warnings.warn(\n"
     ]
    },
    {
     "name": "stdout",
     "output_type": "stream",
     "text": [
      "Fitting StepMix...\n"
     ]
    },
    {
     "name": "stderr",
     "output_type": "stream",
     "text": [
      "Initializations (n_init) : 100%|██████████| 1/1 [00:13<00:00, 13.16s/it, max_LL=-2.68e+5, max_avg_LL=-66.6]\n"
     ]
    },
    {
     "name": "stdout",
     "output_type": "stream",
     "text": [
      "Fitting StepMix...\n"
     ]
    },
    {
     "name": "stderr",
     "output_type": "stream",
     "text": [
      "Initializations (n_init) : 100%|██████████| 1/1 [00:04<00:00,  4.26s/it, max_LL=-2.71e+5, max_avg_LL=-67.4]\n"
     ]
    },
    {
     "name": "stdout",
     "output_type": "stream",
     "text": [
      "Fitting StepMix...\n"
     ]
    },
    {
     "name": "stderr",
     "output_type": "stream",
     "text": [
      "Initializations (n_init) : 100%|██████████| 1/1 [00:08<00:00,  8.26s/it, max_LL=-2.67e+5, max_avg_LL=-66.5]\n"
     ]
    },
    {
     "name": "stdout",
     "output_type": "stream",
     "text": [
      "Fitting StepMix...\n"
     ]
    },
    {
     "name": "stderr",
     "output_type": "stream",
     "text": [
      "Initializations (n_init) : 100%|██████████| 1/1 [00:10<00:00, 10.60s/it, max_LL=-2.67e+5, max_avg_LL=-66.5]\n",
      "/Users/tessa/miniforge3/envs/stepmix/lib/python3.12/site-packages/stepmix/stepmix.py:968: ConvergenceWarning: Initializations did not converge. Try different init parameters, or increase max_iter, abs_tol, rel_tol or check for degenerate data.\n",
      "  warnings.warn(\n"
     ]
    },
    {
     "name": "stdout",
     "output_type": "stream",
     "text": [
      "Fitting StepMix...\n"
     ]
    },
    {
     "name": "stderr",
     "output_type": "stream",
     "text": [
      "Initializations (n_init) : 100%|██████████| 1/1 [00:11<00:00, 11.91s/it, max_LL=-2.71e+5, max_avg_LL=-67.4]\n",
      "/Users/tessa/miniforge3/envs/stepmix/lib/python3.12/site-packages/stepmix/stepmix.py:968: ConvergenceWarning: Initializations did not converge. Try different init parameters, or increase max_iter, abs_tol, rel_tol or check for degenerate data.\n",
      "  warnings.warn(\n"
     ]
    },
    {
     "name": "stdout",
     "output_type": "stream",
     "text": [
      "Fitting StepMix...\n"
     ]
    },
    {
     "name": "stderr",
     "output_type": "stream",
     "text": [
      "Initializations (n_init) : 100%|██████████| 1/1 [00:11<00:00, 11.81s/it, max_LL=-2.67e+5, max_avg_LL=-66.4]\n"
     ]
    },
    {
     "name": "stdout",
     "output_type": "stream",
     "text": [
      "Fitting StepMix...\n"
     ]
    },
    {
     "name": "stderr",
     "output_type": "stream",
     "text": [
      "Initializations (n_init) : 100%|██████████| 1/1 [00:10<00:00, 10.04s/it, max_LL=-2.67e+5, max_avg_LL=-66.4]\n",
      "/Users/tessa/miniforge3/envs/stepmix/lib/python3.12/site-packages/stepmix/stepmix.py:968: ConvergenceWarning: Initializations did not converge. Try different init parameters, or increase max_iter, abs_tol, rel_tol or check for degenerate data.\n",
      "  warnings.warn(\n"
     ]
    },
    {
     "name": "stdout",
     "output_type": "stream",
     "text": [
      "Fitting StepMix...\n"
     ]
    },
    {
     "name": "stderr",
     "output_type": "stream",
     "text": [
      "Initializations (n_init) : 100%|██████████| 1/1 [00:10<00:00, 10.63s/it, max_LL=-2.7e+5, max_avg_LL=-67.2]\n",
      "/Users/tessa/miniforge3/envs/stepmix/lib/python3.12/site-packages/stepmix/stepmix.py:968: ConvergenceWarning: Initializations did not converge. Try different init parameters, or increase max_iter, abs_tol, rel_tol or check for degenerate data.\n",
      "  warnings.warn(\n"
     ]
    },
    {
     "name": "stdout",
     "output_type": "stream",
     "text": [
      "Fitting StepMix...\n"
     ]
    },
    {
     "name": "stderr",
     "output_type": "stream",
     "text": [
      "Initializations (n_init) : 100%|██████████| 1/1 [00:11<00:00, 11.15s/it, max_LL=-2.67e+5, max_avg_LL=-66.3]\n",
      "/Users/tessa/miniforge3/envs/stepmix/lib/python3.12/site-packages/stepmix/stepmix.py:968: ConvergenceWarning: Initializations did not converge. Try different init parameters, or increase max_iter, abs_tol, rel_tol or check for degenerate data.\n",
      "  warnings.warn(\n"
     ]
    },
    {
     "name": "stdout",
     "output_type": "stream",
     "text": [
      "Fitting StepMix...\n"
     ]
    },
    {
     "name": "stderr",
     "output_type": "stream",
     "text": [
      "Initializations (n_init) : 100%|██████████| 1/1 [00:07<00:00,  7.83s/it, max_LL=-2.67e+5, max_avg_LL=-66.3]\n"
     ]
    },
    {
     "name": "stdout",
     "output_type": "stream",
     "text": [
      "Fitting StepMix...\n"
     ]
    },
    {
     "name": "stderr",
     "output_type": "stream",
     "text": [
      "Initializations (n_init) : 100%|██████████| 1/1 [00:06<00:00,  6.30s/it, max_LL=-2.7e+5, max_avg_LL=-67.2]\n"
     ]
    },
    {
     "name": "stdout",
     "output_type": "stream",
     "text": [
      "Fitting StepMix...\n"
     ]
    },
    {
     "name": "stderr",
     "output_type": "stream",
     "text": [
      "Initializations (n_init) : 100%|██████████| 1/1 [00:07<00:00,  7.70s/it, max_LL=-2.66e+5, max_avg_LL=-66.3]\n"
     ]
    },
    {
     "name": "stdout",
     "output_type": "stream",
     "text": [
      "Fitting StepMix...\n"
     ]
    },
    {
     "name": "stderr",
     "output_type": "stream",
     "text": [
      "Initializations (n_init) : 100%|██████████| 1/1 [00:08<00:00,  8.69s/it, max_LL=-2.66e+5, max_avg_LL=-66.2]\n"
     ]
    },
    {
     "name": "stdout",
     "output_type": "stream",
     "text": [
      "Fitting StepMix...\n"
     ]
    },
    {
     "name": "stderr",
     "output_type": "stream",
     "text": [
      "Initializations (n_init) : 100%|██████████| 1/1 [00:06<00:00,  6.73s/it, max_LL=-2.7e+5, max_avg_LL=-67.1]\n"
     ]
    },
    {
     "name": "stdout",
     "output_type": "stream",
     "text": [
      "Fitting StepMix...\n"
     ]
    },
    {
     "name": "stderr",
     "output_type": "stream",
     "text": [
      "Initializations (n_init) : 100%|██████████| 1/1 [00:08<00:00,  8.78s/it, max_LL=-2.66e+5, max_avg_LL=-66.1]\n"
     ]
    },
    {
     "name": "stdout",
     "output_type": "stream",
     "text": [
      "Fitting StepMix...\n"
     ]
    },
    {
     "name": "stderr",
     "output_type": "stream",
     "text": [
      "Initializations (n_init) : 100%|██████████| 1/1 [00:05<00:00,  5.54s/it, max_LL=-2.66e+5, max_avg_LL=-66.2]\n"
     ]
    },
    {
     "name": "stdout",
     "output_type": "stream",
     "text": [
      "Fitting StepMix...\n"
     ]
    },
    {
     "name": "stderr",
     "output_type": "stream",
     "text": [
      "Initializations (n_init) : 100%|██████████| 1/1 [00:07<00:00,  7.90s/it, max_LL=-2.7e+5, max_avg_LL=-67.1]\n"
     ]
    },
    {
     "name": "stdout",
     "output_type": "stream",
     "text": [
      "Fitting StepMix...\n"
     ]
    },
    {
     "name": "stderr",
     "output_type": "stream",
     "text": [
      "Initializations (n_init) : 100%|██████████| 1/1 [00:07<00:00,  7.46s/it, max_LL=-2.66e+5, max_avg_LL=-66.1]\n"
     ]
    },
    {
     "name": "stdout",
     "output_type": "stream",
     "text": [
      "Fitting StepMix...\n"
     ]
    },
    {
     "name": "stderr",
     "output_type": "stream",
     "text": [
      "Initializations (n_init) : 100%|██████████| 1/1 [00:09<00:00,  9.56s/it, max_LL=-2.66e+5, max_avg_LL=-66.1]\n",
      "/Users/tessa/miniforge3/envs/stepmix/lib/python3.12/site-packages/stepmix/stepmix.py:968: ConvergenceWarning: Initializations did not converge. Try different init parameters, or increase max_iter, abs_tol, rel_tol or check for degenerate data.\n",
      "  warnings.warn(\n"
     ]
    },
    {
     "name": "stdout",
     "output_type": "stream",
     "text": [
      "Fitting StepMix...\n"
     ]
    },
    {
     "name": "stderr",
     "output_type": "stream",
     "text": [
      "Initializations (n_init) : 100%|██████████| 1/1 [00:13<00:00, 13.01s/it, max_LL=-2.69e+5, max_avg_LL=-67]\n",
      "/Users/tessa/miniforge3/envs/stepmix/lib/python3.12/site-packages/stepmix/stepmix.py:968: ConvergenceWarning: Initializations did not converge. Try different init parameters, or increase max_iter, abs_tol, rel_tol or check for degenerate data.\n",
      "  warnings.warn(\n"
     ]
    },
    {
     "name": "stdout",
     "output_type": "stream",
     "text": [
      "Fitting StepMix...\n"
     ]
    },
    {
     "name": "stderr",
     "output_type": "stream",
     "text": [
      "Initializations (n_init) : 100%|██████████| 1/1 [00:11<00:00, 11.80s/it, max_LL=-2.66e+5, max_avg_LL=-66.1]\n"
     ]
    },
    {
     "name": "stdout",
     "output_type": "stream",
     "text": [
      "Fitting StepMix...\n"
     ]
    },
    {
     "name": "stderr",
     "output_type": "stream",
     "text": [
      "Initializations (n_init) : 100%|██████████| 1/1 [00:12<00:00, 12.18s/it, max_LL=-2.66e+5, max_avg_LL=-66.1]\n"
     ]
    },
    {
     "name": "stdout",
     "output_type": "stream",
     "text": [
      "Fitting StepMix...\n"
     ]
    },
    {
     "name": "stderr",
     "output_type": "stream",
     "text": [
      "Initializations (n_init) : 100%|██████████| 1/1 [00:06<00:00,  6.44s/it, max_LL=-2.69e+5, max_avg_LL=-66.9]\n"
     ]
    },
    {
     "name": "stdout",
     "output_type": "stream",
     "text": [
      "Fitting StepMix...\n"
     ]
    },
    {
     "name": "stderr",
     "output_type": "stream",
     "text": [
      "Initializations (n_init) : 100%|██████████| 1/1 [00:18<00:00, 18.96s/it, max_LL=-4.02e+5, max_avg_LL=-66.6]\n",
      "/Users/tessa/miniforge3/envs/stepmix/lib/python3.12/site-packages/stepmix/stepmix.py:968: ConvergenceWarning: Initializations did not converge. Try different init parameters, or increase max_iter, abs_tol, rel_tol or check for degenerate data.\n",
      "  warnings.warn(\n"
     ]
    },
    {
     "data": {
      "text/html": [
       "<style>#sk-container-id-6 {color: black;}#sk-container-id-6 pre{padding: 0;}#sk-container-id-6 div.sk-toggleable {background-color: white;}#sk-container-id-6 label.sk-toggleable__label {cursor: pointer;display: block;width: 100%;margin-bottom: 0;padding: 0.3em;box-sizing: border-box;text-align: center;}#sk-container-id-6 label.sk-toggleable__label-arrow:before {content: \"▸\";float: left;margin-right: 0.25em;color: #696969;}#sk-container-id-6 label.sk-toggleable__label-arrow:hover:before {color: black;}#sk-container-id-6 div.sk-estimator:hover label.sk-toggleable__label-arrow:before {color: black;}#sk-container-id-6 div.sk-toggleable__content {max-height: 0;max-width: 0;overflow: hidden;text-align: left;background-color: #f0f8ff;}#sk-container-id-6 div.sk-toggleable__content pre {margin: 0.2em;color: black;border-radius: 0.25em;background-color: #f0f8ff;}#sk-container-id-6 input.sk-toggleable__control:checked~div.sk-toggleable__content {max-height: 200px;max-width: 100%;overflow: auto;}#sk-container-id-6 input.sk-toggleable__control:checked~label.sk-toggleable__label-arrow:before {content: \"▾\";}#sk-container-id-6 div.sk-estimator input.sk-toggleable__control:checked~label.sk-toggleable__label {background-color: #d4ebff;}#sk-container-id-6 div.sk-label input.sk-toggleable__control:checked~label.sk-toggleable__label {background-color: #d4ebff;}#sk-container-id-6 input.sk-hidden--visually {border: 0;clip: rect(1px 1px 1px 1px);clip: rect(1px, 1px, 1px, 1px);height: 1px;margin: -1px;overflow: hidden;padding: 0;position: absolute;width: 1px;}#sk-container-id-6 div.sk-estimator {font-family: monospace;background-color: #f0f8ff;border: 1px dotted black;border-radius: 0.25em;box-sizing: border-box;margin-bottom: 0.5em;}#sk-container-id-6 div.sk-estimator:hover {background-color: #d4ebff;}#sk-container-id-6 div.sk-parallel-item::after {content: \"\";width: 100%;border-bottom: 1px solid gray;flex-grow: 1;}#sk-container-id-6 div.sk-label:hover label.sk-toggleable__label {background-color: #d4ebff;}#sk-container-id-6 div.sk-serial::before {content: \"\";position: absolute;border-left: 1px solid gray;box-sizing: border-box;top: 0;bottom: 0;left: 50%;z-index: 0;}#sk-container-id-6 div.sk-serial {display: flex;flex-direction: column;align-items: center;background-color: white;padding-right: 0.2em;padding-left: 0.2em;position: relative;}#sk-container-id-6 div.sk-item {position: relative;z-index: 1;}#sk-container-id-6 div.sk-parallel {display: flex;align-items: stretch;justify-content: center;background-color: white;position: relative;}#sk-container-id-6 div.sk-item::before, #sk-container-id-6 div.sk-parallel-item::before {content: \"\";position: absolute;border-left: 1px solid gray;box-sizing: border-box;top: 0;bottom: 0;left: 50%;z-index: -1;}#sk-container-id-6 div.sk-parallel-item {display: flex;flex-direction: column;z-index: 1;position: relative;background-color: white;}#sk-container-id-6 div.sk-parallel-item:first-child::after {align-self: flex-end;width: 50%;}#sk-container-id-6 div.sk-parallel-item:last-child::after {align-self: flex-start;width: 50%;}#sk-container-id-6 div.sk-parallel-item:only-child::after {width: 0;}#sk-container-id-6 div.sk-dashed-wrapped {border: 1px dashed gray;margin: 0 0.4em 0.5em 0.4em;box-sizing: border-box;padding-bottom: 0.4em;background-color: white;}#sk-container-id-6 div.sk-label label {font-family: monospace;font-weight: bold;display: inline-block;line-height: 1.2em;}#sk-container-id-6 div.sk-label-container {text-align: center;}#sk-container-id-6 div.sk-container {/* jupyter's `normalize.less` sets `[hidden] { display: none; }` but bootstrap.min.css set `[hidden] { display: none !important; }` so we also need the `!important` here to be able to override the default hidden behavior on the sphinx rendered scikit-learn.org. See: https://github.com/scikit-learn/scikit-learn/issues/21755 */display: inline-block !important;position: relative;}#sk-container-id-6 div.sk-text-repr-fallback {display: none;}</style><div id=\"sk-container-id-6\" class=\"sk-top-container\"><div class=\"sk-text-repr-fallback\"><pre>GridSearchCV(cv=3,\n",
       "             estimator=StepMix(measurement=&#x27;binary&#x27;, n_components=30,\n",
       "                               random_state=123),\n",
       "             param_grid={&#x27;n_components&#x27;: [2, 3, 4, 5, 6, 7, 8, 9, 10, 11, 12,\n",
       "                                          13, 14, 15, 16, 17, 18, 19, 20, 21,\n",
       "                                          22, 23, 24, 25]})</pre><b>In a Jupyter environment, please rerun this cell to show the HTML representation or trust the notebook. <br />On GitHub, the HTML representation is unable to render, please try loading this page with nbviewer.org.</b></div><div class=\"sk-container\" hidden><div class=\"sk-item sk-dashed-wrapped\"><div class=\"sk-label-container\"><div class=\"sk-label sk-toggleable\"><input class=\"sk-toggleable__control sk-hidden--visually\" id=\"sk-estimator-id-10\" type=\"checkbox\" ><label for=\"sk-estimator-id-10\" class=\"sk-toggleable__label sk-toggleable__label-arrow\">GridSearchCV</label><div class=\"sk-toggleable__content\"><pre>GridSearchCV(cv=3,\n",
       "             estimator=StepMix(measurement=&#x27;binary&#x27;, n_components=30,\n",
       "                               random_state=123),\n",
       "             param_grid={&#x27;n_components&#x27;: [2, 3, 4, 5, 6, 7, 8, 9, 10, 11, 12,\n",
       "                                          13, 14, 15, 16, 17, 18, 19, 20, 21,\n",
       "                                          22, 23, 24, 25]})</pre></div></div></div><div class=\"sk-parallel\"><div class=\"sk-parallel-item\"><div class=\"sk-item\"><div class=\"sk-label-container\"><div class=\"sk-label sk-toggleable\"><input class=\"sk-toggleable__control sk-hidden--visually\" id=\"sk-estimator-id-11\" type=\"checkbox\" ><label for=\"sk-estimator-id-11\" class=\"sk-toggleable__label sk-toggleable__label-arrow\">estimator: StepMix</label><div class=\"sk-toggleable__content\"><pre>StepMix(measurement=&#x27;binary&#x27;, n_components=30, random_state=123)</pre></div></div></div><div class=\"sk-serial\"><div class=\"sk-item\"><div class=\"sk-estimator sk-toggleable\"><input class=\"sk-toggleable__control sk-hidden--visually\" id=\"sk-estimator-id-12\" type=\"checkbox\" ><label for=\"sk-estimator-id-12\" class=\"sk-toggleable__label sk-toggleable__label-arrow\">StepMix</label><div class=\"sk-toggleable__content\"><pre>StepMix(measurement=&#x27;binary&#x27;, n_components=30, random_state=123)</pre></div></div></div></div></div></div></div></div></div></div>"
      ],
      "text/plain": [
       "GridSearchCV(cv=3,\n",
       "             estimator=StepMix(measurement='binary', n_components=30,\n",
       "                               random_state=123),\n",
       "             param_grid={'n_components': [2, 3, 4, 5, 6, 7, 8, 9, 10, 11, 12,\n",
       "                                          13, 14, 15, 16, 17, 18, 19, 20, 21,\n",
       "                                          22, 23, 24, 25]})"
      ]
     },
     "execution_count": 105,
     "metadata": {},
     "output_type": "execute_result"
    }
   ],
   "source": [
    "grid = {\n",
    "    'n_components': [ 2,3, 4,5, 6, 7, 8, 9, 10,11,12,13,14,15,16,17,18,19,20,21,22,23,24,25],\n",
    "}\n",
    "\n",
    "# no gaussians or whatever, so n_steps can just be 1 \n",
    "\n",
    "gs = GridSearchCV(estimator=model, cv=3, param_grid=grid, verbose=0)\n",
    "gs.fit(sympdf)\n",
    "\n"
   ]
  },
  {
   "cell_type": "code",
   "execution_count": 106,
   "metadata": {},
   "outputs": [],
   "source": [
    "results = pd.DataFrame(gs.cv_results_)\n",
    "results[\"Val. Log Likelihood\"] = results['mean_test_score']"
   ]
  },
  {
   "cell_type": "code",
   "execution_count": 107,
   "metadata": {},
   "outputs": [],
   "source": [
    "results_old = results.copy()"
   ]
  },
  {
   "cell_type": "code",
   "execution_count": 108,
   "metadata": {},
   "outputs": [
    {
     "name": "stderr",
     "output_type": "stream",
     "text": [
      "/var/folders/_j/9fb8r7hn7zx13rt7glsw4j3h0000gn/T/ipykernel_30497/1270231869.py:2: UserWarning: Ignoring `palette` because no `hue` variable has been assigned.\n",
      "  sns.lineplot(data=results, x='param_n_components', y='Val. Log Likelihood',\n"
     ]
    },
    {
     "data": {
      "text/plain": [
       "<Axes: xlabel='param_n_components', ylabel='Val. Log Likelihood'>"
      ]
     },
     "execution_count": 108,
     "metadata": {},
     "output_type": "execute_result"
    },
    {
     "data": {
      "image/png": "[encoded data removed]",
      "text/plain": [
       "<Figure size 640x480 with 1 Axes>"
      ]
     },
     "metadata": {},
     "output_type": "display_data"
    }
   ],
   "source": [
    "sns.set_style(\"darkgrid\")\n",
    "sns.lineplot(data=results, x='param_n_components', y='Val. Log Likelihood',\n",
    "              palette='Dark2')"
   ]
  },
  {
   "cell_type": "code",
   "execution_count": 109,
   "metadata": {},
   "outputs": [],
   "source": [
    "%%capture\n",
    "results = dict(param_n_components=[], aic=[], bic=[])\n",
    "\n",
    "# Same model and grid as above\n",
    "for g in ParameterGrid(grid):\n",
    "    model.set_params(**g)\n",
    "    model.fit(sympdf)\n",
    "    results['param_n_components'].append(g['n_components'])\n",
    "    results['aic'].append(model.aic(sympdf))\n",
    "    results['bic'].append(model.bic(sympdf))\n",
    "\n",
    "# Save results to a dataframe\n",
    "results = pd.DataFrame(results)"
   ]
  },
  {
   "cell_type": "code",
   "execution_count": 110,
   "metadata": {},
   "outputs": [
    {
     "name": "stderr",
     "output_type": "stream",
     "text": [
      "/var/folders/_j/9fb8r7hn7zx13rt7glsw4j3h0000gn/T/ipykernel_30497/63445388.py:1: UserWarning: Ignoring `palette` because no `hue` variable has been assigned.\n",
      "  sns.lineplot(data=results, x='param_n_components', y='aic',\n"
     ]
    },
    {
     "data": {
      "text/plain": [
       "<Axes: xlabel='param_n_components', ylabel='aic'>"
      ]
     },
     "execution_count": 110,
     "metadata": {},
     "output_type": "execute_result"
    },
    {
     "data": {
      "image/png": "[encoded data removed]",
      "text/plain": [
       "<Figure size 640x480 with 1 Axes>"
      ]
     },
     "metadata": {},
     "output_type": "display_data"
    }
   ],
   "source": [
    "sns.lineplot(data=results, x='param_n_components', y='aic',\n",
    "             palette='Dark2')"
   ]
  },
  {
   "cell_type": "code",
   "execution_count": 111,
   "metadata": {},
   "outputs": [
    {
     "name": "stderr",
     "output_type": "stream",
     "text": [
      "/var/folders/_j/9fb8r7hn7zx13rt7glsw4j3h0000gn/T/ipykernel_30497/2943425988.py:1: UserWarning: Ignoring `palette` because no `hue` variable has been assigned.\n",
      "  sns.lineplot(data=results, x='param_n_components', y='bic',\n"
     ]
    },
    {
     "data": {
      "text/plain": [
       "<Axes: xlabel='param_n_components', ylabel='bic'>"
      ]
     },
     "execution_count": 111,
     "metadata": {},
     "output_type": "execute_result"
    },
    {
     "data": {
      "image/png": "[encoded data removed]",
      "text/plain": [
       "<Figure size 640x480 with 1 Axes>"
      ]
     },
     "metadata": {},
     "output_type": "display_data"
    }
   ],
   "source": [
    "sns.lineplot(data=results, x='param_n_components', y='bic',\n",
    "            palette='Dark2')"
   ]
  },
  {
   "cell_type": "code",
   "execution_count": null,
   "metadata": {},
   "outputs": [],
   "source": []
  },
  {
   "cell_type": "markdown",
   "metadata": {},
   "source": [
    "What we observe: more components improves our model, but the degree of improvement per additional possible cluster decreases as the number of clusters increases. Notably, the Bayes Information Criteria flattens above 9 clusters. \n",
    "\n",
    "Based on https://www.ncbi.nlm.nih.gov/pmc/articles/PMC7746621/?fbclid=IwAR3Gy0vBZIDrylHZpe9I0zlDiNaV1WaUrPMcAZO9seZJzkOoM6ZNeLEUd98 for a model of this size it is reasonable to use BIC, so I'm going to go ahead with 9 classes. If they end up looking highly redundant or one is especially small we can plan to scale back. "
   ]
  },
  {
   "cell_type": "code",
   "execution_count": 54,
   "metadata": {},
   "outputs": [
    {
     "name": "stdout",
     "output_type": "stream",
     "text": [
      "Fitting StepMix...\n"
     ]
    },
    {
     "name": "stderr",
     "output_type": "stream",
     "text": [
      "Initializations (n_init) : 100%|██████████| 1/1 [00:03<00:00,  3.91s/it, max_LL=-4.1e+5, max_avg_LL=-68]\n"
     ]
    },
    {
     "data": {
      "text/html": [
       "<style>#sk-container-id-4 {color: black;}#sk-container-id-4 pre{padding: 0;}#sk-container-id-4 div.sk-toggleable {background-color: white;}#sk-container-id-4 label.sk-toggleable__label {cursor: pointer;display: block;width: 100%;margin-bottom: 0;padding: 0.3em;box-sizing: border-box;text-align: center;}#sk-container-id-4 label.sk-toggleable__label-arrow:before {content: \"▸\";float: left;margin-right: 0.25em;color: #696969;}#sk-container-id-4 label.sk-toggleable__label-arrow:hover:before {color: black;}#sk-container-id-4 div.sk-estimator:hover label.sk-toggleable__label-arrow:before {color: black;}#sk-container-id-4 div.sk-toggleable__content {max-height: 0;max-width: 0;overflow: hidden;text-align: left;background-color: #f0f8ff;}#sk-container-id-4 div.sk-toggleable__content pre {margin: 0.2em;color: black;border-radius: 0.25em;background-color: #f0f8ff;}#sk-container-id-4 input.sk-toggleable__control:checked~div.sk-toggleable__content {max-height: 200px;max-width: 100%;overflow: auto;}#sk-container-id-4 input.sk-toggleable__control:checked~label.sk-toggleable__label-arrow:before {content: \"▾\";}#sk-container-id-4 div.sk-estimator input.sk-toggleable__control:checked~label.sk-toggleable__label {background-color: #d4ebff;}#sk-container-id-4 div.sk-label input.sk-toggleable__control:checked~label.sk-toggleable__label {background-color: #d4ebff;}#sk-container-id-4 input.sk-hidden--visually {border: 0;clip: rect(1px 1px 1px 1px);clip: rect(1px, 1px, 1px, 1px);height: 1px;margin: -1px;overflow: hidden;padding: 0;position: absolute;width: 1px;}#sk-container-id-4 div.sk-estimator {font-family: monospace;background-color: #f0f8ff;border: 1px dotted black;border-radius: 0.25em;box-sizing: border-box;margin-bottom: 0.5em;}#sk-container-id-4 div.sk-estimator:hover {background-color: #d4ebff;}#sk-container-id-4 div.sk-parallel-item::after {content: \"\";width: 100%;border-bottom: 1px solid gray;flex-grow: 1;}#sk-container-id-4 div.sk-label:hover label.sk-toggleable__label {background-color: #d4ebff;}#sk-container-id-4 div.sk-serial::before {content: \"\";position: absolute;border-left: 1px solid gray;box-sizing: border-box;top: 0;bottom: 0;left: 50%;z-index: 0;}#sk-container-id-4 div.sk-serial {display: flex;flex-direction: column;align-items: center;background-color: white;padding-right: 0.2em;padding-left: 0.2em;position: relative;}#sk-container-id-4 div.sk-item {position: relative;z-index: 1;}#sk-container-id-4 div.sk-parallel {display: flex;align-items: stretch;justify-content: center;background-color: white;position: relative;}#sk-container-id-4 div.sk-item::before, #sk-container-id-4 div.sk-parallel-item::before {content: \"\";position: absolute;border-left: 1px solid gray;box-sizing: border-box;top: 0;bottom: 0;left: 50%;z-index: -1;}#sk-container-id-4 div.sk-parallel-item {display: flex;flex-direction: column;z-index: 1;position: relative;background-color: white;}#sk-container-id-4 div.sk-parallel-item:first-child::after {align-self: flex-end;width: 50%;}#sk-container-id-4 div.sk-parallel-item:last-child::after {align-self: flex-start;width: 50%;}#sk-container-id-4 div.sk-parallel-item:only-child::after {width: 0;}#sk-container-id-4 div.sk-dashed-wrapped {border: 1px dashed gray;margin: 0 0.4em 0.5em 0.4em;box-sizing: border-box;padding-bottom: 0.4em;background-color: white;}#sk-container-id-4 div.sk-label label {font-family: monospace;font-weight: bold;display: inline-block;line-height: 1.2em;}#sk-container-id-4 div.sk-label-container {text-align: center;}#sk-container-id-4 div.sk-container {/* jupyter's `normalize.less` sets `[hidden] { display: none; }` but bootstrap.min.css set `[hidden] { display: none !important; }` so we also need the `!important` here to be able to override the default hidden behavior on the sphinx rendered scikit-learn.org. See: https://github.com/scikit-learn/scikit-learn/issues/21755 */display: inline-block !important;position: relative;}#sk-container-id-4 div.sk-text-repr-fallback {display: none;}</style><div id=\"sk-container-id-4\" class=\"sk-top-container\"><div class=\"sk-text-repr-fallback\"><pre>StepMix(measurement=&#x27;binary&#x27;, n_components=9, random_state=123)</pre><b>In a Jupyter environment, please rerun this cell to show the HTML representation or trust the notebook. <br />On GitHub, the HTML representation is unable to render, please try loading this page with nbviewer.org.</b></div><div class=\"sk-container\" hidden><div class=\"sk-item\"><div class=\"sk-estimator sk-toggleable\"><input class=\"sk-toggleable__control sk-hidden--visually\" id=\"sk-estimator-id-6\" type=\"checkbox\" checked><label for=\"sk-estimator-id-6\" class=\"sk-toggleable__label sk-toggleable__label-arrow\">StepMix</label><div class=\"sk-toggleable__content\"><pre>StepMix(measurement=&#x27;binary&#x27;, n_components=9, random_state=123)</pre></div></div></div></div></div>"
      ],
      "text/plain": [
       "StepMix(measurement='binary', n_components=9, random_state=123)"
      ]
     },
     "execution_count": 54,
     "metadata": {},
     "output_type": "execute_result"
    }
   ],
   "source": [
    "model = StepMix(n_components=9, measurement=\"binary\", verbose=0, random_state=123)\n",
    "model.fit(sympdf)"
   ]
  },
  {
   "cell_type": "code",
   "execution_count": 56,
   "metadata": {},
   "outputs": [
    {
     "name": "stderr",
     "output_type": "stream",
     "text": [
      "/Users/tessa/miniforge3/envs/stepmix/lib/python3.12/site-packages/stepmix/stepmix.py:1173: FutureWarning: The provided callable <function mean at 0x10a0daf20> is currently using DataFrameGroupBy.mean. In a future version of pandas, the provided callable will be used directly. To keep current behavior pass the string \"mean\" instead.\n",
      "  return pd.pivot_table(\n"
     ]
    }
   ],
   "source": [
    "mm = model.get_mm_df()\n",
    "mm = mm.reset_index()\n",
    "mm  = mm.drop(\"model_name\",axis=1)\n",
    "mm  = mm.drop(\"param\",axis=1)\n",
    "mm.index=mm['variable']\n",
    "mm = mm.drop(\"variable\", axis=1)"
   ]
  },
  {
   "cell_type": "code",
   "execution_count": 57,
   "metadata": {},
   "outputs": [
    {
     "data": {
      "text/html": [
       "<div>\n",
       "<style scoped>\n",
       "    .dataframe tbody tr th:only-of-type {\n",
       "        vertical-align: middle;\n",
       "    }\n",
       "\n",
       "    .dataframe tbody tr th {\n",
       "        vertical-align: top;\n",
       "    }\n",
       "\n",
       "    .dataframe thead th {\n",
       "        text-align: right;\n",
       "    }\n",
       "</style>\n",
       "<table border=\"1\" class=\"dataframe\">\n",
       "  <thead>\n",
       "    <tr style=\"text-align: right;\">\n",
       "      <th>class_no</th>\n",
       "      <th>0</th>\n",
       "      <th>1</th>\n",
       "      <th>2</th>\n",
       "      <th>3</th>\n",
       "      <th>4</th>\n",
       "      <th>5</th>\n",
       "      <th>6</th>\n",
       "      <th>7</th>\n",
       "      <th>8</th>\n",
       "    </tr>\n",
       "    <tr>\n",
       "      <th>variable</th>\n",
       "      <th></th>\n",
       "      <th></th>\n",
       "      <th></th>\n",
       "      <th></th>\n",
       "      <th></th>\n",
       "      <th></th>\n",
       "      <th></th>\n",
       "      <th></th>\n",
       "      <th></th>\n",
       "    </tr>\n",
       "  </thead>\n",
       "  <tbody>\n",
       "    <tr>\n",
       "      <th>Symptom_Acid_reflux</th>\n",
       "      <td>0.178706</td>\n",
       "      <td>0.687073</td>\n",
       "      <td>0.422324</td>\n",
       "      <td>2.089201e-01</td>\n",
       "      <td>0.571629</td>\n",
       "      <td>0.193156</td>\n",
       "      <td>0.389478</td>\n",
       "      <td>0.058306</td>\n",
       "      <td>0.414341</td>\n",
       "    </tr>\n",
       "    <tr>\n",
       "      <th>Symptom_Acute_confusion</th>\n",
       "      <td>0.020265</td>\n",
       "      <td>0.662647</td>\n",
       "      <td>0.078877</td>\n",
       "      <td>4.305848e-02</td>\n",
       "      <td>0.309837</td>\n",
       "      <td>0.185075</td>\n",
       "      <td>0.171309</td>\n",
       "      <td>0.002813</td>\n",
       "      <td>0.323710</td>\n",
       "    </tr>\n",
       "    <tr>\n",
       "      <th>Symptom_Altered_smell</th>\n",
       "      <td>0.150065</td>\n",
       "      <td>0.517313</td>\n",
       "      <td>0.105162</td>\n",
       "      <td>1.384798e-01</td>\n",
       "      <td>0.320049</td>\n",
       "      <td>0.189525</td>\n",
       "      <td>0.260253</td>\n",
       "      <td>0.182566</td>\n",
       "      <td>0.266009</td>\n",
       "    </tr>\n",
       "    <tr>\n",
       "      <th>Symptom_Altered_taste</th>\n",
       "      <td>0.162425</td>\n",
       "      <td>0.601216</td>\n",
       "      <td>0.166634</td>\n",
       "      <td>1.769564e-01</td>\n",
       "      <td>0.387943</td>\n",
       "      <td>0.233438</td>\n",
       "      <td>0.314062</td>\n",
       "      <td>0.197666</td>\n",
       "      <td>0.349791</td>\n",
       "    </tr>\n",
       "    <tr>\n",
       "      <th>Symptom_Awakened_cannot_breathe</th>\n",
       "      <td>0.250121</td>\n",
       "      <td>0.706108</td>\n",
       "      <td>0.382756</td>\n",
       "      <td>6.976588e-02</td>\n",
       "      <td>0.552650</td>\n",
       "      <td>0.198647</td>\n",
       "      <td>0.396350</td>\n",
       "      <td>0.042426</td>\n",
       "      <td>0.418354</td>\n",
       "    </tr>\n",
       "    <tr>\n",
       "      <th>...</th>\n",
       "      <td>...</td>\n",
       "      <td>...</td>\n",
       "      <td>...</td>\n",
       "      <td>...</td>\n",
       "      <td>...</td>\n",
       "      <td>...</td>\n",
       "      <td>...</td>\n",
       "      <td>...</td>\n",
       "      <td>...</td>\n",
       "    </tr>\n",
       "    <tr>\n",
       "      <th>Symptom_Vibrating_sensations</th>\n",
       "      <td>0.203527</td>\n",
       "      <td>0.830641</td>\n",
       "      <td>0.593353</td>\n",
       "      <td>2.479463e-01</td>\n",
       "      <td>0.704495</td>\n",
       "      <td>0.221143</td>\n",
       "      <td>0.318598</td>\n",
       "      <td>0.075680</td>\n",
       "      <td>0.552340</td>\n",
       "    </tr>\n",
       "    <tr>\n",
       "      <th>Symptom_Vivid_dreams</th>\n",
       "      <td>0.251291</td>\n",
       "      <td>0.643132</td>\n",
       "      <td>0.243602</td>\n",
       "      <td>8.594997e-02</td>\n",
       "      <td>0.464914</td>\n",
       "      <td>0.266794</td>\n",
       "      <td>0.418986</td>\n",
       "      <td>0.022056</td>\n",
       "      <td>0.451158</td>\n",
       "    </tr>\n",
       "    <tr>\n",
       "      <th>Symptom_Vomiting</th>\n",
       "      <td>0.048125</td>\n",
       "      <td>0.360302</td>\n",
       "      <td>0.122568</td>\n",
       "      <td>7.670499e-02</td>\n",
       "      <td>0.273687</td>\n",
       "      <td>0.093922</td>\n",
       "      <td>0.199637</td>\n",
       "      <td>0.009611</td>\n",
       "      <td>0.197578</td>\n",
       "    </tr>\n",
       "    <tr>\n",
       "      <th>Symptom_Waking_up_early</th>\n",
       "      <td>0.308150</td>\n",
       "      <td>0.473884</td>\n",
       "      <td>0.260779</td>\n",
       "      <td>1.000000e-15</td>\n",
       "      <td>0.328881</td>\n",
       "      <td>0.209414</td>\n",
       "      <td>0.264688</td>\n",
       "      <td>0.010692</td>\n",
       "      <td>0.315463</td>\n",
       "    </tr>\n",
       "    <tr>\n",
       "      <th>Symptom_Waking_up_in_night</th>\n",
       "      <td>0.638924</td>\n",
       "      <td>0.779921</td>\n",
       "      <td>0.512581</td>\n",
       "      <td>1.000000e-15</td>\n",
       "      <td>0.667258</td>\n",
       "      <td>0.426725</td>\n",
       "      <td>0.605703</td>\n",
       "      <td>0.020920</td>\n",
       "      <td>0.579267</td>\n",
       "    </tr>\n",
       "  </tbody>\n",
       "</table>\n",
       "<p>147 rows × 9 columns</p>\n",
       "</div>"
      ],
      "text/plain": [
       "class_no                                0         1         2             3  \\\n",
       "variable                                                                      \n",
       "Symptom_Acid_reflux              0.178706  0.687073  0.422324  2.089201e-01   \n",
       "Symptom_Acute_confusion          0.020265  0.662647  0.078877  4.305848e-02   \n",
       "Symptom_Altered_smell            0.150065  0.517313  0.105162  1.384798e-01   \n",
       "Symptom_Altered_taste            0.162425  0.601216  0.166634  1.769564e-01   \n",
       "Symptom_Awakened_cannot_breathe  0.250121  0.706108  0.382756  6.976588e-02   \n",
       "...                                   ...       ...       ...           ...   \n",
       "Symptom_Vibrating_sensations     0.203527  0.830641  0.593353  2.479463e-01   \n",
       "Symptom_Vivid_dreams             0.251291  0.643132  0.243602  8.594997e-02   \n",
       "Symptom_Vomiting                 0.048125  0.360302  0.122568  7.670499e-02   \n",
       "Symptom_Waking_up_early          0.308150  0.473884  0.260779  1.000000e-15   \n",
       "Symptom_Waking_up_in_night       0.638924  0.779921  0.512581  1.000000e-15   \n",
       "\n",
       "class_no                                4         5         6         7  \\\n",
       "variable                                                                  \n",
       "Symptom_Acid_reflux              0.571629  0.193156  0.389478  0.058306   \n",
       "Symptom_Acute_confusion          0.309837  0.185075  0.171309  0.002813   \n",
       "Symptom_Altered_smell            0.320049  0.189525  0.260253  0.182566   \n",
       "Symptom_Altered_taste            0.387943  0.233438  0.314062  0.197666   \n",
       "Symptom_Awakened_cannot_breathe  0.552650  0.198647  0.396350  0.042426   \n",
       "...                                   ...       ...       ...       ...   \n",
       "Symptom_Vibrating_sensations     0.704495  0.221143  0.318598  0.075680   \n",
       "Symptom_Vivid_dreams             0.464914  0.266794  0.418986  0.022056   \n",
       "Symptom_Vomiting                 0.273687  0.093922  0.199637  0.009611   \n",
       "Symptom_Waking_up_early          0.328881  0.209414  0.264688  0.010692   \n",
       "Symptom_Waking_up_in_night       0.667258  0.426725  0.605703  0.020920   \n",
       "\n",
       "class_no                                8  \n",
       "variable                                   \n",
       "Symptom_Acid_reflux              0.414341  \n",
       "Symptom_Acute_confusion          0.323710  \n",
       "Symptom_Altered_smell            0.266009  \n",
       "Symptom_Altered_taste            0.349791  \n",
       "Symptom_Awakened_cannot_breathe  0.418354  \n",
       "...                                   ...  \n",
       "Symptom_Vibrating_sensations     0.552340  \n",
       "Symptom_Vivid_dreams             0.451158  \n",
       "Symptom_Vomiting                 0.197578  \n",
       "Symptom_Waking_up_early          0.315463  \n",
       "Symptom_Waking_up_in_night       0.579267  \n",
       "\n",
       "[147 rows x 9 columns]"
      ]
     },
     "execution_count": 57,
     "metadata": {},
     "output_type": "execute_result"
    }
   ],
   "source": [
    "mm"
   ]
  },
  {
   "cell_type": "code",
   "execution_count": 58,
   "metadata": {},
   "outputs": [
    {
     "name": "stdout",
     "output_type": "stream",
     "text": [
      "Index(['Symptom_Insomnia', 'Symptom_Memory_short', 'Symptom_PEM',\n",
      "       'Symptom_Waking_up_in_night', 'Symptom_Shortness_of_breath',\n",
      "       'Symptom_Cognitive_Functioning_attentionconcentration',\n",
      "       'Symptom_Tightness_of_chest', 'Symptom_Dry_cough',\n",
      "       'Symptom_Difficulty_falling_asleep', 'Symptom_Heart_palpitations'],\n",
      "      dtype='object', name='variable')\n",
      "Index(['Symptom_Memory_short', 'Symptom_PEM', 'Symptom_Insomnia',\n",
      "       'Symptom_Heart_palpitations', 'Symptom_Tightness_of_chest',\n",
      "       'Symptom_Shortness_of_breath', 'Symptom_Tachycardia',\n",
      "       'Symptom_Dizziness_vertigo', 'Symptom_Muscle_aches',\n",
      "       'Symptom_Sensations_tingling_prickling'],\n",
      "      dtype='object', name='variable')\n",
      "Index(['Symptom_Memory_short', 'Symptom_PEM', 'Symptom_Shortness_of_breath',\n",
      "       'Symptom_Tightness_of_chest',\n",
      "       'Symptom_Cognitive_Functioning_attentionconcentration',\n",
      "       'Symptom_Dry_cough', 'Symptom_Muscle_aches',\n",
      "       'Symptom_Heart_palpitations', 'Symptom_Dizziness_vertigo',\n",
      "       'Symptom_Cognitive_Functioning_thinking'],\n",
      "      dtype='object', name='variable')\n",
      "Index(['Symptom_PEM', 'Symptom_Memory_short', 'Symptom_Dizziness_vertigo',\n",
      "       'Symptom_Muscle_aches', 'Symptom_Insomnia',\n",
      "       'Symptom_Cognitive_Functioning_attentionconcentration',\n",
      "       'Symptom_Heart_palpitations', 'Symptom_Joint_pain',\n",
      "       'Symptom_Shortness_of_breath', 'Symptom_Tightness_of_chest'],\n",
      "      dtype='object', name='variable')\n",
      "Index(['Symptom_Speech_difficulty_finding_words', 'Symptom_PEM',\n",
      "       'Symptom_Cognitive_Functioning_attentionconcentration',\n",
      "       'Symptom_Memory_short', 'Symptom_Cognitive_Functioning_thinking',\n",
      "       'Symptom_Cognitive_Functioning_executive',\n",
      "       'Symptom_Cognitive_Functioning_problemsolving',\n",
      "       'Symptom_Shortness_of_breath', 'Symptom_Insomnia',\n",
      "       'Symptom_Dizziness_vertigo'],\n",
      "      dtype='object', name='variable')\n",
      "Index(['Symptom_PEM', 'Symptom_Memory_short', 'Symptom_Shortness_of_breath',\n",
      "       'Symptom_Cognitive_Functioning_attentionconcentration',\n",
      "       'Symptom_Insomnia', 'Symptom_Tightness_of_chest',\n",
      "       'Symptom_Muscle_aches', 'Symptom_Dizziness_vertigo',\n",
      "       'Symptom_Cognitive_Functioning_thinking', 'Symptom_Elevated_temp'],\n",
      "      dtype='object', name='variable')\n",
      "Index(['Symptom_Memory_short', 'Symptom_PEM', 'Symptom_Dry_cough',\n",
      "       'Symptom_Shortness_of_breath', 'Symptom_Loss_of_smell',\n",
      "       'Symptom_Tightness_of_chest', 'Symptom_Loss_of_taste',\n",
      "       'Symptom_Muscle_aches',\n",
      "       'Symptom_Cognitive_Functioning_attentionconcentration',\n",
      "       'Symptom_Altered_taste'],\n",
      "      dtype='object', name='variable')\n"
     ]
    }
   ],
   "source": [
    "# These are just the most prevalent symptoms per cluster\n",
    "# in general, this is dominated by symptoms with high cross-dataset prevalence\n",
    "print(mm.sort_values(0,ascending=False).head(10).index)\n",
    "print(mm.sort_values(2,ascending=False).head(10).index)\n",
    "print(mm.sort_values(3,ascending=False).head(10).index)\n",
    "print(mm.sort_values(4,ascending=False).head(10).index)\n",
    "print(mm.sort_values(5,ascending=False).head(10).index)\n",
    "print(mm.sort_values(6,ascending=False).head(10).index)\n",
    "print(mm.sort_values(7,ascending=False).head(10).index)"
   ]
  },
  {
   "cell_type": "code",
   "execution_count": 59,
   "metadata": {},
   "outputs": [],
   "source": [
    "df['cluster'] = model.predict(sympdf)"
   ]
  },
  {
   "cell_type": "code",
   "execution_count": 63,
   "metadata": {},
   "outputs": [
    {
     "data": {
      "text/plain": [
       "<Axes: xlabel='cluster'>"
      ]
     },
     "execution_count": 63,
     "metadata": {},
     "output_type": "execute_result"
    },
    {
     "data": {
      "image/png": "[encoded data removed]",
      "text/plain": [
       "<Figure size 640x480 with 1 Axes>"
      ]
     },
     "metadata": {},
     "output_type": "display_data"
    }
   ],
   "source": [
    "df['cluster'].value_counts().plot(kind='bar')\n",
    "# all clusters are pretty sizeable!"
   ]
  },
  {
   "cell_type": "code",
   "execution_count": 64,
   "metadata": {},
   "outputs": [],
   "source": [
    "comp_list = list(range(0,9))"
   ]
  },
  {
   "cell_type": "code",
   "execution_count": 89,
   "metadata": {},
   "outputs": [
    {
     "name": "stdout",
     "output_type": "stream",
     "text": [
      "variable\n",
      "Symptom_Insomnia                       0.369825\n",
      "Symptom_Waking_up_in_night             0.189877\n",
      "Symptom_Difficulty_falling_asleep      0.113352\n",
      "Symptom_Waking_up_early                0.075175\n",
      "Symptom_Memory_short                  -0.018539\n",
      "Symptom_Sleep_apnea                   -0.027429\n",
      "Symptom_Cognitive_Functioning_other   -0.030966\n",
      "Symptom_Inability_to_yawn             -0.036932\n",
      "Symptom_Respiratory_other             -0.038293\n",
      "Symptom_SkinAllergy_other_itchy       -0.042657\n",
      "dtype: float64\n",
      "variable\n",
      "Symptom_Speech_difficulty_reading_processing_text        0.643237\n",
      "Symptom_Speech_difficulty_understanding_others_speech    0.642975\n",
      "Symptom_Speech_difficulty_communicating_verbally         0.634672\n",
      "Symptom_Eye_Vision_sensitivity_to_light                  0.611330\n",
      "Symptom_Speech_difficulty_finding_words                  0.588105\n",
      "Symptom_Speech_difficulty_speaking_complete_sentences    0.584164\n",
      "Symptom_Ear_sensitivity_to_noise                         0.561123\n",
      "Symptom_Eye_Vision_blurred_vision                        0.552239\n",
      "Symptom_Neuralgia                                        0.551800\n",
      "Symptom_Eye_vision_symptoms                              0.551733\n",
      "dtype: float64\n",
      "variable\n",
      "Symptom_Sensations_tingling_prickling           0.230412\n",
      "Symptom_Vibrating_sensations                    0.199057\n",
      "Symptom_Sensations_skin_burning_no_rash         0.198651\n",
      "Symptom_Tremors                                 0.176267\n",
      "Symptom_Tachycardia                             0.140429\n",
      "Symptom_Sensations_numbness_loss_sensation      0.140119\n",
      "Symptom_Insomnia                                0.135500\n",
      "Symptom_Sensations_electrical_zaps              0.132591\n",
      "Symptom_Bulging_veins                           0.130681\n",
      "Symptom_Merged_temperature_other_temp_issues    0.122906\n",
      "dtype: float64\n",
      "variable\n",
      "Symptom_Respiratory_other                     -0.014618\n",
      "Symptom_Memory_short                          -0.018368\n",
      "Symptom_SkinAllergy_other_itchy               -0.021790\n",
      "Symptom_Reproductive_other_menstrual_issues   -0.023776\n",
      "Symptom_Cognitive_Functioning_other           -0.034641\n",
      "Symptom_Skin_Allergy_other                    -0.037583\n",
      "Symptom_Sensations_facial_pressure_other      -0.042506\n",
      "Symptom_Inability_to_yawn                     -0.043798\n",
      "Symptom_Memory_other                          -0.046365\n",
      "Symptom_Headaches_other                       -0.046485\n",
      "dtype: float64\n",
      "variable\n",
      "Symptom_Sensations_skin_burning_no_rash    0.382894\n",
      "Symptom_Neuralgia                          0.374683\n",
      "Symptom_Muscle_spasms                      0.363896\n",
      "Symptom_Eye_Vision_blurred_vision          0.358083\n",
      "Symptom_Eye_vision_symptoms                0.354933\n",
      "Symptom_Gastrointestinal_abdominal_pain    0.343889\n",
      "Symptom_Joint_pain                         0.343651\n",
      "Symptom_Tremors                            0.342284\n",
      "Symptom_Nausea                             0.339143\n",
      "Symptom_Sensations_coldness                0.334502\n",
      "dtype: float64\n",
      "variable\n",
      "Symptom_Speech_difficulty_finding_words                  0.544388\n",
      "Symptom_Speech_difficulty_communicating_verbally         0.386204\n",
      "Symptom_Cognitive_Functioning_executive                  0.296389\n",
      "Symptom_Cognitive_Functioning_thinking                   0.290835\n",
      "Symptom_Speech_difficulty_reading_processing_text        0.275479\n",
      "Symptom_Speech_difficulty_speaking_complete_sentences    0.274945\n",
      "Symptom_Speech_difficulty_understanding_others_speech    0.265536\n",
      "Symptom_Cognitive_Functioning_problemsolving             0.250803\n",
      "Symptom_Memory_long                                      0.231361\n",
      "Symptom_Cognitive_Functioning_attentionconcentration     0.209091\n",
      "dtype: float64\n",
      "variable\n",
      "Symptom_Fever                     0.231388\n",
      "Symptom_Elevated_temp             0.227245\n",
      "Symptom_Insomnia                  0.189383\n",
      "Symptom_Temp_lability             0.184121\n",
      "Symptom_Chills_flushing_sweats    0.167754\n",
      "Symptom_Loss_of_appetite          0.160969\n",
      "Symptom_Diarrhea                  0.153426\n",
      "Symptom_Waking_up_in_night        0.152503\n",
      "Symptom_Night_sweats              0.147653\n",
      "Symptom_Shortness_of_breath       0.145084\n",
      "dtype: float64\n",
      "variable\n",
      "Symptom_Memory_short                             0.017956\n",
      "Symptom_Respiratory_other                       -0.007556\n",
      "Symptom_Inability_to_yawn                       -0.046172\n",
      "Symptom_Speech_changes_to_secondary_languages   -0.052376\n",
      "Symptom_Loss_of_smell                           -0.053992\n",
      "Symptom_SkinAllergy_other_itchy                 -0.056934\n",
      "Symptom_Reproductive_other_menstrual_issues     -0.059960\n",
      "Symptom_Cognitive_Functioning_other             -0.060601\n",
      "Symptom_Altered_smell                           -0.060791\n",
      "Symptom_Phantom_taste                           -0.066275\n",
      "dtype: float64\n",
      "variable\n",
      "Symptom_Speech_difficulty_finding_words                  0.597130\n",
      "Symptom_Speech_difficulty_communicating_verbally         0.510374\n",
      "Symptom_Speech_difficulty_understanding_others_speech    0.498986\n",
      "Symptom_Speech_difficulty_reading_processing_text        0.471848\n",
      "Symptom_Speech_difficulty_speaking_complete_sentences    0.409571\n",
      "Symptom_Cognitive_Functioning_problemsolving             0.363180\n",
      "Symptom_Cognitive_Functioning_executive                  0.353767\n",
      "Symptom_Memory_long                                      0.332626\n",
      "Symptom_Cognitive_Functioning_thinking                   0.321715\n",
      "Symptom_Speech_difficulty_communicating_writing          0.298207\n",
      "dtype: float64\n"
     ]
    }
   ],
   "source": [
    "edges = [] \n",
    "for component in comp_list:\n",
    "    edges +=investigate_comp(component, mm).sort_values(ascending=False).head(10).index.tolist()\n",
    "    print(investigate_comp(component, mm).sort_values(ascending=False).head(10))"
   ]
  },
  {
   "cell_type": "code",
   "execution_count": 97,
   "metadata": {},
   "outputs": [
    {
     "name": "stdout",
     "output_type": "stream",
     "text": [
      "cluster\n",
      "0     808\n",
      "1     483\n",
      "2     651\n",
      "3     722\n",
      "4     504\n",
      "5     765\n",
      "6     711\n",
      "7     375\n",
      "8    1012\n",
      "Name: count, dtype: int64\n"
     ]
    }
   ],
   "source": [
    "print(df.cluster.value_counts().sort_index())"
   ]
  },
  {
   "cell_type": "code",
   "execution_count": 85,
   "metadata": {},
   "outputs": [
    {
     "data": {
      "text/plain": [
       "3"
      ]
     },
     "execution_count": 85,
     "metadata": {},
     "output_type": "execute_result"
    }
   ],
   "source": [
    "(sympdf[edges].mean()>.90).sum()"
   ]
  },
  {
   "cell_type": "code",
   "execution_count": 87,
   "metadata": {},
   "outputs": [
    {
     "data": {
      "text/plain": [
       "18"
      ]
     },
     "execution_count": 87,
     "metadata": {},
     "output_type": "execute_result"
    }
   ],
   "source": [
    "(sympdf[edges].mean()<.1).sum()\n",
    "# some of the pretty rare symptoms are cluster-decisive\n",
    "# I'm going to keep them in unless something pathological emerges downstream"
   ]
  },
  {
   "cell_type": "code",
   "execution_count": null,
   "metadata": {},
   "outputs": [],
   "source": []
  }
 ],
 "metadata": {
  "kernelspec": {
   "display_name": "Python 3",
   "language": "python",
   "name": "python3"
  },
  "language_info": {
   "codemirror_mode": {
    "name": "ipython",
    "version": 3
   },
   "file_extension": ".py",
   "mimetype": "text/x-python",
   "name": "python",
   "nbconvert_exporter": "python",
   "pygments_lexer": "ipython3",
   "version": "3.12.0"
  }
 },
 "nbformat": 4,
 "nbformat_minor": 2
}

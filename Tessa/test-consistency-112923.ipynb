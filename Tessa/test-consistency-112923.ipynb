{
 "cells": [
  {
   "cell_type": "code",
   "execution_count": 17,
   "metadata": {},
   "outputs": [],
   "source": [
    "from stepmix.stepmix import StepMix\n",
    "import pandas as pd\n",
    "import numpy as np\n",
    "\n",
    "from sklearn.model_selection import train_test_split\n",
    "\n",
    "import matplotlib.pyplot as plt\n",
    "import seaborn as sns\n",
    "\n",
    "import pickle as pkl\n",
    "import matplotlib.pyplot as plt"
   ]
  },
  {
   "cell_type": "code",
   "execution_count": 2,
   "metadata": {},
   "outputs": [
    {
     "data": {
      "text/plain": [
       "(6031, 162)"
      ]
     },
     "execution_count": 2,
     "metadata": {},
     "output_type": "execute_result"
    }
   ],
   "source": [
    "df = pd.read_csv(\"../data/cleaned_data_SYMPTOMS_9_13_23.csv\", index_col=0)\n",
    "sympdf = df.loc[:, df.columns.str.startswith('Symptom_')]\n",
    "sympdf.shape"
   ]
  },
  {
   "cell_type": "code",
   "execution_count": 3,
   "metadata": {},
   "outputs": [],
   "source": [
    "sympdf = sympdf.loc[:, (sympdf.sum() / sympdf.shape[0] > 0.05) & (sympdf.sum()  / sympdf.shape[0]< 0.95)]"
   ]
  },
  {
   "cell_type": "code",
   "execution_count": 4,
   "metadata": {},
   "outputs": [],
   "source": [
    "model = StepMix(n_components=13, measurement=\"binary\", verbose=0, random_state=123)\n"
   ]
  },
  {
   "cell_type": "code",
   "execution_count": 6,
   "metadata": {},
   "outputs": [],
   "source": [
    "sympdf_train, sympdf_test = train_test_split(sympdf, test_size=0.2, random_state=123)"
   ]
  },
  {
   "cell_type": "code",
   "execution_count": 7,
   "metadata": {},
   "outputs": [
    {
     "name": "stdout",
     "output_type": "stream",
     "text": [
      "Fitting StepMix...\n"
     ]
    },
    {
     "name": "stderr",
     "output_type": "stream",
     "text": [
      "Initializations (n_init) : 100%|██████████| 1/1 [00:03<00:00,  3.10s/it, max_LL=-3.26e+5, max_avg_LL=-67.5]\n"
     ]
    },
    {
     "data": {
      "text/html": [
       "<style>#sk-container-id-1 {color: black;}#sk-container-id-1 pre{padding: 0;}#sk-container-id-1 div.sk-toggleable {background-color: white;}#sk-container-id-1 label.sk-toggleable__label {cursor: pointer;display: block;width: 100%;margin-bottom: 0;padding: 0.3em;box-sizing: border-box;text-align: center;}#sk-container-id-1 label.sk-toggleable__label-arrow:before {content: \"▸\";float: left;margin-right: 0.25em;color: #696969;}#sk-container-id-1 label.sk-toggleable__label-arrow:hover:before {color: black;}#sk-container-id-1 div.sk-estimator:hover label.sk-toggleable__label-arrow:before {color: black;}#sk-container-id-1 div.sk-toggleable__content {max-height: 0;max-width: 0;overflow: hidden;text-align: left;background-color: #f0f8ff;}#sk-container-id-1 div.sk-toggleable__content pre {margin: 0.2em;color: black;border-radius: 0.25em;background-color: #f0f8ff;}#sk-container-id-1 input.sk-toggleable__control:checked~div.sk-toggleable__content {max-height: 200px;max-width: 100%;overflow: auto;}#sk-container-id-1 input.sk-toggleable__control:checked~label.sk-toggleable__label-arrow:before {content: \"▾\";}#sk-container-id-1 div.sk-estimator input.sk-toggleable__control:checked~label.sk-toggleable__label {background-color: #d4ebff;}#sk-container-id-1 div.sk-label input.sk-toggleable__control:checked~label.sk-toggleable__label {background-color: #d4ebff;}#sk-container-id-1 input.sk-hidden--visually {border: 0;clip: rect(1px 1px 1px 1px);clip: rect(1px, 1px, 1px, 1px);height: 1px;margin: -1px;overflow: hidden;padding: 0;position: absolute;width: 1px;}#sk-container-id-1 div.sk-estimator {font-family: monospace;background-color: #f0f8ff;border: 1px dotted black;border-radius: 0.25em;box-sizing: border-box;margin-bottom: 0.5em;}#sk-container-id-1 div.sk-estimator:hover {background-color: #d4ebff;}#sk-container-id-1 div.sk-parallel-item::after {content: \"\";width: 100%;border-bottom: 1px solid gray;flex-grow: 1;}#sk-container-id-1 div.sk-label:hover label.sk-toggleable__label {background-color: #d4ebff;}#sk-container-id-1 div.sk-serial::before {content: \"\";position: absolute;border-left: 1px solid gray;box-sizing: border-box;top: 0;bottom: 0;left: 50%;z-index: 0;}#sk-container-id-1 div.sk-serial {display: flex;flex-direction: column;align-items: center;background-color: white;padding-right: 0.2em;padding-left: 0.2em;position: relative;}#sk-container-id-1 div.sk-item {position: relative;z-index: 1;}#sk-container-id-1 div.sk-parallel {display: flex;align-items: stretch;justify-content: center;background-color: white;position: relative;}#sk-container-id-1 div.sk-item::before, #sk-container-id-1 div.sk-parallel-item::before {content: \"\";position: absolute;border-left: 1px solid gray;box-sizing: border-box;top: 0;bottom: 0;left: 50%;z-index: -1;}#sk-container-id-1 div.sk-parallel-item {display: flex;flex-direction: column;z-index: 1;position: relative;background-color: white;}#sk-container-id-1 div.sk-parallel-item:first-child::after {align-self: flex-end;width: 50%;}#sk-container-id-1 div.sk-parallel-item:last-child::after {align-self: flex-start;width: 50%;}#sk-container-id-1 div.sk-parallel-item:only-child::after {width: 0;}#sk-container-id-1 div.sk-dashed-wrapped {border: 1px dashed gray;margin: 0 0.4em 0.5em 0.4em;box-sizing: border-box;padding-bottom: 0.4em;background-color: white;}#sk-container-id-1 div.sk-label label {font-family: monospace;font-weight: bold;display: inline-block;line-height: 1.2em;}#sk-container-id-1 div.sk-label-container {text-align: center;}#sk-container-id-1 div.sk-container {/* jupyter's `normalize.less` sets `[hidden] { display: none; }` but bootstrap.min.css set `[hidden] { display: none !important; }` so we also need the `!important` here to be able to override the default hidden behavior on the sphinx rendered scikit-learn.org. See: https://github.com/scikit-learn/scikit-learn/issues/21755 */display: inline-block !important;position: relative;}#sk-container-id-1 div.sk-text-repr-fallback {display: none;}</style><div id=\"sk-container-id-1\" class=\"sk-top-container\"><div class=\"sk-text-repr-fallback\"><pre>StepMix(measurement=&#x27;binary&#x27;, n_components=13, random_state=123)</pre><b>In a Jupyter environment, please rerun this cell to show the HTML representation or trust the notebook. <br />On GitHub, the HTML representation is unable to render, please try loading this page with nbviewer.org.</b></div><div class=\"sk-container\" hidden><div class=\"sk-item\"><div class=\"sk-estimator sk-toggleable\"><input class=\"sk-toggleable__control sk-hidden--visually\" id=\"sk-estimator-id-1\" type=\"checkbox\" checked><label for=\"sk-estimator-id-1\" class=\"sk-toggleable__label sk-toggleable__label-arrow\">StepMix</label><div class=\"sk-toggleable__content\"><pre>StepMix(measurement=&#x27;binary&#x27;, n_components=13, random_state=123)</pre></div></div></div></div></div>"
      ],
      "text/plain": [
       "StepMix(measurement='binary', n_components=13, random_state=123)"
      ]
     },
     "execution_count": 7,
     "metadata": {},
     "output_type": "execute_result"
    }
   ],
   "source": [
    "model.fit(sympdf_train)"
   ]
  },
  {
   "cell_type": "code",
   "execution_count": 8,
   "metadata": {},
   "outputs": [],
   "source": [
    "df['cluster'] = model.predict(sympdf)"
   ]
  },
  {
   "cell_type": "code",
   "execution_count": 9,
   "metadata": {},
   "outputs": [
    {
     "data": {
      "text/plain": [
       "<Axes: xlabel='cluster'>"
      ]
     },
     "execution_count": 9,
     "metadata": {},
     "output_type": "execute_result"
    },
    {
     "data": {
      "image/png": "[encoded data removed]",
      "text/plain": [
       "<Figure size 640x480 with 1 Axes>"
      ]
     },
     "metadata": {},
     "output_type": "display_data"
    }
   ],
   "source": [
    "df['cluster'].value_counts().plot(kind='bar')\n",
    "# slight variation with the full dataset"
   ]
  },
  {
   "cell_type": "code",
   "execution_count": 10,
   "metadata": {},
   "outputs": [],
   "source": [
    "clust_full = pd.read_csv(\"output/cluster_13_111023.csv\", index_col=0)"
   ]
  },
  {
   "cell_type": "code",
   "execution_count": 12,
   "metadata": {},
   "outputs": [
    {
     "data": {
      "text/plain": [
       "0.36984027526523233"
      ]
     },
     "execution_count": 12,
     "metadata": {},
     "output_type": "execute_result"
    }
   ],
   "source": [
    "# compare the two clusterings using rand index\n",
    "from sklearn.metrics import adjusted_rand_score\n",
    "adjusted_rand_score(df['cluster'], clust_full['cluster'])"
   ]
  },
  {
   "cell_type": "code",
   "execution_count": 13,
   "metadata": {},
   "outputs": [
    {
     "name": "stdout",
     "output_type": "stream",
     "text": [
      "Fitting StepMix...\n"
     ]
    },
    {
     "name": "stderr",
     "output_type": "stream",
     "text": [
      "Initializations (n_init) : 100%|██████████| 1/1 [00:03<00:00,  3.79s/it, max_LL=-3.26e+5, max_avg_LL=-67.6]\n"
     ]
    },
    {
     "name": "stdout",
     "output_type": "stream",
     "text": [
      "Fitting StepMix...\n"
     ]
    },
    {
     "name": "stderr",
     "output_type": "stream",
     "text": [
      "Initializations (n_init) : 100%|██████████| 1/1 [00:04<00:00,  4.12s/it, max_LL=-3.25e+5, max_avg_LL=-67.4]\n"
     ]
    },
    {
     "name": "stdout",
     "output_type": "stream",
     "text": [
      "Fitting StepMix...\n"
     ]
    },
    {
     "name": "stderr",
     "output_type": "stream",
     "text": [
      "Initializations (n_init) : 100%|██████████| 1/1 [00:09<00:00,  9.32s/it, max_LL=-3.25e+5, max_avg_LL=-67.4]\n"
     ]
    },
    {
     "name": "stdout",
     "output_type": "stream",
     "text": [
      "Fitting StepMix...\n"
     ]
    },
    {
     "name": "stderr",
     "output_type": "stream",
     "text": [
      "Initializations (n_init) : 100%|██████████| 1/1 [00:05<00:00,  5.45s/it, max_LL=-3.26e+5, max_avg_LL=-67.6]\n"
     ]
    },
    {
     "name": "stdout",
     "output_type": "stream",
     "text": [
      "Fitting StepMix...\n"
     ]
    },
    {
     "name": "stderr",
     "output_type": "stream",
     "text": [
      "Initializations (n_init) : 100%|██████████| 1/1 [00:07<00:00,  7.40s/it, max_LL=-3.25e+5, max_avg_LL=-67.5]\n",
      "/Users/tessa/miniforge3/envs/stepmix/lib/python3.12/site-packages/stepmix/stepmix.py:968: ConvergenceWarning: Initializations did not converge. Try different init parameters, or increase max_iter, abs_tol, rel_tol or check for degenerate data.\n",
      "  warnings.warn(\n"
     ]
    },
    {
     "name": "stdout",
     "output_type": "stream",
     "text": [
      "Fitting StepMix...\n"
     ]
    },
    {
     "name": "stderr",
     "output_type": "stream",
     "text": [
      "Initializations (n_init) : 100%|██████████| 1/1 [00:02<00:00,  2.64s/it, max_LL=-3.26e+5, max_avg_LL=-67.5]\n"
     ]
    },
    {
     "name": "stdout",
     "output_type": "stream",
     "text": [
      "Fitting StepMix...\n"
     ]
    },
    {
     "name": "stderr",
     "output_type": "stream",
     "text": [
      "Initializations (n_init) : 100%|██████████| 1/1 [00:02<00:00,  2.61s/it, max_LL=-3.25e+5, max_avg_LL=-67.3]\n"
     ]
    },
    {
     "name": "stdout",
     "output_type": "stream",
     "text": [
      "Fitting StepMix...\n"
     ]
    },
    {
     "name": "stderr",
     "output_type": "stream",
     "text": [
      "Initializations (n_init) : 100%|██████████| 1/1 [00:03<00:00,  3.97s/it, max_LL=-3.26e+5, max_avg_LL=-67.5]\n"
     ]
    },
    {
     "name": "stdout",
     "output_type": "stream",
     "text": [
      "Fitting StepMix...\n"
     ]
    },
    {
     "name": "stderr",
     "output_type": "stream",
     "text": [
      "Initializations (n_init) : 100%|██████████| 1/1 [00:02<00:00,  2.99s/it, max_LL=-3.25e+5, max_avg_LL=-67.3]\n"
     ]
    },
    {
     "name": "stdout",
     "output_type": "stream",
     "text": [
      "Fitting StepMix...\n"
     ]
    },
    {
     "name": "stderr",
     "output_type": "stream",
     "text": [
      "Initializations (n_init) : 100%|██████████| 1/1 [00:06<00:00,  6.86s/it, max_LL=-3.25e+5, max_avg_LL=-67.4]\n"
     ]
    }
   ],
   "source": [
    "# divide sympdf into train and test multiple times and fit models for each one\n",
    "models = []\n",
    "for i in range(10):\n",
    "    sympdf_train, sympdf_test = train_test_split(sympdf, test_size=0.2, random_state=i)\n",
    "    model = StepMix(n_components=13, measurement=\"binary\", verbose=0, random_state=i)\n",
    "    model.fit(sympdf_train)\n",
    "    models.append(model)"
   ]
  },
  {
   "cell_type": "code",
   "execution_count": 22,
   "metadata": {},
   "outputs": [
    {
     "name": "stdout",
     "output_type": "stream",
     "text": [
      "    Model_1  Model_2       ARI\n",
      "0         0        1  0.379958\n",
      "1         0        2  0.470401\n",
      "2         0        3  0.417632\n",
      "3         0        4  0.403542\n",
      "4         0        5  0.415195\n",
      "5         0        6  0.348413\n",
      "6         0        7  0.492773\n",
      "7         0        8  0.494042\n",
      "8         0        9  0.411657\n",
      "9         1        2  0.410438\n",
      "10        1        3  0.563673\n",
      "11        1        4  0.450210\n",
      "12        1        5  0.516468\n",
      "13        1        6  0.394552\n",
      "14        1        7  0.447951\n",
      "15        1        8  0.400108\n",
      "16        1        9  0.593141\n",
      "17        2        3  0.541089\n",
      "18        2        4  0.533614\n",
      "19        2        5  0.407649\n",
      "20        2        6  0.481152\n",
      "21        2        7  0.521789\n",
      "22        2        8  0.536571\n",
      "23        2        9  0.479084\n",
      "24        3        4  0.598568\n",
      "25        3        5  0.441154\n",
      "26        3        6  0.457527\n",
      "27        3        7  0.477814\n",
      "28        3        8  0.578542\n",
      "29        3        9  0.557040\n",
      "30        4        5  0.523105\n",
      "31        4        6  0.509064\n",
      "32        4        7  0.577926\n",
      "33        4        8  0.554611\n",
      "34        4        9  0.485157\n",
      "35        5        6  0.490649\n",
      "36        5        7  0.480888\n",
      "37        5        8  0.435726\n",
      "38        5        9  0.659141\n",
      "39        6        7  0.532428\n",
      "40        6        8  0.481749\n",
      "41        6        9  0.547260\n",
      "42        7        8  0.531333\n",
      "43        7        9  0.504524\n",
      "44        8        9  0.484739\n"
     ]
    }
   ],
   "source": [
    "import pandas as pd\n",
    "from sklearn.metrics import adjusted_rand_score\n",
    "from itertools import combinations\n",
    "\n",
    "# Initialize an empty list to store ARI values\n",
    "ari_list = []\n",
    "\n",
    "# Calculate ARI between all pairs of models\n",
    "for i, j in combinations(range(10), 2):\n",
    "    labels_i = models[i].predict(sympdf)\n",
    "    labels_j = models[j].predict(sympdf)\n",
    "    ari_score = adjusted_rand_score(labels_i, labels_j)\n",
    "    ari_list.append({\"Model_1\": i, \"Model_2\": j, \"ARI\": ari_score})\n",
    "\n",
    "# Create a DataFrame from the list of dictionaries\n",
    "ari_df = pd.DataFrame(ari_list)\n",
    "\n",
    "# Display the DataFrame\n",
    "print(ari_df)\n"
   ]
  },
  {
   "cell_type": "code",
   "execution_count": 23,
   "metadata": {},
   "outputs": [
    {
     "data": {
      "image/png": "[encoded data removed]",
      "text/plain": [
       "<Figure size 800x600 with 2 Axes>"
      ]
     },
     "metadata": {},
     "output_type": "display_data"
    }
   ],
   "source": [
    "plt.figure(figsize=(8, 6))\n",
    "plt.scatter(ari_df[\"Model_1\"], ari_df[\"Model_2\"], c=ari_df[\"ARI\"], cmap=\"viridis\", s=1000)\n",
    "plt.colorbar(label=\"Adjusted Rand Index (ARI)\")\n",
    "plt.xlabel(\"Model 1\")\n",
    "plt.ylabel(\"Model 2\")\n",
    "plt.title(\"ARI Between Model Pairs\")\n",
    "plt.show()"
   ]
  },
  {
   "cell_type": "code",
   "execution_count": 25,
   "metadata": {},
   "outputs": [
    {
     "data": {
      "text/plain": [
       "0.48933439181587585"
      ]
     },
     "execution_count": 25,
     "metadata": {},
     "output_type": "execute_result"
    }
   ],
   "source": [
    "ari_df['ARI'].mean()"
   ]
  },
  {
   "cell_type": "code",
   "execution_count": 21,
   "metadata": {},
   "outputs": [
    {
     "data": {
      "text/html": [
       "<div>\n",
       "<style scoped>\n",
       "    .dataframe tbody tr th:only-of-type {\n",
       "        vertical-align: middle;\n",
       "    }\n",
       "\n",
       "    .dataframe tbody tr th {\n",
       "        vertical-align: top;\n",
       "    }\n",
       "\n",
       "    .dataframe thead th {\n",
       "        text-align: right;\n",
       "    }\n",
       "</style>\n",
       "<table border=\"1\" class=\"dataframe\">\n",
       "  <thead>\n",
       "    <tr style=\"text-align: right;\">\n",
       "      <th></th>\n",
       "      <th>Symptom_Memory_short</th>\n",
       "      <th>Symptom_Memory_long</th>\n",
       "      <th>Symptom_Memory_no_new_memories</th>\n",
       "      <th>Symptom_Memory_forget_tasks</th>\n",
       "      <th>Symptom_Memory_other</th>\n",
       "      <th>Symptom_Cognitive_Functioning_thinking</th>\n",
       "      <th>Symptom_Cognitive_Functioning_executive</th>\n",
       "      <th>Symptom_Cognitive_Functioning_problemsolving</th>\n",
       "      <th>Symptom_Cognitive_Functioning_slowedthoughts</th>\n",
       "      <th>Symptom_Cognitive_Functioning_fastthoughts</th>\n",
       "      <th>...</th>\n",
       "      <th>Symptom_Gastrointestinal_abdominal_pain</th>\n",
       "      <th>Symptom_Gastrointestinal_hyperactive_bowel</th>\n",
       "      <th>Symptom_SkinAllergy_itchy_skin</th>\n",
       "      <th>Symptom_SkinAllergy_itchy_eyes</th>\n",
       "      <th>Symptom_SkinAllergy_heighted_reaction_allergies</th>\n",
       "      <th>Symptom_SkinAllergy_brittle_nail</th>\n",
       "      <th>Symptom_SkinAllergy_other_itchy</th>\n",
       "      <th>Symptom_PEM</th>\n",
       "      <th>Symptom_Change_sensitivity_to_meds</th>\n",
       "      <th>Symptom_New_allergies</th>\n",
       "    </tr>\n",
       "  </thead>\n",
       "  <tbody>\n",
       "    <tr>\n",
       "      <th>2342</th>\n",
       "      <td>1.0</td>\n",
       "      <td>0.0</td>\n",
       "      <td>0.0</td>\n",
       "      <td>0.0</td>\n",
       "      <td>0.0</td>\n",
       "      <td>0.0</td>\n",
       "      <td>0.0</td>\n",
       "      <td>0.0</td>\n",
       "      <td>0.0</td>\n",
       "      <td>0.0</td>\n",
       "      <td>...</td>\n",
       "      <td>1</td>\n",
       "      <td>0</td>\n",
       "      <td>0</td>\n",
       "      <td>0</td>\n",
       "      <td>0</td>\n",
       "      <td>0</td>\n",
       "      <td>0</td>\n",
       "      <td>1</td>\n",
       "      <td>1</td>\n",
       "      <td>0</td>\n",
       "    </tr>\n",
       "    <tr>\n",
       "      <th>8195</th>\n",
       "      <td>1.0</td>\n",
       "      <td>0.0</td>\n",
       "      <td>0.0</td>\n",
       "      <td>0.0</td>\n",
       "      <td>0.0</td>\n",
       "      <td>0.0</td>\n",
       "      <td>0.0</td>\n",
       "      <td>0.0</td>\n",
       "      <td>0.0</td>\n",
       "      <td>0.0</td>\n",
       "      <td>...</td>\n",
       "      <td>0</td>\n",
       "      <td>0</td>\n",
       "      <td>0</td>\n",
       "      <td>0</td>\n",
       "      <td>0</td>\n",
       "      <td>0</td>\n",
       "      <td>0</td>\n",
       "      <td>1</td>\n",
       "      <td>0</td>\n",
       "      <td>0</td>\n",
       "    </tr>\n",
       "    <tr>\n",
       "      <th>12234</th>\n",
       "      <td>1.0</td>\n",
       "      <td>1.0</td>\n",
       "      <td>0.0</td>\n",
       "      <td>0.0</td>\n",
       "      <td>0.0</td>\n",
       "      <td>1.0</td>\n",
       "      <td>1.0</td>\n",
       "      <td>1.0</td>\n",
       "      <td>1.0</td>\n",
       "      <td>0.0</td>\n",
       "      <td>...</td>\n",
       "      <td>0</td>\n",
       "      <td>0</td>\n",
       "      <td>0</td>\n",
       "      <td>0</td>\n",
       "      <td>0</td>\n",
       "      <td>0</td>\n",
       "      <td>0</td>\n",
       "      <td>1</td>\n",
       "      <td>0</td>\n",
       "      <td>0</td>\n",
       "    </tr>\n",
       "    <tr>\n",
       "      <th>9116</th>\n",
       "      <td>1.0</td>\n",
       "      <td>0.0</td>\n",
       "      <td>0.0</td>\n",
       "      <td>0.0</td>\n",
       "      <td>0.0</td>\n",
       "      <td>1.0</td>\n",
       "      <td>1.0</td>\n",
       "      <td>1.0</td>\n",
       "      <td>1.0</td>\n",
       "      <td>0.0</td>\n",
       "      <td>...</td>\n",
       "      <td>0</td>\n",
       "      <td>0</td>\n",
       "      <td>0</td>\n",
       "      <td>0</td>\n",
       "      <td>0</td>\n",
       "      <td>0</td>\n",
       "      <td>0</td>\n",
       "      <td>1</td>\n",
       "      <td>0</td>\n",
       "      <td>0</td>\n",
       "    </tr>\n",
       "    <tr>\n",
       "      <th>2202</th>\n",
       "      <td>1.0</td>\n",
       "      <td>1.0</td>\n",
       "      <td>0.0</td>\n",
       "      <td>1.0</td>\n",
       "      <td>1.0</td>\n",
       "      <td>1.0</td>\n",
       "      <td>1.0</td>\n",
       "      <td>1.0</td>\n",
       "      <td>0.0</td>\n",
       "      <td>0.0</td>\n",
       "      <td>...</td>\n",
       "      <td>0</td>\n",
       "      <td>0</td>\n",
       "      <td>0</td>\n",
       "      <td>0</td>\n",
       "      <td>0</td>\n",
       "      <td>0</td>\n",
       "      <td>0</td>\n",
       "      <td>1</td>\n",
       "      <td>0</td>\n",
       "      <td>0</td>\n",
       "    </tr>\n",
       "    <tr>\n",
       "      <th>...</th>\n",
       "      <td>...</td>\n",
       "      <td>...</td>\n",
       "      <td>...</td>\n",
       "      <td>...</td>\n",
       "      <td>...</td>\n",
       "      <td>...</td>\n",
       "      <td>...</td>\n",
       "      <td>...</td>\n",
       "      <td>...</td>\n",
       "      <td>...</td>\n",
       "      <td>...</td>\n",
       "      <td>...</td>\n",
       "      <td>...</td>\n",
       "      <td>...</td>\n",
       "      <td>...</td>\n",
       "      <td>...</td>\n",
       "      <td>...</td>\n",
       "      <td>...</td>\n",
       "      <td>...</td>\n",
       "      <td>...</td>\n",
       "      <td>...</td>\n",
       "    </tr>\n",
       "    <tr>\n",
       "      <th>12072</th>\n",
       "      <td>1.0</td>\n",
       "      <td>1.0</td>\n",
       "      <td>0.0</td>\n",
       "      <td>0.0</td>\n",
       "      <td>1.0</td>\n",
       "      <td>1.0</td>\n",
       "      <td>1.0</td>\n",
       "      <td>1.0</td>\n",
       "      <td>1.0</td>\n",
       "      <td>0.0</td>\n",
       "      <td>...</td>\n",
       "      <td>1</td>\n",
       "      <td>0</td>\n",
       "      <td>0</td>\n",
       "      <td>0</td>\n",
       "      <td>1</td>\n",
       "      <td>0</td>\n",
       "      <td>0</td>\n",
       "      <td>1</td>\n",
       "      <td>1</td>\n",
       "      <td>0</td>\n",
       "    </tr>\n",
       "    <tr>\n",
       "      <th>10744</th>\n",
       "      <td>1.0</td>\n",
       "      <td>0.0</td>\n",
       "      <td>0.0</td>\n",
       "      <td>0.0</td>\n",
       "      <td>0.0</td>\n",
       "      <td>1.0</td>\n",
       "      <td>1.0</td>\n",
       "      <td>1.0</td>\n",
       "      <td>0.0</td>\n",
       "      <td>0.0</td>\n",
       "      <td>...</td>\n",
       "      <td>0</td>\n",
       "      <td>0</td>\n",
       "      <td>0</td>\n",
       "      <td>0</td>\n",
       "      <td>0</td>\n",
       "      <td>0</td>\n",
       "      <td>0</td>\n",
       "      <td>1</td>\n",
       "      <td>0</td>\n",
       "      <td>0</td>\n",
       "    </tr>\n",
       "    <tr>\n",
       "      <th>1406</th>\n",
       "      <td>1.0</td>\n",
       "      <td>0.0</td>\n",
       "      <td>0.0</td>\n",
       "      <td>0.0</td>\n",
       "      <td>0.0</td>\n",
       "      <td>1.0</td>\n",
       "      <td>1.0</td>\n",
       "      <td>1.0</td>\n",
       "      <td>0.0</td>\n",
       "      <td>0.0</td>\n",
       "      <td>...</td>\n",
       "      <td>1</td>\n",
       "      <td>0</td>\n",
       "      <td>0</td>\n",
       "      <td>0</td>\n",
       "      <td>0</td>\n",
       "      <td>0</td>\n",
       "      <td>0</td>\n",
       "      <td>1</td>\n",
       "      <td>0</td>\n",
       "      <td>0</td>\n",
       "    </tr>\n",
       "    <tr>\n",
       "      <th>6827</th>\n",
       "      <td>1.0</td>\n",
       "      <td>1.0</td>\n",
       "      <td>0.0</td>\n",
       "      <td>0.0</td>\n",
       "      <td>0.0</td>\n",
       "      <td>0.0</td>\n",
       "      <td>1.0</td>\n",
       "      <td>1.0</td>\n",
       "      <td>1.0</td>\n",
       "      <td>0.0</td>\n",
       "      <td>...</td>\n",
       "      <td>1</td>\n",
       "      <td>0</td>\n",
       "      <td>1</td>\n",
       "      <td>0</td>\n",
       "      <td>0</td>\n",
       "      <td>0</td>\n",
       "      <td>0</td>\n",
       "      <td>1</td>\n",
       "      <td>0</td>\n",
       "      <td>0</td>\n",
       "    </tr>\n",
       "    <tr>\n",
       "      <th>304</th>\n",
       "      <td>1.0</td>\n",
       "      <td>1.0</td>\n",
       "      <td>1.0</td>\n",
       "      <td>1.0</td>\n",
       "      <td>0.0</td>\n",
       "      <td>1.0</td>\n",
       "      <td>1.0</td>\n",
       "      <td>1.0</td>\n",
       "      <td>1.0</td>\n",
       "      <td>0.0</td>\n",
       "      <td>...</td>\n",
       "      <td>0</td>\n",
       "      <td>0</td>\n",
       "      <td>1</td>\n",
       "      <td>1</td>\n",
       "      <td>0</td>\n",
       "      <td>0</td>\n",
       "      <td>0</td>\n",
       "      <td>1</td>\n",
       "      <td>0</td>\n",
       "      <td>0</td>\n",
       "    </tr>\n",
       "  </tbody>\n",
       "</table>\n",
       "<p>1207 rows × 147 columns</p>\n",
       "</div>"
      ],
      "text/plain": [
       "       Symptom_Memory_short  Symptom_Memory_long  \\\n",
       "2342                    1.0                  0.0   \n",
       "8195                    1.0                  0.0   \n",
       "12234                   1.0                  1.0   \n",
       "9116                    1.0                  0.0   \n",
       "2202                    1.0                  1.0   \n",
       "...                     ...                  ...   \n",
       "12072                   1.0                  1.0   \n",
       "10744                   1.0                  0.0   \n",
       "1406                    1.0                  0.0   \n",
       "6827                    1.0                  1.0   \n",
       "304                     1.0                  1.0   \n",
       "\n",
       "       Symptom_Memory_no_new_memories  Symptom_Memory_forget_tasks  \\\n",
       "2342                              0.0                          0.0   \n",
       "8195                              0.0                          0.0   \n",
       "12234                             0.0                          0.0   \n",
       "9116                              0.0                          0.0   \n",
       "2202                              0.0                          1.0   \n",
       "...                               ...                          ...   \n",
       "12072                             0.0                          0.0   \n",
       "10744                             0.0                          0.0   \n",
       "1406                              0.0                          0.0   \n",
       "6827                              0.0                          0.0   \n",
       "304                               1.0                          1.0   \n",
       "\n",
       "       Symptom_Memory_other  Symptom_Cognitive_Functioning_thinking  \\\n",
       "2342                    0.0                                     0.0   \n",
       "8195                    0.0                                     0.0   \n",
       "12234                   0.0                                     1.0   \n",
       "9116                    0.0                                     1.0   \n",
       "2202                    1.0                                     1.0   \n",
       "...                     ...                                     ...   \n",
       "12072                   1.0                                     1.0   \n",
       "10744                   0.0                                     1.0   \n",
       "1406                    0.0                                     1.0   \n",
       "6827                    0.0                                     0.0   \n",
       "304                     0.0                                     1.0   \n",
       "\n",
       "       Symptom_Cognitive_Functioning_executive  \\\n",
       "2342                                       0.0   \n",
       "8195                                       0.0   \n",
       "12234                                      1.0   \n",
       "9116                                       1.0   \n",
       "2202                                       1.0   \n",
       "...                                        ...   \n",
       "12072                                      1.0   \n",
       "10744                                      1.0   \n",
       "1406                                       1.0   \n",
       "6827                                       1.0   \n",
       "304                                        1.0   \n",
       "\n",
       "       Symptom_Cognitive_Functioning_problemsolving  \\\n",
       "2342                                            0.0   \n",
       "8195                                            0.0   \n",
       "12234                                           1.0   \n",
       "9116                                            1.0   \n",
       "2202                                            1.0   \n",
       "...                                             ...   \n",
       "12072                                           1.0   \n",
       "10744                                           1.0   \n",
       "1406                                            1.0   \n",
       "6827                                            1.0   \n",
       "304                                             1.0   \n",
       "\n",
       "       Symptom_Cognitive_Functioning_slowedthoughts  \\\n",
       "2342                                            0.0   \n",
       "8195                                            0.0   \n",
       "12234                                           1.0   \n",
       "9116                                            1.0   \n",
       "2202                                            0.0   \n",
       "...                                             ...   \n",
       "12072                                           1.0   \n",
       "10744                                           0.0   \n",
       "1406                                            0.0   \n",
       "6827                                            1.0   \n",
       "304                                             1.0   \n",
       "\n",
       "       Symptom_Cognitive_Functioning_fastthoughts  ...  \\\n",
       "2342                                          0.0  ...   \n",
       "8195                                          0.0  ...   \n",
       "12234                                         0.0  ...   \n",
       "9116                                          0.0  ...   \n",
       "2202                                          0.0  ...   \n",
       "...                                           ...  ...   \n",
       "12072                                         0.0  ...   \n",
       "10744                                         0.0  ...   \n",
       "1406                                          0.0  ...   \n",
       "6827                                          0.0  ...   \n",
       "304                                           0.0  ...   \n",
       "\n",
       "       Symptom_Gastrointestinal_abdominal_pain  \\\n",
       "2342                                         1   \n",
       "8195                                         0   \n",
       "12234                                        0   \n",
       "9116                                         0   \n",
       "2202                                         0   \n",
       "...                                        ...   \n",
       "12072                                        1   \n",
       "10744                                        0   \n",
       "1406                                         1   \n",
       "6827                                         1   \n",
       "304                                          0   \n",
       "\n",
       "       Symptom_Gastrointestinal_hyperactive_bowel  \\\n",
       "2342                                            0   \n",
       "8195                                            0   \n",
       "12234                                           0   \n",
       "9116                                            0   \n",
       "2202                                            0   \n",
       "...                                           ...   \n",
       "12072                                           0   \n",
       "10744                                           0   \n",
       "1406                                            0   \n",
       "6827                                            0   \n",
       "304                                             0   \n",
       "\n",
       "       Symptom_SkinAllergy_itchy_skin  Symptom_SkinAllergy_itchy_eyes  \\\n",
       "2342                                0                               0   \n",
       "8195                                0                               0   \n",
       "12234                               0                               0   \n",
       "9116                                0                               0   \n",
       "2202                                0                               0   \n",
       "...                               ...                             ...   \n",
       "12072                               0                               0   \n",
       "10744                               0                               0   \n",
       "1406                                0                               0   \n",
       "6827                                1                               0   \n",
       "304                                 1                               1   \n",
       "\n",
       "       Symptom_SkinAllergy_heighted_reaction_allergies  \\\n",
       "2342                                                 0   \n",
       "8195                                                 0   \n",
       "12234                                                0   \n",
       "9116                                                 0   \n",
       "2202                                                 0   \n",
       "...                                                ...   \n",
       "12072                                                1   \n",
       "10744                                                0   \n",
       "1406                                                 0   \n",
       "6827                                                 0   \n",
       "304                                                  0   \n",
       "\n",
       "       Symptom_SkinAllergy_brittle_nail  Symptom_SkinAllergy_other_itchy  \\\n",
       "2342                                  0                                0   \n",
       "8195                                  0                                0   \n",
       "12234                                 0                                0   \n",
       "9116                                  0                                0   \n",
       "2202                                  0                                0   \n",
       "...                                 ...                              ...   \n",
       "12072                                 0                                0   \n",
       "10744                                 0                                0   \n",
       "1406                                  0                                0   \n",
       "6827                                  0                                0   \n",
       "304                                   0                                0   \n",
       "\n",
       "       Symptom_PEM  Symptom_Change_sensitivity_to_meds  Symptom_New_allergies  \n",
       "2342             1                                   1                      0  \n",
       "8195             1                                   0                      0  \n",
       "12234            1                                   0                      0  \n",
       "9116             1                                   0                      0  \n",
       "2202             1                                   0                      0  \n",
       "...            ...                                 ...                    ...  \n",
       "12072            1                                   1                      0  \n",
       "10744            1                                   0                      0  \n",
       "1406             1                                   0                      0  \n",
       "6827             1                                   0                      0  \n",
       "304              1                                   0                      0  \n",
       "\n",
       "[1207 rows x 147 columns]"
      ]
     },
     "execution_count": 21,
     "metadata": {},
     "output_type": "execute_result"
    }
   ],
   "source": [
    "sympdf_test"
   ]
  },
  {
   "cell_type": "code",
   "execution_count": 26,
   "metadata": {},
   "outputs": [
    {
     "name": "stdout",
     "output_type": "stream",
     "text": [
      "Silhouette score for model 0: -0.03129693881270035\n",
      "Silhouette score for model 1: -0.0233378114946634\n",
      "Silhouette score for model 2: -0.025032094289947363\n",
      "Silhouette score for model 3: -0.01910162512733687\n",
      "Silhouette score for model 4: -0.026182175740532512\n",
      "Silhouette score for model 5: -0.02424895773622512\n",
      "Silhouette score for model 6: -0.029340028822203466\n",
      "Silhouette score for model 7: -0.029627051695888643\n",
      "Silhouette score for model 8: -0.02896551115597842\n",
      "Silhouette score for model 9: -0.025820438826619937\n"
     ]
    }
   ],
   "source": [
    "from sklearn.metrics import silhouette_score\n",
    "\n",
    "# Calculate Silhouette score for each model\n",
    "for i, model in enumerate(models):\n",
    "    labels = model.predict(sympdf_test)\n",
    "    silhouette_avg = silhouette_score(sympdf_test, labels)\n",
    "    print(f\"Silhouette score for model {i}: {silhouette_avg}\")"
   ]
  },
  {
   "cell_type": "code",
   "execution_count": 27,
   "metadata": {},
   "outputs": [
    {
     "name": "stdout",
     "output_type": "stream",
     "text": [
      "Silhouette score for model 0: -0.031098697628263297\n",
      "Silhouette score for model 1: -0.02039748409341105\n",
      "Silhouette score for model 2: -0.022350884590714153\n",
      "Silhouette score for model 3: -0.01737989624067313\n",
      "Silhouette score for model 4: -0.02486684402540681\n",
      "Silhouette score for model 5: -0.02257508477160813\n",
      "Silhouette score for model 6: -0.03172452039355484\n",
      "Silhouette score for model 7: -0.028245742610943713\n",
      "Silhouette score for model 8: -0.026126861936795608\n",
      "Silhouette score for model 9: -0.02105678768566922\n"
     ]
    }
   ],
   "source": [
    "for i, model in enumerate(models):\n",
    "    labels = model.predict(sympdf_train)\n",
    "    silhouette_avg = silhouette_score(sympdf_train, labels)\n",
    "    print(f\"Silhouette score for model {i}: {silhouette_avg}\")"
   ]
  },
  {
   "cell_type": "code",
   "execution_count": null,
   "metadata": {},
   "outputs": [],
   "source": []
  }
 ],
 "metadata": {
  "kernelspec": {
   "display_name": "Python 3",
   "language": "python",
   "name": "python3"
  },
  "language_info": {
   "codemirror_mode": {
    "name": "ipython",
    "version": 3
   },
   "file_extension": ".py",
   "mimetype": "text/x-python",
   "name": "python",
   "nbconvert_exporter": "python",
   "pygments_lexer": "ipython3",
   "version": "3.12.0"
  }
 },
 "nbformat": 4,
 "nbformat_minor": 2
}

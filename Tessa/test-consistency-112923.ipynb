{
 "cells": [
  {
   "cell_type": "code",
   "execution_count": 104,
   "metadata": {},
   "outputs": [],
   "source": [
    "from stepmix.stepmix import StepMix\n",
    "import pandas as pd\n",
    "import numpy as np\n",
    "\n",
    "from sklearn.model_selection import train_test_split\n",
    "from sklearn.metrics import silhouette_score\n",
    "\n",
    "import matplotlib.pyplot as plt\n",
    "import seaborn as sns\n",
    "\n",
    "import pickle as pkl\n",
    "import matplotlib.pyplot as plt\n",
    "\n",
    "# import linkage\n",
    "from scipy.cluster.hierarchy import linkage, fcluster\n",
    "from sklearn.metrics import adjusted_mutual_info_score as AMI"
   ]
  },
  {
   "cell_type": "code",
   "execution_count": 105,
   "metadata": {},
   "outputs": [
    {
     "data": {
      "text/plain": [
       "(6031, 162)"
      ]
     },
     "execution_count": 105,
     "metadata": {},
     "output_type": "execute_result"
    }
   ],
   "source": [
    "df = pd.read_csv(\"../data/cleaned_data_SYMPTOMS_9_13_23.csv\", index_col=0)\n",
    "sympdf = df.loc[:, df.columns.str.startswith('Symptom_')]\n",
    "sympdf.shape"
   ]
  },
  {
   "cell_type": "code",
   "execution_count": 106,
   "metadata": {},
   "outputs": [],
   "source": [
    "sympdf = sympdf.loc[:, (sympdf.sum() / sympdf.shape[0] > 0.05) & (sympdf.sum()  / sympdf.shape[0]< 0.95)]"
   ]
  },
  {
   "cell_type": "code",
   "execution_count": 107,
   "metadata": {},
   "outputs": [],
   "source": [
    "model = StepMix(n_components=13, measurement=\"binary\", verbose=0, random_state=123)\n"
   ]
  },
  {
   "cell_type": "code",
   "execution_count": 108,
   "metadata": {},
   "outputs": [],
   "source": [
    "sympdf_train, sympdf_test = train_test_split(sympdf, test_size=0.2, random_state=123)"
   ]
  },
  {
   "cell_type": "code",
   "execution_count": 109,
   "metadata": {},
   "outputs": [
    {
     "name": "stdout",
     "output_type": "stream",
     "text": [
      "Fitting StepMix...\n"
     ]
    },
    {
     "name": "stderr",
     "output_type": "stream",
     "text": [
      "Initializations (n_init) : 100%|██████████| 1/1 [00:03<00:00,  3.28s/it, max_LL=-3.26e+5, max_avg_LL=-67.5]\n"
     ]
    },
    {
     "data": {
      "text/html": [
       "<style>#sk-container-id-3 {color: black;}#sk-container-id-3 pre{padding: 0;}#sk-container-id-3 div.sk-toggleable {background-color: white;}#sk-container-id-3 label.sk-toggleable__label {cursor: pointer;display: block;width: 100%;margin-bottom: 0;padding: 0.3em;box-sizing: border-box;text-align: center;}#sk-container-id-3 label.sk-toggleable__label-arrow:before {content: \"▸\";float: left;margin-right: 0.25em;color: #696969;}#sk-container-id-3 label.sk-toggleable__label-arrow:hover:before {color: black;}#sk-container-id-3 div.sk-estimator:hover label.sk-toggleable__label-arrow:before {color: black;}#sk-container-id-3 div.sk-toggleable__content {max-height: 0;max-width: 0;overflow: hidden;text-align: left;background-color: #f0f8ff;}#sk-container-id-3 div.sk-toggleable__content pre {margin: 0.2em;color: black;border-radius: 0.25em;background-color: #f0f8ff;}#sk-container-id-3 input.sk-toggleable__control:checked~div.sk-toggleable__content {max-height: 200px;max-width: 100%;overflow: auto;}#sk-container-id-3 input.sk-toggleable__control:checked~label.sk-toggleable__label-arrow:before {content: \"▾\";}#sk-container-id-3 div.sk-estimator input.sk-toggleable__control:checked~label.sk-toggleable__label {background-color: #d4ebff;}#sk-container-id-3 div.sk-label input.sk-toggleable__control:checked~label.sk-toggleable__label {background-color: #d4ebff;}#sk-container-id-3 input.sk-hidden--visually {border: 0;clip: rect(1px 1px 1px 1px);clip: rect(1px, 1px, 1px, 1px);height: 1px;margin: -1px;overflow: hidden;padding: 0;position: absolute;width: 1px;}#sk-container-id-3 div.sk-estimator {font-family: monospace;background-color: #f0f8ff;border: 1px dotted black;border-radius: 0.25em;box-sizing: border-box;margin-bottom: 0.5em;}#sk-container-id-3 div.sk-estimator:hover {background-color: #d4ebff;}#sk-container-id-3 div.sk-parallel-item::after {content: \"\";width: 100%;border-bottom: 1px solid gray;flex-grow: 1;}#sk-container-id-3 div.sk-label:hover label.sk-toggleable__label {background-color: #d4ebff;}#sk-container-id-3 div.sk-serial::before {content: \"\";position: absolute;border-left: 1px solid gray;box-sizing: border-box;top: 0;bottom: 0;left: 50%;z-index: 0;}#sk-container-id-3 div.sk-serial {display: flex;flex-direction: column;align-items: center;background-color: white;padding-right: 0.2em;padding-left: 0.2em;position: relative;}#sk-container-id-3 div.sk-item {position: relative;z-index: 1;}#sk-container-id-3 div.sk-parallel {display: flex;align-items: stretch;justify-content: center;background-color: white;position: relative;}#sk-container-id-3 div.sk-item::before, #sk-container-id-3 div.sk-parallel-item::before {content: \"\";position: absolute;border-left: 1px solid gray;box-sizing: border-box;top: 0;bottom: 0;left: 50%;z-index: -1;}#sk-container-id-3 div.sk-parallel-item {display: flex;flex-direction: column;z-index: 1;position: relative;background-color: white;}#sk-container-id-3 div.sk-parallel-item:first-child::after {align-self: flex-end;width: 50%;}#sk-container-id-3 div.sk-parallel-item:last-child::after {align-self: flex-start;width: 50%;}#sk-container-id-3 div.sk-parallel-item:only-child::after {width: 0;}#sk-container-id-3 div.sk-dashed-wrapped {border: 1px dashed gray;margin: 0 0.4em 0.5em 0.4em;box-sizing: border-box;padding-bottom: 0.4em;background-color: white;}#sk-container-id-3 div.sk-label label {font-family: monospace;font-weight: bold;display: inline-block;line-height: 1.2em;}#sk-container-id-3 div.sk-label-container {text-align: center;}#sk-container-id-3 div.sk-container {/* jupyter's `normalize.less` sets `[hidden] { display: none; }` but bootstrap.min.css set `[hidden] { display: none !important; }` so we also need the `!important` here to be able to override the default hidden behavior on the sphinx rendered scikit-learn.org. See: https://github.com/scikit-learn/scikit-learn/issues/21755 */display: inline-block !important;position: relative;}#sk-container-id-3 div.sk-text-repr-fallback {display: none;}</style><div id=\"sk-container-id-3\" class=\"sk-top-container\"><div class=\"sk-text-repr-fallback\"><pre>StepMix(measurement=&#x27;binary&#x27;, n_components=13, random_state=123)</pre><b>In a Jupyter environment, please rerun this cell to show the HTML representation or trust the notebook. <br />On GitHub, the HTML representation is unable to render, please try loading this page with nbviewer.org.</b></div><div class=\"sk-container\" hidden><div class=\"sk-item\"><div class=\"sk-estimator sk-toggleable\"><input class=\"sk-toggleable__control sk-hidden--visually\" id=\"sk-estimator-id-3\" type=\"checkbox\" checked><label for=\"sk-estimator-id-3\" class=\"sk-toggleable__label sk-toggleable__label-arrow\">StepMix</label><div class=\"sk-toggleable__content\"><pre>StepMix(measurement=&#x27;binary&#x27;, n_components=13, random_state=123)</pre></div></div></div></div></div>"
      ],
      "text/plain": [
       "StepMix(measurement='binary', n_components=13, random_state=123)"
      ]
     },
     "execution_count": 109,
     "metadata": {},
     "output_type": "execute_result"
    }
   ],
   "source": [
    "model.fit(sympdf_train)"
   ]
  },
  {
   "cell_type": "code",
   "execution_count": 110,
   "metadata": {},
   "outputs": [],
   "source": [
    "df['cluster'] = model.predict(sympdf)"
   ]
  },
  {
   "cell_type": "code",
   "execution_count": 111,
   "metadata": {},
   "outputs": [
    {
     "data": {
      "text/plain": [
       "<Axes: xlabel='cluster'>"
      ]
     },
     "execution_count": 111,
     "metadata": {},
     "output_type": "execute_result"
    },
    {
     "data": {
      "image/png": "[encoded data removed]",
      "text/plain": [
       "<Figure size 640x480 with 1 Axes>"
      ]
     },
     "metadata": {},
     "output_type": "display_data"
    }
   ],
   "source": [
    "df['cluster'].value_counts().plot(kind='bar')\n",
    "# slight variation with the full dataset"
   ]
  },
  {
   "cell_type": "code",
   "execution_count": 112,
   "metadata": {},
   "outputs": [],
   "source": [
    "clust_full = pd.read_csv(\"output/cluster_13_111023.csv\", index_col=0)"
   ]
  },
  {
   "cell_type": "code",
   "execution_count": 114,
   "metadata": {},
   "outputs": [
    {
     "data": {
      "text/plain": [
       "0.5544607667945026"
      ]
     },
     "execution_count": 114,
     "metadata": {},
     "output_type": "execute_result"
    }
   ],
   "source": [
    "# compare the two clusterings using rand index\n",
    "AMI(df['cluster'], clust_full['cluster'])"
   ]
  },
  {
   "cell_type": "code",
   "execution_count": 115,
   "metadata": {},
   "outputs": [
    {
     "name": "stdout",
     "output_type": "stream",
     "text": [
      "Fitting StepMix...\n"
     ]
    },
    {
     "name": "stderr",
     "output_type": "stream",
     "text": [
      "Initializations (n_init) : 100%|██████████| 1/1 [00:03<00:00,  3.53s/it, max_LL=-3.26e+5, max_avg_LL=-67.6]\n"
     ]
    },
    {
     "name": "stdout",
     "output_type": "stream",
     "text": [
      "Fitting StepMix...\n"
     ]
    },
    {
     "name": "stderr",
     "output_type": "stream",
     "text": [
      "Initializations (n_init) : 100%|██████████| 1/1 [00:03<00:00,  3.39s/it, max_LL=-3.25e+5, max_avg_LL=-67.4]\n"
     ]
    },
    {
     "name": "stdout",
     "output_type": "stream",
     "text": [
      "Fitting StepMix...\n"
     ]
    },
    {
     "name": "stderr",
     "output_type": "stream",
     "text": [
      "Initializations (n_init) : 100%|██████████| 1/1 [00:04<00:00,  4.67s/it, max_LL=-3.25e+5, max_avg_LL=-67.4]\n"
     ]
    },
    {
     "name": "stdout",
     "output_type": "stream",
     "text": [
      "Fitting StepMix...\n"
     ]
    },
    {
     "name": "stderr",
     "output_type": "stream",
     "text": [
      "Initializations (n_init) : 100%|██████████| 1/1 [00:04<00:00,  4.99s/it, max_LL=-3.26e+5, max_avg_LL=-67.6]\n"
     ]
    },
    {
     "name": "stdout",
     "output_type": "stream",
     "text": [
      "Fitting StepMix...\n"
     ]
    },
    {
     "name": "stderr",
     "output_type": "stream",
     "text": [
      "Initializations (n_init) : 100%|██████████| 1/1 [00:06<00:00,  6.58s/it, max_LL=-3.25e+5, max_avg_LL=-67.5]\n",
      "/Users/tessa/miniforge3/envs/stepmix/lib/python3.12/site-packages/stepmix/stepmix.py:968: ConvergenceWarning: Initializations did not converge. Try different init parameters, or increase max_iter, abs_tol, rel_tol or check for degenerate data.\n",
      "  warnings.warn(\n"
     ]
    },
    {
     "name": "stdout",
     "output_type": "stream",
     "text": [
      "Fitting StepMix...\n"
     ]
    },
    {
     "name": "stderr",
     "output_type": "stream",
     "text": [
      "Initializations (n_init) : 100%|██████████| 1/1 [00:01<00:00,  1.73s/it, max_LL=-3.26e+5, max_avg_LL=-67.5]\n"
     ]
    },
    {
     "name": "stdout",
     "output_type": "stream",
     "text": [
      "Fitting StepMix...\n"
     ]
    },
    {
     "name": "stderr",
     "output_type": "stream",
     "text": [
      "Initializations (n_init) : 100%|██████████| 1/1 [00:01<00:00,  1.70s/it, max_LL=-3.25e+5, max_avg_LL=-67.3]\n"
     ]
    },
    {
     "name": "stdout",
     "output_type": "stream",
     "text": [
      "Fitting StepMix...\n"
     ]
    },
    {
     "name": "stderr",
     "output_type": "stream",
     "text": [
      "Initializations (n_init) : 100%|██████████| 1/1 [00:03<00:00,  3.94s/it, max_LL=-3.26e+5, max_avg_LL=-67.5]\n"
     ]
    },
    {
     "name": "stdout",
     "output_type": "stream",
     "text": [
      "Fitting StepMix...\n"
     ]
    },
    {
     "name": "stderr",
     "output_type": "stream",
     "text": [
      "Initializations (n_init) : 100%|██████████| 1/1 [00:03<00:00,  3.10s/it, max_LL=-3.25e+5, max_avg_LL=-67.3]\n"
     ]
    },
    {
     "name": "stdout",
     "output_type": "stream",
     "text": [
      "Fitting StepMix...\n"
     ]
    },
    {
     "name": "stderr",
     "output_type": "stream",
     "text": [
      "Initializations (n_init) : 100%|██████████| 1/1 [00:04<00:00,  4.76s/it, max_LL=-3.25e+5, max_avg_LL=-67.4]\n"
     ]
    }
   ],
   "source": [
    "# divide sympdf into train and test multiple times and fit models for each one\n",
    "models = []\n",
    "for i in range(10):\n",
    "    sympdf_train, sympdf_test = train_test_split(sympdf, test_size=0.2, random_state=i)\n",
    "    model = StepMix(n_components=13, measurement=\"binary\", verbose=0, random_state=i)\n",
    "    model.fit(sympdf_train)\n",
    "    models.append(model)"
   ]
  },
  {
   "cell_type": "code",
   "execution_count": 116,
   "metadata": {},
   "outputs": [
    {
     "name": "stdout",
     "output_type": "stream",
     "text": [
      "    Model_1  Model_2       ARI\n",
      "0         0        1  0.379958\n",
      "1         0        2  0.470401\n",
      "2         0        3  0.417632\n",
      "3         0        4  0.403542\n",
      "4         0        5  0.415195\n",
      "5         0        6  0.348413\n",
      "6         0        7  0.492773\n",
      "7         0        8  0.494042\n",
      "8         0        9  0.411657\n",
      "9         1        2  0.410438\n",
      "10        1        3  0.563673\n",
      "11        1        4  0.450210\n",
      "12        1        5  0.516468\n",
      "13        1        6  0.394552\n",
      "14        1        7  0.447951\n",
      "15        1        8  0.400108\n",
      "16        1        9  0.593141\n",
      "17        2        3  0.541089\n",
      "18        2        4  0.533614\n",
      "19        2        5  0.407649\n",
      "20        2        6  0.481152\n",
      "21        2        7  0.521789\n",
      "22        2        8  0.536571\n",
      "23        2        9  0.479084\n",
      "24        3        4  0.598568\n",
      "25        3        5  0.441154\n",
      "26        3        6  0.457527\n",
      "27        3        7  0.477814\n",
      "28        3        8  0.578542\n",
      "29        3        9  0.557040\n",
      "30        4        5  0.523105\n",
      "31        4        6  0.509064\n",
      "32        4        7  0.577926\n",
      "33        4        8  0.554611\n",
      "34        4        9  0.485157\n",
      "35        5        6  0.490649\n",
      "36        5        7  0.480888\n",
      "37        5        8  0.435726\n",
      "38        5        9  0.659141\n",
      "39        6        7  0.532428\n",
      "40        6        8  0.481749\n",
      "41        6        9  0.547260\n",
      "42        7        8  0.531333\n",
      "43        7        9  0.504524\n",
      "44        8        9  0.484739\n"
     ]
    }
   ],
   "source": [
    "import pandas as pd\n",
    "from sklearn.metrics import adjusted_rand_score\n",
    "from itertools import combinations\n",
    "\n",
    "# Initialize an empty list to store ARI values\n",
    "ari_list = []\n",
    "\n",
    "# Calculate ARI between all pairs of models\n",
    "for i, j in combinations(range(10), 2):\n",
    "    labels_i = models[i].predict(sympdf)\n",
    "    labels_j = models[j].predict(sympdf)\n",
    "    ari_score = adjusted_rand_score(labels_i, labels_j)\n",
    "    ari_list.append({\"Model_1\": i, \"Model_2\": j, \"ARI\": ari_score})\n",
    "\n",
    "# Create a DataFrame from the list of dictionaries\n",
    "ari_df = pd.DataFrame(ari_list)\n",
    "\n",
    "# Display the DataFrame\n",
    "print(ari_df)\n"
   ]
  },
  {
   "cell_type": "code",
   "execution_count": 117,
   "metadata": {},
   "outputs": [
    {
     "data": {
      "image/png": "[encoded data removed]",
      "text/plain": [
       "<Figure size 800x600 with 2 Axes>"
      ]
     },
     "metadata": {},
     "output_type": "display_data"
    }
   ],
   "source": [
    "plt.figure(figsize=(8, 6))\n",
    "plt.scatter(ari_df[\"Model_1\"], ari_df[\"Model_2\"], c=ari_df[\"ARI\"], cmap=\"viridis\", s=1000)\n",
    "plt.colorbar(label=\"Adjusted Rand Index (ARI)\")\n",
    "plt.xlabel(\"Model 1\")\n",
    "plt.ylabel(\"Model 2\")\n",
    "plt.title(\"ARI Between Model Pairs\")\n",
    "plt.show()"
   ]
  },
  {
   "cell_type": "code",
   "execution_count": 118,
   "metadata": {},
   "outputs": [
    {
     "data": {
      "text/plain": [
       "0.48933439181587585"
      ]
     },
     "execution_count": 118,
     "metadata": {},
     "output_type": "execute_result"
    }
   ],
   "source": [
    "ari_df['ARI'].mean()\n"
   ]
  },
  {
   "cell_type": "code",
   "execution_count": 119,
   "metadata": {},
   "outputs": [
    {
     "data": {
      "text/plain": [
       "Model_1    2.666667\n",
       "Model_2    6.333333\n",
       "AMI        0.626502\n",
       "dtype: float64"
      ]
     },
     "execution_count": 119,
     "metadata": {},
     "output_type": "execute_result"
    }
   ],
   "source": []
  },
  {
   "cell_type": "code",
   "execution_count": 103,
   "metadata": {},
   "outputs": [
    {
     "data": {
      "image/png": "[encoded data removed]",
      "text/plain": [
       "<Figure size 800x600 with 2 Axes>"
      ]
     },
     "metadata": {},
     "output_type": "display_data"
    },
    {
     "data": {
      "text/plain": [
       "<Figure size 640x480 with 0 Axes>"
      ]
     },
     "metadata": {},
     "output_type": "display_data"
    }
   ],
   "source": [
    "plt.figure(figsize=(8, 6))\n",
    "plt.scatter(ami_df[\"Model_1\"], ami_df[\"Model_2\"], c=ami_df[\"AMI\"], cmap=\"viridis\", s=1000)\n",
    "plt.colorbar(label=\"Adjusted Mutual Information (AMI)\")\n",
    "plt.xlabel(\"Model 1\")\n",
    "plt.ylabel(\"Model 2\")\n",
    "plt.title(\"AMI Between Model Pairs\")\n",
    "plt.show()\n",
    "plt.savefig(\"figs/AMI_model_pairs.pdf\")"
   ]
  },
  {
   "cell_type": "code",
   "execution_count": 18,
   "metadata": {},
   "outputs": [
    {
     "name": "stdout",
     "output_type": "stream",
     "text": [
      "Silhouette score for model 0: -0.0622260797628605\n",
      "Silhouette score for model 1: -0.046886570763431605\n",
      "Silhouette score for model 2: -0.05041381363835178\n",
      "Silhouette score for model 3: -0.03890900215004198\n",
      "Silhouette score for model 4: -0.05279985045003414\n",
      "Silhouette score for model 5: -0.0489177964316557\n",
      "Silhouette score for model 6: -0.058565997242346\n",
      "Silhouette score for model 7: -0.0593321920134468\n",
      "Silhouette score for model 8: -0.05788259643613508\n",
      "Silhouette score for model 9: -0.05218456300441547\n"
     ]
    }
   ],
   "source": [
    "def hamming_metric(x,y):\n",
    "    return np.sum(x != y) / len(x)\n",
    "\n",
    "\n",
    "# Calculate Silhouette score for each model\n",
    "for i, model in enumerate(models):\n",
    "    labels = model.predict(sympdf_test)\n",
    "    silhouette_avg = silhouette_score(sympdf_test, labels, metric=hamming_metric)\n",
    "    print(f\"Silhouette score for model {i}: {silhouette_avg}\")"
   ]
  },
  {
   "cell_type": "code",
   "execution_count": 27,
   "metadata": {},
   "outputs": [
    {
     "name": "stdout",
     "output_type": "stream",
     "text": [
      "Silhouette score for model 0: -0.031098697628263297\n",
      "Silhouette score for model 1: -0.02039748409341105\n",
      "Silhouette score for model 2: -0.022350884590714153\n",
      "Silhouette score for model 3: -0.01737989624067313\n",
      "Silhouette score for model 4: -0.02486684402540681\n",
      "Silhouette score for model 5: -0.02257508477160813\n",
      "Silhouette score for model 6: -0.03172452039355484\n",
      "Silhouette score for model 7: -0.028245742610943713\n",
      "Silhouette score for model 8: -0.026126861936795608\n",
      "Silhouette score for model 9: -0.02105678768566922\n"
     ]
    }
   ],
   "source": [
    "for i, model in enumerate(models):\n",
    "    labels = model.predict(sympdf_train)\n",
    "    silhouette_avg = silhouette_score(sympdf_train, labels)\n",
    "    print(f\"Silhouette score for model {i}: {silhouette_avg}\")"
   ]
  },
  {
   "cell_type": "code",
   "execution_count": 1,
   "metadata": {},
   "outputs": [
    {
     "data": {
      "text/plain": [
       "2"
      ]
     },
     "execution_count": 1,
     "metadata": {},
     "output_type": "execute_result"
    }
   ],
   "source": [
    "# need mean ARI here"
   ]
  },
  {
   "cell_type": "code",
   "execution_count": 17,
   "metadata": {},
   "outputs": [
    {
     "name": "stdout",
     "output_type": "stream",
     "text": [
      "Fitting StepMix...\n"
     ]
    },
    {
     "name": "stderr",
     "output_type": "stream",
     "text": [
      "Initializations (n_init) : 100%|██████████| 1/1 [00:10<00:00, 10.17s/it, max_LL=-4.07e+5, max_avg_LL=-67.5]\n",
      "/Users/tessa/miniforge3/envs/stepmix/lib/python3.12/site-packages/stepmix/stepmix.py:968: ConvergenceWarning: Initializations did not converge. Try different init parameters, or increase max_iter, abs_tol, rel_tol or check for degenerate data.\n",
      "  warnings.warn(\n"
     ]
    },
    {
     "name": "stdout",
     "output_type": "stream",
     "text": [
      "Fitting StepMix...\n"
     ]
    },
    {
     "name": "stderr",
     "output_type": "stream",
     "text": [
      "Initializations (n_init) : 100%|██████████| 1/1 [00:04<00:00,  4.46s/it, max_LL=-4.07e+5, max_avg_LL=-67.5]\n"
     ]
    },
    {
     "name": "stdout",
     "output_type": "stream",
     "text": [
      "Fitting StepMix...\n"
     ]
    },
    {
     "name": "stderr",
     "output_type": "stream",
     "text": [
      "Initializations (n_init) : 100%|██████████| 1/1 [00:03<00:00,  3.78s/it, max_LL=-4.07e+5, max_avg_LL=-67.5]\n"
     ]
    },
    {
     "name": "stdout",
     "output_type": "stream",
     "text": [
      "Fitting StepMix...\n"
     ]
    },
    {
     "name": "stderr",
     "output_type": "stream",
     "text": [
      "Initializations (n_init) : 100%|██████████| 1/1 [00:06<00:00,  6.15s/it, max_LL=-4.07e+5, max_avg_LL=-67.5]\n"
     ]
    },
    {
     "name": "stdout",
     "output_type": "stream",
     "text": [
      "Fitting StepMix...\n"
     ]
    },
    {
     "name": "stderr",
     "output_type": "stream",
     "text": [
      "Initializations (n_init) : 100%|██████████| 1/1 [00:05<00:00,  5.49s/it, max_LL=-4.07e+5, max_avg_LL=-67.5]\n"
     ]
    },
    {
     "name": "stdout",
     "output_type": "stream",
     "text": [
      "Fitting StepMix...\n"
     ]
    },
    {
     "name": "stderr",
     "output_type": "stream",
     "text": [
      "Initializations (n_init) : 100%|██████████| 1/1 [00:08<00:00,  8.95s/it, max_LL=-4.07e+5, max_avg_LL=-67.5]\n"
     ]
    },
    {
     "name": "stdout",
     "output_type": "stream",
     "text": [
      "Fitting StepMix...\n"
     ]
    },
    {
     "name": "stderr",
     "output_type": "stream",
     "text": [
      "Initializations (n_init) : 100%|██████████| 1/1 [00:02<00:00,  2.10s/it, max_LL=-4.07e+5, max_avg_LL=-67.5]\n"
     ]
    },
    {
     "name": "stdout",
     "output_type": "stream",
     "text": [
      "Fitting StepMix...\n"
     ]
    },
    {
     "name": "stderr",
     "output_type": "stream",
     "text": [
      "Initializations (n_init) : 100%|██████████| 1/1 [00:04<00:00,  4.38s/it, max_LL=-4.07e+5, max_avg_LL=-67.5]\n"
     ]
    },
    {
     "name": "stdout",
     "output_type": "stream",
     "text": [
      "Fitting StepMix...\n"
     ]
    },
    {
     "name": "stderr",
     "output_type": "stream",
     "text": [
      "Initializations (n_init) : 100%|██████████| 1/1 [00:05<00:00,  5.49s/it, max_LL=-4.07e+5, max_avg_LL=-67.5]\n"
     ]
    },
    {
     "name": "stdout",
     "output_type": "stream",
     "text": [
      "Fitting StepMix...\n"
     ]
    },
    {
     "name": "stderr",
     "output_type": "stream",
     "text": [
      "Initializations (n_init) : 100%|██████████| 1/1 [00:07<00:00,  7.63s/it, max_LL=-4.07e+5, max_avg_LL=-67.5]\n"
     ]
    }
   ],
   "source": [
    "models = []\n",
    "for i in range(10):\n",
    "    model = StepMix(n_components=13, measurement=\"binary\", verbose=0, random_state=i)\n",
    "    model.fit(sympdf)\n",
    "    models.append(model)"
   ]
  },
  {
   "cell_type": "code",
   "execution_count": 93,
   "metadata": {},
   "outputs": [
    {
     "name": "stdout",
     "output_type": "stream",
     "text": [
      "    Model_1  Model_2       ARI\n",
      "0         0        1  0.391337\n",
      "1         0        2  0.508679\n",
      "2         0        3  0.399885\n",
      "3         0        4  0.465999\n",
      "4         0        5  0.643392\n",
      "5         0        6  0.525152\n",
      "6         0        7  0.561175\n",
      "7         0        8  0.407658\n",
      "8         0        9  0.405444\n",
      "9         1        2  0.467746\n",
      "10        1        3  0.603766\n",
      "11        1        4  0.587025\n",
      "12        1        5  0.388266\n",
      "13        1        6  0.386165\n",
      "14        1        7  0.318931\n",
      "15        1        8  0.481127\n",
      "16        1        9  0.364046\n",
      "17        2        3  0.512122\n",
      "18        2        4  0.521824\n",
      "19        2        5  0.474947\n",
      "20        2        6  0.392428\n",
      "21        2        7  0.375173\n",
      "22        2        8  0.601702\n",
      "23        2        9  0.409733\n",
      "24        3        4  0.487881\n",
      "25        3        5  0.470263\n",
      "26        3        6  0.417512\n",
      "27        3        7  0.332195\n",
      "28        3        8  0.508659\n",
      "29        3        9  0.428609\n",
      "30        4        5  0.438949\n",
      "31        4        6  0.470579\n",
      "32        4        7  0.361932\n",
      "33        4        8  0.488586\n",
      "34        4        9  0.393971\n",
      "35        5        6  0.482091\n",
      "36        5        7  0.496692\n",
      "37        5        8  0.455732\n",
      "38        5        9  0.465081\n",
      "39        6        7  0.556122\n",
      "40        6        8  0.360331\n",
      "41        6        9  0.651919\n",
      "42        7        8  0.413322\n",
      "43        7        9  0.498315\n",
      "44        8        9  0.386435\n",
      "    Model_1  Model_2       AMI\n",
      "0         0        1  0.594246\n",
      "1         0        2  0.658530\n",
      "2         0        3  0.590732\n",
      "3         0        4  0.630436\n",
      "4         0        5  0.727945\n",
      "5         0        6  0.675258\n",
      "6         0        7  0.684517\n",
      "7         0        8  0.581053\n",
      "8         0        9  0.598569\n",
      "9         1        2  0.625996\n",
      "10        1        3  0.708437\n",
      "11        1        4  0.704200\n",
      "12        1        5  0.588038\n",
      "13        1        6  0.588647\n",
      "14        1        7  0.543643\n",
      "15        1        8  0.630344\n",
      "16        1        9  0.559202\n",
      "17        2        3  0.649575\n",
      "18        2        4  0.660828\n",
      "19        2        5  0.634791\n",
      "20        2        6  0.590878\n",
      "21        2        7  0.576866\n",
      "22        2        8  0.697957\n",
      "23        2        9  0.592016\n",
      "24        3        4  0.645459\n",
      "25        3        5  0.649532\n",
      "26        3        6  0.608126\n",
      "27        3        7  0.551164\n",
      "28        3        8  0.654970\n",
      "29        3        9  0.601511\n",
      "30        4        5  0.617017\n",
      "31        4        6  0.636371\n",
      "32        4        7  0.555519\n",
      "33        4        8  0.634260\n",
      "34        4        9  0.583047\n",
      "35        5        6  0.643240\n",
      "36        5        7  0.636749\n",
      "37        5        8  0.624523\n",
      "38        5        9  0.629685\n",
      "39        6        7  0.680346\n",
      "40        6        8  0.557872\n",
      "41        6        9  0.752996\n",
      "42        7        8  0.599796\n",
      "43        7        9  0.665844\n",
      "44        8        9  0.571855\n"
     ]
    }
   ],
   "source": [
    "# Initialize an empty list to store ARI values\n",
    "ari_list = []\n",
    "ami_list = [] \n",
    "\n",
    "# Calculate ARI between all pairs of models\n",
    "for i, j in combinations(range(10), 2):\n",
    "    labels_i = models[i].predict(sympdf)\n",
    "    labels_j = models[j].predict(sympdf)\n",
    "    ari_score = adjusted_rand_score(labels_i, labels_j)\n",
    "    ami_score= AMI(labels_i,labels_j)\n",
    "    ari_list.append({\"Model_1\": i, \"Model_2\": j, \"ARI\": ari_score})\n",
    "    ami_list.append({\"Model_1\": i, \"Model_2\": j, \"AMI\": ami_score})\n",
    "\n",
    "# Create a DataFrame from the list of dictionaries\n",
    "ari_df = pd.DataFrame(ari_list)\n",
    "ami_df = pd.DataFrame(ami_list)\n",
    "\n",
    "# Display the DataFrame\n",
    "print(ari_df)\n",
    "print(ami_df)"
   ]
  },
  {
   "cell_type": "code",
   "execution_count": 94,
   "metadata": {},
   "outputs": [
    {
     "data": {
      "text/plain": [
       "0.46130884831028834"
      ]
     },
     "execution_count": 94,
     "metadata": {},
     "output_type": "execute_result"
    }
   ],
   "source": [
    "ari_df['ARI'].mean()"
   ]
  },
  {
   "cell_type": "code",
   "execution_count": 95,
   "metadata": {},
   "outputs": [
    {
     "data": {
      "text/plain": [
       "0.6265019750242671"
      ]
     },
     "execution_count": 95,
     "metadata": {},
     "output_type": "execute_result"
    }
   ],
   "source": [
    "ami_df['AMI'].mean()"
   ]
  },
  {
   "cell_type": "code",
   "execution_count": 29,
   "metadata": {},
   "outputs": [],
   "source": [
    "clustdf = []\n",
    "for model in models:\n",
    "    clustdf.append(model.predict(sympdf))"
   ]
  },
  {
   "cell_type": "code",
   "execution_count": 34,
   "metadata": {},
   "outputs": [],
   "source": [
    "clustdf = pd.DataFrame(clustdf).T"
   ]
  },
  {
   "cell_type": "code",
   "execution_count": 36,
   "metadata": {},
   "outputs": [],
   "source": [
    "clustdf.index = df.index"
   ]
  },
  {
   "cell_type": "code",
   "execution_count": 41,
   "metadata": {},
   "outputs": [],
   "source": [
    "def ensemble_to_co_association(ensemble, ignore_label=None):\n",
    "    #if isinstance(ensemble, pd.DataFrame) and 'labels' in ensemble.columns:\n",
    "    #    df = pd.DataFrame(ensemble.labels)\n",
    "    #    df = pd.DataFrame(df['labels'].to_list()).transpose()\n",
    "    #else:\n",
    "    #    df = pd.DataFrame(ensemble).transpose()\n",
    "    df = ensemble\n",
    "    N = len(df)\n",
    "    co_association_matrix = np.zeros([N, N])\n",
    "    n_estimators = len(ensemble)\n",
    "    for ri, row in df.iterrows():\n",
    "        if ri % 500 == 0:\n",
    "            print(ri)\n",
    "        compare = df.loc[ri + 1:]\n",
    "        #return(compare)\n",
    "        if ignore_label is not None:\n",
    "            shared_counts = ((row == compare) * (row != -1) * (compare != -1)).sum(axis=1)\n",
    "        else:\n",
    "            shared_counts = (row == compare).sum(axis=1)\n",
    "        co_association_matrix[ri, ri + 1:] = shared_counts / n_estimators\n",
    "    return co_association_matrix\n"
   ]
  },
  {
   "cell_type": "code",
   "execution_count": 44,
   "metadata": {},
   "outputs": [
    {
     "name": "stdout",
     "output_type": "stream",
     "text": [
      "0\n",
      "500\n",
      "1000\n",
      "1500\n",
      "2000\n",
      "2500\n",
      "3000\n",
      "3500\n",
      "4000\n",
      "4500\n",
      "5000\n",
      "5500\n",
      "6000\n"
     ]
    }
   ],
   "source": [
    "coass = ensemble_to_co_association(pd.DataFrame(clustdf.values))"
   ]
  },
  {
   "cell_type": "code",
   "execution_count": 47,
   "metadata": {},
   "outputs": [
    {
     "name": "stderr",
     "output_type": "stream",
     "text": [
      "/var/folders/_j/9fb8r7hn7zx13rt7glsw4j3h0000gn/T/ipykernel_4537/3434136630.py:3: ClusterWarning: scipy.cluster: The symmetric non-negative hollow observation matrix looks suspiciously like an uncondensed distance matrix\n",
      "  linkage_matrix = linkage(symmetric_matrix, method='average')\n"
     ]
    }
   ],
   "source": [
    "symmetric_matrix = coass + coass.T\n",
    "\n",
    "linkage_matrix = linkage(symmetric_matrix, method='average')"
   ]
  },
  {
   "cell_type": "code",
   "execution_count": 57,
   "metadata": {},
   "outputs": [
    {
     "name": "stdout",
     "output_type": "stream",
     "text": [
      "13\n"
     ]
    },
    {
     "data": {
      "text/plain": [
       "10    726\n",
       "6     663\n",
       "13    581\n",
       "5     552\n",
       "4     541\n",
       "3     464\n",
       "2     455\n",
       "9     452\n",
       "1     364\n",
       "8     343\n",
       "7     313\n",
       "12    307\n",
       "11    270\n",
       "Name: count, dtype: int64"
      ]
     },
     "execution_count": 57,
     "metadata": {},
     "output_type": "execute_result"
    }
   ],
   "source": [
    "clusters = fcluster(linkage_matrix, 0.026, criterion='distance')\n",
    "print(len(pd.Series(clusters).unique()))\n",
    "pd.Series(clusters).value_counts()"
   ]
  },
  {
   "cell_type": "code",
   "execution_count": 60,
   "metadata": {},
   "outputs": [],
   "source": [
    "clustdf.to_csv(\"output/cluster_13_stepmix_multi_112923.csv\")"
   ]
  },
  {
   "cell_type": "code",
   "execution_count": 66,
   "metadata": {},
   "outputs": [],
   "source": [
    "clustdf['cluster'] = clusters"
   ]
  },
  {
   "cell_type": "code",
   "execution_count": 68,
   "metadata": {},
   "outputs": [],
   "source": [
    "clustdf['cluster'].to_csv(\"output/cluster_stepmix_aggregate_010524.csv\")"
   ]
  },
  {
   "cell_type": "code",
   "execution_count": 72,
   "metadata": {},
   "outputs": [],
   "source": [
    "clustdf['cluster_old'] = pd.read_csv(\"output/cluster_13_111023.csv\", index_col=0)"
   ]
  },
  {
   "cell_type": "code",
   "execution_count": 88,
   "metadata": {},
   "outputs": [],
   "source": [
    "aris = []\n",
    "amis = []\n",
    "for i in range(10):\n",
    "    aris.append(adjusted_rand_score(clustdf[i], clustdf['cluster_old']))\n",
    "    amis.append(AMI(clustdf[i],clustdf['cluster_old']))\n"
   ]
  },
  {
   "cell_type": "code",
   "execution_count": 83,
   "metadata": {},
   "outputs": [
    {
     "data": {
      "text/plain": [
       "0.5063733405230464"
      ]
     },
     "execution_count": 83,
     "metadata": {},
     "output_type": "execute_result"
    }
   ],
   "source": [
    "np.mean(aris)"
   ]
  },
  {
   "cell_type": "code",
   "execution_count": 90,
   "metadata": {},
   "outputs": [
    {
     "data": {
      "text/plain": [
       "0.6541787251528141"
      ]
     },
     "execution_count": 90,
     "metadata": {},
     "output_type": "execute_result"
    }
   ],
   "source": [
    "np.mean(amis)"
   ]
  },
  {
   "cell_type": "code",
   "execution_count": 91,
   "metadata": {},
   "outputs": [
    {
     "data": {
      "text/plain": [
       "[0.7132234705111639,\n",
       " 0.5839092221699903,\n",
       " 0.6796089316968063,\n",
       " 0.6541468969126047,\n",
       " 0.6363450569363717,\n",
       " 0.7697052876160851,\n",
       " 0.6292698943182022,\n",
       " 0.6342048665724525,\n",
       " 0.6708118493340346,\n",
       " 0.5705617754604301]"
      ]
     },
     "execution_count": 91,
     "metadata": {},
     "output_type": "execute_result"
    }
   ],
   "source": [
    "amis"
   ]
  },
  {
   "cell_type": "code",
   "execution_count": 96,
   "metadata": {},
   "outputs": [
    {
     "data": {
      "text/plain": [
       "[StepMix(measurement='binary', n_components=13, random_state=0),\n",
       " StepMix(measurement='binary', n_components=13, random_state=1),\n",
       " StepMix(measurement='binary', n_components=13, random_state=2),\n",
       " StepMix(measurement='binary', n_components=13, random_state=3),\n",
       " StepMix(measurement='binary', n_components=13, random_state=4),\n",
       " StepMix(measurement='binary', n_components=13, random_state=5),\n",
       " StepMix(measurement='binary', n_components=13, random_state=6),\n",
       " StepMix(measurement='binary', n_components=13, random_state=7),\n",
       " StepMix(measurement='binary', n_components=13, random_state=8),\n",
       " StepMix(measurement='binary', n_components=13, random_state=9)]"
      ]
     },
     "execution_count": 96,
     "metadata": {},
     "output_type": "execute_result"
    }
   ],
   "source": [
    "# pickel save models\n",
    "\n"
   ]
  },
  {
   "cell_type": "code",
   "execution_count": 97,
   "metadata": {},
   "outputs": [],
   "source": [
    "import pickle\n",
    "\n",
    "# Save the object to a file\n",
    "with open('output/comparitive_models_112923.pkl', 'wb') as file:\n",
    "    pickle.dump(models, file)"
   ]
  },
  {
   "cell_type": "code",
   "execution_count": null,
   "metadata": {},
   "outputs": [],
   "source": []
  }
 ],
 "metadata": {
  "kernelspec": {
   "display_name": "Python 3",
   "language": "python",
   "name": "python3"
  },
  "language_info": {
   "codemirror_mode": {
    "name": "ipython",
    "version": 3
   },
   "file_extension": ".py",
   "mimetype": "text/x-python",
   "name": "python",
   "nbconvert_exporter": "python",
   "pygments_lexer": "ipython3",
   "version": "3.12.0"
  }
 },
 "nbformat": 4,
 "nbformat_minor": 2
}

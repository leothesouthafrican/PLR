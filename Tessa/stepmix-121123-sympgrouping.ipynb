{
 "cells": [
  {
   "cell_type": "code",
   "execution_count": 1,
   "metadata": {},
   "outputs": [],
   "source": [
    "from stepmix.stepmix import StepMix\n",
    "import pandas as pd\n",
    "import numpy as np\n",
    "\n",
    "\n",
    "import matplotlib.pyplot as plt\n",
    "import seaborn as sns\n",
    "\n",
    "import pickle as pkl"
   ]
  },
  {
   "cell_type": "code",
   "execution_count": 2,
   "metadata": {},
   "outputs": [
    {
     "data": {
      "text/plain": [
       "(6031, 162)"
      ]
     },
     "execution_count": 2,
     "metadata": {},
     "output_type": "execute_result"
    }
   ],
   "source": [
    "df = pd.read_csv(\"../data/cleaned_data_SYMPTOMS_9_13_23.csv\", index_col=0)\n",
    "sympdf = df.loc[:, df.columns.str.startswith('Symptom_')]\n",
    "sympdf.shape"
   ]
  },
  {
   "cell_type": "code",
   "execution_count": 7,
   "metadata": {},
   "outputs": [],
   "source": [
    "fulllist = sympdf.columns.tolist()"
   ]
  },
  {
   "cell_type": "code",
   "execution_count": 30,
   "metadata": {},
   "outputs": [],
   "source": [
    "fullset = pd.DataFrame(data = {'symptoms':fulllist}\n",
    ")"
   ]
  },
  {
   "cell_type": "code",
   "execution_count": 33,
   "metadata": {},
   "outputs": [],
   "source": [
    "# split the index using underscore and put the values into columns of fullset\n",
    "fullset[['label','category','c','d','e','f','g']] = fullset['symptoms'].str.split('_',expand=True)\n",
    "\n"
   ]
  },
  {
   "cell_type": "code",
   "execution_count": 35,
   "metadata": {},
   "outputs": [],
   "source": [
    "symptoms_with_cat = fullset.loc[:,['symptoms','b']]"
   ]
  },
  {
   "cell_type": "code",
   "execution_count": 38,
   "metadata": {},
   "outputs": [],
   "source": [
    "symptoms_with_cat.index = symptoms_with_cat[\"symptoms\"]"
   ]
  },
  {
   "cell_type": "code",
   "execution_count": 42,
   "metadata": {},
   "outputs": [],
   "source": [
    "# aggregate by category (no fine touch)\n",
    "# for each category in symptoms_with_cat['b'], get the list of symptoms\n",
    "# and put them into a dictionary\n",
    "symptoms_by_cat = {}\n",
    "for cat in symptoms_with_cat['b'].unique():\n",
    "    symptoms_by_cat[cat] = symptoms_with_cat.loc[symptoms_with_cat['b'] == cat, 'symptoms'].tolist() "
   ]
  },
  {
   "cell_type": "code",
   "execution_count": 70,
   "metadata": {},
   "outputs": [],
   "source": [
    "symptoms_by_cat\n",
    "\n",
    "# I don't love these categories actually\n",
    "new_dict = {\n",
    "    'Memory': ['Symptom_Memory_short',\n",
    "               'Symptom_Memory_long',\n",
    "               'Symptom_Memory_no_new_memories',\n",
    "               'Symptom_Memory_forget_tasks',\n",
    "               'Symptom_Memory_other'],\n",
    "   'Cognitive': ['Symptom_Cognitive_Functioning_thinking',\n",
    "                'Symptom_Cognitive_Functioning_executive',\n",
    "                'Symptom_Cognitive_Functioning_problemsolving',\n",
    "                'Symptom_Cognitive_Functioning_slowedthoughts',\n",
    "                'Symptom_Cognitive_Functioning_fastthoughts',\n",
    "                'Symptom_Cognitive_Functioning_agnosia',\n",
    "                'Symptom_Cognitive_Functioning_attentionconcentration',\n",
    "                'Symptom_Speech_difficulty_reading_processing_text',\n",
    "                'Symptom_Cognitive_Functioning_other',\n",
    "                'Symptom_Acute_confusion'],\n",
    "    'Speech': ['Symptom_Speech_difficulty_finding_words',\n",
    "                'Symptom_Speech_difficulty_communicating_verbally',\n",
    "                'Symptom_Speech_difficulty_speaking_complete_sentences',\n",
    "                'Symptom_Speech_speaking_unrecognizable_words',\n",
    "                'Symptom_Speech_difficulty_communicating_writing',\n",
    "                'Symptom_Speech_changes_to_secondary_languages',\n",
    "                'Symptom_Speech_other',\n",
    "                'Symptom_Slurring_words'],\n",
    "    'Auditory': ['Symptom_Speech_difficulty_understanding_others_speech',\n",
    "                'Symptom_Hallucinations_auditory',\n",
    "                'Symptom_Hearing_loss',\n",
    "                'Symptom_Tinnitus','Symptom_Ear_sensitivity_to_noise',\n",
    "                'Symptom_Ear_ear_pain',\n",
    "                'Symptom_Ear_changes_to_ear_canal',\n",
    "                'Symptom_Ear_numbness',\n",
    "                'Symptom_Other_ear_hearing_symptoms'\n",
    "                ],\n",
    "    'Headaches': ['Symptom_Headaches_behind_eyes',\n",
    "                'Symptom_Headaches_stiff_neck',\n",
    "                'Symptom_Headaches_brain_pressure',\n",
    "                'Symptom_Headaches_diffuse',\n",
    "                'Symptom_Headaches_temples',\n",
    "                'Symptom_Headaches_base_of_skull',\n",
    "                'Symptom_Headaches_after_mental_exertion',\n",
    "                'Symptom_Headaches_migraines',\n",
    "                'Symptom_Headaches_other',\n",
    "                'Symptom_Headaches_brain_warmth'],\n",
    "    'Olfaction': ['Symptom_Loss_of_smell',\n",
    "                'Symptom_Loss_of_taste',\n",
    "                'Symptom_Altered_smell',\n",
    "                'Symptom_Altered_taste',\n",
    "                'Symptom_Phantom_smell',\n",
    "                'Symptom_Phantom_taste',\n",
    "                'Symptom_Heightened_smell',\n",
    "                'Symptom_Heightened_taste',],\n",
    "    'Gastrointenstinal': ['Symptom_Loss_of_appetite',\n",
    "                          'Symptom_Constipation',\n",
    "                          'Symptom_Diarrhea',\n",
    "                          'Symptom_Vomiting',\n",
    "                          'Symptom_Nausea',\n",
    "                          'Symptom_Acid_reflux',\n",
    "                          'Symptom_Gastrointestinal_feeling_full_quickly_eating',\n",
    "                          'Symptom_Gastrointestinal_abdominal_pain',\n",
    "                          'Symptom_Gastrointestinal_hyperactive_bowel'],\n",
    "    'Sensory': ['Symptom_Vibrating_sensations'],\n",
    "    'Touch': ['Symptom_Hallucinations_tactile',\n",
    "              'Symptom_Sensations_skin_burning_no_rash',\n",
    "              'Symptom_Sensations_numbness_loss_sensation',\n",
    "              'Symptom_Sensations_tingling_prickling',\n",
    "              'Symptom_Sensations_electrical_zaps',\n",
    "              'Symptom_Sensations_facial_pressure_left',\n",
    "              'Symptom_Sensations_facial_pressure_right',\n",
    "              'Symptom_Sensations_facial_pressure_other'\n",
    "              ],\n",
    "    'Motor': ['Symptom_Tremors',\n",
    "              'Symptom_Restless_leg',\n",
    "              'Symptom_Sensations_weakness',\n",
    "              'Symptom_Sensations_facial_paralysis'],\n",
    "    'Sleep':['Symptom_Insomnia',\n",
    "             'Symptom_Night_sweats',\n",
    "             'Symptom_Awakened_cannot_breathe',\n",
    "             'Symptom_Vivid_dreams',\n",
    "             'Symptom_Lucid_dreams',\n",
    "             'Symptom_Sleep_apnea',\n",
    "             'Symptom_Sleep_other',\n",
    "             'Symptom_Difficulty_falling_asleep',\n",
    "             'Symptom_Waking_up_early',\n",
    "             'Symptom_Waking_up_in_night',\n",
    "             ],\n",
    "    'Vision' : ['Symptom_Hallucinations_visual',\n",
    "                'Symptom_Eye_vision_symptoms',\n",
    "                'Symptom_Eye_Vision_blurred_vision',\n",
    "                'Symptom_Eye_Vision_sensitivity_to_light',\n",
    "                'Symptom_Eye_Vision_dry_eyes',\n",
    "                'Symptom_Eye_Vision_eye_pressure_pain',\n",
    "                'Symptom_Eye_Vision_floaters',\n",
    "                'Symptom_Eye_Vision_double_vision',\n",
    "                'Symptom_Eye_Vision_tunnel_vision',\n",
    "                'Symptom_Eye_Vision_loss_of_vision',\n",
    "                'Symptom_Eye_Vision_seeing_things_peripheral_vision',\n",
    "                'Symptom_Eye_Vision_other_eye_issues'],\n",
    "    'Temperature': ['Symptom_Sensations_coldness',\n",
    "                    'Symptom_Temp_lability',\n",
    "                    'Symptom_Heat_intolerance',\n",
    "                    'Symptom_Merged_temperature_other_temp_issues',\n",
    "                    'Symptom_Elevated_temp',\n",
    "                    'Symptom_Fever',\n",
    "                    'Symptom_Low_temp',\n",
    "                    'Symptom_Chills_flushing_sweats'],\n",
    "    'Cardiac':['Symptom_Tachycardia',\n",
    "               'Symptom_Bradycardia',\n",
    "               'Symptom_Heart_palpitations',\n",
    "               'Symptom_Fainting',\n",
    "               'Symptom_Dizziness_vertigo'],\n",
    "    'Respiratory': ['Symptom_Gasping_air_normal_oxygen',\n",
    "                    'Symptom_Dry_cough',\n",
    "                    'Symptom_Cough_with_mucus',\n",
    "                    'Symptom_Coughing_up_blood',\n",
    "                    'Symptom_Shortness_of_breath',\n",
    "                    'Symptom_Tightness_of_chest',\n",
    "                    'Symptom_Rattling_breath',\n",
    "                    'Symptom_Respiratory_other'],\n",
    "    'Allergic' : [ 'Symptom_New_anaphylaxis',\n",
    "                   'Symptom_New_allergies',\n",
    "                   'Symptom_Sneezing',\n",
    "                   'Symptom_Runny_nose',\n",
    "                   'Symptom_Dermatographia',\n",
    "                   'Symptom_Skin_Allergy_other',\n",
    "                   'Symptom_SkinAllergy_itchy_skin',\n",
    "                   'Symptom_SkinAllergy_itchy_eyes',\n",
    "                   'Symptom_SkinAllergy_heighted_reaction_allergies',],\n",
    "    'Genitourinary': ['Symptom_Reproductive_all_menstrual_issues',\n",
    "                'Symptom_Reproductive_early_menopause',\n",
    "                'Symptom_Reproductive_abnormally_heavy_periods_clotting',\n",
    "                'Symptom_Reproductive_testicle_penis_pain_changes',\n",
    "                'Symptom_Reproductive_sexual_dysfunction',\n",
    "                'Symptom_Reproductive_postmenopausal_bleeding',\n",
    "                'Symptom_Reproductive_other_urinary_issues',\n",
    "                'Symptom_Reproductive_other_menstrual_issues',\n",
    "                'Symptom_Reproductive_abnormally_irregular_periods',\n",
    "                'Symptom_Bladder_control',\n",
    "                ],\n",
    "    'Skin': ['Symptom_Peeling_skin',\n",
    "             'Symptom_Petechiae',\n",
    "             'Symptom_Covid_toes',\n",
    "             'Symptom_Skin_rashes'],\n",
    "    'Musculoskeletal': ['Symptom_Muscle_spasms', \n",
    "                        'Symptom_Muscle_aches',\n",
    "                        'Symptom_Joint_pain',\n",
    "                        'Symptom_Bone_ache_burning'],\n",
    "    'Misc': ['Symptom_Difficulty_swalling', \n",
    "            'Symptom_Hallucinations_other',\n",
    "            'Symptom_Sensations_numbness_one_sided_weakness',\n",
    "            'Symptom_Bulging_veins',\n",
    "            'Symptom_Sore_throat',\n",
    "            'Symptom_Inability_to_yawn',\n",
    "            'Symptom_Changes_in_voice',\n",
    "            'Symptom_Extreme_thirst',\n",
    "            'Symptom_SkinAllergy_brittle_nail',\n",
    "            'Symptom_SkinAllergy_other_itchy',\n",
    "            'Symptom_SkinAllergy_shingles',\n",
    "            'Symptom_PEM',\n",
    "            'Symptom_Fatigue',\n",
    "            'Symptom_Change_sensitivity_to_meds',\n",
    "            'Symptom_Neuralgia',\n",
    "            'Symptom_Pain_burning_chest',\n",
    "            'Symptom_Eye_Vision_pink_eye',\n",
    "            'Symptom_Eye_Vision_bloodshot_eyes',\n",
    "            'Symptom_Eye_Vision_redness_outside_eye'],\n",
    "}\n",
    "\n",
    "# got through neuralgia"
   ]
  },
  {
   "cell_type": "code",
   "execution_count": 71,
   "metadata": {},
   "outputs": [],
   "source": [
    "pd.DataFrame.from_dict(new_dict, orient='index')\n",
    "# convert to long\n",
    "symptoms_by_cat_long = pd.DataFrame.from_dict(new_dict, orient='index').stack().reset_index()"
   ]
  },
  {
   "cell_type": "code",
   "execution_count": 72,
   "metadata": {},
   "outputs": [
    {
     "data": {
      "text/plain": [
       "0                    Symptom_Memory_short\n",
       "1                     Symptom_Memory_long\n",
       "2          Symptom_Memory_no_new_memories\n",
       "3             Symptom_Memory_forget_tasks\n",
       "4                    Symptom_Memory_other\n",
       "                      ...                \n",
       "156                           Symptom_PEM\n",
       "157                       Symptom_Fatigue\n",
       "158    Symptom_Change_sensitivity_to_meds\n",
       "159                     Symptom_Neuralgia\n",
       "160            Symptom_Pain_burning_chest\n",
       "Name: 0, Length: 161, dtype: object"
      ]
     },
     "execution_count": 72,
     "metadata": {},
     "output_type": "execute_result"
    }
   ],
   "source": [
    "symptoms_by_cat_long.iloc[:,2]"
   ]
  },
  {
   "cell_type": "code",
   "execution_count": 73,
   "metadata": {},
   "outputs": [],
   "source": [
    "groups_df = pd.DataFrame(symptoms_by_cat_long[[0,'level_0']].values)"
   ]
  },
  {
   "cell_type": "code",
   "execution_count": 74,
   "metadata": {},
   "outputs": [],
   "source": [
    "groups_df.columns = ['symptom','group']"
   ]
  },
  {
   "cell_type": "code",
   "execution_count": 75,
   "metadata": {},
   "outputs": [],
   "source": [
    "groups_df.to_csv('output/symptom_groups.csv',index=False)"
   ]
  },
  {
   "cell_type": "code",
   "execution_count": null,
   "metadata": {},
   "outputs": [],
   "source": []
  }
 ],
 "metadata": {
  "kernelspec": {
   "display_name": "Python 3",
   "language": "python",
   "name": "python3"
  },
  "language_info": {
   "codemirror_mode": {
    "name": "ipython",
    "version": 3
   },
   "file_extension": ".py",
   "mimetype": "text/x-python",
   "name": "python",
   "nbconvert_exporter": "python",
   "pygments_lexer": "ipython3",
   "version": "3.12.0"
  }
 },
 "nbformat": 4,
 "nbformat_minor": 2
}

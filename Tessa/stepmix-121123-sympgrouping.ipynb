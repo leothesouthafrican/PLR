{
 "cells": [
  {
   "cell_type": "code",
   "execution_count": 1,
   "metadata": {},
   "outputs": [],
   "source": [
    "from stepmix.stepmix import StepMix\n",
    "import pandas as pd\n",
    "import numpy as np\n",
    "\n",
    "\n",
    "import matplotlib.pyplot as plt\n",
    "import seaborn as sns\n",
    "\n",
    "import pickle as pkl"
   ]
  },
  {
   "cell_type": "code",
   "execution_count": 2,
   "metadata": {},
   "outputs": [
    {
     "data": {
      "text/plain": [
       "(6031, 162)"
      ]
     },
     "execution_count": 2,
     "metadata": {},
     "output_type": "execute_result"
    }
   ],
   "source": [
    "df = pd.read_csv(\"../data/cleaned_data_SYMPTOMS_9_13_23.csv\", index_col=0)\n",
    "sympdf = df.loc[:, df.columns.str.startswith('Symptom_')]\n",
    "sympdf.shape"
   ]
  },
  {
   "cell_type": "code",
   "execution_count": 7,
   "metadata": {},
   "outputs": [],
   "source": [
    "fulllist = sympdf.columns.tolist()"
   ]
  },
  {
   "cell_type": "code",
   "execution_count": 30,
   "metadata": {},
   "outputs": [],
   "source": [
    "fullset = pd.DataFrame(data = {'symptoms':fulllist}\n",
    ")"
   ]
  },
  {
   "cell_type": "code",
   "execution_count": 33,
   "metadata": {},
   "outputs": [],
   "source": [
    "# split the index using underscore and put the values into columns of fullset\n",
    "fullset[['label','category','c','d','e','f','g']] = fullset['symptoms'].str.split('_',expand=True)\n",
    "\n"
   ]
  },
  {
   "cell_type": "code",
   "execution_count": 35,
   "metadata": {},
   "outputs": [],
   "source": [
    "symptoms_with_cat = fullset.loc[:,['symptoms','b']]"
   ]
  },
  {
   "cell_type": "code",
   "execution_count": 38,
   "metadata": {},
   "outputs": [],
   "source": [
    "symptoms_with_cat.index = symptoms_with_cat[\"symptoms\"]"
   ]
  },
  {
   "cell_type": "code",
   "execution_count": 42,
   "metadata": {},
   "outputs": [],
   "source": [
    "# aggregate by category (no fine touch)\n",
    "# for each category in symptoms_with_cat['b'], get the list of symptoms\n",
    "# and put them into a dictionary\n",
    "symptoms_by_cat = {}\n",
    "for cat in symptoms_with_cat['b'].unique():\n",
    "    symptoms_by_cat[cat] = symptoms_with_cat.loc[symptoms_with_cat['b'] == cat, 'symptoms'].tolist() "
   ]
  },
  {
   "cell_type": "code",
   "execution_count": 76,
   "metadata": {},
   "outputs": [],
   "source": [
    "symptoms_by_cat\n",
    "\n",
    "# I don't love these categories actually\n",
    "new_dict = {\n",
    "    'Memory': ['Symptom_Memory_short',\n",
    "               'Symptom_Memory_long',\n",
    "               'Symptom_Memory_no_new_memories',\n",
    "               'Symptom_Memory_forget_tasks',\n",
    "               'Symptom_Memory_other'],\n",
    "   'Cognitive': ['Symptom_Cognitive_Functioning_thinking',\n",
    "                'Symptom_Cognitive_Functioning_executive',\n",
    "                'Symptom_Cognitive_Functioning_problemsolving',\n",
    "                'Symptom_Cognitive_Functioning_slowedthoughts',\n",
    "                'Symptom_Cognitive_Functioning_fastthoughts',\n",
    "                'Symptom_Cognitive_Functioning_agnosia',\n",
    "                'Symptom_Cognitive_Functioning_attentionconcentration',\n",
    "                'Symptom_Speech_difficulty_reading_processing_text',\n",
    "                'Symptom_Cognitive_Functioning_other',\n",
    "                'Symptom_Acute_confusion'],\n",
    "    'Speech': ['Symptom_Speech_difficulty_finding_words',\n",
    "                'Symptom_Speech_difficulty_communicating_verbally',\n",
    "                'Symptom_Speech_difficulty_speaking_complete_sentences',\n",
    "                'Symptom_Speech_speaking_unrecognizable_words',\n",
    "                'Symptom_Speech_difficulty_communicating_writing',\n",
    "                'Symptom_Speech_changes_to_secondary_languages',\n",
    "                'Symptom_Speech_other',\n",
    "                'Symptom_Slurring_words'],\n",
    "    'Auditory': ['Symptom_Speech_difficulty_understanding_others_speech',\n",
    "                'Symptom_Hallucinations_auditory',\n",
    "                'Symptom_Hearing_loss',\n",
    "                'Symptom_Tinnitus','Symptom_Ear_sensitivity_to_noise',\n",
    "                'Symptom_Ear_ear_pain',\n",
    "                'Symptom_Ear_changes_to_ear_canal',\n",
    "                'Symptom_Ear_numbness',\n",
    "                'Symptom_Other_ear_hearing_symptoms'\n",
    "                ],\n",
    "    'Headaches': ['Symptom_Headaches_behind_eyes',\n",
    "                'Symptom_Headaches_stiff_neck',\n",
    "                'Symptom_Headaches_brain_pressure',\n",
    "                'Symptom_Headaches_diffuse',\n",
    "                'Symptom_Headaches_temples',\n",
    "                'Symptom_Headaches_base_of_skull',\n",
    "                'Symptom_Headaches_after_mental_exertion',\n",
    "                'Symptom_Headaches_migraines',\n",
    "                'Symptom_Headaches_other',\n",
    "                'Symptom_Headaches_brain_warmth'],\n",
    "    'Olfaction': ['Symptom_Loss_of_smell',\n",
    "                'Symptom_Loss_of_taste',\n",
    "                'Symptom_Altered_smell',\n",
    "                'Symptom_Altered_taste',\n",
    "                'Symptom_Phantom_smell',\n",
    "                'Symptom_Phantom_taste',\n",
    "                'Symptom_Heightened_smell',\n",
    "                'Symptom_Heightened_taste',],\n",
    "    'Gastrointenstinal': ['Symptom_Loss_of_appetite',\n",
    "                          'Symptom_Constipation',\n",
    "                          'Symptom_Diarrhea',\n",
    "                          'Symptom_Vomiting',\n",
    "                          'Symptom_Nausea',\n",
    "                          'Symptom_Acid_reflux',\n",
    "                          'Symptom_Gastrointestinal_feeling_full_quickly_eating',\n",
    "                          'Symptom_Gastrointestinal_abdominal_pain',\n",
    "                          'Symptom_Gastrointestinal_hyperactive_bowel'],\n",
    "    'Sensory': ['Symptom_Vibrating_sensations',\n",
    "            'Symptom_Hallucinations_tactile',\n",
    "            'Symptom_Sensations_skin_burning_no_rash',\n",
    "            'Symptom_Sensations_numbness_loss_sensation',\n",
    "            'Symptom_Sensations_tingling_prickling',\n",
    "            'Symptom_Sensations_electrical_zaps',\n",
    "            'Symptom_Sensations_facial_pressure_left',\n",
    "            'Symptom_Sensations_facial_pressure_right',\n",
    "            'Symptom_Sensations_facial_pressure_other'\n",
    "            ],\n",
    "    'Motor': ['Symptom_Tremors',\n",
    "              'Symptom_Restless_leg',\n",
    "              'Symptom_Sensations_weakness',\n",
    "              'Symptom_Sensations_facial_paralysis'],\n",
    "    'Sleep':['Symptom_Insomnia',\n",
    "             'Symptom_Night_sweats',\n",
    "             'Symptom_Awakened_cannot_breathe',\n",
    "             'Symptom_Vivid_dreams',\n",
    "             'Symptom_Lucid_dreams',\n",
    "             'Symptom_Sleep_apnea',\n",
    "             'Symptom_Sleep_other',\n",
    "             'Symptom_Difficulty_falling_asleep',\n",
    "             'Symptom_Waking_up_early',\n",
    "             'Symptom_Waking_up_in_night',\n",
    "             ],\n",
    "    'Vision' : ['Symptom_Hallucinations_visual',\n",
    "                'Symptom_Eye_vision_symptoms',\n",
    "                'Symptom_Eye_Vision_blurred_vision',\n",
    "                'Symptom_Eye_Vision_sensitivity_to_light',\n",
    "                'Symptom_Eye_Vision_dry_eyes',\n",
    "                'Symptom_Eye_Vision_eye_pressure_pain',\n",
    "                'Symptom_Eye_Vision_floaters',\n",
    "                'Symptom_Eye_Vision_double_vision',\n",
    "                'Symptom_Eye_Vision_tunnel_vision',\n",
    "                'Symptom_Eye_Vision_loss_of_vision',\n",
    "                'Symptom_Eye_Vision_seeing_things_peripheral_vision',\n",
    "                'Symptom_Eye_Vision_other_eye_issues'],\n",
    "    'Temperature': ['Symptom_Sensations_coldness',\n",
    "                    'Symptom_Temp_lability',\n",
    "                    'Symptom_Heat_intolerance',\n",
    "                    'Symptom_Merged_temperature_other_temp_issues',\n",
    "                    'Symptom_Elevated_temp',\n",
    "                    'Symptom_Fever',\n",
    "                    'Symptom_Low_temp',\n",
    "                    'Symptom_Chills_flushing_sweats'],\n",
    "    'Cardiac':['Symptom_Tachycardia',\n",
    "               'Symptom_Bradycardia',\n",
    "               'Symptom_Heart_palpitations',\n",
    "               'Symptom_Fainting',\n",
    "               'Symptom_Dizziness_vertigo'],\n",
    "    'Respiratory': ['Symptom_Gasping_air_normal_oxygen',\n",
    "                    'Symptom_Dry_cough',\n",
    "                    'Symptom_Cough_with_mucus',\n",
    "                    'Symptom_Coughing_up_blood',\n",
    "                    'Symptom_Shortness_of_breath',\n",
    "                    'Symptom_Tightness_of_chest',\n",
    "                    'Symptom_Rattling_breath',\n",
    "                    'Symptom_Respiratory_other'],\n",
    "    'Allergic' : [ 'Symptom_New_anaphylaxis',\n",
    "                   'Symptom_New_allergies',\n",
    "                   'Symptom_Sneezing',\n",
    "                   'Symptom_Runny_nose',\n",
    "                   'Symptom_Dermatographia',\n",
    "                   'Symptom_Skin_Allergy_other',\n",
    "                   'Symptom_SkinAllergy_itchy_skin',\n",
    "                   'Symptom_SkinAllergy_itchy_eyes',\n",
    "                   'Symptom_SkinAllergy_heighted_reaction_allergies',],\n",
    "    'Genitourinary': ['Symptom_Reproductive_all_menstrual_issues',\n",
    "                'Symptom_Reproductive_early_menopause',\n",
    "                'Symptom_Reproductive_abnormally_heavy_periods_clotting',\n",
    "                'Symptom_Reproductive_testicle_penis_pain_changes',\n",
    "                'Symptom_Reproductive_sexual_dysfunction',\n",
    "                'Symptom_Reproductive_postmenopausal_bleeding',\n",
    "                'Symptom_Reproductive_other_urinary_issues',\n",
    "                'Symptom_Reproductive_other_menstrual_issues',\n",
    "                'Symptom_Reproductive_abnormally_irregular_periods',\n",
    "                'Symptom_Bladder_control',\n",
    "                ],\n",
    "    'Skin': ['Symptom_Peeling_skin',\n",
    "             'Symptom_Petechiae',\n",
    "             'Symptom_Covid_toes',\n",
    "             'Symptom_Skin_rashes'],\n",
    "    'Musculoskeletal': ['Symptom_Muscle_spasms', \n",
    "                        'Symptom_Muscle_aches',\n",
    "                        'Symptom_Joint_pain',\n",
    "                        'Symptom_Bone_ache_burning'],\n",
    "    'Misc': ['Symptom_Difficulty_swallowing', \n",
    "            'Symptom_Hallucinations_other',\n",
    "            'Symptom_Sensations_numbness_one_sided_weakness',\n",
    "            'Symptom_Bulging_veins',\n",
    "            'Symptom_Sore_throat',\n",
    "            'Symptom_Inability_to_yawn',\n",
    "            'Symptom_Changes_in_voice',\n",
    "            'Symptom_Extreme_thirst',\n",
    "            'Symptom_SkinAllergy_brittle_nail',\n",
    "            'Symptom_SkinAllergy_other_itchy',\n",
    "            'Symptom_SkinAllergy_shingles',\n",
    "            'Symptom_PEM',\n",
    "            'Symptom_Fatigue',\n",
    "            'Symptom_Change_sensitivity_to_meds',\n",
    "            'Symptom_Neuralgia',\n",
    "            'Symptom_Pain_burning_chest',\n",
    "            'Symptom_Eye_Vision_pink_eye',\n",
    "            'Symptom_Eye_Vision_bloodshot_eyes',\n",
    "            'Symptom_Eye_Vision_redness_outside_eye'],\n",
    "}\n",
    "\n",
    "# got through neuralgia"
   ]
  },
  {
   "cell_type": "code",
   "execution_count": 77,
   "metadata": {},
   "outputs": [],
   "source": [
    "pd.DataFrame.from_dict(new_dict, orient='index')\n",
    "# convert to long\n",
    "symptoms_by_cat_long = pd.DataFrame.from_dict(new_dict, orient='index').stack().reset_index()"
   ]
  },
  {
   "cell_type": "code",
   "execution_count": 78,
   "metadata": {},
   "outputs": [
    {
     "data": {
      "text/plain": [
       "0                        Symptom_Memory_short\n",
       "1                         Symptom_Memory_long\n",
       "2              Symptom_Memory_no_new_memories\n",
       "3                 Symptom_Memory_forget_tasks\n",
       "4                        Symptom_Memory_other\n",
       "                        ...                  \n",
       "156                         Symptom_Neuralgia\n",
       "157                Symptom_Pain_burning_chest\n",
       "158               Symptom_Eye_Vision_pink_eye\n",
       "159         Symptom_Eye_Vision_bloodshot_eyes\n",
       "160    Symptom_Eye_Vision_redness_outside_eye\n",
       "Name: 0, Length: 161, dtype: object"
      ]
     },
     "execution_count": 78,
     "metadata": {},
     "output_type": "execute_result"
    }
   ],
   "source": [
    "symptoms_by_cat_long.iloc[:,2]"
   ]
  },
  {
   "cell_type": "code",
   "execution_count": 79,
   "metadata": {},
   "outputs": [],
   "source": [
    "groups_df = pd.DataFrame(symptoms_by_cat_long[[0,'level_0']].values)"
   ]
  },
  {
   "cell_type": "code",
   "execution_count": 80,
   "metadata": {},
   "outputs": [],
   "source": [
    "groups_df.columns = ['symptom','group']"
   ]
  },
  {
   "cell_type": "code",
   "execution_count": 81,
   "metadata": {},
   "outputs": [],
   "source": [
    "groups_df.to_csv('output/symptom_groups.csv',index=False)"
   ]
  },
  {
   "cell_type": "code",
   "execution_count": 85,
   "metadata": {},
   "outputs": [
    {
     "data": {
      "text/plain": [
       "array(['Memory', 'Cognitive', 'Speech', 'Auditory', 'Headaches',\n",
       "       'Olfaction', 'Gastrointenstinal', 'Sensory', 'Motor', 'Sleep',\n",
       "       'Vision', 'Temperature', 'Cardiac', 'Respiratory', 'Allergic',\n",
       "       'Genitourinary', 'Skin', 'Musculoskeletal', 'Misc'], dtype=object)"
      ]
     },
     "execution_count": 85,
     "metadata": {},
     "output_type": "execute_result"
    }
   ],
   "source": [
    "# try looking at existing clusters on the new groups -- are they still distinguishable?\n",
    "# also rank relative expression of each grouping -- either by mean or by max\n",
    "\n",
    "# get the list of symptoms in each group\n",
    "groups_df.group.unique()"
   ]
  },
  {
   "cell_type": "code",
   "execution_count": 87,
   "metadata": {},
   "outputs": [],
   "source": [
    "# import my clusters, compare average scores for each of these groups across clusters\n",
    "clus = pd.read_csv(\"output/cluster_13_111023.csv\", index_col=0)"
   ]
  },
  {
   "cell_type": "code",
   "execution_count": 90,
   "metadata": {},
   "outputs": [],
   "source": [
    "sympdf['cluster'] = clus"
   ]
  },
  {
   "cell_type": "code",
   "execution_count": 134,
   "metadata": {},
   "outputs": [
    {
     "name": "stdout",
     "output_type": "stream",
     "text": [
      "['Symptom_Memory_short', 'Symptom_Memory_long', 'Symptom_Memory_no_new_memories', 'Symptom_Memory_forget_tasks', 'Symptom_Memory_other']\n",
      "['Symptom_Cognitive_Functioning_thinking', 'Symptom_Cognitive_Functioning_executive', 'Symptom_Cognitive_Functioning_problemsolving', 'Symptom_Cognitive_Functioning_slowedthoughts', 'Symptom_Cognitive_Functioning_fastthoughts', 'Symptom_Cognitive_Functioning_agnosia', 'Symptom_Cognitive_Functioning_attentionconcentration', 'Symptom_Speech_difficulty_reading_processing_text', 'Symptom_Cognitive_Functioning_other', 'Symptom_Acute_confusion']\n",
      "['Symptom_Speech_difficulty_finding_words', 'Symptom_Speech_difficulty_communicating_verbally', 'Symptom_Speech_difficulty_speaking_complete_sentences', 'Symptom_Speech_speaking_unrecognizable_words', 'Symptom_Speech_difficulty_communicating_writing', 'Symptom_Speech_changes_to_secondary_languages', 'Symptom_Speech_other', 'Symptom_Slurring_words']\n",
      "['Symptom_Speech_difficulty_understanding_others_speech', 'Symptom_Hallucinations_auditory', 'Symptom_Hearing_loss', 'Symptom_Tinnitus', 'Symptom_Ear_sensitivity_to_noise', 'Symptom_Ear_ear_pain', 'Symptom_Ear_changes_to_ear_canal', 'Symptom_Ear_numbness', 'Symptom_Other_ear_hearing_symptoms']\n",
      "['Symptom_Headaches_behind_eyes', 'Symptom_Headaches_stiff_neck', 'Symptom_Headaches_brain_pressure', 'Symptom_Headaches_diffuse', 'Symptom_Headaches_temples', 'Symptom_Headaches_base_of_skull', 'Symptom_Headaches_after_mental_exertion', 'Symptom_Headaches_migraines', 'Symptom_Headaches_other', 'Symptom_Headaches_brain_warmth']\n",
      "['Symptom_Loss_of_smell', 'Symptom_Loss_of_taste', 'Symptom_Altered_smell', 'Symptom_Altered_taste', 'Symptom_Phantom_smell', 'Symptom_Phantom_taste', 'Symptom_Heightened_smell', 'Symptom_Heightened_taste']\n",
      "['Symptom_Loss_of_appetite', 'Symptom_Constipation', 'Symptom_Diarrhea', 'Symptom_Vomiting', 'Symptom_Nausea', 'Symptom_Acid_reflux', 'Symptom_Gastrointestinal_feeling_full_quickly_eating', 'Symptom_Gastrointestinal_abdominal_pain', 'Symptom_Gastrointestinal_hyperactive_bowel']\n",
      "['Symptom_Vibrating_sensations', 'Symptom_Hallucinations_tactile', 'Symptom_Sensations_skin_burning_no_rash', 'Symptom_Sensations_numbness_loss_sensation', 'Symptom_Sensations_tingling_prickling', 'Symptom_Sensations_electrical_zaps', 'Symptom_Sensations_facial_pressure_left', 'Symptom_Sensations_facial_pressure_right', 'Symptom_Sensations_facial_pressure_other']\n",
      "['Symptom_Tremors', 'Symptom_Restless_leg', 'Symptom_Sensations_weakness', 'Symptom_Sensations_facial_paralysis']\n",
      "['Symptom_Insomnia', 'Symptom_Night_sweats', 'Symptom_Awakened_cannot_breathe', 'Symptom_Vivid_dreams', 'Symptom_Lucid_dreams', 'Symptom_Sleep_apnea', 'Symptom_Sleep_other', 'Symptom_Difficulty_falling_asleep', 'Symptom_Waking_up_early', 'Symptom_Waking_up_in_night']\n",
      "['Symptom_Hallucinations_visual', 'Symptom_Eye_vision_symptoms', 'Symptom_Eye_Vision_blurred_vision', 'Symptom_Eye_Vision_sensitivity_to_light', 'Symptom_Eye_Vision_dry_eyes', 'Symptom_Eye_Vision_eye_pressure_pain', 'Symptom_Eye_Vision_floaters', 'Symptom_Eye_Vision_double_vision', 'Symptom_Eye_Vision_tunnel_vision', 'Symptom_Eye_Vision_loss_of_vision', 'Symptom_Eye_Vision_seeing_things_peripheral_vision', 'Symptom_Eye_Vision_other_eye_issues']\n",
      "['Symptom_Sensations_coldness', 'Symptom_Temp_lability', 'Symptom_Heat_intolerance', 'Symptom_Merged_temperature_other_temp_issues', 'Symptom_Elevated_temp', 'Symptom_Fever', 'Symptom_Low_temp', 'Symptom_Chills_flushing_sweats']\n",
      "['Symptom_Tachycardia', 'Symptom_Bradycardia', 'Symptom_Heart_palpitations', 'Symptom_Fainting', 'Symptom_Dizziness_vertigo']\n",
      "['Symptom_Gasping_air_normal_oxygen', 'Symptom_Dry_cough', 'Symptom_Cough_with_mucus', 'Symptom_Coughing_up_blood', 'Symptom_Shortness_of_breath', 'Symptom_Tightness_of_chest', 'Symptom_Rattling_breath', 'Symptom_Respiratory_other']\n",
      "['Symptom_New_anaphylaxis', 'Symptom_New_allergies', 'Symptom_Sneezing', 'Symptom_Runny_nose', 'Symptom_Dermatographia', 'Symptom_Skin_Allergy_other', 'Symptom_SkinAllergy_itchy_skin', 'Symptom_SkinAllergy_itchy_eyes', 'Symptom_SkinAllergy_heighted_reaction_allergies']\n",
      "['Symptom_Reproductive_all_menstrual_issues', 'Symptom_Reproductive_early_menopause', 'Symptom_Reproductive_abnormally_heavy_periods_clotting', 'Symptom_Reproductive_testicle_penis_pain_changes', 'Symptom_Reproductive_sexual_dysfunction', 'Symptom_Reproductive_postmenopausal_bleeding', 'Symptom_Reproductive_other_urinary_issues', 'Symptom_Reproductive_other_menstrual_issues', 'Symptom_Reproductive_abnormally_irregular_periods', 'Symptom_Bladder_control']\n",
      "['Symptom_Peeling_skin', 'Symptom_Petechiae', 'Symptom_Covid_toes', 'Symptom_Skin_rashes']\n",
      "['Symptom_Muscle_spasms', 'Symptom_Muscle_aches', 'Symptom_Joint_pain', 'Symptom_Bone_ache_burning']\n",
      "['Symptom_Difficulty_swalling', 'Symptom_Hallucinations_other', 'Symptom_Sensations_numbness_one_sided_weakness', 'Symptom_Bulging_veins', 'Symptom_Sore_throat', 'Symptom_Inability_to_yawn', 'Symptom_Changes_in_voice', 'Symptom_Extreme_thirst', 'Symptom_SkinAllergy_brittle_nail', 'Symptom_SkinAllergy_other_itchy', 'Symptom_SkinAllergy_shingles', 'Symptom_PEM', 'Symptom_Fatigue', 'Symptom_Change_sensitivity_to_meds', 'Symptom_Neuralgia', 'Symptom_Pain_burning_chest', 'Symptom_Eye_Vision_pink_eye', 'Symptom_Eye_Vision_bloodshot_eyes', 'Symptom_Eye_Vision_redness_outside_eye']\n"
     ]
    },
    {
     "ename": "KeyError",
     "evalue": "\"['Symptom_Difficulty_swalling'] not in index\"",
     "output_type": "error",
     "traceback": [
      "\u001b[0;31m---------------------------------------------------------------------------\u001b[0m",
      "\u001b[0;31mKeyError\u001b[0m                                  Traceback (most recent call last)",
      "\u001b[1;32m/Users/tessa/Documents/GitHub/PLR/Tessa/stepmix-121123-sympgrouping.ipynb Cell 18\u001b[0m line \u001b[0;36m6\n\u001b[1;32m      <a href='vscode-notebook-cell:/Users/tessa/Documents/GitHub/PLR/Tessa/stepmix-121123-sympgrouping.ipynb#X24sZmlsZQ%3D%3D?line=3'>4</a>\u001b[0m \u001b[39mprint\u001b[39m(keepcols)\n\u001b[1;32m      <a href='vscode-notebook-cell:/Users/tessa/Documents/GitHub/PLR/Tessa/stepmix-121123-sympgrouping.ipynb#X24sZmlsZQ%3D%3D?line=4'>5</a>\u001b[0m keepcols\u001b[39m.\u001b[39mappend(\u001b[39m'\u001b[39m\u001b[39mcluster\u001b[39m\u001b[39m'\u001b[39m)\n\u001b[0;32m----> <a href='vscode-notebook-cell:/Users/tessa/Documents/GitHub/PLR/Tessa/stepmix-121123-sympgrouping.ipynb#X24sZmlsZQ%3D%3D?line=5'>6</a>\u001b[0m a \u001b[39m=\u001b[39m sympdf\u001b[39m.\u001b[39;49mloc[:, keepcols]\n\u001b[1;32m      <a href='vscode-notebook-cell:/Users/tessa/Documents/GitHub/PLR/Tessa/stepmix-121123-sympgrouping.ipynb#X24sZmlsZQ%3D%3D?line=7'>8</a>\u001b[0m \u001b[39m# a = sympdf.loc[:,]\u001b[39;00m\n\u001b[1;32m      <a href='vscode-notebook-cell:/Users/tessa/Documents/GitHub/PLR/Tessa/stepmix-121123-sympgrouping.ipynb#X24sZmlsZQ%3D%3D?line=8'>9</a>\u001b[0m \u001b[39m#a.groupby('cluster').mean()\u001b[39;00m\n\u001b[1;32m     <a href='vscode-notebook-cell:/Users/tessa/Documents/GitHub/PLR/Tessa/stepmix-121123-sympgrouping.ipynb#X24sZmlsZQ%3D%3D?line=9'>10</a>\u001b[0m \u001b[39m#avg = sympdf.loc[:, sympdf.columns.str.startswith(grouping)].groupby(clus).mean()\u001b[39;00m\n",
      "File \u001b[0;32m~/miniforge3/envs/stepmix/lib/python3.12/site-packages/pandas/core/indexing.py:1147\u001b[0m, in \u001b[0;36m_LocationIndexer.__getitem__\u001b[0;34m(self, key)\u001b[0m\n\u001b[1;32m   1145\u001b[0m     \u001b[39mif\u001b[39;00m \u001b[39mself\u001b[39m\u001b[39m.\u001b[39m_is_scalar_access(key):\n\u001b[1;32m   1146\u001b[0m         \u001b[39mreturn\u001b[39;00m \u001b[39mself\u001b[39m\u001b[39m.\u001b[39mobj\u001b[39m.\u001b[39m_get_value(\u001b[39m*\u001b[39mkey, takeable\u001b[39m=\u001b[39m\u001b[39mself\u001b[39m\u001b[39m.\u001b[39m_takeable)\n\u001b[0;32m-> 1147\u001b[0m     \u001b[39mreturn\u001b[39;00m \u001b[39mself\u001b[39;49m\u001b[39m.\u001b[39;49m_getitem_tuple(key)\n\u001b[1;32m   1148\u001b[0m \u001b[39melse\u001b[39;00m:\n\u001b[1;32m   1149\u001b[0m     \u001b[39m# we by definition only have the 0th axis\u001b[39;00m\n\u001b[1;32m   1150\u001b[0m     axis \u001b[39m=\u001b[39m \u001b[39mself\u001b[39m\u001b[39m.\u001b[39maxis \u001b[39mor\u001b[39;00m \u001b[39m0\u001b[39m\n",
      "File \u001b[0;32m~/miniforge3/envs/stepmix/lib/python3.12/site-packages/pandas/core/indexing.py:1339\u001b[0m, in \u001b[0;36m_LocIndexer._getitem_tuple\u001b[0;34m(self, tup)\u001b[0m\n\u001b[1;32m   1336\u001b[0m \u001b[39mif\u001b[39;00m \u001b[39mself\u001b[39m\u001b[39m.\u001b[39m_multi_take_opportunity(tup):\n\u001b[1;32m   1337\u001b[0m     \u001b[39mreturn\u001b[39;00m \u001b[39mself\u001b[39m\u001b[39m.\u001b[39m_multi_take(tup)\n\u001b[0;32m-> 1339\u001b[0m \u001b[39mreturn\u001b[39;00m \u001b[39mself\u001b[39;49m\u001b[39m.\u001b[39;49m_getitem_tuple_same_dim(tup)\n",
      "File \u001b[0;32m~/miniforge3/envs/stepmix/lib/python3.12/site-packages/pandas/core/indexing.py:994\u001b[0m, in \u001b[0;36m_LocationIndexer._getitem_tuple_same_dim\u001b[0;34m(self, tup)\u001b[0m\n\u001b[1;32m    991\u001b[0m \u001b[39mif\u001b[39;00m com\u001b[39m.\u001b[39mis_null_slice(key):\n\u001b[1;32m    992\u001b[0m     \u001b[39mcontinue\u001b[39;00m\n\u001b[0;32m--> 994\u001b[0m retval \u001b[39m=\u001b[39m \u001b[39mgetattr\u001b[39;49m(retval, \u001b[39mself\u001b[39;49m\u001b[39m.\u001b[39;49mname)\u001b[39m.\u001b[39;49m_getitem_axis(key, axis\u001b[39m=\u001b[39;49mi)\n\u001b[1;32m    995\u001b[0m \u001b[39m# We should never have retval.ndim < self.ndim, as that should\u001b[39;00m\n\u001b[1;32m    996\u001b[0m \u001b[39m#  be handled by the _getitem_lowerdim call above.\u001b[39;00m\n\u001b[1;32m    997\u001b[0m \u001b[39massert\u001b[39;00m retval\u001b[39m.\u001b[39mndim \u001b[39m==\u001b[39m \u001b[39mself\u001b[39m\u001b[39m.\u001b[39mndim\n",
      "File \u001b[0;32m~/miniforge3/envs/stepmix/lib/python3.12/site-packages/pandas/core/indexing.py:1382\u001b[0m, in \u001b[0;36m_LocIndexer._getitem_axis\u001b[0;34m(self, key, axis)\u001b[0m\n\u001b[1;32m   1379\u001b[0m     \u001b[39mif\u001b[39;00m \u001b[39mhasattr\u001b[39m(key, \u001b[39m\"\u001b[39m\u001b[39mndim\u001b[39m\u001b[39m\"\u001b[39m) \u001b[39mand\u001b[39;00m key\u001b[39m.\u001b[39mndim \u001b[39m>\u001b[39m \u001b[39m1\u001b[39m:\n\u001b[1;32m   1380\u001b[0m         \u001b[39mraise\u001b[39;00m \u001b[39mValueError\u001b[39;00m(\u001b[39m\"\u001b[39m\u001b[39mCannot index with multidimensional key\u001b[39m\u001b[39m\"\u001b[39m)\n\u001b[0;32m-> 1382\u001b[0m     \u001b[39mreturn\u001b[39;00m \u001b[39mself\u001b[39;49m\u001b[39m.\u001b[39;49m_getitem_iterable(key, axis\u001b[39m=\u001b[39;49maxis)\n\u001b[1;32m   1384\u001b[0m \u001b[39m# nested tuple slicing\u001b[39;00m\n\u001b[1;32m   1385\u001b[0m \u001b[39mif\u001b[39;00m is_nested_tuple(key, labels):\n",
      "File \u001b[0;32m~/miniforge3/envs/stepmix/lib/python3.12/site-packages/pandas/core/indexing.py:1322\u001b[0m, in \u001b[0;36m_LocIndexer._getitem_iterable\u001b[0;34m(self, key, axis)\u001b[0m\n\u001b[1;32m   1319\u001b[0m \u001b[39mself\u001b[39m\u001b[39m.\u001b[39m_validate_key(key, axis)\n\u001b[1;32m   1321\u001b[0m \u001b[39m# A collection of keys\u001b[39;00m\n\u001b[0;32m-> 1322\u001b[0m keyarr, indexer \u001b[39m=\u001b[39m \u001b[39mself\u001b[39;49m\u001b[39m.\u001b[39;49m_get_listlike_indexer(key, axis)\n\u001b[1;32m   1323\u001b[0m \u001b[39mreturn\u001b[39;00m \u001b[39mself\u001b[39m\u001b[39m.\u001b[39mobj\u001b[39m.\u001b[39m_reindex_with_indexers(\n\u001b[1;32m   1324\u001b[0m     {axis: [keyarr, indexer]}, copy\u001b[39m=\u001b[39m\u001b[39mTrue\u001b[39;00m, allow_dups\u001b[39m=\u001b[39m\u001b[39mTrue\u001b[39;00m\n\u001b[1;32m   1325\u001b[0m )\n",
      "File \u001b[0;32m~/miniforge3/envs/stepmix/lib/python3.12/site-packages/pandas/core/indexing.py:1520\u001b[0m, in \u001b[0;36m_LocIndexer._get_listlike_indexer\u001b[0;34m(self, key, axis)\u001b[0m\n\u001b[1;32m   1517\u001b[0m ax \u001b[39m=\u001b[39m \u001b[39mself\u001b[39m\u001b[39m.\u001b[39mobj\u001b[39m.\u001b[39m_get_axis(axis)\n\u001b[1;32m   1518\u001b[0m axis_name \u001b[39m=\u001b[39m \u001b[39mself\u001b[39m\u001b[39m.\u001b[39mobj\u001b[39m.\u001b[39m_get_axis_name(axis)\n\u001b[0;32m-> 1520\u001b[0m keyarr, indexer \u001b[39m=\u001b[39m ax\u001b[39m.\u001b[39;49m_get_indexer_strict(key, axis_name)\n\u001b[1;32m   1522\u001b[0m \u001b[39mreturn\u001b[39;00m keyarr, indexer\n",
      "File \u001b[0;32m~/miniforge3/envs/stepmix/lib/python3.12/site-packages/pandas/core/indexes/base.py:6114\u001b[0m, in \u001b[0;36mIndex._get_indexer_strict\u001b[0;34m(self, key, axis_name)\u001b[0m\n\u001b[1;32m   6111\u001b[0m \u001b[39melse\u001b[39;00m:\n\u001b[1;32m   6112\u001b[0m     keyarr, indexer, new_indexer \u001b[39m=\u001b[39m \u001b[39mself\u001b[39m\u001b[39m.\u001b[39m_reindex_non_unique(keyarr)\n\u001b[0;32m-> 6114\u001b[0m \u001b[39mself\u001b[39;49m\u001b[39m.\u001b[39;49m_raise_if_missing(keyarr, indexer, axis_name)\n\u001b[1;32m   6116\u001b[0m keyarr \u001b[39m=\u001b[39m \u001b[39mself\u001b[39m\u001b[39m.\u001b[39mtake(indexer)\n\u001b[1;32m   6117\u001b[0m \u001b[39mif\u001b[39;00m \u001b[39misinstance\u001b[39m(key, Index):\n\u001b[1;32m   6118\u001b[0m     \u001b[39m# GH 42790 - Preserve name from an Index\u001b[39;00m\n",
      "File \u001b[0;32m~/miniforge3/envs/stepmix/lib/python3.12/site-packages/pandas/core/indexes/base.py:6178\u001b[0m, in \u001b[0;36mIndex._raise_if_missing\u001b[0;34m(self, key, indexer, axis_name)\u001b[0m\n\u001b[1;32m   6175\u001b[0m     \u001b[39mraise\u001b[39;00m \u001b[39mKeyError\u001b[39;00m(\u001b[39mf\u001b[39m\u001b[39m\"\u001b[39m\u001b[39mNone of [\u001b[39m\u001b[39m{\u001b[39;00mkey\u001b[39m}\u001b[39;00m\u001b[39m] are in the [\u001b[39m\u001b[39m{\u001b[39;00maxis_name\u001b[39m}\u001b[39;00m\u001b[39m]\u001b[39m\u001b[39m\"\u001b[39m)\n\u001b[1;32m   6177\u001b[0m not_found \u001b[39m=\u001b[39m \u001b[39mlist\u001b[39m(ensure_index(key)[missing_mask\u001b[39m.\u001b[39mnonzero()[\u001b[39m0\u001b[39m]]\u001b[39m.\u001b[39munique())\n\u001b[0;32m-> 6178\u001b[0m \u001b[39mraise\u001b[39;00m \u001b[39mKeyError\u001b[39;00m(\u001b[39mf\u001b[39m\u001b[39m\"\u001b[39m\u001b[39m{\u001b[39;00mnot_found\u001b[39m}\u001b[39;00m\u001b[39m not in index\u001b[39m\u001b[39m\"\u001b[39m)\n",
      "\u001b[0;31mKeyError\u001b[0m: \"['Symptom_Difficulty_swalling'] not in index\""
     ]
    }
   ],
   "source": [
    "for grouping in groups_df.group.unique():\n",
    "    # calculat the average score for each symptom in the group for each cluster in 'cluster'\n",
    "    keepcols = groups_df.loc[groups_df.group == grouping, 'symptom'].tolist()\n",
    "    print(keepcols)\n",
    "    keepcols.append('cluster')\n",
    "    a = sympdf.loc[:, keepcols]\n",
    "\n",
    "    # a = sympdf.loc[:,]\n",
    "    #a.groupby('cluster').mean()\n",
    "    #avg = sympdf.loc[:, sympdf.columns.str.startswith(grouping)].groupby(clus).mean()\n",
    "\n"
   ]
  },
  {
   "cell_type": "code",
   "execution_count": 136,
   "metadata": {},
   "outputs": [
    {
     "data": {
      "text/plain": [
       "Index(['Symptom_Memory_short', 'Symptom_Memory_long',\n",
       "       'Symptom_Memory_no_new_memories', 'Symptom_Memory_forget_tasks',\n",
       "       'Symptom_Memory_other', 'Symptom_Cognitive_Functioning_thinking',\n",
       "       'Symptom_Cognitive_Functioning_executive',\n",
       "       'Symptom_Cognitive_Functioning_problemsolving',\n",
       "       'Symptom_Cognitive_Functioning_slowedthoughts',\n",
       "       'Symptom_Cognitive_Functioning_fastthoughts',\n",
       "       ...\n",
       "       'Symptom_SkinAllergy_itchy_eyes',\n",
       "       'Symptom_SkinAllergy_heighted_reaction_allergies',\n",
       "       'Symptom_SkinAllergy_brittle_nail', 'Symptom_SkinAllergy_other_itchy',\n",
       "       'Symptom_SkinAllergy_shingles', 'Symptom_PEM', 'Symptom_Fatigue',\n",
       "       'Symptom_Change_sensitivity_to_meds', 'Symptom_New_allergies',\n",
       "       'cluster'],\n",
       "      dtype='object', length=163)"
      ]
     },
     "execution_count": 136,
     "metadata": {},
     "output_type": "execute_result"
    }
   ],
   "source": [
    "sympdf.columns"
   ]
  },
  {
   "cell_type": "code",
   "execution_count": 130,
   "metadata": {},
   "outputs": [],
   "source": [
    "keepcols.append('cluster')"
   ]
  },
  {
   "cell_type": "code",
   "execution_count": 131,
   "metadata": {},
   "outputs": [
    {
     "data": {
      "text/plain": [
       "['Symptom_Difficulty_swalling',\n",
       " 'Symptom_Hallucinations_other',\n",
       " 'Symptom_Sensations_numbness_one_sided_weakness',\n",
       " 'Symptom_Bulging_veins',\n",
       " 'Symptom_Sore_throat',\n",
       " 'Symptom_Inability_to_yawn',\n",
       " 'Symptom_Changes_in_voice',\n",
       " 'Symptom_Extreme_thirst',\n",
       " 'Symptom_SkinAllergy_brittle_nail',\n",
       " 'Symptom_SkinAllergy_other_itchy',\n",
       " 'Symptom_SkinAllergy_shingles',\n",
       " 'Symptom_PEM',\n",
       " 'Symptom_Fatigue',\n",
       " 'Symptom_Change_sensitivity_to_meds',\n",
       " 'Symptom_Neuralgia',\n",
       " 'Symptom_Pain_burning_chest',\n",
       " 'Symptom_Eye_Vision_pink_eye',\n",
       " 'Symptom_Eye_Vision_bloodshot_eyes',\n",
       " 'Symptom_Eye_Vision_redness_outside_eye',\n",
       " 'cluster']"
      ]
     },
     "execution_count": 131,
     "metadata": {},
     "output_type": "execute_result"
    }
   ],
   "source": [
    "keepcols"
   ]
  },
  {
   "cell_type": "code",
   "execution_count": null,
   "metadata": {},
   "outputs": [],
   "source": []
  }
 ],
 "metadata": {
  "kernelspec": {
   "display_name": "Python 3",
   "language": "python",
   "name": "python3"
  },
  "language_info": {
   "codemirror_mode": {
    "name": "ipython",
    "version": 3
   },
   "file_extension": ".py",
   "mimetype": "text/x-python",
   "name": "python",
   "nbconvert_exporter": "python",
   "pygments_lexer": "ipython3",
   "version": "3.12.0"
  }
 },
 "nbformat": 4,
 "nbformat_minor": 2
}

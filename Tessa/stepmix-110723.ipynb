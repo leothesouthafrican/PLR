{
 "cells": [
  {
   "cell_type": "code",
   "execution_count": 83,
   "metadata": {},
   "outputs": [],
   "source": [
    "from stepmix.stepmix import StepMix\n",
    "import pandas as pd\n",
    "import numpy as np\n",
    "\n",
    "from sklearn.datasets import load_iris\n",
    "from sklearn.metrics import rand_score\n",
    "\n",
    "import matplotlib.pyplot as plt\n",
    "import seaborn as sns"
   ]
  },
  {
   "cell_type": "code",
   "execution_count": 3,
   "metadata": {},
   "outputs": [],
   "source": [
    "df = pd.read_csv(\"../data/cleaned_data_SYMPTOMS_9_13_23.csv\", index_col=0)\n",
    "sympdf = df.loc[:, df.columns.str.startswith('Symptom_')]"
   ]
  },
  {
   "cell_type": "code",
   "execution_count": 25,
   "metadata": {},
   "outputs": [],
   "source": [
    "# patient is a mixture of classes but it's meant to represent probs rather than actual multiple class labels\n",
    "# so this model is less complex, but it might still be more appropriate, it'll depend\n",
    "\n",
    "model = StepMix(n_components=8, measurement=\"binary\", verbose=0, random_state=123)\n"
   ]
  },
  {
   "cell_type": "code",
   "execution_count": 26,
   "metadata": {},
   "outputs": [
    {
     "name": "stdout",
     "output_type": "stream",
     "text": [
      "Fitting StepMix...\n"
     ]
    },
    {
     "name": "stderr",
     "output_type": "stream",
     "text": [
      "Initializations (n_init) : 100%|██████████| 1/1 [00:52<00:00, 52.96s/it, max_LL=-4.22e+5, max_avg_LL=-70]\n",
      "/Users/tessa/miniforge3/envs/stepmix/lib/python3.12/site-packages/stepmix/stepmix.py:968: ConvergenceWarning: Initializations did not converge. Try different init parameters, or increase max_iter, abs_tol, rel_tol or check for degenerate data.\n",
      "  warnings.warn(\n"
     ]
    },
    {
     "data": {
      "text/html": [
       "<style>#sk-container-id-5 {color: black;}#sk-container-id-5 pre{padding: 0;}#sk-container-id-5 div.sk-toggleable {background-color: white;}#sk-container-id-5 label.sk-toggleable__label {cursor: pointer;display: block;width: 100%;margin-bottom: 0;padding: 0.3em;box-sizing: border-box;text-align: center;}#sk-container-id-5 label.sk-toggleable__label-arrow:before {content: \"▸\";float: left;margin-right: 0.25em;color: #696969;}#sk-container-id-5 label.sk-toggleable__label-arrow:hover:before {color: black;}#sk-container-id-5 div.sk-estimator:hover label.sk-toggleable__label-arrow:before {color: black;}#sk-container-id-5 div.sk-toggleable__content {max-height: 0;max-width: 0;overflow: hidden;text-align: left;background-color: #f0f8ff;}#sk-container-id-5 div.sk-toggleable__content pre {margin: 0.2em;color: black;border-radius: 0.25em;background-color: #f0f8ff;}#sk-container-id-5 input.sk-toggleable__control:checked~div.sk-toggleable__content {max-height: 200px;max-width: 100%;overflow: auto;}#sk-container-id-5 input.sk-toggleable__control:checked~label.sk-toggleable__label-arrow:before {content: \"▾\";}#sk-container-id-5 div.sk-estimator input.sk-toggleable__control:checked~label.sk-toggleable__label {background-color: #d4ebff;}#sk-container-id-5 div.sk-label input.sk-toggleable__control:checked~label.sk-toggleable__label {background-color: #d4ebff;}#sk-container-id-5 input.sk-hidden--visually {border: 0;clip: rect(1px 1px 1px 1px);clip: rect(1px, 1px, 1px, 1px);height: 1px;margin: -1px;overflow: hidden;padding: 0;position: absolute;width: 1px;}#sk-container-id-5 div.sk-estimator {font-family: monospace;background-color: #f0f8ff;border: 1px dotted black;border-radius: 0.25em;box-sizing: border-box;margin-bottom: 0.5em;}#sk-container-id-5 div.sk-estimator:hover {background-color: #d4ebff;}#sk-container-id-5 div.sk-parallel-item::after {content: \"\";width: 100%;border-bottom: 1px solid gray;flex-grow: 1;}#sk-container-id-5 div.sk-label:hover label.sk-toggleable__label {background-color: #d4ebff;}#sk-container-id-5 div.sk-serial::before {content: \"\";position: absolute;border-left: 1px solid gray;box-sizing: border-box;top: 0;bottom: 0;left: 50%;z-index: 0;}#sk-container-id-5 div.sk-serial {display: flex;flex-direction: column;align-items: center;background-color: white;padding-right: 0.2em;padding-left: 0.2em;position: relative;}#sk-container-id-5 div.sk-item {position: relative;z-index: 1;}#sk-container-id-5 div.sk-parallel {display: flex;align-items: stretch;justify-content: center;background-color: white;position: relative;}#sk-container-id-5 div.sk-item::before, #sk-container-id-5 div.sk-parallel-item::before {content: \"\";position: absolute;border-left: 1px solid gray;box-sizing: border-box;top: 0;bottom: 0;left: 50%;z-index: -1;}#sk-container-id-5 div.sk-parallel-item {display: flex;flex-direction: column;z-index: 1;position: relative;background-color: white;}#sk-container-id-5 div.sk-parallel-item:first-child::after {align-self: flex-end;width: 50%;}#sk-container-id-5 div.sk-parallel-item:last-child::after {align-self: flex-start;width: 50%;}#sk-container-id-5 div.sk-parallel-item:only-child::after {width: 0;}#sk-container-id-5 div.sk-dashed-wrapped {border: 1px dashed gray;margin: 0 0.4em 0.5em 0.4em;box-sizing: border-box;padding-bottom: 0.4em;background-color: white;}#sk-container-id-5 div.sk-label label {font-family: monospace;font-weight: bold;display: inline-block;line-height: 1.2em;}#sk-container-id-5 div.sk-label-container {text-align: center;}#sk-container-id-5 div.sk-container {/* jupyter's `normalize.less` sets `[hidden] { display: none; }` but bootstrap.min.css set `[hidden] { display: none !important; }` so we also need the `!important` here to be able to override the default hidden behavior on the sphinx rendered scikit-learn.org. See: https://github.com/scikit-learn/scikit-learn/issues/21755 */display: inline-block !important;position: relative;}#sk-container-id-5 div.sk-text-repr-fallback {display: none;}</style><div id=\"sk-container-id-5\" class=\"sk-top-container\"><div class=\"sk-text-repr-fallback\"><pre>StepMix(measurement=&#x27;binary&#x27;, n_components=8, random_state=123)</pre><b>In a Jupyter environment, please rerun this cell to show the HTML representation or trust the notebook. <br />On GitHub, the HTML representation is unable to render, please try loading this page with nbviewer.org.</b></div><div class=\"sk-container\" hidden><div class=\"sk-item\"><div class=\"sk-estimator sk-toggleable\"><input class=\"sk-toggleable__control sk-hidden--visually\" id=\"sk-estimator-id-9\" type=\"checkbox\" checked><label for=\"sk-estimator-id-9\" class=\"sk-toggleable__label sk-toggleable__label-arrow\">StepMix</label><div class=\"sk-toggleable__content\"><pre>StepMix(measurement=&#x27;binary&#x27;, n_components=8, random_state=123)</pre></div></div></div></div></div>"
      ],
      "text/plain": [
       "StepMix(measurement='binary', n_components=8, random_state=123)"
      ]
     },
     "execution_count": 26,
     "metadata": {},
     "output_type": "execute_result"
    }
   ],
   "source": [
    "model.fit(sympdf)\n"
   ]
  },
  {
   "cell_type": "code",
   "execution_count": 100,
   "metadata": {},
   "outputs": [
    {
     "name": "stdout",
     "output_type": "stream",
     "text": [
      "Fitting StepMix...\n"
     ]
    },
    {
     "name": "stderr",
     "output_type": "stream",
     "text": [
      "Initializations (n_init) : 100%|██████████| 1/1 [00:00<00:00,  2.31it/s, max_LL=-2.95e+5, max_avg_LL=-73.3]\n"
     ]
    },
    {
     "name": "stdout",
     "output_type": "stream",
     "text": [
      "Fitting StepMix...\n"
     ]
    },
    {
     "name": "stderr",
     "output_type": "stream",
     "text": [
      "Initializations (n_init) : 100%|██████████| 1/1 [00:00<00:00,  6.37it/s, max_LL=-2.94e+5, max_avg_LL=-73.1]\n"
     ]
    },
    {
     "name": "stdout",
     "output_type": "stream",
     "text": [
      "Fitting StepMix...\n"
     ]
    },
    {
     "name": "stderr",
     "output_type": "stream",
     "text": [
      "Initializations (n_init) : 100%|██████████| 1/1 [00:00<00:00,  3.28it/s, max_LL=-2.96e+5, max_avg_LL=-73.6]\n"
     ]
    },
    {
     "name": "stdout",
     "output_type": "stream",
     "text": [
      "Fitting StepMix...\n"
     ]
    },
    {
     "name": "stderr",
     "output_type": "stream",
     "text": [
      "Initializations (n_init) : 100%|██████████| 1/1 [00:00<00:00,  1.76it/s, max_LL=-2.88e+5, max_avg_LL=-71.7]\n"
     ]
    },
    {
     "name": "stdout",
     "output_type": "stream",
     "text": [
      "Fitting StepMix...\n"
     ]
    },
    {
     "name": "stderr",
     "output_type": "stream",
     "text": [
      "Initializations (n_init) : 100%|██████████| 1/1 [00:00<00:00,  2.69it/s, max_LL=-2.88e+5, max_avg_LL=-71.6]\n"
     ]
    },
    {
     "name": "stdout",
     "output_type": "stream",
     "text": [
      "Fitting StepMix...\n"
     ]
    },
    {
     "name": "stderr",
     "output_type": "stream",
     "text": [
      "Initializations (n_init) : 100%|██████████| 1/1 [00:00<00:00,  2.93it/s, max_LL=-2.9e+5, max_avg_LL=-72.2]\n"
     ]
    },
    {
     "name": "stdout",
     "output_type": "stream",
     "text": [
      "Fitting StepMix...\n"
     ]
    },
    {
     "name": "stderr",
     "output_type": "stream",
     "text": [
      "Initializations (n_init) : 100%|██████████| 1/1 [00:00<00:00,  2.42it/s, max_LL=-2.86e+5, max_avg_LL=-71]\n"
     ]
    },
    {
     "name": "stdout",
     "output_type": "stream",
     "text": [
      "Fitting StepMix...\n"
     ]
    },
    {
     "name": "stderr",
     "output_type": "stream",
     "text": [
      "Initializations (n_init) : 100%|██████████| 1/1 [00:00<00:00,  3.54it/s, max_LL=-2.85e+5, max_avg_LL=-70.9]\n"
     ]
    },
    {
     "name": "stdout",
     "output_type": "stream",
     "text": [
      "Fitting StepMix...\n"
     ]
    },
    {
     "name": "stderr",
     "output_type": "stream",
     "text": [
      "Initializations (n_init) : 100%|██████████| 1/1 [00:00<00:00,  2.59it/s, max_LL=-2.88e+5, max_avg_LL=-71.5]\n"
     ]
    },
    {
     "name": "stdout",
     "output_type": "stream",
     "text": [
      "Fitting StepMix...\n"
     ]
    },
    {
     "name": "stderr",
     "output_type": "stream",
     "text": [
      "Initializations (n_init) : 100%|██████████| 1/1 [00:00<00:00,  1.13it/s, max_LL=-2.83e+5, max_avg_LL=-70.5]\n"
     ]
    },
    {
     "name": "stdout",
     "output_type": "stream",
     "text": [
      "Fitting StepMix...\n"
     ]
    },
    {
     "name": "stderr",
     "output_type": "stream",
     "text": [
      "Initializations (n_init) : 100%|██████████| 1/1 [00:00<00:00,  2.02it/s, max_LL=-2.83e+5, max_avg_LL=-70.4]\n"
     ]
    },
    {
     "name": "stdout",
     "output_type": "stream",
     "text": [
      "Fitting StepMix...\n"
     ]
    },
    {
     "name": "stderr",
     "output_type": "stream",
     "text": [
      "Initializations (n_init) : 100%|██████████| 1/1 [00:02<00:00,  2.18s/it, max_LL=-2.86e+5, max_avg_LL=-71.1]\n"
     ]
    },
    {
     "name": "stdout",
     "output_type": "stream",
     "text": [
      "Fitting StepMix...\n"
     ]
    },
    {
     "name": "stderr",
     "output_type": "stream",
     "text": [
      "Initializations (n_init) : 100%|██████████| 1/1 [00:01<00:00,  1.53s/it, max_LL=-2.82e+5, max_avg_LL=-70.2]\n"
     ]
    },
    {
     "name": "stdout",
     "output_type": "stream",
     "text": [
      "Fitting StepMix...\n"
     ]
    },
    {
     "name": "stderr",
     "output_type": "stream",
     "text": [
      "Initializations (n_init) : 100%|██████████| 1/1 [00:00<00:00,  1.22it/s, max_LL=-2.82e+5, max_avg_LL=-70.1]\n"
     ]
    },
    {
     "name": "stdout",
     "output_type": "stream",
     "text": [
      "Fitting StepMix...\n"
     ]
    },
    {
     "name": "stderr",
     "output_type": "stream",
     "text": [
      "Initializations (n_init) : 100%|██████████| 1/1 [00:00<00:00,  1.44it/s, max_LL=-2.84e+5, max_avg_LL=-70.7]\n"
     ]
    },
    {
     "name": "stdout",
     "output_type": "stream",
     "text": [
      "Fitting StepMix...\n"
     ]
    },
    {
     "name": "stderr",
     "output_type": "stream",
     "text": [
      "Initializations (n_init) : 100%|██████████| 1/1 [00:01<00:00,  1.17s/it, max_LL=-2.81e+5, max_avg_LL=-69.9]\n"
     ]
    },
    {
     "name": "stdout",
     "output_type": "stream",
     "text": [
      "Fitting StepMix...\n"
     ]
    },
    {
     "name": "stderr",
     "output_type": "stream",
     "text": [
      "Initializations (n_init) : 100%|██████████| 1/1 [00:03<00:00,  3.08s/it, max_LL=-2.81e+5, max_avg_LL=-69.8]\n"
     ]
    },
    {
     "name": "stdout",
     "output_type": "stream",
     "text": [
      "Fitting StepMix...\n"
     ]
    },
    {
     "name": "stderr",
     "output_type": "stream",
     "text": [
      "Initializations (n_init) : 100%|██████████| 1/1 [00:00<00:00,  1.43it/s, max_LL=-2.84e+5, max_avg_LL=-70.5]\n"
     ]
    },
    {
     "name": "stdout",
     "output_type": "stream",
     "text": [
      "Fitting StepMix...\n"
     ]
    },
    {
     "name": "stderr",
     "output_type": "stream",
     "text": [
      "Initializations (n_init) : 100%|██████████| 1/1 [00:01<00:00,  1.74s/it, max_LL=-2.8e+5, max_avg_LL=-69.8]\n"
     ]
    },
    {
     "name": "stdout",
     "output_type": "stream",
     "text": [
      "Fitting StepMix...\n"
     ]
    },
    {
     "name": "stderr",
     "output_type": "stream",
     "text": [
      "Initializations (n_init) : 100%|██████████| 1/1 [00:03<00:00,  3.28s/it, max_LL=-2.8e+5, max_avg_LL=-69.6]\n"
     ]
    },
    {
     "name": "stdout",
     "output_type": "stream",
     "text": [
      "Fitting StepMix...\n"
     ]
    },
    {
     "name": "stderr",
     "output_type": "stream",
     "text": [
      "Initializations (n_init) : 100%|██████████| 1/1 [00:01<00:00,  1.05s/it, max_LL=-2.83e+5, max_avg_LL=-70.4]\n"
     ]
    },
    {
     "name": "stdout",
     "output_type": "stream",
     "text": [
      "Fitting StepMix...\n"
     ]
    },
    {
     "name": "stderr",
     "output_type": "stream",
     "text": [
      "Initializations (n_init) : 100%|██████████| 1/1 [00:01<00:00,  1.48s/it, max_LL=-2.79e+5, max_avg_LL=-69.5]\n"
     ]
    },
    {
     "name": "stdout",
     "output_type": "stream",
     "text": [
      "Fitting StepMix...\n"
     ]
    },
    {
     "name": "stderr",
     "output_type": "stream",
     "text": [
      "Initializations (n_init) : 100%|██████████| 1/1 [00:01<00:00,  1.47s/it, max_LL=-2.79e+5, max_avg_LL=-69.4]\n"
     ]
    },
    {
     "name": "stdout",
     "output_type": "stream",
     "text": [
      "Fitting StepMix...\n"
     ]
    },
    {
     "name": "stderr",
     "output_type": "stream",
     "text": [
      "Initializations (n_init) : 100%|██████████| 1/1 [00:02<00:00,  2.49s/it, max_LL=-2.82e+5, max_avg_LL=-70.2]\n"
     ]
    },
    {
     "name": "stdout",
     "output_type": "stream",
     "text": [
      "Fitting StepMix...\n"
     ]
    },
    {
     "name": "stderr",
     "output_type": "stream",
     "text": [
      "Initializations (n_init) : 100%|██████████| 1/1 [00:08<00:00,  8.99s/it, max_LL=-2.79e+5, max_avg_LL=-69.3]\n"
     ]
    },
    {
     "name": "stdout",
     "output_type": "stream",
     "text": [
      "Fitting StepMix...\n"
     ]
    },
    {
     "name": "stderr",
     "output_type": "stream",
     "text": [
      "Initializations (n_init) : 100%|██████████| 1/1 [00:02<00:00,  2.76s/it, max_LL=-2.79e+5, max_avg_LL=-69.3]\n"
     ]
    },
    {
     "name": "stdout",
     "output_type": "stream",
     "text": [
      "Fitting StepMix...\n"
     ]
    },
    {
     "name": "stderr",
     "output_type": "stream",
     "text": [
      "Initializations (n_init) : 100%|██████████| 1/1 [00:02<00:00,  2.88s/it, max_LL=-2.82e+5, max_avg_LL=-70.1]\n"
     ]
    },
    {
     "name": "stdout",
     "output_type": "stream",
     "text": [
      "Fitting StepMix...\n"
     ]
    },
    {
     "name": "stderr",
     "output_type": "stream",
     "text": [
      "Initializations (n_init) : 100%|██████████| 1/1 [00:03<00:00,  3.73s/it, max_LL=-2.78e+5, max_avg_LL=-69.2]\n"
     ]
    },
    {
     "name": "stdout",
     "output_type": "stream",
     "text": [
      "Fitting StepMix...\n"
     ]
    },
    {
     "name": "stderr",
     "output_type": "stream",
     "text": [
      "Initializations (n_init) : 100%|██████████| 1/1 [00:07<00:00,  7.37s/it, max_LL=-2.78e+5, max_avg_LL=-69.1]\n"
     ]
    },
    {
     "name": "stdout",
     "output_type": "stream",
     "text": [
      "Fitting StepMix...\n"
     ]
    },
    {
     "name": "stderr",
     "output_type": "stream",
     "text": [
      "Initializations (n_init) : 100%|██████████| 1/1 [00:20<00:00, 20.92s/it, max_LL=-2.81e+5, max_avg_LL=-69.9]\n"
     ]
    },
    {
     "name": "stdout",
     "output_type": "stream",
     "text": [
      "Fitting StepMix...\n"
     ]
    },
    {
     "name": "stderr",
     "output_type": "stream",
     "text": [
      "Initializations (n_init) : 100%|██████████| 1/1 [00:16<00:00, 16.01s/it, max_LL=-2.78e+5, max_avg_LL=-69.1]\n"
     ]
    },
    {
     "name": "stdout",
     "output_type": "stream",
     "text": [
      "Fitting StepMix...\n"
     ]
    },
    {
     "name": "stderr",
     "output_type": "stream",
     "text": [
      "Initializations (n_init) : 100%|██████████| 1/1 [00:03<00:00,  3.24s/it, max_LL=-2.77e+5, max_avg_LL=-69]\n"
     ]
    },
    {
     "name": "stdout",
     "output_type": "stream",
     "text": [
      "Fitting StepMix...\n"
     ]
    },
    {
     "name": "stderr",
     "output_type": "stream",
     "text": [
      "Initializations (n_init) : 100%|██████████| 1/1 [00:12<00:00, 12.31s/it, max_LL=-2.81e+5, max_avg_LL=-69.8]\n"
     ]
    },
    {
     "name": "stdout",
     "output_type": "stream",
     "text": [
      "Fitting StepMix...\n"
     ]
    },
    {
     "name": "stderr",
     "output_type": "stream",
     "text": [
      "Initializations (n_init) : 100%|██████████| 1/1 [00:09<00:00,  9.47s/it, max_LL=-4.19e+5, max_avg_LL=-69.4]\n",
      "/Users/tessa/miniforge3/envs/stepmix/lib/python3.12/site-packages/stepmix/stepmix.py:968: ConvergenceWarning: Initializations did not converge. Try different init parameters, or increase max_iter, abs_tol, rel_tol or check for degenerate data.\n",
      "  warnings.warn(\n"
     ]
    },
    {
     "data": {
      "text/html": [
       "<style>#sk-container-id-6 {color: black;}#sk-container-id-6 pre{padding: 0;}#sk-container-id-6 div.sk-toggleable {background-color: white;}#sk-container-id-6 label.sk-toggleable__label {cursor: pointer;display: block;width: 100%;margin-bottom: 0;padding: 0.3em;box-sizing: border-box;text-align: center;}#sk-container-id-6 label.sk-toggleable__label-arrow:before {content: \"▸\";float: left;margin-right: 0.25em;color: #696969;}#sk-container-id-6 label.sk-toggleable__label-arrow:hover:before {color: black;}#sk-container-id-6 div.sk-estimator:hover label.sk-toggleable__label-arrow:before {color: black;}#sk-container-id-6 div.sk-toggleable__content {max-height: 0;max-width: 0;overflow: hidden;text-align: left;background-color: #f0f8ff;}#sk-container-id-6 div.sk-toggleable__content pre {margin: 0.2em;color: black;border-radius: 0.25em;background-color: #f0f8ff;}#sk-container-id-6 input.sk-toggleable__control:checked~div.sk-toggleable__content {max-height: 200px;max-width: 100%;overflow: auto;}#sk-container-id-6 input.sk-toggleable__control:checked~label.sk-toggleable__label-arrow:before {content: \"▾\";}#sk-container-id-6 div.sk-estimator input.sk-toggleable__control:checked~label.sk-toggleable__label {background-color: #d4ebff;}#sk-container-id-6 div.sk-label input.sk-toggleable__control:checked~label.sk-toggleable__label {background-color: #d4ebff;}#sk-container-id-6 input.sk-hidden--visually {border: 0;clip: rect(1px 1px 1px 1px);clip: rect(1px, 1px, 1px, 1px);height: 1px;margin: -1px;overflow: hidden;padding: 0;position: absolute;width: 1px;}#sk-container-id-6 div.sk-estimator {font-family: monospace;background-color: #f0f8ff;border: 1px dotted black;border-radius: 0.25em;box-sizing: border-box;margin-bottom: 0.5em;}#sk-container-id-6 div.sk-estimator:hover {background-color: #d4ebff;}#sk-container-id-6 div.sk-parallel-item::after {content: \"\";width: 100%;border-bottom: 1px solid gray;flex-grow: 1;}#sk-container-id-6 div.sk-label:hover label.sk-toggleable__label {background-color: #d4ebff;}#sk-container-id-6 div.sk-serial::before {content: \"\";position: absolute;border-left: 1px solid gray;box-sizing: border-box;top: 0;bottom: 0;left: 50%;z-index: 0;}#sk-container-id-6 div.sk-serial {display: flex;flex-direction: column;align-items: center;background-color: white;padding-right: 0.2em;padding-left: 0.2em;position: relative;}#sk-container-id-6 div.sk-item {position: relative;z-index: 1;}#sk-container-id-6 div.sk-parallel {display: flex;align-items: stretch;justify-content: center;background-color: white;position: relative;}#sk-container-id-6 div.sk-item::before, #sk-container-id-6 div.sk-parallel-item::before {content: \"\";position: absolute;border-left: 1px solid gray;box-sizing: border-box;top: 0;bottom: 0;left: 50%;z-index: -1;}#sk-container-id-6 div.sk-parallel-item {display: flex;flex-direction: column;z-index: 1;position: relative;background-color: white;}#sk-container-id-6 div.sk-parallel-item:first-child::after {align-self: flex-end;width: 50%;}#sk-container-id-6 div.sk-parallel-item:last-child::after {align-self: flex-start;width: 50%;}#sk-container-id-6 div.sk-parallel-item:only-child::after {width: 0;}#sk-container-id-6 div.sk-dashed-wrapped {border: 1px dashed gray;margin: 0 0.4em 0.5em 0.4em;box-sizing: border-box;padding-bottom: 0.4em;background-color: white;}#sk-container-id-6 div.sk-label label {font-family: monospace;font-weight: bold;display: inline-block;line-height: 1.2em;}#sk-container-id-6 div.sk-label-container {text-align: center;}#sk-container-id-6 div.sk-container {/* jupyter's `normalize.less` sets `[hidden] { display: none; }` but bootstrap.min.css set `[hidden] { display: none !important; }` so we also need the `!important` here to be able to override the default hidden behavior on the sphinx rendered scikit-learn.org. See: https://github.com/scikit-learn/scikit-learn/issues/21755 */display: inline-block !important;position: relative;}#sk-container-id-6 div.sk-text-repr-fallback {display: none;}</style><div id=\"sk-container-id-6\" class=\"sk-top-container\"><div class=\"sk-text-repr-fallback\"><pre>GridSearchCV(cv=3,\n",
       "             estimator=StepMix(measurement=&#x27;binary&#x27;, n_components=10,\n",
       "                               random_state=123),\n",
       "             param_grid={&#x27;n_components&#x27;: [2, 3, 4, 5, 6, 7, 8, 9, 10, 11, 12]})</pre><b>In a Jupyter environment, please rerun this cell to show the HTML representation or trust the notebook. <br />On GitHub, the HTML representation is unable to render, please try loading this page with nbviewer.org.</b></div><div class=\"sk-container\" hidden><div class=\"sk-item sk-dashed-wrapped\"><div class=\"sk-label-container\"><div class=\"sk-label sk-toggleable\"><input class=\"sk-toggleable__control sk-hidden--visually\" id=\"sk-estimator-id-10\" type=\"checkbox\" ><label for=\"sk-estimator-id-10\" class=\"sk-toggleable__label sk-toggleable__label-arrow\">GridSearchCV</label><div class=\"sk-toggleable__content\"><pre>GridSearchCV(cv=3,\n",
       "             estimator=StepMix(measurement=&#x27;binary&#x27;, n_components=10,\n",
       "                               random_state=123),\n",
       "             param_grid={&#x27;n_components&#x27;: [2, 3, 4, 5, 6, 7, 8, 9, 10, 11, 12]})</pre></div></div></div><div class=\"sk-parallel\"><div class=\"sk-parallel-item\"><div class=\"sk-item\"><div class=\"sk-label-container\"><div class=\"sk-label sk-toggleable\"><input class=\"sk-toggleable__control sk-hidden--visually\" id=\"sk-estimator-id-11\" type=\"checkbox\" ><label for=\"sk-estimator-id-11\" class=\"sk-toggleable__label sk-toggleable__label-arrow\">estimator: StepMix</label><div class=\"sk-toggleable__content\"><pre>StepMix(measurement=&#x27;binary&#x27;, n_components=10, random_state=123)</pre></div></div></div><div class=\"sk-serial\"><div class=\"sk-item\"><div class=\"sk-estimator sk-toggleable\"><input class=\"sk-toggleable__control sk-hidden--visually\" id=\"sk-estimator-id-12\" type=\"checkbox\" ><label for=\"sk-estimator-id-12\" class=\"sk-toggleable__label sk-toggleable__label-arrow\">StepMix</label><div class=\"sk-toggleable__content\"><pre>StepMix(measurement=&#x27;binary&#x27;, n_components=10, random_state=123)</pre></div></div></div></div></div></div></div></div></div></div>"
      ],
      "text/plain": [
       "GridSearchCV(cv=3,\n",
       "             estimator=StepMix(measurement='binary', n_components=10,\n",
       "                               random_state=123),\n",
       "             param_grid={'n_components': [2, 3, 4, 5, 6, 7, 8, 9, 10, 11, 12]})"
      ]
     },
     "execution_count": 100,
     "metadata": {},
     "output_type": "execute_result"
    }
   ],
   "source": [
    "grid = {\n",
    "    'n_components': [ 2,3, 4,5, 6, 7, 8, 9, 10,11,12],\n",
    "}\n",
    "\n",
    "# no gaussians or whatever, so n_steps can just be 1 \n",
    "\n",
    "gs = GridSearchCV(estimator=model, cv=3, param_grid=grid, verbose=0)\n",
    "gs.fit(sympdf)\n",
    "\n"
   ]
  },
  {
   "cell_type": "code",
   "execution_count": 101,
   "metadata": {},
   "outputs": [],
   "source": [
    "results = pd.DataFrame(gs.cv_results_)\n",
    "results[\"Val. Log Likelihood\"] = results['mean_test_score']"
   ]
  },
  {
   "cell_type": "code",
   "execution_count": 102,
   "metadata": {},
   "outputs": [],
   "source": [
    "results_old = results.copy()"
   ]
  },
  {
   "cell_type": "code",
   "execution_count": 103,
   "metadata": {},
   "outputs": [
    {
     "name": "stderr",
     "output_type": "stream",
     "text": [
      "/var/folders/_j/9fb8r7hn7zx13rt7glsw4j3h0000gn/T/ipykernel_98740/1270231869.py:2: UserWarning: Ignoring `palette` because no `hue` variable has been assigned.\n",
      "  sns.lineplot(data=results, x='param_n_components', y='Val. Log Likelihood',\n"
     ]
    },
    {
     "data": {
      "text/plain": [
       "<Axes: xlabel='param_n_components', ylabel='Val. Log Likelihood'>"
      ]
     },
     "execution_count": 103,
     "metadata": {},
     "output_type": "execute_result"
    },
    {
     "data": {
      "image/png": "[encoded data removed]",
      "text/plain": [
       "<Figure size 640x480 with 1 Axes>"
      ]
     },
     "metadata": {},
     "output_type": "display_data"
    }
   ],
   "source": [
    "sns.set_style(\"darkgrid\")\n",
    "sns.lineplot(data=results, x='param_n_components', y='Val. Log Likelihood',\n",
    "              palette='Dark2')"
   ]
  },
  {
   "cell_type": "code",
   "execution_count": 104,
   "metadata": {},
   "outputs": [],
   "source": [
    "%%capture\n",
    "results = dict(param_n_components=[], aic=[], bic=[])\n",
    "\n",
    "# Same model and grid as above\n",
    "for g in ParameterGrid(grid):\n",
    "    model.set_params(**g)\n",
    "    model.fit(sympdf)\n",
    "    results['param_n_components'].append(g['n_components'])\n",
    "    results['aic'].append(model.aic(sympdf))\n",
    "    results['bic'].append(model.bic(sympdf))\n",
    "\n",
    "# Save results to a dataframe\n",
    "results = pd.DataFrame(results)"
   ]
  },
  {
   "cell_type": "code",
   "execution_count": 105,
   "metadata": {},
   "outputs": [
    {
     "name": "stderr",
     "output_type": "stream",
     "text": [
      "/var/folders/_j/9fb8r7hn7zx13rt7glsw4j3h0000gn/T/ipykernel_98740/63445388.py:1: UserWarning: Ignoring `palette` because no `hue` variable has been assigned.\n",
      "  sns.lineplot(data=results, x='param_n_components', y='aic',\n"
     ]
    },
    {
     "data": {
      "text/plain": [
       "<Axes: xlabel='param_n_components', ylabel='aic'>"
      ]
     },
     "execution_count": 105,
     "metadata": {},
     "output_type": "execute_result"
    },
    {
     "data": {
      "image/png": "[encoded data removed]",
      "text/plain": [
       "<Figure size 640x480 with 1 Axes>"
      ]
     },
     "metadata": {},
     "output_type": "display_data"
    }
   ],
   "source": [
    "sns.lineplot(data=results, x='param_n_components', y='aic',\n",
    "             palette='Dark2')"
   ]
  },
  {
   "cell_type": "code",
   "execution_count": 106,
   "metadata": {},
   "outputs": [
    {
     "name": "stderr",
     "output_type": "stream",
     "text": [
      "/var/folders/_j/9fb8r7hn7zx13rt7glsw4j3h0000gn/T/ipykernel_98740/2943425988.py:1: UserWarning: Ignoring `palette` because no `hue` variable has been assigned.\n",
      "  sns.lineplot(data=results, x='param_n_components', y='bic',\n"
     ]
    },
    {
     "data": {
      "text/plain": [
       "<Axes: xlabel='param_n_components', ylabel='bic'>"
      ]
     },
     "execution_count": 106,
     "metadata": {},
     "output_type": "execute_result"
    },
    {
     "data": {
      "image/png": "[encoded data removed]",
      "text/plain": [
       "<Figure size 640x480 with 1 Axes>"
      ]
     },
     "metadata": {},
     "output_type": "display_data"
    }
   ],
   "source": [
    "sns.lineplot(data=results, x='param_n_components', y='bic',\n",
    "            palette='Dark2')"
   ]
  },
  {
   "cell_type": "markdown",
   "metadata": {},
   "source": [
    "What we observe: "
   ]
  },
  {
   "cell_type": "markdown",
   "metadata": {},
   "source": [
    "What we observe: "
   ]
  },
  {
   "cell_type": "code",
   "execution_count": 64,
   "metadata": {},
   "outputs": [
    {
     "name": "stderr",
     "output_type": "stream",
     "text": [
      "/Users/tessa/miniforge3/envs/stepmix/lib/python3.12/site-packages/stepmix/stepmix.py:1173: FutureWarning: The provided callable <function mean at 0x111c2e8e0> is currently using DataFrameGroupBy.mean. In a future version of pandas, the provided callable will be used directly. To keep current behavior pass the string \"mean\" instead.\n",
      "  return pd.pivot_table(\n"
     ]
    }
   ],
   "source": [
    "mm = model.get_mm_df()\n"
   ]
  },
  {
   "cell_type": "code",
   "execution_count": 65,
   "metadata": {},
   "outputs": [],
   "source": [
    "mm = mm.reset_index()\n"
   ]
  },
  {
   "cell_type": "code",
   "execution_count": 66,
   "metadata": {},
   "outputs": [],
   "source": [
    "mm  = mm.drop(\"model_name\",axis=1)\n",
    "mm  = mm.drop(\"param\",axis=1)\n"
   ]
  },
  {
   "cell_type": "code",
   "execution_count": 67,
   "metadata": {},
   "outputs": [],
   "source": [
    "mm.index=mm['variable']"
   ]
  },
  {
   "cell_type": "code",
   "execution_count": 82,
   "metadata": {},
   "outputs": [
    {
     "name": "stdout",
     "output_type": "stream",
     "text": [
      "Index(['Symptom_Fatigue', 'Symptom_PEM', 'Symptom_Memory_short',\n",
      "       'Symptom_Shortness_of_breath',\n",
      "       'Symptom_Cognitive_Functioning_attentionconcentration',\n",
      "       'Symptom_Muscle_aches', 'Symptom_Insomnia',\n",
      "       'Symptom_Tightness_of_chest', 'Symptom_Dizziness_vertigo',\n",
      "       'Symptom_Elevated_temp'],\n",
      "      dtype='object', name='variable')\n",
      "Index(['Symptom_Fatigue', 'Symptom_PEM', 'Symptom_Memory_short',\n",
      "       'Symptom_Dizziness_vertigo', 'Symptom_Muscle_aches', 'Symptom_Insomnia',\n",
      "       'Symptom_Cognitive_Functioning_attentionconcentration',\n",
      "       'Symptom_Shortness_of_breath', 'Symptom_Tightness_of_chest',\n",
      "       'Symptom_Heart_palpitations'],\n",
      "      dtype='object', name='variable')\n",
      "Index(['Symptom_Fatigue', 'Symptom_PEM', 'Symptom_Memory_short',\n",
      "       'Symptom_Insomnia', 'Symptom_Heart_palpitations',\n",
      "       'Symptom_Dizziness_vertigo', 'Symptom_Tightness_of_chest',\n",
      "       'Symptom_Sensations_tingling_prickling', 'Symptom_Shortness_of_breath',\n",
      "       'Symptom_Tachycardia'],\n",
      "      dtype='object', name='variable')\n",
      "Index(['Symptom_Memory_short', 'Symptom_Fatigue', 'Symptom_PEM',\n",
      "       'Symptom_Dry_cough', 'Symptom_Shortness_of_breath',\n",
      "       'Symptom_Loss_of_smell', 'Symptom_Tightness_of_chest',\n",
      "       'Symptom_Cognitive_Functioning_attentionconcentration',\n",
      "       'Symptom_Loss_of_taste', 'Symptom_Muscle_aches'],\n",
      "      dtype='object', name='variable')\n",
      "Index(['Symptom_Fatigue', 'Symptom_Speech_difficulty_finding_words',\n",
      "       'Symptom_PEM', 'Symptom_Cognitive_Functioning_attentionconcentration',\n",
      "       'Symptom_Memory_short', 'Symptom_Cognitive_Functioning_thinking',\n",
      "       'Symptom_Cognitive_Functioning_executive',\n",
      "       'Symptom_Cognitive_Functioning_problemsolving',\n",
      "       'Symptom_Dizziness_vertigo', 'Symptom_Shortness_of_breath'],\n",
      "      dtype='object', name='variable')\n",
      "Index(['Symptom_Fatigue', 'Symptom_Memory_short', 'Symptom_PEM',\n",
      "       'Symptom_Shortness_of_breath', 'Symptom_Insomnia',\n",
      "       'Symptom_Tightness_of_chest', 'Symptom_Heart_palpitations',\n",
      "       'Symptom_Dry_cough', 'Symptom_Muscle_aches',\n",
      "       'Symptom_Cognitive_Functioning_attentionconcentration'],\n",
      "      dtype='object', name='variable')\n",
      "Index(['Symptom_Fatigue', 'Symptom_PEM',\n",
      "       'Symptom_Cognitive_Functioning_attentionconcentration',\n",
      "       'Symptom_Cognitive_Functioning_thinking',\n",
      "       'Symptom_Speech_difficulty_finding_words', 'Symptom_Memory_short',\n",
      "       'Symptom_Dizziness_vertigo', 'Symptom_Muscle_aches',\n",
      "       'Symptom_Cognitive_Functioning_executive', 'Symptom_Insomnia'],\n",
      "      dtype='object', name='variable')\n"
     ]
    }
   ],
   "source": [
    "print(mm.sort_values(0,ascending=False).head(10).index)\n",
    "print(mm.sort_values(2,ascending=False).head(10).index)\n",
    "print(mm.sort_values(3,ascending=False).head(10).index)\n",
    "print(mm.sort_values(4,ascending=False).head(10).index)\n",
    "print(mm.sort_values(5,ascending=False).head(10).index)\n",
    "print(mm.sort_values(6,ascending=False).head(10).index)\n",
    "print(mm.sort_values(7,ascending=False).head(10).index)\n"
   ]
  },
  {
   "cell_type": "code",
   "execution_count": 76,
   "metadata": {},
   "outputs": [
    {
     "data": {
      "text/plain": [
       "(array([67., 43., 21., 10.,  6.,  6.,  1.,  3.,  4.,  1.]),\n",
       " array([0.00184612, 0.10152899, 0.20121186, 0.30089473, 0.4005776 ,\n",
       "        0.50026046, 0.59994333, 0.6996262 , 0.79930907, 0.89899194,\n",
       "        0.99867481]),\n",
       " <BarContainer object of 10 artists>)"
      ]
     },
     "execution_count": 76,
     "metadata": {},
     "output_type": "execute_result"
    },
    {
     "data": {
      "image/png": "[encoded data removed]",
      "text/plain": [
       "<Figure size 640x480 with 1 Axes>"
      ]
     },
     "metadata": {},
     "output_type": "display_data"
    }
   ],
   "source": [
    "# seems to be less well behaved with respect to high-frequency symptoms\n",
    "# try filtering exceptionally rare or common symptoms and re-running"
   ]
  },
  {
   "cell_type": "code",
   "execution_count": null,
   "metadata": {},
   "outputs": [],
   "source": []
  }
 ],
 "metadata": {
  "kernelspec": {
   "display_name": "Python 3",
   "language": "python",
   "name": "python3"
  },
  "language_info": {
   "codemirror_mode": {
    "name": "ipython",
    "version": 3
   },
   "file_extension": ".py",
   "mimetype": "text/x-python",
   "name": "python",
   "nbconvert_exporter": "python",
   "pygments_lexer": "ipython3",
   "version": "3.12.0"
  }
 },
 "nbformat": 4,
 "nbformat_minor": 2
}

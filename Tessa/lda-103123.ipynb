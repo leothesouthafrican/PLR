{
 "cells": [
  {
   "cell_type": "markdown",
   "metadata": {},
   "source": [
    "Latent dirichlet allocation"
   ]
  },
  {
   "cell_type": "markdown",
   "metadata": {},
   "source": []
  },
  {
   "cell_type": "code",
   "execution_count": 20,
   "metadata": {},
   "outputs": [],
   "source": [
    "import numpy as np\n",
    "import pandas as pd \n",
    "import matplotlib.pyplot as plt\n",
    "from sklearn.decomposition import LatentDirichletAllocation as LDAmodel"
   ]
  },
  {
   "cell_type": "code",
   "execution_count": 3,
   "metadata": {},
   "outputs": [],
   "source": [
    "df = pd.read_csv(\"../data/cleaned_data_SYMPTOMS_9_13_23.csv\", index_col=0)\n",
    "sympdf = df.loc[:, df.columns.str.startswith('Symptom_')]"
   ]
  },
  {
   "cell_type": "code",
   "execution_count": 42,
   "metadata": {},
   "outputs": [],
   "source": [
    "lda = LDAmodel(n_components=6, random_state=0)"
   ]
  },
  {
   "cell_type": "code",
   "execution_count": 43,
   "metadata": {},
   "outputs": [
    {
     "data": {
      "text/html": [
       "<style>#sk-container-id-5 {color: black;}#sk-container-id-5 pre{padding: 0;}#sk-container-id-5 div.sk-toggleable {background-color: white;}#sk-container-id-5 label.sk-toggleable__label {cursor: pointer;display: block;width: 100%;margin-bottom: 0;padding: 0.3em;box-sizing: border-box;text-align: center;}#sk-container-id-5 label.sk-toggleable__label-arrow:before {content: \"▸\";float: left;margin-right: 0.25em;color: #696969;}#sk-container-id-5 label.sk-toggleable__label-arrow:hover:before {color: black;}#sk-container-id-5 div.sk-estimator:hover label.sk-toggleable__label-arrow:before {color: black;}#sk-container-id-5 div.sk-toggleable__content {max-height: 0;max-width: 0;overflow: hidden;text-align: left;background-color: #f0f8ff;}#sk-container-id-5 div.sk-toggleable__content pre {margin: 0.2em;color: black;border-radius: 0.25em;background-color: #f0f8ff;}#sk-container-id-5 input.sk-toggleable__control:checked~div.sk-toggleable__content {max-height: 200px;max-width: 100%;overflow: auto;}#sk-container-id-5 input.sk-toggleable__control:checked~label.sk-toggleable__label-arrow:before {content: \"▾\";}#sk-container-id-5 div.sk-estimator input.sk-toggleable__control:checked~label.sk-toggleable__label {background-color: #d4ebff;}#sk-container-id-5 div.sk-label input.sk-toggleable__control:checked~label.sk-toggleable__label {background-color: #d4ebff;}#sk-container-id-5 input.sk-hidden--visually {border: 0;clip: rect(1px 1px 1px 1px);clip: rect(1px, 1px, 1px, 1px);height: 1px;margin: -1px;overflow: hidden;padding: 0;position: absolute;width: 1px;}#sk-container-id-5 div.sk-estimator {font-family: monospace;background-color: #f0f8ff;border: 1px dotted black;border-radius: 0.25em;box-sizing: border-box;margin-bottom: 0.5em;}#sk-container-id-5 div.sk-estimator:hover {background-color: #d4ebff;}#sk-container-id-5 div.sk-parallel-item::after {content: \"\";width: 100%;border-bottom: 1px solid gray;flex-grow: 1;}#sk-container-id-5 div.sk-label:hover label.sk-toggleable__label {background-color: #d4ebff;}#sk-container-id-5 div.sk-serial::before {content: \"\";position: absolute;border-left: 1px solid gray;box-sizing: border-box;top: 0;bottom: 0;left: 50%;z-index: 0;}#sk-container-id-5 div.sk-serial {display: flex;flex-direction: column;align-items: center;background-color: white;padding-right: 0.2em;padding-left: 0.2em;position: relative;}#sk-container-id-5 div.sk-item {position: relative;z-index: 1;}#sk-container-id-5 div.sk-parallel {display: flex;align-items: stretch;justify-content: center;background-color: white;position: relative;}#sk-container-id-5 div.sk-item::before, #sk-container-id-5 div.sk-parallel-item::before {content: \"\";position: absolute;border-left: 1px solid gray;box-sizing: border-box;top: 0;bottom: 0;left: 50%;z-index: -1;}#sk-container-id-5 div.sk-parallel-item {display: flex;flex-direction: column;z-index: 1;position: relative;background-color: white;}#sk-container-id-5 div.sk-parallel-item:first-child::after {align-self: flex-end;width: 50%;}#sk-container-id-5 div.sk-parallel-item:last-child::after {align-self: flex-start;width: 50%;}#sk-container-id-5 div.sk-parallel-item:only-child::after {width: 0;}#sk-container-id-5 div.sk-dashed-wrapped {border: 1px dashed gray;margin: 0 0.4em 0.5em 0.4em;box-sizing: border-box;padding-bottom: 0.4em;background-color: white;}#sk-container-id-5 div.sk-label label {font-family: monospace;font-weight: bold;display: inline-block;line-height: 1.2em;}#sk-container-id-5 div.sk-label-container {text-align: center;}#sk-container-id-5 div.sk-container {/* jupyter's `normalize.less` sets `[hidden] { display: none; }` but bootstrap.min.css set `[hidden] { display: none !important; }` so we also need the `!important` here to be able to override the default hidden behavior on the sphinx rendered scikit-learn.org. See: https://github.com/scikit-learn/scikit-learn/issues/21755 */display: inline-block !important;position: relative;}#sk-container-id-5 div.sk-text-repr-fallback {display: none;}</style><div id=\"sk-container-id-5\" class=\"sk-top-container\"><div class=\"sk-text-repr-fallback\"><pre>LatentDirichletAllocation(n_components=6, random_state=0)</pre><b>In a Jupyter environment, please rerun this cell to show the HTML representation or trust the notebook. <br />On GitHub, the HTML representation is unable to render, please try loading this page with nbviewer.org.</b></div><div class=\"sk-container\" hidden><div class=\"sk-item\"><div class=\"sk-estimator sk-toggleable\"><input class=\"sk-toggleable__control sk-hidden--visually\" id=\"sk-estimator-id-5\" type=\"checkbox\" checked><label for=\"sk-estimator-id-5\" class=\"sk-toggleable__label sk-toggleable__label-arrow\">LatentDirichletAllocation</label><div class=\"sk-toggleable__content\"><pre>LatentDirichletAllocation(n_components=6, random_state=0)</pre></div></div></div></div></div>"
      ],
      "text/plain": [
       "LatentDirichletAllocation(n_components=6, random_state=0)"
      ]
     },
     "execution_count": 43,
     "metadata": {},
     "output_type": "execute_result"
    }
   ],
   "source": [
    "# fit the topic model to the data \n",
    "lda.fit(sympdf)"
   ]
  },
  {
   "cell_type": "code",
   "execution_count": 44,
   "metadata": {},
   "outputs": [],
   "source": [
    "x = lda.transform(sympdf)"
   ]
  },
  {
   "cell_type": "code",
   "execution_count": 45,
   "metadata": {},
   "outputs": [
    {
     "data": {
      "text/plain": [
       "(6, 162)"
      ]
     },
     "execution_count": 45,
     "metadata": {},
     "output_type": "execute_result"
    }
   ],
   "source": [
    "lda.components_.shape\n",
    "\n",
    "# have ten components, each with weights for different symptoms"
   ]
  },
  {
   "cell_type": "code",
   "execution_count": 46,
   "metadata": {},
   "outputs": [],
   "source": [
    "# for the first component, list which symptoms have the highest weights\n",
    "# (i.e. are most likely to be observed in a patient with this component)\n",
    "\n",
    "# get the index of the first component\n",
    "comps = lda.components_\n",
    "compsdf = pd.DataFrame(comps, columns=sympdf.columns)"
   ]
  },
  {
   "cell_type": "markdown",
   "metadata": {},
   "source": []
  },
  {
   "cell_type": "code",
   "execution_count": 48,
   "metadata": {},
   "outputs": [
    {
     "name": "stdout",
     "output_type": "stream",
     "text": [
      "['Symptom_Speech_difficulty_finding_words'\n",
      " 'Symptom_Speech_difficulty_communicating_verbally'\n",
      " 'Symptom_Cognitive_Functioning_thinking'\n",
      " 'Symptom_Cognitive_Functioning_executive'\n",
      " 'Symptom_Speech_difficulty_understanding_others_speech'\n",
      " 'Symptom_Speech_difficulty_reading_processing_text'\n",
      " 'Symptom_Cognitive_Functioning_attentionconcentration'\n",
      " 'Symptom_Cognitive_Functioning_problemsolving'\n",
      " 'Symptom_Speech_difficulty_speaking_complete_sentences' 'Symptom_Fatigue']\n",
      "['Symptom_SkinAllergy_itchy_skin' 'Symptom_SkinAllergy_itchy_eyes'\n",
      " 'Symptom_Eye_vision_symptoms' 'Symptom_Sensations_skin_burning_no_rash'\n",
      " 'Symptom_Eye_Vision_blurred_vision' 'Symptom_Skin_rashes'\n",
      " 'Symptom_Chills_flushing_sweats' 'Symptom_Fatigue' 'Symptom_Diarrhea'\n",
      " 'Symptom_Eye_Vision_dry_eyes']\n",
      "['Symptom_Fatigue' 'Symptom_Memory_short' 'Symptom_PEM'\n",
      " 'Symptom_Shortness_of_breath' 'Symptom_Tightness_of_chest'\n",
      " 'Symptom_Dry_cough'\n",
      " 'Symptom_Cognitive_Functioning_attentionconcentration'\n",
      " 'Symptom_Heart_palpitations' 'Symptom_Sore_throat' 'Symptom_Muscle_aches']\n",
      "['Symptom_Loss_of_smell' 'Symptom_Loss_of_taste' 'Symptom_Fatigue'\n",
      " 'Symptom_Memory_short' 'Symptom_Altered_smell' 'Symptom_Altered_taste'\n",
      " 'Symptom_Phantom_smell' 'Symptom_Insomnia' 'Symptom_PEM'\n",
      " 'Symptom_Dry_cough']\n",
      "['Symptom_Phantom_smell' 'Symptom_Speech_difficulty_finding_words'\n",
      " 'Symptom_Ear_sensitivity_to_noise'\n",
      " 'Symptom_Cognitive_Functioning_problemsolving'\n",
      " 'Symptom_Cognitive_Functioning_thinking'\n",
      " 'Symptom_Eye_Vision_sensitivity_to_light' 'Symptom_Altered_taste'\n",
      " 'Symptom_Memory_long' 'Symptom_Cognitive_Functioning_executive'\n",
      " 'Symptom_Eye_Vision_blurred_vision']\n",
      "['Symptom_Insomnia' 'Symptom_Sensations_tingling_prickling'\n",
      " 'Symptom_Fatigue' 'Symptom_Headaches_brain_pressure'\n",
      " 'Symptom_Memory_short' 'Symptom_PEM'\n",
      " 'Symptom_Sensations_skin_burning_no_rash' 'Symptom_Vibrating_sensations'\n",
      " 'Symptom_Dizziness_vertigo' 'Symptom_Heart_palpitations']\n"
     ]
    }
   ],
   "source": [
    "# for each row of compsdf print the top ten symptoms\n",
    "for i in range(0, compsdf.shape[0]):\n",
    "    print(compsdf.iloc[i].sort_values(ascending=False)[0:10].index.values)"
   ]
  },
  {
   "cell_type": "code",
   "execution_count": null,
   "metadata": {},
   "outputs": [],
   "source": []
  },
  {
   "cell_type": "code",
   "execution_count": null,
   "metadata": {},
   "outputs": [],
   "source": [
    "# plot bar charts by symptom of the top symptoms for each, as in the sklearn documentation"
   ]
  },
  {
   "cell_type": "code",
   "execution_count": null,
   "metadata": {},
   "outputs": [],
   "source": [
    "# transform the patients into topic space and look at patterns, how do they correspond to the known diagnoses? "
   ]
  },
  {
   "cell_type": "code",
   "execution_count": null,
   "metadata": {},
   "outputs": [],
   "source": [
    "# try varying the different parameters of the model and see how the results change"
   ]
  }
 ],
 "metadata": {
  "kernelspec": {
   "display_name": "nimfa",
   "language": "python",
   "name": "nimfa"
  },
  "language_info": {
   "codemirror_mode": {
    "name": "ipython",
    "version": 3
   },
   "file_extension": ".py",
   "mimetype": "text/x-python",
   "name": "python",
   "nbconvert_exporter": "python",
   "pygments_lexer": "ipython3",
   "version": "3.11.6"
  },
  "orig_nbformat": 4
 },
 "nbformat": 4,
 "nbformat_minor": 2
}

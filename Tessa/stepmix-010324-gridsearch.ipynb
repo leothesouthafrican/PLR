{
 "cells": [
  {
   "cell_type": "code",
   "execution_count": 1,
   "metadata": {},
   "outputs": [],
   "source": [
    "from stepmix.stepmix import StepMix\n",
    "import pandas as pd\n",
    "import numpy as np\n",
    "\n",
    "from sklearn.model_selection import GridSearchCV, ParameterGrid\n",
    "\n",
    "import matplotlib.pyplot as plt\n",
    "import seaborn as sns\n",
    "\n",
    "import pickle as pkl\n",
    "\n",
    "from scipy.spatial.distance import squareform\n"
   ]
  },
  {
   "cell_type": "code",
   "execution_count": 2,
   "metadata": {},
   "outputs": [],
   "source": [
    "def investigate_comp(comp, resdf):\n",
    "    def avg_cols(df, cols):\n",
    "        return df[cols].mean(axis=1)\n",
    "    comp_list = list(range(0,resdf.shape[1]))\n",
    "    comp_list.remove(comp)\n",
    "    other_pts = avg_cols(resdf,comp_list)\n",
    "    return resdf[comp] - other_pts\n",
    "    "
   ]
  },
  {
   "cell_type": "code",
   "execution_count": 3,
   "metadata": {},
   "outputs": [
    {
     "data": {
      "text/plain": [
       "(6031, 162)"
      ]
     },
     "execution_count": 3,
     "metadata": {},
     "output_type": "execute_result"
    }
   ],
   "source": [
    "df = pd.read_csv(\"../data/cleaned_data_SYMPTOMS_9_13_23.csv\", index_col=0)\n",
    "sympdf = df.loc[:, df.columns.str.startswith('Symptom_')]\n",
    "sympdf.shape"
   ]
  },
  {
   "cell_type": "code",
   "execution_count": 4,
   "metadata": {},
   "outputs": [],
   "source": [
    "# the formal rec might be 10% but I think I'm going to go with 5% for now\n",
    "sympdf = sympdf.loc[:, (sympdf.sum() / sympdf.shape[0] > 0.05) & (sympdf.sum()  / sympdf.shape[0]< 0.95)]"
   ]
  },
  {
   "cell_type": "code",
   "execution_count": 5,
   "metadata": {},
   "outputs": [
    {
     "data": {
      "text/plain": [
       "(6031, 147)"
      ]
     },
     "execution_count": 5,
     "metadata": {},
     "output_type": "execute_result"
    }
   ],
   "source": [
    "sympdf.shape"
   ]
  },
  {
   "cell_type": "code",
   "execution_count": 6,
   "metadata": {},
   "outputs": [],
   "source": [
    "# patient is a mixture of classes but it's meant to represent probs rather than actual multiple class labels\n",
    "# so this model is less complex, but it might still be more appropriate, it'll depend\n",
    "\n",
    "model = StepMix(n_components=9, measurement=\"binary\", verbose=0, random_state=321)\n"
   ]
  },
  {
   "cell_type": "code",
   "execution_count": 7,
   "metadata": {},
   "outputs": [
    {
     "name": "stdout",
     "output_type": "stream",
     "text": [
      "Fitting StepMix...\n"
     ]
    },
    {
     "name": "stderr",
     "output_type": "stream",
     "text": [
      "Initializations (n_init) :   0%|          | 0/1 [00:00<?, ?it/s]"
     ]
    },
    {
     "name": "stderr",
     "output_type": "stream",
     "text": [
      "Initializations (n_init) : 100%|██████████| 1/1 [00:03<00:00,  3.38s/it, max_LL=-4.1e+5, max_avg_LL=-68]\n"
     ]
    },
    {
     "data": {
      "text/html": [
       "<style>#sk-container-id-1 {color: black;}#sk-container-id-1 pre{padding: 0;}#sk-container-id-1 div.sk-toggleable {background-color: white;}#sk-container-id-1 label.sk-toggleable__label {cursor: pointer;display: block;width: 100%;margin-bottom: 0;padding: 0.3em;box-sizing: border-box;text-align: center;}#sk-container-id-1 label.sk-toggleable__label-arrow:before {content: \"▸\";float: left;margin-right: 0.25em;color: #696969;}#sk-container-id-1 label.sk-toggleable__label-arrow:hover:before {color: black;}#sk-container-id-1 div.sk-estimator:hover label.sk-toggleable__label-arrow:before {color: black;}#sk-container-id-1 div.sk-toggleable__content {max-height: 0;max-width: 0;overflow: hidden;text-align: left;background-color: #f0f8ff;}#sk-container-id-1 div.sk-toggleable__content pre {margin: 0.2em;color: black;border-radius: 0.25em;background-color: #f0f8ff;}#sk-container-id-1 input.sk-toggleable__control:checked~div.sk-toggleable__content {max-height: 200px;max-width: 100%;overflow: auto;}#sk-container-id-1 input.sk-toggleable__control:checked~label.sk-toggleable__label-arrow:before {content: \"▾\";}#sk-container-id-1 div.sk-estimator input.sk-toggleable__control:checked~label.sk-toggleable__label {background-color: #d4ebff;}#sk-container-id-1 div.sk-label input.sk-toggleable__control:checked~label.sk-toggleable__label {background-color: #d4ebff;}#sk-container-id-1 input.sk-hidden--visually {border: 0;clip: rect(1px 1px 1px 1px);clip: rect(1px, 1px, 1px, 1px);height: 1px;margin: -1px;overflow: hidden;padding: 0;position: absolute;width: 1px;}#sk-container-id-1 div.sk-estimator {font-family: monospace;background-color: #f0f8ff;border: 1px dotted black;border-radius: 0.25em;box-sizing: border-box;margin-bottom: 0.5em;}#sk-container-id-1 div.sk-estimator:hover {background-color: #d4ebff;}#sk-container-id-1 div.sk-parallel-item::after {content: \"\";width: 100%;border-bottom: 1px solid gray;flex-grow: 1;}#sk-container-id-1 div.sk-label:hover label.sk-toggleable__label {background-color: #d4ebff;}#sk-container-id-1 div.sk-serial::before {content: \"\";position: absolute;border-left: 1px solid gray;box-sizing: border-box;top: 0;bottom: 0;left: 50%;z-index: 0;}#sk-container-id-1 div.sk-serial {display: flex;flex-direction: column;align-items: center;background-color: white;padding-right: 0.2em;padding-left: 0.2em;position: relative;}#sk-container-id-1 div.sk-item {position: relative;z-index: 1;}#sk-container-id-1 div.sk-parallel {display: flex;align-items: stretch;justify-content: center;background-color: white;position: relative;}#sk-container-id-1 div.sk-item::before, #sk-container-id-1 div.sk-parallel-item::before {content: \"\";position: absolute;border-left: 1px solid gray;box-sizing: border-box;top: 0;bottom: 0;left: 50%;z-index: -1;}#sk-container-id-1 div.sk-parallel-item {display: flex;flex-direction: column;z-index: 1;position: relative;background-color: white;}#sk-container-id-1 div.sk-parallel-item:first-child::after {align-self: flex-end;width: 50%;}#sk-container-id-1 div.sk-parallel-item:last-child::after {align-self: flex-start;width: 50%;}#sk-container-id-1 div.sk-parallel-item:only-child::after {width: 0;}#sk-container-id-1 div.sk-dashed-wrapped {border: 1px dashed gray;margin: 0 0.4em 0.5em 0.4em;box-sizing: border-box;padding-bottom: 0.4em;background-color: white;}#sk-container-id-1 div.sk-label label {font-family: monospace;font-weight: bold;display: inline-block;line-height: 1.2em;}#sk-container-id-1 div.sk-label-container {text-align: center;}#sk-container-id-1 div.sk-container {/* jupyter's `normalize.less` sets `[hidden] { display: none; }` but bootstrap.min.css set `[hidden] { display: none !important; }` so we also need the `!important` here to be able to override the default hidden behavior on the sphinx rendered scikit-learn.org. See: https://github.com/scikit-learn/scikit-learn/issues/21755 */display: inline-block !important;position: relative;}#sk-container-id-1 div.sk-text-repr-fallback {display: none;}</style><div id=\"sk-container-id-1\" class=\"sk-top-container\"><div class=\"sk-text-repr-fallback\"><pre>StepMix(measurement=&#x27;binary&#x27;, n_components=9, random_state=321)</pre><b>In a Jupyter environment, please rerun this cell to show the HTML representation or trust the notebook. <br />On GitHub, the HTML representation is unable to render, please try loading this page with nbviewer.org.</b></div><div class=\"sk-container\" hidden><div class=\"sk-item\"><div class=\"sk-estimator sk-toggleable\"><input class=\"sk-toggleable__control sk-hidden--visually\" id=\"sk-estimator-id-1\" type=\"checkbox\" checked><label for=\"sk-estimator-id-1\" class=\"sk-toggleable__label sk-toggleable__label-arrow\">StepMix</label><div class=\"sk-toggleable__content\"><pre>StepMix(measurement=&#x27;binary&#x27;, n_components=9, random_state=321)</pre></div></div></div></div></div>"
      ],
      "text/plain": [
       "StepMix(measurement='binary', n_components=9, random_state=321)"
      ]
     },
     "execution_count": 7,
     "metadata": {},
     "output_type": "execute_result"
    }
   ],
   "source": [
    "model.fit(sympdf)\n"
   ]
  },
  {
   "cell_type": "code",
   "execution_count": 8,
   "metadata": {},
   "outputs": [],
   "source": [
    "grid = {\n",
    "    'n_components': [ 2,3, 4,5, 6, 7, 8, 9, 10,11,12,13,14,15,16,17,18,19,20,21,22,23,24,25],\n",
    "}\n",
    "\n",
    "\n",
    "\n"
   ]
  },
  {
   "cell_type": "code",
   "execution_count": 291,
   "metadata": {},
   "outputs": [],
   "source": [
    "def get_best_params(randomstate ):\n",
    "    model = StepMix(n_components=9, measurement=\"binary\", verbose=0, random_state=randomstate)\n",
    "\n",
    "    results = dict(param_n_components=[], aic=[], bic=[])\n",
    "\n",
    "    # Same model and grid as above\n",
    "    for g in ParameterGrid(grid):\n",
    "        model.set_params(**g)\n",
    "        model.fit(sympdf)\n",
    "        results['param_n_components'].append(g['n_components'])\n",
    "        results['aic'].append(model.aic(sympdf))\n",
    "        results['bic'].append(model.bic(sympdf))\n",
    "\n",
    "    # Save results to a dataframe\n",
    "    results = pd.DataFrame(results)\n",
    "    return(results.iloc[results['bic'].idxmin()]['param_n_components'])\n"
   ]
  },
  {
   "cell_type": "code",
   "execution_count": 292,
   "metadata": {},
   "outputs": [
    {
     "name": "stdout",
     "output_type": "stream",
     "text": [
      "Fitting StepMix...\n"
     ]
    },
    {
     "name": "stderr",
     "output_type": "stream",
     "text": [
      "Initializations (n_init) : 100%|██████████| 1/1 [00:00<00:00,  3.20it/s, max_LL=-4.31e+5, max_avg_LL=-71.5]\n"
     ]
    },
    {
     "name": "stdout",
     "output_type": "stream",
     "text": [
      "Fitting StepMix...\n"
     ]
    },
    {
     "name": "stderr",
     "output_type": "stream",
     "text": [
      "Initializations (n_init) : 100%|██████████| 1/1 [00:00<00:00,  2.64it/s, max_LL=-4.22e+5, max_avg_LL=-70]\n"
     ]
    },
    {
     "name": "stdout",
     "output_type": "stream",
     "text": [
      "Fitting StepMix...\n"
     ]
    },
    {
     "name": "stderr",
     "output_type": "stream",
     "text": [
      "Initializations (n_init) : 100%|██████████| 1/1 [00:00<00:00,  2.73it/s, max_LL=-4.18e+5, max_avg_LL=-69.3]\n"
     ]
    },
    {
     "name": "stdout",
     "output_type": "stream",
     "text": [
      "Fitting StepMix...\n"
     ]
    },
    {
     "name": "stderr",
     "output_type": "stream",
     "text": [
      "Initializations (n_init) : 100%|██████████| 1/1 [00:01<00:00,  1.46s/it, max_LL=-4.15e+5, max_avg_LL=-68.9]\n"
     ]
    },
    {
     "name": "stdout",
     "output_type": "stream",
     "text": [
      "Fitting StepMix...\n"
     ]
    },
    {
     "name": "stderr",
     "output_type": "stream",
     "text": [
      "Initializations (n_init) : 100%|██████████| 1/1 [00:01<00:00,  1.10s/it, max_LL=-4.13e+5, max_avg_LL=-68.6]\n"
     ]
    },
    {
     "name": "stdout",
     "output_type": "stream",
     "text": [
      "Fitting StepMix...\n"
     ]
    },
    {
     "name": "stderr",
     "output_type": "stream",
     "text": [
      "Initializations (n_init) : 100%|██████████| 1/1 [00:01<00:00,  1.89s/it, max_LL=-4.12e+5, max_avg_LL=-68.3]\n"
     ]
    },
    {
     "name": "stdout",
     "output_type": "stream",
     "text": [
      "Fitting StepMix...\n"
     ]
    },
    {
     "name": "stderr",
     "output_type": "stream",
     "text": [
      "Initializations (n_init) : 100%|██████████| 1/1 [00:02<00:00,  2.53s/it, max_LL=-4.11e+5, max_avg_LL=-68.2]\n"
     ]
    },
    {
     "name": "stdout",
     "output_type": "stream",
     "text": [
      "Fitting StepMix...\n"
     ]
    },
    {
     "name": "stderr",
     "output_type": "stream",
     "text": [
      "Initializations (n_init) : 100%|██████████| 1/1 [00:03<00:00,  3.51s/it, max_LL=-4.1e+5, max_avg_LL=-68]\n"
     ]
    },
    {
     "name": "stdout",
     "output_type": "stream",
     "text": [
      "Fitting StepMix...\n"
     ]
    },
    {
     "name": "stderr",
     "output_type": "stream",
     "text": [
      "Initializations (n_init) : 100%|██████████| 1/1 [00:02<00:00,  2.45s/it, max_LL=-4.09e+5, max_avg_LL=-67.9]\n"
     ]
    },
    {
     "name": "stdout",
     "output_type": "stream",
     "text": [
      "Fitting StepMix...\n"
     ]
    },
    {
     "name": "stderr",
     "output_type": "stream",
     "text": [
      "Initializations (n_init) : 100%|██████████| 1/1 [00:04<00:00,  4.49s/it, max_LL=-4.09e+5, max_avg_LL=-67.8]\n"
     ]
    },
    {
     "name": "stdout",
     "output_type": "stream",
     "text": [
      "Fitting StepMix...\n"
     ]
    },
    {
     "name": "stderr",
     "output_type": "stream",
     "text": [
      "Initializations (n_init) : 100%|██████████| 1/1 [00:03<00:00,  3.35s/it, max_LL=-4.08e+5, max_avg_LL=-67.7]\n"
     ]
    },
    {
     "name": "stdout",
     "output_type": "stream",
     "text": [
      "Fitting StepMix...\n"
     ]
    },
    {
     "name": "stderr",
     "output_type": "stream",
     "text": [
      "Initializations (n_init) : 100%|██████████| 1/1 [00:04<00:00,  4.54s/it, max_LL=-4.07e+5, max_avg_LL=-67.5]\n"
     ]
    },
    {
     "name": "stdout",
     "output_type": "stream",
     "text": [
      "Fitting StepMix...\n"
     ]
    },
    {
     "name": "stderr",
     "output_type": "stream",
     "text": [
      "Initializations (n_init) : 100%|██████████| 1/1 [00:06<00:00,  6.64s/it, max_LL=-4.06e+5, max_avg_LL=-67.4]\n"
     ]
    },
    {
     "name": "stdout",
     "output_type": "stream",
     "text": [
      "Fitting StepMix...\n"
     ]
    },
    {
     "name": "stderr",
     "output_type": "stream",
     "text": [
      "Initializations (n_init) : 100%|██████████| 1/1 [00:08<00:00,  8.83s/it, max_LL=-4.06e+5, max_avg_LL=-67.3]\n"
     ]
    },
    {
     "name": "stdout",
     "output_type": "stream",
     "text": [
      "Fitting StepMix...\n"
     ]
    },
    {
     "name": "stderr",
     "output_type": "stream",
     "text": [
      "Initializations (n_init) : 100%|██████████| 1/1 [00:09<00:00,  9.11s/it, max_LL=-4.05e+5, max_avg_LL=-67.2]\n"
     ]
    },
    {
     "name": "stdout",
     "output_type": "stream",
     "text": [
      "Fitting StepMix...\n"
     ]
    },
    {
     "name": "stderr",
     "output_type": "stream",
     "text": [
      "Initializations (n_init) : 100%|██████████| 1/1 [00:16<00:00, 16.33s/it, max_LL=-4.05e+5, max_avg_LL=-67.1]\n",
      "/Users/tessa/miniforge3/envs/stepmix/lib/python3.12/site-packages/stepmix/stepmix.py:968: ConvergenceWarning: Initializations did not converge. Try different init parameters, or increase max_iter, abs_tol, rel_tol or check for degenerate data.\n",
      "  warnings.warn(\n"
     ]
    },
    {
     "name": "stdout",
     "output_type": "stream",
     "text": [
      "Fitting StepMix...\n"
     ]
    },
    {
     "name": "stderr",
     "output_type": "stream",
     "text": [
      "Initializations (n_init) : 100%|██████████| 1/1 [00:09<00:00,  9.11s/it, max_LL=-4.04e+5, max_avg_LL=-67]\n"
     ]
    },
    {
     "name": "stdout",
     "output_type": "stream",
     "text": [
      "Fitting StepMix...\n"
     ]
    },
    {
     "name": "stderr",
     "output_type": "stream",
     "text": [
      "Initializations (n_init) : 100%|██████████| 1/1 [00:05<00:00,  5.73s/it, max_LL=-4.04e+5, max_avg_LL=-67]\n"
     ]
    },
    {
     "name": "stdout",
     "output_type": "stream",
     "text": [
      "Fitting StepMix...\n"
     ]
    },
    {
     "name": "stderr",
     "output_type": "stream",
     "text": [
      "Initializations (n_init) : 100%|██████████| 1/1 [00:05<00:00,  5.10s/it, max_LL=-4.03e+5, max_avg_LL=-66.9]\n"
     ]
    },
    {
     "name": "stdout",
     "output_type": "stream",
     "text": [
      "Fitting StepMix...\n"
     ]
    },
    {
     "name": "stderr",
     "output_type": "stream",
     "text": [
      "Initializations (n_init) : 100%|██████████| 1/1 [00:14<00:00, 14.92s/it, max_LL=-4.03e+5, max_avg_LL=-66.8]\n"
     ]
    },
    {
     "name": "stdout",
     "output_type": "stream",
     "text": [
      "Fitting StepMix...\n"
     ]
    },
    {
     "name": "stderr",
     "output_type": "stream",
     "text": [
      "Initializations (n_init) : 100%|██████████| 1/1 [00:06<00:00,  6.11s/it, max_LL=-4.03e+5, max_avg_LL=-66.8]\n"
     ]
    },
    {
     "name": "stdout",
     "output_type": "stream",
     "text": [
      "Fitting StepMix...\n"
     ]
    },
    {
     "name": "stderr",
     "output_type": "stream",
     "text": [
      "Initializations (n_init) : 100%|██████████| 1/1 [00:14<00:00, 14.66s/it, max_LL=-4.02e+5, max_avg_LL=-66.7]\n"
     ]
    },
    {
     "name": "stdout",
     "output_type": "stream",
     "text": [
      "Fitting StepMix...\n"
     ]
    },
    {
     "name": "stderr",
     "output_type": "stream",
     "text": [
      "Initializations (n_init) : 100%|██████████| 1/1 [00:12<00:00, 12.47s/it, max_LL=-4.02e+5, max_avg_LL=-66.6]\n"
     ]
    },
    {
     "name": "stdout",
     "output_type": "stream",
     "text": [
      "Fitting StepMix...\n"
     ]
    },
    {
     "name": "stderr",
     "output_type": "stream",
     "text": [
      "Initializations (n_init) : 100%|██████████| 1/1 [00:12<00:00, 12.30s/it, max_LL=-4.01e+5, max_avg_LL=-66.6]\n",
      "/Users/tessa/miniforge3/envs/stepmix/lib/python3.12/site-packages/stepmix/stepmix.py:968: ConvergenceWarning: Initializations did not converge. Try different init parameters, or increase max_iter, abs_tol, rel_tol or check for degenerate data.\n",
      "  warnings.warn(\n"
     ]
    },
    {
     "data": {
      "text/plain": [
       "14.0"
      ]
     },
     "execution_count": 292,
     "metadata": {},
     "output_type": "execute_result"
    }
   ],
   "source": [
    "get_best_params(132)"
   ]
  },
  {
   "cell_type": "code",
   "execution_count": 293,
   "metadata": {},
   "outputs": [
    {
     "name": "stdout",
     "output_type": "stream",
     "text": [
      "Fitting StepMix...\n"
     ]
    },
    {
     "name": "stderr",
     "output_type": "stream",
     "text": [
      "Initializations (n_init) : 100%|██████████| 1/1 [00:00<00:00,  3.74it/s, max_LL=-4.31e+5, max_avg_LL=-71.5]\n"
     ]
    },
    {
     "name": "stdout",
     "output_type": "stream",
     "text": [
      "Fitting StepMix...\n"
     ]
    },
    {
     "name": "stderr",
     "output_type": "stream",
     "text": [
      "Initializations (n_init) : 100%|██████████| 1/1 [00:00<00:00,  2.57it/s, max_LL=-4.22e+5, max_avg_LL=-70]\n"
     ]
    },
    {
     "name": "stdout",
     "output_type": "stream",
     "text": [
      "Fitting StepMix...\n"
     ]
    },
    {
     "name": "stderr",
     "output_type": "stream",
     "text": [
      "Initializations (n_init) : 100%|██████████| 1/1 [00:00<00:00,  1.99it/s, max_LL=-4.18e+5, max_avg_LL=-69.3]\n"
     ]
    },
    {
     "name": "stdout",
     "output_type": "stream",
     "text": [
      "Fitting StepMix...\n"
     ]
    },
    {
     "name": "stderr",
     "output_type": "stream",
     "text": [
      "Initializations (n_init) : 100%|██████████| 1/1 [00:00<00:00,  1.03it/s, max_LL=-4.15e+5, max_avg_LL=-68.9]\n"
     ]
    },
    {
     "name": "stdout",
     "output_type": "stream",
     "text": [
      "Fitting StepMix...\n"
     ]
    },
    {
     "name": "stderr",
     "output_type": "stream",
     "text": [
      "Initializations (n_init) : 100%|██████████| 1/1 [00:01<00:00,  1.46s/it, max_LL=-4.13e+5, max_avg_LL=-68.6]\n"
     ]
    },
    {
     "name": "stdout",
     "output_type": "stream",
     "text": [
      "Fitting StepMix...\n"
     ]
    },
    {
     "name": "stderr",
     "output_type": "stream",
     "text": [
      "Initializations (n_init) : 100%|██████████| 1/1 [00:01<00:00,  1.29s/it, max_LL=-4.12e+5, max_avg_LL=-68.3]\n"
     ]
    },
    {
     "name": "stdout",
     "output_type": "stream",
     "text": [
      "Fitting StepMix...\n"
     ]
    },
    {
     "name": "stderr",
     "output_type": "stream",
     "text": [
      "Initializations (n_init) : 100%|██████████| 1/1 [00:01<00:00,  1.99s/it, max_LL=-4.11e+5, max_avg_LL=-68.2]\n"
     ]
    },
    {
     "name": "stdout",
     "output_type": "stream",
     "text": [
      "Fitting StepMix...\n"
     ]
    },
    {
     "name": "stderr",
     "output_type": "stream",
     "text": [
      "Initializations (n_init) : 100%|██████████| 1/1 [00:04<00:00,  4.64s/it, max_LL=-4.1e+5, max_avg_LL=-68]\n"
     ]
    },
    {
     "name": "stdout",
     "output_type": "stream",
     "text": [
      "Fitting StepMix...\n"
     ]
    },
    {
     "name": "stderr",
     "output_type": "stream",
     "text": [
      "Initializations (n_init) : 100%|██████████| 1/1 [00:01<00:00,  1.82s/it, max_LL=-4.09e+5, max_avg_LL=-67.8]\n"
     ]
    },
    {
     "name": "stdout",
     "output_type": "stream",
     "text": [
      "Fitting StepMix...\n"
     ]
    },
    {
     "name": "stderr",
     "output_type": "stream",
     "text": [
      "Initializations (n_init) : 100%|██████████| 1/1 [00:06<00:00,  6.61s/it, max_LL=-4.09e+5, max_avg_LL=-67.7]\n"
     ]
    },
    {
     "name": "stdout",
     "output_type": "stream",
     "text": [
      "Fitting StepMix...\n"
     ]
    },
    {
     "name": "stderr",
     "output_type": "stream",
     "text": [
      "Initializations (n_init) : 100%|██████████| 1/1 [00:05<00:00,  5.18s/it, max_LL=-4.08e+5, max_avg_LL=-67.6]\n"
     ]
    },
    {
     "name": "stdout",
     "output_type": "stream",
     "text": [
      "Fitting StepMix...\n"
     ]
    },
    {
     "name": "stderr",
     "output_type": "stream",
     "text": [
      "Initializations (n_init) : 100%|██████████| 1/1 [00:08<00:00,  8.17s/it, max_LL=-4.07e+5, max_avg_LL=-67.5]\n",
      "/Users/tessa/miniforge3/envs/stepmix/lib/python3.12/site-packages/stepmix/stepmix.py:968: ConvergenceWarning: Initializations did not converge. Try different init parameters, or increase max_iter, abs_tol, rel_tol or check for degenerate data.\n",
      "  warnings.warn(\n"
     ]
    },
    {
     "name": "stdout",
     "output_type": "stream",
     "text": [
      "Fitting StepMix...\n"
     ]
    },
    {
     "name": "stderr",
     "output_type": "stream",
     "text": [
      "Initializations (n_init) : 100%|██████████| 1/1 [00:05<00:00,  5.77s/it, max_LL=-4.07e+5, max_avg_LL=-67.4]\n"
     ]
    },
    {
     "name": "stdout",
     "output_type": "stream",
     "text": [
      "Fitting StepMix...\n"
     ]
    },
    {
     "name": "stderr",
     "output_type": "stream",
     "text": [
      "Initializations (n_init) : 100%|██████████| 1/1 [00:05<00:00,  5.43s/it, max_LL=-4.06e+5, max_avg_LL=-67.3]\n"
     ]
    },
    {
     "name": "stdout",
     "output_type": "stream",
     "text": [
      "Fitting StepMix...\n"
     ]
    },
    {
     "name": "stderr",
     "output_type": "stream",
     "text": [
      "Initializations (n_init) : 100%|██████████| 1/1 [00:08<00:00,  8.86s/it, max_LL=-4.05e+5, max_avg_LL=-67.2]\n"
     ]
    },
    {
     "name": "stdout",
     "output_type": "stream",
     "text": [
      "Fitting StepMix...\n"
     ]
    },
    {
     "name": "stderr",
     "output_type": "stream",
     "text": [
      "Initializations (n_init) : 100%|██████████| 1/1 [00:09<00:00,  9.22s/it, max_LL=-4.05e+5, max_avg_LL=-67.1]\n"
     ]
    },
    {
     "name": "stdout",
     "output_type": "stream",
     "text": [
      "Fitting StepMix...\n"
     ]
    },
    {
     "name": "stderr",
     "output_type": "stream",
     "text": [
      "Initializations (n_init) : 100%|██████████| 1/1 [00:04<00:00,  4.01s/it, max_LL=-4.04e+5, max_avg_LL=-67]\n"
     ]
    },
    {
     "name": "stdout",
     "output_type": "stream",
     "text": [
      "Fitting StepMix...\n"
     ]
    },
    {
     "name": "stderr",
     "output_type": "stream",
     "text": [
      "Initializations (n_init) : 100%|██████████| 1/1 [00:04<00:00,  4.66s/it, max_LL=-4.04e+5, max_avg_LL=-67]\n"
     ]
    },
    {
     "name": "stdout",
     "output_type": "stream",
     "text": [
      "Fitting StepMix...\n"
     ]
    },
    {
     "name": "stderr",
     "output_type": "stream",
     "text": [
      "Initializations (n_init) : 100%|██████████| 1/1 [00:07<00:00,  7.47s/it, max_LL=-4.03e+5, max_avg_LL=-66.9]\n"
     ]
    },
    {
     "name": "stdout",
     "output_type": "stream",
     "text": [
      "Fitting StepMix...\n"
     ]
    },
    {
     "name": "stderr",
     "output_type": "stream",
     "text": [
      "Initializations (n_init) : 100%|██████████| 1/1 [00:11<00:00, 11.38s/it, max_LL=-4.03e+5, max_avg_LL=-66.8]\n"
     ]
    },
    {
     "name": "stdout",
     "output_type": "stream",
     "text": [
      "Fitting StepMix...\n"
     ]
    },
    {
     "name": "stderr",
     "output_type": "stream",
     "text": [
      "Initializations (n_init) : 100%|██████████| 1/1 [00:06<00:00,  6.65s/it, max_LL=-4.03e+5, max_avg_LL=-66.8]\n"
     ]
    },
    {
     "name": "stdout",
     "output_type": "stream",
     "text": [
      "Fitting StepMix...\n"
     ]
    },
    {
     "name": "stderr",
     "output_type": "stream",
     "text": [
      "Initializations (n_init) : 100%|██████████| 1/1 [00:10<00:00, 10.95s/it, max_LL=-4.02e+5, max_avg_LL=-66.7]\n"
     ]
    },
    {
     "name": "stdout",
     "output_type": "stream",
     "text": [
      "Fitting StepMix...\n"
     ]
    },
    {
     "name": "stderr",
     "output_type": "stream",
     "text": [
      "Initializations (n_init) : 100%|██████████| 1/1 [00:04<00:00,  4.91s/it, max_LL=-4.02e+5, max_avg_LL=-66.6]\n"
     ]
    },
    {
     "name": "stdout",
     "output_type": "stream",
     "text": [
      "Fitting StepMix...\n"
     ]
    },
    {
     "name": "stderr",
     "output_type": "stream",
     "text": [
      "Initializations (n_init) : 100%|██████████| 1/1 [00:13<00:00, 13.31s/it, max_LL=-4.02e+5, max_avg_LL=-66.6]\n",
      "/Users/tessa/miniforge3/envs/stepmix/lib/python3.12/site-packages/stepmix/stepmix.py:968: ConvergenceWarning: Initializations did not converge. Try different init parameters, or increase max_iter, abs_tol, rel_tol or check for degenerate data.\n",
      "  warnings.warn(\n"
     ]
    },
    {
     "name": "stdout",
     "output_type": "stream",
     "text": [
      "Fitting StepMix...\n"
     ]
    },
    {
     "name": "stderr",
     "output_type": "stream",
     "text": [
      "Initializations (n_init) : 100%|██████████| 1/1 [00:00<00:00,  5.71it/s, max_LL=-4.31e+5, max_avg_LL=-71.5]\n"
     ]
    },
    {
     "name": "stdout",
     "output_type": "stream",
     "text": [
      "Fitting StepMix...\n"
     ]
    },
    {
     "name": "stderr",
     "output_type": "stream",
     "text": [
      "Initializations (n_init) : 100%|██████████| 1/1 [00:00<00:00,  1.70it/s, max_LL=-4.22e+5, max_avg_LL=-70]\n"
     ]
    },
    {
     "name": "stdout",
     "output_type": "stream",
     "text": [
      "Fitting StepMix...\n"
     ]
    },
    {
     "name": "stderr",
     "output_type": "stream",
     "text": [
      "Initializations (n_init) : 100%|██████████| 1/1 [00:00<00:00,  1.77it/s, max_LL=-4.18e+5, max_avg_LL=-69.3]\n"
     ]
    },
    {
     "name": "stdout",
     "output_type": "stream",
     "text": [
      "Fitting StepMix...\n"
     ]
    },
    {
     "name": "stderr",
     "output_type": "stream",
     "text": [
      "Initializations (n_init) : 100%|██████████| 1/1 [00:01<00:00,  1.43s/it, max_LL=-4.15e+5, max_avg_LL=-68.9]\n"
     ]
    },
    {
     "name": "stdout",
     "output_type": "stream",
     "text": [
      "Fitting StepMix...\n"
     ]
    },
    {
     "name": "stderr",
     "output_type": "stream",
     "text": [
      "Initializations (n_init) : 100%|██████████| 1/1 [00:01<00:00,  1.46s/it, max_LL=-4.13e+5, max_avg_LL=-68.6]\n"
     ]
    },
    {
     "name": "stdout",
     "output_type": "stream",
     "text": [
      "Fitting StepMix...\n"
     ]
    },
    {
     "name": "stderr",
     "output_type": "stream",
     "text": [
      "Initializations (n_init) : 100%|██████████| 1/1 [00:01<00:00,  1.68s/it, max_LL=-4.12e+5, max_avg_LL=-68.3]\n"
     ]
    },
    {
     "name": "stdout",
     "output_type": "stream",
     "text": [
      "Fitting StepMix...\n"
     ]
    },
    {
     "name": "stderr",
     "output_type": "stream",
     "text": [
      "Initializations (n_init) : 100%|██████████| 1/1 [00:01<00:00,  1.43s/it, max_LL=-4.11e+5, max_avg_LL=-68.2]\n"
     ]
    },
    {
     "name": "stdout",
     "output_type": "stream",
     "text": [
      "Fitting StepMix...\n"
     ]
    },
    {
     "name": "stderr",
     "output_type": "stream",
     "text": [
      "Initializations (n_init) : 100%|██████████| 1/1 [00:03<00:00,  3.59s/it, max_LL=-4.1e+5, max_avg_LL=-68]\n"
     ]
    },
    {
     "name": "stdout",
     "output_type": "stream",
     "text": [
      "Fitting StepMix...\n"
     ]
    },
    {
     "name": "stderr",
     "output_type": "stream",
     "text": [
      "Initializations (n_init) : 100%|██████████| 1/1 [00:01<00:00,  1.53s/it, max_LL=-4.09e+5, max_avg_LL=-67.9]\n"
     ]
    },
    {
     "name": "stdout",
     "output_type": "stream",
     "text": [
      "Fitting StepMix...\n"
     ]
    },
    {
     "name": "stderr",
     "output_type": "stream",
     "text": [
      "Initializations (n_init) : 100%|██████████| 1/1 [00:03<00:00,  3.24s/it, max_LL=-4.09e+5, max_avg_LL=-67.8]\n"
     ]
    },
    {
     "name": "stdout",
     "output_type": "stream",
     "text": [
      "Fitting StepMix...\n"
     ]
    },
    {
     "name": "stderr",
     "output_type": "stream",
     "text": [
      "Initializations (n_init) : 100%|██████████| 1/1 [00:05<00:00,  5.83s/it, max_LL=-4.08e+5, max_avg_LL=-67.6]\n"
     ]
    },
    {
     "name": "stdout",
     "output_type": "stream",
     "text": [
      "Fitting StepMix...\n"
     ]
    },
    {
     "name": "stderr",
     "output_type": "stream",
     "text": [
      "Initializations (n_init) : 100%|██████████| 1/1 [00:02<00:00,  2.97s/it, max_LL=-4.07e+5, max_avg_LL=-67.5]\n"
     ]
    },
    {
     "name": "stdout",
     "output_type": "stream",
     "text": [
      "Fitting StepMix...\n"
     ]
    },
    {
     "name": "stderr",
     "output_type": "stream",
     "text": [
      "Initializations (n_init) : 100%|██████████| 1/1 [00:03<00:00,  3.32s/it, max_LL=-4.07e+5, max_avg_LL=-67.4]\n"
     ]
    },
    {
     "name": "stdout",
     "output_type": "stream",
     "text": [
      "Fitting StepMix...\n"
     ]
    },
    {
     "name": "stderr",
     "output_type": "stream",
     "text": [
      "Initializations (n_init) : 100%|██████████| 1/1 [00:06<00:00,  6.87s/it, max_LL=-4.06e+5, max_avg_LL=-67.3]\n"
     ]
    },
    {
     "name": "stdout",
     "output_type": "stream",
     "text": [
      "Fitting StepMix...\n"
     ]
    },
    {
     "name": "stderr",
     "output_type": "stream",
     "text": [
      "Initializations (n_init) : 100%|██████████| 1/1 [00:07<00:00,  7.57s/it, max_LL=-4.05e+5, max_avg_LL=-67.2]\n"
     ]
    },
    {
     "name": "stdout",
     "output_type": "stream",
     "text": [
      "Fitting StepMix...\n"
     ]
    },
    {
     "name": "stderr",
     "output_type": "stream",
     "text": [
      "Initializations (n_init) : 100%|██████████| 1/1 [00:09<00:00,  9.11s/it, max_LL=-4.05e+5, max_avg_LL=-67.1]\n"
     ]
    },
    {
     "name": "stdout",
     "output_type": "stream",
     "text": [
      "Fitting StepMix...\n"
     ]
    },
    {
     "name": "stderr",
     "output_type": "stream",
     "text": [
      "Initializations (n_init) : 100%|██████████| 1/1 [00:07<00:00,  7.58s/it, max_LL=-4.04e+5, max_avg_LL=-67]\n"
     ]
    },
    {
     "name": "stdout",
     "output_type": "stream",
     "text": [
      "Fitting StepMix...\n"
     ]
    },
    {
     "name": "stderr",
     "output_type": "stream",
     "text": [
      "Initializations (n_init) : 100%|██████████| 1/1 [00:06<00:00,  6.22s/it, max_LL=-4.04e+5, max_avg_LL=-67]\n"
     ]
    },
    {
     "name": "stdout",
     "output_type": "stream",
     "text": [
      "Fitting StepMix...\n"
     ]
    },
    {
     "name": "stderr",
     "output_type": "stream",
     "text": [
      "Initializations (n_init) : 100%|██████████| 1/1 [00:13<00:00, 14.00s/it, max_LL=-4.03e+5, max_avg_LL=-66.9]\n",
      "/Users/tessa/miniforge3/envs/stepmix/lib/python3.12/site-packages/stepmix/stepmix.py:968: ConvergenceWarning: Initializations did not converge. Try different init parameters, or increase max_iter, abs_tol, rel_tol or check for degenerate data.\n",
      "  warnings.warn(\n"
     ]
    },
    {
     "name": "stdout",
     "output_type": "stream",
     "text": [
      "Fitting StepMix...\n"
     ]
    },
    {
     "name": "stderr",
     "output_type": "stream",
     "text": [
      "Initializations (n_init) : 100%|██████████| 1/1 [00:08<00:00,  8.82s/it, max_LL=-4.03e+5, max_avg_LL=-66.8]\n"
     ]
    },
    {
     "name": "stdout",
     "output_type": "stream",
     "text": [
      "Fitting StepMix...\n"
     ]
    },
    {
     "name": "stderr",
     "output_type": "stream",
     "text": [
      "Initializations (n_init) : 100%|██████████| 1/1 [00:09<00:00,  9.82s/it, max_LL=-4.03e+5, max_avg_LL=-66.8]\n"
     ]
    },
    {
     "name": "stdout",
     "output_type": "stream",
     "text": [
      "Fitting StepMix...\n"
     ]
    },
    {
     "name": "stderr",
     "output_type": "stream",
     "text": [
      "Initializations (n_init) : 100%|██████████| 1/1 [00:13<00:00, 13.20s/it, max_LL=-4.02e+5, max_avg_LL=-66.7]\n",
      "/Users/tessa/miniforge3/envs/stepmix/lib/python3.12/site-packages/stepmix/stepmix.py:968: ConvergenceWarning: Initializations did not converge. Try different init parameters, or increase max_iter, abs_tol, rel_tol or check for degenerate data.\n",
      "  warnings.warn(\n"
     ]
    },
    {
     "name": "stdout",
     "output_type": "stream",
     "text": [
      "Fitting StepMix...\n"
     ]
    },
    {
     "name": "stderr",
     "output_type": "stream",
     "text": [
      "Initializations (n_init) : 100%|██████████| 1/1 [00:06<00:00,  6.86s/it, max_LL=-4.02e+5, max_avg_LL=-66.7]\n"
     ]
    },
    {
     "name": "stdout",
     "output_type": "stream",
     "text": [
      "Fitting StepMix...\n"
     ]
    },
    {
     "name": "stderr",
     "output_type": "stream",
     "text": [
      "Initializations (n_init) : 100%|██████████| 1/1 [00:07<00:00,  7.64s/it, max_LL=-4.02e+5, max_avg_LL=-66.6]\n"
     ]
    },
    {
     "name": "stdout",
     "output_type": "stream",
     "text": [
      "Fitting StepMix...\n"
     ]
    },
    {
     "name": "stderr",
     "output_type": "stream",
     "text": [
      "Initializations (n_init) : 100%|██████████| 1/1 [00:00<00:00,  5.97it/s, max_LL=-4.31e+5, max_avg_LL=-71.5]\n"
     ]
    },
    {
     "name": "stdout",
     "output_type": "stream",
     "text": [
      "Fitting StepMix...\n"
     ]
    },
    {
     "name": "stderr",
     "output_type": "stream",
     "text": [
      "Initializations (n_init) : 100%|██████████| 1/1 [00:00<00:00,  2.99it/s, max_LL=-4.22e+5, max_avg_LL=-70]\n"
     ]
    },
    {
     "name": "stdout",
     "output_type": "stream",
     "text": [
      "Fitting StepMix...\n"
     ]
    },
    {
     "name": "stderr",
     "output_type": "stream",
     "text": [
      "Initializations (n_init) : 100%|██████████| 1/1 [00:00<00:00,  2.02it/s, max_LL=-4.19e+5, max_avg_LL=-69.5]\n"
     ]
    },
    {
     "name": "stdout",
     "output_type": "stream",
     "text": [
      "Fitting StepMix...\n"
     ]
    },
    {
     "name": "stderr",
     "output_type": "stream",
     "text": [
      "Initializations (n_init) : 100%|██████████| 1/1 [00:01<00:00,  1.20s/it, max_LL=-4.15e+5, max_avg_LL=-68.9]\n"
     ]
    },
    {
     "name": "stdout",
     "output_type": "stream",
     "text": [
      "Fitting StepMix...\n"
     ]
    },
    {
     "name": "stderr",
     "output_type": "stream",
     "text": [
      "Initializations (n_init) : 100%|██████████| 1/1 [00:04<00:00,  4.92s/it, max_LL=-4.13e+5, max_avg_LL=-68.6]\n"
     ]
    },
    {
     "name": "stdout",
     "output_type": "stream",
     "text": [
      "Fitting StepMix...\n"
     ]
    },
    {
     "name": "stderr",
     "output_type": "stream",
     "text": [
      "Initializations (n_init) : 100%|██████████| 1/1 [00:01<00:00,  1.25s/it, max_LL=-4.12e+5, max_avg_LL=-68.3]\n"
     ]
    },
    {
     "name": "stdout",
     "output_type": "stream",
     "text": [
      "Fitting StepMix...\n"
     ]
    },
    {
     "name": "stderr",
     "output_type": "stream",
     "text": [
      "Initializations (n_init) : 100%|██████████| 1/1 [00:01<00:00,  1.23s/it, max_LL=-4.11e+5, max_avg_LL=-68.2]\n"
     ]
    },
    {
     "name": "stdout",
     "output_type": "stream",
     "text": [
      "Fitting StepMix...\n"
     ]
    },
    {
     "name": "stderr",
     "output_type": "stream",
     "text": [
      "Initializations (n_init) : 100%|██████████| 1/1 [00:03<00:00,  3.37s/it, max_LL=-4.1e+5, max_avg_LL=-68]\n"
     ]
    },
    {
     "name": "stdout",
     "output_type": "stream",
     "text": [
      "Fitting StepMix...\n"
     ]
    },
    {
     "name": "stderr",
     "output_type": "stream",
     "text": [
      "Initializations (n_init) : 100%|██████████| 1/1 [00:01<00:00,  1.88s/it, max_LL=-4.09e+5, max_avg_LL=-67.9]\n"
     ]
    },
    {
     "name": "stdout",
     "output_type": "stream",
     "text": [
      "Fitting StepMix...\n"
     ]
    },
    {
     "name": "stderr",
     "output_type": "stream",
     "text": [
      "Initializations (n_init) : 100%|██████████| 1/1 [00:03<00:00,  3.83s/it, max_LL=-4.08e+5, max_avg_LL=-67.7]\n"
     ]
    },
    {
     "name": "stdout",
     "output_type": "stream",
     "text": [
      "Fitting StepMix...\n"
     ]
    },
    {
     "name": "stderr",
     "output_type": "stream",
     "text": [
      "Initializations (n_init) : 100%|██████████| 1/1 [00:09<00:00,  9.86s/it, max_LL=-4.08e+5, max_avg_LL=-67.6]\n",
      "/Users/tessa/miniforge3/envs/stepmix/lib/python3.12/site-packages/stepmix/stepmix.py:968: ConvergenceWarning: Initializations did not converge. Try different init parameters, or increase max_iter, abs_tol, rel_tol or check for degenerate data.\n",
      "  warnings.warn(\n"
     ]
    },
    {
     "name": "stdout",
     "output_type": "stream",
     "text": [
      "Fitting StepMix...\n"
     ]
    },
    {
     "name": "stderr",
     "output_type": "stream",
     "text": [
      "Initializations (n_init) : 100%|██████████| 1/1 [00:02<00:00,  2.95s/it, max_LL=-4.07e+5, max_avg_LL=-67.5]\n"
     ]
    },
    {
     "name": "stdout",
     "output_type": "stream",
     "text": [
      "Fitting StepMix...\n"
     ]
    },
    {
     "name": "stderr",
     "output_type": "stream",
     "text": [
      "Initializations (n_init) : 100%|██████████| 1/1 [00:05<00:00,  5.44s/it, max_LL=-4.06e+5, max_avg_LL=-67.4]\n"
     ]
    },
    {
     "name": "stdout",
     "output_type": "stream",
     "text": [
      "Fitting StepMix...\n"
     ]
    },
    {
     "name": "stderr",
     "output_type": "stream",
     "text": [
      "Initializations (n_init) : 100%|██████████| 1/1 [00:06<00:00,  6.96s/it, max_LL=-4.06e+5, max_avg_LL=-67.3]\n"
     ]
    },
    {
     "name": "stdout",
     "output_type": "stream",
     "text": [
      "Fitting StepMix...\n"
     ]
    },
    {
     "name": "stderr",
     "output_type": "stream",
     "text": [
      "Initializations (n_init) : 100%|██████████| 1/1 [00:06<00:00,  6.07s/it, max_LL=-4.05e+5, max_avg_LL=-67.2]\n"
     ]
    },
    {
     "name": "stdout",
     "output_type": "stream",
     "text": [
      "Fitting StepMix...\n"
     ]
    },
    {
     "name": "stderr",
     "output_type": "stream",
     "text": [
      "Initializations (n_init) : 100%|██████████| 1/1 [00:09<00:00,  9.10s/it, max_LL=-4.05e+5, max_avg_LL=-67.1]\n"
     ]
    },
    {
     "name": "stdout",
     "output_type": "stream",
     "text": [
      "Fitting StepMix...\n"
     ]
    },
    {
     "name": "stderr",
     "output_type": "stream",
     "text": [
      "Initializations (n_init) : 100%|██████████| 1/1 [00:06<00:00,  6.60s/it, max_LL=-4.04e+5, max_avg_LL=-67]\n"
     ]
    },
    {
     "name": "stdout",
     "output_type": "stream",
     "text": [
      "Fitting StepMix...\n"
     ]
    },
    {
     "name": "stderr",
     "output_type": "stream",
     "text": [
      "Initializations (n_init) : 100%|██████████| 1/1 [00:06<00:00,  6.71s/it, max_LL=-4.04e+5, max_avg_LL=-67]\n"
     ]
    },
    {
     "name": "stdout",
     "output_type": "stream",
     "text": [
      "Fitting StepMix...\n"
     ]
    },
    {
     "name": "stderr",
     "output_type": "stream",
     "text": [
      "Initializations (n_init) : 100%|██████████| 1/1 [00:06<00:00,  6.33s/it, max_LL=-4.03e+5, max_avg_LL=-66.9]\n"
     ]
    },
    {
     "name": "stdout",
     "output_type": "stream",
     "text": [
      "Fitting StepMix...\n"
     ]
    },
    {
     "name": "stderr",
     "output_type": "stream",
     "text": [
      "Initializations (n_init) : 100%|██████████| 1/1 [00:14<00:00, 14.45s/it, max_LL=-4.03e+5, max_avg_LL=-66.8]\n",
      "/Users/tessa/miniforge3/envs/stepmix/lib/python3.12/site-packages/stepmix/stepmix.py:968: ConvergenceWarning: Initializations did not converge. Try different init parameters, or increase max_iter, abs_tol, rel_tol or check for degenerate data.\n",
      "  warnings.warn(\n"
     ]
    },
    {
     "name": "stdout",
     "output_type": "stream",
     "text": [
      "Fitting StepMix...\n"
     ]
    },
    {
     "name": "stderr",
     "output_type": "stream",
     "text": [
      "Initializations (n_init) : 100%|██████████| 1/1 [00:04<00:00,  4.48s/it, max_LL=-4.03e+5, max_avg_LL=-66.8]\n"
     ]
    },
    {
     "name": "stdout",
     "output_type": "stream",
     "text": [
      "Fitting StepMix...\n"
     ]
    },
    {
     "name": "stderr",
     "output_type": "stream",
     "text": [
      "Initializations (n_init) : 100%|██████████| 1/1 [00:05<00:00,  5.90s/it, max_LL=-4.02e+5, max_avg_LL=-66.7]\n"
     ]
    },
    {
     "name": "stdout",
     "output_type": "stream",
     "text": [
      "Fitting StepMix...\n"
     ]
    },
    {
     "name": "stderr",
     "output_type": "stream",
     "text": [
      "Initializations (n_init) : 100%|██████████| 1/1 [00:06<00:00,  6.57s/it, max_LL=-4.02e+5, max_avg_LL=-66.6]\n"
     ]
    },
    {
     "name": "stdout",
     "output_type": "stream",
     "text": [
      "Fitting StepMix...\n"
     ]
    },
    {
     "name": "stderr",
     "output_type": "stream",
     "text": [
      "Initializations (n_init) : 100%|██████████| 1/1 [00:08<00:00,  8.08s/it, max_LL=-4.02e+5, max_avg_LL=-66.6]\n"
     ]
    },
    {
     "name": "stdout",
     "output_type": "stream",
     "text": [
      "Fitting StepMix...\n"
     ]
    },
    {
     "name": "stderr",
     "output_type": "stream",
     "text": [
      "Initializations (n_init) : 100%|██████████| 1/1 [00:00<00:00,  6.32it/s, max_LL=-4.31e+5, max_avg_LL=-71.5]\n"
     ]
    },
    {
     "name": "stdout",
     "output_type": "stream",
     "text": [
      "Fitting StepMix...\n"
     ]
    },
    {
     "name": "stderr",
     "output_type": "stream",
     "text": [
      "Initializations (n_init) : 100%|██████████| 1/1 [00:00<00:00,  2.43it/s, max_LL=-4.22e+5, max_avg_LL=-70]\n"
     ]
    },
    {
     "name": "stdout",
     "output_type": "stream",
     "text": [
      "Fitting StepMix...\n"
     ]
    },
    {
     "name": "stderr",
     "output_type": "stream",
     "text": [
      "Initializations (n_init) : 100%|██████████| 1/1 [00:00<00:00,  2.69it/s, max_LL=-4.18e+5, max_avg_LL=-69.3]\n"
     ]
    },
    {
     "name": "stdout",
     "output_type": "stream",
     "text": [
      "Fitting StepMix...\n"
     ]
    },
    {
     "name": "stderr",
     "output_type": "stream",
     "text": [
      "Initializations (n_init) : 100%|██████████| 1/1 [00:00<00:00,  1.07it/s, max_LL=-4.15e+5, max_avg_LL=-68.9]\n"
     ]
    },
    {
     "name": "stdout",
     "output_type": "stream",
     "text": [
      "Fitting StepMix...\n"
     ]
    },
    {
     "name": "stderr",
     "output_type": "stream",
     "text": [
      "Initializations (n_init) : 100%|██████████| 1/1 [00:01<00:00,  1.20s/it, max_LL=-4.13e+5, max_avg_LL=-68.6]\n"
     ]
    },
    {
     "name": "stdout",
     "output_type": "stream",
     "text": [
      "Fitting StepMix...\n"
     ]
    },
    {
     "name": "stderr",
     "output_type": "stream",
     "text": [
      "Initializations (n_init) : 100%|██████████| 1/1 [00:01<00:00,  1.43s/it, max_LL=-4.12e+5, max_avg_LL=-68.3]\n"
     ]
    },
    {
     "name": "stdout",
     "output_type": "stream",
     "text": [
      "Fitting StepMix...\n"
     ]
    },
    {
     "name": "stderr",
     "output_type": "stream",
     "text": [
      "Initializations (n_init) : 100%|██████████| 1/1 [00:01<00:00,  1.53s/it, max_LL=-4.11e+5, max_avg_LL=-68.2]\n"
     ]
    },
    {
     "name": "stdout",
     "output_type": "stream",
     "text": [
      "Fitting StepMix...\n"
     ]
    },
    {
     "name": "stderr",
     "output_type": "stream",
     "text": [
      "Initializations (n_init) : 100%|██████████| 1/1 [00:03<00:00,  3.02s/it, max_LL=-4.1e+5, max_avg_LL=-68]\n"
     ]
    },
    {
     "name": "stdout",
     "output_type": "stream",
     "text": [
      "Fitting StepMix...\n"
     ]
    },
    {
     "name": "stderr",
     "output_type": "stream",
     "text": [
      "Initializations (n_init) : 100%|██████████| 1/1 [00:02<00:00,  2.75s/it, max_LL=-4.09e+5, max_avg_LL=-67.9]\n"
     ]
    },
    {
     "name": "stdout",
     "output_type": "stream",
     "text": [
      "Fitting StepMix...\n"
     ]
    },
    {
     "name": "stderr",
     "output_type": "stream",
     "text": [
      "Initializations (n_init) : 100%|██████████| 1/1 [00:05<00:00,  5.23s/it, max_LL=-4.09e+5, max_avg_LL=-67.7]\n"
     ]
    },
    {
     "name": "stdout",
     "output_type": "stream",
     "text": [
      "Fitting StepMix...\n"
     ]
    },
    {
     "name": "stderr",
     "output_type": "stream",
     "text": [
      "Initializations (n_init) : 100%|██████████| 1/1 [00:04<00:00,  4.71s/it, max_LL=-4.08e+5, max_avg_LL=-67.6]\n"
     ]
    },
    {
     "name": "stdout",
     "output_type": "stream",
     "text": [
      "Fitting StepMix...\n"
     ]
    },
    {
     "name": "stderr",
     "output_type": "stream",
     "text": [
      "Initializations (n_init) : 100%|██████████| 1/1 [00:05<00:00,  5.16s/it, max_LL=-4.07e+5, max_avg_LL=-67.5]\n"
     ]
    },
    {
     "name": "stdout",
     "output_type": "stream",
     "text": [
      "Fitting StepMix...\n"
     ]
    },
    {
     "name": "stderr",
     "output_type": "stream",
     "text": [
      "Initializations (n_init) : 100%|██████████| 1/1 [00:04<00:00,  4.98s/it, max_LL=-4.07e+5, max_avg_LL=-67.4]\n"
     ]
    },
    {
     "name": "stdout",
     "output_type": "stream",
     "text": [
      "Fitting StepMix...\n"
     ]
    },
    {
     "name": "stderr",
     "output_type": "stream",
     "text": [
      "Initializations (n_init) : 100%|██████████| 1/1 [00:06<00:00,  6.21s/it, max_LL=-4.06e+5, max_avg_LL=-67.3]\n"
     ]
    },
    {
     "name": "stdout",
     "output_type": "stream",
     "text": [
      "Fitting StepMix...\n"
     ]
    },
    {
     "name": "stderr",
     "output_type": "stream",
     "text": [
      "Initializations (n_init) : 100%|██████████| 1/1 [00:05<00:00,  5.23s/it, max_LL=-4.05e+5, max_avg_LL=-67.2]\n"
     ]
    },
    {
     "name": "stdout",
     "output_type": "stream",
     "text": [
      "Fitting StepMix...\n"
     ]
    },
    {
     "name": "stderr",
     "output_type": "stream",
     "text": [
      "Initializations (n_init) : 100%|██████████| 1/1 [00:05<00:00,  5.27s/it, max_LL=-4.05e+5, max_avg_LL=-67.1]\n"
     ]
    },
    {
     "name": "stdout",
     "output_type": "stream",
     "text": [
      "Fitting StepMix...\n"
     ]
    },
    {
     "name": "stderr",
     "output_type": "stream",
     "text": [
      "Initializations (n_init) : 100%|██████████| 1/1 [00:07<00:00,  7.89s/it, max_LL=-4.04e+5, max_avg_LL=-67]\n"
     ]
    },
    {
     "name": "stdout",
     "output_type": "stream",
     "text": [
      "Fitting StepMix...\n"
     ]
    },
    {
     "name": "stderr",
     "output_type": "stream",
     "text": [
      "Initializations (n_init) : 100%|██████████| 1/1 [00:05<00:00,  5.82s/it, max_LL=-4.04e+5, max_avg_LL=-67]\n"
     ]
    },
    {
     "name": "stdout",
     "output_type": "stream",
     "text": [
      "Fitting StepMix...\n"
     ]
    },
    {
     "name": "stderr",
     "output_type": "stream",
     "text": [
      "Initializations (n_init) : 100%|██████████| 1/1 [00:12<00:00, 12.16s/it, max_LL=-4.03e+5, max_avg_LL=-66.9]\n"
     ]
    },
    {
     "name": "stdout",
     "output_type": "stream",
     "text": [
      "Fitting StepMix...\n"
     ]
    },
    {
     "name": "stderr",
     "output_type": "stream",
     "text": [
      "Initializations (n_init) : 100%|██████████| 1/1 [00:07<00:00,  7.70s/it, max_LL=-4.03e+5, max_avg_LL=-66.8]\n"
     ]
    },
    {
     "name": "stdout",
     "output_type": "stream",
     "text": [
      "Fitting StepMix...\n"
     ]
    },
    {
     "name": "stderr",
     "output_type": "stream",
     "text": [
      "Initializations (n_init) : 100%|██████████| 1/1 [00:13<00:00, 13.04s/it, max_LL=-4.03e+5, max_avg_LL=-66.8]\n",
      "/Users/tessa/miniforge3/envs/stepmix/lib/python3.12/site-packages/stepmix/stepmix.py:968: ConvergenceWarning: Initializations did not converge. Try different init parameters, or increase max_iter, abs_tol, rel_tol or check for degenerate data.\n",
      "  warnings.warn(\n"
     ]
    },
    {
     "name": "stdout",
     "output_type": "stream",
     "text": [
      "Fitting StepMix...\n"
     ]
    },
    {
     "name": "stderr",
     "output_type": "stream",
     "text": [
      "Initializations (n_init) : 100%|██████████| 1/1 [00:11<00:00, 11.43s/it, max_LL=-4.02e+5, max_avg_LL=-66.7]\n"
     ]
    },
    {
     "name": "stdout",
     "output_type": "stream",
     "text": [
      "Fitting StepMix...\n"
     ]
    },
    {
     "name": "stderr",
     "output_type": "stream",
     "text": [
      "Initializations (n_init) : 100%|██████████| 1/1 [00:09<00:00,  9.34s/it, max_LL=-4.02e+5, max_avg_LL=-66.6]\n"
     ]
    },
    {
     "name": "stdout",
     "output_type": "stream",
     "text": [
      "Fitting StepMix...\n"
     ]
    },
    {
     "name": "stderr",
     "output_type": "stream",
     "text": [
      "Initializations (n_init) : 100%|██████████| 1/1 [00:12<00:00, 12.75s/it, max_LL=-4.02e+5, max_avg_LL=-66.6]\n",
      "/Users/tessa/miniforge3/envs/stepmix/lib/python3.12/site-packages/stepmix/stepmix.py:968: ConvergenceWarning: Initializations did not converge. Try different init parameters, or increase max_iter, abs_tol, rel_tol or check for degenerate data.\n",
      "  warnings.warn(\n"
     ]
    },
    {
     "name": "stdout",
     "output_type": "stream",
     "text": [
      "Fitting StepMix...\n"
     ]
    },
    {
     "name": "stderr",
     "output_type": "stream",
     "text": [
      "Initializations (n_init) : 100%|██████████| 1/1 [00:00<00:00,  5.84it/s, max_LL=-4.31e+5, max_avg_LL=-71.5]\n"
     ]
    },
    {
     "name": "stdout",
     "output_type": "stream",
     "text": [
      "Fitting StepMix...\n"
     ]
    },
    {
     "name": "stderr",
     "output_type": "stream",
     "text": [
      "Initializations (n_init) : 100%|██████████| 1/1 [00:00<00:00,  2.51it/s, max_LL=-4.22e+5, max_avg_LL=-70]\n"
     ]
    },
    {
     "name": "stdout",
     "output_type": "stream",
     "text": [
      "Fitting StepMix...\n"
     ]
    },
    {
     "name": "stderr",
     "output_type": "stream",
     "text": [
      "Initializations (n_init) : 100%|██████████| 1/1 [00:00<00:00,  2.59it/s, max_LL=-4.18e+5, max_avg_LL=-69.3]\n"
     ]
    },
    {
     "name": "stdout",
     "output_type": "stream",
     "text": [
      "Fitting StepMix...\n"
     ]
    },
    {
     "name": "stderr",
     "output_type": "stream",
     "text": [
      "Initializations (n_init) : 100%|██████████| 1/1 [00:00<00:00,  1.38it/s, max_LL=-4.15e+5, max_avg_LL=-68.9]\n"
     ]
    },
    {
     "name": "stdout",
     "output_type": "stream",
     "text": [
      "Fitting StepMix...\n"
     ]
    },
    {
     "name": "stderr",
     "output_type": "stream",
     "text": [
      "Initializations (n_init) : 100%|██████████| 1/1 [00:00<00:00,  1.49it/s, max_LL=-4.13e+5, max_avg_LL=-68.6]\n"
     ]
    },
    {
     "name": "stdout",
     "output_type": "stream",
     "text": [
      "Fitting StepMix...\n"
     ]
    },
    {
     "name": "stderr",
     "output_type": "stream",
     "text": [
      "Initializations (n_init) : 100%|██████████| 1/1 [00:01<00:00,  1.18s/it, max_LL=-4.12e+5, max_avg_LL=-68.3]\n"
     ]
    },
    {
     "name": "stdout",
     "output_type": "stream",
     "text": [
      "Fitting StepMix...\n"
     ]
    },
    {
     "name": "stderr",
     "output_type": "stream",
     "text": [
      "Initializations (n_init) : 100%|██████████| 1/1 [00:01<00:00,  1.93s/it, max_LL=-4.11e+5, max_avg_LL=-68.2]\n"
     ]
    },
    {
     "name": "stdout",
     "output_type": "stream",
     "text": [
      "Fitting StepMix...\n"
     ]
    },
    {
     "name": "stderr",
     "output_type": "stream",
     "text": [
      "Initializations (n_init) : 100%|██████████| 1/1 [00:04<00:00,  4.56s/it, max_LL=-4.1e+5, max_avg_LL=-68]\n"
     ]
    },
    {
     "name": "stdout",
     "output_type": "stream",
     "text": [
      "Fitting StepMix...\n"
     ]
    },
    {
     "name": "stderr",
     "output_type": "stream",
     "text": [
      "Initializations (n_init) : 100%|██████████| 1/1 [00:01<00:00,  1.71s/it, max_LL=-4.09e+5, max_avg_LL=-67.9]\n"
     ]
    },
    {
     "name": "stdout",
     "output_type": "stream",
     "text": [
      "Fitting StepMix...\n"
     ]
    },
    {
     "name": "stderr",
     "output_type": "stream",
     "text": [
      "Initializations (n_init) : 100%|██████████| 1/1 [00:03<00:00,  3.90s/it, max_LL=-4.09e+5, max_avg_LL=-67.8]\n"
     ]
    },
    {
     "name": "stdout",
     "output_type": "stream",
     "text": [
      "Fitting StepMix...\n"
     ]
    },
    {
     "name": "stderr",
     "output_type": "stream",
     "text": [
      "Initializations (n_init) : 100%|██████████| 1/1 [00:03<00:00,  3.54s/it, max_LL=-4.08e+5, max_avg_LL=-67.6]\n"
     ]
    },
    {
     "name": "stdout",
     "output_type": "stream",
     "text": [
      "Fitting StepMix...\n"
     ]
    },
    {
     "name": "stderr",
     "output_type": "stream",
     "text": [
      "Initializations (n_init) : 100%|██████████| 1/1 [00:04<00:00,  4.43s/it, max_LL=-4.07e+5, max_avg_LL=-67.5]\n"
     ]
    },
    {
     "name": "stdout",
     "output_type": "stream",
     "text": [
      "Fitting StepMix...\n"
     ]
    },
    {
     "name": "stderr",
     "output_type": "stream",
     "text": [
      "Initializations (n_init) : 100%|██████████| 1/1 [00:05<00:00,  5.12s/it, max_LL=-4.06e+5, max_avg_LL=-67.4]\n"
     ]
    },
    {
     "name": "stdout",
     "output_type": "stream",
     "text": [
      "Fitting StepMix...\n"
     ]
    },
    {
     "name": "stderr",
     "output_type": "stream",
     "text": [
      "Initializations (n_init) : 100%|██████████| 1/1 [00:06<00:00,  6.16s/it, max_LL=-4.06e+5, max_avg_LL=-67.3]\n"
     ]
    },
    {
     "name": "stdout",
     "output_type": "stream",
     "text": [
      "Fitting StepMix...\n"
     ]
    },
    {
     "name": "stderr",
     "output_type": "stream",
     "text": [
      "Initializations (n_init) : 100%|██████████| 1/1 [00:05<00:00,  5.83s/it, max_LL=-4.05e+5, max_avg_LL=-67.2]\n"
     ]
    },
    {
     "name": "stdout",
     "output_type": "stream",
     "text": [
      "Fitting StepMix...\n"
     ]
    },
    {
     "name": "stderr",
     "output_type": "stream",
     "text": [
      "Initializations (n_init) : 100%|██████████| 1/1 [00:05<00:00,  5.74s/it, max_LL=-4.05e+5, max_avg_LL=-67.2]\n"
     ]
    },
    {
     "name": "stdout",
     "output_type": "stream",
     "text": [
      "Fitting StepMix...\n"
     ]
    },
    {
     "name": "stderr",
     "output_type": "stream",
     "text": [
      "Initializations (n_init) : 100%|██████████| 1/1 [00:06<00:00,  6.06s/it, max_LL=-4.04e+5, max_avg_LL=-67]\n"
     ]
    },
    {
     "name": "stdout",
     "output_type": "stream",
     "text": [
      "Fitting StepMix...\n"
     ]
    },
    {
     "name": "stderr",
     "output_type": "stream",
     "text": [
      "Initializations (n_init) : 100%|██████████| 1/1 [00:10<00:00, 10.93s/it, max_LL=-4.04e+5, max_avg_LL=-67]\n"
     ]
    },
    {
     "name": "stdout",
     "output_type": "stream",
     "text": [
      "Fitting StepMix...\n"
     ]
    },
    {
     "name": "stderr",
     "output_type": "stream",
     "text": [
      "Initializations (n_init) : 100%|██████████| 1/1 [00:05<00:00,  5.33s/it, max_LL=-4.03e+5, max_avg_LL=-66.9]\n"
     ]
    },
    {
     "name": "stdout",
     "output_type": "stream",
     "text": [
      "Fitting StepMix...\n"
     ]
    },
    {
     "name": "stderr",
     "output_type": "stream",
     "text": [
      "Initializations (n_init) : 100%|██████████| 1/1 [00:05<00:00,  5.93s/it, max_LL=-4.03e+5, max_avg_LL=-66.8]\n"
     ]
    },
    {
     "name": "stdout",
     "output_type": "stream",
     "text": [
      "Fitting StepMix...\n"
     ]
    },
    {
     "name": "stderr",
     "output_type": "stream",
     "text": [
      "Initializations (n_init) : 100%|██████████| 1/1 [00:12<00:00, 12.76s/it, max_LL=-4.03e+5, max_avg_LL=-66.8]\n",
      "/Users/tessa/miniforge3/envs/stepmix/lib/python3.12/site-packages/stepmix/stepmix.py:968: ConvergenceWarning: Initializations did not converge. Try different init parameters, or increase max_iter, abs_tol, rel_tol or check for degenerate data.\n",
      "  warnings.warn(\n"
     ]
    },
    {
     "name": "stdout",
     "output_type": "stream",
     "text": [
      "Fitting StepMix...\n"
     ]
    },
    {
     "name": "stderr",
     "output_type": "stream",
     "text": [
      "Initializations (n_init) : 100%|██████████| 1/1 [00:12<00:00, 12.23s/it, max_LL=-4.02e+5, max_avg_LL=-66.7]\n"
     ]
    },
    {
     "name": "stdout",
     "output_type": "stream",
     "text": [
      "Fitting StepMix...\n"
     ]
    },
    {
     "name": "stderr",
     "output_type": "stream",
     "text": [
      "Initializations (n_init) : 100%|██████████| 1/1 [00:07<00:00,  7.75s/it, max_LL=-4.02e+5, max_avg_LL=-66.6]\n"
     ]
    },
    {
     "name": "stdout",
     "output_type": "stream",
     "text": [
      "Fitting StepMix...\n"
     ]
    },
    {
     "name": "stderr",
     "output_type": "stream",
     "text": [
      "Initializations (n_init) : 100%|██████████| 1/1 [00:16<00:00, 16.64s/it, max_LL=-4.02e+5, max_avg_LL=-66.6]\n",
      "/Users/tessa/miniforge3/envs/stepmix/lib/python3.12/site-packages/stepmix/stepmix.py:968: ConvergenceWarning: Initializations did not converge. Try different init parameters, or increase max_iter, abs_tol, rel_tol or check for degenerate data.\n",
      "  warnings.warn(\n"
     ]
    },
    {
     "name": "stdout",
     "output_type": "stream",
     "text": [
      "Fitting StepMix...\n"
     ]
    },
    {
     "name": "stderr",
     "output_type": "stream",
     "text": [
      "Initializations (n_init) : 100%|██████████| 1/1 [00:00<00:00,  4.87it/s, max_LL=-4.31e+5, max_avg_LL=-71.5]\n"
     ]
    },
    {
     "name": "stdout",
     "output_type": "stream",
     "text": [
      "Fitting StepMix...\n"
     ]
    },
    {
     "name": "stderr",
     "output_type": "stream",
     "text": [
      "Initializations (n_init) : 100%|██████████| 1/1 [00:00<00:00,  1.81it/s, max_LL=-4.22e+5, max_avg_LL=-70]\n"
     ]
    },
    {
     "name": "stdout",
     "output_type": "stream",
     "text": [
      "Fitting StepMix...\n"
     ]
    },
    {
     "name": "stderr",
     "output_type": "stream",
     "text": [
      "Initializations (n_init) : 100%|██████████| 1/1 [00:00<00:00,  2.36it/s, max_LL=-4.18e+5, max_avg_LL=-69.3]\n"
     ]
    },
    {
     "name": "stdout",
     "output_type": "stream",
     "text": [
      "Fitting StepMix...\n"
     ]
    },
    {
     "name": "stderr",
     "output_type": "stream",
     "text": [
      "Initializations (n_init) : 100%|██████████| 1/1 [00:01<00:00,  1.60s/it, max_LL=-4.15e+5, max_avg_LL=-68.9]\n"
     ]
    },
    {
     "name": "stdout",
     "output_type": "stream",
     "text": [
      "Fitting StepMix...\n"
     ]
    },
    {
     "name": "stderr",
     "output_type": "stream",
     "text": [
      "Initializations (n_init) : 100%|██████████| 1/1 [00:03<00:00,  3.16s/it, max_LL=-4.13e+5, max_avg_LL=-68.6]\n"
     ]
    },
    {
     "name": "stdout",
     "output_type": "stream",
     "text": [
      "Fitting StepMix...\n"
     ]
    },
    {
     "name": "stderr",
     "output_type": "stream",
     "text": [
      "Initializations (n_init) : 100%|██████████| 1/1 [00:02<00:00,  2.08s/it, max_LL=-4.12e+5, max_avg_LL=-68.3]\n"
     ]
    },
    {
     "name": "stdout",
     "output_type": "stream",
     "text": [
      "Fitting StepMix...\n"
     ]
    },
    {
     "name": "stderr",
     "output_type": "stream",
     "text": [
      "Initializations (n_init) : 100%|██████████| 1/1 [00:01<00:00,  1.58s/it, max_LL=-4.11e+5, max_avg_LL=-68.2]\n"
     ]
    },
    {
     "name": "stdout",
     "output_type": "stream",
     "text": [
      "Fitting StepMix...\n"
     ]
    },
    {
     "name": "stderr",
     "output_type": "stream",
     "text": [
      "Initializations (n_init) : 100%|██████████| 1/1 [00:08<00:00,  8.85s/it, max_LL=-4.1e+5, max_avg_LL=-68]\n"
     ]
    },
    {
     "name": "stdout",
     "output_type": "stream",
     "text": [
      "Fitting StepMix...\n"
     ]
    },
    {
     "name": "stderr",
     "output_type": "stream",
     "text": [
      "Initializations (n_init) : 100%|██████████| 1/1 [00:02<00:00,  2.12s/it, max_LL=-4.09e+5, max_avg_LL=-67.9]\n"
     ]
    },
    {
     "name": "stdout",
     "output_type": "stream",
     "text": [
      "Fitting StepMix...\n"
     ]
    },
    {
     "name": "stderr",
     "output_type": "stream",
     "text": [
      "Initializations (n_init) : 100%|██████████| 1/1 [00:02<00:00,  2.39s/it, max_LL=-4.09e+5, max_avg_LL=-67.8]\n"
     ]
    },
    {
     "name": "stdout",
     "output_type": "stream",
     "text": [
      "Fitting StepMix...\n"
     ]
    },
    {
     "name": "stderr",
     "output_type": "stream",
     "text": [
      "Initializations (n_init) : 100%|██████████| 1/1 [00:07<00:00,  7.02s/it, max_LL=-4.08e+5, max_avg_LL=-67.6]\n"
     ]
    },
    {
     "name": "stdout",
     "output_type": "stream",
     "text": [
      "Fitting StepMix...\n"
     ]
    },
    {
     "name": "stderr",
     "output_type": "stream",
     "text": [
      "Initializations (n_init) : 100%|██████████| 1/1 [00:06<00:00,  6.27s/it, max_LL=-4.07e+5, max_avg_LL=-67.5]\n"
     ]
    },
    {
     "name": "stdout",
     "output_type": "stream",
     "text": [
      "Fitting StepMix...\n"
     ]
    },
    {
     "name": "stderr",
     "output_type": "stream",
     "text": [
      "Initializations (n_init) : 100%|██████████| 1/1 [00:08<00:00,  8.73s/it, max_LL=-4.07e+5, max_avg_LL=-67.4]\n"
     ]
    },
    {
     "name": "stdout",
     "output_type": "stream",
     "text": [
      "Fitting StepMix...\n"
     ]
    },
    {
     "name": "stderr",
     "output_type": "stream",
     "text": [
      "Initializations (n_init) : 100%|██████████| 1/1 [00:04<00:00,  4.91s/it, max_LL=-4.06e+5, max_avg_LL=-67.3]\n"
     ]
    },
    {
     "name": "stdout",
     "output_type": "stream",
     "text": [
      "Fitting StepMix...\n"
     ]
    },
    {
     "name": "stderr",
     "output_type": "stream",
     "text": [
      "Initializations (n_init) : 100%|██████████| 1/1 [00:04<00:00,  4.50s/it, max_LL=-4.05e+5, max_avg_LL=-67.2]\n"
     ]
    },
    {
     "name": "stdout",
     "output_type": "stream",
     "text": [
      "Fitting StepMix...\n"
     ]
    },
    {
     "name": "stderr",
     "output_type": "stream",
     "text": [
      "Initializations (n_init) : 100%|██████████| 1/1 [00:08<00:00,  8.52s/it, max_LL=-4.05e+5, max_avg_LL=-67.1]\n"
     ]
    },
    {
     "name": "stdout",
     "output_type": "stream",
     "text": [
      "Fitting StepMix...\n"
     ]
    },
    {
     "name": "stderr",
     "output_type": "stream",
     "text": [
      "Initializations (n_init) : 100%|██████████| 1/1 [00:11<00:00, 11.84s/it, max_LL=-4.04e+5, max_avg_LL=-67]\n",
      "/Users/tessa/miniforge3/envs/stepmix/lib/python3.12/site-packages/stepmix/stepmix.py:968: ConvergenceWarning: Initializations did not converge. Try different init parameters, or increase max_iter, abs_tol, rel_tol or check for degenerate data.\n",
      "  warnings.warn(\n"
     ]
    },
    {
     "name": "stdout",
     "output_type": "stream",
     "text": [
      "Fitting StepMix...\n"
     ]
    },
    {
     "name": "stderr",
     "output_type": "stream",
     "text": [
      "Initializations (n_init) : 100%|██████████| 1/1 [00:10<00:00, 10.92s/it, max_LL=-4.04e+5, max_avg_LL=-67]\n"
     ]
    },
    {
     "name": "stdout",
     "output_type": "stream",
     "text": [
      "Fitting StepMix...\n"
     ]
    },
    {
     "name": "stderr",
     "output_type": "stream",
     "text": [
      "Initializations (n_init) : 100%|██████████| 1/1 [00:16<00:00, 16.41s/it, max_LL=-4.03e+5, max_avg_LL=-66.9]\n",
      "/Users/tessa/miniforge3/envs/stepmix/lib/python3.12/site-packages/stepmix/stepmix.py:968: ConvergenceWarning: Initializations did not converge. Try different init parameters, or increase max_iter, abs_tol, rel_tol or check for degenerate data.\n",
      "  warnings.warn(\n"
     ]
    },
    {
     "name": "stdout",
     "output_type": "stream",
     "text": [
      "Fitting StepMix...\n"
     ]
    },
    {
     "name": "stderr",
     "output_type": "stream",
     "text": [
      "Initializations (n_init) : 100%|██████████| 1/1 [00:07<00:00,  7.48s/it, max_LL=-4.03e+5, max_avg_LL=-66.8]\n"
     ]
    },
    {
     "name": "stdout",
     "output_type": "stream",
     "text": [
      "Fitting StepMix...\n"
     ]
    },
    {
     "name": "stderr",
     "output_type": "stream",
     "text": [
      "Initializations (n_init) : 100%|██████████| 1/1 [00:07<00:00,  7.61s/it, max_LL=-4.03e+5, max_avg_LL=-66.8]\n"
     ]
    },
    {
     "name": "stdout",
     "output_type": "stream",
     "text": [
      "Fitting StepMix...\n"
     ]
    },
    {
     "name": "stderr",
     "output_type": "stream",
     "text": [
      "Initializations (n_init) : 100%|██████████| 1/1 [00:09<00:00,  9.17s/it, max_LL=-4.02e+5, max_avg_LL=-66.7]\n"
     ]
    },
    {
     "name": "stdout",
     "output_type": "stream",
     "text": [
      "Fitting StepMix...\n"
     ]
    },
    {
     "name": "stderr",
     "output_type": "stream",
     "text": [
      "Initializations (n_init) : 100%|██████████| 1/1 [00:12<00:00, 12.84s/it, max_LL=-4.02e+5, max_avg_LL=-66.6]\n",
      "/Users/tessa/miniforge3/envs/stepmix/lib/python3.12/site-packages/stepmix/stepmix.py:968: ConvergenceWarning: Initializations did not converge. Try different init parameters, or increase max_iter, abs_tol, rel_tol or check for degenerate data.\n",
      "  warnings.warn(\n"
     ]
    },
    {
     "name": "stdout",
     "output_type": "stream",
     "text": [
      "Fitting StepMix...\n"
     ]
    },
    {
     "name": "stderr",
     "output_type": "stream",
     "text": [
      "Initializations (n_init) : 100%|██████████| 1/1 [00:12<00:00, 12.69s/it, max_LL=-4.02e+5, max_avg_LL=-66.6]\n",
      "/Users/tessa/miniforge3/envs/stepmix/lib/python3.12/site-packages/stepmix/stepmix.py:968: ConvergenceWarning: Initializations did not converge. Try different init parameters, or increase max_iter, abs_tol, rel_tol or check for degenerate data.\n",
      "  warnings.warn(\n"
     ]
    },
    {
     "name": "stdout",
     "output_type": "stream",
     "text": [
      "Fitting StepMix...\n"
     ]
    },
    {
     "name": "stderr",
     "output_type": "stream",
     "text": [
      "Initializations (n_init) : 100%|██████████| 1/1 [00:00<00:00,  5.72it/s, max_LL=-4.31e+5, max_avg_LL=-71.5]\n"
     ]
    },
    {
     "name": "stdout",
     "output_type": "stream",
     "text": [
      "Fitting StepMix...\n"
     ]
    },
    {
     "name": "stderr",
     "output_type": "stream",
     "text": [
      "Initializations (n_init) : 100%|██████████| 1/1 [00:00<00:00,  2.99it/s, max_LL=-4.22e+5, max_avg_LL=-70]\n"
     ]
    },
    {
     "name": "stdout",
     "output_type": "stream",
     "text": [
      "Fitting StepMix...\n"
     ]
    },
    {
     "name": "stderr",
     "output_type": "stream",
     "text": [
      "Initializations (n_init) : 100%|██████████| 1/1 [00:00<00:00,  1.75it/s, max_LL=-4.18e+5, max_avg_LL=-69.3]\n"
     ]
    },
    {
     "name": "stdout",
     "output_type": "stream",
     "text": [
      "Fitting StepMix...\n"
     ]
    },
    {
     "name": "stderr",
     "output_type": "stream",
     "text": [
      "Initializations (n_init) : 100%|██████████| 1/1 [00:00<00:00,  1.24it/s, max_LL=-4.15e+5, max_avg_LL=-68.9]\n"
     ]
    },
    {
     "name": "stdout",
     "output_type": "stream",
     "text": [
      "Fitting StepMix...\n"
     ]
    },
    {
     "name": "stderr",
     "output_type": "stream",
     "text": [
      "Initializations (n_init) : 100%|██████████| 1/1 [00:05<00:00,  5.42s/it, max_LL=-4.13e+5, max_avg_LL=-68.6]\n"
     ]
    },
    {
     "name": "stdout",
     "output_type": "stream",
     "text": [
      "Fitting StepMix...\n"
     ]
    },
    {
     "name": "stderr",
     "output_type": "stream",
     "text": [
      "Initializations (n_init) : 100%|██████████| 1/1 [00:01<00:00,  1.78s/it, max_LL=-4.12e+5, max_avg_LL=-68.3]\n"
     ]
    },
    {
     "name": "stdout",
     "output_type": "stream",
     "text": [
      "Fitting StepMix...\n"
     ]
    },
    {
     "name": "stderr",
     "output_type": "stream",
     "text": [
      "Initializations (n_init) : 100%|██████████| 1/1 [00:02<00:00,  2.17s/it, max_LL=-4.11e+5, max_avg_LL=-68.2]\n"
     ]
    },
    {
     "name": "stdout",
     "output_type": "stream",
     "text": [
      "Fitting StepMix...\n"
     ]
    },
    {
     "name": "stderr",
     "output_type": "stream",
     "text": [
      "Initializations (n_init) : 100%|██████████| 1/1 [00:01<00:00,  1.30s/it, max_LL=-4.1e+5, max_avg_LL=-68]\n"
     ]
    },
    {
     "name": "stdout",
     "output_type": "stream",
     "text": [
      "Fitting StepMix...\n"
     ]
    },
    {
     "name": "stderr",
     "output_type": "stream",
     "text": [
      "Initializations (n_init) : 100%|██████████| 1/1 [00:03<00:00,  3.75s/it, max_LL=-4.09e+5, max_avg_LL=-67.9]\n"
     ]
    },
    {
     "name": "stdout",
     "output_type": "stream",
     "text": [
      "Fitting StepMix...\n"
     ]
    },
    {
     "name": "stderr",
     "output_type": "stream",
     "text": [
      "Initializations (n_init) : 100%|██████████| 1/1 [00:04<00:00,  4.04s/it, max_LL=-4.08e+5, max_avg_LL=-67.7]\n"
     ]
    },
    {
     "name": "stdout",
     "output_type": "stream",
     "text": [
      "Fitting StepMix...\n"
     ]
    },
    {
     "name": "stderr",
     "output_type": "stream",
     "text": [
      "Initializations (n_init) : 100%|██████████| 1/1 [00:02<00:00,  2.90s/it, max_LL=-4.08e+5, max_avg_LL=-67.6]\n"
     ]
    },
    {
     "name": "stdout",
     "output_type": "stream",
     "text": [
      "Fitting StepMix...\n"
     ]
    },
    {
     "name": "stderr",
     "output_type": "stream",
     "text": [
      "Initializations (n_init) : 100%|██████████| 1/1 [00:02<00:00,  2.27s/it, max_LL=-4.07e+5, max_avg_LL=-67.5]\n"
     ]
    },
    {
     "name": "stdout",
     "output_type": "stream",
     "text": [
      "Fitting StepMix...\n"
     ]
    },
    {
     "name": "stderr",
     "output_type": "stream",
     "text": [
      "Initializations (n_init) : 100%|██████████| 1/1 [00:03<00:00,  3.32s/it, max_LL=-4.06e+5, max_avg_LL=-67.4]\n"
     ]
    },
    {
     "name": "stdout",
     "output_type": "stream",
     "text": [
      "Fitting StepMix...\n"
     ]
    },
    {
     "name": "stderr",
     "output_type": "stream",
     "text": [
      "Initializations (n_init) : 100%|██████████| 1/1 [00:02<00:00,  2.72s/it, max_LL=-4.06e+5, max_avg_LL=-67.3]\n"
     ]
    },
    {
     "name": "stdout",
     "output_type": "stream",
     "text": [
      "Fitting StepMix...\n"
     ]
    },
    {
     "name": "stderr",
     "output_type": "stream",
     "text": [
      "Initializations (n_init) : 100%|██████████| 1/1 [00:02<00:00,  2.75s/it, max_LL=-4.05e+5, max_avg_LL=-67.2]\n"
     ]
    },
    {
     "name": "stdout",
     "output_type": "stream",
     "text": [
      "Fitting StepMix...\n"
     ]
    },
    {
     "name": "stderr",
     "output_type": "stream",
     "text": [
      "Initializations (n_init) : 100%|██████████| 1/1 [00:10<00:00, 10.14s/it, max_LL=-4.05e+5, max_avg_LL=-67.1]\n",
      "/Users/tessa/miniforge3/envs/stepmix/lib/python3.12/site-packages/stepmix/stepmix.py:968: ConvergenceWarning: Initializations did not converge. Try different init parameters, or increase max_iter, abs_tol, rel_tol or check for degenerate data.\n",
      "  warnings.warn(\n"
     ]
    },
    {
     "name": "stdout",
     "output_type": "stream",
     "text": [
      "Fitting StepMix...\n"
     ]
    },
    {
     "name": "stderr",
     "output_type": "stream",
     "text": [
      "Initializations (n_init) : 100%|██████████| 1/1 [00:08<00:00,  8.57s/it, max_LL=-4.04e+5, max_avg_LL=-67]\n"
     ]
    },
    {
     "name": "stdout",
     "output_type": "stream",
     "text": [
      "Fitting StepMix...\n"
     ]
    },
    {
     "name": "stderr",
     "output_type": "stream",
     "text": [
      "Initializations (n_init) : 100%|██████████| 1/1 [00:02<00:00,  2.75s/it, max_LL=-4.04e+5, max_avg_LL=-67]\n"
     ]
    },
    {
     "name": "stdout",
     "output_type": "stream",
     "text": [
      "Fitting StepMix...\n"
     ]
    },
    {
     "name": "stderr",
     "output_type": "stream",
     "text": [
      "Initializations (n_init) : 100%|██████████| 1/1 [00:03<00:00,  3.87s/it, max_LL=-4.03e+5, max_avg_LL=-66.9]\n"
     ]
    },
    {
     "name": "stdout",
     "output_type": "stream",
     "text": [
      "Fitting StepMix...\n"
     ]
    },
    {
     "name": "stderr",
     "output_type": "stream",
     "text": [
      "Initializations (n_init) : 100%|██████████| 1/1 [00:07<00:00,  7.69s/it, max_LL=-4.03e+5, max_avg_LL=-66.9]\n"
     ]
    },
    {
     "name": "stdout",
     "output_type": "stream",
     "text": [
      "Fitting StepMix...\n"
     ]
    },
    {
     "name": "stderr",
     "output_type": "stream",
     "text": [
      "Initializations (n_init) : 100%|██████████| 1/1 [00:12<00:00, 12.57s/it, max_LL=-4.03e+5, max_avg_LL=-66.8]\n",
      "/Users/tessa/miniforge3/envs/stepmix/lib/python3.12/site-packages/stepmix/stepmix.py:968: ConvergenceWarning: Initializations did not converge. Try different init parameters, or increase max_iter, abs_tol, rel_tol or check for degenerate data.\n",
      "  warnings.warn(\n"
     ]
    },
    {
     "name": "stdout",
     "output_type": "stream",
     "text": [
      "Fitting StepMix...\n"
     ]
    },
    {
     "name": "stderr",
     "output_type": "stream",
     "text": [
      "Initializations (n_init) : 100%|██████████| 1/1 [00:09<00:00,  9.48s/it, max_LL=-4.02e+5, max_avg_LL=-66.7]\n"
     ]
    },
    {
     "name": "stdout",
     "output_type": "stream",
     "text": [
      "Fitting StepMix...\n"
     ]
    },
    {
     "name": "stderr",
     "output_type": "stream",
     "text": [
      "Initializations (n_init) : 100%|██████████| 1/1 [00:12<00:00, 12.93s/it, max_LL=-4.02e+5, max_avg_LL=-66.6]\n",
      "/Users/tessa/miniforge3/envs/stepmix/lib/python3.12/site-packages/stepmix/stepmix.py:968: ConvergenceWarning: Initializations did not converge. Try different init parameters, or increase max_iter, abs_tol, rel_tol or check for degenerate data.\n",
      "  warnings.warn(\n"
     ]
    },
    {
     "name": "stdout",
     "output_type": "stream",
     "text": [
      "Fitting StepMix...\n"
     ]
    },
    {
     "name": "stderr",
     "output_type": "stream",
     "text": [
      "Initializations (n_init) : 100%|██████████| 1/1 [00:11<00:00, 11.79s/it, max_LL=-4.02e+5, max_avg_LL=-66.6]\n"
     ]
    },
    {
     "name": "stdout",
     "output_type": "stream",
     "text": [
      "Fitting StepMix...\n"
     ]
    },
    {
     "name": "stderr",
     "output_type": "stream",
     "text": [
      "Initializations (n_init) : 100%|██████████| 1/1 [00:00<00:00,  5.29it/s, max_LL=-4.31e+5, max_avg_LL=-71.5]\n"
     ]
    },
    {
     "name": "stdout",
     "output_type": "stream",
     "text": [
      "Fitting StepMix...\n"
     ]
    },
    {
     "name": "stderr",
     "output_type": "stream",
     "text": [
      "Initializations (n_init) : 100%|██████████| 1/1 [00:00<00:00,  2.04it/s, max_LL=-4.22e+5, max_avg_LL=-70]\n"
     ]
    },
    {
     "name": "stdout",
     "output_type": "stream",
     "text": [
      "Fitting StepMix...\n"
     ]
    },
    {
     "name": "stderr",
     "output_type": "stream",
     "text": [
      "Initializations (n_init) : 100%|██████████| 1/1 [00:00<00:00,  2.23it/s, max_LL=-4.18e+5, max_avg_LL=-69.3]\n"
     ]
    },
    {
     "name": "stdout",
     "output_type": "stream",
     "text": [
      "Fitting StepMix...\n"
     ]
    },
    {
     "name": "stderr",
     "output_type": "stream",
     "text": [
      "Initializations (n_init) : 100%|██████████| 1/1 [00:01<00:00,  1.33s/it, max_LL=-4.15e+5, max_avg_LL=-68.9]\n"
     ]
    },
    {
     "name": "stdout",
     "output_type": "stream",
     "text": [
      "Fitting StepMix...\n"
     ]
    },
    {
     "name": "stderr",
     "output_type": "stream",
     "text": [
      "Initializations (n_init) : 100%|██████████| 1/1 [00:00<00:00,  1.06it/s, max_LL=-4.13e+5, max_avg_LL=-68.6]\n"
     ]
    },
    {
     "name": "stdout",
     "output_type": "stream",
     "text": [
      "Fitting StepMix...\n"
     ]
    },
    {
     "name": "stderr",
     "output_type": "stream",
     "text": [
      "Initializations (n_init) : 100%|██████████| 1/1 [00:02<00:00,  2.00s/it, max_LL=-4.12e+5, max_avg_LL=-68.3]\n"
     ]
    },
    {
     "name": "stdout",
     "output_type": "stream",
     "text": [
      "Fitting StepMix...\n"
     ]
    },
    {
     "name": "stderr",
     "output_type": "stream",
     "text": [
      "Initializations (n_init) : 100%|██████████| 1/1 [00:02<00:00,  2.15s/it, max_LL=-4.11e+5, max_avg_LL=-68.2]\n"
     ]
    },
    {
     "name": "stdout",
     "output_type": "stream",
     "text": [
      "Fitting StepMix...\n"
     ]
    },
    {
     "name": "stderr",
     "output_type": "stream",
     "text": [
      "Initializations (n_init) : 100%|██████████| 1/1 [00:04<00:00,  4.39s/it, max_LL=-4.1e+5, max_avg_LL=-68]\n"
     ]
    },
    {
     "name": "stdout",
     "output_type": "stream",
     "text": [
      "Fitting StepMix...\n"
     ]
    },
    {
     "name": "stderr",
     "output_type": "stream",
     "text": [
      "Initializations (n_init) : 100%|██████████| 1/1 [00:02<00:00,  2.91s/it, max_LL=-4.09e+5, max_avg_LL=-67.9]\n"
     ]
    },
    {
     "name": "stdout",
     "output_type": "stream",
     "text": [
      "Fitting StepMix...\n"
     ]
    },
    {
     "name": "stderr",
     "output_type": "stream",
     "text": [
      "Initializations (n_init) : 100%|██████████| 1/1 [00:02<00:00,  2.83s/it, max_LL=-4.09e+5, max_avg_LL=-67.8]\n"
     ]
    },
    {
     "name": "stdout",
     "output_type": "stream",
     "text": [
      "Fitting StepMix...\n"
     ]
    },
    {
     "name": "stderr",
     "output_type": "stream",
     "text": [
      "Initializations (n_init) : 100%|██████████| 1/1 [00:03<00:00,  3.70s/it, max_LL=-4.08e+5, max_avg_LL=-67.6]\n"
     ]
    },
    {
     "name": "stdout",
     "output_type": "stream",
     "text": [
      "Fitting StepMix...\n"
     ]
    },
    {
     "name": "stderr",
     "output_type": "stream",
     "text": [
      "Initializations (n_init) : 100%|██████████| 1/1 [00:03<00:00,  3.13s/it, max_LL=-4.07e+5, max_avg_LL=-67.5]\n"
     ]
    },
    {
     "name": "stdout",
     "output_type": "stream",
     "text": [
      "Fitting StepMix...\n"
     ]
    },
    {
     "name": "stderr",
     "output_type": "stream",
     "text": [
      "Initializations (n_init) : 100%|██████████| 1/1 [00:03<00:00,  3.36s/it, max_LL=-4.06e+5, max_avg_LL=-67.4]\n"
     ]
    },
    {
     "name": "stdout",
     "output_type": "stream",
     "text": [
      "Fitting StepMix...\n"
     ]
    },
    {
     "name": "stderr",
     "output_type": "stream",
     "text": [
      "Initializations (n_init) : 100%|██████████| 1/1 [00:07<00:00,  7.90s/it, max_LL=-4.06e+5, max_avg_LL=-67.3]\n",
      "/Users/tessa/miniforge3/envs/stepmix/lib/python3.12/site-packages/stepmix/stepmix.py:968: ConvergenceWarning: Initializations did not converge. Try different init parameters, or increase max_iter, abs_tol, rel_tol or check for degenerate data.\n",
      "  warnings.warn(\n"
     ]
    },
    {
     "name": "stdout",
     "output_type": "stream",
     "text": [
      "Fitting StepMix...\n"
     ]
    },
    {
     "name": "stderr",
     "output_type": "stream",
     "text": [
      "Initializations (n_init) : 100%|██████████| 1/1 [00:03<00:00,  3.01s/it, max_LL=-4.05e+5, max_avg_LL=-67.2]\n"
     ]
    },
    {
     "name": "stdout",
     "output_type": "stream",
     "text": [
      "Fitting StepMix...\n"
     ]
    },
    {
     "name": "stderr",
     "output_type": "stream",
     "text": [
      "Initializations (n_init) : 100%|██████████| 1/1 [00:05<00:00,  5.87s/it, max_LL=-4.05e+5, max_avg_LL=-67.1]\n"
     ]
    },
    {
     "name": "stdout",
     "output_type": "stream",
     "text": [
      "Fitting StepMix...\n"
     ]
    },
    {
     "name": "stderr",
     "output_type": "stream",
     "text": [
      "Initializations (n_init) : 100%|██████████| 1/1 [00:10<00:00, 10.89s/it, max_LL=-4.04e+5, max_avg_LL=-67]\n"
     ]
    },
    {
     "name": "stdout",
     "output_type": "stream",
     "text": [
      "Fitting StepMix...\n"
     ]
    },
    {
     "name": "stderr",
     "output_type": "stream",
     "text": [
      "Initializations (n_init) : 100%|██████████| 1/1 [00:10<00:00, 10.45s/it, max_LL=-4.04e+5, max_avg_LL=-67]\n"
     ]
    },
    {
     "name": "stdout",
     "output_type": "stream",
     "text": [
      "Fitting StepMix...\n"
     ]
    },
    {
     "name": "stderr",
     "output_type": "stream",
     "text": [
      "Initializations (n_init) : 100%|██████████| 1/1 [00:07<00:00,  7.68s/it, max_LL=-4.03e+5, max_avg_LL=-66.9]\n"
     ]
    },
    {
     "name": "stdout",
     "output_type": "stream",
     "text": [
      "Fitting StepMix...\n"
     ]
    },
    {
     "name": "stderr",
     "output_type": "stream",
     "text": [
      "Initializations (n_init) : 100%|██████████| 1/1 [00:12<00:00, 12.40s/it, max_LL=-4.03e+5, max_avg_LL=-66.8]\n",
      "/Users/tessa/miniforge3/envs/stepmix/lib/python3.12/site-packages/stepmix/stepmix.py:968: ConvergenceWarning: Initializations did not converge. Try different init parameters, or increase max_iter, abs_tol, rel_tol or check for degenerate data.\n",
      "  warnings.warn(\n"
     ]
    },
    {
     "name": "stdout",
     "output_type": "stream",
     "text": [
      "Fitting StepMix...\n"
     ]
    },
    {
     "name": "stderr",
     "output_type": "stream",
     "text": [
      "Initializations (n_init) : 100%|██████████| 1/1 [00:12<00:00, 12.79s/it, max_LL=-4.03e+5, max_avg_LL=-66.8]\n",
      "/Users/tessa/miniforge3/envs/stepmix/lib/python3.12/site-packages/stepmix/stepmix.py:968: ConvergenceWarning: Initializations did not converge. Try different init parameters, or increase max_iter, abs_tol, rel_tol or check for degenerate data.\n",
      "  warnings.warn(\n"
     ]
    },
    {
     "name": "stdout",
     "output_type": "stream",
     "text": [
      "Fitting StepMix...\n"
     ]
    },
    {
     "name": "stderr",
     "output_type": "stream",
     "text": [
      "Initializations (n_init) : 100%|██████████| 1/1 [00:12<00:00, 12.62s/it, max_LL=-4.02e+5, max_avg_LL=-66.7]\n",
      "/Users/tessa/miniforge3/envs/stepmix/lib/python3.12/site-packages/stepmix/stepmix.py:968: ConvergenceWarning: Initializations did not converge. Try different init parameters, or increase max_iter, abs_tol, rel_tol or check for degenerate data.\n",
      "  warnings.warn(\n"
     ]
    },
    {
     "name": "stdout",
     "output_type": "stream",
     "text": [
      "Fitting StepMix...\n"
     ]
    },
    {
     "name": "stderr",
     "output_type": "stream",
     "text": [
      "Initializations (n_init) : 100%|██████████| 1/1 [00:09<00:00,  9.62s/it, max_LL=-4.02e+5, max_avg_LL=-66.7]\n"
     ]
    },
    {
     "name": "stdout",
     "output_type": "stream",
     "text": [
      "Fitting StepMix...\n"
     ]
    },
    {
     "name": "stderr",
     "output_type": "stream",
     "text": [
      "Initializations (n_init) : 100%|██████████| 1/1 [00:06<00:00,  6.41s/it, max_LL=-4.02e+5, max_avg_LL=-66.6]\n"
     ]
    },
    {
     "name": "stdout",
     "output_type": "stream",
     "text": [
      "Fitting StepMix...\n"
     ]
    },
    {
     "name": "stderr",
     "output_type": "stream",
     "text": [
      "Initializations (n_init) : 100%|██████████| 1/1 [00:00<00:00,  5.38it/s, max_LL=-4.31e+5, max_avg_LL=-71.5]\n"
     ]
    },
    {
     "name": "stdout",
     "output_type": "stream",
     "text": [
      "Fitting StepMix...\n"
     ]
    },
    {
     "name": "stderr",
     "output_type": "stream",
     "text": [
      "Initializations (n_init) : 100%|██████████| 1/1 [00:00<00:00,  2.33it/s, max_LL=-4.22e+5, max_avg_LL=-70]\n"
     ]
    },
    {
     "name": "stdout",
     "output_type": "stream",
     "text": [
      "Fitting StepMix...\n"
     ]
    },
    {
     "name": "stderr",
     "output_type": "stream",
     "text": [
      "Initializations (n_init) : 100%|██████████| 1/1 [00:00<00:00,  3.08it/s, max_LL=-4.18e+5, max_avg_LL=-69.3]\n"
     ]
    },
    {
     "name": "stdout",
     "output_type": "stream",
     "text": [
      "Fitting StepMix...\n"
     ]
    },
    {
     "name": "stderr",
     "output_type": "stream",
     "text": [
      "Initializations (n_init) : 100%|██████████| 1/1 [00:01<00:00,  1.40s/it, max_LL=-4.15e+5, max_avg_LL=-68.9]\n"
     ]
    },
    {
     "name": "stdout",
     "output_type": "stream",
     "text": [
      "Fitting StepMix...\n"
     ]
    },
    {
     "name": "stderr",
     "output_type": "stream",
     "text": [
      "Initializations (n_init) : 100%|██████████| 1/1 [00:01<00:00,  1.22s/it, max_LL=-4.13e+5, max_avg_LL=-68.6]\n"
     ]
    },
    {
     "name": "stdout",
     "output_type": "stream",
     "text": [
      "Fitting StepMix...\n"
     ]
    },
    {
     "name": "stderr",
     "output_type": "stream",
     "text": [
      "Initializations (n_init) : 100%|██████████| 1/1 [00:02<00:00,  2.03s/it, max_LL=-4.12e+5, max_avg_LL=-68.3]\n"
     ]
    },
    {
     "name": "stdout",
     "output_type": "stream",
     "text": [
      "Fitting StepMix...\n"
     ]
    },
    {
     "name": "stderr",
     "output_type": "stream",
     "text": [
      "Initializations (n_init) : 100%|██████████| 1/1 [00:01<00:00,  1.82s/it, max_LL=-4.11e+5, max_avg_LL=-68.2]\n"
     ]
    },
    {
     "name": "stdout",
     "output_type": "stream",
     "text": [
      "Fitting StepMix...\n"
     ]
    },
    {
     "name": "stderr",
     "output_type": "stream",
     "text": [
      "Initializations (n_init) : 100%|██████████| 1/1 [00:04<00:00,  4.71s/it, max_LL=-4.1e+5, max_avg_LL=-68]\n"
     ]
    },
    {
     "name": "stdout",
     "output_type": "stream",
     "text": [
      "Fitting StepMix...\n"
     ]
    },
    {
     "name": "stderr",
     "output_type": "stream",
     "text": [
      "Initializations (n_init) : 100%|██████████| 1/1 [00:03<00:00,  3.93s/it, max_LL=-4.09e+5, max_avg_LL=-67.9]\n"
     ]
    },
    {
     "name": "stdout",
     "output_type": "stream",
     "text": [
      "Fitting StepMix...\n"
     ]
    },
    {
     "name": "stderr",
     "output_type": "stream",
     "text": [
      "Initializations (n_init) : 100%|██████████| 1/1 [00:03<00:00,  3.98s/it, max_LL=-4.09e+5, max_avg_LL=-67.7]\n"
     ]
    },
    {
     "name": "stdout",
     "output_type": "stream",
     "text": [
      "Fitting StepMix...\n"
     ]
    },
    {
     "name": "stderr",
     "output_type": "stream",
     "text": [
      "Initializations (n_init) : 100%|██████████| 1/1 [00:04<00:00,  4.40s/it, max_LL=-4.08e+5, max_avg_LL=-67.6]\n"
     ]
    },
    {
     "name": "stdout",
     "output_type": "stream",
     "text": [
      "Fitting StepMix...\n"
     ]
    },
    {
     "name": "stderr",
     "output_type": "stream",
     "text": [
      "Initializations (n_init) : 100%|██████████| 1/1 [00:05<00:00,  5.32s/it, max_LL=-4.07e+5, max_avg_LL=-67.5]\n"
     ]
    },
    {
     "name": "stdout",
     "output_type": "stream",
     "text": [
      "Fitting StepMix...\n"
     ]
    },
    {
     "name": "stderr",
     "output_type": "stream",
     "text": [
      "Initializations (n_init) : 100%|██████████| 1/1 [00:03<00:00,  3.47s/it, max_LL=-4.06e+5, max_avg_LL=-67.4]\n"
     ]
    },
    {
     "name": "stdout",
     "output_type": "stream",
     "text": [
      "Fitting StepMix...\n"
     ]
    },
    {
     "name": "stderr",
     "output_type": "stream",
     "text": [
      "Initializations (n_init) : 100%|██████████| 1/1 [00:03<00:00,  3.49s/it, max_LL=-4.06e+5, max_avg_LL=-67.3]\n"
     ]
    },
    {
     "name": "stdout",
     "output_type": "stream",
     "text": [
      "Fitting StepMix...\n"
     ]
    },
    {
     "name": "stderr",
     "output_type": "stream",
     "text": [
      "Initializations (n_init) : 100%|██████████| 1/1 [00:06<00:00,  6.81s/it, max_LL=-4.05e+5, max_avg_LL=-67.2]\n"
     ]
    },
    {
     "name": "stdout",
     "output_type": "stream",
     "text": [
      "Fitting StepMix...\n"
     ]
    },
    {
     "name": "stderr",
     "output_type": "stream",
     "text": [
      "Initializations (n_init) : 100%|██████████| 1/1 [00:08<00:00,  8.94s/it, max_LL=-4.05e+5, max_avg_LL=-67.1]\n"
     ]
    },
    {
     "name": "stdout",
     "output_type": "stream",
     "text": [
      "Fitting StepMix...\n"
     ]
    },
    {
     "name": "stderr",
     "output_type": "stream",
     "text": [
      "Initializations (n_init) : 100%|██████████| 1/1 [00:11<00:00, 11.18s/it, max_LL=-4.04e+5, max_avg_LL=-67]\n",
      "/Users/tessa/miniforge3/envs/stepmix/lib/python3.12/site-packages/stepmix/stepmix.py:968: ConvergenceWarning: Initializations did not converge. Try different init parameters, or increase max_iter, abs_tol, rel_tol or check for degenerate data.\n",
      "  warnings.warn(\n"
     ]
    },
    {
     "name": "stdout",
     "output_type": "stream",
     "text": [
      "Fitting StepMix...\n"
     ]
    },
    {
     "name": "stderr",
     "output_type": "stream",
     "text": [
      "Initializations (n_init) : 100%|██████████| 1/1 [00:04<00:00,  4.75s/it, max_LL=-4.04e+5, max_avg_LL=-67]\n"
     ]
    },
    {
     "name": "stdout",
     "output_type": "stream",
     "text": [
      "Fitting StepMix...\n"
     ]
    },
    {
     "name": "stderr",
     "output_type": "stream",
     "text": [
      "Initializations (n_init) : 100%|██████████| 1/1 [00:03<00:00,  3.16s/it, max_LL=-4.03e+5, max_avg_LL=-66.9]\n"
     ]
    },
    {
     "name": "stdout",
     "output_type": "stream",
     "text": [
      "Fitting StepMix...\n"
     ]
    },
    {
     "name": "stderr",
     "output_type": "stream",
     "text": [
      "Initializations (n_init) : 100%|██████████| 1/1 [00:11<00:00, 11.56s/it, max_LL=-4.03e+5, max_avg_LL=-66.9]\n"
     ]
    },
    {
     "name": "stdout",
     "output_type": "stream",
     "text": [
      "Fitting StepMix...\n"
     ]
    },
    {
     "name": "stderr",
     "output_type": "stream",
     "text": [
      "Initializations (n_init) : 100%|██████████| 1/1 [00:12<00:00, 12.64s/it, max_LL=-4.03e+5, max_avg_LL=-66.8]\n",
      "/Users/tessa/miniforge3/envs/stepmix/lib/python3.12/site-packages/stepmix/stepmix.py:968: ConvergenceWarning: Initializations did not converge. Try different init parameters, or increase max_iter, abs_tol, rel_tol or check for degenerate data.\n",
      "  warnings.warn(\n"
     ]
    },
    {
     "name": "stdout",
     "output_type": "stream",
     "text": [
      "Fitting StepMix...\n"
     ]
    },
    {
     "name": "stderr",
     "output_type": "stream",
     "text": [
      "Initializations (n_init) : 100%|██████████| 1/1 [00:07<00:00,  7.16s/it, max_LL=-4.02e+5, max_avg_LL=-66.7]\n"
     ]
    },
    {
     "name": "stdout",
     "output_type": "stream",
     "text": [
      "Fitting StepMix...\n"
     ]
    },
    {
     "name": "stderr",
     "output_type": "stream",
     "text": [
      "Initializations (n_init) : 100%|██████████| 1/1 [00:12<00:00, 12.80s/it, max_LL=-4.02e+5, max_avg_LL=-66.6]\n",
      "/Users/tessa/miniforge3/envs/stepmix/lib/python3.12/site-packages/stepmix/stepmix.py:968: ConvergenceWarning: Initializations did not converge. Try different init parameters, or increase max_iter, abs_tol, rel_tol or check for degenerate data.\n",
      "  warnings.warn(\n"
     ]
    },
    {
     "name": "stdout",
     "output_type": "stream",
     "text": [
      "Fitting StepMix...\n"
     ]
    },
    {
     "name": "stderr",
     "output_type": "stream",
     "text": [
      "Initializations (n_init) : 100%|██████████| 1/1 [00:11<00:00, 11.32s/it, max_LL=-4.02e+5, max_avg_LL=-66.6]\n"
     ]
    },
    {
     "name": "stdout",
     "output_type": "stream",
     "text": [
      "Fitting StepMix...\n"
     ]
    },
    {
     "name": "stderr",
     "output_type": "stream",
     "text": [
      "Initializations (n_init) : 100%|██████████| 1/1 [00:00<00:00,  5.72it/s, max_LL=-4.31e+5, max_avg_LL=-71.5]"
     ]
    },
    {
     "name": "stdout",
     "output_type": "stream",
     "text": [
      "Fitting StepMix..."
     ]
    },
    {
     "name": "stderr",
     "output_type": "stream",
     "text": [
      "\n"
     ]
    },
    {
     "name": "stdout",
     "output_type": "stream",
     "text": [
      "\n"
     ]
    },
    {
     "name": "stderr",
     "output_type": "stream",
     "text": [
      "Initializations (n_init) : 100%|██████████| 1/1 [00:00<00:00,  2.67it/s, max_LL=-4.22e+5, max_avg_LL=-70]\n"
     ]
    },
    {
     "name": "stdout",
     "output_type": "stream",
     "text": [
      "Fitting StepMix...\n"
     ]
    },
    {
     "name": "stderr",
     "output_type": "stream",
     "text": [
      "Initializations (n_init) : 100%|██████████| 1/1 [00:00<00:00,  2.63it/s, max_LL=-4.18e+5, max_avg_LL=-69.3]\n"
     ]
    },
    {
     "name": "stdout",
     "output_type": "stream",
     "text": [
      "Fitting StepMix...\n"
     ]
    },
    {
     "name": "stderr",
     "output_type": "stream",
     "text": [
      "Initializations (n_init) : 100%|██████████| 1/1 [00:00<00:00,  1.15it/s, max_LL=-4.15e+5, max_avg_LL=-68.9]\n"
     ]
    },
    {
     "name": "stdout",
     "output_type": "stream",
     "text": [
      "Fitting StepMix...\n"
     ]
    },
    {
     "name": "stderr",
     "output_type": "stream",
     "text": [
      "Initializations (n_init) : 100%|██████████| 1/1 [00:01<00:00,  1.67s/it, max_LL=-4.13e+5, max_avg_LL=-68.6]\n"
     ]
    },
    {
     "name": "stdout",
     "output_type": "stream",
     "text": [
      "Fitting StepMix...\n"
     ]
    },
    {
     "name": "stderr",
     "output_type": "stream",
     "text": [
      "Initializations (n_init) : 100%|██████████| 1/1 [00:01<00:00,  1.34s/it, max_LL=-4.12e+5, max_avg_LL=-68.3]\n"
     ]
    },
    {
     "name": "stdout",
     "output_type": "stream",
     "text": [
      "Fitting StepMix...\n"
     ]
    },
    {
     "name": "stderr",
     "output_type": "stream",
     "text": [
      "Initializations (n_init) : 100%|██████████| 1/1 [00:01<00:00,  1.96s/it, max_LL=-4.11e+5, max_avg_LL=-68.2]\n"
     ]
    },
    {
     "name": "stdout",
     "output_type": "stream",
     "text": [
      "Fitting StepMix...\n"
     ]
    },
    {
     "name": "stderr",
     "output_type": "stream",
     "text": [
      "Initializations (n_init) : 100%|██████████| 1/1 [00:03<00:00,  3.26s/it, max_LL=-4.1e+5, max_avg_LL=-68]\n"
     ]
    },
    {
     "name": "stdout",
     "output_type": "stream",
     "text": [
      "Fitting StepMix...\n"
     ]
    },
    {
     "name": "stderr",
     "output_type": "stream",
     "text": [
      "Initializations (n_init) : 100%|██████████| 1/1 [00:02<00:00,  2.58s/it, max_LL=-4.09e+5, max_avg_LL=-67.9]\n"
     ]
    },
    {
     "name": "stdout",
     "output_type": "stream",
     "text": [
      "Fitting StepMix...\n"
     ]
    },
    {
     "name": "stderr",
     "output_type": "stream",
     "text": [
      "Initializations (n_init) : 100%|██████████| 1/1 [00:02<00:00,  2.47s/it, max_LL=-4.09e+5, max_avg_LL=-67.7]\n"
     ]
    },
    {
     "name": "stdout",
     "output_type": "stream",
     "text": [
      "Fitting StepMix...\n"
     ]
    },
    {
     "name": "stderr",
     "output_type": "stream",
     "text": [
      "Initializations (n_init) : 100%|██████████| 1/1 [00:03<00:00,  3.17s/it, max_LL=-4.08e+5, max_avg_LL=-67.6]\n"
     ]
    },
    {
     "name": "stdout",
     "output_type": "stream",
     "text": [
      "Fitting StepMix...\n"
     ]
    },
    {
     "name": "stderr",
     "output_type": "stream",
     "text": [
      "Initializations (n_init) : 100%|██████████| 1/1 [00:07<00:00,  7.08s/it, max_LL=-4.07e+5, max_avg_LL=-67.5]\n"
     ]
    },
    {
     "name": "stdout",
     "output_type": "stream",
     "text": [
      "Fitting StepMix...\n"
     ]
    },
    {
     "name": "stderr",
     "output_type": "stream",
     "text": [
      "Initializations (n_init) : 100%|██████████| 1/1 [00:08<00:00,  8.69s/it, max_LL=-4.06e+5, max_avg_LL=-67.4]\n",
      "/Users/tessa/miniforge3/envs/stepmix/lib/python3.12/site-packages/stepmix/stepmix.py:968: ConvergenceWarning: Initializations did not converge. Try different init parameters, or increase max_iter, abs_tol, rel_tol or check for degenerate data.\n",
      "  warnings.warn(\n"
     ]
    },
    {
     "name": "stdout",
     "output_type": "stream",
     "text": [
      "Fitting StepMix...\n"
     ]
    },
    {
     "name": "stderr",
     "output_type": "stream",
     "text": [
      "Initializations (n_init) : 100%|██████████| 1/1 [00:03<00:00,  3.87s/it, max_LL=-4.06e+5, max_avg_LL=-67.3]\n"
     ]
    },
    {
     "name": "stdout",
     "output_type": "stream",
     "text": [
      "Fitting StepMix...\n"
     ]
    },
    {
     "name": "stderr",
     "output_type": "stream",
     "text": [
      "Initializations (n_init) : 100%|██████████| 1/1 [00:10<00:00, 10.91s/it, max_LL=-4.05e+5, max_avg_LL=-67.2]\n"
     ]
    },
    {
     "name": "stdout",
     "output_type": "stream",
     "text": [
      "Fitting StepMix...\n"
     ]
    },
    {
     "name": "stderr",
     "output_type": "stream",
     "text": [
      "Initializations (n_init) : 100%|██████████| 1/1 [00:04<00:00,  4.50s/it, max_LL=-4.05e+5, max_avg_LL=-67.1]\n"
     ]
    },
    {
     "name": "stdout",
     "output_type": "stream",
     "text": [
      "Fitting StepMix...\n"
     ]
    },
    {
     "name": "stderr",
     "output_type": "stream",
     "text": [
      "Initializations (n_init) : 100%|██████████| 1/1 [00:10<00:00, 10.82s/it, max_LL=-4.04e+5, max_avg_LL=-67.1]\n",
      "/Users/tessa/miniforge3/envs/stepmix/lib/python3.12/site-packages/stepmix/stepmix.py:968: ConvergenceWarning: Initializations did not converge. Try different init parameters, or increase max_iter, abs_tol, rel_tol or check for degenerate data.\n",
      "  warnings.warn(\n"
     ]
    },
    {
     "name": "stdout",
     "output_type": "stream",
     "text": [
      "Fitting StepMix...\n"
     ]
    },
    {
     "name": "stderr",
     "output_type": "stream",
     "text": [
      "Initializations (n_init) : 100%|██████████| 1/1 [00:06<00:00,  6.53s/it, max_LL=-4.04e+5, max_avg_LL=-67]\n"
     ]
    },
    {
     "name": "stdout",
     "output_type": "stream",
     "text": [
      "Fitting StepMix...\n"
     ]
    },
    {
     "name": "stderr",
     "output_type": "stream",
     "text": [
      "Initializations (n_init) : 100%|██████████| 1/1 [00:09<00:00,  9.53s/it, max_LL=-4.04e+5, max_avg_LL=-66.9]\n"
     ]
    },
    {
     "name": "stdout",
     "output_type": "stream",
     "text": [
      "Fitting StepMix...\n"
     ]
    },
    {
     "name": "stderr",
     "output_type": "stream",
     "text": [
      "Initializations (n_init) : 100%|██████████| 1/1 [00:13<00:00, 13.14s/it, max_LL=-4.03e+5, max_avg_LL=-66.9]\n"
     ]
    },
    {
     "name": "stdout",
     "output_type": "stream",
     "text": [
      "Fitting StepMix...\n"
     ]
    },
    {
     "name": "stderr",
     "output_type": "stream",
     "text": [
      "Initializations (n_init) : 100%|██████████| 1/1 [00:13<00:00, 13.71s/it, max_LL=-4.03e+5, max_avg_LL=-66.8]\n",
      "/Users/tessa/miniforge3/envs/stepmix/lib/python3.12/site-packages/stepmix/stepmix.py:968: ConvergenceWarning: Initializations did not converge. Try different init parameters, or increase max_iter, abs_tol, rel_tol or check for degenerate data.\n",
      "  warnings.warn(\n"
     ]
    },
    {
     "name": "stdout",
     "output_type": "stream",
     "text": [
      "Fitting StepMix...\n"
     ]
    },
    {
     "name": "stderr",
     "output_type": "stream",
     "text": [
      "Initializations (n_init) : 100%|██████████| 1/1 [00:11<00:00, 11.76s/it, max_LL=-4.02e+5, max_avg_LL=-66.7]\n"
     ]
    },
    {
     "name": "stdout",
     "output_type": "stream",
     "text": [
      "Fitting StepMix...\n"
     ]
    },
    {
     "name": "stderr",
     "output_type": "stream",
     "text": [
      "Initializations (n_init) : 100%|██████████| 1/1 [00:07<00:00,  7.64s/it, max_LL=-4.02e+5, max_avg_LL=-66.6]\n"
     ]
    },
    {
     "name": "stdout",
     "output_type": "stream",
     "text": [
      "Fitting StepMix...\n"
     ]
    },
    {
     "name": "stderr",
     "output_type": "stream",
     "text": [
      "Initializations (n_init) : 100%|██████████| 1/1 [00:07<00:00,  7.76s/it, max_LL=-4.01e+5, max_avg_LL=-66.6]\n"
     ]
    }
   ],
   "source": [
    "ncomps = [] \n",
    "for i in range(10):\n",
    "    ncomps.append(get_best_params(i))"
   ]
  },
  {
   "cell_type": "code",
   "execution_count": 298,
   "metadata": {},
   "outputs": [
    {
     "data": {
      "text/plain": [
       "12.9"
      ]
     },
     "execution_count": 298,
     "metadata": {},
     "output_type": "execute_result"
    }
   ],
   "source": [
    "np.mean(ncomps)"
   ]
  },
  {
   "cell_type": "code",
   "execution_count": 299,
   "metadata": {},
   "outputs": [
    {
     "data": {
      "text/plain": [
       "12.5"
      ]
     },
     "execution_count": 299,
     "metadata": {},
     "output_type": "execute_result"
    }
   ],
   "source": [
    "# average 12.9 so we're sticking with 13! great! "
   ]
  },
  {
   "cell_type": "code",
   "execution_count": null,
   "metadata": {},
   "outputs": [],
   "source": []
  },
  {
   "cell_type": "code",
   "execution_count": 14,
   "metadata": {},
   "outputs": [
    {
     "name": "stdout",
     "output_type": "stream",
     "text": [
      "Fitting StepMix...\n"
     ]
    },
    {
     "name": "stderr",
     "output_type": "stream",
     "text": [
      "Initializations (n_init) : 100%|██████████| 1/1 [00:03<00:00,  3.77s/it, max_LL=-4.07e+5, max_avg_LL=-67.5]"
     ]
    },
    {
     "name": "stdout",
     "output_type": "stream",
     "text": [
      "================================================================================\n",
      "MODEL REPORT\n",
      "================================================================================\n",
      "    ============================================================================\n",
      "    Measurement model parameters\n",
      "    ============================================================================\n",
      "          model_name                                                    binary                                                                                                \n",
      "          class_no                                                          0       1       2       3       4       5       6       7       8       9       10      11      12\n",
      "          param variable                                                                                                                                                      \n",
      "          pis   Symptom_Acid_reflux                                     0.1037  0.6652  0.1314  0.3749  0.4235  0.7062  0.4805  0.2531  0.3659  0.3481  0.0605  0.2597  0.4439\n",
      "                Symptom_Acute_confusion                                 0.0420  0.3145  0.1475  0.1973  0.2995  0.6950  0.4359  0.0099  0.1078  0.1068  0.0033  0.2926  0.0996\n",
      "                Symptom_Altered_smell                                   0.1398  0.3729  0.1454  0.2738  0.2814  0.5825  0.2853  0.1283  0.2141  0.2191  0.1932  0.2129  0.0926\n",
      "                Symptom_Altered_taste                                   0.1732  0.4498  0.1741  0.3233  0.3363  0.6610  0.3826  0.1561  0.2731  0.2407  0.2060  0.2834  0.1616\n",
      "                Symptom_Awakened_cannot_breathe                         0.1500  0.6024  0.1197  0.3869  0.4829  0.7315  0.5495  0.1666  0.4213  0.1244  0.0418  0.2020  0.4128\n",
      "                Symptom_Bladder_control                                 0.0419  0.3518  0.0701  0.1274  0.1497  0.5466  0.2797  0.0595  0.0832  0.1352  0.0137  0.1927  0.1863\n",
      "                Symptom_Bone_ache_burning                               0.0740  0.5495  0.0820  0.2090  0.3505  0.6999  0.4716  0.1030  0.1769  0.2061  0.0397  0.2479  0.2980\n",
      "                Symptom_Bradycardia                                     0.0770  0.2731  0.0689  0.1249  0.1740  0.4729  0.2959  0.0947  0.1067  0.1480  0.0231  0.1503  0.2369\n",
      "                Symptom_Bulging_veins                                   0.0316  0.4588  0.0239  0.0824  0.1214  0.5320  0.3260  0.0674  0.0750  0.1823  0.0062  0.1358  0.2990\n",
      "                Symptom_Change_sensitivity_to_meds                      0.0803  0.4338  0.0980  0.1862  0.2084  0.4872  0.3162  0.1207  0.1650  0.1749  0.0681  0.2637  0.2874\n",
      "                Symptom_Changes_in_voice                                0.0975  0.5129  0.1549  0.2437  0.2114  0.5773  0.4180  0.1274  0.2230  0.2915  0.0648  0.2274  0.2754\n",
      "                Symptom_Chills_flushing_sweats                          0.2289  0.8654  0.2553  0.6985  0.6432  0.9255  0.8291  0.3767  0.6139  0.6178  0.0927  0.4207  0.6034\n",
      "                Symptom_Cognitive_Functioning_agnosia                   0.0317  0.0892  0.1236  0.0972  0.0907  0.4506  0.2726  0.0095  0.0277  0.0565  0.0070  0.2155  0.0512\n",
      "                Symptom_Cognitive_Functioning_attentionconcentration    0.8953  0.8514  0.8465  0.9478  0.9555  0.9882  0.9589  0.2078  0.7940  0.7343  0.1871  0.9512  0.5956\n",
      "                Symptom_Cognitive_Functioning_executive                 0.6403  0.6115  0.7141  0.8539  0.8208  0.9610  0.9066  0.0432  0.5283  0.5002  0.0518  0.9271  0.2892\n",
      "                Symptom_Cognitive_Functioning_fastthoughts              0.1379  0.2462  0.1421  0.2234  0.3019  0.4174  0.2858  0.0239  0.1471  0.0982  0.0161  0.2644  0.0789\n",
      "                Symptom_Cognitive_Functioning_other                     0.0380  0.0877  0.0977  0.1252  0.0595  0.1805  0.1270  0.0522  0.0476  0.1111  0.0252  0.1198  0.1016\n",
      "                Symptom_Cognitive_Functioning_problemsolving            0.6097  0.5673  0.6431  0.8107  0.7908  0.9438  0.9077  0.0239  0.4809  0.4833  0.0386  0.8643  0.2575\n",
      "                Symptom_Cognitive_Functioning_slowedthoughts            0.4095  0.4396  0.4866  0.6305  0.5287  0.8040  0.6834  0.0625  0.3068  0.3647  0.1249  0.6367  0.2933\n",
      "                Symptom_Cognitive_Functioning_thinking                  0.7411  0.7205  0.8262  0.9183  0.8948  0.9916  0.9488  0.0466  0.6449  0.6676  0.0973  0.9482  0.4257\n",
      "                Symptom_Constipation                                    0.0989  0.5164  0.1213  0.2792  0.3293  0.5987  0.4137  0.1482  0.2094  0.2272  0.0519  0.2328  0.3102\n",
      "                Symptom_Cough_with_mucus                                0.1689  0.4174  0.2087  0.3779  0.3085  0.5334  0.4171  0.2260  0.3244  0.2932  0.1199  0.1762  0.2487\n",
      "                Symptom_Covid_toes                                      0.0406  0.2800  0.0445  0.0886  0.1207  0.4037  0.2096  0.0694  0.0780  0.1677  0.0338  0.1656  0.1366\n",
      "                Symptom_Dermatographia                                  0.0094  0.2699  0.0116  0.0318  0.0579  0.3613  0.1299  0.0197  0.0309  0.0762  0.0101  0.1048  0.1056\n",
      "                Symptom_Diarrhea                                        0.2527  0.8752  0.3245  0.6374  0.6293  0.8756  0.7342  0.4781  0.6429  0.6366  0.1798  0.3744  0.6330\n",
      "                Symptom_Difficulty_falling_asleep                       0.2527  0.5600  0.2491  0.6232  0.5382  0.7749  0.5822  0.2664  0.4850  0.0000  0.0341  0.3397  0.5382\n",
      "                Symptom_Difficulty_swallowing                           0.1043  0.6483  0.1337  0.2669  0.3247  0.7889  0.5215  0.1475  0.2776  0.3197  0.0528  0.2306  0.3865\n",
      "                Symptom_Dizziness_vertigo                               0.3965  0.9223  0.5350  0.7592  0.8997  0.9676  0.9317  0.4347  0.6755  0.7510  0.1506  0.8180  0.7279\n",
      "                Symptom_Dry_cough                                       0.4749  0.7920  0.5468  0.7493  0.6615  0.8112  0.7806  0.5490  0.7070  0.7273  0.3981  0.5436  0.5634\n",
      "                Symptom_Ear_changes_to_ear_canal                        0.0592  0.4869  0.0716  0.1543  0.3139  0.6558  0.3203  0.1404  0.1451  0.2070  0.0294  0.2140  0.2663\n",
      "                Symptom_Ear_ear_pain                                    0.0782  0.6070  0.0819  0.1908  0.3129  0.7424  0.3877  0.1326  0.1539  0.2687  0.0181  0.2394  0.2994\n",
      "                Symptom_Ear_sensitivity_to_noise                        0.1377  0.5993  0.2232  0.3303  0.4869  0.8727  0.6743  0.1269  0.2185  0.3045  0.0458  0.5494  0.3134\n",
      "                Symptom_Elevated_temp                                   0.2887  0.8259  0.2629  0.7379  0.6348  0.8596  0.7912  0.4003  0.7173  0.6286  0.1406  0.3269  0.5563\n",
      "                Symptom_Extreme_thirst                                  0.1194  0.5917  0.1056  0.3028  0.4065  0.7619  0.5628  0.1508  0.3330  0.3641  0.0253  0.3337  0.4040\n",
      "                Symptom_Eye_Vision_bloodshot_eyes                       0.0372  0.3749  0.0287  0.0832  0.1913  0.4286  0.2274  0.0631  0.0851  0.1445  0.0111  0.1836  0.1820\n",
      "                Symptom_Eye_Vision_blurred_vision                       0.1333  0.7025  0.2124  0.3412  0.5208  0.8894  0.6966  0.1208  0.1853  0.3790  0.0273  0.5431  0.4450\n",
      "                Symptom_Eye_Vision_double_vision                        0.0159  0.1598  0.0297  0.0553  0.0720  0.3686  0.1635  0.0095  0.0125  0.0687  0.0056  0.1341  0.0812\n",
      "                Symptom_Eye_Vision_dry_eyes                             0.1022  0.6017  0.1168  0.1849  0.3453  0.7247  0.4643  0.1466  0.2126  0.3672  0.0447  0.3807  0.3575\n",
      "                Symptom_Eye_Vision_eye_pressure_pain                    0.0879  0.5994  0.0839  0.1866  0.4299  0.7470  0.4657  0.1068  0.1273  0.2591  0.0274  0.3334  0.2632\n",
      "                Symptom_Eye_Vision_floaters                             0.0545  0.4965  0.0923  0.1237  0.2773  0.6193  0.3658  0.0772  0.1197  0.1895  0.0184  0.2894  0.2117\n",
      "                Symptom_Eye_Vision_other_eye_issues                     0.1156  0.4111  0.1436  0.2340  0.2589  0.5415  0.3629  0.1765  0.1660  0.3159  0.0623  0.3476  0.3193\n",
      "                Symptom_Eye_Vision_pink_eye                             0.0406  0.3614  0.0488  0.0814  0.1017  0.3158  0.1910  0.0707  0.0850  0.1799  0.0381  0.1425  0.1548\n",
      "                Symptom_Eye_Vision_redness_outside_eye                  0.0152  0.2586  0.0289  0.0216  0.1118  0.3335  0.1104  0.0291  0.0363  0.1089  0.0110  0.1023  0.1005\n",
      "                Symptom_Eye_Vision_seeing_things_peripheral_vision      0.0295  0.3311  0.0503  0.1075  0.1833  0.4980  0.2832  0.0226  0.0645  0.0896  0.0029  0.1737  0.1000\n",
      "                Symptom_Eye_Vision_sensitivity_to_light                 0.1015  0.6550  0.1462  0.2740  0.4984  0.9218  0.6032  0.0740  0.1632  0.3033  0.0188  0.5208  0.2248\n",
      "                Symptom_Eye_vision_symptoms                             0.1265  0.6968  0.1775  0.2873  0.4768  0.8538  0.6759  0.1189  0.1542  0.3519  0.0108  0.5149  0.4248\n",
      "                Symptom_Fainting                                        0.0619  0.2180  0.0476  0.1226  0.1548  0.4143  0.2094  0.0456  0.0986  0.1114  0.0138  0.1693  0.1214\n",
      "                Symptom_Fever                                           0.1239  0.4010  0.1390  0.4270  0.3114  0.5492  0.4840  0.1848  0.4442  0.3519  0.0662  0.1717  0.2221\n",
      "                Symptom_Gasping_air_normal_oxygen                       0.3416  0.7602  0.3960  0.6578  0.7122  0.8355  0.7887  0.4515  0.6073  0.6746  0.1877  0.4902  0.5527\n",
      "                Symptom_Gastrointestinal_abdominal_pain                 0.1200  0.8442  0.1434  0.4239  0.5242  0.9232  0.6294  0.2640  0.4323  0.4505  0.0539  0.3323  0.4991\n",
      "                Symptom_Gastrointestinal_feeling_full_quickly_eating    0.1167  0.5678  0.1363  0.3576  0.3349  0.6562  0.4639  0.2252  0.3259  0.3428  0.0778  0.2619  0.3406\n",
      "                Symptom_Gastrointestinal_hyperactive_bowel              0.0586  0.5628  0.0829  0.2256  0.2874  0.5813  0.3699  0.1527  0.2447  0.2428  0.0412  0.1707  0.2708\n",
      "                Symptom_Hallucinations_auditory                         0.0122  0.1528  0.0482  0.0240  0.0776  0.3634  0.1427  0.0130  0.0321  0.0385  0.0123  0.1069  0.0387\n",
      "                Symptom_Hallucinations_visual                           0.0253  0.1834  0.0774  0.0665  0.1019  0.4116  0.2093  0.0265  0.0699  0.0708  0.0088  0.1593  0.0664\n",
      "                Symptom_Headaches_after_mental_exertion                 0.1601  0.4148  0.1202  0.3132  0.5360  0.7086  0.5052  0.0390  0.1844  0.1659  0.0190  0.4808  0.1144\n",
      "                Symptom_Headaches_base_of_skull                         0.1457  0.5526  0.1415  0.2331  0.5041  0.6528  0.4479  0.1287  0.2084  0.2313  0.0332  0.3668  0.2922\n",
      "                Symptom_Headaches_behind_eyes                           0.2831  0.6545  0.2499  0.3621  0.6904  0.7847  0.5663  0.2393  0.3629  0.4205  0.0774  0.5039  0.3099\n",
      "                Symptom_Headaches_brain_pressure                        0.2051  0.5969  0.1779  0.2949  0.6143  0.8103  0.5688  0.0997  0.1975  0.3025  0.0366  0.5345  0.2946\n",
      "                Symptom_Headaches_brain_warmth                          0.0514  0.2061  0.0221  0.0674  0.2307  0.4503  0.2068  0.0361  0.0706  0.0982  0.0120  0.1571  0.1321\n",
      "                Symptom_Headaches_diffuse                               0.2767  0.4249  0.2270  0.3871  0.5380  0.6780  0.4814  0.2104  0.2894  0.3441  0.0753  0.4731  0.2385\n",
      "                Symptom_Headaches_migraines                             0.1363  0.4253  0.1224  0.2471  0.4335  0.6026  0.3542  0.1109  0.1962  0.1963  0.0284  0.3450  0.1781\n",
      "                Symptom_Headaches_other                                 0.0799  0.1564  0.0731  0.1536  0.1681  0.3054  0.1509  0.0984  0.0963  0.1464  0.0452  0.2099  0.1480\n",
      "                Symptom_Headaches_stiff_neck                            0.2345  0.7122  0.1840  0.3914  0.6657  0.8442  0.6480  0.1710  0.3476  0.4042  0.0488  0.4990  0.3536\n",
      "                Symptom_Headaches_temples                               0.2788  0.4894  0.2029  0.3239  0.6100  0.6546  0.4813  0.2304  0.3497  0.2594  0.0832  0.4579  0.2788\n",
      "                Symptom_Hearing_loss                                    0.0303  0.2169  0.0613  0.0610  0.1043  0.3633  0.1737  0.0559  0.0373  0.0752  0.0159  0.1039  0.0919\n",
      "                Symptom_Heart_palpitations                              0.4553  0.8996  0.4083  0.7449  0.7565  0.9226  0.8702  0.5485  0.6538  0.7510  0.1973  0.6782  0.7477\n",
      "                Symptom_Heat_intolerance                                0.0778  0.5219  0.1192  0.3497  0.3747  0.7344  0.5092  0.1049  0.2275  0.2193  0.0326  0.3001  0.2502\n",
      "                Symptom_Heightened_smell                                0.0232  0.2004  0.0197  0.0923  0.0770  0.3316  0.1301  0.0341  0.0553  0.0584  0.0097  0.0943  0.0583\n",
      "                Symptom_Inability_to_yawn                               0.0250  0.1568  0.0165  0.0331  0.0411  0.1767  0.0713  0.0252  0.0285  0.0406  0.0162  0.0415  0.1026\n",
      "                Symptom_Insomnia                                        0.5336  0.9109  0.5220  0.8767  0.9118  0.9734  0.8624  0.5840  0.8954  0.0355  0.1005  0.6853  0.9796\n",
      "                Symptom_Joint_pain                                      0.2851  0.8794  0.3902  0.5516  0.7490  0.9359  0.8131  0.3437  0.5028  0.5531  0.1450  0.6061  0.6231\n",
      "                Symptom_Loss_of_appetite                                0.2253  0.7422  0.2761  0.5947  0.5590  0.8708  0.6770  0.3908  0.6043  0.5485  0.1465  0.3884  0.5687\n",
      "                Symptom_Loss_of_smell                                   0.3317  0.4442  0.3620  0.4873  0.4121  0.5980  0.4635  0.2811  0.4416  0.3687  0.3695  0.3768  0.2368\n",
      "                Symptom_Loss_of_taste                                   0.3094  0.4144  0.3071  0.4271  0.4003  0.6059  0.4357  0.2437  0.4245  0.3369  0.3158  0.2966  0.2089\n",
      "                Symptom_Low_temp                                        0.0418  0.4379  0.0489  0.1883  0.1819  0.5503  0.3821  0.1029  0.1480  0.1978  0.0096  0.1054  0.2626\n",
      "                Symptom_Lucid_dreams                                    0.0751  0.3048  0.0741  0.1512  0.2697  0.4043  0.2605  0.0742  0.1693  0.0226  0.0065  0.2292  0.1170\n",
      "                Symptom_Memory_forget_tasks                             0.0560  0.1123  0.1484  0.1681  0.1221  0.5164  0.3124  0.0033  0.0511  0.0922  0.0034  0.2958  0.0509\n",
      "                Symptom_Memory_long                                     0.3312  0.4333  0.5445  0.6183  0.5015  0.8620  0.7373  0.0352  0.2524  0.3071  0.0521  0.7263  0.2219\n",
      "                Symptom_Memory_no_new_memories                          0.0463  0.0465  0.0670  0.1141  0.1012  0.3325  0.1997  0.0000  0.0296  0.0299  0.0071  0.2474  0.0107\n",
      "                Symptom_Memory_other                                    0.0693  0.1517  0.1672  0.1823  0.0886  0.2040  0.1401  0.0474  0.0487  0.1875  0.0475  0.1976  0.1267\n",
      "                Symptom_Memory_short                                    0.9080  0.9334  0.8855  0.9321  0.9307  0.9847  0.9595  0.9366  0.9107  0.8607  0.9360  0.9394  0.9020\n",
      "                Symptom_Merged_temperature_other_temp_issues            0.1749  0.5554  0.2436  0.4934  0.4887  0.6851  0.5327  0.3044  0.3450  0.4264  0.0874  0.3751  0.5077\n",
      "                Symptom_Muscle_aches                                    0.4677  0.9332  0.5313  0.7397  0.8316  0.9705  0.8891  0.5032  0.6827  0.6888  0.2380  0.7451  0.7482\n",
      "                Symptom_Muscle_spasms                                   0.0967  0.6879  0.1482  0.2268  0.4971  0.8513  0.6354  0.1569  0.1745  0.3146  0.0275  0.3749  0.4837\n",
      "                Symptom_Nausea                                          0.1488  0.8451  0.2269  0.5456  0.6037  0.8949  0.7054  0.2935  0.4740  0.5089  0.0862  0.4042  0.5349\n",
      "                Symptom_Neuralgia                                       0.0767  0.7087  0.1060  0.2029  0.4511  0.8415  0.5791  0.1579  0.1281  0.3313  0.0243  0.3440  0.4969\n",
      "                Symptom_New_allergies                                   0.0296  0.2818  0.0358  0.1040  0.0709  0.3432  0.1746  0.0549  0.0615  0.1158  0.0121  0.1150  0.1714\n",
      "                Symptom_Night_sweats                                    0.2057  0.7076  0.1524  0.4990  0.5668  0.8174  0.6129  0.2066  0.5100  0.1362  0.0333  0.3648  0.5000\n",
      "                Symptom_Nightmares                                      0.0809  0.4356  0.1138  0.3020  0.3290  0.6272  0.4147  0.1074  0.2992  0.0361  0.0068  0.2664  0.2312\n",
      "                Symptom_Other_ear_hearing_symptoms                      0.0814  0.3887  0.1355  0.1331  0.2192  0.5186  0.3067  0.1294  0.1343  0.2256  0.0472  0.2790  0.2999\n",
      "                Symptom_PEM                                             0.8383  0.9574  0.8605  0.9557  0.9627  0.9940  0.9865  0.7647  0.9206  0.8967  0.5201  0.9588  0.8873\n",
      "                Symptom_Pain_burning_chest                              0.2586  0.7866  0.2431  0.5026  0.5369  0.8408  0.6661  0.3782  0.4874  0.5665  0.1558  0.3409  0.5314\n",
      "                Symptom_Peeling_skin                                    0.0353  0.3116  0.0243  0.0882  0.1031  0.4478  0.1978  0.0428  0.0743  0.1415  0.0202  0.1403  0.1900\n",
      "                Symptom_Petechiae                                       0.0409  0.4695  0.0369  0.1081  0.1397  0.5775  0.2576  0.0817  0.0917  0.1964  0.0144  0.1317  0.2120\n",
      "                Symptom_Phantom_smell                                   0.1224  0.4436  0.1430  0.2848  0.3278  0.7107  0.3840  0.1177  0.2182  0.2017  0.1307  0.2384  0.1344\n",
      "                Symptom_Phantom_taste                                   0.0583  0.2221  0.0339  0.0745  0.1359  0.4598  0.1349  0.0365  0.0699  0.0532  0.0500  0.0899  0.0348\n",
      "                Symptom_Rattling_breath                                 0.0604  0.3278  0.0901  0.2002  0.2187  0.4657  0.3067  0.0827  0.1770  0.1870  0.0462  0.1058  0.1222\n",
      "                Symptom_Reproductive_abnormally_heavy_periods_clotting  0.0320  0.2126  0.0360  0.1130  0.0878  0.2310  0.1944  0.0301  0.0901  0.1031  0.0167  0.0455  0.0964\n",
      "                Symptom_Reproductive_abnormally_irregular_periods       0.0424  0.1795  0.0376  0.1587  0.1486  0.3165  0.2040  0.0570  0.1212  0.1251  0.0260  0.0633  0.1428\n",
      "                Symptom_Reproductive_all_menstrual_issues               0.0613  0.3331  0.0732  0.2237  0.1851  0.4518  0.3386  0.0886  0.1677  0.2164  0.0499  0.0610  0.2148\n",
      "                Symptom_Reproductive_other_menstrual_issues             0.0393  0.1249  0.0741  0.1067  0.0779  0.1893  0.1345  0.0605  0.0855  0.1123  0.0434  0.0461  0.1039\n",
      "                Symptom_Reproductive_other_urinary_issues               0.0534  0.3168  0.0611  0.1305  0.1629  0.4613  0.2413  0.0640  0.1064  0.1623  0.0127  0.1952  0.1995\n",
      "                Symptom_Reproductive_sexual_dysfunction                 0.0495  0.1843  0.0927  0.0998  0.1374  0.3426  0.1745  0.0359  0.0914  0.0903  0.0208  0.2104  0.0725\n",
      "                Symptom_Respiratory_other                               0.0348  0.1213  0.0796  0.0701  0.0618  0.1383  0.0787  0.0771  0.0788  0.1482  0.0851  0.0868  0.1177\n",
      "                Symptom_Restless_leg                                    0.0867  0.3571  0.0793  0.1954  0.3360  0.4882  0.3562  0.0757  0.1586  0.0086  0.0106  0.2284  0.2169\n",
      "                Symptom_Runny_nose                                      0.1899  0.5267  0.2096  0.3992  0.3721  0.6440  0.4629  0.2290  0.3454  0.3489  0.1709  0.2239  0.2593\n",
      "                Symptom_Sensations_coldness                             0.1225  0.7439  0.1633  0.2864  0.3890  0.8281  0.5812  0.1806  0.2602  0.4039  0.0813  0.3748  0.4780\n",
      "                Symptom_Sensations_electrical_zaps                      0.0635  0.4964  0.0646  0.1292  0.3817  0.7627  0.4772  0.1127  0.0812  0.2355  0.0298  0.3349  0.4107\n",
      "                Symptom_Sensations_facial_pressure_left                 0.0192  0.1735  0.0299  0.0308  0.1343  0.3372  0.1201  0.0256  0.0094  0.0680  0.0000  0.1054  0.1344\n",
      "                Symptom_Sensations_facial_pressure_other                0.0202  0.1325  0.0249  0.0292  0.1250  0.2013  0.0715  0.0158  0.0327  0.0747  0.0000  0.1104  0.0666\n",
      "                Symptom_Sensations_facial_pressure_right                0.0150  0.1719  0.0354  0.0119  0.1155  0.3150  0.1017  0.0284  0.0132  0.0506  0.0049  0.0599  0.1027\n",
      "                Symptom_Sensations_numbness_loss_sensation              0.1539  0.6966  0.1639  0.2513  0.5362  0.8679  0.5869  0.2025  0.2002  0.3526  0.0661  0.4353  0.5462\n",
      "                Symptom_Sensations_numbness_one_sided_weakness          0.0348  0.3002  0.0360  0.0610  0.1719  0.4181  0.2071  0.0547  0.0359  0.1258  0.0103  0.2135  0.2056\n",
      "                Symptom_Sensations_skin_burning_no_rash                 0.1829  0.8337  0.1846  0.3253  0.6496  0.9437  0.7594  0.2733  0.2866  0.4944  0.1118  0.5840  0.6921\n",
      "                Symptom_Sensations_tingling_prickling                   0.2531  0.8059  0.2382  0.3776  0.6791  0.9160  0.7297  0.3498  0.3024  0.5079  0.1147  0.5720  0.7218\n",
      "                Symptom_Sensations_weakness                             0.2902  0.7303  0.2981  0.4810  0.5968  0.8520  0.7044  0.2590  0.3438  0.4465  0.1200  0.5835  0.5573\n",
      "                Symptom_Shortness_of_breath                             0.5803  0.8782  0.6314  0.8816  0.8096  0.9349  0.9073  0.6323  0.8295  0.8069  0.3732  0.6225  0.6876\n",
      "                Symptom_SkinAllergy_brittle_nail                        0.0233  0.3042  0.0486  0.0653  0.0999  0.4235  0.1802  0.0361  0.0505  0.1045  0.0195  0.1314  0.1240\n",
      "                Symptom_SkinAllergy_heighted_reaction_allergies         0.0496  0.2953  0.0560  0.1165  0.1115  0.3627  0.1915  0.0777  0.0820  0.1214  0.0133  0.1135  0.1399\n",
      "                Symptom_SkinAllergy_itchy_eyes                          0.0673  0.6284  0.0892  0.1247  0.2879  0.7608  0.4236  0.1100  0.1566  0.2669  0.0329  0.3043  0.2728\n",
      "                Symptom_SkinAllergy_itchy_skin                          0.0984  0.7226  0.1176  0.2302  0.3269  0.8250  0.5477  0.1574  0.2210  0.3740  0.0676  0.3814  0.3992\n",
      "                Symptom_SkinAllergy_other_itchy                         0.0106  0.1107  0.0355  0.0497  0.0462  0.1818  0.0694  0.0364  0.0392  0.0633  0.0153  0.0694  0.0876\n",
      "                Symptom_Skin_Allergy_other                              0.0332  0.1245  0.0675  0.0815  0.1137  0.1696  0.1426  0.0665  0.0681  0.1320  0.0221  0.1366  0.1328\n",
      "                Symptom_Skin_rashes                                     0.0969  0.5701  0.0926  0.2215  0.2003  0.7016  0.3920  0.1404  0.2069  0.3429  0.0609  0.3113  0.3411\n",
      "                Symptom_Sleep_apnea                                     0.0652  0.2002  0.0535  0.1376  0.1524  0.3515  0.2181  0.0578  0.1277  0.0212  0.0370  0.1043  0.1658\n",
      "                Symptom_Sleep_other                                     0.3742  0.6404  0.3676  0.6967  0.6239  0.8307  0.7405  0.3297  0.6107  0.3405  0.1446  0.6097  0.5875\n",
      "                Symptom_Slurring_words                                  0.0061  0.2400  0.1533  0.1805  0.0859  0.6639  0.4374  0.0109  0.0343  0.1369  0.0000  0.3245  0.0950\n",
      "                Symptom_Sneezing                                        0.1139  0.5443  0.1488  0.3056  0.3049  0.6854  0.4024  0.1703  0.2830  0.3113  0.0802  0.1875  0.2031\n",
      "                Symptom_Sore_throat                                     0.3128  0.8153  0.3684  0.6179  0.5541  0.8693  0.7475  0.4452  0.6334  0.6470  0.1940  0.4564  0.6012\n",
      "                Symptom_Speech_changes_to_secondary_languages           0.0033  0.0172  0.0929  0.1108  0.0000  0.1798  0.1224  0.0055  0.0029  0.0310  0.0068  0.1774  0.0227\n",
      "                Symptom_Speech_difficulty_communicating_verbally        0.0009  0.1358  0.5849  0.6316  0.0000  0.8646  0.7825  0.0156  0.0058  0.2030  0.0227  0.7581  0.1399\n",
      "                Symptom_Speech_difficulty_communicating_writing         0.0000  0.0880  0.2155  0.3050  0.0000  0.6643  0.4565  0.0015  0.0000  0.0816  0.0083  0.4600  0.0418\n",
      "                Symptom_Speech_difficulty_finding_words                 0.0663  0.4523  0.9529  0.9792  0.0594  0.9799  0.9912  0.0757  0.0669  0.4540  0.0772  0.9788  0.4225\n",
      "                Symptom_Speech_difficulty_reading_processing_text       0.0017  0.1356  0.4088  0.5272  0.0000  0.8378  0.7132  0.0038  0.0020  0.1227  0.0083  0.6638  0.0983\n",
      "                Symptom_Speech_difficulty_speaking_complete_sentences   0.0000  0.1048  0.4155  0.4417  0.0035  0.7672  0.6444  0.0000  0.0052  0.1208  0.0030  0.5919  0.0881\n",
      "                Symptom_Speech_difficulty_understanding_others_speech   0.0000  0.1283  0.3938  0.5456  0.0143  0.8553  0.7184  0.0022  0.0018  0.1392  0.0000  0.6622  0.0680\n",
      "                Symptom_Speech_speaking_unrecognizable_words            0.0016  0.0628  0.1104  0.1208  0.0000  0.4193  0.2781  0.0023  0.0050  0.0572  0.0028  0.2466  0.0198\n",
      "                Symptom_Tachycardia                                     0.3830  0.8466  0.3665  0.6689  0.6823  0.9013  0.8451  0.4743  0.5880  0.6227  0.1552  0.5312  0.7126\n",
      "                Symptom_Temp_lability                                   0.1942  0.5884  0.1548  0.5157  0.3859  0.6927  0.5910  0.2433  0.5210  0.4372  0.1021  0.1983  0.3174\n",
      "                Symptom_Tightness_of_chest                              0.5092  0.8874  0.4507  0.7388  0.7908  0.9264  0.8744  0.5789  0.7615  0.8127  0.3228  0.5402  0.6973\n",
      "                Symptom_Tinnitus                                        0.1514  0.6495  0.1810  0.2803  0.4201  0.8108  0.5534  0.2194  0.2181  0.3482  0.0475  0.4113  0.4215\n",
      "                Symptom_Tremors                                         0.1869  0.7047  0.1894  0.3234  0.5827  0.8838  0.6614  0.2650  0.2535  0.3113  0.0775  0.4466  0.6304\n",
      "                Symptom_Vibrating_sensations                            0.2084  0.7009  0.1718  0.3057  0.5925  0.8620  0.6545  0.2684  0.2537  0.4041  0.0736  0.4825  0.6398\n",
      "                Symptom_Vivid_dreams                                    0.1815  0.4996  0.1763  0.3934  0.4719  0.6857  0.5023  0.1574  0.3929  0.0746  0.0238  0.4212  0.3018\n",
      "                Symptom_Vomiting                                        0.0334  0.2982  0.0450  0.1972  0.1849  0.3946  0.2322  0.0907  0.1640  0.1672  0.0125  0.0915  0.1351\n",
      "                Symptom_Waking_up_early                                 0.1372  0.3381  0.1505  0.3395  0.3521  0.5186  0.3399  0.1675  0.2843  0.0000  0.0130  0.2293  0.3554\n",
      "                Symptom_Waking_up_in_night                              0.3078  0.6655  0.3003  0.6766  0.6743  0.8068  0.6426  0.3531  0.6390  0.0000  0.0291  0.4408  0.6885\n",
      "    ============================================================================\n",
      "    Class weights\n",
      "    ============================================================================\n",
      "        Class 1 : 0.10\n",
      "        Class 2 : 0.05\n",
      "        Class 3 : 0.07\n",
      "        Class 4 : 0.09\n",
      "        Class 5 : 0.06\n",
      "        Class 6 : 0.05\n",
      "        Class 7 : 0.11\n",
      "        Class 8 : 0.11\n",
      "        Class 9 : 0.10\n",
      "        Class 10 : 0.06\n",
      "        Class 11 : 0.06\n",
      "        Class 12 : 0.06\n",
      "        Class 13 : 0.08\n",
      "    ============================================================================\n",
      "    Fit for 13 latent classes\n",
      "    ============================================================================\n",
      "    Estimation method             : 1-step\n",
      "    Number of observations        : 6031\n",
      "    Number of latent classes      : 13\n",
      "    Number of estimated parameters: 1923\n",
      "    Log-likelihood (LL)           : -407200.9324\n",
      "    -2LL                          : 814401.8649\n",
      "    Average LL                    : -67.5180\n",
      "    AIC                           : 818247.86\n",
      "    BIC                           : 831140.94\n",
      "    CAIC                          : 833063.94\n",
      "    Sample-Size Adjusted BIC      : 841769.26\n",
      "    Entropy                       : 1477.3971\n",
      "    Scaled Relative Entropy       : 0.9045\n"
     ]
    },
    {
     "name": "stderr",
     "output_type": "stream",
     "text": [
      "\n"
     ]
    },
    {
     "data": {
      "text/html": [
       "<style>#sk-container-id-2 {color: black;}#sk-container-id-2 pre{padding: 0;}#sk-container-id-2 div.sk-toggleable {background-color: white;}#sk-container-id-2 label.sk-toggleable__label {cursor: pointer;display: block;width: 100%;margin-bottom: 0;padding: 0.3em;box-sizing: border-box;text-align: center;}#sk-container-id-2 label.sk-toggleable__label-arrow:before {content: \"▸\";float: left;margin-right: 0.25em;color: #696969;}#sk-container-id-2 label.sk-toggleable__label-arrow:hover:before {color: black;}#sk-container-id-2 div.sk-estimator:hover label.sk-toggleable__label-arrow:before {color: black;}#sk-container-id-2 div.sk-toggleable__content {max-height: 0;max-width: 0;overflow: hidden;text-align: left;background-color: #f0f8ff;}#sk-container-id-2 div.sk-toggleable__content pre {margin: 0.2em;color: black;border-radius: 0.25em;background-color: #f0f8ff;}#sk-container-id-2 input.sk-toggleable__control:checked~div.sk-toggleable__content {max-height: 200px;max-width: 100%;overflow: auto;}#sk-container-id-2 input.sk-toggleable__control:checked~label.sk-toggleable__label-arrow:before {content: \"▾\";}#sk-container-id-2 div.sk-estimator input.sk-toggleable__control:checked~label.sk-toggleable__label {background-color: #d4ebff;}#sk-container-id-2 div.sk-label input.sk-toggleable__control:checked~label.sk-toggleable__label {background-color: #d4ebff;}#sk-container-id-2 input.sk-hidden--visually {border: 0;clip: rect(1px 1px 1px 1px);clip: rect(1px, 1px, 1px, 1px);height: 1px;margin: -1px;overflow: hidden;padding: 0;position: absolute;width: 1px;}#sk-container-id-2 div.sk-estimator {font-family: monospace;background-color: #f0f8ff;border: 1px dotted black;border-radius: 0.25em;box-sizing: border-box;margin-bottom: 0.5em;}#sk-container-id-2 div.sk-estimator:hover {background-color: #d4ebff;}#sk-container-id-2 div.sk-parallel-item::after {content: \"\";width: 100%;border-bottom: 1px solid gray;flex-grow: 1;}#sk-container-id-2 div.sk-label:hover label.sk-toggleable__label {background-color: #d4ebff;}#sk-container-id-2 div.sk-serial::before {content: \"\";position: absolute;border-left: 1px solid gray;box-sizing: border-box;top: 0;bottom: 0;left: 50%;z-index: 0;}#sk-container-id-2 div.sk-serial {display: flex;flex-direction: column;align-items: center;background-color: white;padding-right: 0.2em;padding-left: 0.2em;position: relative;}#sk-container-id-2 div.sk-item {position: relative;z-index: 1;}#sk-container-id-2 div.sk-parallel {display: flex;align-items: stretch;justify-content: center;background-color: white;position: relative;}#sk-container-id-2 div.sk-item::before, #sk-container-id-2 div.sk-parallel-item::before {content: \"\";position: absolute;border-left: 1px solid gray;box-sizing: border-box;top: 0;bottom: 0;left: 50%;z-index: -1;}#sk-container-id-2 div.sk-parallel-item {display: flex;flex-direction: column;z-index: 1;position: relative;background-color: white;}#sk-container-id-2 div.sk-parallel-item:first-child::after {align-self: flex-end;width: 50%;}#sk-container-id-2 div.sk-parallel-item:last-child::after {align-self: flex-start;width: 50%;}#sk-container-id-2 div.sk-parallel-item:only-child::after {width: 0;}#sk-container-id-2 div.sk-dashed-wrapped {border: 1px dashed gray;margin: 0 0.4em 0.5em 0.4em;box-sizing: border-box;padding-bottom: 0.4em;background-color: white;}#sk-container-id-2 div.sk-label label {font-family: monospace;font-weight: bold;display: inline-block;line-height: 1.2em;}#sk-container-id-2 div.sk-label-container {text-align: center;}#sk-container-id-2 div.sk-container {/* jupyter's `normalize.less` sets `[hidden] { display: none; }` but bootstrap.min.css set `[hidden] { display: none !important; }` so we also need the `!important` here to be able to override the default hidden behavior on the sphinx rendered scikit-learn.org. See: https://github.com/scikit-learn/scikit-learn/issues/21755 */display: inline-block !important;position: relative;}#sk-container-id-2 div.sk-text-repr-fallback {display: none;}</style><div id=\"sk-container-id-2\" class=\"sk-top-container\"><div class=\"sk-text-repr-fallback\"><pre>StepMix(measurement=&#x27;binary&#x27;, n_components=13, random_state=321, verbose=1)</pre><b>In a Jupyter environment, please rerun this cell to show the HTML representation or trust the notebook. <br />On GitHub, the HTML representation is unable to render, please try loading this page with nbviewer.org.</b></div><div class=\"sk-container\" hidden><div class=\"sk-item\"><div class=\"sk-estimator sk-toggleable\"><input class=\"sk-toggleable__control sk-hidden--visually\" id=\"sk-estimator-id-2\" type=\"checkbox\" checked><label for=\"sk-estimator-id-2\" class=\"sk-toggleable__label sk-toggleable__label-arrow\">StepMix</label><div class=\"sk-toggleable__content\"><pre>StepMix(measurement=&#x27;binary&#x27;, n_components=13, random_state=321, verbose=1)</pre></div></div></div></div></div>"
      ],
      "text/plain": [
       "StepMix(measurement='binary', n_components=13, random_state=321, verbose=1)"
      ]
     },
     "execution_count": 14,
     "metadata": {},
     "output_type": "execute_result"
    }
   ],
   "source": [
    "model = StepMix(n_components=13, measurement=\"binary\", verbose=1, random_state=321)\n",
    "model.fit(sympdf)"
   ]
  },
  {
   "cell_type": "code",
   "execution_count": 15,
   "metadata": {},
   "outputs": [],
   "source": [
    "# save model using pkl\n",
    "with open('output/stepmix_13_010324.pkl', 'wb') as f:\n",
    "    pkl.dump(model, f)"
   ]
  },
  {
   "cell_type": "code",
   "execution_count": 16,
   "metadata": {},
   "outputs": [
    {
     "name": "stderr",
     "output_type": "stream",
     "text": [
      "/Users/tessa/miniforge3/envs/stepmix/lib/python3.12/site-packages/stepmix/stepmix.py:1173: FutureWarning: The provided callable <function mean at 0x1042f7380> is currently using DataFrameGroupBy.mean. In a future version of pandas, the provided callable will be used directly. To keep current behavior pass the string \"mean\" instead.\n",
      "  return pd.pivot_table(\n"
     ]
    }
   ],
   "source": [
    "mm = model.get_mm_df()\n",
    "mm = mm.reset_index()\n",
    "mm  = mm.drop(\"model_name\",axis=1)\n",
    "mm  = mm.drop(\"param\",axis=1)\n",
    "mm.index=mm['variable']\n",
    "mm = mm.drop(\"variable\", axis=1)\n",
    "\n",
    "mm.to_csv(\"output/stepmix_13_010324_mmdf.csv\")"
   ]
  },
  {
   "cell_type": "code",
   "execution_count": 123,
   "metadata": {},
   "outputs": [
    {
     "name": "stdout",
     "output_type": "stream",
     "text": [
      "Index(['Symptom_PEM', 'Symptom_Memory_short', 'Symptom_Insomnia',\n",
      "       'Symptom_Cognitive_Functioning_attentionconcentration',\n",
      "       'Symptom_Shortness_of_breath', 'Symptom_Tightness_of_chest',\n",
      "       'Symptom_Cognitive_Functioning_thinking', 'Symptom_Dizziness_vertigo',\n",
      "       'Symptom_Muscle_aches', 'Symptom_Elevated_temp'],\n",
      "      dtype='object', name='variable')\n",
      "Index(['Symptom_Speech_difficulty_finding_words', 'Symptom_PEM',\n",
      "       'Symptom_Cognitive_Functioning_attentionconcentration',\n",
      "       'Symptom_Cognitive_Functioning_thinking',\n",
      "       'Symptom_Cognitive_Functioning_executive', 'Symptom_Memory_short',\n",
      "       'Symptom_Cognitive_Functioning_problemsolving',\n",
      "       'Symptom_Dizziness_vertigo', 'Symptom_Muscle_aches',\n",
      "       'Symptom_Memory_long'],\n",
      "      dtype='object', name='variable')\n",
      "Index(['Symptom_Memory_short', 'Symptom_PEM', 'Symptom_Shortness_of_breath',\n",
      "       'Symptom_Tightness_of_chest', 'Symptom_Heart_palpitations',\n",
      "       'Symptom_Insomnia', 'Symptom_Dry_cough', 'Symptom_Muscle_aches',\n",
      "       'Symptom_Diarrhea', 'Symptom_Tachycardia'],\n",
      "      dtype='object', name='variable')\n",
      "Index(['Symptom_Memory_short', 'Symptom_PEM', 'Symptom_Dry_cough',\n",
      "       'Symptom_Shortness_of_breath', 'Symptom_Loss_of_smell',\n",
      "       'Symptom_Tightness_of_chest', 'Symptom_Loss_of_taste',\n",
      "       'Symptom_Muscle_aches', 'Symptom_Heart_palpitations',\n",
      "       'Symptom_Sore_throat'],\n",
      "      dtype='object', name='variable')\n",
      "Index(['Symptom_PEM', 'Symptom_Memory_short', 'Symptom_Shortness_of_breath',\n",
      "       'Symptom_Tightness_of_chest', 'Symptom_Dizziness_vertigo',\n",
      "       'Symptom_Cognitive_Functioning_attentionconcentration',\n",
      "       'Symptom_Heart_palpitations', 'Symptom_Dry_cough',\n",
      "       'Symptom_Muscle_aches', 'Symptom_Cognitive_Functioning_thinking'],\n",
      "      dtype='object', name='variable')\n",
      "Index(['Symptom_Speech_difficulty_finding_words', 'Symptom_PEM',\n",
      "       'Symptom_Cognitive_Functioning_attentionconcentration',\n",
      "       'Symptom_Shortness_of_breath', 'Symptom_Memory_short',\n",
      "       'Symptom_Cognitive_Functioning_thinking', 'Symptom_Insomnia',\n",
      "       'Symptom_Tightness_of_chest', 'Symptom_Dizziness_vertigo',\n",
      "       'Symptom_Heart_palpitations'],\n",
      "      dtype='object', name='variable')\n",
      "Index(['Symptom_Speech_difficulty_finding_words', 'Symptom_PEM',\n",
      "       'Symptom_Dizziness_vertigo', 'Symptom_Memory_short',\n",
      "       'Symptom_Muscle_aches',\n",
      "       'Symptom_Cognitive_Functioning_attentionconcentration',\n",
      "       'Symptom_Insomnia', 'Symptom_Cognitive_Functioning_thinking',\n",
      "       'Symptom_Shortness_of_breath', 'Symptom_Heart_palpitations'],\n",
      "      dtype='object', name='variable')\n"
     ]
    }
   ],
   "source": [
    "# These are just the most prevalent symptoms per cluster\n",
    "# in general, this is dominated by symptoms with high cross-dataset prevalence\n",
    "print(mm.sort_values(0,ascending=False).head(10).index)\n",
    "print(mm.sort_values(2,ascending=False).head(10).index)\n",
    "print(mm.sort_values(3,ascending=False).head(10).index)\n",
    "print(mm.sort_values(4,ascending=False).head(10).index)\n",
    "print(mm.sort_values(5,ascending=False).head(10).index)\n",
    "print(mm.sort_values(6,ascending=False).head(10).index)\n",
    "print(mm.sort_values(7,ascending=False).head(10).index)"
   ]
  },
  {
   "cell_type": "code",
   "execution_count": 17,
   "metadata": {},
   "outputs": [],
   "source": [
    "df['cluster'] = model.predict(sympdf)"
   ]
  },
  {
   "cell_type": "code",
   "execution_count": 18,
   "metadata": {},
   "outputs": [
    {
     "data": {
      "text/plain": [
       "<Axes: xlabel='cluster'>"
      ]
     },
     "execution_count": 18,
     "metadata": {},
     "output_type": "execute_result"
    },
    {
     "data": {
      "image/png": "[encoded data removed]",
      "text/plain": [
       "<Figure size 640x480 with 1 Axes>"
      ]
     },
     "metadata": {},
     "output_type": "display_data"
    }
   ],
   "source": [
    "df['cluster'].value_counts().plot(kind='bar')\n",
    "# all clusters have more than 150 patients"
   ]
  },
  {
   "cell_type": "code",
   "execution_count": 19,
   "metadata": {},
   "outputs": [],
   "source": [
    "comp_list = list(range(0,13))"
   ]
  },
  {
   "cell_type": "code",
   "execution_count": 172,
   "metadata": {},
   "outputs": [
    {
     "data": {
      "text/plain": [
       "variable\n",
       "Symptom_Acid_reflux                0.449128\n",
       "Symptom_Acute_confusion            0.551001\n",
       "Symptom_Altered_smell              0.413470\n",
       "Symptom_Altered_taste              0.417033\n",
       "Symptom_Awakened_cannot_breathe    0.501827\n",
       "                                     ...   \n",
       "Symptom_Vibrating_sensations       0.535182\n",
       "Symptom_Vivid_dreams               0.438467\n",
       "Symptom_Vomiting                   0.321097\n",
       "Symptom_Waking_up_early            0.344633\n",
       "Symptom_Waking_up_in_night         0.381768\n",
       "Length: 147, dtype: float64"
      ]
     },
     "execution_count": 172,
     "metadata": {},
     "output_type": "execute_result"
    }
   ],
   "source": []
  },
  {
   "cell_type": "code",
   "execution_count": 20,
   "metadata": {},
   "outputs": [
    {
     "name": "stdout",
     "output_type": "stream",
     "text": [
      "variable\n",
      "Symptom_Cognitive_Functioning_attentionconcentration    0.143810\n",
      "Symptom_Cognitive_Functioning_thinking                  0.063554\n",
      "Symptom_Cognitive_Functioning_problemsolving            0.042003\n",
      "Symptom_Cognitive_Functioning_executive                 0.039623\n",
      "Symptom_Memory_short                                   -0.017974\n",
      "Symptom_Cognitive_Functioning_slowedthoughts           -0.037301\n",
      "Symptom_Inability_to_yawn                              -0.037509\n",
      "Symptom_Cognitive_Functioning_fastthoughts             -0.049228\n",
      "Symptom_PEM                                            -0.050419\n",
      "Symptom_Memory_no_new_memories                         -0.052474\n",
      "dtype: float64\n",
      "variable\n",
      "Symptom_Gastrointestinal_abdominal_pain    0.444481\n",
      "Symptom_SkinAllergy_itchy_skin             0.410362\n",
      "Symptom_Sensations_coldness                0.398136\n",
      "Symptom_Neuralgia                          0.397078\n",
      "Symptom_Nausea                             0.392799\n",
      "Symptom_SkinAllergy_itchy_eyes             0.386958\n",
      "Symptom_Sensations_skin_burning_no_rash    0.376362\n",
      "Symptom_Ear_ear_pain                       0.364837\n",
      "Symptom_Muscle_spasms                      0.355615\n",
      "Symptom_Difficulty_swallowing              0.352096\n",
      "dtype: float64\n",
      "variable\n",
      "Symptom_Speech_difficulty_finding_words                  0.485934\n",
      "Symptom_Speech_difficulty_communicating_verbally         0.288197\n",
      "Symptom_Speech_difficulty_speaking_complete_sentences    0.184635\n",
      "Symptom_Cognitive_Functioning_thinking                   0.155775\n",
      "Symptom_Speech_difficulty_reading_processing_text        0.149287\n",
      "Symptom_Speech_difficulty_understanding_others_speech    0.132523\n",
      "Symptom_Memory_long                                      0.121333\n",
      "Symptom_Cognitive_Functioning_executive                  0.119644\n",
      "Symptom_Cognitive_Functioning_attentionconcentration     0.090918\n",
      "Symptom_Cognitive_Functioning_problemsolving             0.078229\n",
      "dtype: float64\n",
      "variable\n",
      "Symptom_Speech_difficulty_finding_words                  0.514476\n",
      "Symptom_Speech_difficulty_communicating_verbally         0.338737\n",
      "Symptom_Speech_difficulty_understanding_others_speech    0.297022\n",
      "Symptom_Speech_difficulty_reading_processing_text        0.277488\n",
      "Symptom_Cognitive_Functioning_executive                  0.271021\n",
      "Symptom_Cognitive_Functioning_problemsolving             0.259822\n",
      "Symptom_Cognitive_Functioning_thinking                   0.255517\n",
      "Symptom_Difficulty_falling_asleep                        0.238139\n",
      "Symptom_Waking_up_in_night                               0.214258\n",
      "Symptom_Speech_difficulty_speaking_complete_sentences    0.213000\n",
      "dtype: float64\n",
      "variable\n",
      "Symptom_Headaches_behind_eyes                   0.289152\n",
      "Symptom_Headaches_brain_pressure                0.271063\n",
      "Symptom_Headaches_temples                       0.269170\n",
      "Symptom_Headaches_after_mental_exertion         0.267168\n",
      "Symptom_Headaches_stiff_neck                    0.262485\n",
      "Symptom_Insomnia                                0.248560\n",
      "Symptom_Cognitive_Functioning_problemsolving    0.238255\n",
      "Symptom_Cognitive_Functioning_executive         0.235168\n",
      "Symptom_Cognitive_Functioning_thinking          0.230106\n",
      "Symptom_Dizziness_vertigo                       0.227214\n",
      "dtype: float64\n",
      "variable\n",
      "Symptom_Speech_difficulty_understanding_others_speech    0.632478\n",
      "Symptom_Eye_Vision_sensitivity_to_light                  0.623179\n",
      "Symptom_Speech_difficulty_reading_processing_text        0.614012\n",
      "Symptom_Speech_difficulty_communicating_verbally         0.591206\n",
      "Symptom_Speech_difficulty_speaking_complete_sentences    0.565582\n",
      "Symptom_Neuralgia                                        0.540946\n",
      "Symptom_Ear_sensitivity_to_noise                         0.538504\n",
      "Symptom_Muscle_spasms                                    0.532673\n",
      "Symptom_Eye_Vision_blurred_vision                        0.530496\n",
      "Symptom_SkinAllergy_itchy_eyes                           0.530461\n",
      "dtype: float64\n",
      "variable\n",
      "Symptom_Speech_difficulty_finding_words                  0.527462\n",
      "Symptom_Speech_difficulty_communicating_verbally         0.502301\n",
      "Symptom_Speech_difficulty_understanding_others_speech    0.484187\n",
      "Symptom_Speech_difficulty_reading_processing_text        0.479084\n",
      "Symptom_Speech_difficulty_speaking_complete_sentences    0.432601\n",
      "Symptom_Cognitive_Functioning_problemsolving             0.364879\n",
      "Symptom_Memory_long                                      0.330128\n",
      "Symptom_Cognitive_Functioning_executive                  0.328139\n",
      "Symptom_Eye_vision_symptoms                              0.326344\n",
      "Symptom_Ear_sensitivity_to_noise                         0.323576\n",
      "dtype: float64\n",
      "variable\n",
      "Symptom_Memory_short                           0.013004\n",
      "Symptom_Respiratory_other                     -0.014666\n",
      "Symptom_SkinAllergy_other_itchy               -0.028460\n",
      "Symptom_Reproductive_other_menstrual_issues   -0.034295\n",
      "Symptom_Skin_Allergy_other                    -0.035473\n",
      "Symptom_Inability_to_yawn                     -0.037247\n",
      "Symptom_Cognitive_Functioning_other           -0.041187\n",
      "Symptom_Headaches_other                       -0.046005\n",
      "Symptom_Sensations_facial_pressure_right      -0.054701\n",
      "Symptom_Hearing_loss                          -0.055343\n",
      "dtype: float64\n",
      "variable\n",
      "Symptom_Insomnia                   0.230693\n",
      "Symptom_Elevated_temp              0.179476\n",
      "Symptom_Waking_up_in_night         0.173586\n",
      "Symptom_Fever                      0.158147\n",
      "Symptom_Temp_lability              0.152622\n",
      "Symptom_Night_sweats               0.109827\n",
      "Symptom_Loss_of_appetite           0.105345\n",
      "Symptom_Shortness_of_breath        0.100696\n",
      "Symptom_Awakened_cannot_breathe    0.090402\n",
      "Symptom_Diarrhea                   0.090297\n",
      "dtype: float64\n",
      "variable\n",
      "Symptom_Tightness_of_chest           0.139475\n",
      "Symptom_Gasping_air_normal_oxygen    0.109499\n",
      "Symptom_Dry_cough                    0.095863\n",
      "Symptom_Sore_throat                  0.095660\n",
      "Symptom_Heart_palpitations           0.094092\n",
      "Symptom_Pain_burning_chest           0.089130\n",
      "Symptom_Diarrhea                     0.083474\n",
      "Symptom_Elevated_temp                0.083425\n",
      "Symptom_Shortness_of_breath          0.076247\n",
      "Symptom_Chills_flushing_sweats       0.071728\n",
      "dtype: float64\n",
      "variable\n",
      "Symptom_Memory_short                             0.012388\n",
      "Symptom_Respiratory_other                       -0.006033\n",
      "Symptom_Loss_of_smell                           -0.030825\n",
      "Symptom_Inability_to_yawn                       -0.047004\n",
      "Symptom_SkinAllergy_other_itchy                 -0.051357\n",
      "Symptom_Loss_of_taste                           -0.051793\n",
      "Symptom_Altered_smell                           -0.052478\n",
      "Symptom_Reproductive_other_menstrual_issues     -0.052865\n",
      "Symptom_Speech_changes_to_secondary_languages   -0.056965\n",
      "Symptom_Phantom_taste                           -0.066981\n",
      "dtype: float64\n",
      "variable\n",
      "Symptom_Speech_difficulty_finding_words                  0.514035\n",
      "Symptom_Speech_difficulty_communicating_verbally         0.475806\n",
      "Symptom_Speech_difficulty_reading_processing_text        0.425470\n",
      "Symptom_Speech_difficulty_understanding_others_speech    0.423249\n",
      "Symptom_Speech_difficulty_speaking_complete_sentences    0.375771\n",
      "Symptom_Cognitive_Functioning_executive                  0.350340\n",
      "Symptom_Memory_long                                      0.318238\n",
      "Symptom_Cognitive_Functioning_problemsolving             0.317852\n",
      "Symptom_Speech_difficulty_communicating_writing          0.304812\n",
      "Symptom_Cognitive_Functioning_thinking                   0.287956\n",
      "dtype: float64\n",
      "variable\n",
      "Symptom_Insomnia                              0.322000\n",
      "Symptom_Sensations_tingling_prickling         0.234634\n",
      "Symptom_Waking_up_in_night                    0.227215\n",
      "Symptom_Vibrating_sensations                  0.224944\n",
      "Symptom_Tremors                               0.223202\n",
      "Symptom_Sensations_skin_burning_no_rash       0.223008\n",
      "Symptom_Sensations_numbness_loss_sensation    0.170117\n",
      "Symptom_Neuralgia                             0.167555\n",
      "Symptom_Sensations_electrical_zaps            0.146585\n",
      "Symptom_Difficulty_falling_asleep             0.146100\n",
      "dtype: float64\n"
     ]
    }
   ],
   "source": [
    "edges = [] \n",
    "symp_unusual = pd.DataFrame()\n",
    "for component in comp_list:\n",
    "    edges +=investigate_comp(component, mm).sort_values(ascending=False).head(10).index.tolist()\n",
    "    symp_unusual[component] = investigate_comp(component, mm)\n",
    "    print(investigate_comp(component, mm).sort_values(ascending=False).head(10))"
   ]
  },
  {
   "cell_type": "code",
   "execution_count": 21,
   "metadata": {},
   "outputs": [
    {
     "name": "stdout",
     "output_type": "stream",
     "text": [
      "cluster\n",
      "0     640\n",
      "1     307\n",
      "2     419\n",
      "3     547\n",
      "4     332\n",
      "5     332\n",
      "6     657\n",
      "7     646\n",
      "8     619\n",
      "9     364\n",
      "10    356\n",
      "11    331\n",
      "12    481\n",
      "Name: count, dtype: int64\n"
     ]
    }
   ],
   "source": [
    "print(df.cluster.value_counts().sort_index())"
   ]
  },
  {
   "cell_type": "code",
   "execution_count": 22,
   "metadata": {},
   "outputs": [
    {
     "data": {
      "text/plain": [
       "3"
      ]
     },
     "execution_count": 22,
     "metadata": {},
     "output_type": "execute_result"
    }
   ],
   "source": [
    "(sympdf[edges].mean()>.90).sum()"
   ]
  },
  {
   "cell_type": "code",
   "execution_count": 23,
   "metadata": {},
   "outputs": [
    {
     "data": {
      "text/plain": [
       "16"
      ]
     },
     "execution_count": 23,
     "metadata": {},
     "output_type": "execute_result"
    }
   ],
   "source": [
    "(sympdf[edges].mean()<.1).sum()\n",
    "# some of the pretty rare symptoms are cluster-decisive\n",
    "# I'm going to keep them in unless something pathological emerges downstream"
   ]
  },
  {
   "cell_type": "code",
   "execution_count": 24,
   "metadata": {},
   "outputs": [],
   "source": [
    "symp_unusual.to_csv(\"output/stepmix_13_010324_symp_unusual.csv\")"
   ]
  },
  {
   "cell_type": "code",
   "execution_count": 177,
   "metadata": {},
   "outputs": [],
   "source": [
    "# plan for next time \n",
    "# plot the clusters in 2d space\n",
    "# go through that sklearn paper for some plot ideas\n",
    "# look at the various non-used parameters and how they assort\n",
    "# look at demographics, other columns of df\n",
    "# assess distinguisability of clusters--maybe some can combine?\n",
    "\n",
    "# could laplace approximation be used to get a better estimate of the number of clusters?\n",
    "# if have reason to think p(data | model ) is close to p(model), then maybe justify fewer clusters"
   ]
  },
  {
   "cell_type": "code",
   "execution_count": 183,
   "metadata": {},
   "outputs": [
    {
     "data": {
      "text/plain": [
       "variable\n",
       "Symptom_Acid_reflux                0.369313\n",
       "Symptom_Acute_confusion            0.158894\n",
       "Symptom_Altered_smell              0.234075\n",
       "Symptom_Altered_taste              0.294896\n",
       "Symptom_Awakened_cannot_breathe    0.411089\n",
       "                                     ...   \n",
       "Symptom_Vibrating_sensations       0.293808\n",
       "Symptom_Vivid_dreams               0.413275\n",
       "Symptom_Vomiting                   0.174588\n",
       "Symptom_Waking_up_early            0.280046\n",
       "Symptom_Waking_up_in_night         0.622473\n",
       "Name: 0, Length: 147, dtype: float64"
      ]
     },
     "execution_count": 183,
     "metadata": {},
     "output_type": "execute_result"
    }
   ],
   "source": [
    "mm[0]"
   ]
  },
  {
   "cell_type": "code",
   "execution_count": 199,
   "metadata": {},
   "outputs": [
    {
     "data": {
      "text/plain": [
       "Symptom_Acid_reflux                0.375000\n",
       "Symptom_Acute_confusion            0.160061\n",
       "Symptom_Altered_smell              0.234756\n",
       "Symptom_Altered_taste              0.300305\n",
       "Symptom_Awakened_cannot_breathe    0.422256\n",
       "                                     ...   \n",
       "Symptom_Vibrating_sensations       0.291159\n",
       "Symptom_Vivid_dreams               0.417683\n",
       "Symptom_Vomiting                   0.169207\n",
       "Symptom_Waking_up_early            0.283537\n",
       "Symptom_Waking_up_in_night         0.623476\n",
       "Length: 147, dtype: float64"
      ]
     },
     "execution_count": 199,
     "metadata": {},
     "output_type": "execute_result"
    }
   ],
   "source": [
    "# check if patients asigned to cluster 0 have average scores equivalent to column 0 of mm\n",
    "# this is a bit of a sanity check\n",
    "\n",
    "mm[0].sort_index()\n",
    "\n",
    "df[df.cluster==0][sympdf.columns].mean().sort_index()"
   ]
  },
  {
   "cell_type": "code",
   "execution_count": 202,
   "metadata": {},
   "outputs": [
    {
     "data": {
      "text/plain": [
       "array([ 8, 11, 10, ...,  6,  8, 11])"
      ]
     },
     "execution_count": 202,
     "metadata": {},
     "output_type": "execute_result"
    }
   ],
   "source": [
    "model.predict(sympdf)"
   ]
  },
  {
   "cell_type": "code",
   "execution_count": 25,
   "metadata": {},
   "outputs": [],
   "source": [
    "df['cluster'].to_csv(\"output/cluster_13_010324.csv\")"
   ]
  },
  {
   "cell_type": "code",
   "execution_count": 29,
   "metadata": {},
   "outputs": [],
   "source": [
    "# compare the two clusterings \n",
    "\n",
    "# ARI? \n",
    "clus_old = pd.read_csv(\"output/cluster_13_111023.csv\", index_col=0)\n",
    "# gross symptoms with groupings??\n",
    "\n",
    "# anything else? "
   ]
  },
  {
   "cell_type": "code",
   "execution_count": 31,
   "metadata": {},
   "outputs": [],
   "source": [
    "df['clusold'] = clus_old['cluster']"
   ]
  },
  {
   "cell_type": "code",
   "execution_count": 32,
   "metadata": {},
   "outputs": [
    {
     "data": {
      "text/plain": [
       "0.48166760739468273"
      ]
     },
     "execution_count": 32,
     "metadata": {},
     "output_type": "execute_result"
    }
   ],
   "source": [
    "# ARI of df['cluster'] and df['clusold']\n",
    "from sklearn.metrics import adjusted_rand_score\n",
    "adjusted_rand_score(df['cluster'], df['clusold'])"
   ]
  },
  {
   "cell_type": "code",
   "execution_count": 33,
   "metadata": {},
   "outputs": [],
   "source": [
    "# for each cluster in 'clusold' which is the cluster in 'cluster' with the most shared members\n",
    "# this is a bit of a weird thing to do but I'm curious\n",
    "result = df.groupby('cluster')['clusold'].value_counts().unstack(fill_value=0)\n"
   ]
  },
  {
   "cell_type": "code",
   "execution_count": 35,
   "metadata": {},
   "outputs": [
    {
     "data": {
      "text/html": [
       "<div>\n",
       "<style scoped>\n",
       "    .dataframe tbody tr th:only-of-type {\n",
       "        vertical-align: middle;\n",
       "    }\n",
       "\n",
       "    .dataframe tbody tr th {\n",
       "        vertical-align: top;\n",
       "    }\n",
       "\n",
       "    .dataframe thead th {\n",
       "        text-align: right;\n",
       "    }\n",
       "</style>\n",
       "<table border=\"1\" class=\"dataframe\">\n",
       "  <thead>\n",
       "    <tr style=\"text-align: right;\">\n",
       "      <th>clusold</th>\n",
       "      <th>0</th>\n",
       "      <th>1</th>\n",
       "      <th>2</th>\n",
       "      <th>3</th>\n",
       "      <th>4</th>\n",
       "      <th>5</th>\n",
       "      <th>6</th>\n",
       "      <th>7</th>\n",
       "      <th>8</th>\n",
       "      <th>9</th>\n",
       "      <th>10</th>\n",
       "      <th>11</th>\n",
       "      <th>12</th>\n",
       "    </tr>\n",
       "    <tr>\n",
       "      <th>cluster</th>\n",
       "      <th></th>\n",
       "      <th></th>\n",
       "      <th></th>\n",
       "      <th></th>\n",
       "      <th></th>\n",
       "      <th></th>\n",
       "      <th></th>\n",
       "      <th></th>\n",
       "      <th></th>\n",
       "      <th></th>\n",
       "      <th></th>\n",
       "      <th></th>\n",
       "      <th></th>\n",
       "    </tr>\n",
       "  </thead>\n",
       "  <tbody>\n",
       "    <tr>\n",
       "      <th>0</th>\n",
       "      <td>28</td>\n",
       "      <td>0</td>\n",
       "      <td>0</td>\n",
       "      <td>1</td>\n",
       "      <td>2</td>\n",
       "      <td>0</td>\n",
       "      <td>0</td>\n",
       "      <td>0</td>\n",
       "      <td>299</td>\n",
       "      <td>306</td>\n",
       "      <td>3</td>\n",
       "      <td>1</td>\n",
       "      <td>0</td>\n",
       "    </tr>\n",
       "    <tr>\n",
       "      <th>1</th>\n",
       "      <td>0</td>\n",
       "      <td>7</td>\n",
       "      <td>1</td>\n",
       "      <td>0</td>\n",
       "      <td>0</td>\n",
       "      <td>4</td>\n",
       "      <td>11</td>\n",
       "      <td>77</td>\n",
       "      <td>0</td>\n",
       "      <td>0</td>\n",
       "      <td>8</td>\n",
       "      <td>0</td>\n",
       "      <td>199</td>\n",
       "    </tr>\n",
       "    <tr>\n",
       "      <th>2</th>\n",
       "      <td>0</td>\n",
       "      <td>0</td>\n",
       "      <td>0</td>\n",
       "      <td>0</td>\n",
       "      <td>0</td>\n",
       "      <td>0</td>\n",
       "      <td>0</td>\n",
       "      <td>0</td>\n",
       "      <td>36</td>\n",
       "      <td>114</td>\n",
       "      <td>4</td>\n",
       "      <td>265</td>\n",
       "      <td>0</td>\n",
       "    </tr>\n",
       "    <tr>\n",
       "      <th>3</th>\n",
       "      <td>7</td>\n",
       "      <td>0</td>\n",
       "      <td>29</td>\n",
       "      <td>0</td>\n",
       "      <td>0</td>\n",
       "      <td>12</td>\n",
       "      <td>231</td>\n",
       "      <td>0</td>\n",
       "      <td>0</td>\n",
       "      <td>0</td>\n",
       "      <td>10</td>\n",
       "      <td>258</td>\n",
       "      <td>0</td>\n",
       "    </tr>\n",
       "    <tr>\n",
       "      <th>4</th>\n",
       "      <td>107</td>\n",
       "      <td>0</td>\n",
       "      <td>1</td>\n",
       "      <td>0</td>\n",
       "      <td>0</td>\n",
       "      <td>16</td>\n",
       "      <td>4</td>\n",
       "      <td>0</td>\n",
       "      <td>0</td>\n",
       "      <td>0</td>\n",
       "      <td>43</td>\n",
       "      <td>1</td>\n",
       "      <td>160</td>\n",
       "    </tr>\n",
       "    <tr>\n",
       "      <th>5</th>\n",
       "      <td>0</td>\n",
       "      <td>171</td>\n",
       "      <td>0</td>\n",
       "      <td>0</td>\n",
       "      <td>0</td>\n",
       "      <td>0</td>\n",
       "      <td>0</td>\n",
       "      <td>161</td>\n",
       "      <td>0</td>\n",
       "      <td>0</td>\n",
       "      <td>0</td>\n",
       "      <td>0</td>\n",
       "      <td>0</td>\n",
       "    </tr>\n",
       "    <tr>\n",
       "      <th>6</th>\n",
       "      <td>0</td>\n",
       "      <td>0</td>\n",
       "      <td>145</td>\n",
       "      <td>0</td>\n",
       "      <td>0</td>\n",
       "      <td>13</td>\n",
       "      <td>189</td>\n",
       "      <td>306</td>\n",
       "      <td>0</td>\n",
       "      <td>0</td>\n",
       "      <td>2</td>\n",
       "      <td>0</td>\n",
       "      <td>2</td>\n",
       "    </tr>\n",
       "    <tr>\n",
       "      <th>7</th>\n",
       "      <td>0</td>\n",
       "      <td>0</td>\n",
       "      <td>0</td>\n",
       "      <td>448</td>\n",
       "      <td>42</td>\n",
       "      <td>0</td>\n",
       "      <td>0</td>\n",
       "      <td>0</td>\n",
       "      <td>110</td>\n",
       "      <td>46</td>\n",
       "      <td>0</td>\n",
       "      <td>0</td>\n",
       "      <td>0</td>\n",
       "    </tr>\n",
       "    <tr>\n",
       "      <th>8</th>\n",
       "      <td>498</td>\n",
       "      <td>0</td>\n",
       "      <td>0</td>\n",
       "      <td>56</td>\n",
       "      <td>0</td>\n",
       "      <td>0</td>\n",
       "      <td>1</td>\n",
       "      <td>0</td>\n",
       "      <td>41</td>\n",
       "      <td>7</td>\n",
       "      <td>11</td>\n",
       "      <td>3</td>\n",
       "      <td>2</td>\n",
       "    </tr>\n",
       "    <tr>\n",
       "      <th>9</th>\n",
       "      <td>11</td>\n",
       "      <td>0</td>\n",
       "      <td>0</td>\n",
       "      <td>19</td>\n",
       "      <td>0</td>\n",
       "      <td>275</td>\n",
       "      <td>0</td>\n",
       "      <td>0</td>\n",
       "      <td>0</td>\n",
       "      <td>54</td>\n",
       "      <td>0</td>\n",
       "      <td>4</td>\n",
       "      <td>1</td>\n",
       "    </tr>\n",
       "    <tr>\n",
       "      <th>10</th>\n",
       "      <td>0</td>\n",
       "      <td>0</td>\n",
       "      <td>0</td>\n",
       "      <td>0</td>\n",
       "      <td>345</td>\n",
       "      <td>0</td>\n",
       "      <td>0</td>\n",
       "      <td>0</td>\n",
       "      <td>4</td>\n",
       "      <td>7</td>\n",
       "      <td>0</td>\n",
       "      <td>0</td>\n",
       "      <td>0</td>\n",
       "    </tr>\n",
       "    <tr>\n",
       "      <th>11</th>\n",
       "      <td>0</td>\n",
       "      <td>0</td>\n",
       "      <td>223</td>\n",
       "      <td>0</td>\n",
       "      <td>0</td>\n",
       "      <td>23</td>\n",
       "      <td>5</td>\n",
       "      <td>0</td>\n",
       "      <td>0</td>\n",
       "      <td>0</td>\n",
       "      <td>7</td>\n",
       "      <td>73</td>\n",
       "      <td>0</td>\n",
       "    </tr>\n",
       "    <tr>\n",
       "      <th>12</th>\n",
       "      <td>5</td>\n",
       "      <td>0</td>\n",
       "      <td>0</td>\n",
       "      <td>25</td>\n",
       "      <td>0</td>\n",
       "      <td>9</td>\n",
       "      <td>8</td>\n",
       "      <td>0</td>\n",
       "      <td>0</td>\n",
       "      <td>0</td>\n",
       "      <td>421</td>\n",
       "      <td>3</td>\n",
       "      <td>10</td>\n",
       "    </tr>\n",
       "  </tbody>\n",
       "</table>\n",
       "</div>"
      ],
      "text/plain": [
       "clusold   0    1    2    3    4    5    6    7    8    9    10   11   12\n",
       "cluster                                                                 \n",
       "0         28    0    0    1    2    0    0    0  299  306    3    1    0\n",
       "1          0    7    1    0    0    4   11   77    0    0    8    0  199\n",
       "2          0    0    0    0    0    0    0    0   36  114    4  265    0\n",
       "3          7    0   29    0    0   12  231    0    0    0   10  258    0\n",
       "4        107    0    1    0    0   16    4    0    0    0   43    1  160\n",
       "5          0  171    0    0    0    0    0  161    0    0    0    0    0\n",
       "6          0    0  145    0    0   13  189  306    0    0    2    0    2\n",
       "7          0    0    0  448   42    0    0    0  110   46    0    0    0\n",
       "8        498    0    0   56    0    0    1    0   41    7   11    3    2\n",
       "9         11    0    0   19    0  275    0    0    0   54    0    4    1\n",
       "10         0    0    0    0  345    0    0    0    4    7    0    0    0\n",
       "11         0    0  223    0    0   23    5    0    0    0    7   73    0\n",
       "12         5    0    0   25    0    9    8    0    0    0  421    3   10"
      ]
     },
     "execution_count": 35,
     "metadata": {},
     "output_type": "execute_result"
    }
   ],
   "source": [
    "result\n",
    "# clusold 0 == cluster 4, 8 \n",
    "# clusold 1 == cluster 5 \n",
    "# clusold 2 == cluster 6,11 \n",
    "# clusold 3 == cluster 7 predominantly \n",
    "# clusold 4 == cluster 10 \n",
    "# clusold 5 == cluster 9 \n",
    "# clusold 6 == clusters 3,6 \n",
    "\n"
   ]
  },
  {
   "cell_type": "code",
   "execution_count": 163,
   "metadata": {},
   "outputs": [],
   "source": [
    "# what's the takeaway here? \n",
    "# diversity of interpretations\n",
    "# to say that there are real clusters would be that there isn't much diversity\n",
    "# the fact that there's this degree of overlap suggests that though you can reinterpret cluster 0 as cluster 8&9 you're \n",
    "# not necessarily totally splitting it up \n",
    "\n",
    "# I think this is a good thing, it suggests that the clusters are not totally arbitrary\n",
    "\n",
    "ensemble = df.iloc[:,-2:]\n",
    "#"
   ]
  },
  {
   "cell_type": "code",
   "execution_count": 164,
   "metadata": {},
   "outputs": [
    {
     "data": {
      "text/html": [
       "<div>\n",
       "<style scoped>\n",
       "    .dataframe tbody tr th:only-of-type {\n",
       "        vertical-align: middle;\n",
       "    }\n",
       "\n",
       "    .dataframe tbody tr th {\n",
       "        vertical-align: top;\n",
       "    }\n",
       "\n",
       "    .dataframe thead th {\n",
       "        text-align: right;\n",
       "    }\n",
       "</style>\n",
       "<table border=\"1\" class=\"dataframe\">\n",
       "  <thead>\n",
       "    <tr style=\"text-align: right;\">\n",
       "      <th></th>\n",
       "      <th>cluster</th>\n",
       "      <th>clusold</th>\n",
       "    </tr>\n",
       "  </thead>\n",
       "  <tbody>\n",
       "    <tr>\n",
       "      <th>3</th>\n",
       "      <td>0</td>\n",
       "      <td>8</td>\n",
       "    </tr>\n",
       "    <tr>\n",
       "      <th>5</th>\n",
       "      <td>3</td>\n",
       "      <td>11</td>\n",
       "    </tr>\n",
       "    <tr>\n",
       "      <th>6</th>\n",
       "      <td>12</td>\n",
       "      <td>10</td>\n",
       "    </tr>\n",
       "    <tr>\n",
       "      <th>8</th>\n",
       "      <td>4</td>\n",
       "      <td>0</td>\n",
       "    </tr>\n",
       "    <tr>\n",
       "      <th>9</th>\n",
       "      <td>12</td>\n",
       "      <td>10</td>\n",
       "    </tr>\n",
       "    <tr>\n",
       "      <th>...</th>\n",
       "      <td>...</td>\n",
       "      <td>...</td>\n",
       "    </tr>\n",
       "    <tr>\n",
       "      <th>14158</th>\n",
       "      <td>11</td>\n",
       "      <td>2</td>\n",
       "    </tr>\n",
       "    <tr>\n",
       "      <th>14161</th>\n",
       "      <td>2</td>\n",
       "      <td>11</td>\n",
       "    </tr>\n",
       "    <tr>\n",
       "      <th>14163</th>\n",
       "      <td>6</td>\n",
       "      <td>6</td>\n",
       "    </tr>\n",
       "    <tr>\n",
       "      <th>14166</th>\n",
       "      <td>0</td>\n",
       "      <td>8</td>\n",
       "    </tr>\n",
       "    <tr>\n",
       "      <th>14168</th>\n",
       "      <td>2</td>\n",
       "      <td>11</td>\n",
       "    </tr>\n",
       "  </tbody>\n",
       "</table>\n",
       "<p>6031 rows × 2 columns</p>\n",
       "</div>"
      ],
      "text/plain": [
       "       cluster  clusold\n",
       "3            0        8\n",
       "5            3       11\n",
       "6           12       10\n",
       "8            4        0\n",
       "9           12       10\n",
       "...        ...      ...\n",
       "14158       11        2\n",
       "14161        2       11\n",
       "14163        6        6\n",
       "14166        0        8\n",
       "14168        2       11\n",
       "\n",
       "[6031 rows x 2 columns]"
      ]
     },
     "execution_count": 164,
     "metadata": {},
     "output_type": "execute_result"
    }
   ],
   "source": [
    "ensemble"
   ]
  },
  {
   "cell_type": "code",
   "execution_count": 168,
   "metadata": {},
   "outputs": [],
   "source": [
    "import numpy as np\n",
    "import pandas as pd\n",
    "from scipy.optimize import linear_sum_assignment\n",
    "\n",
    "def ensemble_to_co_association(ensemble, ignore_label=None):\n",
    "    #if isinstance(ensemble, pd.DataFrame) and 'labels' in ensemble.columns:\n",
    "    #    df = pd.DataFrame(ensemble.labels)\n",
    "    #    df = pd.DataFrame(df['labels'].to_list()).transpose()\n",
    "    #else:\n",
    "    #    df = pd.DataFrame(ensemble).transpose()\n",
    "    df = ensemble\n",
    "    N = len(df)\n",
    "    co_association_matrix = np.zeros([N, N])\n",
    "    n_estimators = len(ensemble)\n",
    "    for ri, row in df.iterrows():\n",
    "        if ri % 500 == 0:\n",
    "            print(ri)\n",
    "        compare = df.loc[ri + 1:]\n",
    "        #return(compare)\n",
    "        if ignore_label is not None:\n",
    "            shared_counts = ((row == compare) * (row != -1) * (compare != -1)).sum(axis=1)\n",
    "        else:\n",
    "            shared_counts = (row == compare).sum(axis=1)\n",
    "        co_association_matrix[ri, ri + 1:] = shared_counts / n_estimators\n",
    "    return co_association_matrix\n"
   ]
  },
  {
   "cell_type": "code",
   "execution_count": 169,
   "metadata": {},
   "outputs": [
    {
     "name": "stdout",
     "output_type": "stream",
     "text": [
      "0\n",
      "500\n",
      "1000\n",
      "1500\n",
      "2000\n",
      "2500\n",
      "3000\n",
      "3500\n",
      "4000\n",
      "4500\n",
      "5000\n",
      "5500\n",
      "6000\n"
     ]
    }
   ],
   "source": [
    "coass = ensemble_to_co_association(pd.DataFrame(ensemble.values, columns = [\"A\",\"B\"]))"
   ]
  },
  {
   "cell_type": "code",
   "execution_count": 172,
   "metadata": {},
   "outputs": [
    {
     "data": {
      "text/plain": [
       "(6031, 6031)"
      ]
     },
     "execution_count": 172,
     "metadata": {},
     "output_type": "execute_result"
    }
   ],
   "source": [
    "coass.shape"
   ]
  },
  {
   "cell_type": "code",
   "execution_count": 175,
   "metadata": {},
   "outputs": [],
   "source": [
    "coass_df = pd.DataFrame(coass, index = df.index, columns = df.index)"
   ]
  },
  {
   "cell_type": "code",
   "execution_count": 180,
   "metadata": {},
   "outputs": [],
   "source": [
    "# hierarchically cluster this df\n",
    "\n",
    "from scipy.cluster.hierarchy import linkage, fcluster\n",
    "\n",
    "def cluster_co_association_matrix(co_association_matrix, threshold=0.5):\n",
    "    \"\"\"\n",
    "    Perform clustering on the co-association matrix.\n",
    "\n",
    "    Parameters:\n",
    "    - co_association_matrix: The co-association matrix.\n",
    "    - threshold: The threshold for clustering.\n",
    "\n",
    "    Returns:\n",
    "    - clusters: A list representing the clusters assigned to each data point.\n",
    "    \"\"\"\n",
    "    # Perform clustering based on the threshold\n",
    "\n",
    "    clusters = fcluster(co_association_matrix, threshold, criterion='distance')\n",
    "\n",
    "    return clusters\n"
   ]
  },
  {
   "cell_type": "code",
   "execution_count": 235,
   "metadata": {},
   "outputs": [],
   "source": [
    "\n"
   ]
  },
  {
   "cell_type": "code",
   "execution_count": 238,
   "metadata": {},
   "outputs": [
    {
     "name": "stderr",
     "output_type": "stream",
     "text": [
      "/var/folders/_j/9fb8r7hn7zx13rt7glsw4j3h0000gn/T/ipykernel_9468/1970069541.py:1: ClusterWarning: scipy.cluster: The symmetric non-negative hollow observation matrix looks suspiciously like an uncondensed distance matrix\n",
      "  linkage_matrix = linkage(symmetric_matrix, method='average')\n"
     ]
    }
   ],
   "source": [
    "symmetric_matrix = coass + coass.T\n",
    "\n",
    "linkage_matrix = linkage(symmetric_matrix, method='average')\n"
   ]
  },
  {
   "cell_type": "code",
   "execution_count": 281,
   "metadata": {},
   "outputs": [
    {
     "name": "stdout",
     "output_type": "stream",
     "text": [
      "13\n"
     ]
    },
    {
     "data": {
      "text/plain": [
       "2     747\n",
       "1     702\n",
       "13    657\n",
       "4     608\n",
       "8     604\n",
       "3     530\n",
       "12    409\n",
       "9     366\n",
       "6     351\n",
       "10    328\n",
       "7     292\n",
       "11    225\n",
       "5     212\n",
       "Name: count, dtype: int64"
      ]
     },
     "execution_count": 281,
     "metadata": {},
     "output_type": "execute_result"
    }
   ],
   "source": [
    "clusters = fcluster(linkage_matrix, 0.006, criterion='distance')\n",
    "print(len(pd.Series(clusters).unique()))\n",
    "pd.Series(clusters).value_counts()\n"
   ]
  },
  {
   "cell_type": "code",
   "execution_count": null,
   "metadata": {},
   "outputs": [],
   "source": [
    "# gets same number of clusters as before"
   ]
  },
  {
   "cell_type": "code",
   "execution_count": 287,
   "metadata": {},
   "outputs": [
    {
     "name": "stdout",
     "output_type": "stream",
     "text": [
      "13\n"
     ]
    },
    {
     "data": {
      "text/plain": [
       "2     747\n",
       "1     702\n",
       "13    657\n",
       "4     608\n",
       "8     604\n",
       "3     530\n",
       "12    409\n",
       "9     366\n",
       "6     351\n",
       "10    328\n",
       "7     292\n",
       "11    225\n",
       "5     212\n",
       "Name: count, dtype: int64"
      ]
     },
     "execution_count": 287,
     "metadata": {},
     "output_type": "execute_result"
    }
   ],
   "source": [
    "clusters = fcluster(linkage_matrix, 0.006, criterion='distance')\n",
    "print(len(pd.Series(clusters).unique()))\n",
    "pd.Series(clusters).value_counts()"
   ]
  },
  {
   "cell_type": "code",
   "execution_count": null,
   "metadata": {},
   "outputs": [],
   "source": []
  }
 ],
 "metadata": {
  "kernelspec": {
   "display_name": "Python 3",
   "language": "python",
   "name": "python3"
  },
  "language_info": {
   "codemirror_mode": {
    "name": "ipython",
    "version": 3
   },
   "file_extension": ".py",
   "mimetype": "text/x-python",
   "name": "python",
   "nbconvert_exporter": "python",
   "pygments_lexer": "ipython3",
   "version": "3.12.0"
  }
 },
 "nbformat": 4,
 "nbformat_minor": 2
}

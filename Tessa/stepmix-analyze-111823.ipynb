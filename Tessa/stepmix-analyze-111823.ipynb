{
 "cells": [
  {
   "cell_type": "code",
   "execution_count": 1,
   "metadata": {},
   "outputs": [],
   "source": [
    "from stepmix.stepmix import StepMix\n",
    "import pandas as pd\n",
    "import numpy as np\n",
    "\n",
    "from sklearn.model_selection import GridSearchCV, ParameterGrid\n",
    "\n",
    "import matplotlib.pyplot as plt\n",
    "import seaborn as sns\n",
    "\n",
    "import pickle as pkl"
   ]
  },
  {
   "cell_type": "code",
   "execution_count": 2,
   "metadata": {},
   "outputs": [],
   "source": [
    "df = pd.read_csv(\"../data/cleaned_data_SYMPTOMS_9_13_23.csv\", index_col=0)\n",
    "sympdf = df.loc[:, df.columns.str.startswith('Symptom_')]\n",
    "sympdf.shape\n",
    "# filter to match\n",
    "sympdf = sympdf.loc[:, (sympdf.sum() / sympdf.shape[0] > 0.05) & (sympdf.sum()  / sympdf.shape[0]< 0.95)]"
   ]
  },
  {
   "cell_type": "code",
   "execution_count": 3,
   "metadata": {},
   "outputs": [],
   "source": [
    "def load_run(n_components, date):\n",
    "    clusters = pd.read_csv(\"output/cluster_\"+str(n_components)+\"_\"+date+\".csv\", index_col=0)\n",
    "    mm = pd.read_csv(\"output/stepmix_\"+str(n_components)+\"_\"+date+\"_mmdf.csv\", index_col=0)\n",
    "    symp_unusual = pd.read_csv(\"output/stepmix_\"+str(n_components)+\"_\"+date+\"_symp_unusual.csv\", index_col=0)\n",
    "\n",
    "    file_path = \"output/stepmix_\"+str(n_components)+\"_\"+date+\".pkl\"\n",
    "\n",
    "    with open(file_path, 'rb') as file:\n",
    "        model = pkl.load(file)\n",
    "    return({\"clusters\": clusters, \"mm\": mm, \"symp_unusual\": symp_unusual, \"model\": model})"
   ]
  },
  {
   "cell_type": "code",
   "execution_count": 7,
   "metadata": {},
   "outputs": [],
   "source": [
    "# try loading the actual model and figure out how to extract the probabilities for each patient and class\n",
    "n_components = 13\n",
    "date = \"111023\"\n",
    "\n",
    "res13 = load_run(n_components, date)"
   ]
  },
  {
   "cell_type": "code",
   "execution_count": null,
   "metadata": {},
   "outputs": [],
   "source": []
  },
  {
   "cell_type": "code",
   "execution_count": 16,
   "metadata": {},
   "outputs": [],
   "source": [
    "def filter_poor_fits(model, sympdf, clusterdf,  threshold = 0.5):\n",
    "    # filter out poor fits\n",
    "    # get the probability of each patient belonging to each cluster\n",
    "    preddf = pd.DataFrame(model.predict_proba(sympdf),index=sympdf.index)\n",
    "    print(preddf[preddf > 0.5].notna().sum(axis=1).value_counts())\n",
    "    poor_fits = preddf[preddf[preddf > 0.5].notna().sum(axis=1) == 0].index.values\n",
    "    clusterdf.loc[clusterdf.index.isin(poor_fits),'cluster']= np.nan\n",
    "    return(clusterdf)"
   ]
  },
  {
   "cell_type": "code",
   "execution_count": 139,
   "metadata": {},
   "outputs": [
    {
     "name": "stdout",
     "output_type": "stream",
     "text": [
      "1    5923\n",
      "0     108\n",
      "Name: count, dtype: int64\n"
     ]
    }
   ],
   "source": [
    "df[\"cluster\"] = filter_poor_fits(res13[\"model\"], sympdf, res13[\"clusters\"])"
   ]
  },
  {
   "cell_type": "code",
   "execution_count": 19,
   "metadata": {},
   "outputs": [
    {
     "data": {
      "text/plain": [
       "<Axes: xlabel='cluster'>"
      ]
     },
     "execution_count": 19,
     "metadata": {},
     "output_type": "execute_result"
    },
    {
     "data": {
      "image/png": "[encoded data removed]",
      "text/plain": [
       "<Figure size 640x480 with 1 Axes>"
      ]
     },
     "metadata": {},
     "output_type": "display_data"
    }
   ],
   "source": [
    "df[\"cluster\"].value_counts().plot(kind=\"bar\")\n",
    "# 1 is now really small\n",
    "# in a way that maybe suggests too many clusters..."
   ]
  },
  {
   "cell_type": "code",
   "execution_count": 20,
   "metadata": {},
   "outputs": [],
   "source": [
    "df['cluster'].to_csv(\"output/cluster_13_ambiguousNaN_111023.csv\")\n"
   ]
  },
  {
   "cell_type": "code",
   "execution_count": 24,
   "metadata": {},
   "outputs": [
    {
     "name": "stdout",
     "output_type": "stream",
     "text": [
      "9\n",
      "1    5977\n",
      "0      54\n",
      "Name: count, dtype: int64\n",
      "11\n",
      "1    5944\n",
      "0      87\n",
      "Name: count, dtype: int64\n",
      "12\n",
      "1    5937\n",
      "0      94\n",
      "Name: count, dtype: int64\n",
      "13\n",
      "1    5923\n",
      "0     108\n",
      "Name: count, dtype: int64\n"
     ]
    }
   ],
   "source": [
    "for n_components in [9,11,12,13]:\n",
    "    print(n_components)\n",
    "    res= load_run(n_components, date)\n",
    "    clust= filter_poor_fits(res[\"model\"], sympdf, res[\"clusters\"])\n",
    "    clust.to_csv(\"output/cluster_\"+str(n_components)+\"_ambiguousNaN_111023.csv\")\n"
   ]
  },
  {
   "cell_type": "code",
   "execution_count": null,
   "metadata": {},
   "outputs": [],
   "source": [
    "# interestingly: the number of ambiguous assignments increases when I have more clusters\n",
    "# could be an indicator that some are too similar to each other"
   ]
  },
  {
   "cell_type": "code",
   "execution_count": 25,
   "metadata": {},
   "outputs": [],
   "source": [
    "# try loading the actual model and figure out how to extract the probabilities for each patient and class\n",
    "n_components = 13\n",
    "date = \"111023\"\n",
    "\n",
    "res13 = load_run(n_components, date)"
   ]
  },
  {
   "cell_type": "code",
   "execution_count": 27,
   "metadata": {},
   "outputs": [],
   "source": [
    "preddf = pd.DataFrame(res13['model'].predict_proba(sympdf),index=sympdf.index)"
   ]
  },
  {
   "cell_type": "code",
   "execution_count": 29,
   "metadata": {},
   "outputs": [],
   "source": [
    "poor_fits = preddf[preddf[preddf > 0.5].notna().sum(axis=1) == 0].index.values"
   ]
  },
  {
   "cell_type": "code",
   "execution_count": 38,
   "metadata": {},
   "outputs": [
    {
     "data": {
      "text/plain": [
       "<Axes: >"
      ]
     },
     "execution_count": 38,
     "metadata": {},
     "output_type": "execute_result"
    },
    {
     "data": {
      "image/png": "[encoded data removed]",
      "text/plain": [
       "<Figure size 640x480 with 1 Axes>"
      ]
     },
     "metadata": {},
     "output_type": "display_data"
    }
   ],
   "source": [
    "(preddf.loc[poor_fits]>0.2).sum(axis=1).hist()\n",
    "# mostly split between two clusters -- which two?"
   ]
  },
  {
   "cell_type": "code",
   "execution_count": 44,
   "metadata": {},
   "outputs": [],
   "source": [
    "(preddf.loc[poor_fits]>0.2).sum(axis=0).sort_values(ascending=False)\n",
    "# pretty dispersed\n",
    "\n",
    "booltab = preddf.loc[poor_fits]>0.2"
   ]
  },
  {
   "cell_type": "code",
   "execution_count": 45,
   "metadata": {},
   "outputs": [],
   "source": [
    "# okay so for this boolean table booltab I want to know which pairs of columns are true together\n",
    "# and how often that happens\n",
    "# I think I can do this with a matrix multiplication\n",
    "# but I need to convert the boolean table to 0 and 1\n",
    "\n",
    "booltab = booltab.astype(int)\n"
   ]
  },
  {
   "cell_type": "code",
   "execution_count": 52,
   "metadata": {},
   "outputs": [
    {
     "data": {
      "text/html": [
       "<div>\n",
       "<style scoped>\n",
       "    .dataframe tbody tr th:only-of-type {\n",
       "        vertical-align: middle;\n",
       "    }\n",
       "\n",
       "    .dataframe tbody tr th {\n",
       "        vertical-align: top;\n",
       "    }\n",
       "\n",
       "    .dataframe thead th {\n",
       "        text-align: right;\n",
       "    }\n",
       "</style>\n",
       "<table border=\"1\" class=\"dataframe\">\n",
       "  <thead>\n",
       "    <tr style=\"text-align: right;\">\n",
       "      <th></th>\n",
       "      <th>0</th>\n",
       "      <th>1</th>\n",
       "      <th>2</th>\n",
       "      <th>3</th>\n",
       "      <th>4</th>\n",
       "      <th>5</th>\n",
       "      <th>6</th>\n",
       "      <th>7</th>\n",
       "      <th>8</th>\n",
       "      <th>9</th>\n",
       "      <th>10</th>\n",
       "      <th>11</th>\n",
       "      <th>12</th>\n",
       "    </tr>\n",
       "  </thead>\n",
       "  <tbody>\n",
       "    <tr>\n",
       "      <th>0</th>\n",
       "      <td>32</td>\n",
       "      <td>0</td>\n",
       "      <td>0</td>\n",
       "      <td>8</td>\n",
       "      <td>0</td>\n",
       "      <td>8</td>\n",
       "      <td>0</td>\n",
       "      <td>0</td>\n",
       "      <td>7</td>\n",
       "      <td>5</td>\n",
       "      <td>7</td>\n",
       "      <td>3</td>\n",
       "      <td>6</td>\n",
       "    </tr>\n",
       "    <tr>\n",
       "      <th>1</th>\n",
       "      <td>0</td>\n",
       "      <td>0</td>\n",
       "      <td>0</td>\n",
       "      <td>0</td>\n",
       "      <td>0</td>\n",
       "      <td>0</td>\n",
       "      <td>0</td>\n",
       "      <td>0</td>\n",
       "      <td>0</td>\n",
       "      <td>0</td>\n",
       "      <td>0</td>\n",
       "      <td>0</td>\n",
       "      <td>0</td>\n",
       "    </tr>\n",
       "    <tr>\n",
       "      <th>2</th>\n",
       "      <td>0</td>\n",
       "      <td>0</td>\n",
       "      <td>19</td>\n",
       "      <td>0</td>\n",
       "      <td>0</td>\n",
       "      <td>7</td>\n",
       "      <td>8</td>\n",
       "      <td>1</td>\n",
       "      <td>0</td>\n",
       "      <td>0</td>\n",
       "      <td>2</td>\n",
       "      <td>11</td>\n",
       "      <td>0</td>\n",
       "    </tr>\n",
       "    <tr>\n",
       "      <th>3</th>\n",
       "      <td>8</td>\n",
       "      <td>0</td>\n",
       "      <td>0</td>\n",
       "      <td>24</td>\n",
       "      <td>5</td>\n",
       "      <td>4</td>\n",
       "      <td>0</td>\n",
       "      <td>0</td>\n",
       "      <td>6</td>\n",
       "      <td>8</td>\n",
       "      <td>4</td>\n",
       "      <td>0</td>\n",
       "      <td>0</td>\n",
       "    </tr>\n",
       "    <tr>\n",
       "      <th>4</th>\n",
       "      <td>0</td>\n",
       "      <td>0</td>\n",
       "      <td>0</td>\n",
       "      <td>5</td>\n",
       "      <td>11</td>\n",
       "      <td>0</td>\n",
       "      <td>0</td>\n",
       "      <td>0</td>\n",
       "      <td>3</td>\n",
       "      <td>6</td>\n",
       "      <td>0</td>\n",
       "      <td>0</td>\n",
       "      <td>0</td>\n",
       "    </tr>\n",
       "    <tr>\n",
       "      <th>5</th>\n",
       "      <td>8</td>\n",
       "      <td>0</td>\n",
       "      <td>7</td>\n",
       "      <td>4</td>\n",
       "      <td>0</td>\n",
       "      <td>30</td>\n",
       "      <td>3</td>\n",
       "      <td>0</td>\n",
       "      <td>0</td>\n",
       "      <td>9</td>\n",
       "      <td>4</td>\n",
       "      <td>11</td>\n",
       "      <td>1</td>\n",
       "    </tr>\n",
       "    <tr>\n",
       "      <th>6</th>\n",
       "      <td>0</td>\n",
       "      <td>0</td>\n",
       "      <td>8</td>\n",
       "      <td>0</td>\n",
       "      <td>0</td>\n",
       "      <td>3</td>\n",
       "      <td>26</td>\n",
       "      <td>3</td>\n",
       "      <td>0</td>\n",
       "      <td>0</td>\n",
       "      <td>5</td>\n",
       "      <td>14</td>\n",
       "      <td>2</td>\n",
       "    </tr>\n",
       "    <tr>\n",
       "      <th>7</th>\n",
       "      <td>0</td>\n",
       "      <td>0</td>\n",
       "      <td>1</td>\n",
       "      <td>0</td>\n",
       "      <td>0</td>\n",
       "      <td>0</td>\n",
       "      <td>3</td>\n",
       "      <td>4</td>\n",
       "      <td>0</td>\n",
       "      <td>0</td>\n",
       "      <td>1</td>\n",
       "      <td>0</td>\n",
       "      <td>0</td>\n",
       "    </tr>\n",
       "    <tr>\n",
       "      <th>8</th>\n",
       "      <td>7</td>\n",
       "      <td>0</td>\n",
       "      <td>0</td>\n",
       "      <td>6</td>\n",
       "      <td>3</td>\n",
       "      <td>0</td>\n",
       "      <td>0</td>\n",
       "      <td>0</td>\n",
       "      <td>15</td>\n",
       "      <td>1</td>\n",
       "      <td>1</td>\n",
       "      <td>1</td>\n",
       "      <td>0</td>\n",
       "    </tr>\n",
       "    <tr>\n",
       "      <th>9</th>\n",
       "      <td>5</td>\n",
       "      <td>0</td>\n",
       "      <td>0</td>\n",
       "      <td>8</td>\n",
       "      <td>6</td>\n",
       "      <td>9</td>\n",
       "      <td>0</td>\n",
       "      <td>0</td>\n",
       "      <td>1</td>\n",
       "      <td>21</td>\n",
       "      <td>0</td>\n",
       "      <td>1</td>\n",
       "      <td>0</td>\n",
       "    </tr>\n",
       "    <tr>\n",
       "      <th>10</th>\n",
       "      <td>7</td>\n",
       "      <td>0</td>\n",
       "      <td>2</td>\n",
       "      <td>4</td>\n",
       "      <td>0</td>\n",
       "      <td>4</td>\n",
       "      <td>5</td>\n",
       "      <td>1</td>\n",
       "      <td>1</td>\n",
       "      <td>0</td>\n",
       "      <td>25</td>\n",
       "      <td>7</td>\n",
       "      <td>3</td>\n",
       "    </tr>\n",
       "    <tr>\n",
       "      <th>11</th>\n",
       "      <td>3</td>\n",
       "      <td>0</td>\n",
       "      <td>11</td>\n",
       "      <td>0</td>\n",
       "      <td>0</td>\n",
       "      <td>11</td>\n",
       "      <td>14</td>\n",
       "      <td>0</td>\n",
       "      <td>1</td>\n",
       "      <td>1</td>\n",
       "      <td>7</td>\n",
       "      <td>34</td>\n",
       "      <td>0</td>\n",
       "    </tr>\n",
       "    <tr>\n",
       "      <th>12</th>\n",
       "      <td>6</td>\n",
       "      <td>0</td>\n",
       "      <td>0</td>\n",
       "      <td>0</td>\n",
       "      <td>0</td>\n",
       "      <td>1</td>\n",
       "      <td>2</td>\n",
       "      <td>0</td>\n",
       "      <td>0</td>\n",
       "      <td>0</td>\n",
       "      <td>3</td>\n",
       "      <td>0</td>\n",
       "      <td>9</td>\n",
       "    </tr>\n",
       "  </tbody>\n",
       "</table>\n",
       "</div>"
      ],
      "text/plain": [
       "    0   1   2   3   4   5   6   7   8   9   10  11  12\n",
       "0   32   0   0   8   0   8   0   0   7   5   7   3   6\n",
       "1    0   0   0   0   0   0   0   0   0   0   0   0   0\n",
       "2    0   0  19   0   0   7   8   1   0   0   2  11   0\n",
       "3    8   0   0  24   5   4   0   0   6   8   4   0   0\n",
       "4    0   0   0   5  11   0   0   0   3   6   0   0   0\n",
       "5    8   0   7   4   0  30   3   0   0   9   4  11   1\n",
       "6    0   0   8   0   0   3  26   3   0   0   5  14   2\n",
       "7    0   0   1   0   0   0   3   4   0   0   1   0   0\n",
       "8    7   0   0   6   3   0   0   0  15   1   1   1   0\n",
       "9    5   0   0   8   6   9   0   0   1  21   0   1   0\n",
       "10   7   0   2   4   0   4   5   1   1   0  25   7   3\n",
       "11   3   0  11   0   0  11  14   0   1   1   7  34   0\n",
       "12   6   0   0   0   0   1   2   0   0   0   3   0   9"
      ]
     },
     "execution_count": 52,
     "metadata": {},
     "output_type": "execute_result"
    },
    {
     "data": {
      "image/png": "[encoded data removed]",
      "text/plain": [
       "<Figure size 640x480 with 2 Axes>"
      ]
     },
     "metadata": {},
     "output_type": "display_data"
    },
    {
     "data": {
      "image/png": "[encoded data removed]",
      "text/plain": [
       "<Figure size 1000x1000 with 4 Axes>"
      ]
     },
     "metadata": {},
     "output_type": "display_data"
    }
   ],
   "source": [
    "# I'm not really seeing \n",
    "plot = sns.heatmap(booltab.T.dot(booltab), cmap=\"Blues\")\n",
    "# same heatmap but hierarchicially clustered\n",
    "plot= sns.clustermap(booltab.T.dot(booltab), cmap=\"Blues\")\n",
    "\n",
    "booltab.T.dot(booltab)"
   ]
  },
  {
   "cell_type": "code",
   "execution_count": 56,
   "metadata": {},
   "outputs": [],
   "source": [
    "# MC permutation test cluster pairs for distinguishability\n",
    "# I think I want to do this for each pair of clusters\n",
    "clusters = res13[\"clusters\"]\n",
    "\n"
   ]
  },
  {
   "cell_type": "code",
   "execution_count": 59,
   "metadata": {},
   "outputs": [
    {
     "data": {
      "text/plain": [
       "array([ 8, 11, 10,  0,  5,  9,  7,  2,  6,  3, 12,  4,  1])"
      ]
     },
     "execution_count": 59,
     "metadata": {},
     "output_type": "execute_result"
    }
   ],
   "source": [
    "clusters['cluster'].unique()"
   ]
  },
  {
   "cell_type": "code",
   "execution_count": 60,
   "metadata": {},
   "outputs": [],
   "source": [
    "    groups = clusters['cluster'].unique()\n",
    "\n",
    "    # list all pairs from n choose 2 of groups\n",
    "    pairs = []\n",
    "    for i in range(len(groups)):\n",
    "        for j in range(i+1,len(groups)):\n",
    "            pairs.append([groups[i],groups[j]])\n",
    "    "
   ]
  },
  {
   "cell_type": "code",
   "execution_count": 61,
   "metadata": {},
   "outputs": [
    {
     "data": {
      "text/plain": [
       "array([ 8, 11, 10,  0,  5,  9,  7,  2,  6,  3, 12,  4,  1])"
      ]
     },
     "execution_count": 61,
     "metadata": {},
     "output_type": "execute_result"
    }
   ],
   "source": [
    "groups"
   ]
  },
  {
   "cell_type": "code",
   "execution_count": 65,
   "metadata": {},
   "outputs": [],
   "source": [
    "pair = pairs[0]"
   ]
  },
  {
   "cell_type": "code",
   "execution_count": 66,
   "metadata": {},
   "outputs": [],
   "source": [
    "sympair = sympdf[clusters['cluster'].isin(pair)]"
   ]
  },
  {
   "cell_type": "code",
   "execution_count": 68,
   "metadata": {},
   "outputs": [],
   "source": [
    "cluspair = clusters[clusters['cluster'].isin(pair)]"
   ]
  },
  {
   "cell_type": "code",
   "execution_count": 71,
   "metadata": {},
   "outputs": [
    {
     "name": "stderr",
     "output_type": "stream",
     "text": [
      "/var/folders/_j/9fb8r7hn7zx13rt7glsw4j3h0000gn/T/ipykernel_57197/3749138398.py:1: UserWarning: Boolean Series key will be reindexed to match DataFrame index.\n",
      "  sympair[clusters['cluster'] == pair[0]].mean()\n"
     ]
    },
    {
     "data": {
      "text/plain": [
       "Symptom_Memory_short                  0.871429\n",
       "Symptom_Memory_long                   0.300000\n",
       "Symptom_Memory_no_new_memories        0.040816\n",
       "Symptom_Memory_forget_tasks           0.034694\n",
       "Symptom_Memory_other                  0.077551\n",
       "                                        ...   \n",
       "Symptom_SkinAllergy_brittle_nail      0.036735\n",
       "Symptom_SkinAllergy_other_itchy       0.018367\n",
       "Symptom_PEM                           0.785714\n",
       "Symptom_Change_sensitivity_to_meds    0.079592\n",
       "Symptom_New_allergies                 0.034694\n",
       "Length: 147, dtype: float64"
      ]
     },
     "execution_count": 71,
     "metadata": {},
     "output_type": "execute_result"
    }
   ],
   "source": [
    "sympair[clusters['cluster'] == pair[0]].mean() "
   ]
  },
  {
   "cell_type": "code",
   "execution_count": 72,
   "metadata": {},
   "outputs": [
    {
     "name": "stderr",
     "output_type": "stream",
     "text": [
      "/var/folders/_j/9fb8r7hn7zx13rt7glsw4j3h0000gn/T/ipykernel_57197/2884306579.py:1: UserWarning: Boolean Series key will be reindexed to match DataFrame index.\n",
      "  sympair[clusters['cluster'] == pair[1]].mean()\n",
      "/var/folders/_j/9fb8r7hn7zx13rt7glsw4j3h0000gn/T/ipykernel_57197/2884306579.py:4: UserWarning: Boolean Series key will be reindexed to match DataFrame index.\n",
      "  dist = np.linalg.norm(sympair[clusters['cluster'] == pair[0]].mean() - sympair[clusters['cluster'] == pair[1]].mean())\n",
      "/var/folders/_j/9fb8r7hn7zx13rt7glsw4j3h0000gn/T/ipykernel_57197/2884306579.py:4: UserWarning: Boolean Series key will be reindexed to match DataFrame index.\n",
      "  dist = np.linalg.norm(sympair[clusters['cluster'] == pair[0]].mean() - sympair[clusters['cluster'] == pair[1]].mean())\n"
     ]
    }
   ],
   "source": [
    "sympair[clusters['cluster'] == pair[1]].mean()\n",
    "\n",
    "# I want the euclidean distance between the means of the two clusters\n",
    "dist = np.linalg.norm(sympair[clusters['cluster'] == pair[0]].mean() - sympair[clusters['cluster'] == pair[1]].mean())\n"
   ]
  },
  {
   "cell_type": "code",
   "execution_count": 90,
   "metadata": {},
   "outputs": [],
   "source": [
    "%reload_ext autoreload\n",
    "%autoreload 2\n",
    "\n",
    "import permtest"
   ]
  },
  {
   "cell_type": "code",
   "execution_count": 114,
   "metadata": {},
   "outputs": [],
   "source": [
    "pvals, dists = permtest.perm_test(sympdf, clusters, nperm=100)"
   ]
  },
  {
   "cell_type": "code",
   "execution_count": 123,
   "metadata": {},
   "outputs": [
    {
     "data": {
      "text/plain": [
       "1.9799261243870112"
      ]
     },
     "execution_count": 123,
     "metadata": {},
     "output_type": "execute_result"
    }
   ],
   "source": [
    "np.linalg.norm(sympair[cluspair['cluster'] == pair[0]].mean() - sympair[cluspair['cluster'] == pair[1]].mean())"
   ]
  },
  {
   "cell_type": "code",
   "execution_count": 131,
   "metadata": {},
   "outputs": [],
   "source": [
    "random_clusters = clusters.copy()\n",
    "# choose clusters uniformly at random\n",
    "random_clusters['cluster'] = np.random.choice(clusters['cluster'].unique(), size=clusters.shape[0])"
   ]
  },
  {
   "cell_type": "code",
   "execution_count": 137,
   "metadata": {},
   "outputs": [],
   "source": [
    "pvals, dists = permtest.perm_test(sympdf, random_clusters, nperm=1000)"
   ]
  },
  {
   "cell_type": "code",
   "execution_count": 138,
   "metadata": {},
   "outputs": [
    {
     "data": {
      "text/html": [
       "<div>\n",
       "<style scoped>\n",
       "    .dataframe tbody tr th:only-of-type {\n",
       "        vertical-align: middle;\n",
       "    }\n",
       "\n",
       "    .dataframe tbody tr th {\n",
       "        vertical-align: top;\n",
       "    }\n",
       "\n",
       "    .dataframe thead th {\n",
       "        text-align: right;\n",
       "    }\n",
       "</style>\n",
       "<table border=\"1\" class=\"dataframe\">\n",
       "  <thead>\n",
       "    <tr style=\"text-align: right;\">\n",
       "      <th></th>\n",
       "      <th>3</th>\n",
       "      <th>5</th>\n",
       "      <th>11</th>\n",
       "      <th>1</th>\n",
       "      <th>8</th>\n",
       "      <th>12</th>\n",
       "      <th>9</th>\n",
       "      <th>0</th>\n",
       "      <th>2</th>\n",
       "      <th>4</th>\n",
       "      <th>6</th>\n",
       "      <th>10</th>\n",
       "      <th>7</th>\n",
       "    </tr>\n",
       "  </thead>\n",
       "  <tbody>\n",
       "    <tr>\n",
       "      <th>3</th>\n",
       "      <td>NaN</td>\n",
       "      <td>NaN</td>\n",
       "      <td>NaN</td>\n",
       "      <td>NaN</td>\n",
       "      <td>NaN</td>\n",
       "      <td>NaN</td>\n",
       "      <td>NaN</td>\n",
       "      <td>NaN</td>\n",
       "      <td>NaN</td>\n",
       "      <td>NaN</td>\n",
       "      <td>NaN</td>\n",
       "      <td>NaN</td>\n",
       "      <td>NaN</td>\n",
       "    </tr>\n",
       "    <tr>\n",
       "      <th>5</th>\n",
       "      <td>0.508</td>\n",
       "      <td>NaN</td>\n",
       "      <td>NaN</td>\n",
       "      <td>NaN</td>\n",
       "      <td>NaN</td>\n",
       "      <td>NaN</td>\n",
       "      <td>NaN</td>\n",
       "      <td>NaN</td>\n",
       "      <td>NaN</td>\n",
       "      <td>NaN</td>\n",
       "      <td>NaN</td>\n",
       "      <td>NaN</td>\n",
       "      <td>NaN</td>\n",
       "    </tr>\n",
       "    <tr>\n",
       "      <th>11</th>\n",
       "      <td>0.785</td>\n",
       "      <td>0.932</td>\n",
       "      <td>NaN</td>\n",
       "      <td>NaN</td>\n",
       "      <td>NaN</td>\n",
       "      <td>NaN</td>\n",
       "      <td>NaN</td>\n",
       "      <td>NaN</td>\n",
       "      <td>NaN</td>\n",
       "      <td>NaN</td>\n",
       "      <td>NaN</td>\n",
       "      <td>NaN</td>\n",
       "      <td>NaN</td>\n",
       "    </tr>\n",
       "    <tr>\n",
       "      <th>1</th>\n",
       "      <td>0.451</td>\n",
       "      <td>0.454</td>\n",
       "      <td>0.918</td>\n",
       "      <td>NaN</td>\n",
       "      <td>NaN</td>\n",
       "      <td>NaN</td>\n",
       "      <td>NaN</td>\n",
       "      <td>NaN</td>\n",
       "      <td>NaN</td>\n",
       "      <td>NaN</td>\n",
       "      <td>NaN</td>\n",
       "      <td>NaN</td>\n",
       "      <td>NaN</td>\n",
       "    </tr>\n",
       "    <tr>\n",
       "      <th>8</th>\n",
       "      <td>0.416</td>\n",
       "      <td>0.476</td>\n",
       "      <td>0.602</td>\n",
       "      <td>0.39</td>\n",
       "      <td>NaN</td>\n",
       "      <td>NaN</td>\n",
       "      <td>NaN</td>\n",
       "      <td>NaN</td>\n",
       "      <td>NaN</td>\n",
       "      <td>NaN</td>\n",
       "      <td>NaN</td>\n",
       "      <td>NaN</td>\n",
       "      <td>NaN</td>\n",
       "    </tr>\n",
       "    <tr>\n",
       "      <th>12</th>\n",
       "      <td>0.428</td>\n",
       "      <td>0.9</td>\n",
       "      <td>0.902</td>\n",
       "      <td>0.764</td>\n",
       "      <td>0.351</td>\n",
       "      <td>NaN</td>\n",
       "      <td>NaN</td>\n",
       "      <td>NaN</td>\n",
       "      <td>NaN</td>\n",
       "      <td>NaN</td>\n",
       "      <td>NaN</td>\n",
       "      <td>NaN</td>\n",
       "      <td>NaN</td>\n",
       "    </tr>\n",
       "    <tr>\n",
       "      <th>9</th>\n",
       "      <td>0.262</td>\n",
       "      <td>0.299</td>\n",
       "      <td>0.395</td>\n",
       "      <td>0.311</td>\n",
       "      <td>0.887</td>\n",
       "      <td>0.08</td>\n",
       "      <td>NaN</td>\n",
       "      <td>NaN</td>\n",
       "      <td>NaN</td>\n",
       "      <td>NaN</td>\n",
       "      <td>NaN</td>\n",
       "      <td>NaN</td>\n",
       "      <td>NaN</td>\n",
       "    </tr>\n",
       "    <tr>\n",
       "      <th>0</th>\n",
       "      <td>0.62</td>\n",
       "      <td>0.753</td>\n",
       "      <td>0.974</td>\n",
       "      <td>0.745</td>\n",
       "      <td>0.469</td>\n",
       "      <td>0.371</td>\n",
       "      <td>0.297</td>\n",
       "      <td>NaN</td>\n",
       "      <td>NaN</td>\n",
       "      <td>NaN</td>\n",
       "      <td>NaN</td>\n",
       "      <td>NaN</td>\n",
       "      <td>NaN</td>\n",
       "    </tr>\n",
       "    <tr>\n",
       "      <th>2</th>\n",
       "      <td>0.923</td>\n",
       "      <td>0.58</td>\n",
       "      <td>0.927</td>\n",
       "      <td>0.859</td>\n",
       "      <td>0.666</td>\n",
       "      <td>0.44</td>\n",
       "      <td>0.588</td>\n",
       "      <td>0.977</td>\n",
       "      <td>NaN</td>\n",
       "      <td>NaN</td>\n",
       "      <td>NaN</td>\n",
       "      <td>NaN</td>\n",
       "      <td>NaN</td>\n",
       "    </tr>\n",
       "    <tr>\n",
       "      <th>4</th>\n",
       "      <td>0.698</td>\n",
       "      <td>0.371</td>\n",
       "      <td>0.347</td>\n",
       "      <td>0.468</td>\n",
       "      <td>0.621</td>\n",
       "      <td>0.164</td>\n",
       "      <td>0.694</td>\n",
       "      <td>0.351</td>\n",
       "      <td>0.502</td>\n",
       "      <td>NaN</td>\n",
       "      <td>NaN</td>\n",
       "      <td>NaN</td>\n",
       "      <td>NaN</td>\n",
       "    </tr>\n",
       "    <tr>\n",
       "      <th>6</th>\n",
       "      <td>0.767</td>\n",
       "      <td>0.514</td>\n",
       "      <td>0.928</td>\n",
       "      <td>0.817</td>\n",
       "      <td>0.395</td>\n",
       "      <td>0.788</td>\n",
       "      <td>0.325</td>\n",
       "      <td>0.614</td>\n",
       "      <td>0.902</td>\n",
       "      <td>0.415</td>\n",
       "      <td>NaN</td>\n",
       "      <td>NaN</td>\n",
       "      <td>NaN</td>\n",
       "    </tr>\n",
       "    <tr>\n",
       "      <th>10</th>\n",
       "      <td>0.285</td>\n",
       "      <td>0.848</td>\n",
       "      <td>0.912</td>\n",
       "      <td>0.507</td>\n",
       "      <td>0.615</td>\n",
       "      <td>0.779</td>\n",
       "      <td>0.173</td>\n",
       "      <td>0.465</td>\n",
       "      <td>0.667</td>\n",
       "      <td>0.177</td>\n",
       "      <td>0.432</td>\n",
       "      <td>NaN</td>\n",
       "      <td>NaN</td>\n",
       "    </tr>\n",
       "    <tr>\n",
       "      <th>7</th>\n",
       "      <td>0.934</td>\n",
       "      <td>0.626</td>\n",
       "      <td>0.604</td>\n",
       "      <td>0.133</td>\n",
       "      <td>0.931</td>\n",
       "      <td>0.323</td>\n",
       "      <td>0.644</td>\n",
       "      <td>0.696</td>\n",
       "      <td>0.91</td>\n",
       "      <td>0.387</td>\n",
       "      <td>0.332</td>\n",
       "      <td>0.813</td>\n",
       "      <td>NaN</td>\n",
       "    </tr>\n",
       "  </tbody>\n",
       "</table>\n",
       "</div>"
      ],
      "text/plain": [
       "       3      5      11     1      8      12     9      0      2      4   \\\n",
       "3     NaN    NaN    NaN    NaN    NaN    NaN    NaN    NaN    NaN    NaN   \n",
       "5   0.508    NaN    NaN    NaN    NaN    NaN    NaN    NaN    NaN    NaN   \n",
       "11  0.785  0.932    NaN    NaN    NaN    NaN    NaN    NaN    NaN    NaN   \n",
       "1   0.451  0.454  0.918    NaN    NaN    NaN    NaN    NaN    NaN    NaN   \n",
       "8   0.416  0.476  0.602   0.39    NaN    NaN    NaN    NaN    NaN    NaN   \n",
       "12  0.428    0.9  0.902  0.764  0.351    NaN    NaN    NaN    NaN    NaN   \n",
       "9   0.262  0.299  0.395  0.311  0.887   0.08    NaN    NaN    NaN    NaN   \n",
       "0    0.62  0.753  0.974  0.745  0.469  0.371  0.297    NaN    NaN    NaN   \n",
       "2   0.923   0.58  0.927  0.859  0.666   0.44  0.588  0.977    NaN    NaN   \n",
       "4   0.698  0.371  0.347  0.468  0.621  0.164  0.694  0.351  0.502    NaN   \n",
       "6   0.767  0.514  0.928  0.817  0.395  0.788  0.325  0.614  0.902  0.415   \n",
       "10  0.285  0.848  0.912  0.507  0.615  0.779  0.173  0.465  0.667  0.177   \n",
       "7   0.934  0.626  0.604  0.133  0.931  0.323  0.644  0.696   0.91  0.387   \n",
       "\n",
       "       6      10   7   \n",
       "3     NaN    NaN  NaN  \n",
       "5     NaN    NaN  NaN  \n",
       "11    NaN    NaN  NaN  \n",
       "1     NaN    NaN  NaN  \n",
       "8     NaN    NaN  NaN  \n",
       "12    NaN    NaN  NaN  \n",
       "9     NaN    NaN  NaN  \n",
       "0     NaN    NaN  NaN  \n",
       "2     NaN    NaN  NaN  \n",
       "4     NaN    NaN  NaN  \n",
       "6     NaN    NaN  NaN  \n",
       "10  0.432    NaN  NaN  \n",
       "7   0.332  0.813  NaN  "
      ]
     },
     "execution_count": 138,
     "metadata": {},
     "output_type": "execute_result"
    }
   ],
   "source": [
    "pvals\n",
    "# ok, the pvalues are appropriately large so this seems pretty good\n",
    "# not uniform but that's likely because nperm is small"
   ]
  },
  {
   "cell_type": "code",
   "execution_count": 124,
   "metadata": {},
   "outputs": [
    {
     "data": {
      "text/plain": [
       "(0.0,\n",
       " 1.9799261243870112,\n",
       " [0.2502737323193956,\n",
       "  0.30660205267295104,\n",
       "  0.252863937914212,\n",
       "  0.2838624844594456,\n",
       "  0.24893813772517423,\n",
       "  0.2662464582980199,\n",
       "  0.24743150122103416,\n",
       "  0.2682518314453263,\n",
       "  0.30692680757822655,\n",
       "  0.26406560030184384,\n",
       "  0.2583894866631522,\n",
       "  0.2911680137850266,\n",
       "  0.30040729851621195,\n",
       "  0.2644343646267812,\n",
       "  0.28727000943162256,\n",
       "  0.2829177370204812,\n",
       "  0.2696417456816922,\n",
       "  0.24703184866507982,\n",
       "  0.24449952727138458,\n",
       "  0.27860302405925336,\n",
       "  0.2666733550825357,\n",
       "  0.2754692506924647,\n",
       "  0.25349533705204547,\n",
       "  0.2609403806963534,\n",
       "  0.24237886598994263,\n",
       "  0.2678185358272757,\n",
       "  0.27800244104543936,\n",
       "  0.277310816125398,\n",
       "  0.28734945122825906,\n",
       "  0.293200059546107,\n",
       "  0.26036339032302275,\n",
       "  0.2848872671451024,\n",
       "  0.2904381866155486,\n",
       "  0.25265171724434354,\n",
       "  0.24500032972252325,\n",
       "  0.2792625678181151,\n",
       "  0.22000063550410132,\n",
       "  0.2798030197232191,\n",
       "  0.26558901342048385,\n",
       "  0.25860718805429384,\n",
       "  0.22619575310862972,\n",
       "  0.3133400603032424,\n",
       "  0.2559385704466794,\n",
       "  0.2598491117443652,\n",
       "  0.27078328143762065,\n",
       "  0.3533832395489512,\n",
       "  0.2765394106461808,\n",
       "  0.24209926225715028,\n",
       "  0.2462362747569448,\n",
       "  0.26445195433069674,\n",
       "  0.26828406523808573,\n",
       "  0.28660756977387203,\n",
       "  0.2536311152245701,\n",
       "  0.25280747407238735,\n",
       "  0.26450635337744005,\n",
       "  0.24491018205804585,\n",
       "  0.29577161835003535,\n",
       "  0.27649673030539157,\n",
       "  0.24768880441143817,\n",
       "  0.29373428297496224,\n",
       "  0.2555889134128917,\n",
       "  0.2528224964468836,\n",
       "  0.2507769642022766,\n",
       "  0.253483526817316,\n",
       "  0.2480020145936528,\n",
       "  0.2828924620833526,\n",
       "  0.2731417277686476,\n",
       "  0.28989046392948487,\n",
       "  0.278242856489537,\n",
       "  0.2638229566496215,\n",
       "  0.2934350218245775,\n",
       "  0.2554979987682919,\n",
       "  0.24386507754022285,\n",
       "  0.2718579174988675,\n",
       "  0.27077291056384284,\n",
       "  0.24684152767170184,\n",
       "  0.303560502036504,\n",
       "  0.2841982066014406,\n",
       "  0.27099298939834876,\n",
       "  0.298374293236288,\n",
       "  0.23667743247512435,\n",
       "  0.28256355082382356,\n",
       "  0.27799149397102907,\n",
       "  0.2638117025451289,\n",
       "  0.283535571087723,\n",
       "  0.2507489429215678,\n",
       "  0.25574907300498323,\n",
       "  0.2255556697560834,\n",
       "  0.23826252072484172,\n",
       "  0.27103457375838935,\n",
       "  0.2717432201971948,\n",
       "  0.3064925675007765,\n",
       "  0.2561226146455248,\n",
       "  0.29226750665848994,\n",
       "  0.24260471360276845,\n",
       "  0.26342844819126954,\n",
       "  0.2457084889163734,\n",
       "  0.25619838752667884,\n",
       "  0.24384975700298864,\n",
       "  0.263517518767744])"
      ]
     },
     "execution_count": 124,
     "metadata": {},
     "output_type": "execute_result"
    }
   ],
   "source": [
    "permtest.perm_test_duo(sympdf, clusters=clusters, nperm=100, pair = pair)"
   ]
  },
  {
   "cell_type": "code",
   "execution_count": 111,
   "metadata": {},
   "outputs": [
    {
     "ename": "TypeError",
     "evalue": "'tuple' object does not support item assignment",
     "output_type": "error",
     "traceback": [
      "\u001b[0;31m---------------------------------------------------------------------------\u001b[0m",
      "\u001b[0;31mTypeError\u001b[0m                                 Traceback (most recent call last)",
      "\u001b[1;32m/Users/tessa/Documents/GitHub/PLR/Tessa/stepmix-analyze-111823.ipynb Cell 29\u001b[0m line \u001b[0;36m2\n\u001b[1;32m      <a href='vscode-notebook-cell:/Users/tessa/Documents/GitHub/PLR/Tessa/stepmix-analyze-111823.ipynb#Y115sZmlsZQ%3D%3D?line=0'>1</a>\u001b[0m \u001b[39m# replace NaNs with 0s\u001b[39;00m\n\u001b[0;32m----> <a href='vscode-notebook-cell:/Users/tessa/Documents/GitHub/PLR/Tessa/stepmix-analyze-111823.ipynb#Y115sZmlsZQ%3D%3D?line=1'>2</a>\u001b[0m pt_out[\u001b[39m1\u001b[39;49m] \u001b[39m=\u001b[39m pt_out[\u001b[39m1\u001b[39m]\u001b[39m.\u001b[39mfillna(\u001b[39m0\u001b[39m, inplace\u001b[39m=\u001b[39m\u001b[39mTrue\u001b[39;00m)\n",
      "\u001b[0;31mTypeError\u001b[0m: 'tuple' object does not support item assignment"
     ]
    }
   ],
   "source": [
    "# replace NaNs with 0s\n",
    "pt_out[1] = pt_out[1].fillna(0, inplace=True)"
   ]
  },
  {
   "cell_type": "code",
   "execution_count": 112,
   "metadata": {},
   "outputs": [
    {
     "name": "stderr",
     "output_type": "stream",
     "text": [
      "/Users/tessa/miniforge3/envs/stepmix/lib/python3.12/site-packages/seaborn/matrix.py:530: ClusterWarning: scipy.cluster: The symmetric non-negative hollow observation matrix looks suspiciously like an uncondensed distance matrix\n",
      "  linkage = hierarchy.linkage(self.array, method=self.method,\n",
      "/Users/tessa/miniforge3/envs/stepmix/lib/python3.12/site-packages/seaborn/matrix.py:530: ClusterWarning: scipy.cluster: The symmetric non-negative hollow observation matrix looks suspiciously like an uncondensed distance matrix\n",
      "  linkage = hierarchy.linkage(self.array, method=self.method,\n"
     ]
    },
    {
     "data": {
      "image/png": "[encoded data removed]",
      "text/plain": [
       "<Figure size 1000x1000 with 4 Axes>"
      ]
     },
     "metadata": {},
     "output_type": "display_data"
    }
   ],
   "source": [
    "plot= sns.clustermap(pt_out[1], cmap=\"Blues_r\")\n"
   ]
  },
  {
   "cell_type": "code",
   "execution_count": null,
   "metadata": {},
   "outputs": [],
   "source": []
  },
  {
   "cell_type": "code",
   "execution_count": null,
   "metadata": {},
   "outputs": [],
   "source": []
  }
 ],
 "metadata": {
  "kernelspec": {
   "display_name": "Python 3",
   "language": "python",
   "name": "python3"
  },
  "language_info": {
   "codemirror_mode": {
    "name": "ipython",
    "version": 3
   },
   "file_extension": ".py",
   "mimetype": "text/x-python",
   "name": "python",
   "nbconvert_exporter": "python",
   "pygments_lexer": "ipython3",
   "version": "3.12.0"
  }
 },
 "nbformat": 4,
 "nbformat_minor": 2
}

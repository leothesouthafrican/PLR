{
 "cells": [
  {
   "cell_type": "code",
   "execution_count": 1,
   "metadata": {},
   "outputs": [],
   "source": [
    "from stepmix.stepmix import StepMix\n",
    "import pandas as pd\n",
    "import numpy as np\n",
    "\n",
    "from sklearn.model_selection import GridSearchCV, ParameterGrid\n",
    "\n",
    "import matplotlib.pyplot as plt\n",
    "import seaborn as sns\n",
    "\n",
    "import pickle as pkl"
   ]
  },
  {
   "cell_type": "code",
   "execution_count": 36,
   "metadata": {},
   "outputs": [
    {
     "data": {
      "text/plain": [
       "(6031, 162)"
      ]
     },
     "execution_count": 36,
     "metadata": {},
     "output_type": "execute_result"
    }
   ],
   "source": [
    "df = pd.read_csv(\"../data/cleaned_data_SYMPTOMS_9_13_23.csv\", index_col=0)\n",
    "sympdf = df.loc[:, df.columns.str.startswith('Symptom_')]\n",
    "sympdf.shape"
   ]
  },
  {
   "cell_type": "code",
   "execution_count": 25,
   "metadata": {},
   "outputs": [],
   "source": [
    "n_components = 13\n",
    "date = \"111023\"\n",
    "\n",
    "clusters = pd.read_csv(\"output/cluster_\"+str(n_components)+\"_\"+date+\".csv\", index_col=0)\n",
    "mm = pd.read_csv(\"output/stepmix_\"+str(n_components)+\"_\"+date+\"_mmdf.csv\", index_col=0)\n",
    "symp_unusual = pd.read_csv(\"output/stepmix_\"+str(n_components)+\"_\"+date+\"_symp_unusual.csv\", index_col=0)\n",
    "\n",
    "file_path = \"output/stepmix_\"+str(n_components)+\"_\"+date+\".pkl\"\n",
    "\n",
    "with open(file_path, 'rb') as file:\n",
    "    model = pkl.load(file)"
   ]
  },
  {
   "cell_type": "code",
   "execution_count": 9,
   "metadata": {},
   "outputs": [],
   "source": [
    "df[\"clusters\"] = clusters"
   ]
  },
  {
   "cell_type": "code",
   "execution_count": null,
   "metadata": {},
   "outputs": [],
   "source": [
    "# naming based on eyeballing mm and symp_unusual\n",
    "# starting with 13 components\n",
    "# 0: \"sleep and temperature disturbance\",\n",
    "# 1: \"muscle, sensory, and cognitive\""
   ]
  },
  {
   "cell_type": "code",
   "execution_count": 14,
   "metadata": {},
   "outputs": [
    {
     "name": "stderr",
     "output_type": "stream",
     "text": [
      "/Users/tessa/miniforge3/envs/stepmix/lib/python3.12/site-packages/sklearn/utils/validation.py:1183: DataConversionWarning: A column-vector y was passed when a 1d array was expected. Please change the shape of y to (n_samples, ), for example using ravel().\n",
      "  y = column_or_1d(y, warn=True)\n"
     ]
    },
    {
     "data": {
      "text/plain": [
       "-0.024888028749080537"
      ]
     },
     "execution_count": 14,
     "metadata": {},
     "output_type": "execute_result"
    }
   ],
   "source": [
    "# calculate silhouette score\n",
    "from sklearn.metrics import silhouette_score\n",
    "silhouette_score(sympdf, clusters)"
   ]
  },
  {
   "cell_type": "code",
   "execution_count": 15,
   "metadata": {},
   "outputs": [],
   "source": [
    "n_components = 11\n",
    "date = \"111023\"\n",
    "\n",
    "clusters = pd.read_csv(\"output/cluster_\"+str(n_components)+\"_\"+date+\".csv\", index_col=0)\n",
    "mm = pd.read_csv(\"output/stepmix_\"+str(n_components)+\"_\"+date+\"_mmdf.csv\", index_col=0)\n",
    "symp_unusual = pd.read_csv(\"output/stepmix_\"+str(n_components)+\"_\"+date+\"_symp_unusual.csv\", index_col=0)\n",
    "\n",
    "file_path = \"output/stepmix_\"+str(n_components)+\"_\"+date+\".pkl\"\n",
    "\n",
    "with open(file_path, 'rb') as file:\n",
    "    model = pkl.load(file)"
   ]
  },
  {
   "cell_type": "code",
   "execution_count": 16,
   "metadata": {},
   "outputs": [
    {
     "name": "stderr",
     "output_type": "stream",
     "text": [
      "/Users/tessa/miniforge3/envs/stepmix/lib/python3.12/site-packages/sklearn/utils/validation.py:1183: DataConversionWarning: A column-vector y was passed when a 1d array was expected. Please change the shape of y to (n_samples, ), for example using ravel().\n",
      "  y = column_or_1d(y, warn=True)\n"
     ]
    },
    {
     "data": {
      "text/plain": [
       "-0.024414097493497336"
      ]
     },
     "execution_count": 16,
     "metadata": {},
     "output_type": "execute_result"
    }
   ],
   "source": [
    "silhouette_score(sympdf, clusters)"
   ]
  },
  {
   "cell_type": "code",
   "execution_count": 17,
   "metadata": {},
   "outputs": [],
   "source": [
    "n_components = 9\n",
    "date = \"111023\"\n",
    "\n",
    "clusters = pd.read_csv(\"output/cluster_\"+str(n_components)+\"_\"+date+\".csv\", index_col=0)\n",
    "mm = pd.read_csv(\"output/stepmix_\"+str(n_components)+\"_\"+date+\"_mmdf.csv\", index_col=0)\n",
    "symp_unusual = pd.read_csv(\"output/stepmix_\"+str(n_components)+\"_\"+date+\"_symp_unusual.csv\", index_col=0)\n",
    "\n",
    "file_path = \"output/stepmix_\"+str(n_components)+\"_\"+date+\".pkl\"\n",
    "\n",
    "with open(file_path, 'rb') as file:\n",
    "    model = pkl.load(file)"
   ]
  },
  {
   "cell_type": "code",
   "execution_count": 18,
   "metadata": {},
   "outputs": [
    {
     "name": "stderr",
     "output_type": "stream",
     "text": [
      "/Users/tessa/miniforge3/envs/stepmix/lib/python3.12/site-packages/sklearn/utils/validation.py:1183: DataConversionWarning: A column-vector y was passed when a 1d array was expected. Please change the shape of y to (n_samples, ), for example using ravel().\n",
      "  y = column_or_1d(y, warn=True)\n"
     ]
    },
    {
     "data": {
      "text/plain": [
       "-0.0274185285692256"
      ]
     },
     "execution_count": 18,
     "metadata": {},
     "output_type": "execute_result"
    }
   ],
   "source": [
    "silhouette_score(sympdf, clusters)"
   ]
  },
  {
   "cell_type": "code",
   "execution_count": null,
   "metadata": {},
   "outputs": [],
   "source": [
    "# silhuoette follows BIC: 11 and 13 are mostly equivalent, 9 is definitely worse\n",
    "# all of them are objectively terrible though! maybe a data import issue?"
   ]
  },
  {
   "cell_type": "code",
   "execution_count": 26,
   "metadata": {},
   "outputs": [],
   "source": [
    "# try loading the actual model and figure out how to extract the probabilities for each patient and class\n",
    "n_components = 13\n",
    "date = \"111023\"\n",
    "\n",
    "clusters = pd.read_csv(\"output/cluster_\"+str(n_components)+\"_\"+date+\".csv\", index_col=0)\n",
    "mm = pd.read_csv(\"output/stepmix_\"+str(n_components)+\"_\"+date+\"_mmdf.csv\", index_col=0)\n",
    "symp_unusual = pd.read_csv(\"output/stepmix_\"+str(n_components)+\"_\"+date+\"_symp_unusual.csv\", index_col=0)\n",
    "\n",
    "file_path = \"output/stepmix_\"+str(n_components)+\"_\"+date+\".pkl\"\n",
    "\n",
    "with open(file_path, 'rb') as file:\n",
    "    model = pkl.load(file)"
   ]
  },
  {
   "cell_type": "code",
   "execution_count": 37,
   "metadata": {},
   "outputs": [],
   "source": [
    "sympdf = sympdf.loc[:, (sympdf.sum() / sympdf.shape[0] > 0.05) & (sympdf.sum()  / sympdf.shape[0]< 0.95)]"
   ]
  },
  {
   "cell_type": "code",
   "execution_count": 48,
   "metadata": {},
   "outputs": [],
   "source": [
    "preddf = pd.DataFrame(model.predict_proba(sympdf), index=sympdf.index)"
   ]
  },
  {
   "cell_type": "code",
   "execution_count": 49,
   "metadata": {},
   "outputs": [
    {
     "data": {
      "text/html": [
       "<div>\n",
       "<style scoped>\n",
       "    .dataframe tbody tr th:only-of-type {\n",
       "        vertical-align: middle;\n",
       "    }\n",
       "\n",
       "    .dataframe tbody tr th {\n",
       "        vertical-align: top;\n",
       "    }\n",
       "\n",
       "    .dataframe thead th {\n",
       "        text-align: right;\n",
       "    }\n",
       "</style>\n",
       "<table border=\"1\" class=\"dataframe\">\n",
       "  <thead>\n",
       "    <tr style=\"text-align: right;\">\n",
       "      <th></th>\n",
       "      <th>0</th>\n",
       "      <th>1</th>\n",
       "      <th>2</th>\n",
       "      <th>3</th>\n",
       "      <th>4</th>\n",
       "      <th>5</th>\n",
       "      <th>6</th>\n",
       "      <th>7</th>\n",
       "      <th>8</th>\n",
       "      <th>9</th>\n",
       "      <th>10</th>\n",
       "      <th>11</th>\n",
       "      <th>12</th>\n",
       "    </tr>\n",
       "  </thead>\n",
       "  <tbody>\n",
       "    <tr>\n",
       "      <th>3</th>\n",
       "      <td>8.076440e-05</td>\n",
       "      <td>4.179418e-59</td>\n",
       "      <td>6.308554e-17</td>\n",
       "      <td>1.320107e-05</td>\n",
       "      <td>1.452946e-07</td>\n",
       "      <td>1.936851e-39</td>\n",
       "      <td>3.234704e-15</td>\n",
       "      <td>1.228058e-30</td>\n",
       "      <td>9.998983e-01</td>\n",
       "      <td>2.469674e-32</td>\n",
       "      <td>6.268836e-08</td>\n",
       "      <td>7.534793e-06</td>\n",
       "      <td>3.693267e-18</td>\n",
       "    </tr>\n",
       "    <tr>\n",
       "      <th>5</th>\n",
       "      <td>9.277305e-23</td>\n",
       "      <td>8.598547e-33</td>\n",
       "      <td>2.548949e-03</td>\n",
       "      <td>1.176742e-60</td>\n",
       "      <td>4.844207e-45</td>\n",
       "      <td>9.195625e-51</td>\n",
       "      <td>4.325127e-04</td>\n",
       "      <td>1.259711e-12</td>\n",
       "      <td>6.706237e-11</td>\n",
       "      <td>9.048543e-52</td>\n",
       "      <td>2.428778e-09</td>\n",
       "      <td>9.970185e-01</td>\n",
       "      <td>1.434622e-27</td>\n",
       "    </tr>\n",
       "    <tr>\n",
       "      <th>6</th>\n",
       "      <td>1.641045e-02</td>\n",
       "      <td>4.057004e-43</td>\n",
       "      <td>1.897681e-08</td>\n",
       "      <td>7.170759e-04</td>\n",
       "      <td>9.460896e-13</td>\n",
       "      <td>5.527933e-34</td>\n",
       "      <td>1.552001e-10</td>\n",
       "      <td>7.352431e-20</td>\n",
       "      <td>2.877608e-01</td>\n",
       "      <td>3.250729e-32</td>\n",
       "      <td>6.943965e-01</td>\n",
       "      <td>7.151432e-04</td>\n",
       "      <td>7.464948e-09</td>\n",
       "    </tr>\n",
       "    <tr>\n",
       "      <th>8</th>\n",
       "      <td>9.178506e-01</td>\n",
       "      <td>4.227935e-23</td>\n",
       "      <td>9.004489e-09</td>\n",
       "      <td>1.075262e-22</td>\n",
       "      <td>1.419871e-29</td>\n",
       "      <td>1.045420e-18</td>\n",
       "      <td>1.680094e-02</td>\n",
       "      <td>8.638422e-09</td>\n",
       "      <td>4.061109e-13</td>\n",
       "      <td>2.254712e-27</td>\n",
       "      <td>2.423119e-04</td>\n",
       "      <td>6.968643e-08</td>\n",
       "      <td>6.510607e-02</td>\n",
       "    </tr>\n",
       "    <tr>\n",
       "      <th>9</th>\n",
       "      <td>1.430403e-05</td>\n",
       "      <td>8.242189e-28</td>\n",
       "      <td>3.386207e-12</td>\n",
       "      <td>1.215124e-05</td>\n",
       "      <td>3.930623e-39</td>\n",
       "      <td>2.210422e-02</td>\n",
       "      <td>2.472439e-07</td>\n",
       "      <td>1.933682e-11</td>\n",
       "      <td>3.256517e-15</td>\n",
       "      <td>7.693659e-15</td>\n",
       "      <td>9.739391e-01</td>\n",
       "      <td>1.536136e-12</td>\n",
       "      <td>3.929936e-03</td>\n",
       "    </tr>\n",
       "    <tr>\n",
       "      <th>...</th>\n",
       "      <td>...</td>\n",
       "      <td>...</td>\n",
       "      <td>...</td>\n",
       "      <td>...</td>\n",
       "      <td>...</td>\n",
       "      <td>...</td>\n",
       "      <td>...</td>\n",
       "      <td>...</td>\n",
       "      <td>...</td>\n",
       "      <td>...</td>\n",
       "      <td>...</td>\n",
       "      <td>...</td>\n",
       "      <td>...</td>\n",
       "    </tr>\n",
       "    <tr>\n",
       "      <th>14158</th>\n",
       "      <td>4.424455e-25</td>\n",
       "      <td>5.236326e-21</td>\n",
       "      <td>9.914155e-01</td>\n",
       "      <td>1.491964e-33</td>\n",
       "      <td>3.873992e-49</td>\n",
       "      <td>6.345988e-03</td>\n",
       "      <td>2.209124e-03</td>\n",
       "      <td>1.251401e-05</td>\n",
       "      <td>8.606113e-32</td>\n",
       "      <td>9.631407e-13</td>\n",
       "      <td>4.386615e-07</td>\n",
       "      <td>1.641728e-05</td>\n",
       "      <td>2.946113e-08</td>\n",
       "    </tr>\n",
       "    <tr>\n",
       "      <th>14161</th>\n",
       "      <td>5.422487e-25</td>\n",
       "      <td>2.506049e-42</td>\n",
       "      <td>7.952538e-06</td>\n",
       "      <td>2.295693e-43</td>\n",
       "      <td>4.134830e-32</td>\n",
       "      <td>1.075243e-06</td>\n",
       "      <td>9.225646e-08</td>\n",
       "      <td>3.794800e-18</td>\n",
       "      <td>1.241957e-08</td>\n",
       "      <td>1.216366e-05</td>\n",
       "      <td>2.335436e-09</td>\n",
       "      <td>9.999787e-01</td>\n",
       "      <td>8.582674e-19</td>\n",
       "    </tr>\n",
       "    <tr>\n",
       "      <th>14163</th>\n",
       "      <td>3.772663e-26</td>\n",
       "      <td>9.800692e-19</td>\n",
       "      <td>1.021424e-04</td>\n",
       "      <td>8.883611e-65</td>\n",
       "      <td>4.611834e-60</td>\n",
       "      <td>3.636259e-38</td>\n",
       "      <td>9.998854e-01</td>\n",
       "      <td>1.223568e-05</td>\n",
       "      <td>6.049457e-23</td>\n",
       "      <td>1.226878e-48</td>\n",
       "      <td>1.281541e-10</td>\n",
       "      <td>2.683560e-07</td>\n",
       "      <td>1.456903e-37</td>\n",
       "    </tr>\n",
       "    <tr>\n",
       "      <th>14166</th>\n",
       "      <td>2.801231e-08</td>\n",
       "      <td>4.964374e-60</td>\n",
       "      <td>2.457363e-15</td>\n",
       "      <td>3.024831e-06</td>\n",
       "      <td>1.820337e-08</td>\n",
       "      <td>1.573206e-54</td>\n",
       "      <td>1.047037e-16</td>\n",
       "      <td>2.243402e-31</td>\n",
       "      <td>9.999950e-01</td>\n",
       "      <td>3.036060e-47</td>\n",
       "      <td>1.654529e-08</td>\n",
       "      <td>1.946438e-06</td>\n",
       "      <td>4.259044e-20</td>\n",
       "    </tr>\n",
       "    <tr>\n",
       "      <th>14168</th>\n",
       "      <td>6.830279e-42</td>\n",
       "      <td>1.456230e-44</td>\n",
       "      <td>2.065440e-07</td>\n",
       "      <td>7.465253e-63</td>\n",
       "      <td>1.340937e-37</td>\n",
       "      <td>1.228242e-25</td>\n",
       "      <td>3.414093e-08</td>\n",
       "      <td>1.524003e-20</td>\n",
       "      <td>1.090099e-12</td>\n",
       "      <td>3.339745e-22</td>\n",
       "      <td>1.309784e-15</td>\n",
       "      <td>9.999998e-01</td>\n",
       "      <td>5.612428e-51</td>\n",
       "    </tr>\n",
       "  </tbody>\n",
       "</table>\n",
       "<p>6031 rows × 13 columns</p>\n",
       "</div>"
      ],
      "text/plain": [
       "                 0             1             2             3             4   \\\n",
       "3      8.076440e-05  4.179418e-59  6.308554e-17  1.320107e-05  1.452946e-07   \n",
       "5      9.277305e-23  8.598547e-33  2.548949e-03  1.176742e-60  4.844207e-45   \n",
       "6      1.641045e-02  4.057004e-43  1.897681e-08  7.170759e-04  9.460896e-13   \n",
       "8      9.178506e-01  4.227935e-23  9.004489e-09  1.075262e-22  1.419871e-29   \n",
       "9      1.430403e-05  8.242189e-28  3.386207e-12  1.215124e-05  3.930623e-39   \n",
       "...             ...           ...           ...           ...           ...   \n",
       "14158  4.424455e-25  5.236326e-21  9.914155e-01  1.491964e-33  3.873992e-49   \n",
       "14161  5.422487e-25  2.506049e-42  7.952538e-06  2.295693e-43  4.134830e-32   \n",
       "14163  3.772663e-26  9.800692e-19  1.021424e-04  8.883611e-65  4.611834e-60   \n",
       "14166  2.801231e-08  4.964374e-60  2.457363e-15  3.024831e-06  1.820337e-08   \n",
       "14168  6.830279e-42  1.456230e-44  2.065440e-07  7.465253e-63  1.340937e-37   \n",
       "\n",
       "                 5             6             7             8             9   \\\n",
       "3      1.936851e-39  3.234704e-15  1.228058e-30  9.998983e-01  2.469674e-32   \n",
       "5      9.195625e-51  4.325127e-04  1.259711e-12  6.706237e-11  9.048543e-52   \n",
       "6      5.527933e-34  1.552001e-10  7.352431e-20  2.877608e-01  3.250729e-32   \n",
       "8      1.045420e-18  1.680094e-02  8.638422e-09  4.061109e-13  2.254712e-27   \n",
       "9      2.210422e-02  2.472439e-07  1.933682e-11  3.256517e-15  7.693659e-15   \n",
       "...             ...           ...           ...           ...           ...   \n",
       "14158  6.345988e-03  2.209124e-03  1.251401e-05  8.606113e-32  9.631407e-13   \n",
       "14161  1.075243e-06  9.225646e-08  3.794800e-18  1.241957e-08  1.216366e-05   \n",
       "14163  3.636259e-38  9.998854e-01  1.223568e-05  6.049457e-23  1.226878e-48   \n",
       "14166  1.573206e-54  1.047037e-16  2.243402e-31  9.999950e-01  3.036060e-47   \n",
       "14168  1.228242e-25  3.414093e-08  1.524003e-20  1.090099e-12  3.339745e-22   \n",
       "\n",
       "                 10            11            12  \n",
       "3      6.268836e-08  7.534793e-06  3.693267e-18  \n",
       "5      2.428778e-09  9.970185e-01  1.434622e-27  \n",
       "6      6.943965e-01  7.151432e-04  7.464948e-09  \n",
       "8      2.423119e-04  6.968643e-08  6.510607e-02  \n",
       "9      9.739391e-01  1.536136e-12  3.929936e-03  \n",
       "...             ...           ...           ...  \n",
       "14158  4.386615e-07  1.641728e-05  2.946113e-08  \n",
       "14161  2.335436e-09  9.999787e-01  8.582674e-19  \n",
       "14163  1.281541e-10  2.683560e-07  1.456903e-37  \n",
       "14166  1.654529e-08  1.946438e-06  4.259044e-20  \n",
       "14168  1.309784e-15  9.999998e-01  5.612428e-51  \n",
       "\n",
       "[6031 rows x 13 columns]"
      ]
     },
     "execution_count": 49,
     "metadata": {},
     "output_type": "execute_result"
    }
   ],
   "source": [
    "preddf\n",
    "\n",
    "# first few seem to be tight-ish peaks anyway"
   ]
  },
  {
   "cell_type": "code",
   "execution_count": null,
   "metadata": {},
   "outputs": [],
   "source": []
  }
 ],
 "metadata": {
  "kernelspec": {
   "display_name": "Python 3",
   "language": "python",
   "name": "python3"
  },
  "language_info": {
   "codemirror_mode": {
    "name": "ipython",
    "version": 3
   },
   "file_extension": ".py",
   "mimetype": "text/x-python",
   "name": "python",
   "nbconvert_exporter": "python",
   "pygments_lexer": "ipython3",
   "version": "3.12.0"
  }
 },
 "nbformat": 4,
 "nbformat_minor": 2
}

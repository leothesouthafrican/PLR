{
 "cells": [
  {
   "cell_type": "code",
   "execution_count": 1,
   "metadata": {},
   "outputs": [],
   "source": [
    "from stepmix.stepmix import StepMix\n",
    "import pandas as pd\n",
    "import numpy as np\n",
    "\n",
    "from sklearn.model_selection import GridSearchCV, ParameterGrid\n",
    "\n",
    "import matplotlib.pyplot as plt\n",
    "import seaborn as sns\n",
    "\n",
    "import pickle as pkl"
   ]
  },
  {
   "cell_type": "code",
   "execution_count": 126,
   "metadata": {},
   "outputs": [],
   "source": [
    "df = pd.read_csv(\"../data/cleaned_data_SYMPTOMS_9_13_23.csv\", index_col=0)\n",
    "sympdf = df.loc[:, df.columns.str.startswith('Symptom_')]\n",
    "sympdf.shape\n",
    "# filter to match\n",
    "sympdf = sympdf.loc[:, (sympdf.sum() / sympdf.shape[0] > 0.05) & (sympdf.sum()  / sympdf.shape[0]< 0.95)]"
   ]
  },
  {
   "cell_type": "code",
   "execution_count": 125,
   "metadata": {},
   "outputs": [],
   "source": [
    "def load_run(n_components, date):\n",
    "    clusters = pd.read_csv(\"output/cluster_\"+str(n_components)+\"_\"+date+\".csv\", index_col=0)\n",
    "    mm = pd.read_csv(\"output/stepmix_\"+str(n_components)+\"_\"+date+\"_mmdf.csv\", index_col=0)\n",
    "    symp_unusual = pd.read_csv(\"output/stepmix_\"+str(n_components)+\"_\"+date+\"_symp_unusual.csv\", index_col=0)\n",
    "\n",
    "    file_path = \"output/stepmix_\"+str(n_components)+\"_\"+date+\".pkl\"\n",
    "\n",
    "    with open(file_path, 'rb') as file:\n",
    "        model = pkl.load(file)\n",
    "    return({\"clusters\": clusters, \"mm\": mm, \"symp_unusual\": symp_unusual, \"model\": model})"
   ]
  },
  {
   "cell_type": "code",
   "execution_count": 25,
   "metadata": {},
   "outputs": [],
   "source": [
    "n_components = 13\n",
    "date = \"111023\"\n",
    "\n",
    "clusters = pd.read_csv(\"output/cluster_\"+str(n_components)+\"_\"+date+\".csv\", index_col=0)\n",
    "mm = pd.read_csv(\"output/stepmix_\"+str(n_components)+\"_\"+date+\"_mmdf.csv\", index_col=0)\n",
    "symp_unusual = pd.read_csv(\"output/stepmix_\"+str(n_components)+\"_\"+date+\"_symp_unusual.csv\", index_col=0)\n",
    "\n",
    "file_path = \"output/stepmix_\"+str(n_components)+\"_\"+date+\".pkl\"\n",
    "\n",
    "with open(file_path, 'rb') as file:\n",
    "    model = pkl.load(file)"
   ]
  },
  {
   "cell_type": "code",
   "execution_count": 9,
   "metadata": {},
   "outputs": [],
   "source": [
    "df[\"clusters\"] = clusters"
   ]
  },
  {
   "cell_type": "code",
   "execution_count": null,
   "metadata": {},
   "outputs": [],
   "source": [
    "# naming based on eyeballing mm and symp_unusual\n",
    "# starting with 13 components\n",
    "# 0: \"sleep and temperature disturbance\",\n",
    "# 1: \"muscle, sensory, and cognitive\""
   ]
  },
  {
   "cell_type": "code",
   "execution_count": 14,
   "metadata": {},
   "outputs": [
    {
     "name": "stderr",
     "output_type": "stream",
     "text": [
      "/Users/tessa/miniforge3/envs/stepmix/lib/python3.12/site-packages/sklearn/utils/validation.py:1183: DataConversionWarning: A column-vector y was passed when a 1d array was expected. Please change the shape of y to (n_samples, ), for example using ravel().\n",
      "  y = column_or_1d(y, warn=True)\n"
     ]
    },
    {
     "data": {
      "text/plain": [
       "-0.024888028749080537"
      ]
     },
     "execution_count": 14,
     "metadata": {},
     "output_type": "execute_result"
    }
   ],
   "source": [
    "# calculate silhouette score\n",
    "from sklearn.metrics import silhouette_score\n",
    "silhouette_score(sympdf, clusters)"
   ]
  },
  {
   "cell_type": "code",
   "execution_count": 15,
   "metadata": {},
   "outputs": [],
   "source": [
    "n_components = 11\n",
    "date = \"111023\"\n",
    "\n",
    "clusters = pd.read_csv(\"output/cluster_\"+str(n_components)+\"_\"+date+\".csv\", index_col=0)\n",
    "mm = pd.read_csv(\"output/stepmix_\"+str(n_components)+\"_\"+date+\"_mmdf.csv\", index_col=0)\n",
    "symp_unusual = pd.read_csv(\"output/stepmix_\"+str(n_components)+\"_\"+date+\"_symp_unusual.csv\", index_col=0)\n",
    "\n",
    "file_path = \"output/stepmix_\"+str(n_components)+\"_\"+date+\".pkl\"\n",
    "\n",
    "with open(file_path, 'rb') as file:\n",
    "    model = pkl.load(file)"
   ]
  },
  {
   "cell_type": "code",
   "execution_count": 16,
   "metadata": {},
   "outputs": [
    {
     "name": "stderr",
     "output_type": "stream",
     "text": [
      "/Users/tessa/miniforge3/envs/stepmix/lib/python3.12/site-packages/sklearn/utils/validation.py:1183: DataConversionWarning: A column-vector y was passed when a 1d array was expected. Please change the shape of y to (n_samples, ), for example using ravel().\n",
      "  y = column_or_1d(y, warn=True)\n"
     ]
    },
    {
     "data": {
      "text/plain": [
       "-0.024414097493497336"
      ]
     },
     "execution_count": 16,
     "metadata": {},
     "output_type": "execute_result"
    }
   ],
   "source": [
    "silhouette_score(sympdf, clusters)"
   ]
  },
  {
   "cell_type": "code",
   "execution_count": 17,
   "metadata": {},
   "outputs": [],
   "source": [
    "n_components = 9\n",
    "date = \"111023\"\n",
    "\n",
    "clusters = pd.read_csv(\"output/cluster_\"+str(n_components)+\"_\"+date+\".csv\", index_col=0)\n",
    "mm = pd.read_csv(\"output/stepmix_\"+str(n_components)+\"_\"+date+\"_mmdf.csv\", index_col=0)\n",
    "symp_unusual = pd.read_csv(\"output/stepmix_\"+str(n_components)+\"_\"+date+\"_symp_unusual.csv\", index_col=0)\n",
    "\n",
    "file_path = \"output/stepmix_\"+str(n_components)+\"_\"+date+\".pkl\"\n",
    "\n",
    "with open(file_path, 'rb') as file:\n",
    "    model = pkl.load(file)"
   ]
  },
  {
   "cell_type": "code",
   "execution_count": 18,
   "metadata": {},
   "outputs": [
    {
     "name": "stderr",
     "output_type": "stream",
     "text": [
      "/Users/tessa/miniforge3/envs/stepmix/lib/python3.12/site-packages/sklearn/utils/validation.py:1183: DataConversionWarning: A column-vector y was passed when a 1d array was expected. Please change the shape of y to (n_samples, ), for example using ravel().\n",
      "  y = column_or_1d(y, warn=True)\n"
     ]
    },
    {
     "data": {
      "text/plain": [
       "-0.0274185285692256"
      ]
     },
     "execution_count": 18,
     "metadata": {},
     "output_type": "execute_result"
    }
   ],
   "source": [
    "silhouette_score(sympdf, clusters)"
   ]
  },
  {
   "cell_type": "code",
   "execution_count": null,
   "metadata": {},
   "outputs": [],
   "source": [
    "# silhuoette follows BIC: 11 and 13 are mostly equivalent, 9 is definitely worse\n",
    "# all of them are objectively terrible though! maybe a data import issue?"
   ]
  },
  {
   "cell_type": "code",
   "execution_count": 105,
   "metadata": {},
   "outputs": [],
   "source": [
    "# try loading the actual model and figure out how to extract the probabilities for each patient and class\n",
    "n_components = 13\n",
    "date = \"111023\"\n",
    "\n",
    "clusters = pd.read_csv(\"output/cluster_\"+str(n_components)+\"_\"+date+\".csv\", index_col=0)\n",
    "mm = pd.read_csv(\"output/stepmix_\"+str(n_components)+\"_\"+date+\"_mmdf.csv\", index_col=0)\n",
    "symp_unusual = pd.read_csv(\"output/stepmix_\"+str(n_components)+\"_\"+date+\"_symp_unusual.csv\", index_col=0)\n",
    "\n",
    "file_path = \"output/stepmix_\"+str(n_components)+\"_\"+date+\".pkl\"\n",
    "\n",
    "with open(file_path, 'rb') as file:\n",
    "    model = pkl.load(file)"
   ]
  },
  {
   "cell_type": "code",
   "execution_count": 106,
   "metadata": {},
   "outputs": [],
   "source": [
    "sympdf = sympdf.loc[:, (sympdf.sum() / sympdf.shape[0] > 0.05) & (sympdf.sum()  / sympdf.shape[0]< 0.95)]"
   ]
  },
  {
   "cell_type": "code",
   "execution_count": 107,
   "metadata": {},
   "outputs": [],
   "source": [
    "preddf = pd.DataFrame(model.predict_proba(sympdf), index=sympdf.index)"
   ]
  },
  {
   "cell_type": "code",
   "execution_count": 108,
   "metadata": {},
   "outputs": [
    {
     "data": {
      "text/plain": [
       "1    5923\n",
       "0     108\n",
       "Name: count, dtype: int64"
      ]
     },
     "execution_count": 108,
     "metadata": {},
     "output_type": "execute_result"
    }
   ],
   "source": [
    "preddf\n",
    "# 5923 patients uniquely assignable to a cluster\n",
    "# 108 poorly fitting patients\n",
    "# should probably be removed from analysis \n",
    "preddf[preddf > 0.5].notna().sum(axis=1).value_counts()"
   ]
  },
  {
   "cell_type": "code",
   "execution_count": 109,
   "metadata": {},
   "outputs": [],
   "source": [
    "poor_fits = preddf[preddf[preddf > 0.5].notna().sum(axis=1) == 0].index.values"
   ]
  },
  {
   "cell_type": "code",
   "execution_count": 110,
   "metadata": {},
   "outputs": [
    {
     "data": {
      "text/plain": [
       "array([   82,   224,   260,   404,   450,   458,   470,   503,   537,\n",
       "         541,   604,   985,   986,  1085,  1098,  1131,  1183,  1249,\n",
       "        1313,  1438,  1453,  1468,  1496,  1622,  1671,  1708,  1722,\n",
       "        1771,  1788,  1838,  1931,  1935,  1947,  1993,  2031,  2075,\n",
       "        2095,  2195,  2304,  2326,  2365,  2398,  2433,  3215,  3217,\n",
       "        3272,  3515,  3737,  3783,  3848,  3951,  4079,  4092,  4464,\n",
       "        4491,  4502,  4525,  4716,  4853,  4979,  5030,  5116,  5167,\n",
       "        5280,  5514,  6732,  6827,  6934,  7707,  7737,  7984,  8038,\n",
       "        8324,  8579,  8633,  8838,  8947,  9002,  9147,  9283,  9895,\n",
       "       10104, 10217, 10629, 10693, 10800, 10801, 10820, 10922, 11003,\n",
       "       11416, 11484, 11609, 11779, 11813, 12207, 12281, 12523, 12552,\n",
       "       12607, 12719, 12829, 13276, 13457, 13488, 13658, 13812, 13944])"
      ]
     },
     "execution_count": 110,
     "metadata": {},
     "output_type": "execute_result"
    }
   ],
   "source": [
    "poor_fits"
   ]
  },
  {
   "cell_type": "code",
   "execution_count": 118,
   "metadata": {},
   "outputs": [],
   "source": [
    "clusters.loc[clusters.index.isin(poor_fits),'cluster']= np.nan"
   ]
  },
  {
   "cell_type": "code",
   "execution_count": 83,
   "metadata": {},
   "outputs": [],
   "source": [
    "# remove the poor fits from df\n",
    "#df = df[~df.index.isin(poor_fits)]"
   ]
  },
  {
   "cell_type": "code",
   "execution_count": 119,
   "metadata": {},
   "outputs": [],
   "source": [
    "df[\"cluster\"] = clusters"
   ]
  },
  {
   "cell_type": "code",
   "execution_count": 120,
   "metadata": {},
   "outputs": [
    {
     "data": {
      "text/plain": [
       "<Axes: xlabel='cluster'>"
      ]
     },
     "execution_count": 120,
     "metadata": {},
     "output_type": "execute_result"
    },
    {
     "data": {
      "image/png": "[encoded data removed]",
      "text/plain": [
       "<Figure size 640x480 with 1 Axes>"
      ]
     },
     "metadata": {},
     "output_type": "display_data"
    }
   ],
   "source": [
    "df[\"cluster\"].value_counts().plot(kind=\"bar\")\n",
    "# 1 is now really small\n",
    "# in a way that maybe suggests too many clusters..."
   ]
  },
  {
   "cell_type": "code",
   "execution_count": 122,
   "metadata": {},
   "outputs": [],
   "source": [
    "df['cluster'].to_csv(\"output/cluster_13_ambiguousNaN_111023.csv\")\n"
   ]
  },
  {
   "cell_type": "code",
   "execution_count": null,
   "metadata": {},
   "outputs": [],
   "source": []
  }
 ],
 "metadata": {
  "kernelspec": {
   "display_name": "Python 3",
   "language": "python",
   "name": "python3"
  },
  "language_info": {
   "codemirror_mode": {
    "name": "ipython",
    "version": 3
   },
   "file_extension": ".py",
   "mimetype": "text/x-python",
   "name": "python",
   "nbconvert_exporter": "python",
   "pygments_lexer": "ipython3",
   "version": "3.12.0"
  }
 },
 "nbformat": 4,
 "nbformat_minor": 2
}

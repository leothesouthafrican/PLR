{
 "cells": [
  {
   "cell_type": "code",
   "execution_count": 50,
   "metadata": {},
   "outputs": [],
   "source": [
    "from stepmix.stepmix import StepMix\n",
    "import pandas as pd\n",
    "import numpy as np\n",
    "\n",
    "\n",
    "import matplotlib.pyplot as plt\n",
    "import seaborn as sns\n",
    "\n",
    "import pickle as pkl"
   ]
  },
  {
   "cell_type": "code",
   "execution_count": 51,
   "metadata": {},
   "outputs": [],
   "source": [
    "df = pd.read_csv(\"../data/cleaned_data_SYMPTOMS_9_13_23.csv\", index_col=0)\n",
    "sympdf = df.loc[:, df.columns.str.startswith('Symptom_')]"
   ]
  },
  {
   "cell_type": "code",
   "execution_count": 52,
   "metadata": {},
   "outputs": [],
   "source": [
    "def load_run(n_components, date):\n",
    "    clusters = pd.read_csv(\"output/cluster_\"+str(n_components)+\"_\"+date+\".csv\", index_col=0)\n",
    "    clusters_ambig =  pd.read_csv(\"output/cluster_\"+str(n_components)+\"_ambiguousNaN_\"+date+\".csv\", index_col=0)\n",
    "    mm = pd.read_csv(\"output/stepmix_\"+str(n_components)+\"_\"+date+\"_mmdf.csv\", index_col=0)\n",
    "    symp_unusual = pd.read_csv(\"output/stepmix_\"+str(n_components)+\"_\"+date+\"_symp_unusual.csv\", index_col=0)\n",
    "    preddf = pd.read_csv(\"output/stepmix_\"+str(n_components)+\"_\"+date+\"_preddf.csv\", index_col=0)\n",
    "    file_path = \"output/stepmix_\"+str(n_components)+\"_\"+date+\".pkl\"\n",
    "\n",
    "    with open(file_path, 'rb') as file:\n",
    "        model = pkl.load(file)\n",
    "    return({\"clusters\": clusters, \"mm\": mm, \"symp_unusual\": symp_unusual, \"model\": model, 'clusters_ambig': clusters_ambig, 'preddf':preddf})"
   ]
  },
  {
   "cell_type": "code",
   "execution_count": 53,
   "metadata": {},
   "outputs": [],
   "source": [
    "n_components = 13\n",
    "date = \"111023\"\n",
    "\n",
    "res = load_run(n_components, date)"
   ]
  },
  {
   "cell_type": "code",
   "execution_count": 60,
   "metadata": {},
   "outputs": [],
   "source": [
    "me = pd.read_csv(\"output/tessa-answers.csv\", index_col=0)"
   ]
  },
  {
   "cell_type": "code",
   "execution_count": 55,
   "metadata": {},
   "outputs": [],
   "source": [
    "sympdf = sympdf.loc[:, (sympdf.sum() / sympdf.shape[0] > 0.05) & (sympdf.sum()  / sympdf.shape[0]< 0.95)]\n"
   ]
  },
  {
   "cell_type": "code",
   "execution_count": 61,
   "metadata": {},
   "outputs": [],
   "source": [
    "# remove rows of me not in sympdf.columns.values\n",
    "me = me.loc[ me.index.isin(sympdf.columns.values),:]"
   ]
  },
  {
   "cell_type": "code",
   "execution_count": 62,
   "metadata": {},
   "outputs": [
    {
     "data": {
      "text/html": [
       "<div>\n",
       "<style scoped>\n",
       "    .dataframe tbody tr th:only-of-type {\n",
       "        vertical-align: middle;\n",
       "    }\n",
       "\n",
       "    .dataframe tbody tr th {\n",
       "        vertical-align: top;\n",
       "    }\n",
       "\n",
       "    .dataframe thead th {\n",
       "        text-align: right;\n",
       "    }\n",
       "</style>\n",
       "<table border=\"1\" class=\"dataframe\">\n",
       "  <thead>\n",
       "    <tr style=\"text-align: right;\">\n",
       "      <th></th>\n",
       "      <th>score</th>\n",
       "    </tr>\n",
       "    <tr>\n",
       "      <th>symp</th>\n",
       "      <th></th>\n",
       "    </tr>\n",
       "  </thead>\n",
       "  <tbody>\n",
       "    <tr>\n",
       "      <th>Symptom_Memory_short</th>\n",
       "      <td>1</td>\n",
       "    </tr>\n",
       "    <tr>\n",
       "      <th>Symptom_Memory_long</th>\n",
       "      <td>1</td>\n",
       "    </tr>\n",
       "    <tr>\n",
       "      <th>Symptom_Memory_no_new_memories</th>\n",
       "      <td>0</td>\n",
       "    </tr>\n",
       "    <tr>\n",
       "      <th>Symptom_Memory_forget_tasks</th>\n",
       "      <td>1</td>\n",
       "    </tr>\n",
       "    <tr>\n",
       "      <th>Symptom_Memory_other</th>\n",
       "      <td>0</td>\n",
       "    </tr>\n",
       "    <tr>\n",
       "      <th>...</th>\n",
       "      <td>...</td>\n",
       "    </tr>\n",
       "    <tr>\n",
       "      <th>Symptom_SkinAllergy_brittle_nail</th>\n",
       "      <td>1</td>\n",
       "    </tr>\n",
       "    <tr>\n",
       "      <th>Symptom_SkinAllergy_other_itchy</th>\n",
       "      <td>1</td>\n",
       "    </tr>\n",
       "    <tr>\n",
       "      <th>Symptom_PEM</th>\n",
       "      <td>1</td>\n",
       "    </tr>\n",
       "    <tr>\n",
       "      <th>Symptom_Change_sensitivity_to_meds</th>\n",
       "      <td>0</td>\n",
       "    </tr>\n",
       "    <tr>\n",
       "      <th>Symptom_New_allergies</th>\n",
       "      <td>1</td>\n",
       "    </tr>\n",
       "  </tbody>\n",
       "</table>\n",
       "<p>147 rows × 1 columns</p>\n",
       "</div>"
      ],
      "text/plain": [
       "                                    score\n",
       "symp                                     \n",
       "Symptom_Memory_short                    1\n",
       "Symptom_Memory_long                     1\n",
       "Symptom_Memory_no_new_memories          0\n",
       "Symptom_Memory_forget_tasks             1\n",
       "Symptom_Memory_other                    0\n",
       "...                                   ...\n",
       "Symptom_SkinAllergy_brittle_nail        1\n",
       "Symptom_SkinAllergy_other_itchy         1\n",
       "Symptom_PEM                             1\n",
       "Symptom_Change_sensitivity_to_meds      0\n",
       "Symptom_New_allergies                   1\n",
       "\n",
       "[147 rows x 1 columns]"
      ]
     },
     "execution_count": 62,
     "metadata": {},
     "output_type": "execute_result"
    }
   ],
   "source": [
    "me"
   ]
  },
  {
   "cell_type": "code",
   "execution_count": 36,
   "metadata": {},
   "outputs": [
    {
     "data": {
      "text/plain": [
       "'Symptom_Memory_short'"
      ]
     },
     "execution_count": 36,
     "metadata": {},
     "output_type": "execute_result"
    }
   ],
   "source": [
    "sympdf.columns[0]"
   ]
  },
  {
   "cell_type": "code",
   "execution_count": 64,
   "metadata": {},
   "outputs": [
    {
     "data": {
      "text/plain": [
       "array([[2.19482090e-28, 6.14846238e-06, 1.66894601e-06, 8.25402154e-49,\n",
       "        2.30078989e-71, 1.07149095e-33, 1.18973269e-05, 5.83110864e-01,\n",
       "        1.14973244e-46, 1.05255125e-56, 2.35110732e-07, 6.60660263e-19,\n",
       "        4.16869186e-01]])"
      ]
     },
     "execution_count": 64,
     "metadata": {},
     "output_type": "execute_result"
    }
   ],
   "source": [
    "res['model'].predict_proba(me.T)"
   ]
  },
  {
   "cell_type": "code",
   "execution_count": 32,
   "metadata": {},
   "outputs": [
    {
     "data": {
      "text/html": [
       "<div>\n",
       "<style scoped>\n",
       "    .dataframe tbody tr th:only-of-type {\n",
       "        vertical-align: middle;\n",
       "    }\n",
       "\n",
       "    .dataframe tbody tr th {\n",
       "        vertical-align: top;\n",
       "    }\n",
       "\n",
       "    .dataframe thead th {\n",
       "        text-align: right;\n",
       "    }\n",
       "</style>\n",
       "<table border=\"1\" class=\"dataframe\">\n",
       "  <thead>\n",
       "    <tr style=\"text-align: right;\">\n",
       "      <th></th>\n",
       "      <th>1</th>\n",
       "    </tr>\n",
       "    <tr>\n",
       "      <th>Symptom_Memory_short</th>\n",
       "      <th></th>\n",
       "    </tr>\n",
       "  </thead>\n",
       "  <tbody>\n",
       "    <tr>\n",
       "      <th>Symptom_Memory_long</th>\n",
       "      <td>1</td>\n",
       "    </tr>\n",
       "    <tr>\n",
       "      <th>Symptom_Memory_no_new_memories</th>\n",
       "      <td>0</td>\n",
       "    </tr>\n",
       "    <tr>\n",
       "      <th>Symptom_Memory_forget_tasks</th>\n",
       "      <td>1</td>\n",
       "    </tr>\n",
       "    <tr>\n",
       "      <th>Symptom_Memory_other</th>\n",
       "      <td>0</td>\n",
       "    </tr>\n",
       "    <tr>\n",
       "      <th>Symptom_Cognitive_Functioning_thinking</th>\n",
       "      <td>0</td>\n",
       "    </tr>\n",
       "    <tr>\n",
       "      <th>...</th>\n",
       "      <td>...</td>\n",
       "    </tr>\n",
       "    <tr>\n",
       "      <th>Symptom_SkinAllergy_brittle_nail</th>\n",
       "      <td>1</td>\n",
       "    </tr>\n",
       "    <tr>\n",
       "      <th>Symptom_SkinAllergy_other_itchy</th>\n",
       "      <td>1</td>\n",
       "    </tr>\n",
       "    <tr>\n",
       "      <th>Symptom_PEM</th>\n",
       "      <td>1</td>\n",
       "    </tr>\n",
       "    <tr>\n",
       "      <th>Symptom_Change_sensitivity_to_meds</th>\n",
       "      <td>0</td>\n",
       "    </tr>\n",
       "    <tr>\n",
       "      <th>Symptom_New_allergies</th>\n",
       "      <td>1</td>\n",
       "    </tr>\n",
       "  </tbody>\n",
       "</table>\n",
       "<p>146 rows × 1 columns</p>\n",
       "</div>"
      ],
      "text/plain": [
       "                                        1\n",
       "Symptom_Memory_short                     \n",
       "Symptom_Memory_long                     1\n",
       "Symptom_Memory_no_new_memories          0\n",
       "Symptom_Memory_forget_tasks             1\n",
       "Symptom_Memory_other                    0\n",
       "Symptom_Cognitive_Functioning_thinking  0\n",
       "...                                    ..\n",
       "Symptom_SkinAllergy_brittle_nail        1\n",
       "Symptom_SkinAllergy_other_itchy         1\n",
       "Symptom_PEM                             1\n",
       "Symptom_Change_sensitivity_to_meds      0\n",
       "Symptom_New_allergies                   1\n",
       "\n",
       "[146 rows x 1 columns]"
      ]
     },
     "execution_count": 32,
     "metadata": {},
     "output_type": "execute_result"
    }
   ],
   "source": [
    "me"
   ]
  },
  {
   "cell_type": "code",
   "execution_count": null,
   "metadata": {},
   "outputs": [],
   "source": []
  }
 ],
 "metadata": {
  "kernelspec": {
   "display_name": "Python 3",
   "language": "python",
   "name": "python3"
  },
  "language_info": {
   "codemirror_mode": {
    "name": "ipython",
    "version": 3
   },
   "file_extension": ".py",
   "mimetype": "text/x-python",
   "name": "python",
   "nbconvert_exporter": "python",
   "pygments_lexer": "ipython3",
   "version": "3.12.0"
  }
 },
 "nbformat": 4,
 "nbformat_minor": 2
}

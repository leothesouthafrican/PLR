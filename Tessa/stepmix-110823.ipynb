{
 "cells": [
  {
   "cell_type": "code",
   "execution_count": 74,
   "metadata": {},
   "outputs": [],
   "source": [
    "from stepmix.stepmix import StepMix\n",
    "import pandas as pd\n",
    "import numpy as np\n",
    "\n",
    "from sklearn.datasets import load_iris\n",
    "from sklearn.metrics import rand_score\n",
    "\n",
    "import matplotlib.pyplot as plt"
   ]
  },
  {
   "cell_type": "code",
   "execution_count": 3,
   "metadata": {},
   "outputs": [],
   "source": [
    "df = pd.read_csv(\"../data/cleaned_data_SYMPTOMS_9_13_23.csv\", index_col=0)\n",
    "sympdf = df.loc[:, df.columns.str.startswith('Symptom_')]"
   ]
  },
  {
   "cell_type": "code",
   "execution_count": 25,
   "metadata": {},
   "outputs": [],
   "source": [
    "# patient is a mixture of classes but it's meant to represent probs rather than actual multiple class labels\n",
    "# so this model is less complex, but it might still be more appropriate, it'll depend\n",
    "\n",
    "model = StepMix(n_components=8, measurement=\"binary\", verbose=0, random_state=123)\n"
   ]
  },
  {
   "cell_type": "code",
   "execution_count": 26,
   "metadata": {},
   "outputs": [
    {
     "name": "stdout",
     "output_type": "stream",
     "text": [
      "Fitting StepMix...\n"
     ]
    },
    {
     "name": "stderr",
     "output_type": "stream",
     "text": [
      "Initializations (n_init) : 100%|██████████| 1/1 [00:52<00:00, 52.96s/it, max_LL=-4.22e+5, max_avg_LL=-70]\n",
      "/Users/tessa/miniforge3/envs/stepmix/lib/python3.12/site-packages/stepmix/stepmix.py:968: ConvergenceWarning: Initializations did not converge. Try different init parameters, or increase max_iter, abs_tol, rel_tol or check for degenerate data.\n",
      "  warnings.warn(\n"
     ]
    },
    {
     "data": {
      "text/html": [
       "<style>#sk-container-id-5 {color: black;}#sk-container-id-5 pre{padding: 0;}#sk-container-id-5 div.sk-toggleable {background-color: white;}#sk-container-id-5 label.sk-toggleable__label {cursor: pointer;display: block;width: 100%;margin-bottom: 0;padding: 0.3em;box-sizing: border-box;text-align: center;}#sk-container-id-5 label.sk-toggleable__label-arrow:before {content: \"▸\";float: left;margin-right: 0.25em;color: #696969;}#sk-container-id-5 label.sk-toggleable__label-arrow:hover:before {color: black;}#sk-container-id-5 div.sk-estimator:hover label.sk-toggleable__label-arrow:before {color: black;}#sk-container-id-5 div.sk-toggleable__content {max-height: 0;max-width: 0;overflow: hidden;text-align: left;background-color: #f0f8ff;}#sk-container-id-5 div.sk-toggleable__content pre {margin: 0.2em;color: black;border-radius: 0.25em;background-color: #f0f8ff;}#sk-container-id-5 input.sk-toggleable__control:checked~div.sk-toggleable__content {max-height: 200px;max-width: 100%;overflow: auto;}#sk-container-id-5 input.sk-toggleable__control:checked~label.sk-toggleable__label-arrow:before {content: \"▾\";}#sk-container-id-5 div.sk-estimator input.sk-toggleable__control:checked~label.sk-toggleable__label {background-color: #d4ebff;}#sk-container-id-5 div.sk-label input.sk-toggleable__control:checked~label.sk-toggleable__label {background-color: #d4ebff;}#sk-container-id-5 input.sk-hidden--visually {border: 0;clip: rect(1px 1px 1px 1px);clip: rect(1px, 1px, 1px, 1px);height: 1px;margin: -1px;overflow: hidden;padding: 0;position: absolute;width: 1px;}#sk-container-id-5 div.sk-estimator {font-family: monospace;background-color: #f0f8ff;border: 1px dotted black;border-radius: 0.25em;box-sizing: border-box;margin-bottom: 0.5em;}#sk-container-id-5 div.sk-estimator:hover {background-color: #d4ebff;}#sk-container-id-5 div.sk-parallel-item::after {content: \"\";width: 100%;border-bottom: 1px solid gray;flex-grow: 1;}#sk-container-id-5 div.sk-label:hover label.sk-toggleable__label {background-color: #d4ebff;}#sk-container-id-5 div.sk-serial::before {content: \"\";position: absolute;border-left: 1px solid gray;box-sizing: border-box;top: 0;bottom: 0;left: 50%;z-index: 0;}#sk-container-id-5 div.sk-serial {display: flex;flex-direction: column;align-items: center;background-color: white;padding-right: 0.2em;padding-left: 0.2em;position: relative;}#sk-container-id-5 div.sk-item {position: relative;z-index: 1;}#sk-container-id-5 div.sk-parallel {display: flex;align-items: stretch;justify-content: center;background-color: white;position: relative;}#sk-container-id-5 div.sk-item::before, #sk-container-id-5 div.sk-parallel-item::before {content: \"\";position: absolute;border-left: 1px solid gray;box-sizing: border-box;top: 0;bottom: 0;left: 50%;z-index: -1;}#sk-container-id-5 div.sk-parallel-item {display: flex;flex-direction: column;z-index: 1;position: relative;background-color: white;}#sk-container-id-5 div.sk-parallel-item:first-child::after {align-self: flex-end;width: 50%;}#sk-container-id-5 div.sk-parallel-item:last-child::after {align-self: flex-start;width: 50%;}#sk-container-id-5 div.sk-parallel-item:only-child::after {width: 0;}#sk-container-id-5 div.sk-dashed-wrapped {border: 1px dashed gray;margin: 0 0.4em 0.5em 0.4em;box-sizing: border-box;padding-bottom: 0.4em;background-color: white;}#sk-container-id-5 div.sk-label label {font-family: monospace;font-weight: bold;display: inline-block;line-height: 1.2em;}#sk-container-id-5 div.sk-label-container {text-align: center;}#sk-container-id-5 div.sk-container {/* jupyter's `normalize.less` sets `[hidden] { display: none; }` but bootstrap.min.css set `[hidden] { display: none !important; }` so we also need the `!important` here to be able to override the default hidden behavior on the sphinx rendered scikit-learn.org. See: https://github.com/scikit-learn/scikit-learn/issues/21755 */display: inline-block !important;position: relative;}#sk-container-id-5 div.sk-text-repr-fallback {display: none;}</style><div id=\"sk-container-id-5\" class=\"sk-top-container\"><div class=\"sk-text-repr-fallback\"><pre>StepMix(measurement=&#x27;binary&#x27;, n_components=8, random_state=123)</pre><b>In a Jupyter environment, please rerun this cell to show the HTML representation or trust the notebook. <br />On GitHub, the HTML representation is unable to render, please try loading this page with nbviewer.org.</b></div><div class=\"sk-container\" hidden><div class=\"sk-item\"><div class=\"sk-estimator sk-toggleable\"><input class=\"sk-toggleable__control sk-hidden--visually\" id=\"sk-estimator-id-9\" type=\"checkbox\" checked><label for=\"sk-estimator-id-9\" class=\"sk-toggleable__label sk-toggleable__label-arrow\">StepMix</label><div class=\"sk-toggleable__content\"><pre>StepMix(measurement=&#x27;binary&#x27;, n_components=8, random_state=123)</pre></div></div></div></div></div>"
      ],
      "text/plain": [
       "StepMix(measurement='binary', n_components=8, random_state=123)"
      ]
     },
     "execution_count": 26,
     "metadata": {},
     "output_type": "execute_result"
    }
   ],
   "source": [
    "model.fit(sympdf)\n"
   ]
  },
  {
   "cell_type": "code",
   "execution_count": 17,
   "metadata": {},
   "outputs": [
    {
     "name": "stdout",
     "output_type": "stream",
     "text": [
      "Fitting StepMix...\n"
     ]
    },
    {
     "name": "stderr",
     "output_type": "stream",
     "text": [
      "Initializations (n_init) : 100%|██████████| 1/1 [00:04<00:00,  4.65s/it, max_LL=-2.83e+5, max_avg_LL=-70.5]\n"
     ]
    },
    {
     "name": "stdout",
     "output_type": "stream",
     "text": [
      "Fitting StepMix...\n"
     ]
    },
    {
     "name": "stderr",
     "output_type": "stream",
     "text": [
      "Initializations (n_init) : 100%|██████████| 1/1 [00:03<00:00,  3.03s/it, max_LL=-2.83e+5, max_avg_LL=-70.4]\n"
     ]
    },
    {
     "name": "stdout",
     "output_type": "stream",
     "text": [
      "Fitting StepMix...\n"
     ]
    },
    {
     "name": "stderr",
     "output_type": "stream",
     "text": [
      "Initializations (n_init) : 100%|██████████| 1/1 [00:16<00:00, 16.86s/it, max_LL=-2.86e+5, max_avg_LL=-71.1]\n"
     ]
    },
    {
     "name": "stdout",
     "output_type": "stream",
     "text": [
      "Fitting StepMix...\n"
     ]
    },
    {
     "name": "stderr",
     "output_type": "stream",
     "text": [
      "Initializations (n_init) : 100%|██████████| 1/1 [00:09<00:00,  9.82s/it, max_LL=-2.82e+5, max_avg_LL=-70.2]\n"
     ]
    },
    {
     "name": "stdout",
     "output_type": "stream",
     "text": [
      "Fitting StepMix...\n"
     ]
    },
    {
     "name": "stderr",
     "output_type": "stream",
     "text": [
      "Initializations (n_init) : 100%|██████████| 1/1 [00:05<00:00,  5.68s/it, max_LL=-2.82e+5, max_avg_LL=-70.1]\n"
     ]
    },
    {
     "name": "stdout",
     "output_type": "stream",
     "text": [
      "Fitting StepMix...\n"
     ]
    },
    {
     "name": "stderr",
     "output_type": "stream",
     "text": [
      "Initializations (n_init) : 100%|██████████| 1/1 [00:05<00:00,  5.78s/it, max_LL=-2.84e+5, max_avg_LL=-70.7]\n"
     ]
    },
    {
     "name": "stdout",
     "output_type": "stream",
     "text": [
      "Fitting StepMix...\n"
     ]
    },
    {
     "name": "stderr",
     "output_type": "stream",
     "text": [
      "Initializations (n_init) : 100%|██████████| 1/1 [00:06<00:00,  6.78s/it, max_LL=-2.81e+5, max_avg_LL=-69.9]\n"
     ]
    },
    {
     "name": "stdout",
     "output_type": "stream",
     "text": [
      "Fitting StepMix...\n"
     ]
    },
    {
     "name": "stderr",
     "output_type": "stream",
     "text": [
      "Initializations (n_init) : 100%|██████████| 1/1 [00:29<00:00, 29.52s/it, max_LL=-2.81e+5, max_avg_LL=-69.8]\n"
     ]
    },
    {
     "name": "stdout",
     "output_type": "stream",
     "text": [
      "Fitting StepMix...\n"
     ]
    },
    {
     "name": "stderr",
     "output_type": "stream",
     "text": [
      "Initializations (n_init) : 100%|██████████| 1/1 [00:03<00:00,  3.79s/it, max_LL=-2.84e+5, max_avg_LL=-70.5]\n"
     ]
    },
    {
     "name": "stdout",
     "output_type": "stream",
     "text": [
      "Fitting StepMix...\n"
     ]
    },
    {
     "name": "stderr",
     "output_type": "stream",
     "text": [
      "Initializations (n_init) : 100%|██████████| 1/1 [00:17<00:00, 17.84s/it, max_LL=-2.8e+5, max_avg_LL=-69.8]\n"
     ]
    },
    {
     "name": "stdout",
     "output_type": "stream",
     "text": [
      "Fitting StepMix...\n"
     ]
    },
    {
     "name": "stderr",
     "output_type": "stream",
     "text": [
      "Initializations (n_init) : 100%|██████████| 1/1 [00:27<00:00, 27.25s/it, max_LL=-2.8e+5, max_avg_LL=-69.6]\n"
     ]
    },
    {
     "name": "stdout",
     "output_type": "stream",
     "text": [
      "Fitting StepMix...\n"
     ]
    },
    {
     "name": "stderr",
     "output_type": "stream",
     "text": [
      "Initializations (n_init) : 100%|██████████| 1/1 [00:11<00:00, 11.68s/it, max_LL=-2.83e+5, max_avg_LL=-70.4]\n"
     ]
    },
    {
     "name": "stdout",
     "output_type": "stream",
     "text": [
      "Fitting StepMix...\n"
     ]
    },
    {
     "name": "stderr",
     "output_type": "stream",
     "text": [
      "Initializations (n_init) : 100%|██████████| 1/1 [00:13<00:00, 13.67s/it, max_LL=-2.79e+5, max_avg_LL=-69.5]\n"
     ]
    },
    {
     "name": "stdout",
     "output_type": "stream",
     "text": [
      "Fitting StepMix...\n"
     ]
    },
    {
     "name": "stderr",
     "output_type": "stream",
     "text": [
      "Initializations (n_init) : 100%|██████████| 1/1 [00:10<00:00, 10.66s/it, max_LL=-2.79e+5, max_avg_LL=-69.4]\n"
     ]
    },
    {
     "name": "stdout",
     "output_type": "stream",
     "text": [
      "Fitting StepMix...\n"
     ]
    },
    {
     "name": "stderr",
     "output_type": "stream",
     "text": [
      "Initializations (n_init) : 100%|██████████| 1/1 [00:19<00:00, 19.72s/it, max_LL=-2.82e+5, max_avg_LL=-70.2]\n"
     ]
    },
    {
     "name": "stdout",
     "output_type": "stream",
     "text": [
      "Fitting StepMix...\n"
     ]
    },
    {
     "name": "stderr",
     "output_type": "stream",
     "text": [
      "Initializations (n_init) : 100%|██████████| 1/1 [00:38<00:00, 38.70s/it, max_LL=-2.79e+5, max_avg_LL=-69.3]\n"
     ]
    },
    {
     "name": "stdout",
     "output_type": "stream",
     "text": [
      "Fitting StepMix...\n"
     ]
    },
    {
     "name": "stderr",
     "output_type": "stream",
     "text": [
      "Initializations (n_init) : 100%|██████████| 1/1 [00:13<00:00, 13.37s/it, max_LL=-2.79e+5, max_avg_LL=-69.3]\n"
     ]
    },
    {
     "name": "stdout",
     "output_type": "stream",
     "text": [
      "Fitting StepMix...\n"
     ]
    },
    {
     "name": "stderr",
     "output_type": "stream",
     "text": [
      "Initializations (n_init) : 100%|██████████| 1/1 [00:23<00:00, 23.21s/it, max_LL=-2.82e+5, max_avg_LL=-70.1]\n"
     ]
    },
    {
     "name": "stdout",
     "output_type": "stream",
     "text": [
      "Fitting StepMix...\n"
     ]
    },
    {
     "name": "stderr",
     "output_type": "stream",
     "text": [
      "Initializations (n_init) : 100%|██████████| 1/1 [00:35<00:00, 35.19s/it, max_LL=-4.2e+5, max_avg_LL=-69.7]\n"
     ]
    },
    {
     "data": {
      "text/html": [
       "<style>#sk-container-id-4 {color: black;}#sk-container-id-4 pre{padding: 0;}#sk-container-id-4 div.sk-toggleable {background-color: white;}#sk-container-id-4 label.sk-toggleable__label {cursor: pointer;display: block;width: 100%;margin-bottom: 0;padding: 0.3em;box-sizing: border-box;text-align: center;}#sk-container-id-4 label.sk-toggleable__label-arrow:before {content: \"▸\";float: left;margin-right: 0.25em;color: #696969;}#sk-container-id-4 label.sk-toggleable__label-arrow:hover:before {color: black;}#sk-container-id-4 div.sk-estimator:hover label.sk-toggleable__label-arrow:before {color: black;}#sk-container-id-4 div.sk-toggleable__content {max-height: 0;max-width: 0;overflow: hidden;text-align: left;background-color: #f0f8ff;}#sk-container-id-4 div.sk-toggleable__content pre {margin: 0.2em;color: black;border-radius: 0.25em;background-color: #f0f8ff;}#sk-container-id-4 input.sk-toggleable__control:checked~div.sk-toggleable__content {max-height: 200px;max-width: 100%;overflow: auto;}#sk-container-id-4 input.sk-toggleable__control:checked~label.sk-toggleable__label-arrow:before {content: \"▾\";}#sk-container-id-4 div.sk-estimator input.sk-toggleable__control:checked~label.sk-toggleable__label {background-color: #d4ebff;}#sk-container-id-4 div.sk-label input.sk-toggleable__control:checked~label.sk-toggleable__label {background-color: #d4ebff;}#sk-container-id-4 input.sk-hidden--visually {border: 0;clip: rect(1px 1px 1px 1px);clip: rect(1px, 1px, 1px, 1px);height: 1px;margin: -1px;overflow: hidden;padding: 0;position: absolute;width: 1px;}#sk-container-id-4 div.sk-estimator {font-family: monospace;background-color: #f0f8ff;border: 1px dotted black;border-radius: 0.25em;box-sizing: border-box;margin-bottom: 0.5em;}#sk-container-id-4 div.sk-estimator:hover {background-color: #d4ebff;}#sk-container-id-4 div.sk-parallel-item::after {content: \"\";width: 100%;border-bottom: 1px solid gray;flex-grow: 1;}#sk-container-id-4 div.sk-label:hover label.sk-toggleable__label {background-color: #d4ebff;}#sk-container-id-4 div.sk-serial::before {content: \"\";position: absolute;border-left: 1px solid gray;box-sizing: border-box;top: 0;bottom: 0;left: 50%;z-index: 0;}#sk-container-id-4 div.sk-serial {display: flex;flex-direction: column;align-items: center;background-color: white;padding-right: 0.2em;padding-left: 0.2em;position: relative;}#sk-container-id-4 div.sk-item {position: relative;z-index: 1;}#sk-container-id-4 div.sk-parallel {display: flex;align-items: stretch;justify-content: center;background-color: white;position: relative;}#sk-container-id-4 div.sk-item::before, #sk-container-id-4 div.sk-parallel-item::before {content: \"\";position: absolute;border-left: 1px solid gray;box-sizing: border-box;top: 0;bottom: 0;left: 50%;z-index: -1;}#sk-container-id-4 div.sk-parallel-item {display: flex;flex-direction: column;z-index: 1;position: relative;background-color: white;}#sk-container-id-4 div.sk-parallel-item:first-child::after {align-self: flex-end;width: 50%;}#sk-container-id-4 div.sk-parallel-item:last-child::after {align-self: flex-start;width: 50%;}#sk-container-id-4 div.sk-parallel-item:only-child::after {width: 0;}#sk-container-id-4 div.sk-dashed-wrapped {border: 1px dashed gray;margin: 0 0.4em 0.5em 0.4em;box-sizing: border-box;padding-bottom: 0.4em;background-color: white;}#sk-container-id-4 div.sk-label label {font-family: monospace;font-weight: bold;display: inline-block;line-height: 1.2em;}#sk-container-id-4 div.sk-label-container {text-align: center;}#sk-container-id-4 div.sk-container {/* jupyter's `normalize.less` sets `[hidden] { display: none; }` but bootstrap.min.css set `[hidden] { display: none !important; }` so we also need the `!important` here to be able to override the default hidden behavior on the sphinx rendered scikit-learn.org. See: https://github.com/scikit-learn/scikit-learn/issues/21755 */display: inline-block !important;position: relative;}#sk-container-id-4 div.sk-text-repr-fallback {display: none;}</style><div id=\"sk-container-id-4\" class=\"sk-top-container\"><div class=\"sk-text-repr-fallback\"><pre>GridSearchCV(cv=3,\n",
       "             estimator=StepMix(measurement=&#x27;binary&#x27;, n_components=6,\n",
       "                               random_state=123),\n",
       "             param_grid={&#x27;n_components&#x27;: [5, 6, 7, 8, 9, 10]})</pre><b>In a Jupyter environment, please rerun this cell to show the HTML representation or trust the notebook. <br />On GitHub, the HTML representation is unable to render, please try loading this page with nbviewer.org.</b></div><div class=\"sk-container\" hidden><div class=\"sk-item sk-dashed-wrapped\"><div class=\"sk-label-container\"><div class=\"sk-label sk-toggleable\"><input class=\"sk-toggleable__control sk-hidden--visually\" id=\"sk-estimator-id-6\" type=\"checkbox\" ><label for=\"sk-estimator-id-6\" class=\"sk-toggleable__label sk-toggleable__label-arrow\">GridSearchCV</label><div class=\"sk-toggleable__content\"><pre>GridSearchCV(cv=3,\n",
       "             estimator=StepMix(measurement=&#x27;binary&#x27;, n_components=6,\n",
       "                               random_state=123),\n",
       "             param_grid={&#x27;n_components&#x27;: [5, 6, 7, 8, 9, 10]})</pre></div></div></div><div class=\"sk-parallel\"><div class=\"sk-parallel-item\"><div class=\"sk-item\"><div class=\"sk-label-container\"><div class=\"sk-label sk-toggleable\"><input class=\"sk-toggleable__control sk-hidden--visually\" id=\"sk-estimator-id-7\" type=\"checkbox\" ><label for=\"sk-estimator-id-7\" class=\"sk-toggleable__label sk-toggleable__label-arrow\">estimator: StepMix</label><div class=\"sk-toggleable__content\"><pre>StepMix(measurement=&#x27;binary&#x27;, n_components=6, random_state=123)</pre></div></div></div><div class=\"sk-serial\"><div class=\"sk-item\"><div class=\"sk-estimator sk-toggleable\"><input class=\"sk-toggleable__control sk-hidden--visually\" id=\"sk-estimator-id-8\" type=\"checkbox\" ><label for=\"sk-estimator-id-8\" class=\"sk-toggleable__label sk-toggleable__label-arrow\">StepMix</label><div class=\"sk-toggleable__content\"><pre>StepMix(measurement=&#x27;binary&#x27;, n_components=6, random_state=123)</pre></div></div></div></div></div></div></div></div></div></div>"
      ],
      "text/plain": [
       "GridSearchCV(cv=3,\n",
       "             estimator=StepMix(measurement='binary', n_components=6,\n",
       "                               random_state=123),\n",
       "             param_grid={'n_components': [5, 6, 7, 8, 9, 10]})"
      ]
     },
     "execution_count": 17,
     "metadata": {},
     "output_type": "execute_result"
    }
   ],
   "source": [
    "grid = {\n",
    "    'n_components': [ 5, 6, 7, 8, 9, 10],\n",
    "}\n",
    "\n",
    "# no gaussians or whatever, so n_steps can just be 1 \n",
    "\n",
    "gs = GridSearchCV(estimator=model, cv=3, param_grid=grid, verbose=0)\n",
    "gs.fit(sympdf)"
   ]
  },
  {
   "cell_type": "code",
   "execution_count": 18,
   "metadata": {},
   "outputs": [],
   "source": [
    "results = pd.DataFrame(gs.cv_results_)\n",
    "results[\"Val. Log Likelihood\"] = results['mean_test_score']"
   ]
  },
  {
   "cell_type": "code",
   "execution_count": 19,
   "metadata": {},
   "outputs": [
    {
     "data": {
      "text/html": [
       "<div>\n",
       "<style scoped>\n",
       "    .dataframe tbody tr th:only-of-type {\n",
       "        vertical-align: middle;\n",
       "    }\n",
       "\n",
       "    .dataframe tbody tr th {\n",
       "        vertical-align: top;\n",
       "    }\n",
       "\n",
       "    .dataframe thead th {\n",
       "        text-align: right;\n",
       "    }\n",
       "</style>\n",
       "<table border=\"1\" class=\"dataframe\">\n",
       "  <thead>\n",
       "    <tr style=\"text-align: right;\">\n",
       "      <th></th>\n",
       "      <th>mean_fit_time</th>\n",
       "      <th>std_fit_time</th>\n",
       "      <th>mean_score_time</th>\n",
       "      <th>std_score_time</th>\n",
       "      <th>param_n_components</th>\n",
       "      <th>params</th>\n",
       "      <th>split0_test_score</th>\n",
       "      <th>split1_test_score</th>\n",
       "      <th>split2_test_score</th>\n",
       "      <th>mean_test_score</th>\n",
       "      <th>std_test_score</th>\n",
       "      <th>rank_test_score</th>\n",
       "      <th>Val. Log Likelihood</th>\n",
       "    </tr>\n",
       "  </thead>\n",
       "  <tbody>\n",
       "    <tr>\n",
       "      <th>0</th>\n",
       "      <td>8.196204</td>\n",
       "      <td>6.165510</td>\n",
       "      <td>0.031369</td>\n",
       "      <td>0.003565</td>\n",
       "      <td>5</td>\n",
       "      <td>{'n_components': 5}</td>\n",
       "      <td>-71.524218</td>\n",
       "      <td>-71.598049</td>\n",
       "      <td>-70.466558</td>\n",
       "      <td>-71.196275</td>\n",
       "      <td>0.516867</td>\n",
       "      <td>6</td>\n",
       "      <td>-71.196275</td>\n",
       "    </tr>\n",
       "    <tr>\n",
       "      <th>1</th>\n",
       "      <td>7.120718</td>\n",
       "      <td>1.922051</td>\n",
       "      <td>0.030830</td>\n",
       "      <td>0.010667</td>\n",
       "      <td>6</td>\n",
       "      <td>{'n_components': 6}</td>\n",
       "      <td>-71.359334</td>\n",
       "      <td>-71.309572</td>\n",
       "      <td>-70.177150</td>\n",
       "      <td>-70.948686</td>\n",
       "      <td>0.545936</td>\n",
       "      <td>5</td>\n",
       "      <td>-70.948686</td>\n",
       "    </tr>\n",
       "    <tr>\n",
       "      <th>2</th>\n",
       "      <td>13.386324</td>\n",
       "      <td>11.478150</td>\n",
       "      <td>0.043562</td>\n",
       "      <td>0.016494</td>\n",
       "      <td>7</td>\n",
       "      <td>{'n_components': 7}</td>\n",
       "      <td>-71.084432</td>\n",
       "      <td>-71.209280</td>\n",
       "      <td>-70.009006</td>\n",
       "      <td>-70.767573</td>\n",
       "      <td>0.538804</td>\n",
       "      <td>4</td>\n",
       "      <td>-70.767573</td>\n",
       "    </tr>\n",
       "    <tr>\n",
       "      <th>3</th>\n",
       "      <td>18.939157</td>\n",
       "      <td>6.413149</td>\n",
       "      <td>0.050005</td>\n",
       "      <td>0.010650</td>\n",
       "      <td>8</td>\n",
       "      <td>{'n_components': 8}</td>\n",
       "      <td>-70.993149</td>\n",
       "      <td>-71.066305</td>\n",
       "      <td>-69.833128</td>\n",
       "      <td>-70.630861</td>\n",
       "      <td>0.564872</td>\n",
       "      <td>3</td>\n",
       "      <td>-70.630861</td>\n",
       "    </tr>\n",
       "    <tr>\n",
       "      <th>4</th>\n",
       "      <td>14.698013</td>\n",
       "      <td>3.762890</td>\n",
       "      <td>0.045930</td>\n",
       "      <td>0.019884</td>\n",
       "      <td>9</td>\n",
       "      <td>{'n_components': 9}</td>\n",
       "      <td>-70.878908</td>\n",
       "      <td>-70.906330</td>\n",
       "      <td>-69.634635</td>\n",
       "      <td>-70.473291</td>\n",
       "      <td>0.593125</td>\n",
       "      <td>2</td>\n",
       "      <td>-70.473291</td>\n",
       "    </tr>\n",
       "    <tr>\n",
       "      <th>5</th>\n",
       "      <td>25.105377</td>\n",
       "      <td>10.429277</td>\n",
       "      <td>0.070942</td>\n",
       "      <td>0.055116</td>\n",
       "      <td>10</td>\n",
       "      <td>{'n_components': 10}</td>\n",
       "      <td>-70.720157</td>\n",
       "      <td>-70.865207</td>\n",
       "      <td>-69.621301</td>\n",
       "      <td>-70.402222</td>\n",
       "      <td>0.555360</td>\n",
       "      <td>1</td>\n",
       "      <td>-70.402222</td>\n",
       "    </tr>\n",
       "  </tbody>\n",
       "</table>\n",
       "</div>"
      ],
      "text/plain": [
       "   mean_fit_time  std_fit_time  mean_score_time  std_score_time  \\\n",
       "0       8.196204      6.165510         0.031369        0.003565   \n",
       "1       7.120718      1.922051         0.030830        0.010667   \n",
       "2      13.386324     11.478150         0.043562        0.016494   \n",
       "3      18.939157      6.413149         0.050005        0.010650   \n",
       "4      14.698013      3.762890         0.045930        0.019884   \n",
       "5      25.105377     10.429277         0.070942        0.055116   \n",
       "\n",
       "  param_n_components                params  split0_test_score  \\\n",
       "0                  5   {'n_components': 5}         -71.524218   \n",
       "1                  6   {'n_components': 6}         -71.359334   \n",
       "2                  7   {'n_components': 7}         -71.084432   \n",
       "3                  8   {'n_components': 8}         -70.993149   \n",
       "4                  9   {'n_components': 9}         -70.878908   \n",
       "5                 10  {'n_components': 10}         -70.720157   \n",
       "\n",
       "   split1_test_score  split2_test_score  mean_test_score  std_test_score  \\\n",
       "0         -71.598049         -70.466558       -71.196275        0.516867   \n",
       "1         -71.309572         -70.177150       -70.948686        0.545936   \n",
       "2         -71.209280         -70.009006       -70.767573        0.538804   \n",
       "3         -71.066305         -69.833128       -70.630861        0.564872   \n",
       "4         -70.906330         -69.634635       -70.473291        0.593125   \n",
       "5         -70.865207         -69.621301       -70.402222        0.555360   \n",
       "\n",
       "   rank_test_score  Val. Log Likelihood  \n",
       "0                6           -71.196275  \n",
       "1                5           -70.948686  \n",
       "2                4           -70.767573  \n",
       "3                3           -70.630861  \n",
       "4                2           -70.473291  \n",
       "5                1           -70.402222  "
      ]
     },
     "execution_count": 19,
     "metadata": {},
     "output_type": "execute_result"
    }
   ],
   "source": [
    "results"
   ]
  },
  {
   "cell_type": "code",
   "execution_count": 21,
   "metadata": {},
   "outputs": [
    {
     "name": "stderr",
     "output_type": "stream",
     "text": [
      "/var/folders/_j/9fb8r7hn7zx13rt7glsw4j3h0000gn/T/ipykernel_98740/1270231869.py:2: UserWarning: Ignoring `palette` because no `hue` variable has been assigned.\n",
      "  sns.lineplot(data=results, x='param_n_components', y='Val. Log Likelihood',\n"
     ]
    },
    {
     "data": {
      "text/plain": [
       "<Axes: xlabel='param_n_components', ylabel='Val. Log Likelihood'>"
      ]
     },
     "execution_count": 21,
     "metadata": {},
     "output_type": "execute_result"
    },
    {
     "data": {
      "image/png": "[encoded data removed]",
      "text/plain": [
       "<Figure size 640x480 with 1 Axes>"
      ]
     },
     "metadata": {},
     "output_type": "display_data"
    }
   ],
   "source": [
    "sns.set_style(\"darkgrid\")\n",
    "sns.lineplot(data=results, x='param_n_components', y='Val. Log Likelihood',\n",
    "              palette='Dark2')"
   ]
  },
  {
   "cell_type": "code",
   "execution_count": 64,
   "metadata": {},
   "outputs": [
    {
     "name": "stderr",
     "output_type": "stream",
     "text": [
      "/Users/tessa/miniforge3/envs/stepmix/lib/python3.12/site-packages/stepmix/stepmix.py:1173: FutureWarning: The provided callable <function mean at 0x111c2e8e0> is currently using DataFrameGroupBy.mean. In a future version of pandas, the provided callable will be used directly. To keep current behavior pass the string \"mean\" instead.\n",
      "  return pd.pivot_table(\n"
     ]
    }
   ],
   "source": [
    "mm = model.get_mm_df()\n"
   ]
  },
  {
   "cell_type": "code",
   "execution_count": 65,
   "metadata": {},
   "outputs": [],
   "source": [
    "mm = mm.reset_index()\n"
   ]
  },
  {
   "cell_type": "code",
   "execution_count": 66,
   "metadata": {},
   "outputs": [],
   "source": [
    "mm  = mm.drop(\"model_name\",axis=1)\n",
    "mm  = mm.drop(\"param\",axis=1)\n"
   ]
  },
  {
   "cell_type": "code",
   "execution_count": 67,
   "metadata": {},
   "outputs": [],
   "source": [
    "mm.index=mm['variable']"
   ]
  },
  {
   "cell_type": "code",
   "execution_count": 82,
   "metadata": {},
   "outputs": [
    {
     "name": "stdout",
     "output_type": "stream",
     "text": [
      "Index(['Symptom_Fatigue', 'Symptom_PEM', 'Symptom_Memory_short',\n",
      "       'Symptom_Shortness_of_breath',\n",
      "       'Symptom_Cognitive_Functioning_attentionconcentration',\n",
      "       'Symptom_Muscle_aches', 'Symptom_Insomnia',\n",
      "       'Symptom_Tightness_of_chest', 'Symptom_Dizziness_vertigo',\n",
      "       'Symptom_Elevated_temp'],\n",
      "      dtype='object', name='variable')\n",
      "Index(['Symptom_Fatigue', 'Symptom_PEM', 'Symptom_Memory_short',\n",
      "       'Symptom_Dizziness_vertigo', 'Symptom_Muscle_aches', 'Symptom_Insomnia',\n",
      "       'Symptom_Cognitive_Functioning_attentionconcentration',\n",
      "       'Symptom_Shortness_of_breath', 'Symptom_Tightness_of_chest',\n",
      "       'Symptom_Heart_palpitations'],\n",
      "      dtype='object', name='variable')\n",
      "Index(['Symptom_Fatigue', 'Symptom_PEM', 'Symptom_Memory_short',\n",
      "       'Symptom_Insomnia', 'Symptom_Heart_palpitations',\n",
      "       'Symptom_Dizziness_vertigo', 'Symptom_Tightness_of_chest',\n",
      "       'Symptom_Sensations_tingling_prickling', 'Symptom_Shortness_of_breath',\n",
      "       'Symptom_Tachycardia'],\n",
      "      dtype='object', name='variable')\n",
      "Index(['Symptom_Memory_short', 'Symptom_Fatigue', 'Symptom_PEM',\n",
      "       'Symptom_Dry_cough', 'Symptom_Shortness_of_breath',\n",
      "       'Symptom_Loss_of_smell', 'Symptom_Tightness_of_chest',\n",
      "       'Symptom_Cognitive_Functioning_attentionconcentration',\n",
      "       'Symptom_Loss_of_taste', 'Symptom_Muscle_aches'],\n",
      "      dtype='object', name='variable')\n",
      "Index(['Symptom_Fatigue', 'Symptom_Speech_difficulty_finding_words',\n",
      "       'Symptom_PEM', 'Symptom_Cognitive_Functioning_attentionconcentration',\n",
      "       'Symptom_Memory_short', 'Symptom_Cognitive_Functioning_thinking',\n",
      "       'Symptom_Cognitive_Functioning_executive',\n",
      "       'Symptom_Cognitive_Functioning_problemsolving',\n",
      "       'Symptom_Dizziness_vertigo', 'Symptom_Shortness_of_breath'],\n",
      "      dtype='object', name='variable')\n",
      "Index(['Symptom_Fatigue', 'Symptom_Memory_short', 'Symptom_PEM',\n",
      "       'Symptom_Shortness_of_breath', 'Symptom_Insomnia',\n",
      "       'Symptom_Tightness_of_chest', 'Symptom_Heart_palpitations',\n",
      "       'Symptom_Dry_cough', 'Symptom_Muscle_aches',\n",
      "       'Symptom_Cognitive_Functioning_attentionconcentration'],\n",
      "      dtype='object', name='variable')\n",
      "Index(['Symptom_Fatigue', 'Symptom_PEM',\n",
      "       'Symptom_Cognitive_Functioning_attentionconcentration',\n",
      "       'Symptom_Cognitive_Functioning_thinking',\n",
      "       'Symptom_Speech_difficulty_finding_words', 'Symptom_Memory_short',\n",
      "       'Symptom_Dizziness_vertigo', 'Symptom_Muscle_aches',\n",
      "       'Symptom_Cognitive_Functioning_executive', 'Symptom_Insomnia'],\n",
      "      dtype='object', name='variable')\n"
     ]
    }
   ],
   "source": [
    "print(mm.sort_values(0,ascending=False).head(10).index)\n",
    "print(mm.sort_values(2,ascending=False).head(10).index)\n",
    "print(mm.sort_values(3,ascending=False).head(10).index)\n",
    "print(mm.sort_values(4,ascending=False).head(10).index)\n",
    "print(mm.sort_values(5,ascending=False).head(10).index)\n",
    "print(mm.sort_values(6,ascending=False).head(10).index)\n",
    "print(mm.sort_values(7,ascending=False).head(10).index)\n"
   ]
  },
  {
   "cell_type": "code",
   "execution_count": 76,
   "metadata": {},
   "outputs": [
    {
     "data": {
      "text/plain": [
       "(array([67., 43., 21., 10.,  6.,  6.,  1.,  3.,  4.,  1.]),\n",
       " array([0.00184612, 0.10152899, 0.20121186, 0.30089473, 0.4005776 ,\n",
       "        0.50026046, 0.59994333, 0.6996262 , 0.79930907, 0.89899194,\n",
       "        0.99867481]),\n",
       " <BarContainer object of 10 artists>)"
      ]
     },
     "execution_count": 76,
     "metadata": {},
     "output_type": "execute_result"
    },
    {
     "data": {
      "image/png": "[encoded data removed]",
      "text/plain": [
       "<Figure size 640x480 with 1 Axes>"
      ]
     },
     "metadata": {},
     "output_type": "display_data"
    }
   ],
   "source": [
    "# seems to be less well behaved with respect to high-frequency symptoms\n",
    "# try filtering exceptionally rare or common symptoms and re-running"
   ]
  },
  {
   "cell_type": "code",
   "execution_count": null,
   "metadata": {},
   "outputs": [],
   "source": []
  }
 ],
 "metadata": {
  "kernelspec": {
   "display_name": "Python 3",
   "language": "python",
   "name": "python3"
  },
  "language_info": {
   "codemirror_mode": {
    "name": "ipython",
    "version": 3
   },
   "file_extension": ".py",
   "mimetype": "text/x-python",
   "name": "python",
   "nbconvert_exporter": "python",
   "pygments_lexer": "ipython3",
   "version": "3.12.0"
  }
 },
 "nbformat": 4,
 "nbformat_minor": 2
}

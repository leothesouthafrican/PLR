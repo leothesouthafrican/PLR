{
 "cells": [
  {
   "cell_type": "markdown",
   "metadata": {},
   "source": [
    "### Ensemble comparison.\n",
    "\n",
    "In this notebook we implement the 'joint-criteria' ensemble selection method with HAC.\n",
    "\n",
    "#### Note: refactor functions so that they can be run with a subset of the data (e.g. 80% of patient for sensitivity analysis). Also test with and without parametric-UMAP.\n",
    "\n",
    "\n",
    "###### Note: currently liking solution with no filtering and these params (and NMI_SCORE='mi' makes no difference):\n",
    "```SEARCH_TYPE = 'randomized_search'  # we want random parameterisations for diversity.\n",
    "SAMPLE_SIZE = 200  # number of sample to take from each pipeline to build library \n",
    "RUN_IDS_TO_INCLUDE = [1, 2, 5, 6]  # we will reproduce using only kmeans (and including p-umap)\n",
    "NMI_SCORE = 'norm'  # arg to pass to clustering_similarity method to use partial NMI (ignoring -1 labels from hdbscan) \n",
    "SEED = 42```\n",
    "Gives 5 sensibly sized clusters at t=0.047 (with library t=15.5)."
   ]
  },
  {
   "cell_type": "code",
   "execution_count": 1,
   "metadata": {},
   "outputs": [],
   "source": [
    "import matplotlib.pyplot as plt\n",
    "import pickle as pk\n",
    "import pandas as pd\n",
    "import numpy as np\n",
    "import wandb\n",
    "from itertools import combinations\n",
    "import networkx as nx\n",
    "from sklearn.metrics.cluster import adjusted_rand_score, adjusted_mutual_info_score\n",
    "from sklearn.metrics.cluster import normalized_mutual_info_score\n",
    "from sklearn.cluster import AgglomerativeClustering\n",
    "from scipy.cluster import hierarchy\n",
    "\n",
    "from utilities import run_configs, load_symptom_data, modularity, clustering_similarity\n",
    "\n",
    "%matplotlib inline"
   ]
  },
  {
   "cell_type": "code",
   "execution_count": 2,
   "metadata": {},
   "outputs": [],
   "source": [
    "SEARCH_TYPE = 'randomized_search'  # we want random parameterisations for diversity.\n",
    "SAMPLE_SIZE = 200  # number of sample to take from each pipeline to build library \n",
    "RUN_IDS_TO_INCLUDE = [1, 2, 5, 6]  # we will reproduce using only kmeans (and including p-umap)\n",
    "NMI_SCORE = 'mi'  # arg to pass to clustering_similarity method to use partial NMI (ignoring -1 labels from hdbscan) \n",
    "SEED = 42"
   ]
  },
  {
   "cell_type": "code",
   "execution_count": 3,
   "metadata": {},
   "outputs": [],
   "source": [
    "np.random.seed(SEED)"
   ]
  },
  {
   "cell_type": "code",
   "execution_count": 4,
   "metadata": {},
   "outputs": [],
   "source": [
    "run_metadata = {\n",
    "    'randomized_search': {\n",
    "        1: {\n",
    "            'run_path': 'rusty-chris/tune_shallow_clustering/runs/ndz8b3cz',\n",
    "            'results_path': 'results/umap_kmeans_silhouette_run_10/all_results.pickle'\n",
    "        },\n",
    "        2: {\n",
    "            'run_path': 'rusty-chris/tune_shallow_clustering/runs/gcnqmv1k',\n",
    "            'results_path': 'results/umap_kmeans_dbcv_run_11/all_results.pickle'\n",
    "        },\n",
    "        3: {\n",
    "            'run_path': 'rusty-chris/tune_shallow_clustering/runs/t0tzp4gz',\n",
    "            'results_path': 'results/umap_hdbscan_silhouette_run_10/all_results.pickle'\n",
    "        },\n",
    "        4: {\n",
    "            'run_path': 'rusty-chris/tune_shallow_clustering/runs/zgsa9yi4',\n",
    "            'results_path': 'results/umap_hdbscan_dbcv_run_11/all_results.pickle'\n",
    "        },\n",
    "        5: {\n",
    "            'run_path': 'rusty-chris/tune_shallow_clustering/runs/x42hq5ez',\n",
    "            'results_path': 'results/pca_kmeans_silhouette_run_10/all_results.pickle'\n",
    "        },\n",
    "        6: {\n",
    "            'run_path': 'rusty-chris/tune_shallow_clustering/runs/qgy8ifuf',\n",
    "            'results_path': 'results/pca_kmeans_dbcv_run_10/all_results.pickle'\n",
    "        },\n",
    "        7: {\n",
    "            'run_path': 'rusty-chris/tune_shallow_clustering/runs/en968oqc',\n",
    "            'results_path': 'results/pca_hdbscan_silhouette_run_10/all_results.pickle'\n",
    "        },\n",
    "        8: {\n",
    "            'run_path': 'rusty-chris/tune_shallow_clustering/runs/ocncbqca',\n",
    "            'results_path': 'results/pca_hdbscan_dbcv_run_10/all_results.pickle'\n",
    "        },\n",
    "        13: {\n",
    "            'run_path': 'rusty-chris/tune_shallow_clustering/runs/lo5r07or',\n",
    "            'results_path': 'results/parametric_umap_kmeans_silhouette_run_10/all_results.pickle'\n",
    "        },\n",
    "        15: {\n",
    "            'run_path': 'rusty-chris/tune_shallow_clustering/tv9hnbnn',\n",
    "            'results_path': 'results/parametric_umap_hdbscan_silhouette_run_10/all_results.pickle'\n",
    "        }\n",
    "    }\n",
    "}"
   ]
  },
  {
   "cell_type": "markdown",
   "metadata": {},
   "source": [
    "#### First we assemble our library of clusterings by selecting from the prior optimisation runs."
   ]
  },
  {
   "cell_type": "code",
   "execution_count": 5,
   "metadata": {},
   "outputs": [],
   "source": [
    "for key in run_metadata[SEARCH_TYPE].keys():\n",
    "    run_configs[key].update(run_metadata[SEARCH_TYPE][key])"
   ]
  },
  {
   "cell_type": "code",
   "execution_count": 6,
   "metadata": {},
   "outputs": [],
   "source": [
    "def load_results(run_id):\n",
    "    run_config = run_configs[run_id]\n",
    "    with open(run_config['results_path'], 'rb') as outfile:\n",
    "        results = pk.load(outfile)\n",
    "        \n",
    "    results = pd.DataFrame.from_dict(results, orient='index')\n",
    "    results['original_index'] = results.index\n",
    "    results['run_id'] = run_id\n",
    "    return results"
   ]
  },
  {
   "cell_type": "code",
   "execution_count": 7,
   "metadata": {},
   "outputs": [],
   "source": [
    "def filter_results(_results, min_size=2, noise_threshold=0.66):\n",
    "    _results = _results[_results.cluster_count > min_size]\n",
    "#     _results = _results[_results.fraction_clustered > noise_threshold]\n",
    "    \n",
    "    return _results"
   ]
  },
  {
   "cell_type": "code",
   "execution_count": 8,
   "metadata": {},
   "outputs": [],
   "source": [
    "def sample_results(_results):\n",
    "    if len(_results) < SAMPLE_SIZE:\n",
    "        return _results\n",
    "    else:\n",
    "        return _results.sample(SAMPLE_SIZE)"
   ]
  },
  {
   "cell_type": "code",
   "execution_count": 9,
   "metadata": {},
   "outputs": [],
   "source": [
    "all_results = {\n",
    "#     run_id: sample_results(filter_results(load_results(run_id)))\n",
    "    run_id: sample_results(load_results(run_id))\n",
    "    for run_id in run_metadata[SEARCH_TYPE].keys()\n",
    "}"
   ]
  },
  {
   "cell_type": "code",
   "execution_count": 10,
   "metadata": {},
   "outputs": [],
   "source": [
    "library = all_results[RUN_IDS_TO_INCLUDE[0]]\n",
    "for run_id in RUN_IDS_TO_INCLUDE[1:]:\n",
    "    library = pd.concat(\n",
    "        [library, all_results[run_id]], ignore_index=True\n",
    "    )"
   ]
  },
  {
   "cell_type": "markdown",
   "metadata": {},
   "source": [
    "#### We then produce a final partition from the full library, which will be used to compute diversity and quality metrics..."
   ]
  },
  {
   "cell_type": "code",
   "execution_count": 11,
   "metadata": {},
   "outputs": [],
   "source": [
    "symptom_data = load_symptom_data(run_configs[1]['data_path'])"
   ]
  },
  {
   "cell_type": "code",
   "execution_count": 12,
   "metadata": {},
   "outputs": [],
   "source": [
    "df = pd.DataFrame(library.labels)\n",
    "df = pd.DataFrame(df['labels'].to_list()).transpose()"
   ]
  },
  {
   "cell_type": "code",
   "execution_count": 13,
   "metadata": {},
   "outputs": [
    {
     "name": "stdout",
     "output_type": "stream",
     "text": [
      "0\n",
      "500\n",
      "1000\n",
      "1500\n",
      "2000\n",
      "2500\n",
      "3000\n",
      "3500\n",
      "4000\n",
      "4500\n",
      "5000\n",
      "5500\n",
      "6000\n"
     ]
    }
   ],
   "source": [
    "co_association_matrix = np.zeros([6031, 6031])\n",
    "n_estimators = len(library)\n",
    "\n",
    "for ri, row in df.iterrows():\n",
    "    \n",
    "    if ri % 500 == 0:\n",
    "        print(ri)\n",
    "        \n",
    "    compare = df.loc[ri + 1:]\n",
    "    shared_counts = ((row == compare) * (row != -1) * (compare != -1)).sum(axis=1)\n",
    "    co_association_matrix[ri,ri+1:] = shared_counts / n_estimators"
   ]
  },
  {
   "cell_type": "code",
   "execution_count": 14,
   "metadata": {},
   "outputs": [],
   "source": [
    "distance_matrix = 1 - co_association_matrix"
   ]
  },
  {
   "cell_type": "code",
   "execution_count": 15,
   "metadata": {},
   "outputs": [],
   "source": [
    "linkage_matrix = hierarchy.linkage(distance_matrix, method='average')"
   ]
  },
  {
   "cell_type": "code",
   "execution_count": 16,
   "metadata": {},
   "outputs": [
    {
     "data": {
      "text/plain": [
       "<matplotlib.lines.Line2D at 0x7f2f15b2e730>"
      ]
     },
     "execution_count": 16,
     "metadata": {},
     "output_type": "execute_result"
    },
    {
     "data": {
      "image/png": "[encoded data removed]",
      "text/plain": [
       "<Figure size 640x480 with 1 Axes>"
      ]
     },
     "metadata": {},
     "output_type": "display_data"
    }
   ],
   "source": [
    "plt.figure()\n",
    "ax = plt.gca()\n",
    "dendro_row = hierarchy.dendrogram(linkage_matrix, orientation='left', ax=ax)\n",
    "ax.axvline(11.5)"
   ]
  },
  {
   "cell_type": "code",
   "execution_count": 17,
   "metadata": {},
   "outputs": [],
   "source": [
    "clusters = hierarchy.fcluster(linkage_matrix, t=15.5, criterion='distance')"
   ]
  },
  {
   "cell_type": "code",
   "execution_count": 18,
   "metadata": {},
   "outputs": [
    {
     "data": {
      "text/plain": [
       "(array([1, 2, 3], dtype=int32), array([ 519, 4647,  865]))"
      ]
     },
     "execution_count": 18,
     "metadata": {},
     "output_type": "execute_result"
    }
   ],
   "source": [
    "np.unique(clusters, return_counts=True)"
   ]
  },
  {
   "cell_type": "markdown",
   "metadata": {},
   "source": [
    "#### We now define the Quality and Diversity metrics that will be used for ensemble selection:"
   ]
  },
  {
   "cell_type": "code",
   "execution_count": 19,
   "metadata": {},
   "outputs": [],
   "source": [
    "def quality(ensemble, library_clustering, score=clustering_similarity):\n",
    "    \"\"\"\n",
    "    Mean of normalized mutual information.\n",
    "    \n",
    "    Note: Fern and Lin define 'sum' not 'mean' but this must be wrong?\n",
    "    \"\"\"\n",
    "    return np.mean([\n",
    "        score(library_clustering, c, score=NMI_SCORE)\n",
    "        for c in ensemble\n",
    "    ])"
   ]
  },
  {
   "cell_type": "code",
   "execution_count": 20,
   "metadata": {},
   "outputs": [
    {
     "data": {
      "text/plain": [
       "0.22672469194943115"
      ]
     },
     "execution_count": 20,
     "metadata": {},
     "output_type": "execute_result"
    }
   ],
   "source": [
    "quality(library.iloc[0:100].labels, clusters)"
   ]
  },
  {
   "cell_type": "code",
   "execution_count": 21,
   "metadata": {},
   "outputs": [],
   "source": [
    "def diversity(ensemble, score=clustering_similarity ):\n",
    "    pairs = list(combinations(ensemble, 2))\n",
    "    \n",
    "    return 1 - np.mean([\n",
    "        score(pair[0], pair[1], score=NMI_SCORE)\n",
    "        for pair in pairs\n",
    "    ])"
   ]
  },
  {
   "cell_type": "code",
   "execution_count": 22,
   "metadata": {},
   "outputs": [
    {
     "data": {
      "text/plain": [
       "0.41697787548258114"
      ]
     },
     "execution_count": 22,
     "metadata": {},
     "output_type": "execute_result"
    }
   ],
   "source": [
    "diversity(library.iloc[0:20].labels)"
   ]
  },
  {
   "cell_type": "markdown",
   "metadata": {},
   "source": [
    "#### And the multi-objective criterion that combines them:"
   ]
  },
  {
   "cell_type": "code",
   "execution_count": 23,
   "metadata": {},
   "outputs": [],
   "source": [
    "def criterion(ensemble, library_clustering, alpha=0.5):\n",
    "    return (\n",
    "        alpha * quality(ensemble, library_clustering)\n",
    "        + (1 - alpha) * diversity(ensemble)\n",
    "    )"
   ]
  },
  {
   "cell_type": "code",
   "execution_count": 24,
   "metadata": {},
   "outputs": [
    {
     "data": {
      "text/plain": [
       "0.33210303809281483"
      ]
     },
     "execution_count": 24,
     "metadata": {},
     "output_type": "execute_result"
    }
   ],
   "source": [
    "criterion(library.iloc[0:100].labels, clusters)"
   ]
  },
  {
   "cell_type": "markdown",
   "metadata": {},
   "source": [
    "#### And we now the greedy routine that will optimise the criterion to select the ensemble:"
   ]
  },
  {
   "cell_type": "code",
   "execution_count": 25,
   "metadata": {},
   "outputs": [],
   "source": [
    "def build_ensemble(library, library_clustering):\n",
    "    \n",
    "    ensemble_indices = []\n",
    "    ensemble = []\n",
    "    \n",
    "    # first we select the highest quality clustering\n",
    "    all_quality = [\n",
    "        quality([c], library_clustering)\n",
    "        for c in library\n",
    "    ]\n",
    "    best_index = np.argmax(all_quality)\n",
    "    \n",
    "    ensemble_indices.append(best_index)\n",
    "    ensemble.append(library[best_index])\n",
    "    \n",
    "    # now we greedily add the clustering that maximises the criterion\n",
    "    old_best = 0\n",
    "    while True:\n",
    "        \n",
    "        new_scores = [\n",
    "            criterion(ensemble + [c], library_clustering)\n",
    "            if i not in ensemble_indices\n",
    "            else -1\n",
    "            for i,c in enumerate(library)\n",
    "        ]\n",
    "        best_index = np.argmax(new_scores)\n",
    "        new_best = new_scores[best_index]\n",
    "        if new_best < old_best:\n",
    "            break\n",
    "        else:\n",
    "            old_best = new_best\n",
    "            ensemble_indices.append(best_index)\n",
    "            ensemble.append(library[best_index])\n",
    "    \n",
    "    print(old_best)\n",
    "    return ensemble, ensemble_indices"
   ]
  },
  {
   "cell_type": "code",
   "execution_count": 26,
   "metadata": {},
   "outputs": [
    {
     "name": "stdout",
     "output_type": "stream",
     "text": [
      "0.48317838351872444\n"
     ]
    }
   ],
   "source": [
    "ensemble, e_indices = build_ensemble(library.labels, clusters)"
   ]
  },
  {
   "cell_type": "code",
   "execution_count": 27,
   "metadata": {},
   "outputs": [
    {
     "data": {
      "text/plain": [
       "0.48317838351872444"
      ]
     },
     "execution_count": 27,
     "metadata": {},
     "output_type": "execute_result"
    }
   ],
   "source": [
    "criterion(ensemble, clusters)"
   ]
  },
  {
   "cell_type": "code",
   "execution_count": 28,
   "metadata": {},
   "outputs": [
    {
     "data": {
      "text/plain": [
       "2"
      ]
     },
     "execution_count": 28,
     "metadata": {},
     "output_type": "execute_result"
    }
   ],
   "source": [
    "len(ensemble)"
   ]
  },
  {
   "cell_type": "markdown",
   "metadata": {},
   "source": [
    "#### We now have an ensemble of only 2 clusterings!! Hmm...\n",
    "\n",
    "#### We proceed to try extracting the final set of clusters:"
   ]
  },
  {
   "cell_type": "code",
   "execution_count": 29,
   "metadata": {},
   "outputs": [
    {
     "data": {
      "text/plain": [
       "[158, 248]"
      ]
     },
     "execution_count": 29,
     "metadata": {},
     "output_type": "execute_result"
    }
   ],
   "source": [
    "e_indices"
   ]
  },
  {
   "cell_type": "code",
   "execution_count": 31,
   "metadata": {},
   "outputs": [],
   "source": [
    "# assert (library.iloc[9].labels == ensemble[0]).all()\n",
    "# assert (library.iloc[192].labels == ensemble[1]).all()"
   ]
  },
  {
   "cell_type": "code",
   "execution_count": 32,
   "metadata": {},
   "outputs": [
    {
     "data": {
      "text/plain": [
       "(array([0, 1, 2], dtype=int32), array([2505, 1002, 2524]))"
      ]
     },
     "execution_count": 32,
     "metadata": {},
     "output_type": "execute_result"
    }
   ],
   "source": [
    "np.unique(library.iloc[158].labels, return_counts=True)"
   ]
  },
  {
   "cell_type": "code",
   "execution_count": 33,
   "metadata": {},
   "outputs": [
    {
     "data": {
      "text/plain": [
       "(array([ 0,  1,  2,  3,  4,  5,  6,  7,  8,  9, 10, 11, 12, 13, 14, 15, 16,\n",
       "        17, 18], dtype=int32),\n",
       " array([381, 335, 356, 348, 372, 361, 388, 277, 366, 370, 321, 251, 249,\n",
       "        253, 309, 194, 336, 234, 330]))"
      ]
     },
     "execution_count": 33,
     "metadata": {},
     "output_type": "execute_result"
    }
   ],
   "source": [
    "np.unique(library.iloc[248].labels, return_counts=True)"
   ]
  },
  {
   "cell_type": "code",
   "execution_count": null,
   "metadata": {},
   "outputs": [],
   "source": []
  },
  {
   "cell_type": "markdown",
   "metadata": {},
   "source": [
    "### Final partition:"
   ]
  },
  {
   "cell_type": "code",
   "execution_count": 34,
   "metadata": {},
   "outputs": [],
   "source": [
    "dff = pd.DataFrame(ensemble).transpose()"
   ]
  },
  {
   "cell_type": "code",
   "execution_count": 35,
   "metadata": {},
   "outputs": [
    {
     "name": "stdout",
     "output_type": "stream",
     "text": [
      "0\n",
      "500\n",
      "1000\n",
      "1500\n",
      "2000\n",
      "2500\n",
      "3000\n",
      "3500\n",
      "4000\n",
      "4500\n",
      "5000\n",
      "5500\n",
      "6000\n"
     ]
    }
   ],
   "source": [
    "fco_association_matrix = np.zeros([6031, 6031])\n",
    "n_estimators = len(ensemble)\n",
    "\n",
    "for ri, row in df.iterrows():\n",
    "    \n",
    "    if ri % 500 == 0:\n",
    "        print(ri)\n",
    "        \n",
    "    compare = df.loc[ri + 1:]\n",
    "    shared_counts = ((row == compare) * (row != -1) * (compare != -1)).sum(axis=1)\n",
    "    fco_association_matrix[ri,ri+1:] = shared_counts / n_estimators"
   ]
  },
  {
   "cell_type": "code",
   "execution_count": 38,
   "metadata": {},
   "outputs": [],
   "source": [
    "f_distance_matrix = 1 - fco_association_matrix"
   ]
  },
  {
   "cell_type": "code",
   "execution_count": 39,
   "metadata": {},
   "outputs": [],
   "source": [
    "f_linkage_matrix = hierarchy.linkage(f_distance_matrix, method='average')"
   ]
  },
  {
   "cell_type": "code",
   "execution_count": 40,
   "metadata": {},
   "outputs": [
    {
     "data": {
      "text/plain": [
       "<matplotlib.lines.Line2D at 0x7f2f16266be0>"
      ]
     },
     "execution_count": 40,
     "metadata": {},
     "output_type": "execute_result"
    },
    {
     "data": {
      "image/png": "[encoded data removed]",
      "text/plain": [
       "<Figure size 640x480 with 1 Axes>"
      ]
     },
     "metadata": {},
     "output_type": "display_data"
    }
   ],
   "source": [
    "plt.figure()\n",
    "ax = plt.gca()\n",
    "dendro_row = hierarchy.dendrogram(f_linkage_matrix, orientation='left', ax=ax)\n",
    "ax.axvline(11.5)"
   ]
  },
  {
   "cell_type": "code",
   "execution_count": 45,
   "metadata": {},
   "outputs": [],
   "source": [
    "final_clusters = hierarchy.fcluster(f_linkage_matrix, t=5000, criterion='distance')"
   ]
  },
  {
   "cell_type": "code",
   "execution_count": 46,
   "metadata": {},
   "outputs": [
    {
     "data": {
      "text/plain": [
       "(array([ 1,  2,  3,  4,  5,  6,  7,  8,  9, 10, 11, 12, 13], dtype=int32),\n",
       " array([ 162,  357,  245,  577,  305,  283,  214,  437,  559, 2027,  271,\n",
       "         132,  462]))"
      ]
     },
     "execution_count": 46,
     "metadata": {},
     "output_type": "execute_result"
    }
   ],
   "source": [
    "np.unique(final_clusters, return_counts=True)"
   ]
  },
  {
   "cell_type": "code",
   "execution_count": null,
   "metadata": {},
   "outputs": [],
   "source": []
  },
  {
   "cell_type": "code",
   "execution_count": 47,
   "metadata": {},
   "outputs": [],
   "source": [
    "tessa = pd.read_csv('../clusterings/tessa/cluster_13_111023.csv')\n",
    "tessa.rename(columns={'Unnamed: 0': 'index'}, inplace=True)"
   ]
  },
  {
   "cell_type": "code",
   "execution_count": 50,
   "metadata": {},
   "outputs": [
    {
     "data": {
      "text/plain": [
       "0.31556940631789265"
      ]
     },
     "execution_count": 50,
     "metadata": {},
     "output_type": "execute_result"
    }
   ],
   "source": [
    "adjusted_mutual_info_score(tessa.cluster, final_clusters)"
   ]
  },
  {
   "cell_type": "code",
   "execution_count": null,
   "metadata": {},
   "outputs": [],
   "source": []
  }
 ],
 "metadata": {
  "kernelspec": {
   "display_name": "venv",
   "language": "python",
   "name": "venv"
  },
  "language_info": {
   "codemirror_mode": {
    "name": "ipython",
    "version": 3
   },
   "file_extension": ".py",
   "mimetype": "text/x-python",
   "name": "python",
   "nbconvert_exporter": "python",
   "pygments_lexer": "ipython3",
   "version": "3.8.0"
  }
 },
 "nbformat": 4,
 "nbformat_minor": 5
}

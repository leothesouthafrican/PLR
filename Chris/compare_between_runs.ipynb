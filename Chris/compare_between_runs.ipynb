{
 "cells": [
  {
   "cell_type": "code",
   "execution_count": null,
   "id": "8b47a769-1a71-42d1-9b0d-e78c32c8ed25",
   "metadata": {},
   "outputs": [],
   "source": [
    "import wandb\n",
    "import matplotlib.pyplot as plt\n",
    "from sklearn.cluster import KMeans\n",
    "from sklearn.pipeline import Pipeline\n",
    "from sklearn.decomposition import PCA\n",
    "import umap\n",
    "from tqdm.notebook import tqdm_notebook\n",
    "import pickle as pk\n",
    "import pandas as pd\n",
    "import numpy as np\n",
    "\n",
    "from utilities import run_configs\n",
    "from utilities import load_symptom_data\n",
    "from utilities import (\n",
    "    dbcv,\n",
    "    rv,\n",
    "    dbcv_minkowski,\n",
    "    calinski_harabasz,\n",
    "    silhouette,\n",
    "    davies_bouldin,\n",
    "    all_model_parameters,\n",
    "    fraction_clustered,\n",
    "    cluster_count\n",
    ")\n",
    "\n",
    "%matplotlib inline"
   ]
  }
 ],
 "metadata": {
  "kernelspec": {
   "display_name": "venv",
   "language": "python",
   "name": "venv"
  },
  "language_info": {
   "codemirror_mode": {
    "name": "ipython",
    "version": 3
   },
   "file_extension": ".py",
   "mimetype": "text/x-python",
   "name": "python",
   "nbconvert_exporter": "python",
   "pygments_lexer": "ipython3",
   "version": "3.7.4"
  }
 },
 "nbformat": 4,
 "nbformat_minor": 5
}

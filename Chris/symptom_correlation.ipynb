{
 "cells": [
  {
   "cell_type": "markdown",
   "id": "aff32e1e-a3af-4675-8efc-f18b2d6e4760",
   "metadata": {},
   "source": [
    "### Here we look at correlatiton between symptoms.\n",
    "\n",
    "* Can we reduce dimensionality by combining highly correlated features into a single real numbered value? Does this make sense, or is it imposing structure on our clusters?\n",
    "* Or can we at least produce better symptom groupings this way? For use in analysis."
   ]
  },
  {
   "cell_type": "code",
   "execution_count": null,
   "id": "dacf9f81-7d03-4508-b372-1304156b66a1",
   "metadata": {},
   "outputs": [],
   "source": []
  }
 ],
 "metadata": {
  "kernelspec": {
   "display_name": "clusterenv",
   "language": "python",
   "name": "clusterenv"
  },
  "language_info": {
   "codemirror_mode": {
    "name": "ipython",
    "version": 3
   },
   "file_extension": ".py",
   "mimetype": "text/x-python",
   "name": "python",
   "nbconvert_exporter": "python",
   "pygments_lexer": "ipython3",
   "version": "3.8.13"
  }
 },
 "nbformat": 4,
 "nbformat_minor": 5
}

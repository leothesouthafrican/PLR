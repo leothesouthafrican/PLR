{
 "cells": [
  {
   "cell_type": "markdown",
   "metadata": {},
   "source": [
    "### Ensemble comparison.\n",
    "\n",
    "In this notebook we implement the 'joint-criteria' ensemble selection method with HAC.\n",
    "\n",
    "#### Note: refactor functions so that they can be run with a subset of the data (e.g. 80% of patient for sensitivity analysis). Also test with and without parametric-UMAP.\n",
    "\n",
    "#### MI metrics not working well with HBDScan noise. Trying treating each -1 sample as separate cluster...\n",
    "\n",
    "#### Note: this has 5 decently sized clusters at library level. How to they compare to run w/o hdbscan?"
   ]
  },
  {
   "cell_type": "code",
   "execution_count": 1,
   "metadata": {},
   "outputs": [],
   "source": [
    "import matplotlib.pyplot as plt\n",
    "import pickle as pk\n",
    "import pandas as pd\n",
    "import numpy as np\n",
    "import wandb\n",
    "from itertools import combinations\n",
    "import networkx as nx\n",
    "from sklearn.metrics.cluster import adjusted_rand_score, adjusted_mutual_info_score\n",
    "from sklearn.metrics.cluster import normalized_mutual_info_score\n",
    "from sklearn.cluster import AgglomerativeClustering\n",
    "from scipy.cluster import hierarchy\n",
    "\n",
    "from utilities import run_configs, load_symptom_data, modularity, clustering_similarity\n",
    "\n",
    "%matplotlib inline"
   ]
  },
  {
   "cell_type": "code",
   "execution_count": 2,
   "metadata": {},
   "outputs": [],
   "source": [
    "SEARCH_TYPE = 'randomized_search'  # we want random parameterisations for diversity.\n",
    "SAMPLE_SIZE = 15  # number of sample to take from each pipeline to build library \n",
    "RUN_IDS_TO_INCLUDE = [1, 2, 3, 4, 5, 6, 7, 8, 13, 15]  # we will reproduce using only kmeans (and including p-umap)\n",
    "NMI_SCORE = 'mi'  # arg to pass to clustering_similarity method to use partial NMI (ignoring -1 labels from hdbscan) \n",
    "SEED = 42"
   ]
  },
  {
   "cell_type": "code",
   "execution_count": 3,
   "metadata": {},
   "outputs": [],
   "source": [
    "np.random.seed(SEED)"
   ]
  },
  {
   "cell_type": "code",
   "execution_count": 4,
   "metadata": {},
   "outputs": [],
   "source": [
    "run_metadata = {\n",
    "    'randomized_search': {\n",
    "        1: {\n",
    "            'run_path': 'rusty-chris/tune_shallow_clustering/runs/ndz8b3cz',\n",
    "            'results_path': 'results/umap_kmeans_silhouette_run_10/all_results.pickle'\n",
    "        },\n",
    "        2: {\n",
    "            'run_path': 'rusty-chris/tune_shallow_clustering/runs/gcnqmv1k',\n",
    "            'results_path': 'results/umap_kmeans_dbcv_run_11/all_results.pickle'\n",
    "        },\n",
    "        3: {\n",
    "            'run_path': 'rusty-chris/tune_shallow_clustering/runs/t0tzp4gz',\n",
    "            'results_path': 'results/umap_hdbscan_silhouette_run_10/all_results.pickle'\n",
    "        },\n",
    "        4: {\n",
    "            'run_path': 'rusty-chris/tune_shallow_clustering/runs/zgsa9yi4',\n",
    "            'results_path': 'results/umap_hdbscan_dbcv_run_11/all_results.pickle'\n",
    "        },\n",
    "        5: {\n",
    "            'run_path': 'rusty-chris/tune_shallow_clustering/runs/x42hq5ez',\n",
    "            'results_path': 'results/pca_kmeans_silhouette_run_10/all_results.pickle'\n",
    "        },\n",
    "        6: {\n",
    "            'run_path': 'rusty-chris/tune_shallow_clustering/runs/qgy8ifuf',\n",
    "            'results_path': 'results/pca_kmeans_dbcv_run_10/all_results.pickle'\n",
    "        },\n",
    "        7: {\n",
    "            'run_path': 'rusty-chris/tune_shallow_clustering/runs/en968oqc',\n",
    "            'results_path': 'results/pca_hdbscan_silhouette_run_10/all_results.pickle'\n",
    "        },\n",
    "        8: {\n",
    "            'run_path': 'rusty-chris/tune_shallow_clustering/runs/ocncbqca',\n",
    "            'results_path': 'results/pca_hdbscan_dbcv_run_10/all_results.pickle'\n",
    "        },\n",
    "        13: {\n",
    "            'run_path': 'rusty-chris/tune_shallow_clustering/runs/lo5r07or',\n",
    "            'results_path': 'results/parametric_umap_kmeans_silhouette_run_10/all_results.pickle'\n",
    "        },\n",
    "        15: {\n",
    "            'run_path': 'rusty-chris/tune_shallow_clustering/tv9hnbnn',\n",
    "            'results_path': 'results/parametric_umap_hdbscan_silhouette_run_10/all_results.pickle'\n",
    "        }\n",
    "    }\n",
    "}"
   ]
  },
  {
   "cell_type": "markdown",
   "metadata": {},
   "source": [
    "#### First we assemble our library of clusterings by selecting from the prior optimisation runs."
   ]
  },
  {
   "cell_type": "code",
   "execution_count": 5,
   "metadata": {},
   "outputs": [],
   "source": [
    "for key in run_metadata[SEARCH_TYPE].keys():\n",
    "    run_configs[key].update(run_metadata[SEARCH_TYPE][key])"
   ]
  },
  {
   "cell_type": "code",
   "execution_count": 6,
   "metadata": {},
   "outputs": [],
   "source": [
    "def load_results(run_id):\n",
    "    run_config = run_configs[run_id]\n",
    "    with open(run_config['results_path'], 'rb') as outfile:\n",
    "        results = pk.load(outfile)\n",
    "        \n",
    "    results = pd.DataFrame.from_dict(results, orient='index')\n",
    "    results['original_index'] = results.index\n",
    "    results['run_id'] = run_id\n",
    "    return results"
   ]
  },
  {
   "cell_type": "code",
   "execution_count": 7,
   "metadata": {},
   "outputs": [],
   "source": [
    "def filter_results(_results, min_size=2, noise_threshold=0.66):\n",
    "    _results = _results[_results.cluster_count > min_size]\n",
    "    _results = _results[_results.fraction_clustered > noise_threshold]\n",
    "    \n",
    "    return _results"
   ]
  },
  {
   "cell_type": "code",
   "execution_count": 8,
   "metadata": {},
   "outputs": [],
   "source": [
    "def sample_results(_results):\n",
    "    if len(_results) < SAMPLE_SIZE:\n",
    "        return _results\n",
    "    else:\n",
    "        return _results.sample(SAMPLE_SIZE)"
   ]
  },
  {
   "cell_type": "code",
   "execution_count": 9,
   "metadata": {},
   "outputs": [],
   "source": [
    "all_results = {\n",
    "    run_id: sample_results(filter_results(load_results(run_id)))\n",
    "    for run_id in run_metadata[SEARCH_TYPE].keys()\n",
    "}"
   ]
  },
  {
   "cell_type": "code",
   "execution_count": 10,
   "metadata": {},
   "outputs": [
    {
     "name": "stdout",
     "output_type": "stream",
     "text": [
      "15\n",
      "15\n",
      "15\n",
      "15\n",
      "15\n",
      "15\n",
      "15\n",
      "15\n",
      "15\n",
      "12\n"
     ]
    }
   ],
   "source": [
    "for key in all_results.keys():\n",
    "    print(len(all_results[key]))"
   ]
  },
  {
   "cell_type": "code",
   "execution_count": 11,
   "metadata": {},
   "outputs": [],
   "source": [
    "library = all_results[RUN_IDS_TO_INCLUDE[0]]\n",
    "for run_id in RUN_IDS_TO_INCLUDE[1:]:\n",
    "    library = pd.concat(\n",
    "        [library, all_results[run_id]], ignore_index=True\n",
    "    )"
   ]
  },
  {
   "cell_type": "markdown",
   "metadata": {},
   "source": [
    "#### We then produce a final partition from the full library, which will be used to compute diversity and quality metrics..."
   ]
  },
  {
   "cell_type": "code",
   "execution_count": 12,
   "metadata": {},
   "outputs": [],
   "source": [
    "symptom_data = load_symptom_data(run_configs[1]['data_path'])"
   ]
  },
  {
   "cell_type": "code",
   "execution_count": 13,
   "metadata": {},
   "outputs": [],
   "source": [
    "df = pd.DataFrame(library.labels)\n",
    "df = pd.DataFrame(df['labels'].to_list()).transpose()"
   ]
  },
  {
   "cell_type": "code",
   "execution_count": 14,
   "metadata": {},
   "outputs": [
    {
     "name": "stdout",
     "output_type": "stream",
     "text": [
      "0\n",
      "500\n",
      "1000\n",
      "1500\n",
      "2000\n",
      "2500\n",
      "3000\n",
      "3500\n",
      "4000\n",
      "4500\n",
      "5000\n",
      "5500\n",
      "6000\n"
     ]
    }
   ],
   "source": [
    "co_association_matrix = np.zeros([6031, 6031])\n",
    "n_estimators = len(library)\n",
    "\n",
    "for ri, row in df.iterrows():\n",
    "    \n",
    "    if ri % 500 == 0:\n",
    "        print(ri)\n",
    "        \n",
    "    compare = df.loc[ri + 1:]\n",
    "    shared_counts = ((row == compare) * (row != -1) * (compare != -1)).sum(axis=1)\n",
    "    co_association_matrix[ri,ri+1:] = shared_counts / n_estimators"
   ]
  },
  {
   "cell_type": "code",
   "execution_count": 15,
   "metadata": {},
   "outputs": [],
   "source": [
    "distance_matrix = 1 - co_association_matrix"
   ]
  },
  {
   "cell_type": "code",
   "execution_count": 16,
   "metadata": {},
   "outputs": [],
   "source": [
    "linkage_matrix = hierarchy.linkage(distance_matrix, method='average')"
   ]
  },
  {
   "cell_type": "code",
   "execution_count": 17,
   "metadata": {},
   "outputs": [
    {
     "data": {
      "text/plain": [
       "<matplotlib.lines.Line2D at 0x7fde72263ca0>"
      ]
     },
     "execution_count": 17,
     "metadata": {},
     "output_type": "execute_result"
    },
    {
     "data": {
      "image/png": "[encoded data removed]",
      "text/plain": [
       "<Figure size 640x480 with 1 Axes>"
      ]
     },
     "metadata": {},
     "output_type": "display_data"
    }
   ],
   "source": [
    "plt.figure()\n",
    "ax = plt.gca()\n",
    "dendro_row = hierarchy.dendrogram(linkage_matrix, orientation='left', ax=ax)\n",
    "ax.axvline(10)"
   ]
  },
  {
   "cell_type": "code",
   "execution_count": 18,
   "metadata": {},
   "outputs": [],
   "source": [
    "clusters = hierarchy.fcluster(linkage_matrix, t=15, criterion='distance')"
   ]
  },
  {
   "cell_type": "code",
   "execution_count": 19,
   "metadata": {},
   "outputs": [
    {
     "data": {
      "text/plain": [
       "(array([1, 2, 3, 4, 5], dtype=int32), array([ 748, 2938,  915,  819,  611]))"
      ]
     },
     "execution_count": 19,
     "metadata": {},
     "output_type": "execute_result"
    }
   ],
   "source": [
    "np.unique(clusters, return_counts=True)"
   ]
  },
  {
   "cell_type": "markdown",
   "metadata": {},
   "source": [
    "#### We now define the Quality and Diversity metrics that will be used for ensemble selection:"
   ]
  },
  {
   "cell_type": "code",
   "execution_count": 20,
   "metadata": {},
   "outputs": [],
   "source": [
    "def quality(ensemble, library_clustering, score=clustering_similarity):\n",
    "    \"\"\"\n",
    "    Mean of normalized mutual information.\n",
    "    \n",
    "    Note: Fern and Lin define 'sum' not 'mean' but this must be wrong?\n",
    "    \"\"\"\n",
    "    return np.mean([\n",
    "        score(library_clustering, c, score=NMI_SCORE)\n",
    "        for c in ensemble\n",
    "    ])"
   ]
  },
  {
   "cell_type": "code",
   "execution_count": 21,
   "metadata": {},
   "outputs": [
    {
     "data": {
      "text/plain": [
       "0.07201270337882654"
      ]
     },
     "execution_count": 21,
     "metadata": {},
     "output_type": "execute_result"
    }
   ],
   "source": [
    "quality(library.iloc[0:100].labels, clusters)"
   ]
  },
  {
   "cell_type": "code",
   "execution_count": 22,
   "metadata": {},
   "outputs": [],
   "source": [
    "def diversity(ensemble, score=clustering_similarity ):\n",
    "    pairs = list(combinations(ensemble, 2))\n",
    "    \n",
    "    return 1 - np.mean([\n",
    "        score(pair[0], pair[1], score=NMI_SCORE)\n",
    "        for pair in pairs\n",
    "    ])"
   ]
  },
  {
   "cell_type": "code",
   "execution_count": 23,
   "metadata": {},
   "outputs": [
    {
     "data": {
      "text/plain": [
       "0.4205622715351802"
      ]
     },
     "execution_count": 23,
     "metadata": {},
     "output_type": "execute_result"
    }
   ],
   "source": [
    "diversity(library.iloc[0:20].labels)"
   ]
  },
  {
   "cell_type": "markdown",
   "metadata": {},
   "source": [
    "#### And the multi-objective criterion that combines them:"
   ]
  },
  {
   "cell_type": "code",
   "execution_count": 24,
   "metadata": {},
   "outputs": [],
   "source": [
    "def criterion(ensemble, library_clustering, alpha=0.5):\n",
    "    return (\n",
    "        alpha * quality(ensemble, library_clustering)\n",
    "        + (1 - alpha) * diversity(ensemble)\n",
    "    )"
   ]
  },
  {
   "cell_type": "code",
   "execution_count": 25,
   "metadata": {},
   "outputs": [
    {
     "data": {
      "text/plain": [
       "0.4198593991052313"
      ]
     },
     "execution_count": 25,
     "metadata": {},
     "output_type": "execute_result"
    }
   ],
   "source": [
    "criterion(library.iloc[0:100].labels, clusters)"
   ]
  },
  {
   "cell_type": "markdown",
   "metadata": {},
   "source": [
    "#### And we now the greedy routine that will optimise the criterion to select the ensemble:"
   ]
  },
  {
   "cell_type": "code",
   "execution_count": 26,
   "metadata": {},
   "outputs": [],
   "source": [
    "def build_ensemble(library, library_clustering):\n",
    "    \n",
    "    ensemble_indices = []\n",
    "    ensemble = []\n",
    "    \n",
    "    # first we select the highest quality clustering\n",
    "    all_quality = [\n",
    "        quality([c], library_clustering)\n",
    "        for c in library\n",
    "    ]\n",
    "    best_index = np.argmax(all_quality)\n",
    "    \n",
    "    ensemble_indices.append(best_index)\n",
    "    ensemble.append(library[best_index])\n",
    "    \n",
    "    # now we greedily add the clustering that maximises the criterion\n",
    "    old_best = 0\n",
    "    while True:\n",
    "        \n",
    "        new_scores = [\n",
    "            criterion(ensemble + [c], library_clustering)\n",
    "            if i not in ensemble_indices\n",
    "            else -1\n",
    "            for i,c in enumerate(library)\n",
    "        ]\n",
    "        best_index = np.argmax(new_scores)\n",
    "        new_best = new_scores[best_index]\n",
    "        if new_best <= old_best:\n",
    "            break\n",
    "        else:\n",
    "            old_best = new_best\n",
    "            ensemble_indices.append(best_index)\n",
    "            ensemble.append(library[best_index])\n",
    "    \n",
    "    print(old_best)\n",
    "    return ensemble, ensemble_indices"
   ]
  },
  {
   "cell_type": "code",
   "execution_count": 27,
   "metadata": {},
   "outputs": [
    {
     "name": "stdout",
     "output_type": "stream",
     "text": [
      "0.5654709983622866\n"
     ]
    }
   ],
   "source": [
    "ensemble, e_indices = build_ensemble(library.labels, clusters)"
   ]
  },
  {
   "cell_type": "code",
   "execution_count": 28,
   "metadata": {},
   "outputs": [
    {
     "data": {
      "text/plain": [
       "0.5654709983622866"
      ]
     },
     "execution_count": 28,
     "metadata": {},
     "output_type": "execute_result"
    }
   ],
   "source": [
    "criterion(ensemble, clusters)"
   ]
  },
  {
   "cell_type": "code",
   "execution_count": 29,
   "metadata": {},
   "outputs": [
    {
     "data": {
      "text/plain": [
       "3"
      ]
     },
     "execution_count": 29,
     "metadata": {},
     "output_type": "execute_result"
    }
   ],
   "source": [
    "len(ensemble)"
   ]
  },
  {
   "cell_type": "markdown",
   "metadata": {},
   "source": [
    "#### We now have an ensemble of only 2 clusterings!! Hmm...\n",
    "\n",
    "#### We proceed to try extracting the final set of clusters:"
   ]
  },
  {
   "cell_type": "code",
   "execution_count": 30,
   "metadata": {},
   "outputs": [
    {
     "data": {
      "text/plain": [
       "[64, 50, 58]"
      ]
     },
     "execution_count": 30,
     "metadata": {},
     "output_type": "execute_result"
    }
   ],
   "source": [
    "e_indices"
   ]
  },
  {
   "cell_type": "code",
   "execution_count": 31,
   "metadata": {},
   "outputs": [],
   "source": [
    "# assert (library.iloc[103].labels == ensemble[0]).all()\n",
    "# assert (library.iloc[92].labels == ensemble[1]).all()"
   ]
  },
  {
   "cell_type": "code",
   "execution_count": 32,
   "metadata": {},
   "outputs": [
    {
     "data": {
      "text/plain": [
       "(array([0, 1, 2], dtype=int32), array([2574, 1148, 2309]))"
      ]
     },
     "execution_count": 32,
     "metadata": {},
     "output_type": "execute_result"
    }
   ],
   "source": [
    "np.unique(library.iloc[64].labels, return_counts=True)"
   ]
  },
  {
   "cell_type": "code",
   "execution_count": 33,
   "metadata": {},
   "outputs": [
    {
     "data": {
      "text/plain": [
       "(array([-1,  0,  1]), array([1801, 4227,    3]))"
      ]
     },
     "execution_count": 33,
     "metadata": {},
     "output_type": "execute_result"
    }
   ],
   "source": [
    "np.unique(library.iloc[50].labels, return_counts=True)"
   ]
  },
  {
   "cell_type": "code",
   "execution_count": 34,
   "metadata": {},
   "outputs": [
    {
     "data": {
      "text/plain": [
       "(array([-1,  0,  1]), array([1704,  187, 4140]))"
      ]
     },
     "execution_count": 34,
     "metadata": {},
     "output_type": "execute_result"
    }
   ],
   "source": [
    "np.unique(library.iloc[58].labels, return_counts=True)"
   ]
  },
  {
   "cell_type": "code",
   "execution_count": null,
   "metadata": {},
   "outputs": [],
   "source": []
  },
  {
   "cell_type": "code",
   "execution_count": null,
   "metadata": {},
   "outputs": [],
   "source": []
  },
  {
   "cell_type": "markdown",
   "metadata": {},
   "source": [
    "#### Final partition:"
   ]
  },
  {
   "cell_type": "code",
   "execution_count": 35,
   "metadata": {},
   "outputs": [],
   "source": [
    "dff = pd.DataFrame(ensemble).transpose()"
   ]
  },
  {
   "cell_type": "code",
   "execution_count": 36,
   "metadata": {},
   "outputs": [
    {
     "name": "stdout",
     "output_type": "stream",
     "text": [
      "0\n",
      "500\n",
      "1000\n",
      "1500\n",
      "2000\n",
      "2500\n",
      "3000\n",
      "3500\n",
      "4000\n",
      "4500\n",
      "5000\n",
      "5500\n",
      "6000\n"
     ]
    }
   ],
   "source": [
    "fco_association_matrix = np.zeros([6031, 6031])\n",
    "n_estimators = len(ensemble)\n",
    "\n",
    "for ri, row in df.iterrows():\n",
    "    \n",
    "    if ri % 500 == 0:\n",
    "        print(ri)\n",
    "        \n",
    "    compare = df.loc[ri + 1:]\n",
    "    shared_counts = ((row == compare) * (row != -1) * (compare != -1)).sum(axis=1)\n",
    "    fco_association_matrix[ri,ri+1:] = shared_counts / n_estimators"
   ]
  },
  {
   "cell_type": "code",
   "execution_count": 37,
   "metadata": {},
   "outputs": [],
   "source": [
    "f_distance_matrix = 1 - fco_association_matrix"
   ]
  },
  {
   "cell_type": "code",
   "execution_count": 38,
   "metadata": {},
   "outputs": [],
   "source": [
    "f_linkage_matrix = hierarchy.linkage(f_distance_matrix, method='average')"
   ]
  },
  {
   "cell_type": "code",
   "execution_count": 39,
   "metadata": {},
   "outputs": [
    {
     "data": {
      "text/plain": [
       "<matplotlib.lines.Line2D at 0x7fde7266d1f0>"
      ]
     },
     "execution_count": 39,
     "metadata": {},
     "output_type": "execute_result"
    },
    {
     "data": {
      "image/png": "[encoded data removed]",
      "text/plain": [
       "<Figure size 640x480 with 1 Axes>"
      ]
     },
     "metadata": {},
     "output_type": "display_data"
    }
   ],
   "source": [
    "plt.figure()\n",
    "ax = plt.gca()\n",
    "dendro_row = hierarchy.dendrogram(f_linkage_matrix, orientation='left', ax=ax)\n",
    "ax.axvline(11.5)"
   ]
  },
  {
   "cell_type": "code",
   "execution_count": 70,
   "metadata": {},
   "outputs": [],
   "source": [
    "final_clusters = hierarchy.fcluster(f_linkage_matrix, t=700, criterion='distance')"
   ]
  },
  {
   "cell_type": "code",
   "execution_count": 68,
   "metadata": {},
   "outputs": [
    {
     "data": {
      "text/plain": [
       "(array([ 1,  2,  3,  4,  5,  6,  7,  8,  9, 10, 11], dtype=int32),\n",
       " array([ 469,  279, 1868, 1070,  335,  580,  357,  462,  112,   58,  441]))"
      ]
     },
     "execution_count": 68,
     "metadata": {},
     "output_type": "execute_result"
    }
   ],
   "source": [
    "np.unique(final_clusters, return_counts=True)"
   ]
  },
  {
   "cell_type": "code",
   "execution_count": 63,
   "metadata": {},
   "outputs": [
    {
     "data": {
      "text/plain": [
       "0.7110241749384331"
      ]
     },
     "execution_count": 63,
     "metadata": {},
     "output_type": "execute_result"
    }
   ],
   "source": [
    "adjusted_rand_score(final_clusters, clusters)"
   ]
  },
  {
   "cell_type": "code",
   "execution_count": 64,
   "metadata": {},
   "outputs": [
    {
     "data": {
      "text/plain": [
       "0.8973747936460101"
      ]
     },
     "execution_count": 64,
     "metadata": {},
     "output_type": "execute_result"
    }
   ],
   "source": [
    "adjusted_mutual_info_score(final_clusters, clusters)"
   ]
  },
  {
   "cell_type": "code",
   "execution_count": 71,
   "metadata": {},
   "outputs": [],
   "source": [
    "tessa = pd.read_csv('../clusterings/tessa/stepmix_13_111023_preddf.csv')\n",
    "tessa.rename(columns={'Unnamed: 0': 'index'}, inplace=True)"
   ]
  },
  {
   "cell_type": "code",
   "execution_count": 72,
   "metadata": {},
   "outputs": [
    {
     "ename": "AttributeError",
     "evalue": "'DataFrame' object has no attribute 'cluster'",
     "output_type": "error",
     "traceback": [
      "\u001b[0;31m---------------------------------------------------------------------------\u001b[0m",
      "\u001b[0;31mAttributeError\u001b[0m                            Traceback (most recent call last)",
      "\u001b[0;32m/tmp/ipykernel_10003/3116047773.py\u001b[0m in \u001b[0;36m?\u001b[0;34m()\u001b[0m\n\u001b[0;32m----> 1\u001b[0;31m \u001b[0madjusted_mutual_info_score\u001b[0m\u001b[0;34m(\u001b[0m\u001b[0mtessa\u001b[0m\u001b[0;34m.\u001b[0m\u001b[0mcluster\u001b[0m\u001b[0;34m,\u001b[0m \u001b[0mfinal_clusters\u001b[0m\u001b[0;34m)\u001b[0m\u001b[0;34m\u001b[0m\u001b[0;34m\u001b[0m\u001b[0m\n\u001b[0m",
      "\u001b[0;32m~/Documents/Work/PLRC/PLR/Chris/venv/lib/python3.8/site-packages/pandas/core/generic.py\u001b[0m in \u001b[0;36m?\u001b[0;34m(self, name)\u001b[0m\n\u001b[1;32m   5985\u001b[0m             \u001b[0;32mand\u001b[0m \u001b[0mname\u001b[0m \u001b[0;32mnot\u001b[0m \u001b[0;32min\u001b[0m \u001b[0mself\u001b[0m\u001b[0;34m.\u001b[0m\u001b[0m_accessors\u001b[0m\u001b[0;34m\u001b[0m\u001b[0;34m\u001b[0m\u001b[0m\n\u001b[1;32m   5986\u001b[0m             \u001b[0;32mand\u001b[0m \u001b[0mself\u001b[0m\u001b[0;34m.\u001b[0m\u001b[0m_info_axis\u001b[0m\u001b[0;34m.\u001b[0m\u001b[0m_can_hold_identifiers_and_holds_name\u001b[0m\u001b[0;34m(\u001b[0m\u001b[0mname\u001b[0m\u001b[0;34m)\u001b[0m\u001b[0;34m\u001b[0m\u001b[0;34m\u001b[0m\u001b[0m\n\u001b[1;32m   5987\u001b[0m         ):\n\u001b[1;32m   5988\u001b[0m             \u001b[0;32mreturn\u001b[0m \u001b[0mself\u001b[0m\u001b[0;34m[\u001b[0m\u001b[0mname\u001b[0m\u001b[0;34m]\u001b[0m\u001b[0;34m\u001b[0m\u001b[0;34m\u001b[0m\u001b[0m\n\u001b[0;32m-> 5989\u001b[0;31m         \u001b[0;32mreturn\u001b[0m \u001b[0mobject\u001b[0m\u001b[0;34m.\u001b[0m\u001b[0m__getattribute__\u001b[0m\u001b[0;34m(\u001b[0m\u001b[0mself\u001b[0m\u001b[0;34m,\u001b[0m \u001b[0mname\u001b[0m\u001b[0;34m)\u001b[0m\u001b[0;34m\u001b[0m\u001b[0;34m\u001b[0m\u001b[0m\n\u001b[0m",
      "\u001b[0;31mAttributeError\u001b[0m: 'DataFrame' object has no attribute 'cluster'"
     ]
    }
   ],
   "source": [
    "adjusted_mutual_info_score(tessa.cluster, final_clusters)"
   ]
  },
  {
   "cell_type": "code",
   "execution_count": 73,
   "metadata": {},
   "outputs": [
    {
     "data": {
      "text/html": [
       "<div>\n",
       "<style scoped>\n",
       "    .dataframe tbody tr th:only-of-type {\n",
       "        vertical-align: middle;\n",
       "    }\n",
       "\n",
       "    .dataframe tbody tr th {\n",
       "        vertical-align: top;\n",
       "    }\n",
       "\n",
       "    .dataframe thead th {\n",
       "        text-align: right;\n",
       "    }\n",
       "</style>\n",
       "<table border=\"1\" class=\"dataframe\">\n",
       "  <thead>\n",
       "    <tr style=\"text-align: right;\">\n",
       "      <th></th>\n",
       "      <th>index</th>\n",
       "      <th>0</th>\n",
       "      <th>1</th>\n",
       "      <th>2</th>\n",
       "      <th>3</th>\n",
       "      <th>4</th>\n",
       "      <th>5</th>\n",
       "      <th>6</th>\n",
       "      <th>7</th>\n",
       "      <th>8</th>\n",
       "      <th>9</th>\n",
       "      <th>10</th>\n",
       "      <th>11</th>\n",
       "      <th>12</th>\n",
       "    </tr>\n",
       "  </thead>\n",
       "  <tbody>\n",
       "    <tr>\n",
       "      <th>0</th>\n",
       "      <td>3</td>\n",
       "      <td>8.076440e-05</td>\n",
       "      <td>4.179418e-59</td>\n",
       "      <td>6.308554e-17</td>\n",
       "      <td>1.320107e-05</td>\n",
       "      <td>1.452946e-07</td>\n",
       "      <td>1.936851e-39</td>\n",
       "      <td>3.234704e-15</td>\n",
       "      <td>1.228058e-30</td>\n",
       "      <td>9.998983e-01</td>\n",
       "      <td>2.469674e-32</td>\n",
       "      <td>6.268836e-08</td>\n",
       "      <td>7.534793e-06</td>\n",
       "      <td>3.693267e-18</td>\n",
       "    </tr>\n",
       "    <tr>\n",
       "      <th>1</th>\n",
       "      <td>5</td>\n",
       "      <td>9.277305e-23</td>\n",
       "      <td>8.598547e-33</td>\n",
       "      <td>2.548949e-03</td>\n",
       "      <td>1.176742e-60</td>\n",
       "      <td>4.844207e-45</td>\n",
       "      <td>9.195625e-51</td>\n",
       "      <td>4.325127e-04</td>\n",
       "      <td>1.259711e-12</td>\n",
       "      <td>6.706237e-11</td>\n",
       "      <td>9.048543e-52</td>\n",
       "      <td>2.428778e-09</td>\n",
       "      <td>9.970185e-01</td>\n",
       "      <td>1.434622e-27</td>\n",
       "    </tr>\n",
       "    <tr>\n",
       "      <th>2</th>\n",
       "      <td>6</td>\n",
       "      <td>1.641045e-02</td>\n",
       "      <td>4.057004e-43</td>\n",
       "      <td>1.897681e-08</td>\n",
       "      <td>7.170759e-04</td>\n",
       "      <td>9.460896e-13</td>\n",
       "      <td>5.527933e-34</td>\n",
       "      <td>1.552001e-10</td>\n",
       "      <td>7.352431e-20</td>\n",
       "      <td>2.877608e-01</td>\n",
       "      <td>3.250729e-32</td>\n",
       "      <td>6.943965e-01</td>\n",
       "      <td>7.151432e-04</td>\n",
       "      <td>7.464948e-09</td>\n",
       "    </tr>\n",
       "    <tr>\n",
       "      <th>3</th>\n",
       "      <td>8</td>\n",
       "      <td>9.178506e-01</td>\n",
       "      <td>4.227935e-23</td>\n",
       "      <td>9.004489e-09</td>\n",
       "      <td>1.075262e-22</td>\n",
       "      <td>1.419871e-29</td>\n",
       "      <td>1.045420e-18</td>\n",
       "      <td>1.680094e-02</td>\n",
       "      <td>8.638422e-09</td>\n",
       "      <td>4.061109e-13</td>\n",
       "      <td>2.254712e-27</td>\n",
       "      <td>2.423119e-04</td>\n",
       "      <td>6.968643e-08</td>\n",
       "      <td>6.510607e-02</td>\n",
       "    </tr>\n",
       "    <tr>\n",
       "      <th>4</th>\n",
       "      <td>9</td>\n",
       "      <td>1.430403e-05</td>\n",
       "      <td>8.242189e-28</td>\n",
       "      <td>3.386207e-12</td>\n",
       "      <td>1.215124e-05</td>\n",
       "      <td>3.930623e-39</td>\n",
       "      <td>2.210422e-02</td>\n",
       "      <td>2.472439e-07</td>\n",
       "      <td>1.933682e-11</td>\n",
       "      <td>3.256517e-15</td>\n",
       "      <td>7.693659e-15</td>\n",
       "      <td>9.739391e-01</td>\n",
       "      <td>1.536136e-12</td>\n",
       "      <td>3.929936e-03</td>\n",
       "    </tr>\n",
       "    <tr>\n",
       "      <th>...</th>\n",
       "      <td>...</td>\n",
       "      <td>...</td>\n",
       "      <td>...</td>\n",
       "      <td>...</td>\n",
       "      <td>...</td>\n",
       "      <td>...</td>\n",
       "      <td>...</td>\n",
       "      <td>...</td>\n",
       "      <td>...</td>\n",
       "      <td>...</td>\n",
       "      <td>...</td>\n",
       "      <td>...</td>\n",
       "      <td>...</td>\n",
       "      <td>...</td>\n",
       "    </tr>\n",
       "    <tr>\n",
       "      <th>6026</th>\n",
       "      <td>14158</td>\n",
       "      <td>4.424455e-25</td>\n",
       "      <td>5.236326e-21</td>\n",
       "      <td>9.914155e-01</td>\n",
       "      <td>1.491964e-33</td>\n",
       "      <td>3.873992e-49</td>\n",
       "      <td>6.345988e-03</td>\n",
       "      <td>2.209124e-03</td>\n",
       "      <td>1.251401e-05</td>\n",
       "      <td>8.606113e-32</td>\n",
       "      <td>9.631407e-13</td>\n",
       "      <td>4.386615e-07</td>\n",
       "      <td>1.641728e-05</td>\n",
       "      <td>2.946113e-08</td>\n",
       "    </tr>\n",
       "    <tr>\n",
       "      <th>6027</th>\n",
       "      <td>14161</td>\n",
       "      <td>5.422487e-25</td>\n",
       "      <td>2.506049e-42</td>\n",
       "      <td>7.952538e-06</td>\n",
       "      <td>2.295693e-43</td>\n",
       "      <td>4.134830e-32</td>\n",
       "      <td>1.075243e-06</td>\n",
       "      <td>9.225646e-08</td>\n",
       "      <td>3.794800e-18</td>\n",
       "      <td>1.241957e-08</td>\n",
       "      <td>1.216366e-05</td>\n",
       "      <td>2.335436e-09</td>\n",
       "      <td>9.999787e-01</td>\n",
       "      <td>8.582674e-19</td>\n",
       "    </tr>\n",
       "    <tr>\n",
       "      <th>6028</th>\n",
       "      <td>14163</td>\n",
       "      <td>3.772663e-26</td>\n",
       "      <td>9.800692e-19</td>\n",
       "      <td>1.021424e-04</td>\n",
       "      <td>8.883611e-65</td>\n",
       "      <td>4.611834e-60</td>\n",
       "      <td>3.636259e-38</td>\n",
       "      <td>9.998854e-01</td>\n",
       "      <td>1.223568e-05</td>\n",
       "      <td>6.049457e-23</td>\n",
       "      <td>1.226878e-48</td>\n",
       "      <td>1.281541e-10</td>\n",
       "      <td>2.683560e-07</td>\n",
       "      <td>1.456903e-37</td>\n",
       "    </tr>\n",
       "    <tr>\n",
       "      <th>6029</th>\n",
       "      <td>14166</td>\n",
       "      <td>2.801231e-08</td>\n",
       "      <td>4.964374e-60</td>\n",
       "      <td>2.457363e-15</td>\n",
       "      <td>3.024831e-06</td>\n",
       "      <td>1.820337e-08</td>\n",
       "      <td>1.573206e-54</td>\n",
       "      <td>1.047037e-16</td>\n",
       "      <td>2.243402e-31</td>\n",
       "      <td>9.999950e-01</td>\n",
       "      <td>3.036060e-47</td>\n",
       "      <td>1.654529e-08</td>\n",
       "      <td>1.946438e-06</td>\n",
       "      <td>4.259044e-20</td>\n",
       "    </tr>\n",
       "    <tr>\n",
       "      <th>6030</th>\n",
       "      <td>14168</td>\n",
       "      <td>6.830279e-42</td>\n",
       "      <td>1.456230e-44</td>\n",
       "      <td>2.065440e-07</td>\n",
       "      <td>7.465253e-63</td>\n",
       "      <td>1.340937e-37</td>\n",
       "      <td>1.228242e-25</td>\n",
       "      <td>3.414093e-08</td>\n",
       "      <td>1.524003e-20</td>\n",
       "      <td>1.090099e-12</td>\n",
       "      <td>3.339745e-22</td>\n",
       "      <td>1.309784e-15</td>\n",
       "      <td>9.999998e-01</td>\n",
       "      <td>5.612428e-51</td>\n",
       "    </tr>\n",
       "  </tbody>\n",
       "</table>\n",
       "<p>6031 rows × 14 columns</p>\n",
       "</div>"
      ],
      "text/plain": [
       "      index             0             1             2             3  \\\n",
       "0         3  8.076440e-05  4.179418e-59  6.308554e-17  1.320107e-05   \n",
       "1         5  9.277305e-23  8.598547e-33  2.548949e-03  1.176742e-60   \n",
       "2         6  1.641045e-02  4.057004e-43  1.897681e-08  7.170759e-04   \n",
       "3         8  9.178506e-01  4.227935e-23  9.004489e-09  1.075262e-22   \n",
       "4         9  1.430403e-05  8.242189e-28  3.386207e-12  1.215124e-05   \n",
       "...     ...           ...           ...           ...           ...   \n",
       "6026  14158  4.424455e-25  5.236326e-21  9.914155e-01  1.491964e-33   \n",
       "6027  14161  5.422487e-25  2.506049e-42  7.952538e-06  2.295693e-43   \n",
       "6028  14163  3.772663e-26  9.800692e-19  1.021424e-04  8.883611e-65   \n",
       "6029  14166  2.801231e-08  4.964374e-60  2.457363e-15  3.024831e-06   \n",
       "6030  14168  6.830279e-42  1.456230e-44  2.065440e-07  7.465253e-63   \n",
       "\n",
       "                 4             5             6             7             8  \\\n",
       "0     1.452946e-07  1.936851e-39  3.234704e-15  1.228058e-30  9.998983e-01   \n",
       "1     4.844207e-45  9.195625e-51  4.325127e-04  1.259711e-12  6.706237e-11   \n",
       "2     9.460896e-13  5.527933e-34  1.552001e-10  7.352431e-20  2.877608e-01   \n",
       "3     1.419871e-29  1.045420e-18  1.680094e-02  8.638422e-09  4.061109e-13   \n",
       "4     3.930623e-39  2.210422e-02  2.472439e-07  1.933682e-11  3.256517e-15   \n",
       "...            ...           ...           ...           ...           ...   \n",
       "6026  3.873992e-49  6.345988e-03  2.209124e-03  1.251401e-05  8.606113e-32   \n",
       "6027  4.134830e-32  1.075243e-06  9.225646e-08  3.794800e-18  1.241957e-08   \n",
       "6028  4.611834e-60  3.636259e-38  9.998854e-01  1.223568e-05  6.049457e-23   \n",
       "6029  1.820337e-08  1.573206e-54  1.047037e-16  2.243402e-31  9.999950e-01   \n",
       "6030  1.340937e-37  1.228242e-25  3.414093e-08  1.524003e-20  1.090099e-12   \n",
       "\n",
       "                 9            10            11            12  \n",
       "0     2.469674e-32  6.268836e-08  7.534793e-06  3.693267e-18  \n",
       "1     9.048543e-52  2.428778e-09  9.970185e-01  1.434622e-27  \n",
       "2     3.250729e-32  6.943965e-01  7.151432e-04  7.464948e-09  \n",
       "3     2.254712e-27  2.423119e-04  6.968643e-08  6.510607e-02  \n",
       "4     7.693659e-15  9.739391e-01  1.536136e-12  3.929936e-03  \n",
       "...            ...           ...           ...           ...  \n",
       "6026  9.631407e-13  4.386615e-07  1.641728e-05  2.946113e-08  \n",
       "6027  1.216366e-05  2.335436e-09  9.999787e-01  8.582674e-19  \n",
       "6028  1.226878e-48  1.281541e-10  2.683560e-07  1.456903e-37  \n",
       "6029  3.036060e-47  1.654529e-08  1.946438e-06  4.259044e-20  \n",
       "6030  3.339745e-22  1.309784e-15  9.999998e-01  5.612428e-51  \n",
       "\n",
       "[6031 rows x 14 columns]"
      ]
     },
     "execution_count": 73,
     "metadata": {},
     "output_type": "execute_result"
    }
   ],
   "source": [
    "tessa"
   ]
  },
  {
   "cell_type": "code",
   "execution_count": null,
   "metadata": {},
   "outputs": [],
   "source": []
  }
 ],
 "metadata": {
  "kernelspec": {
   "display_name": "venv",
   "language": "python",
   "name": "venv"
  },
  "language_info": {
   "codemirror_mode": {
    "name": "ipython",
    "version": 3
   },
   "file_extension": ".py",
   "mimetype": "text/x-python",
   "name": "python",
   "nbconvert_exporter": "python",
   "pygments_lexer": "ipython3",
   "version": "3.8.0"
  }
 },
 "nbformat": 4,
 "nbformat_minor": 5
}

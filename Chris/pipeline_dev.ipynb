{
 "cells": [
  {
   "cell_type": "markdown",
   "id": "3f69f860-0864-4572-8ec0-c879972a64d3",
   "metadata": {},
   "source": [
    "#### In this notebook we develop a pipeline for hyperparameter tuning for UMAP + HDBSCAN.\n",
    "\n",
    "We need to tune the following params:\n",
    "\n",
    "UMAP:\n",
    "- n_neighbors: [2, 0.25*len(df)]\n",
    "- min_dist: [0, 0.99]\n",
    "- n_components: [2, n_features]\n",
    "- metric: [9 metrics for binary data]\n",
    "\n",
    "HDBSCAN:\n",
    "- min_cluster_size:\n",
    "- min_samples: \n",
    "Note: If you wish to explore different min_cluster_size settings with a fixed min_samples value, especially for larger dataset sizes, you can cache the hard computation, and recompute only the relatively cheap flat cluster extraction using the memory parameter, which makes use of joblib\n",
    "- cluster_selection_epsilon: ?\n",
    "[- alpha]X\n",
    "[- leaf clustering, not EOM]\n",
    "\n",
    "\n",
    "##### Here we use the DBCV score, but could try others?\n"
   ]
  },
  {
   "cell_type": "code",
   "execution_count": 1,
   "id": "55db4eab-d151-4738-a7f3-f3ad0674dacc",
   "metadata": {},
   "outputs": [],
   "source": [
    "RANDOM_SEED = 42"
   ]
  },
  {
   "cell_type": "code",
   "execution_count": 10,
   "id": "9c8599b5-5061-43d1-966e-b01b39338a30",
   "metadata": {},
   "outputs": [],
   "source": [
    "from utilities import load_symptom_data\n",
    "import hdbscan\n",
    "import numpy as np\n",
    "import pandas as pd\n",
    "import time\n",
    "import wandb\n",
    "\n",
    "from sklearn.model_selection import RandomizedSearchCV, GridSearchCV"
   ]
  },
  {
   "cell_type": "code",
   "execution_count": 3,
   "id": "2b3aedf4-1c61-4930-b872-2e1e9ade306f",
   "metadata": {},
   "outputs": [],
   "source": [
    "df = load_symptom_data('../data/cleaned_data_SYMPTOMS_9_13_23.csv')"
   ]
  },
  {
   "cell_type": "code",
   "execution_count": 4,
   "id": "0bf350e2-bb04-423c-84a7-6d34dd9f0893",
   "metadata": {},
   "outputs": [],
   "source": [
    "n_iter = 2"
   ]
  },
  {
   "cell_type": "code",
   "execution_count": 5,
   "id": "d8b02071-a4a9-4462-9346-c8db8bcb801b",
   "metadata": {},
   "outputs": [],
   "source": [
    "# random_search = RandomizedSearchCV(\n",
    "#     hdb,\n",
    "#     param_distributions=hyper_params,\n",
    "#     n_iter=n_iter,\n",
    "#     scoring=clustering_score,\n",
    "#     random_state=RANDOM_SEED\n",
    "# )\n",
    "\n",
    "# grid_search = GridSearchCV(\n",
    "#     hdb,\n",
    "#     param_grid=hyper_params,\n",
    "#     scoring=clustering_score\n",
    "# )"
   ]
  },
  {
   "cell_type": "code",
   "execution_count": 6,
   "id": "f42df7f7-7fb5-496e-8e9d-89d2234113cd",
   "metadata": {},
   "outputs": [],
   "source": [
    "# start_time = time.time()\n",
    "# random_search.fit(df)\n",
    "# elapsed_time = time.time() - start_time\n",
    "# print(\"%d fits took %.1f minutes\" % (n_iter, elapsed_time/60))"
   ]
  },
  {
   "cell_type": "code",
   "execution_count": 7,
   "id": "cb80f053-8cd8-42db-a28a-7854e6a95ea3",
   "metadata": {},
   "outputs": [],
   "source": [
    "# import itertools\n",
    "\n",
    "# hyper_params = {\n",
    "#     'penalty': ['l1', 'l2'],\n",
    "#     'class_weight': [None, 'balanced'],\n",
    "#     'max_iter': [500, 1000, 30]\n",
    "# }\n",
    "\n",
    "\n",
    "# a = hyper_params.values()\n",
    "# combinations = list(itertools.product(*a))"
   ]
  },
  {
   "cell_type": "code",
   "execution_count": null,
   "id": "cf35c015-8512-40b4-b56c-e6b51b6b0da0",
   "metadata": {},
   "outputs": [],
   "source": []
  },
  {
   "cell_type": "code",
   "execution_count": null,
   "id": "9dcdfc14-3ad0-4cf4-965a-ff6309fed4d9",
   "metadata": {},
   "outputs": [],
   "source": []
  },
  {
   "cell_type": "markdown",
   "id": "6cf1b003-b34f-433a-a901-2075a16c551c",
   "metadata": {},
   "source": [
    "##### Trying different approach to rescue grid search!\n",
    "\n",
    "- To get GridSearchCV to fit and return the score for the full dataset, we need to use a predefined split with one copy of the data fro training and another copy for validation.\n",
    "- We need to create our own scoring function with the correct signature (i.e. no need for y_true), as below.\n",
    "- Need to make sure refit=False\n",
    "- Need to make sure that random state is the same for each split ???\n",
    "\n",
    "#### The following is basically working, but needs converting the hdbscan and different scoring metrics...\n",
    "#### Also needs porting to scikit-optimize...Note: you need to specifiy the search space differently. \n",
    "\n",
    "#### And we need to add pipeline that includes a dim reduction algo.\n",
    "\n",
    "### Necessary to downgrade numpy to <1.24 because skopt uses np.int :/"
   ]
  },
  {
   "cell_type": "code",
   "execution_count": 8,
   "id": "4fff5d24-7ef8-4767-983d-911aad5f61e6",
   "metadata": {},
   "outputs": [],
   "source": [
    "from sklearn.cluster import KMeans\n",
    "from sklearn.metrics import silhouette_score\n",
    "from sklearn.model_selection import PredefinedSplit\n",
    "from sklearn.pipeline import Pipeline\n",
    "from sklearn.decomposition import PCA\n",
    "\n",
    "\n",
    "\n",
    "from skopt import BayesSearchCV\n",
    "from skopt.space import Real, Categorical, Integer"
   ]
  },
  {
   "cell_type": "code",
   "execution_count": 12,
   "id": "b576aaeb-c715-4bbc-9134-a545354738aa",
   "metadata": {},
   "outputs": [
    {
     "name": "stderr",
     "output_type": "stream",
     "text": [
      "\u001b[34m\u001b[1mwandb\u001b[0m: Currently logged in as: \u001b[33mrusty-chris\u001b[0m. Use \u001b[1m`wandb login --relogin`\u001b[0m to force relogin\n"
     ]
    },
    {
     "data": {
      "text/html": [
       "Tracking run with wandb version 0.15.11"
      ],
      "text/plain": [
       "<IPython.core.display.HTML object>"
      ]
     },
     "metadata": {},
     "output_type": "display_data"
    },
    {
     "data": {
      "text/html": [
       "Run data is saved locally in <code>/home/expert/Documents/contracting/LCC/PLR/Chris/wandb/run-20230929_105423-46xvyfw1</code>"
      ],
      "text/plain": [
       "<IPython.core.display.HTML object>"
      ]
     },
     "metadata": {},
     "output_type": "display_data"
    },
    {
     "data": {
      "text/html": [
       "Syncing run <strong><a href='https://wandb.ai/rusty-chris/test_clulster/runs/46xvyfw1' target=\"_blank\">run1</a></strong> to <a href='https://wandb.ai/rusty-chris/test_clulster' target=\"_blank\">Weights & Biases</a> (<a href='https://wandb.me/run' target=\"_blank\">docs</a>)<br/>"
      ],
      "text/plain": [
       "<IPython.core.display.HTML object>"
      ]
     },
     "metadata": {},
     "output_type": "display_data"
    },
    {
     "data": {
      "text/html": [
       " View project at <a href='https://wandb.ai/rusty-chris/test_clulster' target=\"_blank\">https://wandb.ai/rusty-chris/test_clulster</a>"
      ],
      "text/plain": [
       "<IPython.core.display.HTML object>"
      ]
     },
     "metadata": {},
     "output_type": "display_data"
    },
    {
     "data": {
      "text/html": [
       " View run at <a href='https://wandb.ai/rusty-chris/test_clulster/runs/46xvyfw1' target=\"_blank\">https://wandb.ai/rusty-chris/test_clulster/runs/46xvyfw1</a>"
      ],
      "text/plain": [
       "<IPython.core.display.HTML object>"
      ]
     },
     "metadata": {},
     "output_type": "display_data"
    }
   ],
   "source": [
    "run = wandb.init(\n",
    "        name='run1',\n",
    "        project='test_clulster',\n",
    "        config={}\n",
    "    )"
   ]
  },
  {
   "cell_type": "code",
   "execution_count": null,
   "id": "1fd02219-a516-4e22-b1d5-c0433a81ce24",
   "metadata": {},
   "outputs": [],
   "source": []
  },
  {
   "cell_type": "code",
   "execution_count": 13,
   "id": "2e6e9b1b-4be2-4057-a26a-84039a75f3ba",
   "metadata": {},
   "outputs": [],
   "source": [
    "ddf = pd.concat([df, df])"
   ]
  },
  {
   "cell_type": "code",
   "execution_count": 14,
   "id": "fe429f92-6f36-4d55-afa4-bb5efa1956e4",
   "metadata": {},
   "outputs": [],
   "source": [
    "split = PredefinedSplit([0 if i < len(df) else 1 for i in range(len(ddf.index))])"
   ]
  },
  {
   "cell_type": "code",
   "execution_count": 15,
   "id": "cc746d52-a04f-41ec-b2f1-2469e1fa3efa",
   "metadata": {},
   "outputs": [],
   "source": [
    "test_id = np.array([0 if i < len(df) else 1 for i in ddf.index])"
   ]
  },
  {
   "cell_type": "code",
   "execution_count": 16,
   "id": "231b984a-9123-404d-9e43-605d58a36ee6",
   "metadata": {},
   "outputs": [],
   "source": [
    "pca = PCA()"
   ]
  },
  {
   "cell_type": "code",
   "execution_count": 17,
   "id": "c0d6ded5-e6e7-4fef-a729-3feb6e5d03da",
   "metadata": {},
   "outputs": [],
   "source": [
    "hdb = hdbscan.HDBSCAN(gen_min_span_tree=True)"
   ]
  },
  {
   "cell_type": "code",
   "execution_count": 18,
   "id": "7a40c2f0-8de3-476e-9b04-1cb2d7863368",
   "metadata": {},
   "outputs": [],
   "source": [
    "# def cv_score(model, X):\n",
    "#     model.fit(X)\n",
    "#     labels = model.labels_\n",
    "#     num_labels = len(set(labels))\n",
    "#     if num_labels == 1:\n",
    "#         raise ValueError('number of labels must be greater than 2')\n",
    "#     else:\n",
    "#         return silhouette_score(X, labels)\n",
    "\n",
    "def cv_score(model, X):\n",
    "    model.fit(X)\n",
    "    labels = model.steps[1][1].labels_\n",
    "    return hdbscan.validity.validity_index(X, labels)"
   ]
  },
  {
   "cell_type": "code",
   "execution_count": 19,
   "id": "cc0d0abf-e3e2-432f-9343-4f6ab6e0a685",
   "metadata": {},
   "outputs": [],
   "source": [
    "# hyper_params = {\"n_clusters\": [2, 5, 10, 15, 20, 30]}\n",
    "\n",
    "# hyper_params = {\n",
    "#     'min_samples': [10,50],\n",
    "#     'min_cluster_size':[100],  \n",
    "#     'cluster_selection_method' : ['eom'],\n",
    "#     'metric' : ['manhattan'] \n",
    "# }\n",
    "\n",
    "# hyper_params = {\n",
    "#     'min_samples': Integer(10,50),\n",
    "#     'min_cluster_size':Integer(100, 101),  \n",
    "#     'cluster_selection_method' : Categorical(['eom']),\n",
    "#     'metric' : Categorical(['manhattan'])\n",
    "# }\n",
    "\n",
    "hyper_params = {\n",
    "    'pca__n_components': [5, 15],#, 30, 45, 60],\n",
    "    'hdbscan__min_samples': Integer(10,200),\n",
    "    'hdbscan__min_cluster_size':Integer(100, 600),  \n",
    "    'hdbscan__cluster_selection_method' : Categorical(['eom', 'leaf']),\n",
    "    'hdbscan__metric' : Categorical(['euclidean', 'manhattan'])\n",
    "}\n",
    "\n",
    "# hyper_params = {\n",
    "#     'min_samples': [10,30,50,60,100],\n",
    "#     'min_cluster_size':[100,200,300,400,500,600],  \n",
    "#     'cluster_selection_method' : ['eom','leaf'],\n",
    "#     'metric' : ['euclidean','manhattan'] \n",
    "# }"
   ]
  },
  {
   "cell_type": "code",
   "execution_count": 20,
   "id": "07247f54-a057-440c-80e0-259f5fb1e99b",
   "metadata": {},
   "outputs": [],
   "source": [
    "pipe = Pipeline(steps=[('pca', pca), ('hdbscan', hdb)])"
   ]
  },
  {
   "cell_type": "code",
   "execution_count": 22,
   "id": "ea5f6e32-6307-47ee-85c0-123916e6b9a1",
   "metadata": {},
   "outputs": [],
   "source": [
    "# tunning = GridSearchCV(\n",
    "#    # estimator=KMeans(n_init='auto', random_state=42),\n",
    "#    estimator=hdbscan.HDBSCAN(gen_min_span_tree=True),\n",
    "#    param_grid=hyper_params,\n",
    "#    scoring=cv_score,\n",
    "#    cv=split,\n",
    "#    n_jobs=-1,\n",
    "#    refit=False,\n",
    "#    return_train_score=True\n",
    "# )\n",
    "\n",
    "tunning = BayesSearchCV(\n",
    "   # estimator=KMeans(n_init='auto', random_state=42),\n",
    "   estimator=pipe,\n",
    "   search_spaces=hyper_params,\n",
    "   scoring=cv_score,\n",
    "   cv=split,\n",
    "   n_jobs=-1,\n",
    "   refit=False,\n",
    "   return_train_score=True,\n",
    "   n_iter=2\n",
    ")\n",
    "\n",
    "\n"
   ]
  },
  {
   "cell_type": "code",
   "execution_count": 35,
   "id": "60dedc78-362c-4012-8fc8-f3e2d22947d4",
   "metadata": {},
   "outputs": [],
   "source": [
    "# TODO: add wandb logging. \n",
    "# Include labels_ and params and save to disk every X iterations... \n",
    "def wandb_callback(result):\n",
    "    print(len(result['x_iters']))\n",
    "    print(tunning.best_score_)\n",
    "    print(tunning.cv_results_)\n",
    "    "
   ]
  },
  {
   "cell_type": "code",
   "execution_count": null,
   "id": "5270db03-1b3d-4888-8e35-ce6049c99ee9",
   "metadata": {},
   "outputs": [],
   "source": []
  },
  {
   "cell_type": "code",
   "execution_count": 33,
   "id": "a9acb40b-3956-46e0-904b-37d745449e5d",
   "metadata": {},
   "outputs": [
    {
     "data": {
      "text/html": [
       "<style>#sk-container-id-3 {color: black;}#sk-container-id-3 pre{padding: 0;}#sk-container-id-3 div.sk-toggleable {background-color: white;}#sk-container-id-3 label.sk-toggleable__label {cursor: pointer;display: block;width: 100%;margin-bottom: 0;padding: 0.3em;box-sizing: border-box;text-align: center;}#sk-container-id-3 label.sk-toggleable__label-arrow:before {content: \"▸\";float: left;margin-right: 0.25em;color: #696969;}#sk-container-id-3 label.sk-toggleable__label-arrow:hover:before {color: black;}#sk-container-id-3 div.sk-estimator:hover label.sk-toggleable__label-arrow:before {color: black;}#sk-container-id-3 div.sk-toggleable__content {max-height: 0;max-width: 0;overflow: hidden;text-align: left;background-color: #f0f8ff;}#sk-container-id-3 div.sk-toggleable__content pre {margin: 0.2em;color: black;border-radius: 0.25em;background-color: #f0f8ff;}#sk-container-id-3 input.sk-toggleable__control:checked~div.sk-toggleable__content {max-height: 200px;max-width: 100%;overflow: auto;}#sk-container-id-3 input.sk-toggleable__control:checked~label.sk-toggleable__label-arrow:before {content: \"▾\";}#sk-container-id-3 div.sk-estimator input.sk-toggleable__control:checked~label.sk-toggleable__label {background-color: #d4ebff;}#sk-container-id-3 div.sk-label input.sk-toggleable__control:checked~label.sk-toggleable__label {background-color: #d4ebff;}#sk-container-id-3 input.sk-hidden--visually {border: 0;clip: rect(1px 1px 1px 1px);clip: rect(1px, 1px, 1px, 1px);height: 1px;margin: -1px;overflow: hidden;padding: 0;position: absolute;width: 1px;}#sk-container-id-3 div.sk-estimator {font-family: monospace;background-color: #f0f8ff;border: 1px dotted black;border-radius: 0.25em;box-sizing: border-box;margin-bottom: 0.5em;}#sk-container-id-3 div.sk-estimator:hover {background-color: #d4ebff;}#sk-container-id-3 div.sk-parallel-item::after {content: \"\";width: 100%;border-bottom: 1px solid gray;flex-grow: 1;}#sk-container-id-3 div.sk-label:hover label.sk-toggleable__label {background-color: #d4ebff;}#sk-container-id-3 div.sk-serial::before {content: \"\";position: absolute;border-left: 1px solid gray;box-sizing: border-box;top: 0;bottom: 0;left: 50%;z-index: 0;}#sk-container-id-3 div.sk-serial {display: flex;flex-direction: column;align-items: center;background-color: white;padding-right: 0.2em;padding-left: 0.2em;position: relative;}#sk-container-id-3 div.sk-item {position: relative;z-index: 1;}#sk-container-id-3 div.sk-parallel {display: flex;align-items: stretch;justify-content: center;background-color: white;position: relative;}#sk-container-id-3 div.sk-item::before, #sk-container-id-3 div.sk-parallel-item::before {content: \"\";position: absolute;border-left: 1px solid gray;box-sizing: border-box;top: 0;bottom: 0;left: 50%;z-index: -1;}#sk-container-id-3 div.sk-parallel-item {display: flex;flex-direction: column;z-index: 1;position: relative;background-color: white;}#sk-container-id-3 div.sk-parallel-item:first-child::after {align-self: flex-end;width: 50%;}#sk-container-id-3 div.sk-parallel-item:last-child::after {align-self: flex-start;width: 50%;}#sk-container-id-3 div.sk-parallel-item:only-child::after {width: 0;}#sk-container-id-3 div.sk-dashed-wrapped {border: 1px dashed gray;margin: 0 0.4em 0.5em 0.4em;box-sizing: border-box;padding-bottom: 0.4em;background-color: white;}#sk-container-id-3 div.sk-label label {font-family: monospace;font-weight: bold;display: inline-block;line-height: 1.2em;}#sk-container-id-3 div.sk-label-container {text-align: center;}#sk-container-id-3 div.sk-container {/* jupyter's `normalize.less` sets `[hidden] { display: none; }` but bootstrap.min.css set `[hidden] { display: none !important; }` so we also need the `!important` here to be able to override the default hidden behavior on the sphinx rendered scikit-learn.org. See: https://github.com/scikit-learn/scikit-learn/issues/21755 */display: inline-block !important;position: relative;}#sk-container-id-3 div.sk-text-repr-fallback {display: none;}</style><div id=\"sk-container-id-3\" class=\"sk-top-container\"><div class=\"sk-text-repr-fallback\"><pre>HDBSCAN(gen_min_span_tree=True)</pre><b>In a Jupyter environment, please rerun this cell to show the HTML representation or trust the notebook. <br />On GitHub, the HTML representation is unable to render, please try loading this page with nbviewer.org.</b></div><div class=\"sk-container\" hidden><div class=\"sk-item\"><div class=\"sk-estimator sk-toggleable\"><input class=\"sk-toggleable__control sk-hidden--visually\" id=\"sk-estimator-id-3\" type=\"checkbox\" checked><label for=\"sk-estimator-id-3\" class=\"sk-toggleable__label sk-toggleable__label-arrow\">HDBSCAN</label><div class=\"sk-toggleable__content\"><pre>HDBSCAN(gen_min_span_tree=True)</pre></div></div></div></div></div>"
      ],
      "text/plain": [
       "HDBSCAN(gen_min_span_tree=True)"
      ]
     },
     "execution_count": 33,
     "metadata": {},
     "output_type": "execute_result"
    }
   ],
   "source": [
    "pipe.steps[1][1]"
   ]
  },
  {
   "cell_type": "code",
   "execution_count": 34,
   "id": "fce8dae4-9b84-41e0-9088-89438a143f56",
   "metadata": {},
   "outputs": [
    {
     "name": "stdout",
     "output_type": "stream",
     "text": [
      "1\n",
      "0.0\n",
      "{'mean_fit_time': array([0.51079166, 0.46101153]), 'std_fit_time': array([0.00151241, 0.00465   ]), 'mean_score_time': array([0.49981916, 0.44877553]), 'std_score_time': array([0.00352442, 0.00155067]), 'param_hdbscan__cluster_selection_method': masked_array(data=['eom', 'eom'],\n",
      "             mask=[False, False],\n",
      "       fill_value='?',\n",
      "            dtype=object), 'param_hdbscan__metric': masked_array(data=['euclidean', 'manhattan'],\n",
      "             mask=[False, False],\n",
      "       fill_value='?',\n",
      "            dtype=object), 'param_hdbscan__min_cluster_size': masked_array(data=[168, 293],\n",
      "             mask=[False, False],\n",
      "       fill_value='?',\n",
      "            dtype=object), 'param_hdbscan__min_samples': masked_array(data=[159, 99],\n",
      "             mask=[False, False],\n",
      "       fill_value='?',\n",
      "            dtype=object), 'param_pca__n_components': masked_array(data=[10, 6],\n",
      "             mask=[False, False],\n",
      "       fill_value='?',\n",
      "            dtype=object), 'params': [OrderedDict([('hdbscan__cluster_selection_method', 'eom'), ('hdbscan__metric', 'euclidean'), ('hdbscan__min_cluster_size', 168), ('hdbscan__min_samples', 159), ('pca__n_components', 10)]), OrderedDict([('hdbscan__cluster_selection_method', 'eom'), ('hdbscan__metric', 'manhattan'), ('hdbscan__min_cluster_size', 293), ('hdbscan__min_samples', 99), ('pca__n_components', 6)])], 'split0_test_score': array([0., 0.]), 'split1_test_score': array([0., 0.]), 'mean_test_score': array([0., 0.]), 'std_test_score': array([0., 0.]), 'rank_test_score': array([1, 1], dtype=int32), 'split0_train_score': array([0., 0.]), 'split1_train_score': array([0., 0.]), 'mean_train_score': array([0., 0.]), 'std_train_score': array([0., 0.]), 'rank_train_score': array([1, 1])}\n",
      "2\n",
      "0.0\n",
      "{'mean_fit_time': array([0.51079166, 0.46101153]), 'std_fit_time': array([0.00151241, 0.00465   ]), 'mean_score_time': array([0.49981916, 0.44877553]), 'std_score_time': array([0.00352442, 0.00155067]), 'param_hdbscan__cluster_selection_method': masked_array(data=['eom', 'eom'],\n",
      "             mask=[False, False],\n",
      "       fill_value='?',\n",
      "            dtype=object), 'param_hdbscan__metric': masked_array(data=['euclidean', 'manhattan'],\n",
      "             mask=[False, False],\n",
      "       fill_value='?',\n",
      "            dtype=object), 'param_hdbscan__min_cluster_size': masked_array(data=[168, 293],\n",
      "             mask=[False, False],\n",
      "       fill_value='?',\n",
      "            dtype=object), 'param_hdbscan__min_samples': masked_array(data=[159, 99],\n",
      "             mask=[False, False],\n",
      "       fill_value='?',\n",
      "            dtype=object), 'param_pca__n_components': masked_array(data=[10, 6],\n",
      "             mask=[False, False],\n",
      "       fill_value='?',\n",
      "            dtype=object), 'params': [OrderedDict([('hdbscan__cluster_selection_method', 'eom'), ('hdbscan__metric', 'euclidean'), ('hdbscan__min_cluster_size', 168), ('hdbscan__min_samples', 159), ('pca__n_components', 10)]), OrderedDict([('hdbscan__cluster_selection_method', 'eom'), ('hdbscan__metric', 'manhattan'), ('hdbscan__min_cluster_size', 293), ('hdbscan__min_samples', 99), ('pca__n_components', 6)])], 'split0_test_score': array([0., 0.]), 'split1_test_score': array([0., 0.]), 'mean_test_score': array([0., 0.]), 'std_test_score': array([0., 0.]), 'rank_test_score': array([1, 1], dtype=int32), 'split0_train_score': array([0., 0.]), 'split1_train_score': array([0., 0.]), 'mean_train_score': array([0., 0.]), 'std_train_score': array([0., 0.]), 'rank_train_score': array([1, 1])}\n",
      "3.4733595848083496\n"
     ]
    }
   ],
   "source": [
    "start_time = time.time()\n",
    "tunning.fit(ddf.to_numpy(), callback=wandb_callback)\n",
    "elapsed_time = time.time() - start_time\n",
    "print(elapsed_time)"
   ]
  },
  {
   "cell_type": "code",
   "execution_count": 25,
   "id": "bf152e58-1187-4c62-a5f3-d234a0488b09",
   "metadata": {},
   "outputs": [
    {
     "data": {
      "text/plain": [
       "10"
      ]
     },
     "execution_count": 25,
     "metadata": {},
     "output_type": "execute_result"
    }
   ],
   "source": [
    "tunning.total_iterations"
   ]
  },
  {
   "cell_type": "code",
   "execution_count": null,
   "id": "a135c56f-4ff6-4cf2-8865-6df8390e326f",
   "metadata": {},
   "outputs": [],
   "source": []
  },
  {
   "cell_type": "code",
   "execution_count": 26,
   "id": "8df61049-f59b-48c4-b869-6c2355dc024d",
   "metadata": {},
   "outputs": [
    {
     "data": {
      "text/plain": [
       "{'mean_fit_time': array([0.43136942, 0.64241326]),\n",
       " 'std_fit_time': array([0.00223982, 0.00187862]),\n",
       " 'mean_score_time': array([0.42208838, 0.62923908]),\n",
       " 'std_score_time': array([0.00247312, 0.00342727]),\n",
       " 'param_hdbscan__cluster_selection_method': masked_array(data=['leaf', 'eom'],\n",
       "              mask=[False, False],\n",
       "        fill_value='?',\n",
       "             dtype=object),\n",
       " 'param_hdbscan__metric': masked_array(data=['manhattan', 'manhattan'],\n",
       "              mask=[False, False],\n",
       "        fill_value='?',\n",
       "             dtype=object),\n",
       " 'param_hdbscan__min_cluster_size': masked_array(data=[353, 349],\n",
       "              mask=[False, False],\n",
       "        fill_value='?',\n",
       "             dtype=object),\n",
       " 'param_hdbscan__min_samples': masked_array(data=[22, 150],\n",
       "              mask=[False, False],\n",
       "        fill_value='?',\n",
       "             dtype=object),\n",
       " 'param_pca__n_components': masked_array(data=[7, 9],\n",
       "              mask=[False, False],\n",
       "        fill_value='?',\n",
       "             dtype=object),\n",
       " 'params': [OrderedDict([('hdbscan__cluster_selection_method', 'leaf'),\n",
       "               ('hdbscan__metric', 'manhattan'),\n",
       "               ('hdbscan__min_cluster_size', 353),\n",
       "               ('hdbscan__min_samples', 22),\n",
       "               ('pca__n_components', 7)]),\n",
       "  OrderedDict([('hdbscan__cluster_selection_method', 'eom'),\n",
       "               ('hdbscan__metric', 'manhattan'),\n",
       "               ('hdbscan__min_cluster_size', 349),\n",
       "               ('hdbscan__min_samples', 150),\n",
       "               ('pca__n_components', 9)])],\n",
       " 'split0_test_score': array([0., 0.]),\n",
       " 'split1_test_score': array([0., 0.]),\n",
       " 'mean_test_score': array([0., 0.]),\n",
       " 'std_test_score': array([0., 0.]),\n",
       " 'rank_test_score': array([1, 1], dtype=int32),\n",
       " 'split0_train_score': array([0., 0.]),\n",
       " 'split1_train_score': array([0., 0.]),\n",
       " 'mean_train_score': array([0., 0.]),\n",
       " 'std_train_score': array([0., 0.]),\n",
       " 'rank_train_score': array([1, 1])}"
      ]
     },
     "execution_count": 26,
     "metadata": {},
     "output_type": "execute_result"
    }
   ],
   "source": [
    "tunning.cv_results_"
   ]
  },
  {
   "cell_type": "code",
   "execution_count": 220,
   "id": "d05fb19b-8301-47a4-a598-ed5fe628cd1d",
   "metadata": {},
   "outputs": [
    {
     "data": {
      "text/plain": [
       "0.0"
      ]
     },
     "execution_count": 220,
     "metadata": {},
     "output_type": "execute_result"
    }
   ],
   "source": [
    "tunning.best_score_"
   ]
  },
  {
   "cell_type": "code",
   "execution_count": 221,
   "id": "320d245a-9426-4ab1-81fb-47d01e7c0012",
   "metadata": {},
   "outputs": [
    {
     "data": {
      "text/plain": [
       "{'cluster_selection_method': 'eom',\n",
       " 'metric': 'manhattan',\n",
       " 'min_cluster_size': 100,\n",
       " 'min_samples': 10}"
      ]
     },
     "execution_count": 221,
     "metadata": {},
     "output_type": "execute_result"
    }
   ],
   "source": [
    "tunning.best_params_"
   ]
  },
  {
   "cell_type": "code",
   "execution_count": 189,
   "id": "9d5ce028-867e-4353-9549-8d0191404352",
   "metadata": {},
   "outputs": [],
   "source": [
    "# best = KMeans(n_init='auto',random_state=42, **tunning.best_params_).fit(df)\n",
    "best = KMeans(n_init='auto',random_state=42, n_clusters=2).fit(df)"
   ]
  },
  {
   "cell_type": "code",
   "execution_count": 190,
   "id": "f738283f-f35e-492d-9c66-e450f437b6cd",
   "metadata": {},
   "outputs": [
    {
     "data": {
      "text/plain": [
       "0.11371897603114886"
      ]
     },
     "execution_count": 190,
     "metadata": {},
     "output_type": "execute_result"
    }
   ],
   "source": [
    "cv_score(best, df)"
   ]
  },
  {
   "cell_type": "code",
   "execution_count": null,
   "id": "8dcd4d77-d979-4f55-b579-fe5375d9e12c",
   "metadata": {},
   "outputs": [],
   "source": []
  },
  {
   "cell_type": "code",
   "execution_count": null,
   "id": "2db97fde-aa31-4afa-b2ab-c932a1ac48f8",
   "metadata": {},
   "outputs": [],
   "source": []
  },
  {
   "cell_type": "code",
   "execution_count": null,
   "id": "d2922155-4d54-4452-9302-12a9501c7820",
   "metadata": {},
   "outputs": [],
   "source": []
  }
 ],
 "metadata": {
  "kernelspec": {
   "display_name": "venv",
   "language": "python",
   "name": "venv"
  },
  "language_info": {
   "codemirror_mode": {
    "name": "ipython",
    "version": 3
   },
   "file_extension": ".py",
   "mimetype": "text/x-python",
   "name": "python",
   "nbconvert_exporter": "python",
   "pygments_lexer": "ipython3",
   "version": "3.10.13"
  }
 },
 "nbformat": 4,
 "nbformat_minor": 5
}

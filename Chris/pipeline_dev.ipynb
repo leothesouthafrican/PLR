{
 "cells": [
  {
   "cell_type": "markdown",
   "id": "3f69f860-0864-4572-8ec0-c879972a64d3",
   "metadata": {},
   "source": [
    "#### In this notebook we develop a pipeline for hyperparameter tuning for UMAP + HDBSCAN.\n",
    "\n",
    "We need to tune the following params:\n",
    "\n",
    "UMAP:\n",
    "- n_neighbors: [2, 0.25*len(df)]\n",
    "- min_dist: [0, 0.99]\n",
    "- n_components: [2, n_features]\n",
    "- metric: [9 metrics for binary data]\n",
    "\n",
    "HDBSCAN:\n",
    "- min_cluster_size:\n",
    "- min_samples: \n",
    "Note: If you wish to explore different min_cluster_size settings with a fixed min_samples value, especially for larger dataset sizes, you can cache the hard computation, and recompute only the relatively cheap flat cluster extraction using the memory parameter, which makes use of joblib\n",
    "- cluster_selection_epsilon: ?\n",
    "[- alpha]X\n",
    "[- leaf clustering, not EOM]\n"
   ]
  },
  {
   "cell_type": "code",
   "execution_count": 24,
   "id": "55db4eab-d151-4738-a7f3-f3ad0674dacc",
   "metadata": {},
   "outputs": [],
   "source": [
    "# c=20*20*161*9*20*20*20\n",
    "# c=10*10*20*9*10*10*10\n",
    "c=5*5*5*5*5*5"
   ]
  },
  {
   "cell_type": "code",
   "execution_count": 25,
   "id": "2b3aedf4-1c61-4930-b872-2e1e9ade306f",
   "metadata": {},
   "outputs": [
    {
     "data": {
      "text/plain": [
       "15625"
      ]
     },
     "execution_count": 25,
     "metadata": {},
     "output_type": "execute_result"
    }
   ],
   "source": [
    "c"
   ]
  },
  {
   "cell_type": "code",
   "execution_count": 26,
   "id": "9c8599b5-5061-43d1-966e-b01b39338a30",
   "metadata": {},
   "outputs": [
    {
     "data": {
      "text/plain": [
       "10.850694444444445"
      ]
     },
     "execution_count": 26,
     "metadata": {},
     "output_type": "execute_result"
    }
   ],
   "source": [
    "c*10/(60*24*10)"
   ]
  },
  {
   "cell_type": "code",
   "execution_count": null,
   "id": "a8720eb6-e298-41f6-9bce-7f1762bf05f0",
   "metadata": {},
   "outputs": [],
   "source": []
  },
  {
   "cell_type": "code",
   "execution_count": 8,
   "id": "cb80f053-8cd8-42db-a28a-7854e6a95ea3",
   "metadata": {},
   "outputs": [],
   "source": [
    "import itertools\n",
    "\n",
    "hyper_params = {\n",
    "    'penalty': ['l1', 'l2'],\n",
    "    'class_weight': [None, 'balanced'],\n",
    "    'max_iter': [500, 1000, 30]\n",
    "}\n",
    "\n",
    "\n",
    "a = hyper_params.values()\n",
    "combinations = list(itertools.product(*a))"
   ]
  },
  {
   "cell_type": "code",
   "execution_count": 9,
   "id": "9a2bd162-cb41-4060-a857-1a66f6743cb2",
   "metadata": {},
   "outputs": [
    {
     "data": {
      "text/plain": [
       "12"
      ]
     },
     "execution_count": 9,
     "metadata": {},
     "output_type": "execute_result"
    }
   ],
   "source": [
    "len(combinations)"
   ]
  },
  {
   "cell_type": "code",
   "execution_count": 10,
   "id": "63a23f3b-4d8e-4854-bf10-db421a61cedb",
   "metadata": {},
   "outputs": [
    {
     "data": {
      "text/plain": [
       "12"
      ]
     },
     "execution_count": 10,
     "metadata": {},
     "output_type": "execute_result"
    }
   ],
   "source": [
    "2*2*3"
   ]
  },
  {
   "cell_type": "code",
   "execution_count": 11,
   "id": "9d31d408-2ca0-40ac-9e1a-5561e86cf15e",
   "metadata": {},
   "outputs": [
    {
     "data": {
      "text/plain": [
       "[('l1', None, 500),\n",
       " ('l1', None, 1000),\n",
       " ('l1', None, 30),\n",
       " ('l1', 'balanced', 500),\n",
       " ('l1', 'balanced', 1000),\n",
       " ('l1', 'balanced', 30),\n",
       " ('l2', None, 500),\n",
       " ('l2', None, 1000),\n",
       " ('l2', None, 30),\n",
       " ('l2', 'balanced', 500),\n",
       " ('l2', 'balanced', 1000),\n",
       " ('l2', 'balanced', 30)]"
      ]
     },
     "execution_count": 11,
     "metadata": {},
     "output_type": "execute_result"
    }
   ],
   "source": [
    "combinations"
   ]
  },
  {
   "cell_type": "code",
   "execution_count": null,
   "id": "cf35c015-8512-40b4-b56c-e6b51b6b0da0",
   "metadata": {},
   "outputs": [],
   "source": []
  }
 ],
 "metadata": {
  "kernelspec": {
   "display_name": "clusterenv",
   "language": "python",
   "name": "clusterenv"
  },
  "language_info": {
   "codemirror_mode": {
    "name": "ipython",
    "version": 3
   },
   "file_extension": ".py",
   "mimetype": "text/x-python",
   "name": "python",
   "nbconvert_exporter": "python",
   "pygments_lexer": "ipython3",
   "version": "3.8.13"
  }
 },
 "nbformat": 4,
 "nbformat_minor": 5
}
